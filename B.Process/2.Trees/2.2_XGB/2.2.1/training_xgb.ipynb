{
 "cells": [
  {
   "cell_type": "code",
   "outputs": [],
   "source": [
    "import os\n",
    "current_directory = os.getcwd()\n",
    "folder_name = os.path.basename(current_directory)\n",
    "number = folder_name"
   ],
   "metadata": {
    "collapsed": false,
    "ExecuteTime": {
     "end_time": "2024-12-29T12:33:41.891959800Z",
     "start_time": "2024-12-29T12:33:41.874957700Z"
    }
   },
   "id": "49a09a63dd634158",
   "execution_count": 1
  },
  {
   "cell_type": "code",
   "outputs": [],
   "source": [
    "CONFIG = {\n",
    "    'data_main': 'C:/Users/Николай/PycharmProjects/CIBMTR/D.Data/main/',\n",
    "    'data_train_process': 'C:/Users/Николай/PycharmProjects/CIBMTR/D.Data/train_process/',\n",
    "    'data_train_split': 'C:/Users/Николай/PycharmProjects/CIBMTR/D.Data/train_split/',\n",
    "    'train_path': 'train.csv',\n",
    "    'folds_path': 'v1.csv', \n",
    "\n",
    "    'DEVICE' : 'cuda',\n",
    "    'SEED' : 42,\n",
    "}"
   ],
   "metadata": {
    "collapsed": false,
    "ExecuteTime": {
     "end_time": "2024-12-29T12:33:41.907958700Z",
     "start_time": "2024-12-29T12:33:41.893959200Z"
    }
   },
   "id": "1a571c61251d2b00",
   "execution_count": 2
  },
  {
   "cell_type": "code",
   "outputs": [],
   "source": [
    "import optuna\n",
    "import pandas as pd\n",
    "import xgboost as xgb\n",
    "from sklearn.model_selection import StratifiedKFold\n",
    "import numpy as np\n",
    "import joblib \n",
    "from metric import score_\n",
    "from lifelines import KaplanMeierFitter"
   ],
   "metadata": {
    "collapsed": true,
    "ExecuteTime": {
     "end_time": "2024-12-29T12:33:42.750038600Z",
     "start_time": "2024-12-29T12:33:41.908959Z"
    }
   },
   "id": "initial_id",
   "execution_count": 3
  },
  {
   "cell_type": "code",
   "outputs": [],
   "source": [
    "def transform_survival_probability(df, time_col='efs_time', event_col='efs'):\n",
    "    kmf = KaplanMeierFitter()\n",
    "    kmf.fit(df[time_col], df[event_col])\n",
    "    y = kmf.survival_function_at_times(df[time_col]).values\n",
    "    return y"
   ],
   "metadata": {
    "collapsed": false,
    "ExecuteTime": {
     "end_time": "2024-12-29T12:33:42.766065700Z",
     "start_time": "2024-12-29T12:33:42.753030800Z"
    }
   },
   "id": "49255c1fd151853d",
   "execution_count": 4
  },
  {
   "cell_type": "code",
   "outputs": [],
   "source": [
    "# Load and prepare data\n",
    "train = pd.read_csv(f\"{CONFIG['data_main']}{CONFIG['train_path']}\")\n",
    "train = train.fillna('-1')\n",
    "\n",
    "for col in ['donor_age', 'age_at_hct']:\n",
    "    train[col] = train[col].astype(int)\n",
    "    \n",
    "train[\"y\"] = transform_survival_probability(train, time_col='efs_time', event_col='efs')\n",
    "\n",
    "cat_columns = [col for col in train.columns if col not in ['efs', 'efs_time', 'y', 'ID']]\n",
    "train[cat_columns] = train[cat_columns].astype(str)\n",
    "train_one_hot = pd.get_dummies(train[cat_columns], drop_first=True)\n",
    "train_one_hot.columns = train_one_hot.columns.str.replace(r'[^\\w\\s]', '', regex=True)"
   ],
   "metadata": {
    "collapsed": false,
    "ExecuteTime": {
     "end_time": "2024-12-29T12:33:43.310479500Z",
     "start_time": "2024-12-29T12:33:42.770030700Z"
    }
   },
   "id": "b0f1472628c44f39",
   "execution_count": 5
  },
  {
   "cell_type": "code",
   "outputs": [],
   "source": [
    "# Определение признаков и целевой переменной\n",
    "X = train_one_hot\n",
    "y = train['y']"
   ],
   "metadata": {
    "collapsed": false,
    "ExecuteTime": {
     "end_time": "2024-12-29T12:33:43.323405400Z",
     "start_time": "2024-12-29T12:33:43.307389500Z"
    }
   },
   "id": "93a14ea7b2f8008d",
   "execution_count": 6
  },
  {
   "cell_type": "code",
   "outputs": [],
   "source": [
    "# Установка параметров кросс-валидации\n",
    "n_splits = 2\n",
    "skf = StratifiedKFold(n_splits=n_splits, shuffle=True, random_state=CONFIG['SEED'])"
   ],
   "metadata": {
    "collapsed": false,
    "ExecuteTime": {
     "end_time": "2024-12-29T12:33:43.341425500Z",
     "start_time": "2024-12-29T12:33:43.321386800Z"
    }
   },
   "id": "9098c5698616dfcd",
   "execution_count": 7
  },
  {
   "cell_type": "code",
   "outputs": [],
   "source": [
    "# Фиксированные параметры\n",
    "fixed_params = {\n",
    "    'objective': 'reg:squarederror',\n",
    "    'verbosity': 0,\n",
    "    'tree_method': 'hist',\n",
    "    'n_jobs': -1,\n",
    "    'random_state': CONFIG['SEED'],\n",
    "    'missing': -1.0,\n",
    "    'device': 'cuda',\n",
    "    'eval_metric': 'rmse'\n",
    "}"
   ],
   "metadata": {
    "collapsed": false,
    "ExecuteTime": {
     "end_time": "2024-12-29T12:33:43.357424600Z",
     "start_time": "2024-12-29T12:33:43.338389800Z"
    }
   },
   "id": "8d711c4fbb5b488a",
   "execution_count": 8
  },
  {
   "cell_type": "code",
   "outputs": [],
   "source": [
    "# Функция для оптимизации XGBoost\n",
    "def optimize_xgb(trial):\n",
    "    params = {\n",
    "        'max_depth': trial.suggest_int('max_depth', 3, 100),\n",
    "        'max_leaves': trial.suggest_int('max_leaves', 3, 100),\n",
    "        'max_bin': trial.suggest_int('max_bin', 3, 100), \n",
    "        'grow_policy': trial.suggest_categorical('grow_policy', ['depthwise', 'lossguide']), \n",
    "        'learning_rate': trial.suggest_float('learning_rate', 0.0001, 0.01, log=True), #\n",
    "        'n_estimators': trial.suggest_int('n_estimators', 3, 100),\n",
    "        'gamma': trial.suggest_float('gamma', 0.01, 1, log=True), \n",
    "        'min_child_weight': trial.suggest_int('min_child_weight', 1, 100),\n",
    "        'max_delta_step': trial.suggest_int('max_delta_step', 1, 100), \n",
    "        'subsample': trial.suggest_float('subsample', 0.3, 1),\n",
    "        'sampling_method': trial.suggest_categorical('sampling_method', ['uniform', 'gradient_based']),\n",
    "        'colsample_bytree': trial.suggest_float('colsample_bytree', 0.3, 1),\n",
    "        'colsample_bylevel': trial.suggest_float('colsample_bylevel', 0.3, 1),\n",
    "        'reg_alpha': trial.suggest_float('reg_alpha', 1e-7, 1e-2, log=True),\n",
    "        'reg_lambda': trial.suggest_float('reg_lambda', 1e-7, 1e-2, log=True),\n",
    "        'importance_type': trial.suggest_categorical('importance_type', ['weight', 'gain', 'cover']),\n",
    "        'early_stopping_rounds': 300\n",
    "\n",
    "    }\n",
    "    # Объединение оптимизированных и фиксированных параметров\n",
    "    final_params = {**fixed_params, **params}\n",
    "    \n",
    "    scores = []\n",
    "    \n",
    "    for train_idx, valid_idx in skf.split(X, train['race_group']):\n",
    "        X_train, X_valid = X.iloc[train_idx], X.iloc[valid_idx]\n",
    "        y_train, y_valid = y.iloc[train_idx], y.iloc[valid_idx]\n",
    "        \n",
    "        dtrain = xgb.DMatrix(X_train.to_numpy(), label=y_train, missing=np.nan)\n",
    "        dvalid = xgb.DMatrix(X_valid.to_numpy(), label=y_valid, missing=np.nan)\n",
    "        \n",
    "        model = xgb.train(final_params, dtrain, evals=[(dvalid, 'eval')], verbose_eval=False)\n",
    "    \n",
    "        preds = model.predict(dvalid)\n",
    "        fold_score = score_(pd.DataFrame({'efs': train.iloc[valid_idx]['efs'].to_list(), \n",
    "                                          'efs_time' : train.iloc[valid_idx]['efs_time'].to_list(),\n",
    "                                          'race_group': train.iloc[valid_idx]['race_group'].to_list()}),\n",
    "                            pd.DataFrame(preds, columns=['prediction']))\n",
    "        scores.append(fold_score)\n",
    "    \n",
    "    return np.mean(scores)"
   ],
   "metadata": {
    "collapsed": false,
    "ExecuteTime": {
     "end_time": "2024-12-29T12:33:43.375401500Z",
     "start_time": "2024-12-29T12:33:43.358428600Z"
    }
   },
   "id": "6021b15c75bb6176",
   "execution_count": 9
  },
  {
   "cell_type": "code",
   "outputs": [
    {
     "name": "stderr",
     "output_type": "stream",
     "text": [
      "[I 2024-12-29 15:33:43,369] A new study created in memory with name: no-name-b77b0f4a-eb35-4c00-8fca-e3ecc4a524dd\n",
      "[I 2024-12-29 15:33:45,157] Trial 0 finished with value: 0.6265185595971899 and parameters: {'max_depth': 39, 'max_leaves': 96, 'max_bin': 74, 'grow_policy': 'depthwise', 'learning_rate': 0.00020511104188433984, 'n_estimators': 8, 'gamma': 0.5399484409787431, 'min_child_weight': 61, 'max_delta_step': 71, 'subsample': 0.3144091460070617, 'sampling_method': 'uniform', 'colsample_bytree': 0.44863737747479326, 'colsample_bylevel': 0.42727747704497043, 'reg_alpha': 8.260808399079598e-07, 'reg_lambda': 3.3205591037519573e-06, 'importance_type': 'weight'}. Best is trial 0 with value: 0.6265185595971899.\n",
      "[I 2024-12-29 15:33:46,183] Trial 1 finished with value: 0.6238514369939092 and parameters: {'max_depth': 62, 'max_leaves': 16, 'max_bin': 31, 'grow_policy': 'lossguide', 'learning_rate': 0.0037183641805732083, 'n_estimators': 22, 'gamma': 0.10677482709481352, 'min_child_weight': 60, 'max_delta_step': 5, 'subsample': 0.7252813963310067, 'sampling_method': 'uniform', 'colsample_bytree': 0.9642198760773333, 'colsample_bylevel': 0.9759424231521916, 'reg_alpha': 0.001101505679026963, 'reg_lambda': 3.334792728637585e-06, 'importance_type': 'gain'}. Best is trial 0 with value: 0.6265185595971899.\n",
      "[I 2024-12-29 15:33:47,193] Trial 2 finished with value: 0.6294562019116953 and parameters: {'max_depth': 14, 'max_leaves': 51, 'max_bin': 6, 'grow_policy': 'depthwise', 'learning_rate': 0.0021137059440645744, 'n_estimators': 33, 'gamma': 0.10968217207529521, 'min_child_weight': 55, 'max_delta_step': 19, 'subsample': 0.9787092394351908, 'sampling_method': 'gradient_based', 'colsample_bytree': 0.9263791452993542, 'colsample_bylevel': 0.7185299851677596, 'reg_alpha': 0.004067908494359549, 'reg_lambda': 2.7698899227562795e-07, 'importance_type': 'cover'}. Best is trial 2 with value: 0.6294562019116953.\n",
      "[I 2024-12-29 15:33:48,201] Trial 3 finished with value: 0.628710376738708 and parameters: {'max_depth': 41, 'max_leaves': 29, 'max_bin': 84, 'grow_policy': 'depthwise', 'learning_rate': 0.001217284708112243, 'n_estimators': 16, 'gamma': 0.40215545266902863, 'min_child_weight': 8, 'max_delta_step': 99, 'subsample': 0.8405713385076601, 'sampling_method': 'uniform', 'colsample_bytree': 0.8708229999183839, 'colsample_bylevel': 0.7948001406933319, 'reg_alpha': 0.00044160688951185945, 'reg_lambda': 0.0007183758655813995, 'importance_type': 'gain'}. Best is trial 2 with value: 0.6294562019116953.\n",
      "[I 2024-12-29 15:33:49,444] Trial 4 finished with value: 0.6347004761506169 and parameters: {'max_depth': 87, 'max_leaves': 64, 'max_bin': 35, 'grow_policy': 'lossguide', 'learning_rate': 0.0004470608546778491, 'n_estimators': 74, 'gamma': 0.18841476921545083, 'min_child_weight': 89, 'max_delta_step': 48, 'subsample': 0.3837159721568112, 'sampling_method': 'gradient_based', 'colsample_bytree': 0.6928940382986473, 'colsample_bylevel': 0.8396770259681927, 'reg_alpha': 2.9442723591496814e-05, 'reg_lambda': 4.108318894699925e-05, 'importance_type': 'weight'}. Best is trial 4 with value: 0.6347004761506169.\n",
      "[W 2024-12-29 15:33:49,720] Trial 5 failed with parameters: {'max_depth': 6, 'max_leaves': 65, 'max_bin': 33, 'grow_policy': 'lossguide', 'learning_rate': 0.00031519872951938895, 'n_estimators': 43, 'gamma': 0.3244160088734159, 'min_child_weight': 23, 'max_delta_step': 8, 'subsample': 0.5028260170396376, 'sampling_method': 'gradient_based', 'colsample_bytree': 0.8656842656950918, 'colsample_bylevel': 0.7433826295572964, 'reg_alpha': 0.0022766850248686268, 'reg_lambda': 0.001043182720005491, 'importance_type': 'gain'} because of the following error: KeyboardInterrupt().\n",
      "Traceback (most recent call last):\n",
      "  File \"C:\\Users\\Николай\\PycharmProjects\\CIBMTR\\.venv\\lib\\site-packages\\optuna\\study\\_optimize.py\", line 197, in _run_trial\n",
      "    value_or_values = func(trial)\n",
      "  File \"C:\\Users\\Николай\\AppData\\Local\\Temp\\ipykernel_8872\\153265197.py\", line 35, in optimize_xgb\n",
      "    model = xgb.train(final_params, dtrain, evals=[(dvalid, 'eval')], verbose_eval=False)\n",
      "  File \"C:\\Users\\Николай\\PycharmProjects\\CIBMTR\\.venv\\lib\\site-packages\\xgboost\\core.py\", line 726, in inner_f\n",
      "    return func(**kwargs)\n",
      "  File \"C:\\Users\\Николай\\PycharmProjects\\CIBMTR\\.venv\\lib\\site-packages\\xgboost\\training.py\", line 181, in train\n",
      "    bst.update(dtrain, iteration=i, fobj=obj)\n",
      "  File \"C:\\Users\\Николай\\PycharmProjects\\CIBMTR\\.venv\\lib\\site-packages\\xgboost\\core.py\", line 2101, in update\n",
      "    _LIB.XGBoosterUpdateOneIter(\n",
      "KeyboardInterrupt\n",
      "[W 2024-12-29 15:33:49,722] Trial 5 failed with value None.\n",
      "\n",
      "KeyboardInterrupt\n",
      "\n"
     ]
    }
   ],
   "source": [
    "# Оптимизация гиперпараметров с помощью Optuna\n",
    "study_xgb = optuna.create_study(direction='maximize', sampler=optuna.samplers.TPESampler(seed=42))\n",
    "study_xgb.optimize(optimize_xgb, n_trials=25)"
   ],
   "metadata": {
    "collapsed": false,
    "ExecuteTime": {
     "end_time": "2024-12-29T12:33:49.838696500Z",
     "start_time": "2024-12-29T12:33:43.369387800Z"
    }
   },
   "id": "a14441d9ebaefde6",
   "execution_count": 10
  },
  {
   "cell_type": "code",
   "outputs": [],
   "source": [
    "best_params_xgb = study_xgb.best_params"
   ],
   "metadata": {
    "collapsed": false,
    "ExecuteTime": {
     "start_time": "2024-12-29T12:33:49.837682200Z"
    }
   },
   "id": "5ed2bd0cd4dfe72c",
   "execution_count": null
  },
  {
   "cell_type": "code",
   "outputs": [],
   "source": [
    "# Объединение лучших параметров с фиксированными\n",
    "final_params = {**fixed_params, **best_params_xgb}"
   ],
   "metadata": {
    "collapsed": false,
    "ExecuteTime": {
     "start_time": "2024-12-29T12:33:49.838696500Z"
    }
   },
   "id": "207e65c5fd60875a",
   "execution_count": null
  },
  {
   "cell_type": "code",
   "outputs": [],
   "source": [
    "# Финальное обучение на всей выборке и сохранение моделей\n",
    "final_xgb = xgb.XGBRegressor(**final_params)\n",
    "final_xgb.fit(X, y)\n",
    "joblib.dump(final_xgb, 'final_xgb_model.pkl')"
   ],
   "metadata": {
    "collapsed": false,
    "ExecuteTime": {
     "end_time": "2024-12-29T12:33:49.840682800Z",
     "start_time": "2024-12-29T12:33:49.840682800Z"
    }
   },
   "id": "4b961430200cbfeb",
   "execution_count": null
  },
  {
   "cell_type": "code",
   "outputs": [
    {
     "name": "stdout",
     "output_type": "stream",
     "text": [
      "[0]\teval-rmse:0.17302\n",
      "[1]\teval-rmse:0.17062\n",
      "[2]\teval-rmse:0.16904\n",
      "[3]\teval-rmse:0.16791\n",
      "[4]\teval-rmse:0.16722\n",
      "[5]\teval-rmse:0.16678\n",
      "[6]\teval-rmse:0.16635\n",
      "[7]\teval-rmse:0.16583\n",
      "[8]\teval-rmse:0.16542\n",
      "[9]\teval-rmse:0.16502\n",
      "[10]\teval-rmse:0.16451\n",
      "[11]\teval-rmse:0.16416\n",
      "[12]\teval-rmse:0.16410\n",
      "[13]\teval-rmse:0.16409\n",
      "[14]\teval-rmse:0.16377\n",
      "[15]\teval-rmse:0.16376\n",
      "[16]\teval-rmse:0.16360\n",
      "[17]\teval-rmse:0.16345\n",
      "[18]\teval-rmse:0.16344\n",
      "[19]\teval-rmse:0.16316\n",
      "[20]\teval-rmse:0.16300\n",
      "[21]\teval-rmse:0.16287\n",
      "[22]\teval-rmse:0.16286\n",
      "[23]\teval-rmse:0.16264\n",
      "[24]\teval-rmse:0.16263\n",
      "[25]\teval-rmse:0.16261\n",
      "[26]\teval-rmse:0.16251\n",
      "[27]\teval-rmse:0.16263\n",
      "[28]\teval-rmse:0.16260\n",
      "[29]\teval-rmse:0.16259\n",
      "[30]\teval-rmse:0.16262\n",
      "[31]\teval-rmse:0.16257\n",
      "[32]\teval-rmse:0.16258\n",
      "[33]\teval-rmse:0.16265\n",
      "[34]\teval-rmse:0.16275\n",
      "[35]\teval-rmse:0.16281\n",
      "[36]\teval-rmse:0.16282\n",
      "[37]\teval-rmse:0.16277\n",
      "[38]\teval-rmse:0.16283\n",
      "[39]\teval-rmse:0.16283\n",
      "[40]\teval-rmse:0.16279\n",
      "[41]\teval-rmse:0.16272\n",
      "[42]\teval-rmse:0.16264\n",
      "[43]\teval-rmse:0.16262\n",
      "[44]\teval-rmse:0.16256\n",
      "[45]\teval-rmse:0.16256\n",
      "[46]\teval-rmse:0.16251\n",
      "[47]\teval-rmse:0.16262\n",
      "[48]\teval-rmse:0.16258\n",
      "[49]\teval-rmse:0.16263\n",
      "[50]\teval-rmse:0.16256\n",
      "[51]\teval-rmse:0.16258\n",
      "[52]\teval-rmse:0.16254\n",
      "[53]\teval-rmse:0.16252\n",
      "[54]\teval-rmse:0.16254\n",
      "[55]\teval-rmse:0.16247\n",
      "[56]\teval-rmse:0.16255\n",
      "[57]\teval-rmse:0.16261\n",
      "[58]\teval-rmse:0.16273\n",
      "[59]\teval-rmse:0.16275\n",
      "[60]\teval-rmse:0.16284\n",
      "[61]\teval-rmse:0.16284\n",
      "[62]\teval-rmse:0.16283\n",
      "[63]\teval-rmse:0.16281\n",
      "[64]\teval-rmse:0.16271\n",
      "[65]\teval-rmse:0.16268\n",
      "[66]\teval-rmse:0.16277\n",
      "[67]\teval-rmse:0.16291\n",
      "[68]\teval-rmse:0.16285\n",
      "[69]\teval-rmse:0.16287\n",
      "[70]\teval-rmse:0.16284\n",
      "[71]\teval-rmse:0.16287\n",
      "[72]\teval-rmse:0.16281\n",
      "[73]\teval-rmse:0.16281\n",
      "[74]\teval-rmse:0.16279\n",
      "Fold score: 0.6457454677991791\n"
     ]
    }
   ],
   "source": [
    "n_splits = 5\n",
    "skf = StratifiedKFold(n_splits=n_splits, shuffle=True, random_state=CONFIG['SEED'])\n",
    "\n",
    "# Фиксированные параметры для XGBoost\n",
    "fixed_params = {\n",
    "    'objective': 'reg:squarederror',\n",
    "    'verbosity': 0,\n",
    "    'tree_method': 'hist',\n",
    "    'n_jobs': -1,\n",
    "    'random_state': CONFIG['SEED'],\n",
    "    'missing': -1.0,\n",
    "    'device': 'cuda',\n",
    "    'eval_metric': 'rmse'\n",
    "}\n",
    "\n",
    "# Фиксируем один фолд для обучения\n",
    "train_idx, valid_idx = list(skf.split(X, train['race_group']))[0]  # Берем первый фолд\n",
    "\n",
    "# Разделение на тренировочные и валидационные данные\n",
    "X_train, X_valid = X.iloc[train_idx], X.iloc[valid_idx]\n",
    "y_train, y_valid = y.iloc[train_idx], y.iloc[valid_idx]\n",
    "\n",
    "# Преобразуем в DMatrix для XGBoost\n",
    "dtrain = xgb.DMatrix(X_train.to_numpy(), label=y_train, missing=np.nan)\n",
    "dvalid = xgb.DMatrix(X_valid.to_numpy(), label=y_valid, missing=np.nan)\n",
    "\n",
    "# Обучение модели\n",
    "model = xgb.train(fixed_params, dtrain, evals=[(dvalid, 'eval')], verbose_eval=True, num_boost_round=75)\n",
    "\n",
    "# Предсказания\n",
    "preds = model.predict(dvalid)\n",
    "\n",
    "# Вычисление скора\n",
    "fold_score = score_(pd.DataFrame({'efs': train.iloc[valid_idx]['efs'].to_list(), \n",
    "                                  'efs_time' : train.iloc[valid_idx]['efs_time'].to_list(),\n",
    "                                  'race_group': train.iloc[valid_idx]['race_group'].to_list()}),\n",
    "                    pd.DataFrame(preds, columns=['prediction']))\n",
    "\n",
    "# Вывод результата\n",
    "print(f'Fold score: {fold_score}')"
   ],
   "metadata": {
    "collapsed": false,
    "ExecuteTime": {
     "end_time": "2024-12-29T12:35:14.104521800Z",
     "start_time": "2024-12-29T12:35:12.924717600Z"
    }
   },
   "id": "28e41f0176cebb1a",
   "execution_count": 26
  },
  {
   "cell_type": "code",
   "outputs": [],
   "source": [],
   "metadata": {
    "collapsed": false,
    "ExecuteTime": {
     "end_time": "2024-12-29T12:33:49.847726400Z",
     "start_time": "2024-12-29T12:33:49.842642400Z"
    }
   },
   "id": "450967648f3505c9",
   "execution_count": null
  }
 ],
 "metadata": {
  "kernelspec": {
   "display_name": "Python 3",
   "language": "python",
   "name": "python3"
  },
  "language_info": {
   "codemirror_mode": {
    "name": "ipython",
    "version": 2
   },
   "file_extension": ".py",
   "mimetype": "text/x-python",
   "name": "python",
   "nbconvert_exporter": "python",
   "pygments_lexer": "ipython2",
   "version": "2.7.6"
  }
 },
 "nbformat": 4,
 "nbformat_minor": 5
}
