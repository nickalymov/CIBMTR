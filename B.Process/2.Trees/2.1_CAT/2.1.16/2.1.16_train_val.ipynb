{
 "cells": [
  {
   "cell_type": "code",
   "outputs": [],
   "source": [
    "import os\n",
    "current_directory = os.getcwd()\n",
    "folder_name = os.path.basename(current_directory)\n",
    "number = folder_name"
   ],
   "metadata": {
    "collapsed": false,
    "ExecuteTime": {
     "end_time": "2025-01-03T16:34:50.922499200Z",
     "start_time": "2025-01-03T16:34:50.914501200Z"
    }
   },
   "id": "cb2065b8802f8251",
   "execution_count": 1
  },
  {
   "cell_type": "code",
   "outputs": [],
   "source": [
    "CONFIG = {\n",
    "    'data_main': 'C:/Users/Николай/PycharmProjects/CIBMTR/D.Data/main/',\n",
    "    'train_path': 'train.csv',\n",
    "    'SEED' : 42,\n",
    "}"
   ],
   "metadata": {
    "collapsed": false,
    "ExecuteTime": {
     "end_time": "2025-01-03T16:34:50.936461400Z",
     "start_time": "2025-01-03T16:34:50.923502100Z"
    }
   },
   "id": "9174032d882584ac",
   "execution_count": 2
  },
  {
   "cell_type": "code",
   "outputs": [],
   "source": [
    "from catboost import CatBoostRegressor\n",
    "import pandas as pd\n",
    "from sklearn.model_selection import StratifiedKFold\n",
    "import numpy as np\n",
    "import joblib \n",
    "from metric import score__\n",
    "from lifelines import KaplanMeierFitter"
   ],
   "metadata": {
    "collapsed": false,
    "ExecuteTime": {
     "end_time": "2025-01-03T16:34:51.716570700Z",
     "start_time": "2025-01-03T16:34:50.937462300Z"
    }
   },
   "id": "b015da9f4c673f76",
   "execution_count": 3
  },
  {
   "cell_type": "code",
   "outputs": [],
   "source": [
    "data_exp = pd.read_csv(f\"{CONFIG['data_main']}data_dictionary.csv\")"
   ],
   "metadata": {
    "collapsed": false,
    "ExecuteTime": {
     "end_time": "2025-01-03T16:34:51.731269300Z",
     "start_time": "2025-01-03T16:34:51.718543100Z"
    }
   },
   "id": "6b48759e6d9d5ab8",
   "execution_count": 4
  },
  {
   "cell_type": "code",
   "outputs": [],
   "source": [
    "train = pd.read_csv(f\"{CONFIG['data_main']}{CONFIG['train_path']}\")\n",
    "train[['sex_1', 'sex_2']] = train['sex_match'].str.split('-', expand=True)\n",
    "def transform_survival_probability(df, time_col='efs_time', event_col='efs'):\n",
    "\n",
    "    kmf = KaplanMeierFitter()\n",
    "    kmf.fit(df[time_col], event_observed=df[event_col])\n",
    "    survival_probabilities = kmf.survival_function_at_times(df[time_col]).values.flatten()\n",
    "    return survival_probabilities\n",
    "\n",
    "def update_target_with_survival_probabilities(df, time_col='efs_time', event_col='efs'):\n",
    "\n",
    "    race_group = sorted(df['race_group'].unique())\n",
    "    survival_probs_dict = {}\n",
    "    for race in race_group:\n",
    "        race_df = df[df['race_group'] == race]\n",
    "        survival_probs_dict[race] = transform_survival_probability(race_df, time_col, event_col)\n",
    "    for race in race_group:\n",
    "        df.loc[df['race_group'] == race, 'target'] = survival_probs_dict[race]\n",
    "    df.loc[df[event_col] == 0, 'target'] -= 0.15\n",
    "    \n",
    "    return df\n",
    "\n",
    "train = update_target_with_survival_probabilities(train, time_col='efs_time', event_col='efs')\n",
    "train.rename(columns={'target': 'y'}, inplace=True)\n",
    "train.drop(columns=['ID'], inplace=True)\n",
    "    \n",
    "\n",
    "\n",
    "num_columns = []\n",
    "for i, row in data_exp.iterrows():\n",
    "    if row['type'] == 'Numerical':\n",
    "        num_columns.append(row['variable'])\n",
    "num_columns.append('y')\n",
    "num_columns.append('efs')\n",
    "cat_columns = [col for col in train.columns if col not in num_columns]\n",
    "num_columns.remove('y')\n",
    "num_columns.remove('efs')\n",
    "num_columns.remove('efs_time')\n",
    "\n",
    "na_num_columns = []\n",
    "for col in num_columns:\n",
    "    train[f\"{col}_nan\"] = train[col].isna().astype(int)\n",
    "    na_num_columns.append(f\"{col}_nan\")\n",
    "    \n",
    "num_columns.extend(na_num_columns)\n",
    "\n",
    "# for col in train[['age_at_hct', 'donor_age']].columns:\n",
    "#     train[col] = train[col].fillna(train[col].mode()[0])\n",
    "for col in train[cat_columns].columns:\n",
    "    train[col] = train[col].astype(str)\n",
    "    j_ch = ',[]{}:\"\\\\<'  # набор символов для удаления\n",
    "    for ch in j_ch:\n",
    "        train[col] = train[col].apply(lambda x: str(x).replace(ch, ''))\n",
    "train_one_hot = pd.get_dummies(train[cat_columns])\n",
    "cat_columns = list(train_one_hot.columns)\n",
    "train_one_hot = pd.concat([train_one_hot, train[num_columns]], axis=1)"
   ],
   "metadata": {
    "collapsed": false,
    "ExecuteTime": {
     "end_time": "2025-01-03T16:34:53.106281Z",
     "start_time": "2025-01-03T16:34:51.737220600Z"
    }
   },
   "id": "214abe3370778cbd",
   "execution_count": 5
  },
  {
   "cell_type": "code",
   "outputs": [],
   "source": [
    "X = train_one_hot\n",
    "y = train['y']"
   ],
   "metadata": {
    "collapsed": false,
    "ExecuteTime": {
     "end_time": "2025-01-03T16:34:53.123426Z",
     "start_time": "2025-01-03T16:34:53.107299100Z"
    }
   },
   "id": "eb925cb7123ec6",
   "execution_count": 6
  },
  {
   "cell_type": "code",
   "outputs": [],
   "source": [
    "n_splits = 5\n",
    "skf = StratifiedKFold(n_splits=n_splits, shuffle=True, random_state=CONFIG['SEED'])"
   ],
   "metadata": {
    "collapsed": false,
    "ExecuteTime": {
     "end_time": "2025-01-03T16:34:53.147421600Z",
     "start_time": "2025-01-03T16:34:53.123426Z"
    }
   },
   "id": "30d7e73c149b9248",
   "execution_count": 7
  },
  {
   "cell_type": "code",
   "outputs": [],
   "source": [
    "fixed_params = {\n",
    "    'model_size_reg': 0, # default=0.5, possible=[0, inf)\n",
    "    'rsm': 1, # default=1, possible=[0, inf), alias='colsample_bylevel'\n",
    "    'loss_function': 'RMSE', # default='RMSE\", possible=..., alias='objective'\n",
    "    'feature_border_type': 'GreedyLogSum', # default='GreedyLogSum  \", possible=['Median', 'Uniform', 'UniformAndQuantiles', 'MaxLogSum', 'MinEntropy', 'GreedyLogSum']\n",
    "    'leaf_estimation_method': 'Newton', # default=..., possible=['Newton', 'Gradient', 'Exact']\n",
    "    'random_seed': CONFIG['SEED'],\n",
    "    'use_best_model': False, # default=True, possible=[True, False]\n",
    "    'logging_level': 'Silent', # default=True, possible=[True, False]\n",
    "    'max_ctr_complexity': 15, # default=True, possible=[1, 16)\n",
    "    'one_hot_max_size': 50, # default=True, possible=[2, inf)\n",
    "    'random_strength' : 0, # default=1, possible=[0, inf)\n",
    "    'eval_metric': 'RMSE',\n",
    "    'allow_writing_files': False,\n",
    "    'task_type': 'GPU',\n",
    "    'bootstrap_type': 'Bayesian',\n",
    "    'early_stopping_rounds': 250,\n",
    "    'grow_policy': 'Lossguide', # default='SymmetricTree', possible=['SymmetricTree', 'Depthwise']\n",
    "    'score_function': 'NewtonL2', # default='Cosine', possible=['Cosine ', 'L2', 'NewtonCosine', 'NewtonL2']\n",
    "    'leaf_estimation_backtracking': 'AnyImprovement',\n",
    "    'boost_from_average': True\n",
    "}"
   ],
   "metadata": {
    "collapsed": false,
    "ExecuteTime": {
     "end_time": "2025-01-03T16:34:53.154451900Z",
     "start_time": "2025-01-03T16:34:53.141414Z"
    }
   },
   "id": "fcfa2d6ba97ee9c5",
   "execution_count": 8
  },
  {
   "cell_type": "code",
   "outputs": [
    {
     "name": "stdout",
     "output_type": "stream",
     "text": [
      "Средний результат модели: 0.6839687728728924\n"
     ]
    }
   ],
   "source": [
    "# Объединение фиксированных параметров модели и гиперпараметров\n",
    "final_params = {**fixed_params}\n",
    "\n",
    "scores = []\n",
    "\n",
    "for train_idx, valid_idx in skf.split(X, train['race_group']):\n",
    "    X_train, X_valid = X.iloc[train_idx], X.iloc[valid_idx]\n",
    "    y_train, y_valid = y.iloc[train_idx], y.iloc[valid_idx]\n",
    "\n",
    "    model = CatBoostRegressor(cat_features=cat_columns, **final_params)\n",
    "    model.fit(X_train, y_train, eval_set=[(X_valid, y_valid)], verbose=False)\n",
    "\n",
    "    preds = model.predict(X_valid)  \n",
    "    fold_score = score__(pd.DataFrame({'efs': train.iloc[valid_idx]['efs'].to_list(),\n",
    "                                       'efs_time': train.iloc[valid_idx]['efs_time'].to_list(),\n",
    "                                       'race_group': train.iloc[valid_idx]['race_group'].to_list()}),\n",
    "                         pd.DataFrame(preds, columns=['prediction']))\n",
    "    scores.append(fold_score)\n",
    "\n",
    "# Средний результат модели\n",
    "mean_score = np.mean(scores)\n",
    "print(f\"Средний результат модели: {mean_score}\")"
   ],
   "metadata": {
    "collapsed": false,
    "ExecuteTime": {
     "end_time": "2025-01-03T16:36:10.592726500Z",
     "start_time": "2025-01-03T16:34:53.158341800Z"
    }
   },
   "id": "822442d754407434",
   "execution_count": 9
  },
  {
   "cell_type": "code",
   "outputs": [
    {
     "data": {
      "text/plain": "<catboost.core.CatBoostRegressor at 0x1a7cf25b100>"
     },
     "execution_count": 10,
     "metadata": {},
     "output_type": "execute_result"
    }
   ],
   "source": [
    "final_cat = CatBoostRegressor(cat_features=cat_columns, **fixed_params)\n",
    "final_cat.fit(X, y)"
   ],
   "metadata": {
    "collapsed": false,
    "ExecuteTime": {
     "end_time": "2025-01-03T16:36:24.420625500Z",
     "start_time": "2025-01-03T16:36:10.594750400Z"
    }
   },
   "id": "97782c5be4517c4e",
   "execution_count": 10
  },
  {
   "cell_type": "code",
   "outputs": [
    {
     "data": {
      "text/plain": "['2.1.16_model.pkl']"
     },
     "execution_count": 11,
     "metadata": {},
     "output_type": "execute_result"
    }
   ],
   "source": [
    "joblib.dump(final_cat, f\"{number}_model.pkl\")"
   ],
   "metadata": {
    "collapsed": false,
    "ExecuteTime": {
     "end_time": "2025-01-03T16:36:24.457206900Z",
     "start_time": "2025-01-03T16:36:24.421608900Z"
    }
   },
   "id": "2b2e3bf4e98d533d",
   "execution_count": 11
  },
  {
   "cell_type": "code",
   "outputs": [],
   "source": [
    "cat_importance = final_cat.get_feature_importance()"
   ],
   "metadata": {
    "collapsed": false,
    "ExecuteTime": {
     "end_time": "2025-01-03T16:36:24.487202900Z",
     "start_time": "2025-01-03T16:36:24.451217400Z"
    }
   },
   "id": "3e50b9cbcbd85c7f",
   "execution_count": 12
  },
  {
   "cell_type": "code",
   "outputs": [
    {
     "name": "stdout",
     "output_type": "stream",
     "text": [
      "CatBoost Feature Importances:\n",
      "                                 Feature  Importance\n",
      "102          conditioning_intensity_nan   11.474167\n",
      "0                        dri_score_High    7.045324\n",
      "214                   comorbidity_score    6.880743\n",
      "207                            year_hct    5.437898\n",
      "209                           donor_age    5.039526\n",
      "..                                  ...         ...\n",
      "233                      age_at_hct_nan    0.000000\n",
      "41          graft_type_Peripheral blood    0.000000\n",
      "89                         prod_type_PB    0.000000\n",
      "144  gvhd_proph_FK+- others(not MMFMTX)    0.000000\n",
      "229                        year_hct_nan    0.000000\n",
      "\n",
      "[241 rows x 2 columns]\n"
     ]
    }
   ],
   "source": [
    "cat_importance_df = pd.DataFrame({\n",
    "    'Feature': X.columns,\n",
    "    'Importance': cat_importance\n",
    "}).sort_values(by='Importance', ascending=False)\n",
    "\n",
    "print(\"CatBoost Feature Importances:\\n\", cat_importance_df)"
   ],
   "metadata": {
    "collapsed": false,
    "ExecuteTime": {
     "end_time": "2025-01-03T16:36:24.500193200Z",
     "start_time": "2025-01-03T16:36:24.482320200Z"
    }
   },
   "id": "7b65d88176d2873f",
   "execution_count": 13
  },
  {
   "cell_type": "code",
   "outputs": [],
   "source": [
    "# auto_params = ['per_float_feature_quantization', 'input_borders', 'output_borders', 'fold_permutation_block', 'counter_calc_method', 'thread_count', 'best_model_min_trees', 'verbose', 'silent', 'metric_period', 'ctr_leaf_count_limit', 'store_all_simple_ctr', 'has_time', 'allow_const_label', 'target_border', 'random_score_type', 'name', 'ignored_features', 'train_dir', 'custom_metric', 'save_snapshot', 'snapshot_file', 'snapshot_interval', 'fold_len_multiplier', 'used_ram_limit', 'gpu_ram_part', 'pinned_memory_size', 'final_ctr_computation_mode', 'simple_ctr', 'combinations_ctr', 'per_feature_ctr', 'ctr_description', 'ctr_target_border_count', 'device_config', 'devices', 'subsample', 'mvs_reg', 'sampling_frequency', 'sampling_unit', 'subsampling_factor', 'dev_score_calc_obj_block_size', 'dev_efb_max_buckets', 'sparse_features_conflict_fraction', 'max_depth', 'n_estimators', 'num_boost_round', 'num_trees', 'colsample_bylevel', 'random_state', 'reg_lambda', 'reg_lambda', 'eta', 'max_bin', 'gpu_cat_features_storage', 'data_partition', 'metadata', 'min_data_in_leaf', 'min_child_samples', 'num_leaves', 'score_function', 'ctr_history_unit', 'monotone_constraints', 'feature_weights', 'penalties_coefficient', 'first_feature_use_penalties', 'per_object_feature_penalties', 'model_shrink_rate', 'model_shrink_mode', 'langevin', 'diffusion_temperature', 'posterior_sampling', 'text_features', 'tokenizers', 'dictionaries', 'feature_calcers', 'text_processing', 'embedding_features', 'eval_fraction', 'fixed_binary_splits', 'od_type', 'od_pval', 'od_wait', 'approx_on_full_history', 'boosting_type']"
   ],
   "metadata": {
    "collapsed": false,
    "ExecuteTime": {
     "end_time": "2025-01-03T16:36:24.515319700Z",
     "start_time": "2025-01-03T16:36:24.499275900Z"
    }
   },
   "id": "e3e9fd32b0938562",
   "execution_count": 14
  }
 ],
 "metadata": {
  "kernelspec": {
   "display_name": "Python 3",
   "language": "python",
   "name": "python3"
  },
  "language_info": {
   "codemirror_mode": {
    "name": "ipython",
    "version": 2
   },
   "file_extension": ".py",
   "mimetype": "text/x-python",
   "name": "python",
   "nbconvert_exporter": "python",
   "pygments_lexer": "ipython2",
   "version": "2.7.6"
  }
 },
 "nbformat": 4,
 "nbformat_minor": 5
}
