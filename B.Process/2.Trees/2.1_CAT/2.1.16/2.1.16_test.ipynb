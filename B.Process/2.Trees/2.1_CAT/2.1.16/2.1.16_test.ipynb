{
 "cells": [
  {
   "cell_type": "code",
   "outputs": [],
   "source": [
    "import os\n",
    "current_directory = os.getcwd()\n",
    "folder_name = os.path.basename(current_directory)\n",
    "number = folder_name"
   ],
   "metadata": {
    "collapsed": false,
    "ExecuteTime": {
     "end_time": "2025-01-03T16:36:53.072082700Z",
     "start_time": "2025-01-03T16:36:53.067070Z"
    }
   },
   "id": "cb2065b8802f8251",
   "execution_count": 1
  },
  {
   "cell_type": "code",
   "outputs": [],
   "source": [
    "import platform\n",
    "platform_name = platform.system()"
   ],
   "metadata": {
    "collapsed": false,
    "ExecuteTime": {
     "end_time": "2025-01-03T16:36:53.088060700Z",
     "start_time": "2025-01-03T16:36:53.075071400Z"
    }
   },
   "id": "c77f23bcf20968b4",
   "execution_count": 2
  },
  {
   "cell_type": "code",
   "outputs": [],
   "source": [
    "CONFIG = {\n",
    "    'test_path': 'test.csv',\n",
    "    'train_path': 'train.csv',\n",
    "\n",
    "    'DEVICE' : 'cuda',\n",
    "    'SEED' : 42,\n",
    "}\n",
    "if platform_name == 'Windows':\n",
    "    CONFIG['data_main'] = 'C:/Users/Николай/PycharmProjects/CIBMTR/D.Data/main/'\n",
    "    CONFIG['model_path'] = f\"{number}_model.pkl\"\n",
    "else:\n",
    "    CONFIG['data_main'] = '/kaggle/input/equity-post-HCT-survival-predictions/'\n",
    "    CONFIG['model_path'] = \"/kaggle/input/2.1.16_model.pkl/other/default/1/2.1.16_model.pkl\""
   ],
   "metadata": {
    "collapsed": false,
    "ExecuteTime": {
     "end_time": "2025-01-03T16:36:53.106012400Z",
     "start_time": "2025-01-03T16:36:53.089011400Z"
    }
   },
   "id": "9174032d882584ac",
   "execution_count": 3
  },
  {
   "cell_type": "code",
   "outputs": [],
   "source": [
    "\n",
    "import pandas as pd\n",
    "import joblib "
   ],
   "metadata": {
    "collapsed": false,
    "ExecuteTime": {
     "end_time": "2025-01-03T16:36:53.341354700Z",
     "start_time": "2025-01-03T16:36:53.105011100Z"
    }
   },
   "id": "b015da9f4c673f76",
   "execution_count": 4
  },
  {
   "cell_type": "code",
   "outputs": [],
   "source": [
    "data_exp = pd.read_csv(f\"{CONFIG['data_main']}data_dictionary.csv\")"
   ],
   "metadata": {
    "collapsed": false,
    "ExecuteTime": {
     "end_time": "2025-01-03T16:36:53.356033800Z",
     "start_time": "2025-01-03T16:36:53.342066700Z"
    }
   },
   "id": "e218515f86450cb5",
   "execution_count": 5
  },
  {
   "cell_type": "code",
   "outputs": [],
   "source": [
    "train = pd.read_csv(f\"{CONFIG['data_main']}{CONFIG['train_path']}\")\n",
    "train[['sex_1', 'sex_2']] = train['sex_match'].str.split('-', expand=True)\n",
    "train.drop(columns=['ID'], inplace=True)\n",
    "\n",
    "num_columns = []\n",
    "for i, row in data_exp.iterrows():\n",
    "    if row['type'] == 'Numerical':\n",
    "        num_columns.append(row['variable'])\n",
    "num_columns.append('efs')\n",
    "cat_columns = [col for col in train.columns if col not in num_columns]\n",
    "num_columns.remove('efs')\n",
    "num_columns.remove('efs_time')\n",
    "na_num_columns = []\n",
    "for col in num_columns:\n",
    "    train[f\"{col}_nan\"] = train[col].isna().astype(int)\n",
    "    na_num_columns.append(f\"{col}_nan\")\n",
    "    \n",
    "num_columns.extend(na_num_columns)\n",
    "\n",
    "for col in train[cat_columns].columns:\n",
    "    train[col] = train[col].astype(str)\n",
    "    j_ch = ',[]{}:\"\\\\<'  # набор символов для удаления\n",
    "    for ch in j_ch:\n",
    "        train[col] = train[col].apply(lambda x: str(x).replace(ch, ''))\n",
    "train_one_hot = pd.get_dummies(train[cat_columns])\n",
    "cat_columns = list(train_one_hot.columns)\n",
    "train_one_hot = pd.concat([train_one_hot, train[num_columns]], axis=1)"
   ],
   "metadata": {
    "collapsed": false,
    "ExecuteTime": {
     "end_time": "2025-01-03T16:36:54.726118600Z",
     "start_time": "2025-01-03T16:36:53.359021400Z"
    }
   },
   "id": "214abe3370778cbd",
   "execution_count": 6
  },
  {
   "cell_type": "code",
   "outputs": [
    {
     "name": "stderr",
     "output_type": "stream",
     "text": [
      "C:\\Users\\Николай\\AppData\\Local\\Temp\\ipykernel_13648\\3337230598.py:29: PerformanceWarning: DataFrame is highly fragmented.  This is usually the result of calling `frame.insert` many times, which has poor performance.  Consider joining all columns at once using pd.concat(axis=1) instead. To get a de-fragmented frame, use `newframe = frame.copy()`\n",
      "  test_one_hot[col] = False\n",
      "C:\\Users\\Николай\\AppData\\Local\\Temp\\ipykernel_13648\\3337230598.py:29: PerformanceWarning: DataFrame is highly fragmented.  This is usually the result of calling `frame.insert` many times, which has poor performance.  Consider joining all columns at once using pd.concat(axis=1) instead. To get a de-fragmented frame, use `newframe = frame.copy()`\n",
      "  test_one_hot[col] = False\n",
      "C:\\Users\\Николай\\AppData\\Local\\Temp\\ipykernel_13648\\3337230598.py:29: PerformanceWarning: DataFrame is highly fragmented.  This is usually the result of calling `frame.insert` many times, which has poor performance.  Consider joining all columns at once using pd.concat(axis=1) instead. To get a de-fragmented frame, use `newframe = frame.copy()`\n",
      "  test_one_hot[col] = False\n",
      "C:\\Users\\Николай\\AppData\\Local\\Temp\\ipykernel_13648\\3337230598.py:29: PerformanceWarning: DataFrame is highly fragmented.  This is usually the result of calling `frame.insert` many times, which has poor performance.  Consider joining all columns at once using pd.concat(axis=1) instead. To get a de-fragmented frame, use `newframe = frame.copy()`\n",
      "  test_one_hot[col] = False\n",
      "C:\\Users\\Николай\\AppData\\Local\\Temp\\ipykernel_13648\\3337230598.py:29: PerformanceWarning: DataFrame is highly fragmented.  This is usually the result of calling `frame.insert` many times, which has poor performance.  Consider joining all columns at once using pd.concat(axis=1) instead. To get a de-fragmented frame, use `newframe = frame.copy()`\n",
      "  test_one_hot[col] = False\n",
      "C:\\Users\\Николай\\AppData\\Local\\Temp\\ipykernel_13648\\3337230598.py:29: PerformanceWarning: DataFrame is highly fragmented.  This is usually the result of calling `frame.insert` many times, which has poor performance.  Consider joining all columns at once using pd.concat(axis=1) instead. To get a de-fragmented frame, use `newframe = frame.copy()`\n",
      "  test_one_hot[col] = False\n",
      "C:\\Users\\Николай\\AppData\\Local\\Temp\\ipykernel_13648\\3337230598.py:29: PerformanceWarning: DataFrame is highly fragmented.  This is usually the result of calling `frame.insert` many times, which has poor performance.  Consider joining all columns at once using pd.concat(axis=1) instead. To get a de-fragmented frame, use `newframe = frame.copy()`\n",
      "  test_one_hot[col] = False\n",
      "C:\\Users\\Николай\\AppData\\Local\\Temp\\ipykernel_13648\\3337230598.py:29: PerformanceWarning: DataFrame is highly fragmented.  This is usually the result of calling `frame.insert` many times, which has poor performance.  Consider joining all columns at once using pd.concat(axis=1) instead. To get a de-fragmented frame, use `newframe = frame.copy()`\n",
      "  test_one_hot[col] = False\n",
      "C:\\Users\\Николай\\AppData\\Local\\Temp\\ipykernel_13648\\3337230598.py:29: PerformanceWarning: DataFrame is highly fragmented.  This is usually the result of calling `frame.insert` many times, which has poor performance.  Consider joining all columns at once using pd.concat(axis=1) instead. To get a de-fragmented frame, use `newframe = frame.copy()`\n",
      "  test_one_hot[col] = False\n",
      "C:\\Users\\Николай\\AppData\\Local\\Temp\\ipykernel_13648\\3337230598.py:29: PerformanceWarning: DataFrame is highly fragmented.  This is usually the result of calling `frame.insert` many times, which has poor performance.  Consider joining all columns at once using pd.concat(axis=1) instead. To get a de-fragmented frame, use `newframe = frame.copy()`\n",
      "  test_one_hot[col] = False\n",
      "C:\\Users\\Николай\\AppData\\Local\\Temp\\ipykernel_13648\\3337230598.py:29: PerformanceWarning: DataFrame is highly fragmented.  This is usually the result of calling `frame.insert` many times, which has poor performance.  Consider joining all columns at once using pd.concat(axis=1) instead. To get a de-fragmented frame, use `newframe = frame.copy()`\n",
      "  test_one_hot[col] = False\n",
      "C:\\Users\\Николай\\AppData\\Local\\Temp\\ipykernel_13648\\3337230598.py:29: PerformanceWarning: DataFrame is highly fragmented.  This is usually the result of calling `frame.insert` many times, which has poor performance.  Consider joining all columns at once using pd.concat(axis=1) instead. To get a de-fragmented frame, use `newframe = frame.copy()`\n",
      "  test_one_hot[col] = False\n",
      "C:\\Users\\Николай\\AppData\\Local\\Temp\\ipykernel_13648\\3337230598.py:29: PerformanceWarning: DataFrame is highly fragmented.  This is usually the result of calling `frame.insert` many times, which has poor performance.  Consider joining all columns at once using pd.concat(axis=1) instead. To get a de-fragmented frame, use `newframe = frame.copy()`\n",
      "  test_one_hot[col] = False\n",
      "C:\\Users\\Николай\\AppData\\Local\\Temp\\ipykernel_13648\\3337230598.py:29: PerformanceWarning: DataFrame is highly fragmented.  This is usually the result of calling `frame.insert` many times, which has poor performance.  Consider joining all columns at once using pd.concat(axis=1) instead. To get a de-fragmented frame, use `newframe = frame.copy()`\n",
      "  test_one_hot[col] = False\n",
      "C:\\Users\\Николай\\AppData\\Local\\Temp\\ipykernel_13648\\3337230598.py:29: PerformanceWarning: DataFrame is highly fragmented.  This is usually the result of calling `frame.insert` many times, which has poor performance.  Consider joining all columns at once using pd.concat(axis=1) instead. To get a de-fragmented frame, use `newframe = frame.copy()`\n",
      "  test_one_hot[col] = False\n",
      "C:\\Users\\Николай\\AppData\\Local\\Temp\\ipykernel_13648\\3337230598.py:29: PerformanceWarning: DataFrame is highly fragmented.  This is usually the result of calling `frame.insert` many times, which has poor performance.  Consider joining all columns at once using pd.concat(axis=1) instead. To get a de-fragmented frame, use `newframe = frame.copy()`\n",
      "  test_one_hot[col] = False\n",
      "C:\\Users\\Николай\\AppData\\Local\\Temp\\ipykernel_13648\\3337230598.py:29: PerformanceWarning: DataFrame is highly fragmented.  This is usually the result of calling `frame.insert` many times, which has poor performance.  Consider joining all columns at once using pd.concat(axis=1) instead. To get a de-fragmented frame, use `newframe = frame.copy()`\n",
      "  test_one_hot[col] = False\n",
      "C:\\Users\\Николай\\AppData\\Local\\Temp\\ipykernel_13648\\3337230598.py:29: PerformanceWarning: DataFrame is highly fragmented.  This is usually the result of calling `frame.insert` many times, which has poor performance.  Consider joining all columns at once using pd.concat(axis=1) instead. To get a de-fragmented frame, use `newframe = frame.copy()`\n",
      "  test_one_hot[col] = False\n",
      "C:\\Users\\Николай\\AppData\\Local\\Temp\\ipykernel_13648\\3337230598.py:29: PerformanceWarning: DataFrame is highly fragmented.  This is usually the result of calling `frame.insert` many times, which has poor performance.  Consider joining all columns at once using pd.concat(axis=1) instead. To get a de-fragmented frame, use `newframe = frame.copy()`\n",
      "  test_one_hot[col] = False\n",
      "C:\\Users\\Николай\\AppData\\Local\\Temp\\ipykernel_13648\\3337230598.py:29: PerformanceWarning: DataFrame is highly fragmented.  This is usually the result of calling `frame.insert` many times, which has poor performance.  Consider joining all columns at once using pd.concat(axis=1) instead. To get a de-fragmented frame, use `newframe = frame.copy()`\n",
      "  test_one_hot[col] = False\n",
      "C:\\Users\\Николай\\AppData\\Local\\Temp\\ipykernel_13648\\3337230598.py:29: PerformanceWarning: DataFrame is highly fragmented.  This is usually the result of calling `frame.insert` many times, which has poor performance.  Consider joining all columns at once using pd.concat(axis=1) instead. To get a de-fragmented frame, use `newframe = frame.copy()`\n",
      "  test_one_hot[col] = False\n",
      "C:\\Users\\Николай\\AppData\\Local\\Temp\\ipykernel_13648\\3337230598.py:29: PerformanceWarning: DataFrame is highly fragmented.  This is usually the result of calling `frame.insert` many times, which has poor performance.  Consider joining all columns at once using pd.concat(axis=1) instead. To get a de-fragmented frame, use `newframe = frame.copy()`\n",
      "  test_one_hot[col] = False\n",
      "C:\\Users\\Николай\\AppData\\Local\\Temp\\ipykernel_13648\\3337230598.py:29: PerformanceWarning: DataFrame is highly fragmented.  This is usually the result of calling `frame.insert` many times, which has poor performance.  Consider joining all columns at once using pd.concat(axis=1) instead. To get a de-fragmented frame, use `newframe = frame.copy()`\n",
      "  test_one_hot[col] = False\n",
      "C:\\Users\\Николай\\AppData\\Local\\Temp\\ipykernel_13648\\3337230598.py:29: PerformanceWarning: DataFrame is highly fragmented.  This is usually the result of calling `frame.insert` many times, which has poor performance.  Consider joining all columns at once using pd.concat(axis=1) instead. To get a de-fragmented frame, use `newframe = frame.copy()`\n",
      "  test_one_hot[col] = False\n",
      "C:\\Users\\Николай\\AppData\\Local\\Temp\\ipykernel_13648\\3337230598.py:29: PerformanceWarning: DataFrame is highly fragmented.  This is usually the result of calling `frame.insert` many times, which has poor performance.  Consider joining all columns at once using pd.concat(axis=1) instead. To get a de-fragmented frame, use `newframe = frame.copy()`\n",
      "  test_one_hot[col] = False\n",
      "C:\\Users\\Николай\\AppData\\Local\\Temp\\ipykernel_13648\\3337230598.py:29: PerformanceWarning: DataFrame is highly fragmented.  This is usually the result of calling `frame.insert` many times, which has poor performance.  Consider joining all columns at once using pd.concat(axis=1) instead. To get a de-fragmented frame, use `newframe = frame.copy()`\n",
      "  test_one_hot[col] = False\n",
      "C:\\Users\\Николай\\AppData\\Local\\Temp\\ipykernel_13648\\3337230598.py:29: PerformanceWarning: DataFrame is highly fragmented.  This is usually the result of calling `frame.insert` many times, which has poor performance.  Consider joining all columns at once using pd.concat(axis=1) instead. To get a de-fragmented frame, use `newframe = frame.copy()`\n",
      "  test_one_hot[col] = False\n",
      "C:\\Users\\Николай\\AppData\\Local\\Temp\\ipykernel_13648\\3337230598.py:29: PerformanceWarning: DataFrame is highly fragmented.  This is usually the result of calling `frame.insert` many times, which has poor performance.  Consider joining all columns at once using pd.concat(axis=1) instead. To get a de-fragmented frame, use `newframe = frame.copy()`\n",
      "  test_one_hot[col] = False\n",
      "C:\\Users\\Николай\\AppData\\Local\\Temp\\ipykernel_13648\\3337230598.py:29: PerformanceWarning: DataFrame is highly fragmented.  This is usually the result of calling `frame.insert` many times, which has poor performance.  Consider joining all columns at once using pd.concat(axis=1) instead. To get a de-fragmented frame, use `newframe = frame.copy()`\n",
      "  test_one_hot[col] = False\n",
      "C:\\Users\\Николай\\AppData\\Local\\Temp\\ipykernel_13648\\3337230598.py:29: PerformanceWarning: DataFrame is highly fragmented.  This is usually the result of calling `frame.insert` many times, which has poor performance.  Consider joining all columns at once using pd.concat(axis=1) instead. To get a de-fragmented frame, use `newframe = frame.copy()`\n",
      "  test_one_hot[col] = False\n",
      "C:\\Users\\Николай\\AppData\\Local\\Temp\\ipykernel_13648\\3337230598.py:29: PerformanceWarning: DataFrame is highly fragmented.  This is usually the result of calling `frame.insert` many times, which has poor performance.  Consider joining all columns at once using pd.concat(axis=1) instead. To get a de-fragmented frame, use `newframe = frame.copy()`\n",
      "  test_one_hot[col] = False\n",
      "C:\\Users\\Николай\\AppData\\Local\\Temp\\ipykernel_13648\\3337230598.py:29: PerformanceWarning: DataFrame is highly fragmented.  This is usually the result of calling `frame.insert` many times, which has poor performance.  Consider joining all columns at once using pd.concat(axis=1) instead. To get a de-fragmented frame, use `newframe = frame.copy()`\n",
      "  test_one_hot[col] = False\n",
      "C:\\Users\\Николай\\AppData\\Local\\Temp\\ipykernel_13648\\3337230598.py:29: PerformanceWarning: DataFrame is highly fragmented.  This is usually the result of calling `frame.insert` many times, which has poor performance.  Consider joining all columns at once using pd.concat(axis=1) instead. To get a de-fragmented frame, use `newframe = frame.copy()`\n",
      "  test_one_hot[col] = False\n",
      "C:\\Users\\Николай\\AppData\\Local\\Temp\\ipykernel_13648\\3337230598.py:29: PerformanceWarning: DataFrame is highly fragmented.  This is usually the result of calling `frame.insert` many times, which has poor performance.  Consider joining all columns at once using pd.concat(axis=1) instead. To get a de-fragmented frame, use `newframe = frame.copy()`\n",
      "  test_one_hot[col] = False\n",
      "C:\\Users\\Николай\\AppData\\Local\\Temp\\ipykernel_13648\\3337230598.py:29: PerformanceWarning: DataFrame is highly fragmented.  This is usually the result of calling `frame.insert` many times, which has poor performance.  Consider joining all columns at once using pd.concat(axis=1) instead. To get a de-fragmented frame, use `newframe = frame.copy()`\n",
      "  test_one_hot[col] = False\n",
      "C:\\Users\\Николай\\AppData\\Local\\Temp\\ipykernel_13648\\3337230598.py:29: PerformanceWarning: DataFrame is highly fragmented.  This is usually the result of calling `frame.insert` many times, which has poor performance.  Consider joining all columns at once using pd.concat(axis=1) instead. To get a de-fragmented frame, use `newframe = frame.copy()`\n",
      "  test_one_hot[col] = False\n",
      "C:\\Users\\Николай\\AppData\\Local\\Temp\\ipykernel_13648\\3337230598.py:29: PerformanceWarning: DataFrame is highly fragmented.  This is usually the result of calling `frame.insert` many times, which has poor performance.  Consider joining all columns at once using pd.concat(axis=1) instead. To get a de-fragmented frame, use `newframe = frame.copy()`\n",
      "  test_one_hot[col] = False\n",
      "C:\\Users\\Николай\\AppData\\Local\\Temp\\ipykernel_13648\\3337230598.py:29: PerformanceWarning: DataFrame is highly fragmented.  This is usually the result of calling `frame.insert` many times, which has poor performance.  Consider joining all columns at once using pd.concat(axis=1) instead. To get a de-fragmented frame, use `newframe = frame.copy()`\n",
      "  test_one_hot[col] = False\n",
      "C:\\Users\\Николай\\AppData\\Local\\Temp\\ipykernel_13648\\3337230598.py:29: PerformanceWarning: DataFrame is highly fragmented.  This is usually the result of calling `frame.insert` many times, which has poor performance.  Consider joining all columns at once using pd.concat(axis=1) instead. To get a de-fragmented frame, use `newframe = frame.copy()`\n",
      "  test_one_hot[col] = False\n",
      "C:\\Users\\Николай\\AppData\\Local\\Temp\\ipykernel_13648\\3337230598.py:29: PerformanceWarning: DataFrame is highly fragmented.  This is usually the result of calling `frame.insert` many times, which has poor performance.  Consider joining all columns at once using pd.concat(axis=1) instead. To get a de-fragmented frame, use `newframe = frame.copy()`\n",
      "  test_one_hot[col] = False\n",
      "C:\\Users\\Николай\\AppData\\Local\\Temp\\ipykernel_13648\\3337230598.py:29: PerformanceWarning: DataFrame is highly fragmented.  This is usually the result of calling `frame.insert` many times, which has poor performance.  Consider joining all columns at once using pd.concat(axis=1) instead. To get a de-fragmented frame, use `newframe = frame.copy()`\n",
      "  test_one_hot[col] = False\n"
     ]
    }
   ],
   "source": [
    "test = pd.read_csv(f\"{CONFIG['data_main']}test.csv\")\n",
    "test[['sex_1', 'sex_2']] = test['sex_match'].str.split('-', expand=True)\n",
    "num_columns = []\n",
    "for i, row in data_exp.iterrows():\n",
    "    if row['type'] == 'Numerical':\n",
    "        num_columns.append(row['variable'])\n",
    "num_columns.append('efs')\n",
    "cat_columns = [col for col in test.columns if col not in num_columns]\n",
    "num_columns.remove('efs')\n",
    "num_columns.remove('efs_time')\n",
    "\n",
    "na_num_columns = []\n",
    "for col in num_columns:\n",
    "    test[f\"{col}_nan\"] = test[col].isna().astype(int)\n",
    "    na_num_columns.append(f\"{col}_nan\")\n",
    "    \n",
    "num_columns.extend(na_num_columns)\n",
    "\n",
    "for col in test[cat_columns].columns:\n",
    "    test[col] = test[col].astype(str)\n",
    "    j_ch = ',[]{}:\"\\\\<' \n",
    "    for ch in j_ch:\n",
    "        test[col] = test[col].apply(lambda x: str(x).replace(ch, ''))\n",
    "test_one_hot = pd.get_dummies(test[cat_columns])\n",
    "test_one_hot = pd.concat([test_one_hot, test[num_columns]], axis=1)\n",
    "\n",
    "missing_columns = set(train_one_hot.columns) - set(test_one_hot.columns)\n",
    "for col in missing_columns:\n",
    "    test_one_hot[col] = False"
   ],
   "metadata": {
    "collapsed": false,
    "ExecuteTime": {
     "end_time": "2025-01-03T16:36:54.805550800Z",
     "start_time": "2025-01-03T16:36:54.726118600Z"
    }
   },
   "id": "ac0fb31bb289572f",
   "execution_count": 7
  },
  {
   "cell_type": "code",
   "outputs": [],
   "source": [
    "test_one_hot = test_one_hot[train_one_hot.columns]"
   ],
   "metadata": {
    "collapsed": false,
    "ExecuteTime": {
     "end_time": "2025-01-03T16:36:54.830579700Z",
     "start_time": "2025-01-03T16:36:54.805550800Z"
    }
   },
   "id": "c716f6fbaf1ed7dc",
   "execution_count": 8
  },
  {
   "cell_type": "code",
   "outputs": [],
   "source": [
    "final_cat = joblib.load(CONFIG['model_path'])"
   ],
   "metadata": {
    "collapsed": false,
    "ExecuteTime": {
     "end_time": "2025-01-03T16:36:55.141590Z",
     "start_time": "2025-01-03T16:36:54.823528700Z"
    }
   },
   "id": "c24795b246f48d95",
   "execution_count": 9
  },
  {
   "cell_type": "code",
   "outputs": [],
   "source": [
    "preds_test = final_cat.predict(test_one_hot)"
   ],
   "metadata": {
    "collapsed": false,
    "ExecuteTime": {
     "end_time": "2025-01-03T16:36:55.155274500Z",
     "start_time": "2025-01-03T16:36:55.141590Z"
    }
   },
   "id": "887fcb1c03c25912",
   "execution_count": 10
  },
  {
   "cell_type": "code",
   "outputs": [],
   "source": [
    "y_pred = test[['ID']].copy(deep=True)\n",
    "y_pred[\"prediction\"] = preds_test\n",
    "y_pred.to_csv('submission.csv', index=False)"
   ],
   "metadata": {
    "collapsed": false,
    "ExecuteTime": {
     "end_time": "2025-01-03T16:36:55.175224800Z",
     "start_time": "2025-01-03T16:36:55.155274500Z"
    }
   },
   "id": "903cca0ce259731a",
   "execution_count": 11
  },
  {
   "cell_type": "code",
   "outputs": [
    {
     "data": {
      "text/plain": "      ID  prediction\n0  28800    0.444504\n1  28801    0.612916\n2  28802    0.388857",
      "text/html": "<div>\n<style scoped>\n    .dataframe tbody tr th:only-of-type {\n        vertical-align: middle;\n    }\n\n    .dataframe tbody tr th {\n        vertical-align: top;\n    }\n\n    .dataframe thead th {\n        text-align: right;\n    }\n</style>\n<table border=\"1\" class=\"dataframe\">\n  <thead>\n    <tr style=\"text-align: right;\">\n      <th></th>\n      <th>ID</th>\n      <th>prediction</th>\n    </tr>\n  </thead>\n  <tbody>\n    <tr>\n      <th>0</th>\n      <td>28800</td>\n      <td>0.444504</td>\n    </tr>\n    <tr>\n      <th>1</th>\n      <td>28801</td>\n      <td>0.612916</td>\n    </tr>\n    <tr>\n      <th>2</th>\n      <td>28802</td>\n      <td>0.388857</td>\n    </tr>\n  </tbody>\n</table>\n</div>"
     },
     "execution_count": 12,
     "metadata": {},
     "output_type": "execute_result"
    }
   ],
   "source": [
    "y_pred"
   ],
   "metadata": {
    "collapsed": false,
    "ExecuteTime": {
     "end_time": "2025-01-03T16:36:55.203228200Z",
     "start_time": "2025-01-03T16:36:55.176224400Z"
    }
   },
   "id": "c9936d3144e3694e",
   "execution_count": 12
  },
  {
   "cell_type": "code",
   "outputs": [],
   "source": [],
   "metadata": {
    "collapsed": false,
    "ExecuteTime": {
     "end_time": "2025-01-03T16:36:55.231227400Z",
     "start_time": "2025-01-03T16:36:55.201227100Z"
    }
   },
   "id": "18cd3c105f40a676",
   "execution_count": 12
  }
 ],
 "metadata": {
  "kernelspec": {
   "display_name": "Python 3",
   "language": "python",
   "name": "python3"
  },
  "language_info": {
   "codemirror_mode": {
    "name": "ipython",
    "version": 2
   },
   "file_extension": ".py",
   "mimetype": "text/x-python",
   "name": "python",
   "nbconvert_exporter": "python",
   "pygments_lexer": "ipython2",
   "version": "2.7.6"
  }
 },
 "nbformat": 4,
 "nbformat_minor": 5
}
