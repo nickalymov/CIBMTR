{
 "cells": [
  {
   "cell_type": "code",
   "outputs": [],
   "source": [
    "import os\n",
    "current_directory = os.getcwd()\n",
    "folder_name = os.path.basename(current_directory)\n",
    "number = folder_name"
   ],
   "metadata": {
    "collapsed": false,
    "ExecuteTime": {
     "end_time": "2025-01-01T15:34:20.268334600Z",
     "start_time": "2025-01-01T15:34:20.253885Z"
    }
   },
   "id": "cb2065b8802f8251",
   "execution_count": 1
  },
  {
   "cell_type": "code",
   "outputs": [],
   "source": [
    "CONFIG = {\n",
    "    'data_main': 'C:/Users/Николай/PycharmProjects/CIBMTR/D.Data/main/',\n",
    "    'train_path': 'train.csv',\n",
    "\n",
    "    'DEVICE' : 'cuda',\n",
    "    'SEED' : 42,\n",
    "}"
   ],
   "metadata": {
    "collapsed": false,
    "ExecuteTime": {
     "end_time": "2025-01-01T15:34:20.284277300Z",
     "start_time": "2025-01-01T15:34:20.270324200Z"
    }
   },
   "id": "9174032d882584ac",
   "execution_count": 2
  },
  {
   "cell_type": "code",
   "outputs": [],
   "source": [
    "from catboost import CatBoostRegressor\n",
    "import optuna\n",
    "import pandas as pd\n",
    "from sklearn.model_selection import StratifiedKFold\n",
    "import numpy as np\n",
    "import joblib \n",
    "from metric import score__\n",
    "from lifelines import KaplanMeierFitter"
   ],
   "metadata": {
    "collapsed": false,
    "ExecuteTime": {
     "end_time": "2025-01-01T15:34:20.506945Z",
     "start_time": "2025-01-01T15:34:20.285258400Z"
    }
   },
   "id": "b015da9f4c673f76",
   "execution_count": 3
  },
  {
   "cell_type": "code",
   "outputs": [],
   "source": [
    "def transform_survival_probability(df, time_col='efs_time', event_col='efs'):\n",
    "    kmf = KaplanMeierFitter()\n",
    "    kmf.fit(df[time_col], df[event_col])\n",
    "    y = kmf.survival_function_at_times(df[time_col]).values\n",
    "    return y"
   ],
   "metadata": {
    "collapsed": false,
    "ExecuteTime": {
     "end_time": "2025-01-01T15:34:20.522871100Z",
     "start_time": "2025-01-01T15:34:20.509873300Z"
    }
   },
   "id": "8e5da4978bd8e1b0",
   "execution_count": 4
  },
  {
   "cell_type": "code",
   "outputs": [],
   "source": [
    "train = pd.read_csv(f\"{CONFIG['data_main']}{CONFIG['train_path']}\")\n",
    "    \n",
    "train[\"y\"] = transform_survival_probability(train, time_col='efs_time', event_col='efs')\n",
    "\n",
    "num_columns = ['y', 'efs', 'efs_time', 'ID', 'age_at_hct', 'donor_age']\n",
    "cat_columns = [col for col in train.columns if col not in num_columns]"
   ],
   "metadata": {
    "collapsed": false,
    "ExecuteTime": {
     "end_time": "2025-01-01T15:34:20.665937400Z",
     "start_time": "2025-01-01T15:34:20.528865400Z"
    }
   },
   "id": "214abe3370778cbd",
   "execution_count": 5
  },
  {
   "cell_type": "code",
   "outputs": [],
   "source": [
    "X = train.drop(columns=['y', 'efs', 'efs_time', 'ID', 'race_group'])\n",
    "cat_columns.remove('race_group')\n",
    "\n",
    "for col in X.columns: \n",
    "    if col in cat_columns:\n",
    "        X[col] = X[col].astype(str)\n",
    "        X[col] = X[col].fillna('-1')\n",
    "    elif col in num_columns:\n",
    "        X[col] = X[col].fillna(X[col].mode()[0])\n",
    "\n",
    "y = train['y']"
   ],
   "metadata": {
    "collapsed": false,
    "ExecuteTime": {
     "end_time": "2025-01-01T15:34:20.936930100Z",
     "start_time": "2025-01-01T15:34:20.667878300Z"
    }
   },
   "id": "eb925cb7123ec6",
   "execution_count": 6
  },
  {
   "cell_type": "code",
   "outputs": [],
   "source": [
    "n_splits = 5\n",
    "skf = StratifiedKFold(n_splits=n_splits, shuffle=True, random_state=CONFIG['SEED'])"
   ],
   "metadata": {
    "collapsed": false,
    "ExecuteTime": {
     "end_time": "2025-01-01T15:34:20.953588400Z",
     "start_time": "2025-01-01T15:34:20.940929300Z"
    }
   },
   "id": "30d7e73c149b9248",
   "execution_count": 7
  },
  {
   "cell_type": "code",
   "outputs": [],
   "source": [
    "fixed_params = {\n",
    "    'loss_function': 'RMSE', \n",
    "    'random_seed': CONFIG['SEED'],\n",
    "    'logging_level': 'Silent', # default=True, possible=[True, False]\n",
    "    'eval_metric': 'RMSE',\n",
    "    'allow_writing_files': False,\n",
    "    'task_type': 'GPU',\n",
    "}"
   ],
   "metadata": {
    "collapsed": false,
    "ExecuteTime": {
     "end_time": "2025-01-01T15:34:20.979587700Z",
     "start_time": "2025-01-01T15:34:20.954624400Z"
    }
   },
   "id": "fcfa2d6ba97ee9c5",
   "execution_count": 8
  },
  {
   "cell_type": "code",
   "outputs": [
    {
     "name": "stdout",
     "output_type": "stream",
     "text": [
      "Средний результат модели: 0.6785847989403502\n"
     ]
    }
   ],
   "source": [
    "# Объединение фиксированных параметров модели и гиперпараметров\n",
    "final_params = {**fixed_params}\n",
    "\n",
    "scores = []\n",
    "\n",
    "for train_idx, valid_idx in skf.split(X, train['race_group']):\n",
    "    X_train, X_valid = X.iloc[train_idx], X.iloc[valid_idx]\n",
    "    y_train, y_valid = y.iloc[train_idx], y.iloc[valid_idx]\n",
    "\n",
    "    model = CatBoostRegressor(cat_features=cat_columns, **final_params)\n",
    "    model.fit(X_train, y_train, eval_set=[(X_valid, y_valid)], verbose=False)\n",
    "\n",
    "    preds = model.predict(X_valid)\n",
    "    fold_score = score__(pd.DataFrame({'efs': train.iloc[valid_idx]['efs'].to_list(),\n",
    "                                       'efs_time': train.iloc[valid_idx]['efs_time'].to_list(),\n",
    "                                       'race_group': train.iloc[valid_idx]['race_group'].to_list()}),\n",
    "                         pd.DataFrame(preds, columns=['prediction']))\n",
    "    scores.append(fold_score)\n",
    "\n",
    "# Средний результат модели\n",
    "mean_score = np.mean(scores)\n",
    "print(f\"Средний результат модели: {mean_score}\")"
   ],
   "metadata": {
    "collapsed": false,
    "ExecuteTime": {
     "end_time": "2025-01-01T15:41:46.423768Z",
     "start_time": "2025-01-01T15:34:20.973587500Z"
    }
   },
   "id": "822442d754407434",
   "execution_count": 9
  },
  {
   "cell_type": "code",
   "outputs": [
    {
     "data": {
      "text/plain": "<catboost.core.CatBoostRegressor at 0x1ec01bc3220>"
     },
     "execution_count": 10,
     "metadata": {},
     "output_type": "execute_result"
    }
   ],
   "source": [
    "final_cat = CatBoostRegressor(cat_features=cat_columns, **fixed_params)\n",
    "final_cat.fit(X, y)"
   ],
   "metadata": {
    "collapsed": false,
    "ExecuteTime": {
     "end_time": "2025-01-01T15:43:27.715502700Z",
     "start_time": "2025-01-01T15:41:46.424740600Z"
    }
   },
   "id": "97782c5be4517c4e",
   "execution_count": 10
  },
  {
   "cell_type": "code",
   "outputs": [],
   "source": [
    "final_cat.model_number = number"
   ],
   "metadata": {
    "collapsed": false,
    "ExecuteTime": {
     "end_time": "2025-01-01T15:43:27.731969100Z",
     "start_time": "2025-01-01T15:43:27.719496Z"
    }
   },
   "id": "5077a3d58ed84201",
   "execution_count": 11
  },
  {
   "cell_type": "code",
   "outputs": [
    {
     "data": {
      "text/plain": "['2.1.12_model.pkl']"
     },
     "execution_count": 12,
     "metadata": {},
     "output_type": "execute_result"
    }
   ],
   "source": [
    "joblib.dump(final_cat, f\"{number}_model.pkl\")"
   ],
   "metadata": {
    "collapsed": false,
    "ExecuteTime": {
     "end_time": "2025-01-01T15:43:27.765968900Z",
     "start_time": "2025-01-01T15:43:27.730969500Z"
    }
   },
   "id": "2b2e3bf4e98d533d",
   "execution_count": 12
  },
  {
   "cell_type": "code",
   "outputs": [],
   "source": [
    "cat_importance = final_cat.get_feature_importance()"
   ],
   "metadata": {
    "collapsed": false,
    "ExecuteTime": {
     "end_time": "2025-01-01T15:43:27.774983400Z",
     "start_time": "2025-01-01T15:43:27.759970200Z"
    }
   },
   "id": "3e50b9cbcbd85c7f",
   "execution_count": 13
  },
  {
   "cell_type": "code",
   "outputs": [
    {
     "name": "stdout",
     "output_type": "stream",
     "text": [
      "CatBoost Feature Importances:\n",
      "                    Feature  Importance\n",
      "0                dri_score   12.305090\n",
      "26  conditioning_intensity    8.773866\n",
      "28                year_hct    8.109395\n",
      "45       comorbidity_score    6.890727\n",
      "46         karnofsky_score    5.522733\n",
      "35               donor_age    4.875006\n",
      "25       cyto_score_detail    4.499062\n",
      "13        prim_disease_hct    4.486250\n",
      "30                 mrd_hct    3.559706\n",
      "43               sex_match    3.295524\n",
      "2               cyto_score    2.747696\n",
      "49           donor_related    2.583383\n",
      "39              age_at_hct    2.538837\n",
      "15              cmv_status    2.127032\n",
      "12             pulm_severe    1.906935\n",
      "41              gvhd_proph    1.807412\n",
      "36             prior_tumor    1.779379\n",
      "31             in_vivo_tcd    1.623370\n",
      "19              hla_nmdp_6    1.529173\n",
      "7               arrhythmia    1.472116\n",
      "52                 cardiac    1.369418\n",
      "53     hla_match_drb1_high    1.140031\n",
      "3                 diabetes    1.106243\n",
      "48           tce_div_match    1.104732\n",
      "33        hla_match_a_high    0.990972\n",
      "6               tbi_status    0.862640\n",
      "37         hla_match_b_low    0.786094\n",
      "22      hla_match_drb1_low    0.749822\n",
      "29                 obesity    0.604138\n",
      "34          hepatic_severe    0.595434\n",
      "10               vent_hist    0.584895\n",
      "40         hla_match_a_low    0.570592\n",
      "4         hla_match_c_high    0.520991\n",
      "32               tce_match    0.510473\n",
      "1            psych_disturb    0.505079\n",
      "50          melphalan_dose    0.500966\n",
      "24               prod_type    0.487802\n",
      "44        hla_match_b_high    0.442920\n",
      "42             rheum_issue    0.437004\n",
      "20         hla_match_c_low    0.405242\n",
      "17     hla_match_dqb1_high    0.373334\n",
      "38            peptic_ulcer    0.282441\n",
      "47            hepatic_mild    0.274168\n",
      "23      hla_match_dqb1_low    0.257908\n",
      "21               rituximab    0.240892\n",
      "14          hla_high_res_6    0.232157\n",
      "16         hla_high_res_10    0.225161\n",
      "54           pulm_moderate    0.220757\n",
      "11             renal_issue    0.181943\n",
      "27               ethnicity    0.181366\n",
      "18           tce_imm_match    0.179215\n",
      "55          hla_low_res_10    0.169736\n",
      "5           hla_high_res_8    0.153066\n",
      "9               graft_type    0.143110\n",
      "51           hla_low_res_8    0.100001\n",
      "8            hla_low_res_6    0.076562\n"
     ]
    }
   ],
   "source": [
    "cat_importance_df = pd.DataFrame({\n",
    "    'Feature': X.columns,\n",
    "    'Importance': cat_importance\n",
    "}).sort_values(by='Importance', ascending=False)\n",
    "\n",
    "print(\"CatBoost Feature Importances:\\n\", cat_importance_df)"
   ],
   "metadata": {
    "collapsed": false,
    "ExecuteTime": {
     "end_time": "2025-01-01T15:43:27.816969400Z",
     "start_time": "2025-01-01T15:43:27.777968700Z"
    }
   },
   "id": "7b65d88176d2873f",
   "execution_count": 14
  },
  {
   "cell_type": "code",
   "outputs": [],
   "source": [
    "# auto_params = ['per_float_feature_quantization', 'input_borders', 'output_borders', 'fold_permutation_block', 'counter_calc_method', 'thread_count', 'best_model_min_trees', 'verbose', 'silent', 'metric_period', 'ctr_leaf_count_limit', 'store_all_simple_ctr', 'has_time', 'allow_const_label', 'target_border', 'random_score_type', 'name', 'ignored_features', 'train_dir', 'custom_metric', 'save_snapshot', 'snapshot_file', 'snapshot_interval', 'fold_len_multiplier', 'used_ram_limit', 'gpu_ram_part', 'pinned_memory_size', 'final_ctr_computation_mode', 'simple_ctr', 'combinations_ctr', 'per_feature_ctr', 'ctr_description', 'ctr_target_border_count', 'device_config', 'devices', 'subsample', 'mvs_reg', 'sampling_frequency', 'sampling_unit', 'subsampling_factor', 'dev_score_calc_obj_block_size', 'dev_efb_max_buckets', 'sparse_features_conflict_fraction', 'max_depth', 'n_estimators', 'num_boost_round', 'num_trees', 'colsample_bylevel', 'random_state', 'reg_lambda', 'reg_lambda', 'eta', 'max_bin', 'gpu_cat_features_storage', 'data_partition', 'metadata', 'min_data_in_leaf', 'min_child_samples', 'num_leaves', 'score_function', 'ctr_history_unit', 'monotone_constraints', 'feature_weights', 'penalties_coefficient', 'first_feature_use_penalties', 'per_object_feature_penalties', 'model_shrink_rate', 'model_shrink_mode', 'langevin', 'diffusion_temperature', 'posterior_sampling', 'text_features', 'tokenizers', 'dictionaries', 'feature_calcers', 'text_processing', 'embedding_features', 'eval_fraction', 'fixed_binary_splits', 'od_type', 'od_pval', 'od_wait', 'approx_on_full_history', 'boosting_type']"
   ],
   "metadata": {
    "collapsed": false,
    "ExecuteTime": {
     "end_time": "2025-01-01T15:43:27.817967500Z",
     "start_time": "2025-01-01T15:43:27.790971300Z"
    }
   },
   "id": "e3e9fd32b0938562",
   "execution_count": 15
  },
  {
   "cell_type": "code",
   "outputs": [],
   "source": [],
   "metadata": {
    "collapsed": false,
    "ExecuteTime": {
     "end_time": "2025-01-01T15:43:27.830968Z",
     "start_time": "2025-01-01T15:43:27.808968200Z"
    }
   },
   "id": "5b10f800f371e6d1",
   "execution_count": 15
  }
 ],
 "metadata": {
  "kernelspec": {
   "display_name": "Python 3",
   "language": "python",
   "name": "python3"
  },
  "language_info": {
   "codemirror_mode": {
    "name": "ipython",
    "version": 2
   },
   "file_extension": ".py",
   "mimetype": "text/x-python",
   "name": "python",
   "nbconvert_exporter": "python",
   "pygments_lexer": "ipython2",
   "version": "2.7.6"
  }
 },
 "nbformat": 4,
 "nbformat_minor": 5
}
