{
 "cells": [
  {
   "cell_type": "code",
   "outputs": [],
   "source": [
    "import os\n",
    "current_directory = os.getcwd()\n",
    "folder_name = os.path.basename(current_directory)\n",
    "number = folder_name"
   ],
   "metadata": {
    "collapsed": false,
    "ExecuteTime": {
     "end_time": "2024-12-30T16:19:17.090779400Z",
     "start_time": "2024-12-30T16:19:17.080779300Z"
    }
   },
   "id": "cb2065b8802f8251",
   "execution_count": 1
  },
  {
   "cell_type": "code",
   "outputs": [],
   "source": [
    "CONFIG = {\n",
    "    'data_main': 'C:/Users/Николай/PycharmProjects/CIBMTR/D.Data/main/',\n",
    "    'train_path': 'train.csv',\n",
    "\n",
    "    'DEVICE' : 'cuda',\n",
    "    'SEED' : 42,\n",
    "}"
   ],
   "metadata": {
    "collapsed": false,
    "ExecuteTime": {
     "end_time": "2024-12-30T16:19:17.108779400Z",
     "start_time": "2024-12-30T16:19:17.092779300Z"
    }
   },
   "id": "9174032d882584ac",
   "execution_count": 2
  },
  {
   "cell_type": "code",
   "outputs": [],
   "source": [
    "from catboost import CatBoostRegressor\n",
    "import optuna\n",
    "import pandas as pd\n",
    "from sklearn.model_selection import StratifiedKFold\n",
    "import numpy as np\n",
    "import joblib \n",
    "from metric import score_\n",
    "from lifelines import KaplanMeierFitter"
   ],
   "metadata": {
    "collapsed": false,
    "ExecuteTime": {
     "end_time": "2024-12-30T16:19:17.888033500Z",
     "start_time": "2024-12-30T16:19:17.111779300Z"
    }
   },
   "id": "b015da9f4c673f76",
   "execution_count": 3
  },
  {
   "cell_type": "code",
   "outputs": [],
   "source": [
    "def transform_survival_probability(df, time_col='efs_time', event_col='efs'):\n",
    "    kmf = KaplanMeierFitter()\n",
    "    kmf.fit(df[time_col], df[event_col])\n",
    "    y = kmf.survival_function_at_times(df[time_col]).values\n",
    "    return y"
   ],
   "metadata": {
    "collapsed": false,
    "ExecuteTime": {
     "end_time": "2024-12-30T16:19:17.902032700Z",
     "start_time": "2024-12-30T16:19:17.888033500Z"
    }
   },
   "id": "8e5da4978bd8e1b0",
   "execution_count": 4
  },
  {
   "cell_type": "code",
   "outputs": [],
   "source": [
    "train = pd.read_csv(f\"{CONFIG['data_main']}{CONFIG['train_path']}\")\n",
    "    \n",
    "train[\"y\"] = transform_survival_probability(train, time_col='efs_time', event_col='efs')\n",
    "\n",
    "num_columns = [col for col in train.columns if pd.api.types.is_numeric_dtype(train[col])]\n",
    "cat_columns = [col for col in train.columns if col not in num_columns]"
   ],
   "metadata": {
    "collapsed": false,
    "ExecuteTime": {
     "end_time": "2024-12-30T16:19:18.061034300Z",
     "start_time": "2024-12-30T16:19:17.903032900Z"
    }
   },
   "id": "214abe3370778cbd",
   "execution_count": 5
  },
  {
   "cell_type": "code",
   "outputs": [
    {
     "data": {
      "text/plain": "(26, 35)"
     },
     "execution_count": 6,
     "metadata": {},
     "output_type": "execute_result"
    }
   ],
   "source": [
    "len(num_columns), len(cat_columns)"
   ],
   "metadata": {
    "collapsed": false,
    "ExecuteTime": {
     "end_time": "2024-12-30T16:19:18.076034800Z",
     "start_time": "2024-12-30T16:19:18.065035500Z"
    }
   },
   "id": "5f9fc330146f12ae",
   "execution_count": 6
  },
  {
   "cell_type": "code",
   "outputs": [],
   "source": [
    "X = train.drop(columns=['y', 'efs', 'efs_time', 'ID'])\n",
    "\n",
    "for col in X.columns: \n",
    "    if col in cat_columns:\n",
    "        X[col] = X[col].astype(str)\n",
    "        X[col] = X[col].fillna('-1')\n",
    "    elif col in num_columns:\n",
    "        X[col] = X[col].fillna(X[col].mode()[0])\n",
    "\n",
    "y = train['y']"
   ],
   "metadata": {
    "collapsed": false,
    "ExecuteTime": {
     "end_time": "2024-12-30T16:19:18.171032900Z",
     "start_time": "2024-12-30T16:19:18.077036Z"
    }
   },
   "id": "eb925cb7123ec6",
   "execution_count": 7
  },
  {
   "cell_type": "code",
   "outputs": [],
   "source": [
    "n_splits = 5\n",
    "skf = StratifiedKFold(n_splits=n_splits, shuffle=True, random_state=CONFIG['SEED'])"
   ],
   "metadata": {
    "collapsed": false,
    "ExecuteTime": {
     "end_time": "2024-12-30T16:19:18.188035Z",
     "start_time": "2024-12-30T16:19:18.172032900Z"
    }
   },
   "id": "30d7e73c149b9248",
   "execution_count": 8
  },
  {
   "cell_type": "code",
   "outputs": [],
   "source": [
    "# Фиксированные параметры\n",
    "fixed_params = {\n",
    "    'model_size_reg': 0, # default=0.5, possible=[0, inf)\n",
    "    'rsm': 1, # default=1, possible=[0, inf), alias='colsample_bylevel'\n",
    "    'loss_function': 'RMSE', # default='RMSE\", possible=..., alias='objective'\n",
    "    'feature_border_type': 'GreedyLogSum', # default='GreedyLogSum  \", possible=['Median', 'Uniform', 'UniformAndQuantiles', 'MaxLogSum', 'MinEntropy', 'GreedyLogSum']\n",
    "    'nan_mode': 'Forbidden', # default='Min', possible=['Forbidden', 'Min', 'Max']\n",
    "    'leaf_estimation_method': 'Newton', # default=..., possible=['Newton', 'Gradient', 'Exact']\n",
    "    'random_seed': CONFIG['SEED'],\n",
    "    'use_best_model': False, # default=True, possible=[True, False]\n",
    "    'logging_level': 'Silent', # default=True, possible=[True, False]\n",
    "    'max_ctr_complexity': 15, # default=True, possible=[1, 16)\n",
    "    'one_hot_max_size': 50, # default=True, possible=[2, inf)\n",
    "    'random_strength' : 0, # default=1, possible=[0, inf)\n",
    "    'eval_metric': 'RMSE',\n",
    "    'allow_writing_files': False,\n",
    "    'task_type': 'GPU',\n",
    "    'bootstrap_type': 'Bayesian',\n",
    "    'early_stopping_rounds': 250,\n",
    "    'grow_policy': 'Lossguide', # default='SymmetricTree', possible=['SymmetricTree', 'Depthwise']\n",
    "    'score_function': 'NewtonL2', # default='Cosine', possible=['Cosine ', 'L2', 'NewtonCosine', 'NewtonL2']\n",
    "    'leaf_estimation_backtracking': 'AnyImprovement',\n",
    "    'boost_from_average': True\n",
    "}\n"
   ],
   "metadata": {
    "collapsed": false,
    "ExecuteTime": {
     "end_time": "2024-12-30T16:19:18.207032700Z",
     "start_time": "2024-12-30T16:19:18.189034700Z"
    }
   },
   "id": "fcfa2d6ba97ee9c5",
   "execution_count": 9
  },
  {
   "cell_type": "code",
   "outputs": [],
   "source": [
    "def optimize_cat(trial):\n",
    "    params = {\n",
    "        'iterations': trial.suggest_int('iterations', 100, 2000), # default=1000, possible=[1, inf), alias=['num_boost_round', 'n_estimators', 'num_trees']\n",
    "        'learning_rate': trial.suggest_float('learning_rate', 0.001, 0.01), # default=0.03, alias='eta'\n",
    "        'depth': trial.suggest_int('depth', 6, 16), # default=6 (16 if Lossguide), possible=[1, 16], alias='max_depth'\n",
    "        'l2_leaf_reg': trial.suggest_float('l2_leaf_reg', 1e-5, 10), # default=3.0, alias=reg_lambda\n",
    "        'border_count': trial.suggest_int('border_count', 256, 1024), # default=128, possible=[0, 65535], alias='max_bin'\n",
    "        'leaf_estimation_iterations': trial.suggest_int('leaf_estimation_iterations', 1, 6),\n",
    "        'bagging_temperature': trial.suggest_float('bagging_temperature', 0.01, 1), # default=0.66, possible=[0, inf)\n",
    "        'max_leaves': trial.suggest_int('max_leaves', 31, 42), # default=31, possible=[?, inf), alias='num_leaves'\n",
    "    }\n",
    "    # Объединение оптимизированных и фиксированных параметров\n",
    "    final_params = {**fixed_params, **params}\n",
    "    \n",
    "    scores = []\n",
    "    \n",
    "    for train_idx, valid_idx in skf.split(X, train['race_group']):\n",
    "        X_train, X_valid = X.iloc[train_idx], X.iloc[valid_idx]\n",
    "        y_train, y_valid = y.iloc[train_idx], y.iloc[valid_idx]\n",
    "        \n",
    "        model = CatBoostRegressor(cat_features=cat_columns, **final_params)\n",
    "        model.fit(X_train, y_train, eval_set=[(X_valid, y_valid)], verbose=False)\n",
    "        \n",
    "        preds = model.predict(X_valid)\n",
    "        fold_score = score_(pd.DataFrame({'efs': train.iloc[valid_idx]['efs'].to_list(), \n",
    "                                          'efs_time' : train.iloc[valid_idx]['efs_time'].to_list(),\n",
    "                                          'race_group': train.iloc[valid_idx]['race_group'].to_list()}),\n",
    "                            pd.DataFrame(preds, columns=['prediction']))\n",
    "        scores.append(fold_score)\n",
    "    \n",
    "    return np.mean(scores)"
   ],
   "metadata": {
    "collapsed": false,
    "ExecuteTime": {
     "end_time": "2024-12-30T16:19:18.217034900Z",
     "start_time": "2024-12-30T16:19:18.206033Z"
    }
   },
   "id": "cc9968ace3101cb7",
   "execution_count": 10
  },
  {
   "cell_type": "code",
   "outputs": [
    {
     "name": "stderr",
     "output_type": "stream",
     "text": [
      "[I 2024-12-30 19:19:18,218] A new study created in memory with name: no-name-eecaabcf-35e3-4291-91ee-8cf0043803df\n",
      "[I 2024-12-30 19:20:16,844] Trial 0 finished with value: 0.6669471372775718 and parameters: {'iterations': 812, 'learning_rate': 0.009556428757689247, 'depth': 14, 'l2_leaf_reg': 5.9865888553855235, 'border_count': 375, 'leaf_estimation_iterations': 1, 'bagging_temperature': 0.06750277604651747, 'max_leaves': 41}. Best is trial 0 with value: 0.6669471372775718.\n",
      "[I 2024-12-30 19:21:26,751] Trial 1 finished with value: 0.6660540539677214 and parameters: {'iterations': 1242, 'learning_rate': 0.00737265320016441, 'depth': 6, 'l2_leaf_reg': 9.699098822521421, 'border_count': 896, 'leaf_estimation_iterations': 2, 'bagging_temperature': 0.19000671753502962, 'max_leaves': 33}. Best is trial 0 with value: 0.6669471372775718.\n",
      "[I 2024-12-30 19:22:15,891] Trial 2 finished with value: 0.6623923146879054 and parameters: {'iterations': 678, 'learning_rate': 0.005722807884690141, 'depth': 10, 'l2_leaf_reg': 2.912298489689017, 'border_count': 726, 'leaf_estimation_iterations': 1, 'bagging_temperature': 0.29922320204986597, 'max_leaves': 35}. Best is trial 0 with value: 0.6669471372775718.\n",
      "[I 2024-12-30 19:23:16,239] Trial 3 finished with value: 0.6673295586872083 and parameters: {'iterations': 966, 'learning_rate': 0.008066583652537124, 'depth': 8, 'l2_leaf_reg': 5.142349241791732, 'border_count': 711, 'leaf_estimation_iterations': 1, 'bagging_temperature': 0.611469403382424, 'max_leaves': 33}. Best is trial 3 with value: 0.6673295586872083.\n",
      "[I 2024-12-30 19:23:39,548] Trial 4 finished with value: 0.6553596326156493 and parameters: {'iterations': 223, 'learning_rate': 0.00953996983528, 'depth': 16, 'l2_leaf_reg': 8.08397539719113, 'border_count': 490, 'leaf_estimation_iterations': 1, 'bagging_temperature': 0.6873906962470353, 'max_leaves': 36}. Best is trial 3 with value: 0.6673295586872083.\n",
      "[I 2024-12-30 19:24:09,420] Trial 5 finished with value: 0.6497311251083134 and parameters: {'iterations': 331, 'learning_rate': 0.005456592191001432, 'depth': 6, 'l2_leaf_reg': 9.0932049275838, 'border_count': 455, 'leaf_estimation_iterations': 4, 'bagging_temperature': 0.31859396532851686, 'max_leaves': 37}. Best is trial 3 with value: 0.6673295586872083.\n",
      "[I 2024-12-30 19:26:02,535] Trial 6 finished with value: 0.6609996520809333 and parameters: {'iterations': 1139, 'learning_rate': 0.0026636900997297434, 'depth': 16, 'l2_leaf_reg': 7.751330482282912, 'border_count': 978, 'leaf_estimation_iterations': 6, 'bagging_temperature': 0.6019209790229743, 'max_leaves': 42}. Best is trial 3 with value: 0.6673295586872083.\n",
      "[I 2024-12-30 19:26:23,664] Trial 7 finished with value: 0.6407844623683091 and parameters: {'iterations': 268, 'learning_rate': 0.0027638457617723067, 'depth': 6, 'l2_leaf_reg': 3.253310054329336, 'border_count': 554, 'leaf_estimation_iterations': 2, 'bagging_temperature': 0.83045013406041, 'max_leaves': 35}. Best is trial 3 with value: 0.6673295586872083.\n",
      "[I 2024-12-30 19:27:09,720] Trial 8 finished with value: 0.6612874896022097 and parameters: {'iterations': 634, 'learning_rate': 0.005884264748424237, 'depth': 7, 'l2_leaf_reg': 8.021971785570589, 'border_count': 313, 'leaf_estimation_iterations': 6, 'bagging_temperature': 0.7745223216036908, 'max_leaves': 33}. Best is trial 3 with value: 0.6673295586872083.\n",
      "[I 2024-12-30 19:27:21,657] Trial 9 finished with value: 0.6464797084261524 and parameters: {'iterations': 110, 'learning_rate': 0.008339152856093508, 'depth': 13, 'l2_leaf_reg': 7.290074390338193, 'border_count': 849, 'leaf_estimation_iterations': 1, 'bagging_temperature': 0.3648810712588299, 'max_leaves': 32}. Best is trial 3 with value: 0.6673295586872083.\n",
      "[I 2024-12-30 19:29:50,467] Trial 10 finished with value: 0.6547303073511669 and parameters: {'iterations': 1852, 'learning_rate': 0.001053974646602356, 'depth': 9, 'l2_leaf_reg': 0.1796285765294412, 'border_count': 690, 'leaf_estimation_iterations': 4, 'bagging_temperature': 0.960173038485966, 'max_leaves': 39}. Best is trial 3 with value: 0.6673295586872083.\n",
      "[I 2024-12-30 19:32:02,420] Trial 11 finished with value: 0.6669796755020226 and parameters: {'iterations': 1515, 'learning_rate': 0.009953940509780658, 'depth': 13, 'l2_leaf_reg': 5.5852517225455935, 'border_count': 274, 'leaf_estimation_iterations': 3, 'bagging_temperature': 0.07714206508499466, 'max_leaves': 42}. Best is trial 3 with value: 0.6673295586872083.\n",
      "[I 2024-12-30 19:33:38,278] Trial 12 finished with value: 0.6683445160714708 and parameters: {'iterations': 1532, 'learning_rate': 0.007908633979307123, 'depth': 12, 'l2_leaf_reg': 4.633879338857263, 'border_count': 647, 'leaf_estimation_iterations': 3, 'bagging_temperature': 0.47401816669896396, 'max_leaves': 31}. Best is trial 12 with value: 0.6683445160714708.\n",
      "[I 2024-12-30 19:35:19,335] Trial 13 finished with value: 0.6684240187235988 and parameters: {'iterations': 1516, 'learning_rate': 0.007779019546238251, 'depth': 9, 'l2_leaf_reg': 3.500077116305362, 'border_count': 618, 'leaf_estimation_iterations': 3, 'bagging_temperature': 0.5343407161908297, 'max_leaves': 31}. Best is trial 13 with value: 0.6684240187235988.\n",
      "[I 2024-12-30 19:37:18,417] Trial 14 finished with value: 0.668431091837545 and parameters: {'iterations': 1648, 'learning_rate': 0.006970657857507848, 'depth': 11, 'l2_leaf_reg': 3.1003791706837442, 'border_count': 600, 'leaf_estimation_iterations': 3, 'bagging_temperature': 0.4674936108171168, 'max_leaves': 31}. Best is trial 14 with value: 0.668431091837545.\n",
      "[I 2024-12-30 19:39:53,303] Trial 15 finished with value: 0.6683341808418372 and parameters: {'iterations': 1999, 'learning_rate': 0.006861051379380697, 'depth': 11, 'l2_leaf_reg': 1.479209871654486, 'border_count': 539, 'leaf_estimation_iterations': 5, 'bagging_temperature': 0.4853093730774731, 'max_leaves': 31}. Best is trial 14 with value: 0.668431091837545.\n",
      "[I 2024-12-30 19:41:44,470] Trial 16 finished with value: 0.6673768739355791 and parameters: {'iterations': 1530, 'learning_rate': 0.00468934957799874, 'depth': 10, 'l2_leaf_reg': 3.3358662272517687, 'border_count': 779, 'leaf_estimation_iterations': 3, 'bagging_temperature': 0.4056326186461464, 'max_leaves': 34}. Best is trial 14 with value: 0.668431091837545.\n",
      "[I 2024-12-30 19:44:02,784] Trial 17 finished with value: 0.6685001377980442 and parameters: {'iterations': 1716, 'learning_rate': 0.006633981323438214, 'depth': 9, 'l2_leaf_reg': 1.8303381981743767, 'border_count': 585, 'leaf_estimation_iterations': 4, 'bagging_temperature': 0.579074905378826, 'max_leaves': 38}. Best is trial 17 with value: 0.6685001377980442.\n",
      "[I 2024-12-30 19:46:39,575] Trial 18 finished with value: 0.6671474126434891 and parameters: {'iterations': 1759, 'learning_rate': 0.003798429707092048, 'depth': 11, 'l2_leaf_reg': 1.7112909792907027, 'border_count': 589, 'leaf_estimation_iterations': 5, 'bagging_temperature': 0.7230777482236079, 'max_leaves': 38}. Best is trial 17 with value: 0.6685001377980442.\n",
      "[I 2024-12-30 19:48:16,522] Trial 19 finished with value: 0.6667574229107736 and parameters: {'iterations': 1245, 'learning_rate': 0.006650487998183017, 'depth': 8, 'l2_leaf_reg': 0.007854083521501298, 'border_count': 444, 'leaf_estimation_iterations': 5, 'bagging_temperature': 0.22149938548288922, 'max_leaves': 40}. Best is trial 17 with value: 0.6685001377980442.\n",
      "[I 2024-12-30 19:50:34,133] Trial 20 finished with value: 0.6680729326781119 and parameters: {'iterations': 1753, 'learning_rate': 0.004636646080128157, 'depth': 10, 'l2_leaf_reg': 1.5804282377285652, 'border_count': 387, 'leaf_estimation_iterations': 4, 'bagging_temperature': 0.9194496244129895, 'max_leaves': 38}. Best is trial 17 with value: 0.6685001377980442.\n",
      "[I 2024-12-30 19:52:21,637] Trial 21 finished with value: 0.6688747462218875 and parameters: {'iterations': 1426, 'learning_rate': 0.008814043038217341, 'depth': 9, 'l2_leaf_reg': 4.302111649955995, 'border_count': 620, 'leaf_estimation_iterations': 2, 'bagging_temperature': 0.5647741668035433, 'max_leaves': 31}. Best is trial 21 with value: 0.6688747462218875.\n",
      "[I 2024-12-30 19:54:06,137] Trial 22 finished with value: 0.6690094724423854 and parameters: {'iterations': 1373, 'learning_rate': 0.00877122745410243, 'depth': 8, 'l2_leaf_reg': 4.301382962235638, 'border_count': 782, 'leaf_estimation_iterations': 2, 'bagging_temperature': 0.6085715879131817, 'max_leaves': 37}. Best is trial 22 with value: 0.6690094724423854.\n",
      "[I 2024-12-30 19:55:47,813] Trial 23 finished with value: 0.6689504517605778 and parameters: {'iterations': 1337, 'learning_rate': 0.008939283013399276, 'depth': 8, 'l2_leaf_reg': 4.481441117028877, 'border_count': 801, 'leaf_estimation_iterations': 2, 'bagging_temperature': 0.613846429845142, 'max_leaves': 37}. Best is trial 22 with value: 0.6690094724423854.\n",
      "[I 2024-12-30 19:57:23,860] Trial 24 finished with value: 0.6686617880362539 and parameters: {'iterations': 1342, 'learning_rate': 0.008977316387399063, 'depth': 8, 'l2_leaf_reg': 6.426622330350297, 'border_count': 807, 'leaf_estimation_iterations': 2, 'bagging_temperature': 0.6544461733299322, 'max_leaves': 36}. Best is trial 22 with value: 0.6690094724423854.\n",
      "[I 2024-12-30 19:58:31,007] Trial 25 finished with value: 0.6676431479523598 and parameters: {'iterations': 989, 'learning_rate': 0.008799262069848764, 'depth': 7, 'l2_leaf_reg': 4.145923420031809, 'border_count': 969, 'leaf_estimation_iterations': 2, 'bagging_temperature': 0.7468346463879196, 'max_leaves': 37}. Best is trial 22 with value: 0.6690094724423854.\n",
      "[I 2024-12-30 20:00:00,503] Trial 26 finished with value: 0.6687172086893991 and parameters: {'iterations': 1343, 'learning_rate': 0.00873732009660378, 'depth': 7, 'l2_leaf_reg': 4.382896024032072, 'border_count': 913, 'leaf_estimation_iterations': 2, 'bagging_temperature': 0.8656095517626302, 'max_leaves': 35}. Best is trial 22 with value: 0.6690094724423854.\n",
      "[I 2024-12-30 20:01:43,171] Trial 27 finished with value: 0.6685387841958967 and parameters: {'iterations': 1375, 'learning_rate': 0.009291786291368325, 'depth': 8, 'l2_leaf_reg': 6.897623826879306, 'border_count': 773, 'leaf_estimation_iterations': 2, 'bagging_temperature': 0.6703533252021202, 'max_leaves': 39}. Best is trial 22 with value: 0.6690094724423854.\n",
      "[I 2024-12-30 20:03:15,500] Trial 28 finished with value: 0.6684242046762141 and parameters: {'iterations': 1171, 'learning_rate': 0.008411513740486888, 'depth': 9, 'l2_leaf_reg': 5.286933770691597, 'border_count': 848, 'leaf_estimation_iterations': 2, 'bagging_temperature': 0.5467074133826313, 'max_leaves': 37}. Best is trial 22 with value: 0.6690094724423854.\n",
      "[I 2024-12-30 20:04:17,861] Trial 29 finished with value: 0.6666581031176376 and parameters: {'iterations': 847, 'learning_rate': 0.009946643562589341, 'depth': 7, 'l2_leaf_reg': 6.269410406968501, 'border_count': 663, 'leaf_estimation_iterations': 1, 'bagging_temperature': 0.427317106447044, 'max_leaves': 40}. Best is trial 22 with value: 0.6690094724423854.\n",
      "[I 2024-12-30 20:05:35,719] Trial 30 finished with value: 0.6676184901440756 and parameters: {'iterations': 1070, 'learning_rate': 0.007450216020961674, 'depth': 10, 'l2_leaf_reg': 2.392094603689283, 'border_count': 739, 'leaf_estimation_iterations': 2, 'bagging_temperature': 0.8334503754328265, 'max_leaves': 34}. Best is trial 22 with value: 0.6690094724423854.\n",
      "[I 2024-12-30 20:07:04,659] Trial 31 finished with value: 0.6686673647986203 and parameters: {'iterations': 1355, 'learning_rate': 0.008838425041248873, 'depth': 7, 'l2_leaf_reg': 4.021239338477872, 'border_count': 890, 'leaf_estimation_iterations': 2, 'bagging_temperature': 0.8774202961312523, 'max_leaves': 35}. Best is trial 22 with value: 0.6690094724423854.\n",
      "[I 2024-12-30 20:08:38,123] Trial 32 finished with value: 0.6687234152896393 and parameters: {'iterations': 1369, 'learning_rate': 0.009248736459175982, 'depth': 8, 'l2_leaf_reg': 4.49855917491438, 'border_count': 899, 'leaf_estimation_iterations': 3, 'bagging_temperature': 0.7879876547456867, 'max_leaves': 36}. Best is trial 22 with value: 0.6690094724423854.\n",
      "[I 2024-12-30 20:10:01,973] Trial 33 finished with value: 0.6686143063847009 and parameters: {'iterations': 1240, 'learning_rate': 0.009389790131848347, 'depth': 8, 'l2_leaf_reg': 4.815683722226888, 'border_count': 928, 'leaf_estimation_iterations': 3, 'bagging_temperature': 0.7624117201924548, 'max_leaves': 36}. Best is trial 22 with value: 0.6690094724423854.\n",
      "[I 2024-12-30 20:11:48,762] Trial 34 finished with value: 0.6688524150994896 and parameters: {'iterations': 1417, 'learning_rate': 0.007406165674160872, 'depth': 9, 'l2_leaf_reg': 5.575205646544332, 'border_count': 819, 'leaf_estimation_iterations': 1, 'bagging_temperature': 0.6202899342093842, 'max_leaves': 39}. Best is trial 22 with value: 0.6690094724423854.\n",
      "[I 2024-12-30 20:13:43,393] Trial 35 finished with value: 0.6691949439374535 and parameters: {'iterations': 1601, 'learning_rate': 0.00742661611185189, 'depth': 9, 'l2_leaf_reg': 5.672207976846522, 'border_count': 1018, 'leaf_estimation_iterations': 1, 'bagging_temperature': 0.6115835360324359, 'max_leaves': 39}. Best is trial 35 with value: 0.6691949439374535.\n",
      "[I 2024-12-30 20:16:18,636] Trial 36 finished with value: 0.6697412225613247 and parameters: {'iterations': 1868, 'learning_rate': 0.008304804577013174, 'depth': 10, 'l2_leaf_reg': 5.922090014493589, 'border_count': 1005, 'leaf_estimation_iterations': 1, 'bagging_temperature': 0.6998204297058909, 'max_leaves': 40}. Best is trial 36 with value: 0.6697412225613247.\n",
      "[I 2024-12-30 20:18:47,108] Trial 37 finished with value: 0.6696882673931032 and parameters: {'iterations': 1985, 'learning_rate': 0.00817510238411402, 'depth': 10, 'l2_leaf_reg': 5.9484446227651, 'border_count': 1003, 'leaf_estimation_iterations': 1, 'bagging_temperature': 0.704270000824778, 'max_leaves': 41}. Best is trial 36 with value: 0.6697412225613247.\n",
      "[I 2024-12-30 20:21:23,911] Trial 38 finished with value: 0.6691297667685621 and parameters: {'iterations': 1902, 'learning_rate': 0.00625603759745467, 'depth': 12, 'l2_leaf_reg': 6.061105782169933, 'border_count': 1014, 'leaf_estimation_iterations': 1, 'bagging_temperature': 0.7096065345322992, 'max_leaves': 41}. Best is trial 36 with value: 0.6697412225613247.\n",
      "[I 2024-12-30 20:24:13,993] Trial 39 finished with value: 0.6693196242665052 and parameters: {'iterations': 1991, 'learning_rate': 0.005775150544128272, 'depth': 12, 'l2_leaf_reg': 8.694776355953557, 'border_count': 1011, 'leaf_estimation_iterations': 1, 'bagging_temperature': 0.6559916099445203, 'max_leaves': 41}. Best is trial 36 with value: 0.6697412225613247.\n",
      "[I 2024-12-30 20:27:09,697] Trial 40 finished with value: 0.6690908904747339 and parameters: {'iterations': 1981, 'learning_rate': 0.005288824100284216, 'depth': 15, 'l2_leaf_reg': 8.883024153986705, 'border_count': 1022, 'leaf_estimation_iterations': 1, 'bagging_temperature': 0.6462806503313663, 'max_leaves': 41}. Best is trial 36 with value: 0.6697412225613247.\n",
      "[I 2024-12-30 20:29:43,541] Trial 41 finished with value: 0.6691675094937178 and parameters: {'iterations': 1890, 'learning_rate': 0.006105386669232307, 'depth': 12, 'l2_leaf_reg': 6.654578800228226, 'border_count': 1023, 'leaf_estimation_iterations': 1, 'bagging_temperature': 0.6966923809953722, 'max_leaves': 41}. Best is trial 36 with value: 0.6697412225613247.\n",
      "[I 2024-12-30 20:32:40,256] Trial 42 finished with value: 0.6690468459247094 and parameters: {'iterations': 1860, 'learning_rate': 0.006128981405498328, 'depth': 12, 'l2_leaf_reg': 6.933816065414943, 'border_count': 963, 'leaf_estimation_iterations': 1, 'bagging_temperature': 0.6908362440334807, 'max_leaves': 40}. Best is trial 36 with value: 0.6697412225613247.\n",
      "[I 2024-12-30 20:34:56,944] Trial 43 finished with value: 0.6686275532079204 and parameters: {'iterations': 1631, 'learning_rate': 0.005359328393779232, 'depth': 13, 'l2_leaf_reg': 9.49846156573656, 'border_count': 993, 'leaf_estimation_iterations': 1, 'bagging_temperature': 0.7972695356964545, 'max_leaves': 42}. Best is trial 36 with value: 0.6697412225613247.\n",
      "[W 2024-12-30 20:37:08,845] Trial 44 failed with parameters: {'iterations': 1890, 'learning_rate': 0.008150233447404438, 'depth': 14, 'l2_leaf_reg': 8.450771439605905, 'border_count': 954, 'leaf_estimation_iterations': 1, 'bagging_temperature': 0.720304608641721, 'max_leaves': 41} because of the following error: KeyboardInterrupt('').\n",
      "Traceback (most recent call last):\n",
      "  File \"C:\\Users\\Николай\\PycharmProjects\\CIBMTR\\.venv\\lib\\site-packages\\optuna\\study\\_optimize.py\", line 197, in _run_trial\n",
      "    value_or_values = func(trial)\n",
      "  File \"C:\\Users\\Николай\\AppData\\Local\\Temp\\ipykernel_3676\\878377911.py\", line 22, in optimize_cat\n",
      "    model.fit(X_train, y_train, eval_set=[(X_valid, y_valid)], verbose=False)\n",
      "  File \"C:\\Users\\Николай\\PycharmProjects\\CIBMTR\\.venv\\lib\\site-packages\\catboost\\core.py\", line 5873, in fit\n",
      "    return self._fit(X, y, cat_features, text_features, embedding_features, None, graph, sample_weight, None, None, None, None, baseline,\n",
      "  File \"C:\\Users\\Николай\\PycharmProjects\\CIBMTR\\.venv\\lib\\site-packages\\catboost\\core.py\", line 2410, in _fit\n",
      "    self._train(\n",
      "  File \"C:\\Users\\Николай\\PycharmProjects\\CIBMTR\\.venv\\lib\\site-packages\\catboost\\core.py\", line 1790, in _train\n",
      "    self._object._train(train_pool, test_pool, params, allow_clear_pool, init_model._object if init_model else None)\n",
      "  File \"_catboost.pyx\", line 5017, in _catboost._CatBoost._train\n",
      "  File \"_catboost.pyx\", line 5066, in _catboost._CatBoost._train\n",
      "KeyboardInterrupt\n",
      "[W 2024-12-30 20:37:08,858] Trial 44 failed with value None.\n",
      "\n",
      "KeyboardInterrupt\n",
      "\n"
     ]
    }
   ],
   "source": [
    "study_cat = optuna.create_study(direction='maximize', sampler=optuna.samplers.TPESampler(seed=CONFIG['SEED']))\n",
    "study_cat.optimize(optimize_cat, n_trials=43)"
   ],
   "metadata": {
    "collapsed": false,
    "ExecuteTime": {
     "end_time": "2024-12-30T17:37:08.929359100Z",
     "start_time": "2024-12-30T16:19:18.217034900Z"
    }
   },
   "id": "6671f52e7d3c2b3a",
   "execution_count": 11
  },
  {
   "cell_type": "code",
   "outputs": [],
   "source": [
    "best_params_cat = study_cat.best_params\n",
    "final_params = {**fixed_params, **best_params_cat}  "
   ],
   "metadata": {
    "collapsed": false,
    "ExecuteTime": {
     "end_time": "2024-12-30T17:37:12.954823500Z",
     "start_time": "2024-12-30T17:37:12.940822100Z"
    }
   },
   "id": "95e24aa905f98c66",
   "execution_count": 12
  },
  {
   "cell_type": "code",
   "outputs": [
    {
     "data": {
      "text/plain": "<catboost.core.CatBoostRegressor at 0x2de6b633cd0>"
     },
     "execution_count": 13,
     "metadata": {},
     "output_type": "execute_result"
    }
   ],
   "source": [
    "final_cat = CatBoostRegressor(cat_features=cat_columns, **final_params)\n",
    "final_cat.fit(X, y)"
   ],
   "metadata": {
    "collapsed": false,
    "ExecuteTime": {
     "end_time": "2024-12-30T17:37:40.922558400Z",
     "start_time": "2024-12-30T17:37:13.490074400Z"
    }
   },
   "id": "97782c5be4517c4e",
   "execution_count": 13
  },
  {
   "cell_type": "code",
   "outputs": [],
   "source": [
    "final_cat.model_number = number"
   ],
   "metadata": {
    "collapsed": false,
    "ExecuteTime": {
     "end_time": "2024-12-30T17:37:40.950558300Z",
     "start_time": "2024-12-30T17:37:40.924558300Z"
    }
   },
   "id": "5077a3d58ed84201",
   "execution_count": 14
  },
  {
   "cell_type": "code",
   "outputs": [
    {
     "data": {
      "text/plain": "['2.1.5_model.pkl']"
     },
     "execution_count": 15,
     "metadata": {},
     "output_type": "execute_result"
    }
   ],
   "source": [
    "joblib.dump(final_cat, f\"{number}_model.pkl\")"
   ],
   "metadata": {
    "collapsed": false,
    "ExecuteTime": {
     "end_time": "2024-12-30T17:37:41.003559Z",
     "start_time": "2024-12-30T17:37:40.937558300Z"
    }
   },
   "id": "2b2e3bf4e98d533d",
   "execution_count": 15
  },
  {
   "cell_type": "code",
   "outputs": [],
   "source": [
    "cat_importance = final_cat.get_feature_importance()"
   ],
   "metadata": {
    "collapsed": false,
    "ExecuteTime": {
     "end_time": "2024-12-30T17:37:41.033558500Z",
     "start_time": "2024-12-30T17:37:40.970558400Z"
    }
   },
   "id": "3e50b9cbcbd85c7f",
   "execution_count": 16
  },
  {
   "cell_type": "code",
   "outputs": [
    {
     "name": "stdout",
     "output_type": "stream",
     "text": [
      "CatBoost Feature Importances:\n",
      "                    Feature  Importance\n",
      "0                dri_score   15.890126\n",
      "26  conditioning_intensity    9.393092\n",
      "46       comorbidity_score    7.658931\n",
      "28                year_hct    6.191124\n",
      "35               donor_age    6.049884\n",
      "39              age_at_hct    5.701769\n",
      "47         karnofsky_score    4.503757\n",
      "25       cyto_score_detail    3.973986\n",
      "43               sex_match    2.904849\n",
      "13        prim_disease_hct    2.833176\n",
      "2               cyto_score    2.831998\n",
      "30                 mrd_hct    2.374350\n",
      "41              gvhd_proph    2.309265\n",
      "45              race_group    1.884209\n",
      "15              cmv_status    1.877941\n",
      "12             pulm_severe    1.746401\n",
      "50           donor_related    1.322459\n",
      "53                 cardiac    1.293587\n",
      "36             prior_tumor    1.191347\n",
      "7               arrhythmia    1.148370\n",
      "6               tbi_status    1.116255\n",
      "31             in_vivo_tcd    1.023788\n",
      "19              hla_nmdp_6    0.989357\n",
      "3                 diabetes    0.985406\n",
      "18           tce_imm_match    0.957263\n",
      "49           tce_div_match    0.865190\n",
      "32               tce_match    0.676238\n",
      "9               graft_type    0.620569\n",
      "1            psych_disturb    0.547206\n",
      "51          melphalan_dose    0.543579\n",
      "33        hla_match_a_high    0.523729\n",
      "55           pulm_moderate    0.512477\n",
      "34          hepatic_severe    0.494318\n",
      "40         hla_match_a_low    0.490093\n",
      "56          hla_low_res_10    0.465025\n",
      "16         hla_high_res_10    0.464021\n",
      "29                 obesity    0.460317\n",
      "27               ethnicity    0.443241\n",
      "48            hepatic_mild    0.435941\n",
      "24               prod_type    0.410137\n",
      "42             rheum_issue    0.358218\n",
      "52           hla_low_res_8    0.322454\n",
      "10               vent_hist    0.298327\n",
      "21               rituximab    0.280972\n",
      "5           hla_high_res_8    0.263886\n",
      "38            peptic_ulcer    0.256695\n",
      "4         hla_match_c_high    0.250911\n",
      "37         hla_match_b_low    0.232435\n",
      "14          hla_high_res_6    0.230308\n",
      "23      hla_match_dqb1_low    0.213850\n",
      "54     hla_match_drb1_high    0.213310\n",
      "8            hla_low_res_6    0.208530\n",
      "17     hla_match_dqb1_high    0.201035\n",
      "11             renal_issue    0.177441\n",
      "20         hla_match_c_low    0.174303\n",
      "44        hla_match_b_high    0.124164\n",
      "22      hla_match_drb1_low    0.088390\n"
     ]
    }
   ],
   "source": [
    "cat_importance_df = pd.DataFrame({\n",
    "    'Feature': X.columns,\n",
    "    'Importance': cat_importance\n",
    "}).sort_values(by='Importance', ascending=False)\n",
    "\n",
    "print(\"CatBoost Feature Importances:\\n\", cat_importance_df)"
   ],
   "metadata": {
    "collapsed": false,
    "ExecuteTime": {
     "end_time": "2024-12-30T17:37:41.052558500Z",
     "start_time": "2024-12-30T17:37:41.033558500Z"
    }
   },
   "id": "7b65d88176d2873f",
   "execution_count": 17
  },
  {
   "cell_type": "code",
   "outputs": [],
   "source": [
    "# auto_params = ['per_float_feature_quantization', 'input_borders', 'output_borders', 'fold_permutation_block', 'counter_calc_method', 'thread_count', 'best_model_min_trees', 'verbose', 'silent', 'metric_period', 'ctr_leaf_count_limit', 'store_all_simple_ctr', 'has_time', 'allow_const_label', 'target_border', 'random_score_type', 'name', 'ignored_features', 'train_dir', 'custom_metric', 'save_snapshot', 'snapshot_file', 'snapshot_interval', 'fold_len_multiplier', 'used_ram_limit', 'gpu_ram_part', 'pinned_memory_size', 'final_ctr_computation_mode', 'simple_ctr', 'combinations_ctr', 'per_feature_ctr', 'ctr_description', 'ctr_target_border_count', 'device_config', 'devices', 'subsample', 'mvs_reg', 'sampling_frequency', 'sampling_unit', 'subsampling_factor', 'dev_score_calc_obj_block_size', 'dev_efb_max_buckets', 'sparse_features_conflict_fraction', 'max_depth', 'n_estimators', 'num_boost_round', 'num_trees', 'colsample_bylevel', 'random_state', 'reg_lambda', 'reg_lambda', 'eta', 'max_bin', 'gpu_cat_features_storage', 'data_partition', 'metadata', 'min_data_in_leaf', 'min_child_samples', 'num_leaves', 'score_function', 'ctr_history_unit', 'monotone_constraints', 'feature_weights', 'penalties_coefficient', 'first_feature_use_penalties', 'per_object_feature_penalties', 'model_shrink_rate', 'model_shrink_mode', 'langevin', 'diffusion_temperature', 'posterior_sampling', 'text_features', 'tokenizers', 'dictionaries', 'feature_calcers', 'text_processing', 'embedding_features', 'eval_fraction', 'fixed_binary_splits', 'od_type', 'od_pval', 'od_wait', 'approx_on_full_history', 'boosting_type']"
   ],
   "metadata": {
    "collapsed": false,
    "ExecuteTime": {
     "start_time": "2024-12-30T17:37:08.942359100Z"
    }
   },
   "id": "e3e9fd32b0938562",
   "execution_count": null
  },
  {
   "cell_type": "code",
   "outputs": [],
   "source": [],
   "metadata": {
    "collapsed": false,
    "ExecuteTime": {
     "start_time": "2024-12-30T17:37:08.943359100Z"
    }
   },
   "id": "5b10f800f371e6d1",
   "execution_count": null
  }
 ],
 "metadata": {
  "kernelspec": {
   "display_name": "Python 3",
   "language": "python",
   "name": "python3"
  },
  "language_info": {
   "codemirror_mode": {
    "name": "ipython",
    "version": 2
   },
   "file_extension": ".py",
   "mimetype": "text/x-python",
   "name": "python",
   "nbconvert_exporter": "python",
   "pygments_lexer": "ipython2",
   "version": "2.7.6"
  }
 },
 "nbformat": 4,
 "nbformat_minor": 5
}
