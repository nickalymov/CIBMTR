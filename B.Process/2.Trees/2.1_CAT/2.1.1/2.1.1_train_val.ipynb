{
 "cells": [
  {
   "cell_type": "code",
   "outputs": [],
   "source": [
    "import os\n",
    "current_directory = os.getcwd()\n",
    "folder_name = os.path.basename(current_directory)\n",
    "number = folder_name"
   ],
   "metadata": {
    "collapsed": false,
    "ExecuteTime": {
     "end_time": "2024-12-29T13:25:05.361954300Z",
     "start_time": "2024-12-29T13:25:05.321970600Z"
    }
   },
   "id": "cb2065b8802f8251",
   "execution_count": 40
  },
  {
   "cell_type": "code",
   "outputs": [],
   "source": [
    "CONFIG = {\n",
    "    'data_main': 'C:/Users/Николай/PycharmProjects/CIBMTR/D.Data/main/',\n",
    "    'data_train_process': 'C:/Users/Николай/PycharmProjects/CIBMTR/D.Data/train_process/',\n",
    "    'data_train_split': 'C:/Users/Николай/PycharmProjects/CIBMTR/D.Data/train_split/',\n",
    "    'train_path': 'train.csv',\n",
    "    'folds_path': 'v1.csv', \n",
    "\n",
    "    'DEVICE' : 'cuda',\n",
    "    'SEED' : 42,\n",
    "}"
   ],
   "metadata": {
    "collapsed": false,
    "ExecuteTime": {
     "end_time": "2024-12-29T13:25:05.362969300Z",
     "start_time": "2024-12-29T13:25:05.339957800Z"
    }
   },
   "id": "9174032d882584ac",
   "execution_count": 41
  },
  {
   "cell_type": "code",
   "outputs": [],
   "source": [
    "import optuna\n",
    "import pandas as pd\n",
    "from catboost import CatBoostRegressor\n",
    "from sklearn.model_selection import StratifiedKFold\n",
    "from sklearn.metrics import roc_auc_score\n",
    "import numpy as np\n",
    "import joblib\n",
    "import optuna\n",
    "import pandas as pd\n",
    "import xgboost as xgb\n",
    "from sklearn.model_selection import StratifiedKFold\n",
    "import numpy as np\n",
    "import joblib \n",
    "from metric import score_\n",
    "from lifelines import KaplanMeierFitter"
   ],
   "metadata": {
    "collapsed": false,
    "ExecuteTime": {
     "end_time": "2024-12-29T13:25:05.377956200Z",
     "start_time": "2024-12-29T13:25:05.353955200Z"
    }
   },
   "id": "b015da9f4c673f76",
   "execution_count": 42
  },
  {
   "cell_type": "code",
   "outputs": [],
   "source": [
    "def transform_survival_probability(df, time_col='efs_time', event_col='efs'):\n",
    "    kmf = KaplanMeierFitter()\n",
    "    kmf.fit(df[time_col], df[event_col])\n",
    "    y = kmf.survival_function_at_times(df[time_col]).values\n",
    "    return y"
   ],
   "metadata": {
    "collapsed": false,
    "ExecuteTime": {
     "end_time": "2024-12-29T13:25:05.389957100Z",
     "start_time": "2024-12-29T13:25:05.372954800Z"
    }
   },
   "id": "8e5da4978bd8e1b0",
   "execution_count": 43
  },
  {
   "cell_type": "code",
   "outputs": [],
   "source": [
    "# Load and prepare data\n",
    "train = pd.read_csv(f\"{CONFIG['data_main']}{CONFIG['train_path']}\")\n",
    "train = train.fillna('-1')\n",
    "\n",
    "for col in ['donor_age', 'age_at_hct']:\n",
    "    train[col] = train[col].astype(int)\n",
    "    \n",
    "train[\"y\"] = transform_survival_probability(train, time_col='efs_time', event_col='efs')\n",
    "\n",
    "cat_columns = [col for col in train.columns if col not in ['efs', 'efs_time', 'y', 'ID']]\n",
    "train[cat_columns] = train[cat_columns].astype(str)\n",
    "train_one_hot = pd.get_dummies(train[cat_columns], drop_first=True)"
   ],
   "metadata": {
    "collapsed": false,
    "ExecuteTime": {
     "end_time": "2024-12-29T13:25:06.039956900Z",
     "start_time": "2024-12-29T13:25:05.386956800Z"
    }
   },
   "id": "214abe3370778cbd",
   "execution_count": 44
  },
  {
   "cell_type": "code",
   "outputs": [],
   "source": [
    "# Определение признаков и целевой переменной\n",
    "X = train.drop(columns=['y', 'efs', 'efs_time', 'ID', 'race_group'])\n",
    "for col in X.columns:  # Предполагаем, что cat_features — это список индексов категориальных признаков\n",
    "    X[col] = X[col].astype(str)\n",
    "\n",
    "y = train['y']"
   ],
   "metadata": {
    "collapsed": false,
    "ExecuteTime": {
     "end_time": "2024-12-29T13:25:06.135957Z",
     "start_time": "2024-12-29T13:25:06.041955600Z"
    }
   },
   "id": "eb925cb7123ec6",
   "execution_count": 45
  },
  {
   "cell_type": "code",
   "outputs": [],
   "source": [
    "# Установка параметров кросс-валидации\n",
    "n_splits = 5\n",
    "skf = StratifiedKFold(n_splits=n_splits, shuffle=True, random_state=CONFIG['SEED'])"
   ],
   "metadata": {
    "collapsed": false,
    "ExecuteTime": {
     "end_time": "2024-12-29T13:25:06.150956100Z",
     "start_time": "2024-12-29T13:25:06.135957Z"
    }
   },
   "id": "30d7e73c149b9248",
   "execution_count": 46
  },
  {
   "cell_type": "code",
   "outputs": [],
   "source": [
    "# Фиксированные параметры\n",
    "fixed_params = {\n",
    "    'od_wait': 50,\n",
    "    'od_type': 'IncToDec',\n",
    "    'leaf_estimation_method': 'Newton',\n",
    "    'verbose': False,\n",
    "    'eval_metric': 'RMSE',\n",
    "    'allow_writing_files': False,\n",
    "    'task_type': 'GPU',\n",
    "    'devices': '0',\n",
    "    'score_function': 'NewtonL2',\n",
    "    'leaf_estimation_backtracking': 'Armijo',\n",
    "    'boost_from_average': False,\n",
    "    'grow_policy': 'Lossguide',\n",
    "    \n",
    "}\n"
   ],
   "metadata": {
    "collapsed": false,
    "ExecuteTime": {
     "end_time": "2024-12-29T13:25:06.185957300Z",
     "start_time": "2024-12-29T13:25:06.152957Z"
    }
   },
   "id": "fcfa2d6ba97ee9c5",
   "execution_count": 47
  },
  {
   "cell_type": "code",
   "outputs": [],
   "source": [
    "# Функция для оптимизации CatBoost\n",
    "def optimize_cat(trial):\n",
    "    params = {\n",
    "        'iterations': trial.suggest_int('iterations', 100, 1000),\n",
    "        'learning_rate': trial.suggest_float('learning_rate', 0.001, 0.1, log=True),\n",
    "        'depth': trial.suggest_int('depth', 4, 16),\n",
    "        'l2_leaf_reg': trial.suggest_float('l2_leaf_reg', 1e-5, 100, log=True),\n",
    "        'model_size_reg': trial.suggest_int('model_size_reg', 0, 25),\n",
    "        'border_count': trial.suggest_int('border_count', 128, 255),\n",
    "        'feature_border_type': trial.suggest_categorical('feature_border_type', ['Median', 'Uniform', 'UniformAndQuantiles', 'GreedyLogSum', 'MaxLogSum', 'MinEntropy']),\n",
    "        'fold_permutation_block': trial.suggest_int('fold_permutation_block', 128, 256),\n",
    "        'od_pval': trial.suggest_float('od_pval', 0.001, 0.1),\n",
    "        'leaf_estimation_iterations': trial.suggest_int('leaf_estimation_iterations', 1, 16),\n",
    "        'best_model_min_trees': trial.suggest_int('best_model_min_trees', 10, 100),\n",
    "        'random_strength': trial.suggest_float('random_strength', 0.1, 1),\n",
    "        'bagging_temperature': trial.suggest_float('bagging_temperature', 0.1, 1.0),\n",
    "        'penalties_coefficient': trial.suggest_float('penalties_coefficient', 0.1, 10),\n",
    "        'min_data_in_leaf': trial.suggest_int('min_data_in_leaf', 1, 10),\n",
    "        'max_leaves': trial.suggest_int('max_leaves', 31, 256),\n",
    "    }\n",
    "    # Объединение оптимизированных и фиксированных параметров\n",
    "    final_params = {**fixed_params, **params}\n",
    "    \n",
    "    scores = []\n",
    "    \n",
    "    for train_idx, valid_idx in skf.split(X, train['race_group']):\n",
    "        X_train, X_valid = X.iloc[train_idx], X.iloc[valid_idx]\n",
    "        y_train, y_valid = y.iloc[train_idx], y.iloc[valid_idx]\n",
    "        \n",
    "        model = CatBoostRegressor(cat_features=list(X.columns), **final_params)\n",
    "        model.fit(X_train, y_train, eval_set=[(X_valid, y_valid)], verbose=False)\n",
    "        \n",
    "        preds = model.predict(X_valid)\n",
    "        fold_score = score_(pd.DataFrame({'efs': train.iloc[valid_idx]['efs'].to_list(), \n",
    "                                          'efs_time' : train.iloc[valid_idx]['efs_time'].to_list(),\n",
    "                                          'race_group': train.iloc[valid_idx]['race_group'].to_list()}),\n",
    "                            pd.DataFrame(preds, columns=['prediction']))\n",
    "        scores.append(fold_score)\n",
    "    \n",
    "    return np.mean(scores)"
   ],
   "metadata": {
    "collapsed": false,
    "ExecuteTime": {
     "end_time": "2024-12-29T13:25:06.186956500Z",
     "start_time": "2024-12-29T13:25:06.168958200Z"
    }
   },
   "id": "cc9968ace3101cb7",
   "execution_count": 48
  },
  {
   "cell_type": "code",
   "outputs": [
    {
     "name": "stderr",
     "output_type": "stream",
     "text": [
      "[I 2024-12-29 16:25:06,184] A new study created in memory with name: no-name-d9c16c42-ce5b-4bb9-8161-600b5ed82383\n",
      "[I 2024-12-29 16:27:43,104] Trial 0 finished with value: 0.6617160003925173 and parameters: {'iterations': 437, 'learning_rate': 0.07969454818643935, 'depth': 13, 'l2_leaf_reg': 0.1550991398759431, 'model_size_reg': 4, 'border_count': 147, 'feature_border_type': 'MinEntropy', 'fold_permutation_block': 235, 'od_pval': 0.022021571957149343, 'leaf_estimation_iterations': 3, 'best_model_min_trees': 26, 'random_strength': 0.373818018663584, 'bagging_temperature': 0.5722807884690141, 'penalties_coefficient': 4.376255684556946, 'min_data_in_leaf': 3, 'max_leaves': 169}. Best is trial 0 with value: 0.6617160003925173.\n",
      "[I 2024-12-29 16:29:14,987] Trial 1 finished with value: 0.6468409428225212 and parameters: {'iterations': 225, 'learning_rate': 0.00383962929980417, 'depth': 8, 'l2_leaf_reg': 0.015577217702693031, 'model_size_reg': 20, 'border_count': 153, 'feature_border_type': 'GreedyLogSum', 'fold_permutation_block': 250, 'od_pval': 0.09659757127438139, 'leaf_estimation_iterations': 13, 'best_model_min_trees': 37, 'random_strength': 0.1879049026057455, 'bagging_temperature': 0.7158097238609412, 'penalties_coefficient': 4.457509688022053, 'min_data_in_leaf': 2, 'max_leaves': 142}. Best is trial 0 with value: 0.6617160003925173.\n",
      "[I 2024-12-29 16:29:51,108] Trial 2 finished with value: 0.6637693927800468 and parameters: {'iterations': 130, 'learning_rate': 0.06586289317583113, 'depth': 7, 'l2_leaf_reg': 0.43416618003617374, 'model_size_reg': 8, 'border_count': 194, 'feature_border_type': 'UniformAndQuantiles', 'fold_permutation_block': 205, 'od_pval': 0.09226554926728857, 'leaf_estimation_iterations': 2, 'best_model_min_trees': 27, 'random_strength': 0.14070456001948428, 'bagging_temperature': 0.39279729768693794, 'penalties_coefficient': 3.9479051679258723, 'min_data_in_leaf': 3, 'max_leaves': 218}. Best is trial 2 with value: 0.6637693927800468.\n",
      "[I 2024-12-29 16:30:46,997] Trial 3 finished with value: 0.6524598830014336 and parameters: {'iterations': 421, 'learning_rate': 0.0036464395589807202, 'depth': 11, 'l2_leaf_reg': 9.693253593230322e-05, 'model_size_reg': 20, 'border_count': 137, 'feature_border_type': 'Median', 'fold_permutation_block': 222, 'od_pval': 0.07735576432190863, 'leaf_estimation_iterations': 2, 'best_model_min_trees': 42, 'random_strength': 0.20428215357261675, 'bagging_temperature': 0.8767930832880342, 'penalties_coefficient': 6.270651455592823, 'min_data_in_leaf': 4, 'max_leaves': 45}. Best is trial 2 with value: 0.6637693927800468.\n",
      "[I 2024-12-29 16:33:30,863] Trial 4 finished with value: 0.6567147755168478 and parameters: {'iterations': 380, 'learning_rate': 0.004470608546778492, 'depth': 13, 'l2_leaf_reg': 0.2903369428128563, 'model_size_reg': 23, 'border_count': 188, 'feature_border_type': 'MaxLogSum', 'fold_permutation_block': 195, 'od_pval': 0.04332656081749642, 'leaf_estimation_iterations': 1, 'best_model_min_trees': 19, 'random_strength': 0.12828626711806082, 'bagging_temperature': 0.6727693701374023, 'penalties_coefficient': 3.212124212655634, 'min_data_in_leaf': 6, 'max_leaves': 236}. Best is trial 2 with value: 0.6637693927800468.\n",
      "[I 2024-12-29 16:35:01,249] Trial 5 finished with value: 0.6577115266613529 and parameters: {'iterations': 324, 'learning_rate': 0.006618595597183482, 'depth': 13, 'l2_leaf_reg': 0.00039956474180158537, 'model_size_reg': 2, 'border_count': 165, 'feature_border_type': 'Uniform', 'fold_permutation_block': 152, 'od_pval': 0.0893633408505078, 'leaf_estimation_iterations': 9, 'best_model_min_trees': 83, 'random_strength': 0.9064821699311439, 'bagging_temperature': 0.38620312747467755, 'penalties_coefficient': 1.189514052824, 'min_data_in_leaf': 3, 'max_leaves': 127}. Best is trial 2 with value: 0.6637693927800468.\n",
      "[I 2024-12-29 16:36:26,554] Trial 6 finished with value: 0.6662526912033047 and parameters: {'iterations': 837, 'learning_rate': 0.05265761277157429, 'depth': 4, 'l2_leaf_reg': 0.03760374665179121, 'model_size_reg': 10, 'border_count': 156, 'feature_border_type': 'UniformAndQuantiles', 'fold_permutation_block': 174, 'od_pval': 0.09720642618937511, 'leaf_estimation_iterations': 16, 'best_model_min_trees': 32, 'random_strength': 0.547523655303147, 'bagging_temperature': 0.37079047883509275, 'penalties_coefficient': 2.9199208943369297, 'min_data_in_leaf': 1, 'max_leaves': 168}. Best is trial 6 with value: 0.6662526912033047.\n",
      "[I 2024-12-29 16:37:30,040] Trial 7 finished with value: 0.630931689648925 and parameters: {'iterations': 552, 'learning_rate': 0.0012675278269816293, 'depth': 7, 'l2_leaf_reg': 22.796134031070487, 'model_size_reg': 6, 'border_count': 146, 'feature_border_type': 'Uniform', 'fold_permutation_block': 221, 'od_pval': 0.037410530139206075, 'leaf_estimation_iterations': 11, 'best_model_min_trees': 67, 'random_strength': 0.5821972156672827, 'bagging_temperature': 0.18126079304896747, 'penalties_coefficient': 8.369494706333455, 'min_data_in_leaf': 4, 'max_leaves': 73}. Best is trial 6 with value: 0.6662526912033047.\n",
      "[I 2024-12-29 16:38:25,883] Trial 8 finished with value: 0.6572065093438917 and parameters: {'iterations': 136, 'learning_rate': 0.01519798062003422, 'depth': 12, 'l2_leaf_reg': 1.3065162102672634e-05, 'model_size_reg': 13, 'border_count': 156, 'feature_border_type': 'MaxLogSum', 'fold_permutation_block': 171, 'od_pval': 0.01223387860281832, 'leaf_estimation_iterations': 15, 'best_model_min_trees': 89, 'random_strength': 0.33214746494364006, 'bagging_temperature': 0.6939856414307611, 'penalties_coefficient': 8.190499781992036, 'min_data_in_leaf': 6, 'max_leaves': 150}. Best is trial 6 with value: 0.6662526912033047.\n",
      "[I 2024-12-29 16:39:28,513] Trial 9 finished with value: 0.628010647854124 and parameters: {'iterations': 317, 'learning_rate': 0.0015353434324857037, 'depth': 15, 'l2_leaf_reg': 20.087523606336816, 'model_size_reg': 16, 'border_count': 171, 'feature_border_type': 'UniformAndQuantiles', 'fold_permutation_block': 138, 'od_pval': 0.017001242695366764, 'leaf_estimation_iterations': 15, 'best_model_min_trees': 65, 'random_strength': 0.10827734645496669, 'bagging_temperature': 0.1913243885794289, 'penalties_coefficient': 6.668667514169752, 'min_data_in_leaf': 1, 'max_leaves': 67}. Best is trial 6 with value: 0.6662526912033047.\n"
     ]
    }
   ],
   "source": [
    "study_cat = optuna.create_study(direction='maximize', sampler=optuna.samplers.TPESampler(seed=42))\n",
    "study_cat.optimize(optimize_cat, n_trials=10)"
   ],
   "metadata": {
    "collapsed": false,
    "ExecuteTime": {
     "end_time": "2024-12-29T13:39:28.527420400Z",
     "start_time": "2024-12-29T13:25:06.183956800Z"
    }
   },
   "id": "6671f52e7d3c2b3a",
   "execution_count": 49
  },
  {
   "cell_type": "code",
   "outputs": [],
   "source": [
    "# Получение лучших параметров\n",
    "best_params_cat = study_cat.best_params\n",
    "\n",
    "# Объединение лучших параметров с фиксированными\n",
    "final_params = {**fixed_params, **best_params_cat}"
   ],
   "metadata": {
    "collapsed": false,
    "ExecuteTime": {
     "end_time": "2024-12-29T13:39:28.551461400Z",
     "start_time": "2024-12-29T13:39:28.529413400Z"
    }
   },
   "id": "95e24aa905f98c66",
   "execution_count": 50
  },
  {
   "cell_type": "code",
   "outputs": [
    {
     "data": {
      "text/plain": "<catboost.core.CatBoostRegressor at 0x1a8b9c91ff0>"
     },
     "execution_count": 51,
     "metadata": {},
     "output_type": "execute_result"
    }
   ],
   "source": [
    "final_cat = CatBoostRegressor(cat_features=list(X.columns), **final_params)\n",
    "final_cat.fit(X, y)"
   ],
   "metadata": {
    "collapsed": false,
    "ExecuteTime": {
     "end_time": "2024-12-29T13:39:46.086719800Z",
     "start_time": "2024-12-29T13:39:28.545414800Z"
    }
   },
   "id": "97782c5be4517c4e",
   "execution_count": 51
  },
  {
   "cell_type": "code",
   "outputs": [
    {
     "data": {
      "text/plain": "['2.1.1_model.pkl']"
     },
     "execution_count": 52,
     "metadata": {},
     "output_type": "execute_result"
    }
   ],
   "source": [
    "joblib.dump(final_cat, f\"{number}_model.pkl\")"
   ],
   "metadata": {
    "collapsed": false,
    "ExecuteTime": {
     "end_time": "2024-12-29T13:39:46.142714500Z",
     "start_time": "2024-12-29T13:39:46.088715900Z"
    }
   },
   "id": "2b2e3bf4e98d533d",
   "execution_count": 52
  },
  {
   "cell_type": "code",
   "outputs": [],
   "source": [
    "cat_importance = final_cat.get_feature_importance()"
   ],
   "metadata": {
    "collapsed": false,
    "ExecuteTime": {
     "end_time": "2024-12-29T13:39:46.147729800Z",
     "start_time": "2024-12-29T13:39:46.103741500Z"
    }
   },
   "id": "3e50b9cbcbd85c7f",
   "execution_count": 53
  },
  {
   "cell_type": "code",
   "outputs": [
    {
     "name": "stdout",
     "output_type": "stream",
     "text": [
      "CatBoost Feature Importances:\n",
      "                    Feature  Importance\n",
      "0                dri_score   18.702584\n",
      "26  conditioning_intensity   10.750125\n",
      "45       comorbidity_score    8.981928\n",
      "28                year_hct    6.490198\n",
      "46         karnofsky_score    6.330510\n",
      "25       cyto_score_detail    4.972361\n",
      "13        prim_disease_hct    4.424496\n",
      "2               cyto_score    3.086496\n",
      "43               sex_match    2.508860\n",
      "41              gvhd_proph    2.341421\n",
      "35               donor_age    2.312849\n",
      "30                 mrd_hct    2.270646\n",
      "15              cmv_status    1.716342\n",
      "12             pulm_severe    1.703385\n",
      "39              age_at_hct    1.572447\n",
      "6               tbi_status    1.220389\n",
      "49           donor_related    1.196831\n",
      "7               arrhythmia    1.188559\n",
      "52                 cardiac    1.140521\n",
      "36             prior_tumor    1.098597\n",
      "33        hla_match_a_high    0.974048\n",
      "31             in_vivo_tcd    0.944731\n",
      "19              hla_nmdp_6    0.901585\n",
      "3                 diabetes    0.887779\n",
      "18           tce_imm_match    0.884477\n",
      "53     hla_match_drb1_high    0.716364\n",
      "1            psych_disturb    0.646908\n",
      "48           tce_div_match    0.526722\n",
      "34          hepatic_severe    0.489473\n",
      "10               vent_hist    0.482971\n",
      "17     hla_match_dqb1_high    0.462739\n",
      "23      hla_match_dqb1_low    0.447956\n",
      "22      hla_match_drb1_low    0.441735\n",
      "37         hla_match_b_low    0.434426\n",
      "24               prod_type    0.409359\n",
      "4         hla_match_c_high    0.408620\n",
      "9               graft_type    0.383666\n",
      "27               ethnicity    0.383658\n",
      "55          hla_low_res_10    0.382601\n",
      "32               tce_match    0.375273\n",
      "42             rheum_issue    0.348914\n",
      "8            hla_low_res_6    0.326825\n",
      "29                 obesity    0.320756\n",
      "5           hla_high_res_8    0.317392\n",
      "54           pulm_moderate    0.315888\n",
      "38            peptic_ulcer    0.307863\n",
      "21               rituximab    0.307417\n",
      "16         hla_high_res_10    0.280568\n",
      "40         hla_match_a_low    0.277739\n",
      "51           hla_low_res_8    0.277626\n",
      "44        hla_match_b_high    0.253837\n",
      "50          melphalan_dose    0.240946\n",
      "11             renal_issue    0.216633\n",
      "14          hla_high_res_6    0.214643\n",
      "20         hla_match_c_low    0.205698\n",
      "47            hepatic_mild    0.192620\n"
     ]
    }
   ],
   "source": [
    "# CatBoost\n",
    "cat_importance_df = pd.DataFrame({\n",
    "    'Feature': X.columns,\n",
    "    'Importance': cat_importance\n",
    "}).sort_values(by='Importance', ascending=False)\n",
    "\n",
    "print(\"CatBoost Feature Importances:\\n\", cat_importance_df)"
   ],
   "metadata": {
    "collapsed": false,
    "ExecuteTime": {
     "end_time": "2024-12-29T13:39:46.164712800Z",
     "start_time": "2024-12-29T13:39:46.136714100Z"
    }
   },
   "id": "7b65d88176d2873f",
   "execution_count": 54
  },
  {
   "cell_type": "code",
   "outputs": [
    {
     "data": {
      "text/plain": "                   Feature  Importance\n0                dri_score   18.702584\n26  conditioning_intensity   10.750125\n45       comorbidity_score    8.981928\n28                year_hct    6.490198\n46         karnofsky_score    6.330510\n25       cyto_score_detail    4.972361\n13        prim_disease_hct    4.424496\n2               cyto_score    3.086496\n43               sex_match    2.508860\n41              gvhd_proph    2.341421\n35               donor_age    2.312849\n30                 mrd_hct    2.270646\n15              cmv_status    1.716342\n12             pulm_severe    1.703385\n39              age_at_hct    1.572447\n6               tbi_status    1.220389\n49           donor_related    1.196831\n7               arrhythmia    1.188559\n52                 cardiac    1.140521\n36             prior_tumor    1.098597\n33        hla_match_a_high    0.974048\n31             in_vivo_tcd    0.944731\n19              hla_nmdp_6    0.901585\n3                 diabetes    0.887779\n18           tce_imm_match    0.884477\n53     hla_match_drb1_high    0.716364\n1            psych_disturb    0.646908\n48           tce_div_match    0.526722\n34          hepatic_severe    0.489473\n10               vent_hist    0.482971\n17     hla_match_dqb1_high    0.462739\n23      hla_match_dqb1_low    0.447956\n22      hla_match_drb1_low    0.441735\n37         hla_match_b_low    0.434426\n24               prod_type    0.409359\n4         hla_match_c_high    0.408620\n9               graft_type    0.383666\n27               ethnicity    0.383658\n55          hla_low_res_10    0.382601\n32               tce_match    0.375273\n42             rheum_issue    0.348914\n8            hla_low_res_6    0.326825\n29                 obesity    0.320756\n5           hla_high_res_8    0.317392\n54           pulm_moderate    0.315888\n38            peptic_ulcer    0.307863\n21               rituximab    0.307417\n16         hla_high_res_10    0.280568\n40         hla_match_a_low    0.277739\n51           hla_low_res_8    0.277626\n44        hla_match_b_high    0.253837\n50          melphalan_dose    0.240946\n11             renal_issue    0.216633\n14          hla_high_res_6    0.214643\n20         hla_match_c_low    0.205698\n47            hepatic_mild    0.192620",
      "text/html": "<div>\n<style scoped>\n    .dataframe tbody tr th:only-of-type {\n        vertical-align: middle;\n    }\n\n    .dataframe tbody tr th {\n        vertical-align: top;\n    }\n\n    .dataframe thead th {\n        text-align: right;\n    }\n</style>\n<table border=\"1\" class=\"dataframe\">\n  <thead>\n    <tr style=\"text-align: right;\">\n      <th></th>\n      <th>Feature</th>\n      <th>Importance</th>\n    </tr>\n  </thead>\n  <tbody>\n    <tr>\n      <th>0</th>\n      <td>dri_score</td>\n      <td>18.702584</td>\n    </tr>\n    <tr>\n      <th>26</th>\n      <td>conditioning_intensity</td>\n      <td>10.750125</td>\n    </tr>\n    <tr>\n      <th>45</th>\n      <td>comorbidity_score</td>\n      <td>8.981928</td>\n    </tr>\n    <tr>\n      <th>28</th>\n      <td>year_hct</td>\n      <td>6.490198</td>\n    </tr>\n    <tr>\n      <th>46</th>\n      <td>karnofsky_score</td>\n      <td>6.330510</td>\n    </tr>\n    <tr>\n      <th>25</th>\n      <td>cyto_score_detail</td>\n      <td>4.972361</td>\n    </tr>\n    <tr>\n      <th>13</th>\n      <td>prim_disease_hct</td>\n      <td>4.424496</td>\n    </tr>\n    <tr>\n      <th>2</th>\n      <td>cyto_score</td>\n      <td>3.086496</td>\n    </tr>\n    <tr>\n      <th>43</th>\n      <td>sex_match</td>\n      <td>2.508860</td>\n    </tr>\n    <tr>\n      <th>41</th>\n      <td>gvhd_proph</td>\n      <td>2.341421</td>\n    </tr>\n    <tr>\n      <th>35</th>\n      <td>donor_age</td>\n      <td>2.312849</td>\n    </tr>\n    <tr>\n      <th>30</th>\n      <td>mrd_hct</td>\n      <td>2.270646</td>\n    </tr>\n    <tr>\n      <th>15</th>\n      <td>cmv_status</td>\n      <td>1.716342</td>\n    </tr>\n    <tr>\n      <th>12</th>\n      <td>pulm_severe</td>\n      <td>1.703385</td>\n    </tr>\n    <tr>\n      <th>39</th>\n      <td>age_at_hct</td>\n      <td>1.572447</td>\n    </tr>\n    <tr>\n      <th>6</th>\n      <td>tbi_status</td>\n      <td>1.220389</td>\n    </tr>\n    <tr>\n      <th>49</th>\n      <td>donor_related</td>\n      <td>1.196831</td>\n    </tr>\n    <tr>\n      <th>7</th>\n      <td>arrhythmia</td>\n      <td>1.188559</td>\n    </tr>\n    <tr>\n      <th>52</th>\n      <td>cardiac</td>\n      <td>1.140521</td>\n    </tr>\n    <tr>\n      <th>36</th>\n      <td>prior_tumor</td>\n      <td>1.098597</td>\n    </tr>\n    <tr>\n      <th>33</th>\n      <td>hla_match_a_high</td>\n      <td>0.974048</td>\n    </tr>\n    <tr>\n      <th>31</th>\n      <td>in_vivo_tcd</td>\n      <td>0.944731</td>\n    </tr>\n    <tr>\n      <th>19</th>\n      <td>hla_nmdp_6</td>\n      <td>0.901585</td>\n    </tr>\n    <tr>\n      <th>3</th>\n      <td>diabetes</td>\n      <td>0.887779</td>\n    </tr>\n    <tr>\n      <th>18</th>\n      <td>tce_imm_match</td>\n      <td>0.884477</td>\n    </tr>\n    <tr>\n      <th>53</th>\n      <td>hla_match_drb1_high</td>\n      <td>0.716364</td>\n    </tr>\n    <tr>\n      <th>1</th>\n      <td>psych_disturb</td>\n      <td>0.646908</td>\n    </tr>\n    <tr>\n      <th>48</th>\n      <td>tce_div_match</td>\n      <td>0.526722</td>\n    </tr>\n    <tr>\n      <th>34</th>\n      <td>hepatic_severe</td>\n      <td>0.489473</td>\n    </tr>\n    <tr>\n      <th>10</th>\n      <td>vent_hist</td>\n      <td>0.482971</td>\n    </tr>\n    <tr>\n      <th>17</th>\n      <td>hla_match_dqb1_high</td>\n      <td>0.462739</td>\n    </tr>\n    <tr>\n      <th>23</th>\n      <td>hla_match_dqb1_low</td>\n      <td>0.447956</td>\n    </tr>\n    <tr>\n      <th>22</th>\n      <td>hla_match_drb1_low</td>\n      <td>0.441735</td>\n    </tr>\n    <tr>\n      <th>37</th>\n      <td>hla_match_b_low</td>\n      <td>0.434426</td>\n    </tr>\n    <tr>\n      <th>24</th>\n      <td>prod_type</td>\n      <td>0.409359</td>\n    </tr>\n    <tr>\n      <th>4</th>\n      <td>hla_match_c_high</td>\n      <td>0.408620</td>\n    </tr>\n    <tr>\n      <th>9</th>\n      <td>graft_type</td>\n      <td>0.383666</td>\n    </tr>\n    <tr>\n      <th>27</th>\n      <td>ethnicity</td>\n      <td>0.383658</td>\n    </tr>\n    <tr>\n      <th>55</th>\n      <td>hla_low_res_10</td>\n      <td>0.382601</td>\n    </tr>\n    <tr>\n      <th>32</th>\n      <td>tce_match</td>\n      <td>0.375273</td>\n    </tr>\n    <tr>\n      <th>42</th>\n      <td>rheum_issue</td>\n      <td>0.348914</td>\n    </tr>\n    <tr>\n      <th>8</th>\n      <td>hla_low_res_6</td>\n      <td>0.326825</td>\n    </tr>\n    <tr>\n      <th>29</th>\n      <td>obesity</td>\n      <td>0.320756</td>\n    </tr>\n    <tr>\n      <th>5</th>\n      <td>hla_high_res_8</td>\n      <td>0.317392</td>\n    </tr>\n    <tr>\n      <th>54</th>\n      <td>pulm_moderate</td>\n      <td>0.315888</td>\n    </tr>\n    <tr>\n      <th>38</th>\n      <td>peptic_ulcer</td>\n      <td>0.307863</td>\n    </tr>\n    <tr>\n      <th>21</th>\n      <td>rituximab</td>\n      <td>0.307417</td>\n    </tr>\n    <tr>\n      <th>16</th>\n      <td>hla_high_res_10</td>\n      <td>0.280568</td>\n    </tr>\n    <tr>\n      <th>40</th>\n      <td>hla_match_a_low</td>\n      <td>0.277739</td>\n    </tr>\n    <tr>\n      <th>51</th>\n      <td>hla_low_res_8</td>\n      <td>0.277626</td>\n    </tr>\n    <tr>\n      <th>44</th>\n      <td>hla_match_b_high</td>\n      <td>0.253837</td>\n    </tr>\n    <tr>\n      <th>50</th>\n      <td>melphalan_dose</td>\n      <td>0.240946</td>\n    </tr>\n    <tr>\n      <th>11</th>\n      <td>renal_issue</td>\n      <td>0.216633</td>\n    </tr>\n    <tr>\n      <th>14</th>\n      <td>hla_high_res_6</td>\n      <td>0.214643</td>\n    </tr>\n    <tr>\n      <th>20</th>\n      <td>hla_match_c_low</td>\n      <td>0.205698</td>\n    </tr>\n    <tr>\n      <th>47</th>\n      <td>hepatic_mild</td>\n      <td>0.192620</td>\n    </tr>\n  </tbody>\n</table>\n</div>"
     },
     "execution_count": 55,
     "metadata": {},
     "output_type": "execute_result"
    }
   ],
   "source": [
    "cat_importance_df"
   ],
   "metadata": {
    "collapsed": false,
    "ExecuteTime": {
     "end_time": "2024-12-29T13:39:46.166710Z",
     "start_time": "2024-12-29T13:39:46.151713100Z"
    }
   },
   "id": "f4f68c40ae374114",
   "execution_count": 55
  },
  {
   "cell_type": "code",
   "outputs": [
    {
     "data": {
      "text/plain": "year_hct\n2018    7336\n2016    5049\n2017    4830\n2008    2544\n2015    2243\n2013    1871\n2012    1571\n2014    1098\n2019     774\n2011     599\n2009     503\n2010     378\n2020       4\nName: count, dtype: int64"
     },
     "execution_count": 56,
     "metadata": {},
     "output_type": "execute_result"
    }
   ],
   "source": [
    "train['year_hct'].value_counts()"
   ],
   "metadata": {
    "collapsed": false,
    "ExecuteTime": {
     "end_time": "2024-12-29T14:34:06.737070900Z",
     "start_time": "2024-12-29T14:34:06.714071200Z"
    }
   },
   "id": "6a35d95a63018f74",
   "execution_count": 56
  },
  {
   "cell_type": "code",
   "outputs": [],
   "source": [],
   "metadata": {
    "collapsed": false
   },
   "id": "d957b202ed526f07"
  }
 ],
 "metadata": {
  "kernelspec": {
   "display_name": "Python 3",
   "language": "python",
   "name": "python3"
  },
  "language_info": {
   "codemirror_mode": {
    "name": "ipython",
    "version": 2
   },
   "file_extension": ".py",
   "mimetype": "text/x-python",
   "name": "python",
   "nbconvert_exporter": "python",
   "pygments_lexer": "ipython2",
   "version": "2.7.6"
  }
 },
 "nbformat": 4,
 "nbformat_minor": 5
}
