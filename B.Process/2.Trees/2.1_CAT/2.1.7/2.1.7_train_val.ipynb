{
 "cells": [
  {
   "cell_type": "code",
   "outputs": [],
   "source": [
    "import os\n",
    "current_directory = os.getcwd()\n",
    "folder_name = os.path.basename(current_directory)\n",
    "number = folder_name"
   ],
   "metadata": {
    "collapsed": false,
    "ExecuteTime": {
     "end_time": "2024-12-31T18:17:15.664103700Z",
     "start_time": "2024-12-31T18:17:15.647079900Z"
    }
   },
   "id": "cb2065b8802f8251",
   "execution_count": 1
  },
  {
   "cell_type": "code",
   "outputs": [],
   "source": [
    "CONFIG = {\n",
    "    'data_main': 'C:/Users/Николай/PycharmProjects/CIBMTR/D.Data/main/',\n",
    "    'train_path': 'train.csv',\n",
    "\n",
    "    'DEVICE' : 'cuda',\n",
    "    'SEED' : 42,\n",
    "}"
   ],
   "metadata": {
    "collapsed": false,
    "ExecuteTime": {
     "end_time": "2024-12-31T18:17:15.688103100Z",
     "start_time": "2024-12-31T18:17:15.665103700Z"
    }
   },
   "id": "9174032d882584ac",
   "execution_count": 2
  },
  {
   "cell_type": "code",
   "outputs": [],
   "source": [
    "from catboost import CatBoostRegressor\n",
    "import optuna\n",
    "import pandas as pd\n",
    "from sklearn.model_selection import StratifiedKFold\n",
    "import numpy as np\n",
    "import joblib \n",
    "from metric import score_\n",
    "from lifelines import KaplanMeierFitter"
   ],
   "metadata": {
    "collapsed": false,
    "ExecuteTime": {
     "end_time": "2024-12-31T18:17:16.729315700Z",
     "start_time": "2024-12-31T18:17:15.683103800Z"
    }
   },
   "id": "b015da9f4c673f76",
   "execution_count": 3
  },
  {
   "cell_type": "code",
   "outputs": [],
   "source": [
    "def transform_survival_probability(df, time_col='efs_time', event_col='efs'):\n",
    "    kmf = KaplanMeierFitter()\n",
    "    kmf.fit(df[time_col], df[event_col])\n",
    "    y = kmf.survival_function_at_times(df[time_col]).values\n",
    "    return y"
   ],
   "metadata": {
    "collapsed": false,
    "ExecuteTime": {
     "end_time": "2024-12-31T18:17:16.740336400Z",
     "start_time": "2024-12-31T18:17:16.729315700Z"
    }
   },
   "id": "8e5da4978bd8e1b0",
   "execution_count": 4
  },
  {
   "cell_type": "code",
   "outputs": [],
   "source": [
    "train = pd.read_csv(f\"{CONFIG['data_main']}{CONFIG['train_path']}\")\n",
    "    \n",
    "train[\"y\"] = transform_survival_probability(train, time_col='efs_time', event_col='efs')\n",
    "\n",
    "num_columns = [col for col in train.columns if pd.api.types.is_numeric_dtype(train[col])]\n",
    "cat_columns = [col for col in train.columns if col not in num_columns]"
   ],
   "metadata": {
    "collapsed": false,
    "ExecuteTime": {
     "end_time": "2024-12-31T18:17:16.961336200Z",
     "start_time": "2024-12-31T18:17:16.746336800Z"
    }
   },
   "id": "214abe3370778cbd",
   "execution_count": 5
  },
  {
   "cell_type": "code",
   "outputs": [],
   "source": [
    "X = train.drop(columns=['y', 'efs', 'efs_time', 'ID'])\n",
    "\n",
    "for col in X.columns: \n",
    "    if col in cat_columns:\n",
    "        X[col] = X[col].astype(str)\n",
    "        X[col] = X[col].fillna('-1')\n",
    "    elif col in num_columns:\n",
    "        X[col] = X[col].fillna(X[col].mode()[0])\n",
    "X = pd.get_dummies(X, columns=cat_columns)\n",
    "y = train['y']"
   ],
   "metadata": {
    "collapsed": false,
    "ExecuteTime": {
     "end_time": "2024-12-31T18:17:17.201336400Z",
     "start_time": "2024-12-31T18:17:16.966336300Z"
    }
   },
   "id": "eb925cb7123ec6",
   "execution_count": 6
  },
  {
   "cell_type": "code",
   "outputs": [],
   "source": [
    "n_splits = 5\n",
    "skf = StratifiedKFold(n_splits=n_splits, shuffle=True, random_state=CONFIG['SEED'])"
   ],
   "metadata": {
    "collapsed": false,
    "ExecuteTime": {
     "end_time": "2024-12-31T18:17:17.216336700Z",
     "start_time": "2024-12-31T18:17:17.205336400Z"
    }
   },
   "id": "30d7e73c149b9248",
   "execution_count": 7
  },
  {
   "cell_type": "code",
   "outputs": [],
   "source": [
    "# Фиксированные параметры\n",
    "fixed_params = {\n",
    "    'model_size_reg': 0, # default=0.5, possible=[0, inf)\n",
    "    'rsm': 1, # default=1, possible=[0, inf), alias='colsample_bylevel'\n",
    "    'loss_function': 'RMSE', # default='RMSE\", possible=..., alias='objective'\n",
    "    'feature_border_type': 'GreedyLogSum', # default='GreedyLogSum  \", possible=['Median', 'Uniform', 'UniformAndQuantiles', 'MaxLogSum', 'MinEntropy', 'GreedyLogSum']\n",
    "    'nan_mode': 'Forbidden', # default='Min', possible=['Forbidden', 'Min', 'Max']\n",
    "    'leaf_estimation_method': 'Newton', # default=..., possible=['Newton', 'Gradient', 'Exact']\n",
    "    'random_seed': CONFIG['SEED'],\n",
    "    'use_best_model': False, # default=True, possible=[True, False]\n",
    "    'logging_level': 'Silent', # default=True, possible=[True, False]\n",
    "    'max_ctr_complexity': 15, # default=True, possible=[1, 16)\n",
    "    'one_hot_max_size': 50, # default=True, possible=[2, inf)\n",
    "    'random_strength' : 0, # default=1, possible=[0, inf)\n",
    "    'eval_metric': 'RMSE',\n",
    "    'allow_writing_files': False,\n",
    "    'task_type': 'GPU',\n",
    "    'bootstrap_type': 'Bayesian',\n",
    "    'early_stopping_rounds': 250,\n",
    "    'grow_policy': 'Lossguide', # default='SymmetricTree', possible=['SymmetricTree', 'Depthwise']\n",
    "    'score_function': 'NewtonL2', # default='Cosine', possible=['Cosine ', 'L2', 'NewtonCosine', 'NewtonL2']\n",
    "    'leaf_estimation_backtracking': 'AnyImprovement',\n",
    "    'boost_from_average': True\n",
    "}\n"
   ],
   "metadata": {
    "collapsed": false,
    "ExecuteTime": {
     "end_time": "2024-12-31T18:17:17.238336600Z",
     "start_time": "2024-12-31T18:17:17.219336400Z"
    }
   },
   "id": "fcfa2d6ba97ee9c5",
   "execution_count": 8
  },
  {
   "cell_type": "code",
   "outputs": [],
   "source": [
    "def optimize_cat(trial):\n",
    "    params = {\n",
    "        'iterations': trial.suggest_int('iterations', 100, 2000), # default=1000, possible=[1, inf), alias=['num_boost_round', 'n_estimators', 'num_trees']\n",
    "        'learning_rate': trial.suggest_float('learning_rate', 0.001, 0.01), # default=0.03, alias='eta'\n",
    "        'depth': trial.suggest_int('depth', 6, 16), # default=6 (16 if Lossguide), possible=[1, 16], alias='max_depth'\n",
    "        'l2_leaf_reg': trial.suggest_float('l2_leaf_reg', 1e-5, 10), # default=3.0, alias=reg_lambda\n",
    "        'border_count': trial.suggest_int('border_count', 256, 1024), # default=128, possible=[0, 65535], alias='max_bin'\n",
    "        'leaf_estimation_iterations': trial.suggest_int('leaf_estimation_iterations', 1, 6),\n",
    "        'bagging_temperature': trial.suggest_float('bagging_temperature', 0.01, 1), # default=0.66, possible=[0, inf)\n",
    "        'max_leaves': trial.suggest_int('max_leaves', 31, 42), # default=31, possible=[?, inf), alias='num_leaves'\n",
    "    }\n",
    "    # Объединение оптимизированных и фиксированных параметров\n",
    "    final_params = {**fixed_params, **params}\n",
    "    \n",
    "    scores = []\n",
    "    \n",
    "    for train_idx, valid_idx in skf.split(X, train['race_group']):\n",
    "        X_train, X_valid = X.iloc[train_idx], X.iloc[valid_idx]\n",
    "        y_train, y_valid = y.iloc[train_idx], y.iloc[valid_idx]\n",
    "        \n",
    "        model = CatBoostRegressor(**final_params)\n",
    "        model.fit(X_train, y_train, eval_set=[(X_valid, y_valid)], verbose=False)\n",
    "        \n",
    "        preds = model.predict(X_valid)\n",
    "        fold_score = score_(pd.DataFrame({'efs': train.iloc[valid_idx]['efs'].to_list(), \n",
    "                                          'efs_time' : train.iloc[valid_idx]['efs_time'].to_list(),\n",
    "                                          'race_group': train.iloc[valid_idx]['race_group'].to_list()}),\n",
    "                            pd.DataFrame(preds, columns=['prediction']))\n",
    "        scores.append(fold_score)\n",
    "    \n",
    "    return np.mean(scores)"
   ],
   "metadata": {
    "collapsed": false,
    "ExecuteTime": {
     "end_time": "2024-12-31T18:17:17.247900500Z",
     "start_time": "2024-12-31T18:17:17.237337100Z"
    }
   },
   "id": "cc9968ace3101cb7",
   "execution_count": 9
  },
  {
   "cell_type": "code",
   "outputs": [
    {
     "name": "stderr",
     "output_type": "stream",
     "text": [
      "[I 2024-12-31 21:17:17,247] A new study created in memory with name: no-name-13497767-ba12-470d-9296-1ccaa5db7693\n",
      "[I 2024-12-31 21:18:22,310] Trial 0 finished with value: 0.6670755636563569 and parameters: {'iterations': 812, 'learning_rate': 0.009556428757689247, 'depth': 14, 'l2_leaf_reg': 5.9865888553855235, 'border_count': 375, 'leaf_estimation_iterations': 1, 'bagging_temperature': 0.06750277604651747, 'max_leaves': 41}. Best is trial 0 with value: 0.6670755636563569.\n",
      "[I 2024-12-31 21:19:29,926] Trial 1 finished with value: 0.6664336660412153 and parameters: {'iterations': 1242, 'learning_rate': 0.00737265320016441, 'depth': 6, 'l2_leaf_reg': 9.699098822521421, 'border_count': 896, 'leaf_estimation_iterations': 2, 'bagging_temperature': 0.19000671753502962, 'max_leaves': 33}. Best is trial 0 with value: 0.6670755636563569.\n",
      "[I 2024-12-31 21:20:17,126] Trial 2 finished with value: 0.6623030149466727 and parameters: {'iterations': 678, 'learning_rate': 0.005722807884690141, 'depth': 10, 'l2_leaf_reg': 2.912298489689017, 'border_count': 726, 'leaf_estimation_iterations': 1, 'bagging_temperature': 0.29922320204986597, 'max_leaves': 35}. Best is trial 0 with value: 0.6670755636563569.\n",
      "[I 2024-12-31 21:21:15,114] Trial 3 finished with value: 0.6672123301370704 and parameters: {'iterations': 966, 'learning_rate': 0.008066583652537124, 'depth': 8, 'l2_leaf_reg': 5.142349241791732, 'border_count': 711, 'leaf_estimation_iterations': 1, 'bagging_temperature': 0.611469403382424, 'max_leaves': 33}. Best is trial 3 with value: 0.6672123301370704.\n",
      "[I 2024-12-31 21:21:32,960] Trial 4 finished with value: 0.6556139805196204 and parameters: {'iterations': 223, 'learning_rate': 0.00953996983528, 'depth': 16, 'l2_leaf_reg': 8.08397539719113, 'border_count': 490, 'leaf_estimation_iterations': 1, 'bagging_temperature': 0.6873906962470353, 'max_leaves': 36}. Best is trial 3 with value: 0.6672123301370704.\n",
      "[I 2024-12-31 21:21:55,562] Trial 5 finished with value: 0.6497607211912884 and parameters: {'iterations': 331, 'learning_rate': 0.005456592191001432, 'depth': 6, 'l2_leaf_reg': 9.0932049275838, 'border_count': 455, 'leaf_estimation_iterations': 4, 'bagging_temperature': 0.31859396532851686, 'max_leaves': 37}. Best is trial 3 with value: 0.6672123301370704.\n",
      "[I 2024-12-31 21:23:36,309] Trial 6 finished with value: 0.6609346394509334 and parameters: {'iterations': 1139, 'learning_rate': 0.0026636900997297434, 'depth': 16, 'l2_leaf_reg': 7.751330482282912, 'border_count': 978, 'leaf_estimation_iterations': 6, 'bagging_temperature': 0.6019209790229743, 'max_leaves': 42}. Best is trial 3 with value: 0.6672123301370704.\n",
      "[I 2024-12-31 21:23:54,103] Trial 7 finished with value: 0.6407727567585697 and parameters: {'iterations': 268, 'learning_rate': 0.0027638457617723067, 'depth': 6, 'l2_leaf_reg': 3.253310054329336, 'border_count': 554, 'leaf_estimation_iterations': 2, 'bagging_temperature': 0.83045013406041, 'max_leaves': 35}. Best is trial 3 with value: 0.6672123301370704.\n",
      "[I 2024-12-31 21:24:36,247] Trial 8 finished with value: 0.6613659601840233 and parameters: {'iterations': 634, 'learning_rate': 0.005884264748424237, 'depth': 7, 'l2_leaf_reg': 8.021971785570589, 'border_count': 313, 'leaf_estimation_iterations': 6, 'bagging_temperature': 0.7745223216036908, 'max_leaves': 33}. Best is trial 3 with value: 0.6672123301370704.\n",
      "[I 2024-12-31 21:24:45,517] Trial 9 finished with value: 0.6464907920380266 and parameters: {'iterations': 110, 'learning_rate': 0.008339152856093508, 'depth': 13, 'l2_leaf_reg': 7.290074390338193, 'border_count': 849, 'leaf_estimation_iterations': 1, 'bagging_temperature': 0.3648810712588299, 'max_leaves': 32}. Best is trial 3 with value: 0.6672123301370704.\n"
     ]
    }
   ],
   "source": [
    "study_cat = optuna.create_study(direction='maximize', sampler=optuna.samplers.TPESampler(seed=CONFIG['SEED']))\n",
    "study_cat.optimize(optimize_cat, n_trials=10)"
   ],
   "metadata": {
    "collapsed": false,
    "ExecuteTime": {
     "end_time": "2024-12-31T18:24:45.531783400Z",
     "start_time": "2024-12-31T18:17:17.247900500Z"
    }
   },
   "id": "6671f52e7d3c2b3a",
   "execution_count": 10
  },
  {
   "cell_type": "code",
   "outputs": [],
   "source": [
    "best_params_cat = study_cat.best_params\n",
    "final_params = {**fixed_params, **best_params_cat}  "
   ],
   "metadata": {
    "collapsed": false,
    "ExecuteTime": {
     "end_time": "2024-12-31T18:29:38.885070400Z",
     "start_time": "2024-12-31T18:29:38.864070400Z"
    }
   },
   "id": "95e24aa905f98c66",
   "execution_count": 13
  },
  {
   "cell_type": "code",
   "outputs": [
    {
     "data": {
      "text/plain": "<catboost.core.CatBoostRegressor at 0x20491aa20b0>"
     },
     "execution_count": 14,
     "metadata": {},
     "output_type": "execute_result"
    }
   ],
   "source": [
    "final_cat = CatBoostRegressor(**final_params)\n",
    "final_cat.fit(X, y)"
   ],
   "metadata": {
    "collapsed": false,
    "ExecuteTime": {
     "end_time": "2024-12-31T18:29:54.556220800Z",
     "start_time": "2024-12-31T18:29:44.987934500Z"
    }
   },
   "id": "97782c5be4517c4e",
   "execution_count": 14
  },
  {
   "cell_type": "code",
   "outputs": [],
   "source": [
    "final_cat.model_number = number"
   ],
   "metadata": {
    "collapsed": false,
    "ExecuteTime": {
     "end_time": "2024-12-31T18:29:54.570239700Z",
     "start_time": "2024-12-31T18:29:54.558220700Z"
    }
   },
   "id": "5077a3d58ed84201",
   "execution_count": 15
  },
  {
   "cell_type": "code",
   "outputs": [
    {
     "data": {
      "text/plain": "['2.1.7_model.pkl']"
     },
     "execution_count": 16,
     "metadata": {},
     "output_type": "execute_result"
    }
   ],
   "source": [
    "joblib.dump(final_cat, f\"{number}_model.pkl\")"
   ],
   "metadata": {
    "collapsed": false,
    "ExecuteTime": {
     "end_time": "2024-12-31T18:29:54.601239500Z",
     "start_time": "2024-12-31T18:29:54.572239600Z"
    }
   },
   "id": "2b2e3bf4e98d533d",
   "execution_count": 16
  },
  {
   "cell_type": "code",
   "outputs": [],
   "source": [
    "cat_importance = final_cat.get_feature_importance()"
   ],
   "metadata": {
    "collapsed": false,
    "ExecuteTime": {
     "end_time": "2024-12-31T18:29:54.634239600Z",
     "start_time": "2024-12-31T18:29:54.604239900Z"
    }
   },
   "id": "3e50b9cbcbd85c7f",
   "execution_count": 17
  },
  {
   "cell_type": "code",
   "outputs": [
    {
     "name": "stdout",
     "output_type": "stream",
     "text": [
      "CatBoost Feature Importances:\n",
      "                                       Feature  Importance\n",
      "22                             dri_score_High   15.642572\n",
      "124                conditioning_intensity_nan    9.368929\n",
      "17                          comorbidity_score    9.119016\n",
      "10                                   year_hct    6.770409\n",
      "18                            karnofsky_score    5.218632\n",
      "..                                        ...         ...\n",
      "102                         tce_imm_match_P/B    0.000000\n",
      "83                       prim_disease_hct_IMD    0.000000\n",
      "166       gvhd_proph_FK+- others(not MMF,MTX)    0.000000\n",
      "160  gvhd_proph_CSA +- others(not FK,MMF,MTX)    0.000000\n",
      "103                         tce_imm_match_P/G    0.000000\n",
      "\n",
      "[213 rows x 2 columns]\n"
     ]
    }
   ],
   "source": [
    "cat_importance_df = pd.DataFrame({\n",
    "    'Feature': X.columns,\n",
    "    'Importance': cat_importance\n",
    "}).sort_values(by='Importance', ascending=False)\n",
    "\n",
    "print(\"CatBoost Feature Importances:\\n\", cat_importance_df)"
   ],
   "metadata": {
    "collapsed": false,
    "ExecuteTime": {
     "end_time": "2024-12-31T18:29:54.649239500Z",
     "start_time": "2024-12-31T18:29:54.634239600Z"
    }
   },
   "id": "7b65d88176d2873f",
   "execution_count": 18
  },
  {
   "cell_type": "code",
   "outputs": [],
   "source": [
    "# auto_params = ['per_float_feature_quantization', 'input_borders', 'output_borders', 'fold_permutation_block', 'counter_calc_method', 'thread_count', 'best_model_min_trees', 'verbose', 'silent', 'metric_period', 'ctr_leaf_count_limit', 'store_all_simple_ctr', 'has_time', 'allow_const_label', 'target_border', 'random_score_type', 'name', 'ignored_features', 'train_dir', 'custom_metric', 'save_snapshot', 'snapshot_file', 'snapshot_interval', 'fold_len_multiplier', 'used_ram_limit', 'gpu_ram_part', 'pinned_memory_size', 'final_ctr_computation_mode', 'simple_ctr', 'combinations_ctr', 'per_feature_ctr', 'ctr_description', 'ctr_target_border_count', 'device_config', 'devices', 'subsample', 'mvs_reg', 'sampling_frequency', 'sampling_unit', 'subsampling_factor', 'dev_score_calc_obj_block_size', 'dev_efb_max_buckets', 'sparse_features_conflict_fraction', 'max_depth', 'n_estimators', 'num_boost_round', 'num_trees', 'colsample_bylevel', 'random_state', 'reg_lambda', 'reg_lambda', 'eta', 'max_bin', 'gpu_cat_features_storage', 'data_partition', 'metadata', 'min_data_in_leaf', 'min_child_samples', 'num_leaves', 'score_function', 'ctr_history_unit', 'monotone_constraints', 'feature_weights', 'penalties_coefficient', 'first_feature_use_penalties', 'per_object_feature_penalties', 'model_shrink_rate', 'model_shrink_mode', 'langevin', 'diffusion_temperature', 'posterior_sampling', 'text_features', 'tokenizers', 'dictionaries', 'feature_calcers', 'text_processing', 'embedding_features', 'eval_fraction', 'fixed_binary_splits', 'od_type', 'od_pval', 'od_wait', 'approx_on_full_history', 'boosting_type']"
   ],
   "metadata": {
    "collapsed": false,
    "ExecuteTime": {
     "end_time": "2024-12-31T18:29:54.669239700Z",
     "start_time": "2024-12-31T18:29:54.652239600Z"
    }
   },
   "id": "e3e9fd32b0938562",
   "execution_count": 19
  },
  {
   "cell_type": "code",
   "outputs": [],
   "source": [],
   "metadata": {
    "collapsed": false,
    "ExecuteTime": {
     "end_time": "2024-12-31T18:29:54.681239500Z",
     "start_time": "2024-12-31T18:29:54.671239400Z"
    }
   },
   "id": "5b10f800f371e6d1",
   "execution_count": 19
  },
  {
   "cell_type": "code",
   "outputs": [],
   "source": [],
   "metadata": {
    "collapsed": false
   },
   "id": "6a496f10245aad18"
  }
 ],
 "metadata": {
  "kernelspec": {
   "display_name": "Python 3",
   "language": "python",
   "name": "python3"
  },
  "language_info": {
   "codemirror_mode": {
    "name": "ipython",
    "version": 2
   },
   "file_extension": ".py",
   "mimetype": "text/x-python",
   "name": "python",
   "nbconvert_exporter": "python",
   "pygments_lexer": "ipython2",
   "version": "2.7.6"
  }
 },
 "nbformat": 4,
 "nbformat_minor": 5
}
