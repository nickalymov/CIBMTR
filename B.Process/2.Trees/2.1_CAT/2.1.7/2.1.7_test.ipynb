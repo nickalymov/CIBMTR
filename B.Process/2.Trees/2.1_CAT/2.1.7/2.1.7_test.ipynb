{
 "cells": [
  {
   "cell_type": "code",
   "outputs": [],
   "source": [
    "import os\n",
    "current_directory = os.getcwd()\n",
    "folder_name = os.path.basename(current_directory)\n",
    "number = folder_name"
   ],
   "metadata": {
    "collapsed": false,
    "ExecuteTime": {
     "end_time": "2024-12-31T18:35:56.604458600Z",
     "start_time": "2024-12-31T18:35:56.592457900Z"
    }
   },
   "id": "cb2065b8802f8251",
   "execution_count": 41
  },
  {
   "cell_type": "code",
   "outputs": [],
   "source": [
    "import platform\n",
    "platform_name = platform.system()"
   ],
   "metadata": {
    "collapsed": false,
    "ExecuteTime": {
     "end_time": "2024-12-31T18:35:56.620456600Z",
     "start_time": "2024-12-31T18:35:56.605459800Z"
    }
   },
   "id": "c77f23bcf20968b4",
   "execution_count": 42
  },
  {
   "cell_type": "code",
   "outputs": [],
   "source": [
    "CONFIG = {\n",
    "    'test_path': 'test.csv',\n",
    "    'train_path': 'train.csv',\n",
    "\n",
    "    'DEVICE' : 'cuda',\n",
    "    'SEED' : 42,\n",
    "}\n",
    "if platform_name == 'Windows':\n",
    "    CONFIG['data_main'] = 'C:/Users/Николай/PycharmProjects/CIBMTR/D.Data/main/'\n",
    "    CONFIG['model_path'] = f\"{number}_model.pkl\"\n",
    "else:\n",
    "    CONFIG['data_main'] = '/kaggle/input/equity-post-HCT-survival-predictions/'\n",
    "    CONFIG['model_path'] = \"/kaggle/input/2.1.7_model.pkl/other/default/1/2.1.7_model.pkl\""
   ],
   "metadata": {
    "collapsed": false,
    "ExecuteTime": {
     "end_time": "2024-12-31T18:35:56.651461900Z",
     "start_time": "2024-12-31T18:35:56.619456900Z"
    }
   },
   "id": "9174032d882584ac",
   "execution_count": 43
  },
  {
   "cell_type": "code",
   "outputs": [],
   "source": [
    "\n",
    "import pandas as pd\n",
    "import joblib "
   ],
   "metadata": {
    "collapsed": false,
    "ExecuteTime": {
     "end_time": "2024-12-31T18:35:56.651461900Z",
     "start_time": "2024-12-31T18:35:56.635457400Z"
    }
   },
   "id": "b015da9f4c673f76",
   "execution_count": 44
  },
  {
   "cell_type": "code",
   "outputs": [],
   "source": [
    "train = pd.read_csv(f\"{CONFIG['data_main']}{CONFIG['train_path']}\")\n",
    "\n",
    "num_columns = [col for col in train.columns if pd.api.types.is_numeric_dtype(train[col])]\n",
    "cat_columns = [col for col in train.columns if col not in num_columns]"
   ],
   "metadata": {
    "collapsed": false,
    "ExecuteTime": {
     "end_time": "2024-12-31T18:35:56.794458900Z",
     "start_time": "2024-12-31T18:35:56.650458Z"
    }
   },
   "id": "214abe3370778cbd",
   "execution_count": 45
  },
  {
   "cell_type": "code",
   "outputs": [],
   "source": [
    "test = pd.read_csv(f\"{CONFIG['data_main']}test.csv\")\n",
    "\n",
    "for col in test.columns: \n",
    "    if col in cat_columns:\n",
    "        test[col] = test[col].astype(str)\n",
    "        test[col] = test[col].fillna('-1')\n",
    "    elif col in num_columns:\n",
    "        test[col] = test[col].fillna(test[col].mode()[0])\n",
    "        \n",
    "for col in train.columns: \n",
    "    if col in cat_columns:\n",
    "        train[col] = train[col].astype(str)\n",
    "        train[col] = train[col].fillna('-1')\n",
    "    elif col in num_columns:\n",
    "        train[col] = train[col].fillna(train[col].mode()[0])\n",
    "train = pd.get_dummies(train, columns=cat_columns)\n",
    "test = pd.get_dummies(test, columns=cat_columns)"
   ],
   "metadata": {
    "collapsed": false,
    "ExecuteTime": {
     "end_time": "2024-12-31T18:35:57.002456700Z",
     "start_time": "2024-12-31T18:35:56.796458500Z"
    }
   },
   "id": "ac0fb31bb289572f",
   "execution_count": 46
  },
  {
   "cell_type": "code",
   "outputs": [
    {
     "name": "stderr",
     "output_type": "stream",
     "text": [
      "C:\\Users\\Николай\\AppData\\Local\\Temp\\ipykernel_13064\\2018409134.py:5: PerformanceWarning: DataFrame is highly fragmented.  This is usually the result of calling `frame.insert` many times, which has poor performance.  Consider joining all columns at once using pd.concat(axis=1) instead. To get a de-fragmented frame, use `newframe = frame.copy()`\n",
      "  test[col] = '-1'\n",
      "C:\\Users\\Николай\\AppData\\Local\\Temp\\ipykernel_13064\\2018409134.py:5: PerformanceWarning: DataFrame is highly fragmented.  This is usually the result of calling `frame.insert` many times, which has poor performance.  Consider joining all columns at once using pd.concat(axis=1) instead. To get a de-fragmented frame, use `newframe = frame.copy()`\n",
      "  test[col] = '-1'\n",
      "C:\\Users\\Николай\\AppData\\Local\\Temp\\ipykernel_13064\\2018409134.py:5: PerformanceWarning: DataFrame is highly fragmented.  This is usually the result of calling `frame.insert` many times, which has poor performance.  Consider joining all columns at once using pd.concat(axis=1) instead. To get a de-fragmented frame, use `newframe = frame.copy()`\n",
      "  test[col] = '-1'\n",
      "C:\\Users\\Николай\\AppData\\Local\\Temp\\ipykernel_13064\\2018409134.py:5: PerformanceWarning: DataFrame is highly fragmented.  This is usually the result of calling `frame.insert` many times, which has poor performance.  Consider joining all columns at once using pd.concat(axis=1) instead. To get a de-fragmented frame, use `newframe = frame.copy()`\n",
      "  test[col] = '-1'\n",
      "C:\\Users\\Николай\\AppData\\Local\\Temp\\ipykernel_13064\\2018409134.py:5: PerformanceWarning: DataFrame is highly fragmented.  This is usually the result of calling `frame.insert` many times, which has poor performance.  Consider joining all columns at once using pd.concat(axis=1) instead. To get a de-fragmented frame, use `newframe = frame.copy()`\n",
      "  test[col] = '-1'\n",
      "C:\\Users\\Николай\\AppData\\Local\\Temp\\ipykernel_13064\\2018409134.py:5: PerformanceWarning: DataFrame is highly fragmented.  This is usually the result of calling `frame.insert` many times, which has poor performance.  Consider joining all columns at once using pd.concat(axis=1) instead. To get a de-fragmented frame, use `newframe = frame.copy()`\n",
      "  test[col] = '-1'\n",
      "C:\\Users\\Николай\\AppData\\Local\\Temp\\ipykernel_13064\\2018409134.py:5: PerformanceWarning: DataFrame is highly fragmented.  This is usually the result of calling `frame.insert` many times, which has poor performance.  Consider joining all columns at once using pd.concat(axis=1) instead. To get a de-fragmented frame, use `newframe = frame.copy()`\n",
      "  test[col] = '-1'\n",
      "C:\\Users\\Николай\\AppData\\Local\\Temp\\ipykernel_13064\\2018409134.py:5: PerformanceWarning: DataFrame is highly fragmented.  This is usually the result of calling `frame.insert` many times, which has poor performance.  Consider joining all columns at once using pd.concat(axis=1) instead. To get a de-fragmented frame, use `newframe = frame.copy()`\n",
      "  test[col] = '-1'\n",
      "C:\\Users\\Николай\\AppData\\Local\\Temp\\ipykernel_13064\\2018409134.py:5: PerformanceWarning: DataFrame is highly fragmented.  This is usually the result of calling `frame.insert` many times, which has poor performance.  Consider joining all columns at once using pd.concat(axis=1) instead. To get a de-fragmented frame, use `newframe = frame.copy()`\n",
      "  test[col] = '-1'\n",
      "C:\\Users\\Николай\\AppData\\Local\\Temp\\ipykernel_13064\\2018409134.py:5: PerformanceWarning: DataFrame is highly fragmented.  This is usually the result of calling `frame.insert` many times, which has poor performance.  Consider joining all columns at once using pd.concat(axis=1) instead. To get a de-fragmented frame, use `newframe = frame.copy()`\n",
      "  test[col] = '-1'\n",
      "C:\\Users\\Николай\\AppData\\Local\\Temp\\ipykernel_13064\\2018409134.py:5: PerformanceWarning: DataFrame is highly fragmented.  This is usually the result of calling `frame.insert` many times, which has poor performance.  Consider joining all columns at once using pd.concat(axis=1) instead. To get a de-fragmented frame, use `newframe = frame.copy()`\n",
      "  test[col] = '-1'\n",
      "C:\\Users\\Николай\\AppData\\Local\\Temp\\ipykernel_13064\\2018409134.py:5: PerformanceWarning: DataFrame is highly fragmented.  This is usually the result of calling `frame.insert` many times, which has poor performance.  Consider joining all columns at once using pd.concat(axis=1) instead. To get a de-fragmented frame, use `newframe = frame.copy()`\n",
      "  test[col] = '-1'\n",
      "C:\\Users\\Николай\\AppData\\Local\\Temp\\ipykernel_13064\\2018409134.py:5: PerformanceWarning: DataFrame is highly fragmented.  This is usually the result of calling `frame.insert` many times, which has poor performance.  Consider joining all columns at once using pd.concat(axis=1) instead. To get a de-fragmented frame, use `newframe = frame.copy()`\n",
      "  test[col] = '-1'\n",
      "C:\\Users\\Николай\\AppData\\Local\\Temp\\ipykernel_13064\\2018409134.py:5: PerformanceWarning: DataFrame is highly fragmented.  This is usually the result of calling `frame.insert` many times, which has poor performance.  Consider joining all columns at once using pd.concat(axis=1) instead. To get a de-fragmented frame, use `newframe = frame.copy()`\n",
      "  test[col] = '-1'\n",
      "C:\\Users\\Николай\\AppData\\Local\\Temp\\ipykernel_13064\\2018409134.py:5: PerformanceWarning: DataFrame is highly fragmented.  This is usually the result of calling `frame.insert` many times, which has poor performance.  Consider joining all columns at once using pd.concat(axis=1) instead. To get a de-fragmented frame, use `newframe = frame.copy()`\n",
      "  test[col] = '-1'\n",
      "C:\\Users\\Николай\\AppData\\Local\\Temp\\ipykernel_13064\\2018409134.py:5: PerformanceWarning: DataFrame is highly fragmented.  This is usually the result of calling `frame.insert` many times, which has poor performance.  Consider joining all columns at once using pd.concat(axis=1) instead. To get a de-fragmented frame, use `newframe = frame.copy()`\n",
      "  test[col] = '-1'\n",
      "C:\\Users\\Николай\\AppData\\Local\\Temp\\ipykernel_13064\\2018409134.py:5: PerformanceWarning: DataFrame is highly fragmented.  This is usually the result of calling `frame.insert` many times, which has poor performance.  Consider joining all columns at once using pd.concat(axis=1) instead. To get a de-fragmented frame, use `newframe = frame.copy()`\n",
      "  test[col] = '-1'\n",
      "C:\\Users\\Николай\\AppData\\Local\\Temp\\ipykernel_13064\\2018409134.py:5: PerformanceWarning: DataFrame is highly fragmented.  This is usually the result of calling `frame.insert` many times, which has poor performance.  Consider joining all columns at once using pd.concat(axis=1) instead. To get a de-fragmented frame, use `newframe = frame.copy()`\n",
      "  test[col] = '-1'\n",
      "C:\\Users\\Николай\\AppData\\Local\\Temp\\ipykernel_13064\\2018409134.py:5: PerformanceWarning: DataFrame is highly fragmented.  This is usually the result of calling `frame.insert` many times, which has poor performance.  Consider joining all columns at once using pd.concat(axis=1) instead. To get a de-fragmented frame, use `newframe = frame.copy()`\n",
      "  test[col] = '-1'\n",
      "C:\\Users\\Николай\\AppData\\Local\\Temp\\ipykernel_13064\\2018409134.py:5: PerformanceWarning: DataFrame is highly fragmented.  This is usually the result of calling `frame.insert` many times, which has poor performance.  Consider joining all columns at once using pd.concat(axis=1) instead. To get a de-fragmented frame, use `newframe = frame.copy()`\n",
      "  test[col] = '-1'\n",
      "C:\\Users\\Николай\\AppData\\Local\\Temp\\ipykernel_13064\\2018409134.py:5: PerformanceWarning: DataFrame is highly fragmented.  This is usually the result of calling `frame.insert` many times, which has poor performance.  Consider joining all columns at once using pd.concat(axis=1) instead. To get a de-fragmented frame, use `newframe = frame.copy()`\n",
      "  test[col] = '-1'\n",
      "C:\\Users\\Николай\\AppData\\Local\\Temp\\ipykernel_13064\\2018409134.py:5: PerformanceWarning: DataFrame is highly fragmented.  This is usually the result of calling `frame.insert` many times, which has poor performance.  Consider joining all columns at once using pd.concat(axis=1) instead. To get a de-fragmented frame, use `newframe = frame.copy()`\n",
      "  test[col] = '-1'\n",
      "C:\\Users\\Николай\\AppData\\Local\\Temp\\ipykernel_13064\\2018409134.py:5: PerformanceWarning: DataFrame is highly fragmented.  This is usually the result of calling `frame.insert` many times, which has poor performance.  Consider joining all columns at once using pd.concat(axis=1) instead. To get a de-fragmented frame, use `newframe = frame.copy()`\n",
      "  test[col] = '-1'\n",
      "C:\\Users\\Николай\\AppData\\Local\\Temp\\ipykernel_13064\\2018409134.py:5: PerformanceWarning: DataFrame is highly fragmented.  This is usually the result of calling `frame.insert` many times, which has poor performance.  Consider joining all columns at once using pd.concat(axis=1) instead. To get a de-fragmented frame, use `newframe = frame.copy()`\n",
      "  test[col] = '-1'\n",
      "C:\\Users\\Николай\\AppData\\Local\\Temp\\ipykernel_13064\\2018409134.py:5: PerformanceWarning: DataFrame is highly fragmented.  This is usually the result of calling `frame.insert` many times, which has poor performance.  Consider joining all columns at once using pd.concat(axis=1) instead. To get a de-fragmented frame, use `newframe = frame.copy()`\n",
      "  test[col] = '-1'\n",
      "C:\\Users\\Николай\\AppData\\Local\\Temp\\ipykernel_13064\\2018409134.py:5: PerformanceWarning: DataFrame is highly fragmented.  This is usually the result of calling `frame.insert` many times, which has poor performance.  Consider joining all columns at once using pd.concat(axis=1) instead. To get a de-fragmented frame, use `newframe = frame.copy()`\n",
      "  test[col] = '-1'\n",
      "C:\\Users\\Николай\\AppData\\Local\\Temp\\ipykernel_13064\\2018409134.py:5: PerformanceWarning: DataFrame is highly fragmented.  This is usually the result of calling `frame.insert` many times, which has poor performance.  Consider joining all columns at once using pd.concat(axis=1) instead. To get a de-fragmented frame, use `newframe = frame.copy()`\n",
      "  test[col] = '-1'\n",
      "C:\\Users\\Николай\\AppData\\Local\\Temp\\ipykernel_13064\\2018409134.py:5: PerformanceWarning: DataFrame is highly fragmented.  This is usually the result of calling `frame.insert` many times, which has poor performance.  Consider joining all columns at once using pd.concat(axis=1) instead. To get a de-fragmented frame, use `newframe = frame.copy()`\n",
      "  test[col] = '-1'\n",
      "C:\\Users\\Николай\\AppData\\Local\\Temp\\ipykernel_13064\\2018409134.py:5: PerformanceWarning: DataFrame is highly fragmented.  This is usually the result of calling `frame.insert` many times, which has poor performance.  Consider joining all columns at once using pd.concat(axis=1) instead. To get a de-fragmented frame, use `newframe = frame.copy()`\n",
      "  test[col] = '-1'\n",
      "C:\\Users\\Николай\\AppData\\Local\\Temp\\ipykernel_13064\\2018409134.py:5: PerformanceWarning: DataFrame is highly fragmented.  This is usually the result of calling `frame.insert` many times, which has poor performance.  Consider joining all columns at once using pd.concat(axis=1) instead. To get a de-fragmented frame, use `newframe = frame.copy()`\n",
      "  test[col] = '-1'\n",
      "C:\\Users\\Николай\\AppData\\Local\\Temp\\ipykernel_13064\\2018409134.py:5: PerformanceWarning: DataFrame is highly fragmented.  This is usually the result of calling `frame.insert` many times, which has poor performance.  Consider joining all columns at once using pd.concat(axis=1) instead. To get a de-fragmented frame, use `newframe = frame.copy()`\n",
      "  test[col] = '-1'\n",
      "C:\\Users\\Николай\\AppData\\Local\\Temp\\ipykernel_13064\\2018409134.py:5: PerformanceWarning: DataFrame is highly fragmented.  This is usually the result of calling `frame.insert` many times, which has poor performance.  Consider joining all columns at once using pd.concat(axis=1) instead. To get a de-fragmented frame, use `newframe = frame.copy()`\n",
      "  test[col] = '-1'\n",
      "C:\\Users\\Николай\\AppData\\Local\\Temp\\ipykernel_13064\\2018409134.py:5: PerformanceWarning: DataFrame is highly fragmented.  This is usually the result of calling `frame.insert` many times, which has poor performance.  Consider joining all columns at once using pd.concat(axis=1) instead. To get a de-fragmented frame, use `newframe = frame.copy()`\n",
      "  test[col] = '-1'\n",
      "C:\\Users\\Николай\\AppData\\Local\\Temp\\ipykernel_13064\\2018409134.py:5: PerformanceWarning: DataFrame is highly fragmented.  This is usually the result of calling `frame.insert` many times, which has poor performance.  Consider joining all columns at once using pd.concat(axis=1) instead. To get a de-fragmented frame, use `newframe = frame.copy()`\n",
      "  test[col] = '-1'\n",
      "C:\\Users\\Николай\\AppData\\Local\\Temp\\ipykernel_13064\\2018409134.py:5: PerformanceWarning: DataFrame is highly fragmented.  This is usually the result of calling `frame.insert` many times, which has poor performance.  Consider joining all columns at once using pd.concat(axis=1) instead. To get a de-fragmented frame, use `newframe = frame.copy()`\n",
      "  test[col] = '-1'\n",
      "C:\\Users\\Николай\\AppData\\Local\\Temp\\ipykernel_13064\\2018409134.py:5: PerformanceWarning: DataFrame is highly fragmented.  This is usually the result of calling `frame.insert` many times, which has poor performance.  Consider joining all columns at once using pd.concat(axis=1) instead. To get a de-fragmented frame, use `newframe = frame.copy()`\n",
      "  test[col] = '-1'\n",
      "C:\\Users\\Николай\\AppData\\Local\\Temp\\ipykernel_13064\\2018409134.py:5: PerformanceWarning: DataFrame is highly fragmented.  This is usually the result of calling `frame.insert` many times, which has poor performance.  Consider joining all columns at once using pd.concat(axis=1) instead. To get a de-fragmented frame, use `newframe = frame.copy()`\n",
      "  test[col] = '-1'\n",
      "C:\\Users\\Николай\\AppData\\Local\\Temp\\ipykernel_13064\\2018409134.py:5: PerformanceWarning: DataFrame is highly fragmented.  This is usually the result of calling `frame.insert` many times, which has poor performance.  Consider joining all columns at once using pd.concat(axis=1) instead. To get a de-fragmented frame, use `newframe = frame.copy()`\n",
      "  test[col] = '-1'\n",
      "C:\\Users\\Николай\\AppData\\Local\\Temp\\ipykernel_13064\\2018409134.py:5: PerformanceWarning: DataFrame is highly fragmented.  This is usually the result of calling `frame.insert` many times, which has poor performance.  Consider joining all columns at once using pd.concat(axis=1) instead. To get a de-fragmented frame, use `newframe = frame.copy()`\n",
      "  test[col] = '-1'\n",
      "C:\\Users\\Николай\\AppData\\Local\\Temp\\ipykernel_13064\\2018409134.py:5: PerformanceWarning: DataFrame is highly fragmented.  This is usually the result of calling `frame.insert` many times, which has poor performance.  Consider joining all columns at once using pd.concat(axis=1) instead. To get a de-fragmented frame, use `newframe = frame.copy()`\n",
      "  test[col] = '-1'\n",
      "C:\\Users\\Николай\\AppData\\Local\\Temp\\ipykernel_13064\\2018409134.py:5: PerformanceWarning: DataFrame is highly fragmented.  This is usually the result of calling `frame.insert` many times, which has poor performance.  Consider joining all columns at once using pd.concat(axis=1) instead. To get a de-fragmented frame, use `newframe = frame.copy()`\n",
      "  test[col] = '-1'\n",
      "C:\\Users\\Николай\\AppData\\Local\\Temp\\ipykernel_13064\\2018409134.py:5: PerformanceWarning: DataFrame is highly fragmented.  This is usually the result of calling `frame.insert` many times, which has poor performance.  Consider joining all columns at once using pd.concat(axis=1) instead. To get a de-fragmented frame, use `newframe = frame.copy()`\n",
      "  test[col] = '-1'\n",
      "C:\\Users\\Николай\\AppData\\Local\\Temp\\ipykernel_13064\\2018409134.py:5: PerformanceWarning: DataFrame is highly fragmented.  This is usually the result of calling `frame.insert` many times, which has poor performance.  Consider joining all columns at once using pd.concat(axis=1) instead. To get a de-fragmented frame, use `newframe = frame.copy()`\n",
      "  test[col] = '-1'\n",
      "C:\\Users\\Николай\\AppData\\Local\\Temp\\ipykernel_13064\\2018409134.py:5: PerformanceWarning: DataFrame is highly fragmented.  This is usually the result of calling `frame.insert` many times, which has poor performance.  Consider joining all columns at once using pd.concat(axis=1) instead. To get a de-fragmented frame, use `newframe = frame.copy()`\n",
      "  test[col] = '-1'\n",
      "C:\\Users\\Николай\\AppData\\Local\\Temp\\ipykernel_13064\\2018409134.py:5: PerformanceWarning: DataFrame is highly fragmented.  This is usually the result of calling `frame.insert` many times, which has poor performance.  Consider joining all columns at once using pd.concat(axis=1) instead. To get a de-fragmented frame, use `newframe = frame.copy()`\n",
      "  test[col] = '-1'\n",
      "C:\\Users\\Николай\\AppData\\Local\\Temp\\ipykernel_13064\\2018409134.py:5: PerformanceWarning: DataFrame is highly fragmented.  This is usually the result of calling `frame.insert` many times, which has poor performance.  Consider joining all columns at once using pd.concat(axis=1) instead. To get a de-fragmented frame, use `newframe = frame.copy()`\n",
      "  test[col] = '-1'\n",
      "C:\\Users\\Николай\\AppData\\Local\\Temp\\ipykernel_13064\\2018409134.py:5: PerformanceWarning: DataFrame is highly fragmented.  This is usually the result of calling `frame.insert` many times, which has poor performance.  Consider joining all columns at once using pd.concat(axis=1) instead. To get a de-fragmented frame, use `newframe = frame.copy()`\n",
      "  test[col] = '-1'\n",
      "C:\\Users\\Николай\\AppData\\Local\\Temp\\ipykernel_13064\\2018409134.py:5: PerformanceWarning: DataFrame is highly fragmented.  This is usually the result of calling `frame.insert` many times, which has poor performance.  Consider joining all columns at once using pd.concat(axis=1) instead. To get a de-fragmented frame, use `newframe = frame.copy()`\n",
      "  test[col] = '-1'\n",
      "C:\\Users\\Николай\\AppData\\Local\\Temp\\ipykernel_13064\\2018409134.py:5: PerformanceWarning: DataFrame is highly fragmented.  This is usually the result of calling `frame.insert` many times, which has poor performance.  Consider joining all columns at once using pd.concat(axis=1) instead. To get a de-fragmented frame, use `newframe = frame.copy()`\n",
      "  test[col] = '-1'\n",
      "C:\\Users\\Николай\\AppData\\Local\\Temp\\ipykernel_13064\\2018409134.py:5: PerformanceWarning: DataFrame is highly fragmented.  This is usually the result of calling `frame.insert` many times, which has poor performance.  Consider joining all columns at once using pd.concat(axis=1) instead. To get a de-fragmented frame, use `newframe = frame.copy()`\n",
      "  test[col] = '-1'\n",
      "C:\\Users\\Николай\\AppData\\Local\\Temp\\ipykernel_13064\\2018409134.py:5: PerformanceWarning: DataFrame is highly fragmented.  This is usually the result of calling `frame.insert` many times, which has poor performance.  Consider joining all columns at once using pd.concat(axis=1) instead. To get a de-fragmented frame, use `newframe = frame.copy()`\n",
      "  test[col] = '-1'\n",
      "C:\\Users\\Николай\\AppData\\Local\\Temp\\ipykernel_13064\\2018409134.py:5: PerformanceWarning: DataFrame is highly fragmented.  This is usually the result of calling `frame.insert` many times, which has poor performance.  Consider joining all columns at once using pd.concat(axis=1) instead. To get a de-fragmented frame, use `newframe = frame.copy()`\n",
      "  test[col] = '-1'\n",
      "C:\\Users\\Николай\\AppData\\Local\\Temp\\ipykernel_13064\\2018409134.py:5: PerformanceWarning: DataFrame is highly fragmented.  This is usually the result of calling `frame.insert` many times, which has poor performance.  Consider joining all columns at once using pd.concat(axis=1) instead. To get a de-fragmented frame, use `newframe = frame.copy()`\n",
      "  test[col] = '-1'\n",
      "C:\\Users\\Николай\\AppData\\Local\\Temp\\ipykernel_13064\\2018409134.py:5: PerformanceWarning: DataFrame is highly fragmented.  This is usually the result of calling `frame.insert` many times, which has poor performance.  Consider joining all columns at once using pd.concat(axis=1) instead. To get a de-fragmented frame, use `newframe = frame.copy()`\n",
      "  test[col] = '-1'\n",
      "C:\\Users\\Николай\\AppData\\Local\\Temp\\ipykernel_13064\\2018409134.py:5: PerformanceWarning: DataFrame is highly fragmented.  This is usually the result of calling `frame.insert` many times, which has poor performance.  Consider joining all columns at once using pd.concat(axis=1) instead. To get a de-fragmented frame, use `newframe = frame.copy()`\n",
      "  test[col] = '-1'\n",
      "C:\\Users\\Николай\\AppData\\Local\\Temp\\ipykernel_13064\\2018409134.py:5: PerformanceWarning: DataFrame is highly fragmented.  This is usually the result of calling `frame.insert` many times, which has poor performance.  Consider joining all columns at once using pd.concat(axis=1) instead. To get a de-fragmented frame, use `newframe = frame.copy()`\n",
      "  test[col] = '-1'\n",
      "C:\\Users\\Николай\\AppData\\Local\\Temp\\ipykernel_13064\\2018409134.py:5: PerformanceWarning: DataFrame is highly fragmented.  This is usually the result of calling `frame.insert` many times, which has poor performance.  Consider joining all columns at once using pd.concat(axis=1) instead. To get a de-fragmented frame, use `newframe = frame.copy()`\n",
      "  test[col] = '-1'\n",
      "C:\\Users\\Николай\\AppData\\Local\\Temp\\ipykernel_13064\\2018409134.py:5: PerformanceWarning: DataFrame is highly fragmented.  This is usually the result of calling `frame.insert` many times, which has poor performance.  Consider joining all columns at once using pd.concat(axis=1) instead. To get a de-fragmented frame, use `newframe = frame.copy()`\n",
      "  test[col] = '-1'\n",
      "C:\\Users\\Николай\\AppData\\Local\\Temp\\ipykernel_13064\\2018409134.py:5: PerformanceWarning: DataFrame is highly fragmented.  This is usually the result of calling `frame.insert` many times, which has poor performance.  Consider joining all columns at once using pd.concat(axis=1) instead. To get a de-fragmented frame, use `newframe = frame.copy()`\n",
      "  test[col] = '-1'\n",
      "C:\\Users\\Николай\\AppData\\Local\\Temp\\ipykernel_13064\\2018409134.py:5: PerformanceWarning: DataFrame is highly fragmented.  This is usually the result of calling `frame.insert` many times, which has poor performance.  Consider joining all columns at once using pd.concat(axis=1) instead. To get a de-fragmented frame, use `newframe = frame.copy()`\n",
      "  test[col] = '-1'\n",
      "C:\\Users\\Николай\\AppData\\Local\\Temp\\ipykernel_13064\\2018409134.py:5: PerformanceWarning: DataFrame is highly fragmented.  This is usually the result of calling `frame.insert` many times, which has poor performance.  Consider joining all columns at once using pd.concat(axis=1) instead. To get a de-fragmented frame, use `newframe = frame.copy()`\n",
      "  test[col] = '-1'\n",
      "C:\\Users\\Николай\\AppData\\Local\\Temp\\ipykernel_13064\\2018409134.py:5: PerformanceWarning: DataFrame is highly fragmented.  This is usually the result of calling `frame.insert` many times, which has poor performance.  Consider joining all columns at once using pd.concat(axis=1) instead. To get a de-fragmented frame, use `newframe = frame.copy()`\n",
      "  test[col] = '-1'\n",
      "C:\\Users\\Николай\\AppData\\Local\\Temp\\ipykernel_13064\\2018409134.py:5: PerformanceWarning: DataFrame is highly fragmented.  This is usually the result of calling `frame.insert` many times, which has poor performance.  Consider joining all columns at once using pd.concat(axis=1) instead. To get a de-fragmented frame, use `newframe = frame.copy()`\n",
      "  test[col] = '-1'\n",
      "C:\\Users\\Николай\\AppData\\Local\\Temp\\ipykernel_13064\\2018409134.py:5: PerformanceWarning: DataFrame is highly fragmented.  This is usually the result of calling `frame.insert` many times, which has poor performance.  Consider joining all columns at once using pd.concat(axis=1) instead. To get a de-fragmented frame, use `newframe = frame.copy()`\n",
      "  test[col] = '-1'\n",
      "C:\\Users\\Николай\\AppData\\Local\\Temp\\ipykernel_13064\\2018409134.py:5: PerformanceWarning: DataFrame is highly fragmented.  This is usually the result of calling `frame.insert` many times, which has poor performance.  Consider joining all columns at once using pd.concat(axis=1) instead. To get a de-fragmented frame, use `newframe = frame.copy()`\n",
      "  test[col] = '-1'\n",
      "C:\\Users\\Николай\\AppData\\Local\\Temp\\ipykernel_13064\\2018409134.py:5: PerformanceWarning: DataFrame is highly fragmented.  This is usually the result of calling `frame.insert` many times, which has poor performance.  Consider joining all columns at once using pd.concat(axis=1) instead. To get a de-fragmented frame, use `newframe = frame.copy()`\n",
      "  test[col] = '-1'\n",
      "C:\\Users\\Николай\\AppData\\Local\\Temp\\ipykernel_13064\\2018409134.py:5: PerformanceWarning: DataFrame is highly fragmented.  This is usually the result of calling `frame.insert` many times, which has poor performance.  Consider joining all columns at once using pd.concat(axis=1) instead. To get a de-fragmented frame, use `newframe = frame.copy()`\n",
      "  test[col] = '-1'\n",
      "C:\\Users\\Николай\\AppData\\Local\\Temp\\ipykernel_13064\\2018409134.py:5: PerformanceWarning: DataFrame is highly fragmented.  This is usually the result of calling `frame.insert` many times, which has poor performance.  Consider joining all columns at once using pd.concat(axis=1) instead. To get a de-fragmented frame, use `newframe = frame.copy()`\n",
      "  test[col] = '-1'\n",
      "C:\\Users\\Николай\\AppData\\Local\\Temp\\ipykernel_13064\\2018409134.py:5: PerformanceWarning: DataFrame is highly fragmented.  This is usually the result of calling `frame.insert` many times, which has poor performance.  Consider joining all columns at once using pd.concat(axis=1) instead. To get a de-fragmented frame, use `newframe = frame.copy()`\n",
      "  test[col] = '-1'\n",
      "C:\\Users\\Николай\\AppData\\Local\\Temp\\ipykernel_13064\\2018409134.py:5: PerformanceWarning: DataFrame is highly fragmented.  This is usually the result of calling `frame.insert` many times, which has poor performance.  Consider joining all columns at once using pd.concat(axis=1) instead. To get a de-fragmented frame, use `newframe = frame.copy()`\n",
      "  test[col] = '-1'\n",
      "C:\\Users\\Николай\\AppData\\Local\\Temp\\ipykernel_13064\\2018409134.py:5: PerformanceWarning: DataFrame is highly fragmented.  This is usually the result of calling `frame.insert` many times, which has poor performance.  Consider joining all columns at once using pd.concat(axis=1) instead. To get a de-fragmented frame, use `newframe = frame.copy()`\n",
      "  test[col] = '-1'\n",
      "C:\\Users\\Николай\\AppData\\Local\\Temp\\ipykernel_13064\\2018409134.py:5: PerformanceWarning: DataFrame is highly fragmented.  This is usually the result of calling `frame.insert` many times, which has poor performance.  Consider joining all columns at once using pd.concat(axis=1) instead. To get a de-fragmented frame, use `newframe = frame.copy()`\n",
      "  test[col] = '-1'\n",
      "C:\\Users\\Николай\\AppData\\Local\\Temp\\ipykernel_13064\\2018409134.py:5: PerformanceWarning: DataFrame is highly fragmented.  This is usually the result of calling `frame.insert` many times, which has poor performance.  Consider joining all columns at once using pd.concat(axis=1) instead. To get a de-fragmented frame, use `newframe = frame.copy()`\n",
      "  test[col] = '-1'\n",
      "C:\\Users\\Николай\\AppData\\Local\\Temp\\ipykernel_13064\\2018409134.py:5: PerformanceWarning: DataFrame is highly fragmented.  This is usually the result of calling `frame.insert` many times, which has poor performance.  Consider joining all columns at once using pd.concat(axis=1) instead. To get a de-fragmented frame, use `newframe = frame.copy()`\n",
      "  test[col] = '-1'\n"
     ]
    }
   ],
   "source": [
    "missing_cols = set(train.columns) - set(test.columns)\n",
    "\n",
    "# Добавляем недостающие колонки в test и заполняем их значениями -1\n",
    "for col in missing_cols:\n",
    "    test[col] = '-1'"
   ],
   "metadata": {
    "collapsed": false,
    "ExecuteTime": {
     "end_time": "2024-12-31T18:35:57.036457800Z",
     "start_time": "2024-12-31T18:35:57.006456900Z"
    }
   },
   "id": "b685102f750a6d37",
   "execution_count": 47
  },
  {
   "cell_type": "code",
   "outputs": [],
   "source": [
    "final_cat = joblib.load(CONFIG['model_path'])"
   ],
   "metadata": {
    "collapsed": false,
    "ExecuteTime": {
     "end_time": "2024-12-31T18:35:57.049456700Z",
     "start_time": "2024-12-31T18:35:57.034456800Z"
    }
   },
   "id": "c24795b246f48d95",
   "execution_count": 48
  },
  {
   "cell_type": "code",
   "outputs": [
    {
     "data": {
      "text/plain": "{'iterations': 966,\n 'learning_rate': 0.008066583652537124,\n 'depth': 8,\n 'l2_leaf_reg': 5.142349241791732,\n 'model_size_reg': 0,\n 'rsm': 1,\n 'loss_function': 'RMSE',\n 'border_count': 711,\n 'feature_border_type': 'GreedyLogSum',\n 'nan_mode': 'Forbidden',\n 'leaf_estimation_iterations': 1,\n 'leaf_estimation_method': 'Newton',\n 'random_seed': 42,\n 'use_best_model': False,\n 'logging_level': 'Silent',\n 'max_ctr_complexity': 15,\n 'one_hot_max_size': 50,\n 'random_strength': 0,\n 'eval_metric': 'RMSE',\n 'bagging_temperature': 0.611469403382424,\n 'allow_writing_files': False,\n 'task_type': 'GPU',\n 'bootstrap_type': 'Bayesian',\n 'early_stopping_rounds': 250,\n 'grow_policy': 'Lossguide',\n 'max_leaves': 33,\n 'score_function': 'NewtonL2',\n 'leaf_estimation_backtracking': 'AnyImprovement',\n 'boost_from_average': True}"
     },
     "execution_count": 49,
     "metadata": {},
     "output_type": "execute_result"
    }
   ],
   "source": [
    "final_cat.get_params()"
   ],
   "metadata": {
    "collapsed": false,
    "ExecuteTime": {
     "end_time": "2024-12-31T18:35:57.078458400Z",
     "start_time": "2024-12-31T18:35:57.049456700Z"
    }
   },
   "id": "41015602ced07ca0",
   "execution_count": 49
  },
  {
   "cell_type": "code",
   "outputs": [],
   "source": [
    "preds_test = final_cat.predict(test.drop(columns=['ID']))"
   ],
   "metadata": {
    "collapsed": false,
    "ExecuteTime": {
     "end_time": "2024-12-31T18:35:57.087459100Z",
     "start_time": "2024-12-31T18:35:57.075458100Z"
    }
   },
   "id": "887fcb1c03c25912",
   "execution_count": 50
  },
  {
   "cell_type": "code",
   "outputs": [],
   "source": [
    "y_pred = test[['ID']].copy(deep=True)\n",
    "y_pred[\"prediction\"] = preds_test\n",
    "y_pred.to_csv('submission.csv', index=False)"
   ],
   "metadata": {
    "collapsed": false,
    "ExecuteTime": {
     "end_time": "2024-12-31T18:35:57.099459600Z",
     "start_time": "2024-12-31T18:35:57.081458900Z"
    }
   },
   "id": "903cca0ce259731a",
   "execution_count": 51
  },
  {
   "cell_type": "code",
   "outputs": [
    {
     "data": {
      "text/plain": "      ID  prediction\n0  28800    0.529230\n1  28801    0.663982\n2  28802    0.504143",
      "text/html": "<div>\n<style scoped>\n    .dataframe tbody tr th:only-of-type {\n        vertical-align: middle;\n    }\n\n    .dataframe tbody tr th {\n        vertical-align: top;\n    }\n\n    .dataframe thead th {\n        text-align: right;\n    }\n</style>\n<table border=\"1\" class=\"dataframe\">\n  <thead>\n    <tr style=\"text-align: right;\">\n      <th></th>\n      <th>ID</th>\n      <th>prediction</th>\n    </tr>\n  </thead>\n  <tbody>\n    <tr>\n      <th>0</th>\n      <td>28800</td>\n      <td>0.529230</td>\n    </tr>\n    <tr>\n      <th>1</th>\n      <td>28801</td>\n      <td>0.663982</td>\n    </tr>\n    <tr>\n      <th>2</th>\n      <td>28802</td>\n      <td>0.504143</td>\n    </tr>\n  </tbody>\n</table>\n</div>"
     },
     "execution_count": 52,
     "metadata": {},
     "output_type": "execute_result"
    }
   ],
   "source": [
    "y_pred"
   ],
   "metadata": {
    "collapsed": false,
    "ExecuteTime": {
     "end_time": "2024-12-31T18:36:03.068452400Z",
     "start_time": "2024-12-31T18:36:03.044452500Z"
    }
   },
   "id": "bd9ff20a9dbfc5e9",
   "execution_count": 52
  },
  {
   "cell_type": "code",
   "outputs": [],
   "source": [],
   "metadata": {
    "collapsed": false
   },
   "id": "3941d5c052ee046e"
  }
 ],
 "metadata": {
  "kernelspec": {
   "display_name": "Python 3",
   "language": "python",
   "name": "python3"
  },
  "language_info": {
   "codemirror_mode": {
    "name": "ipython",
    "version": 2
   },
   "file_extension": ".py",
   "mimetype": "text/x-python",
   "name": "python",
   "nbconvert_exporter": "python",
   "pygments_lexer": "ipython2",
   "version": "2.7.6"
  }
 },
 "nbformat": 4,
 "nbformat_minor": 5
}
