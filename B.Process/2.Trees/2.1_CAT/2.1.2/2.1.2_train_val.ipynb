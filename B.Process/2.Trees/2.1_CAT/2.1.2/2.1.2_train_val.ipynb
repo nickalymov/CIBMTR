{
 "cells": [
  {
   "cell_type": "code",
   "outputs": [],
   "source": [
    "import os\n",
    "current_directory = os.getcwd()\n",
    "folder_name = os.path.basename(current_directory)\n",
    "number = folder_name"
   ],
   "metadata": {
    "collapsed": false,
    "ExecuteTime": {
     "end_time": "2024-12-29T16:30:58.552787400Z",
     "start_time": "2024-12-29T16:30:58.543787300Z"
    }
   },
   "id": "cb2065b8802f8251",
   "execution_count": 31
  },
  {
   "cell_type": "code",
   "outputs": [],
   "source": [
    "CONFIG = {\n",
    "    'data_main': 'C:/Users/Николай/PycharmProjects/CIBMTR/D.Data/main/',\n",
    "    'data_train_process': 'C:/Users/Николай/PycharmProjects/CIBMTR/D.Data/train_process/',\n",
    "    'data_train_split': 'C:/Users/Николай/PycharmProjects/CIBMTR/D.Data/train_split/',\n",
    "    'train_path': 'train.csv',\n",
    "    'folds_path': 'v1.csv', \n",
    "\n",
    "    'DEVICE' : 'cuda',\n",
    "    'SEED' : 42,\n",
    "}"
   ],
   "metadata": {
    "collapsed": false,
    "ExecuteTime": {
     "end_time": "2024-12-29T16:30:58.593787400Z",
     "start_time": "2024-12-29T16:30:58.556787300Z"
    }
   },
   "id": "9174032d882584ac",
   "execution_count": 32
  },
  {
   "cell_type": "code",
   "outputs": [],
   "source": [
    "from catboost import CatBoostRegressor\n",
    "import optuna\n",
    "import pandas as pd\n",
    "from sklearn.model_selection import StratifiedKFold\n",
    "import numpy as np\n",
    "import joblib \n",
    "from metric import score_\n",
    "from lifelines import KaplanMeierFitter"
   ],
   "metadata": {
    "collapsed": false,
    "ExecuteTime": {
     "end_time": "2024-12-29T16:30:58.593787400Z",
     "start_time": "2024-12-29T16:30:58.565787600Z"
    }
   },
   "id": "b015da9f4c673f76",
   "execution_count": 33
  },
  {
   "cell_type": "code",
   "outputs": [],
   "source": [
    "def transform_survival_probability(df, time_col='efs_time', event_col='efs'):\n",
    "    kmf = KaplanMeierFitter()\n",
    "    kmf.fit(df[time_col], df[event_col])\n",
    "    y = kmf.survival_function_at_times(df[time_col]).values\n",
    "    return y"
   ],
   "metadata": {
    "collapsed": false,
    "ExecuteTime": {
     "end_time": "2024-12-29T16:30:58.597787200Z",
     "start_time": "2024-12-29T16:30:58.582787300Z"
    }
   },
   "id": "8e5da4978bd8e1b0",
   "execution_count": 34
  },
  {
   "cell_type": "code",
   "outputs": [],
   "source": [
    "# Load and prepare data\n",
    "train = pd.read_csv(f\"{CONFIG['data_main']}{CONFIG['train_path']}\")\n",
    "train = train.fillna('-1')\n",
    "\n",
    "# for col in ['donor_age', 'age_at_hct']:\n",
    "#     train[col] = train[col].astype(int)\n",
    "    \n",
    "train[\"y\"] = transform_survival_probability(train, time_col='efs_time', event_col='efs')\n",
    "\n",
    "cat_columns = [col for col in train.columns if col not in ['efs', 'efs_time', 'y', 'ID', 'donor_age', 'age_at_hct', 'race_group']]\n",
    "# train[cat_columns] = train[cat_columns].astype(str)\n",
    "train_one_hot = pd.get_dummies(train[cat_columns], drop_first=True)"
   ],
   "metadata": {
    "collapsed": false,
    "ExecuteTime": {
     "end_time": "2024-12-29T16:30:58.930787300Z",
     "start_time": "2024-12-29T16:30:58.598787200Z"
    }
   },
   "id": "214abe3370778cbd",
   "execution_count": 35
  },
  {
   "cell_type": "code",
   "outputs": [],
   "source": [
    "# Определение признаков и целевой переменной\n",
    "X = train.drop(columns=['y', 'efs', 'efs_time', 'ID', 'race_group'])\n",
    "for col in X.columns:  # Предполагаем, что cat_features — это список индексов категориальных признаков\n",
    "    X[col] = X[col].astype(str)\n",
    "X['donor_age'] = X['donor_age'].astype(float)\n",
    "X['age_at_hct'] = X['age_at_hct'].astype(float)\n",
    "\n",
    "y = train['y']"
   ],
   "metadata": {
    "collapsed": false,
    "ExecuteTime": {
     "end_time": "2024-12-29T16:30:59.057789100Z",
     "start_time": "2024-12-29T16:30:58.931788400Z"
    }
   },
   "id": "eb925cb7123ec6",
   "execution_count": 36
  },
  {
   "cell_type": "code",
   "outputs": [],
   "source": [
    "# Установка параметров кросс-валидации\n",
    "n_splits = 5\n",
    "skf = StratifiedKFold(n_splits=n_splits, shuffle=True, random_state=CONFIG['SEED'])"
   ],
   "metadata": {
    "collapsed": false,
    "ExecuteTime": {
     "end_time": "2024-12-29T16:30:59.073788600Z",
     "start_time": "2024-12-29T16:30:59.058788600Z"
    }
   },
   "id": "30d7e73c149b9248",
   "execution_count": 37
  },
  {
   "cell_type": "code",
   "outputs": [],
   "source": [
    "# Фиксированные параметры\n",
    "fixed_params = {\n",
    "    'od_wait': 50,\n",
    "    'od_type': 'IncToDec',\n",
    "    'leaf_estimation_method': 'Newton',\n",
    "    'verbose': False,\n",
    "    'eval_metric': 'RMSE',\n",
    "    'allow_writing_files': False,\n",
    "    'task_type': 'GPU',\n",
    "    'devices': '0',\n",
    "    'score_function': 'NewtonL2',\n",
    "    'leaf_estimation_backtracking': 'Armijo',\n",
    "    'boost_from_average': False,\n",
    "    'grow_policy': 'Lossguide',\n",
    "    \n",
    "}\n"
   ],
   "metadata": {
    "collapsed": false,
    "ExecuteTime": {
     "end_time": "2024-12-29T16:30:59.091788800Z",
     "start_time": "2024-12-29T16:30:59.075788Z"
    }
   },
   "id": "fcfa2d6ba97ee9c5",
   "execution_count": 38
  },
  {
   "cell_type": "code",
   "outputs": [],
   "source": [
    "# Функция для оптимизации CatBoost\n",
    "def optimize_cat(trial):\n",
    "    params = {\n",
    "        'iterations': trial.suggest_int('iterations', 100, 1000),\n",
    "        'learning_rate': trial.suggest_float('learning_rate', 0.001, 0.1, log=True),\n",
    "        'depth': trial.suggest_int('depth', 4, 16),\n",
    "        'l2_leaf_reg': trial.suggest_float('l2_leaf_reg', 1e-5, 100, log=True),\n",
    "        'model_size_reg': trial.suggest_int('model_size_reg', 0, 25),\n",
    "        'border_count': trial.suggest_int('border_count', 128, 255),\n",
    "        'feature_border_type': trial.suggest_categorical('feature_border_type', ['Median', 'Uniform', 'UniformAndQuantiles', 'GreedyLogSum', 'MaxLogSum', 'MinEntropy']),\n",
    "        'fold_permutation_block': trial.suggest_int('fold_permutation_block', 128, 256),\n",
    "        'od_pval': trial.suggest_float('od_pval', 0.001, 0.1),\n",
    "        'leaf_estimation_iterations': trial.suggest_int('leaf_estimation_iterations', 1, 16),\n",
    "        'best_model_min_trees': trial.suggest_int('best_model_min_trees', 10, 100),\n",
    "        'random_strength': trial.suggest_float('random_strength', 0.1, 1),\n",
    "        'bagging_temperature': trial.suggest_float('bagging_temperature', 0.1, 1.0),\n",
    "        'penalties_coefficient': trial.suggest_float('penalties_coefficient', 0.1, 10),\n",
    "        'min_data_in_leaf': trial.suggest_int('min_data_in_leaf', 1, 10),\n",
    "        'max_leaves': trial.suggest_int('max_leaves', 31, 256),\n",
    "    }\n",
    "    # Объединение оптимизированных и фиксированных параметров\n",
    "    final_params = {**fixed_params, **params}\n",
    "    \n",
    "    scores = []\n",
    "    \n",
    "    for train_idx, valid_idx in skf.split(X, train['race_group']):\n",
    "        X_train, X_valid = X.iloc[train_idx], X.iloc[valid_idx]\n",
    "        y_train, y_valid = y.iloc[train_idx], y.iloc[valid_idx]\n",
    "        \n",
    "        model = CatBoostRegressor(cat_features=cat_columns, **final_params)\n",
    "        model.fit(X_train, y_train, eval_set=[(X_valid, y_valid)], verbose=False)\n",
    "        \n",
    "        preds = model.predict(X_valid)\n",
    "        fold_score = score_(pd.DataFrame({'efs': train.iloc[valid_idx]['efs'].to_list(), \n",
    "                                          'efs_time' : train.iloc[valid_idx]['efs_time'].to_list(),\n",
    "                                          'race_group': train.iloc[valid_idx]['race_group'].to_list()}),\n",
    "                            pd.DataFrame(preds, columns=['prediction']))\n",
    "        scores.append(fold_score)\n",
    "    \n",
    "    return np.mean(scores)"
   ],
   "metadata": {
    "collapsed": false,
    "ExecuteTime": {
     "end_time": "2024-12-29T16:30:59.108788700Z",
     "start_time": "2024-12-29T16:30:59.094789500Z"
    }
   },
   "id": "cc9968ace3101cb7",
   "execution_count": 39
  },
  {
   "cell_type": "code",
   "outputs": [
    {
     "name": "stderr",
     "output_type": "stream",
     "text": [
      "[I 2024-12-29 19:30:59,106] A new study created in memory with name: no-name-531467fa-a7e2-476a-9b6e-303af4e98dbf\n",
      "[I 2024-12-29 19:33:02,537] Trial 0 finished with value: 0.6624631553801115 and parameters: {'iterations': 437, 'learning_rate': 0.07969454818643935, 'depth': 13, 'l2_leaf_reg': 0.1550991398759431, 'model_size_reg': 4, 'border_count': 147, 'feature_border_type': 'MinEntropy', 'fold_permutation_block': 235, 'od_pval': 0.022021571957149343, 'leaf_estimation_iterations': 3, 'best_model_min_trees': 26, 'random_strength': 0.373818018663584, 'bagging_temperature': 0.5722807884690141, 'penalties_coefficient': 4.376255684556946, 'min_data_in_leaf': 3, 'max_leaves': 169}. Best is trial 0 with value: 0.6624631553801115.\n",
      "[I 2024-12-29 19:34:15,035] Trial 1 finished with value: 0.6473148718129715 and parameters: {'iterations': 225, 'learning_rate': 0.00383962929980417, 'depth': 8, 'l2_leaf_reg': 0.015577217702693031, 'model_size_reg': 20, 'border_count': 153, 'feature_border_type': 'GreedyLogSum', 'fold_permutation_block': 250, 'od_pval': 0.09659757127438139, 'leaf_estimation_iterations': 13, 'best_model_min_trees': 37, 'random_strength': 0.1879049026057455, 'bagging_temperature': 0.7158097238609412, 'penalties_coefficient': 4.457509688022053, 'min_data_in_leaf': 2, 'max_leaves': 142}. Best is trial 0 with value: 0.6624631553801115.\n",
      "[I 2024-12-29 19:34:50,588] Trial 2 finished with value: 0.6642088178732152 and parameters: {'iterations': 130, 'learning_rate': 0.06586289317583113, 'depth': 7, 'l2_leaf_reg': 0.43416618003617374, 'model_size_reg': 8, 'border_count': 194, 'feature_border_type': 'UniformAndQuantiles', 'fold_permutation_block': 205, 'od_pval': 0.09226554926728857, 'leaf_estimation_iterations': 2, 'best_model_min_trees': 27, 'random_strength': 0.14070456001948428, 'bagging_temperature': 0.39279729768693794, 'penalties_coefficient': 3.9479051679258723, 'min_data_in_leaf': 3, 'max_leaves': 218}. Best is trial 2 with value: 0.6642088178732152.\n",
      "[I 2024-12-29 19:35:44,802] Trial 3 finished with value: 0.6531161364319875 and parameters: {'iterations': 421, 'learning_rate': 0.0036464395589807202, 'depth': 11, 'l2_leaf_reg': 9.693253593230322e-05, 'model_size_reg': 20, 'border_count': 137, 'feature_border_type': 'Median', 'fold_permutation_block': 222, 'od_pval': 0.07735576432190863, 'leaf_estimation_iterations': 2, 'best_model_min_trees': 42, 'random_strength': 0.20428215357261675, 'bagging_temperature': 0.8767930832880342, 'penalties_coefficient': 6.270651455592823, 'min_data_in_leaf': 4, 'max_leaves': 45}. Best is trial 2 with value: 0.6642088178732152.\n",
      "[I 2024-12-29 19:38:59,566] Trial 4 finished with value: 0.6577376602772194 and parameters: {'iterations': 380, 'learning_rate': 0.004470608546778492, 'depth': 13, 'l2_leaf_reg': 0.2903369428128563, 'model_size_reg': 23, 'border_count': 188, 'feature_border_type': 'MaxLogSum', 'fold_permutation_block': 195, 'od_pval': 0.04332656081749642, 'leaf_estimation_iterations': 1, 'best_model_min_trees': 19, 'random_strength': 0.12828626711806082, 'bagging_temperature': 0.6727693701374023, 'penalties_coefficient': 3.212124212655634, 'min_data_in_leaf': 6, 'max_leaves': 236}. Best is trial 2 with value: 0.6642088178732152.\n",
      "[I 2024-12-29 19:40:40,710] Trial 5 finished with value: 0.6585873479058857 and parameters: {'iterations': 324, 'learning_rate': 0.006618595597183482, 'depth': 13, 'l2_leaf_reg': 0.00039956474180158537, 'model_size_reg': 2, 'border_count': 165, 'feature_border_type': 'Uniform', 'fold_permutation_block': 152, 'od_pval': 0.0893633408505078, 'leaf_estimation_iterations': 9, 'best_model_min_trees': 83, 'random_strength': 0.9064821699311439, 'bagging_temperature': 0.38620312747467755, 'penalties_coefficient': 1.189514052824, 'min_data_in_leaf': 3, 'max_leaves': 127}. Best is trial 2 with value: 0.6642088178732152.\n",
      "[I 2024-12-29 19:42:10,975] Trial 6 finished with value: 0.6667638230753334 and parameters: {'iterations': 837, 'learning_rate': 0.05265761277157429, 'depth': 4, 'l2_leaf_reg': 0.03760374665179121, 'model_size_reg': 10, 'border_count': 156, 'feature_border_type': 'UniformAndQuantiles', 'fold_permutation_block': 174, 'od_pval': 0.09720642618937511, 'leaf_estimation_iterations': 16, 'best_model_min_trees': 32, 'random_strength': 0.547523655303147, 'bagging_temperature': 0.37079047883509275, 'penalties_coefficient': 2.9199208943369297, 'min_data_in_leaf': 1, 'max_leaves': 168}. Best is trial 6 with value: 0.6667638230753334.\n",
      "[I 2024-12-29 19:43:19,081] Trial 7 finished with value: 0.6309279872938048 and parameters: {'iterations': 552, 'learning_rate': 0.0012675278269816293, 'depth': 7, 'l2_leaf_reg': 22.796134031070487, 'model_size_reg': 6, 'border_count': 146, 'feature_border_type': 'Uniform', 'fold_permutation_block': 221, 'od_pval': 0.037410530139206075, 'leaf_estimation_iterations': 11, 'best_model_min_trees': 67, 'random_strength': 0.5821972156672827, 'bagging_temperature': 0.18126079304896747, 'penalties_coefficient': 8.369494706333455, 'min_data_in_leaf': 4, 'max_leaves': 73}. Best is trial 6 with value: 0.6667638230753334.\n",
      "[I 2024-12-29 19:44:22,038] Trial 8 finished with value: 0.6584253619201037 and parameters: {'iterations': 136, 'learning_rate': 0.01519798062003422, 'depth': 12, 'l2_leaf_reg': 1.3065162102672634e-05, 'model_size_reg': 13, 'border_count': 156, 'feature_border_type': 'MaxLogSum', 'fold_permutation_block': 171, 'od_pval': 0.01223387860281832, 'leaf_estimation_iterations': 15, 'best_model_min_trees': 89, 'random_strength': 0.33214746494364006, 'bagging_temperature': 0.6939856414307611, 'penalties_coefficient': 8.190499781992036, 'min_data_in_leaf': 6, 'max_leaves': 150}. Best is trial 6 with value: 0.6667638230753334.\n",
      "[I 2024-12-29 19:45:36,633] Trial 9 finished with value: 0.6282316534232888 and parameters: {'iterations': 317, 'learning_rate': 0.0015353434324857037, 'depth': 15, 'l2_leaf_reg': 20.087523606336816, 'model_size_reg': 16, 'border_count': 171, 'feature_border_type': 'UniformAndQuantiles', 'fold_permutation_block': 138, 'od_pval': 0.017001242695366764, 'leaf_estimation_iterations': 15, 'best_model_min_trees': 65, 'random_strength': 0.10827734645496669, 'bagging_temperature': 0.1913243885794289, 'penalties_coefficient': 6.668667514169752, 'min_data_in_leaf': 1, 'max_leaves': 67}. Best is trial 6 with value: 0.6667638230753334.\n"
     ]
    }
   ],
   "source": [
    "study_cat = optuna.create_study(direction='maximize', sampler=optuna.samplers.TPESampler(seed=CONFIG['SEED']))\n",
    "study_cat.optimize(optimize_cat, n_trials=10)"
   ],
   "metadata": {
    "collapsed": false,
    "ExecuteTime": {
     "end_time": "2024-12-29T16:45:36.644872900Z",
     "start_time": "2024-12-29T16:30:59.107787200Z"
    }
   },
   "id": "6671f52e7d3c2b3a",
   "execution_count": 40
  },
  {
   "cell_type": "code",
   "outputs": [],
   "source": [
    "# Получение лучших параметров\n",
    "best_params_cat = study_cat.best_params\n",
    "\n",
    "# Объединение лучших параметров с фиксированными\n",
    "final_params = {**fixed_params, **best_params_cat}"
   ],
   "metadata": {
    "collapsed": false,
    "ExecuteTime": {
     "end_time": "2024-12-29T16:45:36.662873100Z",
     "start_time": "2024-12-29T16:45:36.647872700Z"
    }
   },
   "id": "95e24aa905f98c66",
   "execution_count": 41
  },
  {
   "cell_type": "code",
   "outputs": [
    {
     "data": {
      "text/plain": "<catboost.core.CatBoostRegressor at 0x201bc4c0bb0>"
     },
     "execution_count": 44,
     "metadata": {},
     "output_type": "execute_result"
    }
   ],
   "source": [
    "final_cat = CatBoostRegressor(cat_features=cat_columns, **final_params)\n",
    "final_cat.fit(X, y)"
   ],
   "metadata": {
    "collapsed": false,
    "ExecuteTime": {
     "end_time": "2024-12-29T16:47:47.877616400Z",
     "start_time": "2024-12-29T16:47:31.614439900Z"
    }
   },
   "id": "97782c5be4517c4e",
   "execution_count": 44
  },
  {
   "cell_type": "code",
   "outputs": [
    {
     "data": {
      "text/plain": "['2.1.2_model.pkl']"
     },
     "execution_count": 45,
     "metadata": {},
     "output_type": "execute_result"
    }
   ],
   "source": [
    "joblib.dump(final_cat, f\"{number}_model.pkl\")"
   ],
   "metadata": {
    "collapsed": false,
    "ExecuteTime": {
     "end_time": "2024-12-29T16:47:47.904616900Z",
     "start_time": "2024-12-29T16:47:47.879616800Z"
    }
   },
   "id": "2b2e3bf4e98d533d",
   "execution_count": 45
  },
  {
   "cell_type": "code",
   "outputs": [],
   "source": [
    "cat_importance = final_cat.get_feature_importance()"
   ],
   "metadata": {
    "collapsed": false,
    "ExecuteTime": {
     "end_time": "2024-12-29T16:47:47.946619800Z",
     "start_time": "2024-12-29T16:47:47.894617Z"
    }
   },
   "id": "3e50b9cbcbd85c7f",
   "execution_count": 46
  },
  {
   "cell_type": "code",
   "outputs": [
    {
     "name": "stdout",
     "output_type": "stream",
     "text": [
      "CatBoost Feature Importances:\n",
      "                    Feature  Importance\n",
      "0                dri_score   17.876582\n",
      "26  conditioning_intensity   10.323241\n",
      "45       comorbidity_score    8.476335\n",
      "28                year_hct    6.233181\n",
      "46         karnofsky_score    5.863658\n",
      "25       cyto_score_detail    4.725139\n",
      "35               donor_age    4.149737\n",
      "13        prim_disease_hct    4.051642\n",
      "39              age_at_hct    3.415143\n",
      "2               cyto_score    3.139226\n",
      "43               sex_match    2.424936\n",
      "30                 mrd_hct    2.299390\n",
      "41              gvhd_proph    2.239761\n",
      "12             pulm_severe    1.697423\n",
      "15              cmv_status    1.678009\n",
      "49           donor_related    1.232743\n",
      "6               tbi_status    1.159096\n",
      "7               arrhythmia    1.139254\n",
      "36             prior_tumor    1.049504\n",
      "52                 cardiac    1.022376\n",
      "31             in_vivo_tcd    0.989153\n",
      "33        hla_match_a_high    0.986772\n",
      "3                 diabetes    0.919529\n",
      "19              hla_nmdp_6    0.810081\n",
      "18           tce_imm_match    0.762868\n",
      "53     hla_match_drb1_high    0.684311\n",
      "32               tce_match    0.589923\n",
      "1            psych_disturb    0.548264\n",
      "10               vent_hist    0.508059\n",
      "48           tce_div_match    0.486161\n",
      "34          hepatic_severe    0.459469\n",
      "23      hla_match_dqb1_low    0.453808\n",
      "17     hla_match_dqb1_high    0.428167\n",
      "24               prod_type    0.417986\n",
      "16         hla_high_res_10    0.415309\n",
      "37         hla_match_b_low    0.405372\n",
      "29                 obesity    0.384196\n",
      "4         hla_match_c_high    0.371746\n",
      "22      hla_match_drb1_low    0.370700\n",
      "51           hla_low_res_8    0.362141\n",
      "40         hla_match_a_low    0.354101\n",
      "5           hla_high_res_8    0.353611\n",
      "27               ethnicity    0.343458\n",
      "38            peptic_ulcer    0.308416\n",
      "21               rituximab    0.306393\n",
      "42             rheum_issue    0.306256\n",
      "54           pulm_moderate    0.299802\n",
      "9               graft_type    0.287870\n",
      "11             renal_issue    0.278077\n",
      "55          hla_low_res_10    0.265983\n",
      "8            hla_low_res_6    0.252632\n",
      "14          hla_high_res_6    0.235768\n",
      "44        hla_match_b_high    0.234211\n",
      "20         hla_match_c_low    0.221896\n",
      "50          melphalan_dose    0.206774\n",
      "47            hepatic_mild    0.194360\n"
     ]
    }
   ],
   "source": [
    "# CatBoost\n",
    "cat_importance_df = pd.DataFrame({\n",
    "    'Feature': X.columns,\n",
    "    'Importance': cat_importance\n",
    "}).sort_values(by='Importance', ascending=False)\n",
    "\n",
    "print(\"CatBoost Feature Importances:\\n\", cat_importance_df)"
   ],
   "metadata": {
    "collapsed": false,
    "ExecuteTime": {
     "end_time": "2024-12-29T16:47:47.946619800Z",
     "start_time": "2024-12-29T16:47:47.943619Z"
    }
   },
   "id": "7b65d88176d2873f",
   "execution_count": 47
  },
  {
   "cell_type": "code",
   "outputs": [
    {
     "data": {
      "text/plain": "                   Feature  Importance\n0                dri_score   17.876582\n26  conditioning_intensity   10.323241\n45       comorbidity_score    8.476335\n28                year_hct    6.233181\n46         karnofsky_score    5.863658\n25       cyto_score_detail    4.725139\n35               donor_age    4.149737\n13        prim_disease_hct    4.051642\n39              age_at_hct    3.415143\n2               cyto_score    3.139226\n43               sex_match    2.424936\n30                 mrd_hct    2.299390\n41              gvhd_proph    2.239761\n12             pulm_severe    1.697423\n15              cmv_status    1.678009\n49           donor_related    1.232743\n6               tbi_status    1.159096\n7               arrhythmia    1.139254\n36             prior_tumor    1.049504\n52                 cardiac    1.022376\n31             in_vivo_tcd    0.989153\n33        hla_match_a_high    0.986772\n3                 diabetes    0.919529\n19              hla_nmdp_6    0.810081\n18           tce_imm_match    0.762868\n53     hla_match_drb1_high    0.684311\n32               tce_match    0.589923\n1            psych_disturb    0.548264\n10               vent_hist    0.508059\n48           tce_div_match    0.486161\n34          hepatic_severe    0.459469\n23      hla_match_dqb1_low    0.453808\n17     hla_match_dqb1_high    0.428167\n24               prod_type    0.417986\n16         hla_high_res_10    0.415309\n37         hla_match_b_low    0.405372\n29                 obesity    0.384196\n4         hla_match_c_high    0.371746\n22      hla_match_drb1_low    0.370700\n51           hla_low_res_8    0.362141\n40         hla_match_a_low    0.354101\n5           hla_high_res_8    0.353611\n27               ethnicity    0.343458\n38            peptic_ulcer    0.308416\n21               rituximab    0.306393\n42             rheum_issue    0.306256\n54           pulm_moderate    0.299802\n9               graft_type    0.287870\n11             renal_issue    0.278077\n55          hla_low_res_10    0.265983\n8            hla_low_res_6    0.252632\n14          hla_high_res_6    0.235768\n44        hla_match_b_high    0.234211\n20         hla_match_c_low    0.221896\n50          melphalan_dose    0.206774\n47            hepatic_mild    0.194360",
      "text/html": "<div>\n<style scoped>\n    .dataframe tbody tr th:only-of-type {\n        vertical-align: middle;\n    }\n\n    .dataframe tbody tr th {\n        vertical-align: top;\n    }\n\n    .dataframe thead th {\n        text-align: right;\n    }\n</style>\n<table border=\"1\" class=\"dataframe\">\n  <thead>\n    <tr style=\"text-align: right;\">\n      <th></th>\n      <th>Feature</th>\n      <th>Importance</th>\n    </tr>\n  </thead>\n  <tbody>\n    <tr>\n      <th>0</th>\n      <td>dri_score</td>\n      <td>17.876582</td>\n    </tr>\n    <tr>\n      <th>26</th>\n      <td>conditioning_intensity</td>\n      <td>10.323241</td>\n    </tr>\n    <tr>\n      <th>45</th>\n      <td>comorbidity_score</td>\n      <td>8.476335</td>\n    </tr>\n    <tr>\n      <th>28</th>\n      <td>year_hct</td>\n      <td>6.233181</td>\n    </tr>\n    <tr>\n      <th>46</th>\n      <td>karnofsky_score</td>\n      <td>5.863658</td>\n    </tr>\n    <tr>\n      <th>25</th>\n      <td>cyto_score_detail</td>\n      <td>4.725139</td>\n    </tr>\n    <tr>\n      <th>35</th>\n      <td>donor_age</td>\n      <td>4.149737</td>\n    </tr>\n    <tr>\n      <th>13</th>\n      <td>prim_disease_hct</td>\n      <td>4.051642</td>\n    </tr>\n    <tr>\n      <th>39</th>\n      <td>age_at_hct</td>\n      <td>3.415143</td>\n    </tr>\n    <tr>\n      <th>2</th>\n      <td>cyto_score</td>\n      <td>3.139226</td>\n    </tr>\n    <tr>\n      <th>43</th>\n      <td>sex_match</td>\n      <td>2.424936</td>\n    </tr>\n    <tr>\n      <th>30</th>\n      <td>mrd_hct</td>\n      <td>2.299390</td>\n    </tr>\n    <tr>\n      <th>41</th>\n      <td>gvhd_proph</td>\n      <td>2.239761</td>\n    </tr>\n    <tr>\n      <th>12</th>\n      <td>pulm_severe</td>\n      <td>1.697423</td>\n    </tr>\n    <tr>\n      <th>15</th>\n      <td>cmv_status</td>\n      <td>1.678009</td>\n    </tr>\n    <tr>\n      <th>49</th>\n      <td>donor_related</td>\n      <td>1.232743</td>\n    </tr>\n    <tr>\n      <th>6</th>\n      <td>tbi_status</td>\n      <td>1.159096</td>\n    </tr>\n    <tr>\n      <th>7</th>\n      <td>arrhythmia</td>\n      <td>1.139254</td>\n    </tr>\n    <tr>\n      <th>36</th>\n      <td>prior_tumor</td>\n      <td>1.049504</td>\n    </tr>\n    <tr>\n      <th>52</th>\n      <td>cardiac</td>\n      <td>1.022376</td>\n    </tr>\n    <tr>\n      <th>31</th>\n      <td>in_vivo_tcd</td>\n      <td>0.989153</td>\n    </tr>\n    <tr>\n      <th>33</th>\n      <td>hla_match_a_high</td>\n      <td>0.986772</td>\n    </tr>\n    <tr>\n      <th>3</th>\n      <td>diabetes</td>\n      <td>0.919529</td>\n    </tr>\n    <tr>\n      <th>19</th>\n      <td>hla_nmdp_6</td>\n      <td>0.810081</td>\n    </tr>\n    <tr>\n      <th>18</th>\n      <td>tce_imm_match</td>\n      <td>0.762868</td>\n    </tr>\n    <tr>\n      <th>53</th>\n      <td>hla_match_drb1_high</td>\n      <td>0.684311</td>\n    </tr>\n    <tr>\n      <th>32</th>\n      <td>tce_match</td>\n      <td>0.589923</td>\n    </tr>\n    <tr>\n      <th>1</th>\n      <td>psych_disturb</td>\n      <td>0.548264</td>\n    </tr>\n    <tr>\n      <th>10</th>\n      <td>vent_hist</td>\n      <td>0.508059</td>\n    </tr>\n    <tr>\n      <th>48</th>\n      <td>tce_div_match</td>\n      <td>0.486161</td>\n    </tr>\n    <tr>\n      <th>34</th>\n      <td>hepatic_severe</td>\n      <td>0.459469</td>\n    </tr>\n    <tr>\n      <th>23</th>\n      <td>hla_match_dqb1_low</td>\n      <td>0.453808</td>\n    </tr>\n    <tr>\n      <th>17</th>\n      <td>hla_match_dqb1_high</td>\n      <td>0.428167</td>\n    </tr>\n    <tr>\n      <th>24</th>\n      <td>prod_type</td>\n      <td>0.417986</td>\n    </tr>\n    <tr>\n      <th>16</th>\n      <td>hla_high_res_10</td>\n      <td>0.415309</td>\n    </tr>\n    <tr>\n      <th>37</th>\n      <td>hla_match_b_low</td>\n      <td>0.405372</td>\n    </tr>\n    <tr>\n      <th>29</th>\n      <td>obesity</td>\n      <td>0.384196</td>\n    </tr>\n    <tr>\n      <th>4</th>\n      <td>hla_match_c_high</td>\n      <td>0.371746</td>\n    </tr>\n    <tr>\n      <th>22</th>\n      <td>hla_match_drb1_low</td>\n      <td>0.370700</td>\n    </tr>\n    <tr>\n      <th>51</th>\n      <td>hla_low_res_8</td>\n      <td>0.362141</td>\n    </tr>\n    <tr>\n      <th>40</th>\n      <td>hla_match_a_low</td>\n      <td>0.354101</td>\n    </tr>\n    <tr>\n      <th>5</th>\n      <td>hla_high_res_8</td>\n      <td>0.353611</td>\n    </tr>\n    <tr>\n      <th>27</th>\n      <td>ethnicity</td>\n      <td>0.343458</td>\n    </tr>\n    <tr>\n      <th>38</th>\n      <td>peptic_ulcer</td>\n      <td>0.308416</td>\n    </tr>\n    <tr>\n      <th>21</th>\n      <td>rituximab</td>\n      <td>0.306393</td>\n    </tr>\n    <tr>\n      <th>42</th>\n      <td>rheum_issue</td>\n      <td>0.306256</td>\n    </tr>\n    <tr>\n      <th>54</th>\n      <td>pulm_moderate</td>\n      <td>0.299802</td>\n    </tr>\n    <tr>\n      <th>9</th>\n      <td>graft_type</td>\n      <td>0.287870</td>\n    </tr>\n    <tr>\n      <th>11</th>\n      <td>renal_issue</td>\n      <td>0.278077</td>\n    </tr>\n    <tr>\n      <th>55</th>\n      <td>hla_low_res_10</td>\n      <td>0.265983</td>\n    </tr>\n    <tr>\n      <th>8</th>\n      <td>hla_low_res_6</td>\n      <td>0.252632</td>\n    </tr>\n    <tr>\n      <th>14</th>\n      <td>hla_high_res_6</td>\n      <td>0.235768</td>\n    </tr>\n    <tr>\n      <th>44</th>\n      <td>hla_match_b_high</td>\n      <td>0.234211</td>\n    </tr>\n    <tr>\n      <th>20</th>\n      <td>hla_match_c_low</td>\n      <td>0.221896</td>\n    </tr>\n    <tr>\n      <th>50</th>\n      <td>melphalan_dose</td>\n      <td>0.206774</td>\n    </tr>\n    <tr>\n      <th>47</th>\n      <td>hepatic_mild</td>\n      <td>0.194360</td>\n    </tr>\n  </tbody>\n</table>\n</div>"
     },
     "execution_count": 48,
     "metadata": {},
     "output_type": "execute_result"
    }
   ],
   "source": [
    "cat_importance_df"
   ],
   "metadata": {
    "collapsed": false,
    "ExecuteTime": {
     "end_time": "2024-12-29T16:47:47.957617200Z",
     "start_time": "2024-12-29T16:47:47.944620Z"
    }
   },
   "id": "f4f68c40ae374114",
   "execution_count": 48
  }
 ],
 "metadata": {
  "kernelspec": {
   "display_name": "Python 3",
   "language": "python",
   "name": "python3"
  },
  "language_info": {
   "codemirror_mode": {
    "name": "ipython",
    "version": 2
   },
   "file_extension": ".py",
   "mimetype": "text/x-python",
   "name": "python",
   "nbconvert_exporter": "python",
   "pygments_lexer": "ipython2",
   "version": "2.7.6"
  }
 },
 "nbformat": 4,
 "nbformat_minor": 5
}
