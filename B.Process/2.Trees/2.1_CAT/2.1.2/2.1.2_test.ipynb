{
 "cells": [
  {
   "cell_type": "code",
   "outputs": [],
   "source": [
    "import os\n",
    "current_directory = os.getcwd()\n",
    "folder_name = os.path.basename(current_directory)\n",
    "number = folder_name"
   ],
   "metadata": {
    "collapsed": false,
    "ExecuteTime": {
     "end_time": "2024-12-29T16:51:10.126800400Z",
     "start_time": "2024-12-29T16:51:10.120802900Z"
    }
   },
   "id": "cb2065b8802f8251",
   "execution_count": 14
  },
  {
   "cell_type": "code",
   "outputs": [],
   "source": [
    "CONFIG = {\n",
    "    'data_main': 'C:/Users/Николай/PycharmProjects/CIBMTR/D.Data/main/',\n",
    "    'test_path': 'test.csv',\n",
    "    'train_path': 'train.csv',\n",
    "    'model_path': f\"{number}_model.pkl\",\n",
    "\n",
    "    'DEVICE' : 'cuda',\n",
    "    'SEED' : 42,\n",
    "}"
   ],
   "metadata": {
    "collapsed": false,
    "ExecuteTime": {
     "end_time": "2024-12-29T16:51:10.158801800Z",
     "start_time": "2024-12-29T16:51:10.130800400Z"
    }
   },
   "id": "9174032d882584ac",
   "execution_count": 15
  },
  {
   "cell_type": "code",
   "outputs": [],
   "source": [
    "import pandas as pd\n",
    "import joblib "
   ],
   "metadata": {
    "collapsed": false,
    "ExecuteTime": {
     "end_time": "2024-12-29T16:51:10.159802Z",
     "start_time": "2024-12-29T16:51:10.143803500Z"
    }
   },
   "id": "b015da9f4c673f76",
   "execution_count": 16
  },
  {
   "cell_type": "code",
   "outputs": [],
   "source": [
    "train = pd.read_csv(f\"{CONFIG['data_main']}{CONFIG['train_path']}\")\n",
    "train = train.fillna('-1')\n",
    "\n",
    "for col in ['donor_age', 'age_at_hct']:\n",
    "    train[col] = train[col].astype(int)\n",
    "    \n",
    "cat_columns = [col for col in train.columns if col not in ['efs', 'efs_time', 'y']]\n",
    "train[cat_columns] = train[cat_columns].astype(str)"
   ],
   "metadata": {
    "collapsed": false,
    "ExecuteTime": {
     "end_time": "2024-12-29T16:51:10.511164Z",
     "start_time": "2024-12-29T16:51:10.158801800Z"
    }
   },
   "id": "214abe3370778cbd",
   "execution_count": 17
  },
  {
   "cell_type": "code",
   "outputs": [],
   "source": [
    "test = pd.read_csv(f\"{CONFIG['data_main']}test.csv\")\n",
    "test = test.fillna('-1')\n",
    "for col in ['donor_age', 'age_at_hct']:\n",
    "    test[col] = test[col].astype(int)\n",
    "test = test.astype(str)\n",
    "test['donor_age'] = test['donor_age'].astype(float)\n",
    "test['age_at_hct'] = test['age_at_hct'].astype(float)\n"
   ],
   "metadata": {
    "collapsed": false,
    "ExecuteTime": {
     "end_time": "2024-12-29T16:51:10.525163Z",
     "start_time": "2024-12-29T16:51:10.512165200Z"
    }
   },
   "id": "ac0fb31bb289572f",
   "execution_count": 18
  },
  {
   "cell_type": "code",
   "outputs": [],
   "source": [
    "final_cat = joblib.load(CONFIG['model_path'])"
   ],
   "metadata": {
    "collapsed": false,
    "ExecuteTime": {
     "end_time": "2024-12-29T16:51:10.556162700Z",
     "start_time": "2024-12-29T16:51:10.525163Z"
    }
   },
   "id": "c24795b246f48d95",
   "execution_count": 19
  },
  {
   "cell_type": "code",
   "outputs": [],
   "source": [
    "preds_test = final_cat.predict(test.drop(columns=['ID', 'race_group']))"
   ],
   "metadata": {
    "collapsed": false,
    "ExecuteTime": {
     "end_time": "2024-12-29T16:51:10.573162500Z",
     "start_time": "2024-12-29T16:51:10.560163200Z"
    }
   },
   "id": "887fcb1c03c25912",
   "execution_count": 20
  },
  {
   "cell_type": "code",
   "outputs": [],
   "source": [
    "y_pred = test[['ID']].copy(deep=True)\n",
    "y_pred[\"prediction\"] = preds_test\n",
    "y_pred.to_csv('submission.csv', index=False)"
   ],
   "metadata": {
    "collapsed": false,
    "ExecuteTime": {
     "end_time": "2024-12-29T16:51:10.592163500Z",
     "start_time": "2024-12-29T16:51:10.573162500Z"
    }
   },
   "id": "903cca0ce259731a",
   "execution_count": 21
  }
 ],
 "metadata": {
  "kernelspec": {
   "display_name": "Python 3",
   "language": "python",
   "name": "python3"
  },
  "language_info": {
   "codemirror_mode": {
    "name": "ipython",
    "version": 2
   },
   "file_extension": ".py",
   "mimetype": "text/x-python",
   "name": "python",
   "nbconvert_exporter": "python",
   "pygments_lexer": "ipython2",
   "version": "2.7.6"
  }
 },
 "nbformat": 4,
 "nbformat_minor": 5
}
