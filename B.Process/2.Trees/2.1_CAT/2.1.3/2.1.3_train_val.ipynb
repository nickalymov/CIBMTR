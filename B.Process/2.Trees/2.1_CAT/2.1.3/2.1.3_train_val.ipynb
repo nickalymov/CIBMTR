{
 "cells": [
  {
   "cell_type": "code",
   "outputs": [],
   "source": [
    "import os\n",
    "current_directory = os.getcwd()\n",
    "folder_name = os.path.basename(current_directory)\n",
    "number = folder_name"
   ],
   "metadata": {
    "collapsed": false,
    "ExecuteTime": {
     "end_time": "2024-12-30T13:50:17.339530300Z",
     "start_time": "2024-12-30T13:50:17.319513200Z"
    }
   },
   "id": "cb2065b8802f8251",
   "execution_count": 1
  },
  {
   "cell_type": "code",
   "outputs": [],
   "source": [
    "CONFIG = {\n",
    "    'data_main': 'C:/Users/Николай/PycharmProjects/CIBMTR/D.Data/main/',\n",
    "    'train_path': 'train.csv',\n",
    "\n",
    "    'DEVICE' : 'cuda',\n",
    "    'SEED' : 42,\n",
    "}"
   ],
   "metadata": {
    "collapsed": false,
    "ExecuteTime": {
     "end_time": "2024-12-30T13:50:17.358533Z",
     "start_time": "2024-12-30T13:50:17.345530500Z"
    }
   },
   "id": "9174032d882584ac",
   "execution_count": 2
  },
  {
   "cell_type": "code",
   "outputs": [],
   "source": [
    "from catboost import CatBoostRegressor\n",
    "import optuna\n",
    "import pandas as pd\n",
    "from sklearn.model_selection import StratifiedKFold\n",
    "import numpy as np\n",
    "import joblib \n",
    "from metric import score_\n",
    "from lifelines import KaplanMeierFitter"
   ],
   "metadata": {
    "collapsed": false,
    "ExecuteTime": {
     "end_time": "2024-12-30T13:50:18.230530700Z",
     "start_time": "2024-12-30T13:50:17.357532900Z"
    }
   },
   "id": "b015da9f4c673f76",
   "execution_count": 3
  },
  {
   "cell_type": "code",
   "outputs": [],
   "source": [
    "def transform_survival_probability(df, time_col='efs_time', event_col='efs'):\n",
    "    kmf = KaplanMeierFitter()\n",
    "    kmf.fit(df[time_col], df[event_col])\n",
    "    y = kmf.survival_function_at_times(df[time_col]).values\n",
    "    return y"
   ],
   "metadata": {
    "collapsed": false,
    "ExecuteTime": {
     "end_time": "2024-12-30T13:50:18.248216900Z",
     "start_time": "2024-12-30T13:50:18.232530600Z"
    }
   },
   "id": "8e5da4978bd8e1b0",
   "execution_count": 4
  },
  {
   "cell_type": "code",
   "outputs": [],
   "source": [
    "train = pd.read_csv(f\"{CONFIG['data_main']}{CONFIG['train_path']}\")\n",
    "    \n",
    "train[\"y\"] = transform_survival_probability(train, time_col='efs_time', event_col='efs')\n",
    "\n",
    "num_columns = [col for col in train.columns if pd.api.types.is_numeric_dtype(train[col])]\n",
    "cat_columns = [col for col in train.columns if col not in num_columns]"
   ],
   "metadata": {
    "collapsed": false,
    "ExecuteTime": {
     "end_time": "2024-12-30T13:50:18.421870700Z",
     "start_time": "2024-12-30T13:50:18.251218400Z"
    }
   },
   "id": "214abe3370778cbd",
   "execution_count": 5
  },
  {
   "cell_type": "code",
   "outputs": [
    {
     "data": {
      "text/plain": "(26, 35)"
     },
     "execution_count": 6,
     "metadata": {},
     "output_type": "execute_result"
    }
   ],
   "source": [
    "len(num_columns), len(cat_columns)"
   ],
   "metadata": {
    "collapsed": false,
    "ExecuteTime": {
     "end_time": "2024-12-30T13:50:18.437870600Z",
     "start_time": "2024-12-30T13:50:18.427870900Z"
    }
   },
   "id": "5f9fc330146f12ae",
   "execution_count": 6
  },
  {
   "cell_type": "code",
   "outputs": [],
   "source": [
    "X = train.drop(columns=['y', 'efs', 'efs_time', 'ID'])\n",
    "\n",
    "for col in X.columns: \n",
    "    if col in cat_columns:\n",
    "        X[col] = X[col].astype(str)\n",
    "        X[col] = X[col].fillna('-1')\n",
    "    elif col in num_columns:\n",
    "        X[col] = X[col].fillna(X[col].mode()[0])\n",
    "\n",
    "y = train['y']"
   ],
   "metadata": {
    "collapsed": false,
    "ExecuteTime": {
     "end_time": "2024-12-30T13:50:18.563873200Z",
     "start_time": "2024-12-30T13:50:18.439870600Z"
    }
   },
   "id": "eb925cb7123ec6",
   "execution_count": 7
  },
  {
   "cell_type": "code",
   "outputs": [],
   "source": [
    "n_splits = 5\n",
    "skf = StratifiedKFold(n_splits=n_splits, shuffle=True, random_state=CONFIG['SEED'])"
   ],
   "metadata": {
    "collapsed": false,
    "ExecuteTime": {
     "end_time": "2024-12-30T13:50:18.580870800Z",
     "start_time": "2024-12-30T13:50:18.564874Z"
    }
   },
   "id": "30d7e73c149b9248",
   "execution_count": 8
  },
  {
   "cell_type": "code",
   "outputs": [],
   "source": [
    "# Фиксированные параметры\n",
    "fixed_params = {\n",
    "    'model_size_reg': 0, # default=0.5, possible=[0, inf)\n",
    "    'rsm': 1, # default=1, possible=[0, inf), alias='colsample_bylevel'\n",
    "    'loss_function': 'RMSE', # default='RMSE\", possible=..., alias='objective'\n",
    "    'feature_border_type': 'GreedyLogSum', # default='GreedyLogSum  \", possible=['Median', 'Uniform', 'UniformAndQuantiles', 'MaxLogSum', 'MinEntropy', 'GreedyLogSum']\n",
    "    'nan_mode': 'Forbidden', # default='Min', possible=['Forbidden', 'Min', 'Max']\n",
    "    'leaf_estimation_method': 'Newton', # default=..., possible=['Newton', 'Gradient', 'Exact']\n",
    "    'random_seed': CONFIG['SEED'],\n",
    "    'use_best_model': False, # default=True, possible=[True, False]\n",
    "    'logging_level': 'Silent', # default=True, possible=[True, False]\n",
    "    'max_ctr_complexity': 15, # default=True, possible=[1, 16)\n",
    "    'one_hot_max_size': 50, # default=True, possible=[2, inf)\n",
    "    'random_strength' : 0, # default=1, possible=[0, inf)\n",
    "    'eval_metric': 'RMSE',\n",
    "    'allow_writing_files': False,\n",
    "    'task_type': 'GPU',\n",
    "    'bootstrap_type': 'Bayesian',\n",
    "    'early_stopping_rounds': 250,\n",
    "    'grow_policy': 'Lossguide', # default='SymmetricTree', possible=['SymmetricTree', 'Depthwise']\n",
    "    'score_function': 'NewtonL2', # default='Cosine', possible=['Cosine ', 'L2', 'NewtonCosine', 'NewtonL2']\n",
    "    'leaf_estimation_backtracking': 'AnyImprovement',\n",
    "    'boost_from_average': True\n",
    "}\n"
   ],
   "metadata": {
    "collapsed": false,
    "ExecuteTime": {
     "end_time": "2024-12-30T13:50:18.599870800Z",
     "start_time": "2024-12-30T13:50:18.582873800Z"
    }
   },
   "id": "fcfa2d6ba97ee9c5",
   "execution_count": 9
  },
  {
   "cell_type": "code",
   "outputs": [],
   "source": [
    "def optimize_cat(trial):\n",
    "    params = {\n",
    "        'iterations': trial.suggest_int('iterations', 100, 2000), # default=1000, possible=[1, inf), alias=['num_boost_round', 'n_estimators', 'num_trees']\n",
    "        'learning_rate': trial.suggest_float('learning_rate', 0.001, 0.01), # default=0.03, alias='eta'\n",
    "        'depth': trial.suggest_int('depth', 6, 16), # default=6 (16 if Lossguide), possible=[1, 16], alias='max_depth'\n",
    "        'l2_leaf_reg': trial.suggest_float('l2_leaf_reg', 1e-5, 10), # default=3.0, alias=reg_lambda\n",
    "        'border_count': trial.suggest_int('border_count', 256, 1024), # default=128, possible=[0, 65535], alias='max_bin'\n",
    "        'leaf_estimation_iterations': trial.suggest_int('leaf_estimation_iterations', 1, 6),\n",
    "        'bagging_temperature': trial.suggest_float('bagging_temperature', 0.01, 1), # default=0.66, possible=[0, inf)\n",
    "        'max_leaves': trial.suggest_int('max_leaves', 31, 42), # default=31, possible=[?, inf), alias='num_leaves'\n",
    "    }\n",
    "    # Объединение оптимизированных и фиксированных параметров\n",
    "    final_params = {**fixed_params, **params}\n",
    "    \n",
    "    scores = []\n",
    "    \n",
    "    for train_idx, valid_idx in skf.split(X, train['race_group']):\n",
    "        X_train, X_valid = X.iloc[train_idx], X.iloc[valid_idx]\n",
    "        y_train, y_valid = y.iloc[train_idx], y.iloc[valid_idx]\n",
    "        \n",
    "        model = CatBoostRegressor(cat_features=cat_columns, **final_params)\n",
    "        model.fit(X_train, y_train, eval_set=[(X_valid, y_valid)], verbose=False)\n",
    "        \n",
    "        preds = model.predict(X_valid)\n",
    "        fold_score = score_(pd.DataFrame({'efs': train.iloc[valid_idx]['efs'].to_list(), \n",
    "                                          'efs_time' : train.iloc[valid_idx]['efs_time'].to_list(),\n",
    "                                          'race_group': train.iloc[valid_idx]['race_group'].to_list()}),\n",
    "                            pd.DataFrame(preds, columns=['prediction']))\n",
    "        scores.append(fold_score)\n",
    "    \n",
    "    return np.mean(scores)"
   ],
   "metadata": {
    "collapsed": false,
    "ExecuteTime": {
     "end_time": "2024-12-30T13:50:18.611870800Z",
     "start_time": "2024-12-30T13:50:18.598870900Z"
    }
   },
   "id": "cc9968ace3101cb7",
   "execution_count": 10
  },
  {
   "cell_type": "code",
   "outputs": [
    {
     "name": "stderr",
     "output_type": "stream",
     "text": [
      "[I 2024-12-30 16:50:18,612] A new study created in memory with name: no-name-41618e94-6045-4261-a068-5fc6b7d69336\n",
      "[I 2024-12-30 16:51:37,606] Trial 0 finished with value: 0.6669471372775718 and parameters: {'iterations': 812, 'learning_rate': 0.009556428757689247, 'depth': 14, 'l2_leaf_reg': 5.9865888553855235, 'border_count': 375, 'leaf_estimation_iterations': 1, 'bagging_temperature': 0.06750277604651747, 'max_leaves': 41}. Best is trial 0 with value: 0.6669471372775718.\n",
      "[I 2024-12-30 16:53:07,215] Trial 1 finished with value: 0.6660540539677214 and parameters: {'iterations': 1242, 'learning_rate': 0.00737265320016441, 'depth': 6, 'l2_leaf_reg': 9.699098822521421, 'border_count': 896, 'leaf_estimation_iterations': 2, 'bagging_temperature': 0.19000671753502962, 'max_leaves': 33}. Best is trial 0 with value: 0.6669471372775718.\n",
      "[I 2024-12-30 16:54:06,704] Trial 2 finished with value: 0.6623923146879054 and parameters: {'iterations': 678, 'learning_rate': 0.005722807884690141, 'depth': 10, 'l2_leaf_reg': 2.912298489689017, 'border_count': 726, 'leaf_estimation_iterations': 1, 'bagging_temperature': 0.29922320204986597, 'max_leaves': 35}. Best is trial 0 with value: 0.6669471372775718.\n",
      "[I 2024-12-30 16:55:12,020] Trial 3 finished with value: 0.6673295586872083 and parameters: {'iterations': 966, 'learning_rate': 0.008066583652537124, 'depth': 8, 'l2_leaf_reg': 5.142349241791732, 'border_count': 711, 'leaf_estimation_iterations': 1, 'bagging_temperature': 0.611469403382424, 'max_leaves': 33}. Best is trial 3 with value: 0.6673295586872083.\n",
      "[I 2024-12-30 16:55:30,313] Trial 4 finished with value: 0.6553596326156493 and parameters: {'iterations': 223, 'learning_rate': 0.00953996983528, 'depth': 16, 'l2_leaf_reg': 8.08397539719113, 'border_count': 490, 'leaf_estimation_iterations': 1, 'bagging_temperature': 0.6873906962470353, 'max_leaves': 36}. Best is trial 3 with value: 0.6673295586872083.\n",
      "[I 2024-12-30 16:55:53,306] Trial 5 finished with value: 0.6497316456620157 and parameters: {'iterations': 331, 'learning_rate': 0.005456592191001432, 'depth': 6, 'l2_leaf_reg': 9.0932049275838, 'border_count': 455, 'leaf_estimation_iterations': 4, 'bagging_temperature': 0.31859396532851686, 'max_leaves': 37}. Best is trial 3 with value: 0.6673295586872083.\n",
      "[I 2024-12-30 16:57:36,298] Trial 6 finished with value: 0.6609926462967078 and parameters: {'iterations': 1139, 'learning_rate': 0.0026636900997297434, 'depth': 16, 'l2_leaf_reg': 7.751330482282912, 'border_count': 978, 'leaf_estimation_iterations': 6, 'bagging_temperature': 0.6019209790229743, 'max_leaves': 42}. Best is trial 3 with value: 0.6673295586872083.\n",
      "[I 2024-12-30 16:58:02,284] Trial 7 finished with value: 0.6407844623683091 and parameters: {'iterations': 268, 'learning_rate': 0.0027638457617723067, 'depth': 6, 'l2_leaf_reg': 3.253310054329336, 'border_count': 554, 'leaf_estimation_iterations': 2, 'bagging_temperature': 0.83045013406041, 'max_leaves': 35}. Best is trial 3 with value: 0.6673295586872083.\n",
      "[I 2024-12-30 16:58:53,750] Trial 8 finished with value: 0.6612849167619197 and parameters: {'iterations': 634, 'learning_rate': 0.005884264748424237, 'depth': 7, 'l2_leaf_reg': 8.021971785570589, 'border_count': 313, 'leaf_estimation_iterations': 6, 'bagging_temperature': 0.7745223216036908, 'max_leaves': 33}. Best is trial 3 with value: 0.6673295586872083.\n",
      "[I 2024-12-30 16:59:05,706] Trial 9 finished with value: 0.6464797084261524 and parameters: {'iterations': 110, 'learning_rate': 0.008339152856093508, 'depth': 13, 'l2_leaf_reg': 7.290074390338193, 'border_count': 849, 'leaf_estimation_iterations': 1, 'bagging_temperature': 0.3648810712588299, 'max_leaves': 32}. Best is trial 3 with value: 0.6673295586872083.\n",
      "[I 2024-12-30 17:01:56,949] Trial 10 finished with value: 0.6547289612261857 and parameters: {'iterations': 1852, 'learning_rate': 0.001053974646602356, 'depth': 9, 'l2_leaf_reg': 0.1796285765294412, 'border_count': 690, 'leaf_estimation_iterations': 4, 'bagging_temperature': 0.960173038485966, 'max_leaves': 39}. Best is trial 3 with value: 0.6673295586872083.\n",
      "[I 2024-12-30 17:04:30,496] Trial 11 finished with value: 0.6670311629923094 and parameters: {'iterations': 1515, 'learning_rate': 0.009953940509780658, 'depth': 13, 'l2_leaf_reg': 5.5852517225455935, 'border_count': 274, 'leaf_estimation_iterations': 3, 'bagging_temperature': 0.07714206508499466, 'max_leaves': 42}. Best is trial 3 with value: 0.6673295586872083.\n",
      "[I 2024-12-30 17:06:15,766] Trial 12 finished with value: 0.6684631032333491 and parameters: {'iterations': 1532, 'learning_rate': 0.007908633979307123, 'depth': 12, 'l2_leaf_reg': 4.633879338857263, 'border_count': 647, 'leaf_estimation_iterations': 3, 'bagging_temperature': 0.47401816669896396, 'max_leaves': 31}. Best is trial 12 with value: 0.6684631032333491.\n",
      "[I 2024-12-30 17:08:05,064] Trial 13 finished with value: 0.6684649059672594 and parameters: {'iterations': 1516, 'learning_rate': 0.007779019546238251, 'depth': 9, 'l2_leaf_reg': 3.500077116305362, 'border_count': 618, 'leaf_estimation_iterations': 3, 'bagging_temperature': 0.5343407161908297, 'max_leaves': 31}. Best is trial 13 with value: 0.6684649059672594.\n",
      "[I 2024-12-30 17:10:12,141] Trial 14 finished with value: 0.668490159085489 and parameters: {'iterations': 1648, 'learning_rate': 0.006970657857507848, 'depth': 11, 'l2_leaf_reg': 3.1003791706837442, 'border_count': 600, 'leaf_estimation_iterations': 3, 'bagging_temperature': 0.4674936108171168, 'max_leaves': 31}. Best is trial 14 with value: 0.668490159085489.\n",
      "[I 2024-12-30 17:12:46,098] Trial 15 finished with value: 0.6684247898423881 and parameters: {'iterations': 1999, 'learning_rate': 0.006861051379380697, 'depth': 11, 'l2_leaf_reg': 1.479209871654486, 'border_count': 539, 'leaf_estimation_iterations': 5, 'bagging_temperature': 0.4853093730774731, 'max_leaves': 31}. Best is trial 14 with value: 0.668490159085489.\n",
      "[I 2024-12-30 17:14:42,938] Trial 16 finished with value: 0.6674383548893912 and parameters: {'iterations': 1530, 'learning_rate': 0.00468934957799874, 'depth': 10, 'l2_leaf_reg': 3.3358662272517687, 'border_count': 779, 'leaf_estimation_iterations': 3, 'bagging_temperature': 0.4056326186461464, 'max_leaves': 34}. Best is trial 14 with value: 0.668490159085489.\n",
      "[I 2024-12-30 17:17:12,295] Trial 17 finished with value: 0.6685910844325221 and parameters: {'iterations': 1716, 'learning_rate': 0.006633981323438214, 'depth': 9, 'l2_leaf_reg': 1.8303381981743767, 'border_count': 585, 'leaf_estimation_iterations': 4, 'bagging_temperature': 0.579074905378826, 'max_leaves': 38}. Best is trial 17 with value: 0.6685910844325221.\n",
      "[I 2024-12-30 17:19:54,178] Trial 18 finished with value: 0.6670824815464304 and parameters: {'iterations': 1759, 'learning_rate': 0.003798429707092048, 'depth': 11, 'l2_leaf_reg': 1.7112909792907027, 'border_count': 589, 'leaf_estimation_iterations': 5, 'bagging_temperature': 0.7230777482236079, 'max_leaves': 38}. Best is trial 17 with value: 0.6685910844325221.\n",
      "[I 2024-12-30 17:21:41,061] Trial 19 finished with value: 0.6666112245857524 and parameters: {'iterations': 1245, 'learning_rate': 0.006650487998183017, 'depth': 8, 'l2_leaf_reg': 0.007854083521501298, 'border_count': 444, 'leaf_estimation_iterations': 5, 'bagging_temperature': 0.22149938548288922, 'max_leaves': 40}. Best is trial 17 with value: 0.6685910844325221.\n"
     ]
    }
   ],
   "source": [
    "study_cat = optuna.create_study(direction='maximize', sampler=optuna.samplers.TPESampler(seed=CONFIG['SEED']))\n",
    "study_cat.optimize(optimize_cat, n_trials=20)"
   ],
   "metadata": {
    "collapsed": false,
    "ExecuteTime": {
     "end_time": "2024-12-30T14:21:41.069138900Z",
     "start_time": "2024-12-30T13:50:18.612871200Z"
    }
   },
   "id": "6671f52e7d3c2b3a",
   "execution_count": 11
  },
  {
   "cell_type": "code",
   "outputs": [],
   "source": [
    "best_params_cat = study_cat.best_params\n",
    "final_params = {**fixed_params, **best_params_cat}  "
   ],
   "metadata": {
    "collapsed": false,
    "ExecuteTime": {
     "end_time": "2024-12-30T14:21:41.084663200Z",
     "start_time": "2024-12-30T14:21:41.071626300Z"
    }
   },
   "id": "95e24aa905f98c66",
   "execution_count": 12
  },
  {
   "cell_type": "code",
   "outputs": [
    {
     "data": {
      "text/plain": "<catboost.core.CatBoostRegressor at 0x2c27a65aaa0>"
     },
     "execution_count": 14,
     "metadata": {},
     "output_type": "execute_result"
    }
   ],
   "source": [
    "final_cat = CatBoostRegressor(cat_features=cat_columns, **final_params)\n",
    "final_cat.fit(X, y)"
   ],
   "metadata": {
    "collapsed": false,
    "ExecuteTime": {
     "end_time": "2024-12-30T15:04:18.306873100Z",
     "start_time": "2024-12-30T15:03:58.366224600Z"
    }
   },
   "id": "97782c5be4517c4e",
   "execution_count": 14
  },
  {
   "cell_type": "code",
   "outputs": [],
   "source": [
    "final_cat.model_number = number"
   ],
   "metadata": {
    "collapsed": false,
    "ExecuteTime": {
     "end_time": "2024-12-30T15:17:43.633064700Z",
     "start_time": "2024-12-30T15:17:43.627066300Z"
    }
   },
   "id": "5077a3d58ed84201",
   "execution_count": 18
  },
  {
   "cell_type": "code",
   "outputs": [
    {
     "data": {
      "text/plain": "['2.1.3_model.pkl']"
     },
     "execution_count": 19,
     "metadata": {},
     "output_type": "execute_result"
    }
   ],
   "source": [
    "joblib.dump(final_cat, f\"{number}_model.pkl\")"
   ],
   "metadata": {
    "collapsed": false,
    "ExecuteTime": {
     "end_time": "2024-12-30T15:17:44.234763300Z",
     "start_time": "2024-12-30T15:17:44.209086800Z"
    }
   },
   "id": "2b2e3bf4e98d533d",
   "execution_count": 19
  },
  {
   "cell_type": "code",
   "outputs": [],
   "source": [
    "cat_importance = final_cat.get_feature_importance()"
   ],
   "metadata": {
    "collapsed": false,
    "ExecuteTime": {
     "end_time": "2024-12-30T15:17:45.079435700Z",
     "start_time": "2024-12-30T15:17:45.015433900Z"
    }
   },
   "id": "3e50b9cbcbd85c7f",
   "execution_count": 20
  },
  {
   "cell_type": "code",
   "outputs": [
    {
     "name": "stdout",
     "output_type": "stream",
     "text": [
      "CatBoost Feature Importances:\n",
      "                    Feature  Importance\n",
      "0                dri_score   16.266361\n",
      "26  conditioning_intensity    9.465065\n",
      "46       comorbidity_score    7.748003\n",
      "28                year_hct    6.122158\n",
      "35               donor_age    5.660809\n",
      "39              age_at_hct    5.308602\n",
      "47         karnofsky_score    4.618743\n",
      "25       cyto_score_detail    3.955351\n",
      "13        prim_disease_hct    2.870606\n",
      "43               sex_match    2.802573\n",
      "2               cyto_score    2.768911\n",
      "41              gvhd_proph    2.485988\n",
      "30                 mrd_hct    2.221881\n",
      "15              cmv_status    1.830805\n",
      "12             pulm_severe    1.825116\n",
      "45              race_group    1.734433\n",
      "50           donor_related    1.411791\n",
      "7               arrhythmia    1.321911\n",
      "53                 cardiac    1.286721\n",
      "36             prior_tumor    1.213142\n",
      "6               tbi_status    1.150853\n",
      "3                 diabetes    0.988308\n",
      "18           tce_imm_match    0.984804\n",
      "19              hla_nmdp_6    0.979941\n",
      "31             in_vivo_tcd    0.955097\n",
      "49           tce_div_match    0.810472\n",
      "32               tce_match    0.680440\n",
      "1            psych_disturb    0.575095\n",
      "9               graft_type    0.566969\n",
      "34          hepatic_severe    0.541999\n",
      "33        hla_match_a_high    0.528951\n",
      "40         hla_match_a_low    0.491579\n",
      "55           pulm_moderate    0.490718\n",
      "27               ethnicity    0.477181\n",
      "29                 obesity    0.476131\n",
      "51          melphalan_dose    0.464949\n",
      "48            hepatic_mild    0.464453\n",
      "56          hla_low_res_10    0.448078\n",
      "16         hla_high_res_10    0.388440\n",
      "10               vent_hist    0.383881\n",
      "24               prod_type    0.383106\n",
      "21               rituximab    0.363424\n",
      "42             rheum_issue    0.361245\n",
      "52           hla_low_res_8    0.328907\n",
      "38            peptic_ulcer    0.311848\n",
      "5           hla_high_res_8    0.256779\n",
      "37         hla_match_b_low    0.254393\n",
      "14          hla_high_res_6    0.252366\n",
      "4         hla_match_c_high    0.247890\n",
      "11             renal_issue    0.236815\n",
      "17     hla_match_dqb1_high    0.235180\n",
      "8            hla_low_res_6    0.217372\n",
      "54     hla_match_drb1_high    0.205266\n",
      "23      hla_match_dqb1_low    0.193123\n",
      "20         hla_match_c_low    0.170905\n",
      "44        hla_match_b_high    0.128320\n",
      "22      hla_match_drb1_low    0.085754\n"
     ]
    }
   ],
   "source": [
    "cat_importance_df = pd.DataFrame({\n",
    "    'Feature': X.columns,\n",
    "    'Importance': cat_importance\n",
    "}).sort_values(by='Importance', ascending=False)\n",
    "\n",
    "print(\"CatBoost Feature Importances:\\n\", cat_importance_df)"
   ],
   "metadata": {
    "collapsed": false,
    "ExecuteTime": {
     "end_time": "2024-12-30T15:17:45.170431800Z",
     "start_time": "2024-12-30T15:17:45.149433200Z"
    }
   },
   "id": "7b65d88176d2873f",
   "execution_count": 21
  },
  {
   "cell_type": "code",
   "outputs": [],
   "source": [
    "# auto_params = ['per_float_feature_quantization', 'input_borders', 'output_borders', 'fold_permutation_block', 'counter_calc_method', 'thread_count', 'best_model_min_trees', 'verbose', 'silent', 'metric_period', 'ctr_leaf_count_limit', 'store_all_simple_ctr', 'has_time', 'allow_const_label', 'target_border', 'random_score_type', 'name', 'ignored_features', 'train_dir', 'custom_metric', 'save_snapshot', 'snapshot_file', 'snapshot_interval', 'fold_len_multiplier', 'used_ram_limit', 'gpu_ram_part', 'pinned_memory_size', 'final_ctr_computation_mode', 'simple_ctr', 'combinations_ctr', 'per_feature_ctr', 'ctr_description', 'ctr_target_border_count', 'device_config', 'devices', 'subsample', 'mvs_reg', 'sampling_frequency', 'sampling_unit', 'subsampling_factor', 'dev_score_calc_obj_block_size', 'dev_efb_max_buckets', 'sparse_features_conflict_fraction', 'max_depth', 'n_estimators', 'num_boost_round', 'num_trees', 'colsample_bylevel', 'random_state', 'reg_lambda', 'reg_lambda', 'eta', 'max_bin', 'gpu_cat_features_storage', 'data_partition', 'metadata', 'min_data_in_leaf', 'min_child_samples', 'num_leaves', 'score_function', 'ctr_history_unit', 'monotone_constraints', 'feature_weights', 'penalties_coefficient', 'first_feature_use_penalties', 'per_object_feature_penalties', 'model_shrink_rate', 'model_shrink_mode', 'langevin', 'diffusion_temperature', 'posterior_sampling', 'text_features', 'tokenizers', 'dictionaries', 'feature_calcers', 'text_processing', 'embedding_features', 'eval_fraction', 'fixed_binary_splits', 'od_type', 'od_pval', 'od_wait', 'approx_on_full_history', 'boosting_type']"
   ],
   "metadata": {
    "collapsed": false,
    "ExecuteTime": {
     "end_time": "2024-12-30T15:17:45.762877Z",
     "start_time": "2024-12-30T15:17:45.742877Z"
    }
   },
   "id": "e3e9fd32b0938562",
   "execution_count": 22
  },
  {
   "cell_type": "code",
   "outputs": [],
   "source": [],
   "metadata": {
    "collapsed": false
   },
   "id": "5b10f800f371e6d1"
  }
 ],
 "metadata": {
  "kernelspec": {
   "display_name": "Python 3",
   "language": "python",
   "name": "python3"
  },
  "language_info": {
   "codemirror_mode": {
    "name": "ipython",
    "version": 2
   },
   "file_extension": ".py",
   "mimetype": "text/x-python",
   "name": "python",
   "nbconvert_exporter": "python",
   "pygments_lexer": "ipython2",
   "version": "2.7.6"
  }
 },
 "nbformat": 4,
 "nbformat_minor": 5
}
