{
 "cells": [
  {
   "cell_type": "code",
   "outputs": [],
   "source": [
    "import os\n",
    "current_directory = os.getcwd()\n",
    "folder_name = os.path.basename(current_directory)\n",
    "number = folder_name"
   ],
   "metadata": {
    "collapsed": false,
    "ExecuteTime": {
     "end_time": "2024-12-30T17:40:12.280958200Z",
     "start_time": "2024-12-30T17:40:12.244948Z"
    }
   },
   "id": "cb2065b8802f8251",
   "execution_count": 1
  },
  {
   "cell_type": "code",
   "outputs": [],
   "source": [
    "CONFIG = {\n",
    "    'data_main': 'C:/Users/Николай/PycharmProjects/CIBMTR/D.Data/main/',\n",
    "    'train_path': 'train.csv',\n",
    "\n",
    "    'DEVICE' : 'cuda',\n",
    "    'SEED' : 42,\n",
    "}"
   ],
   "metadata": {
    "collapsed": false,
    "ExecuteTime": {
     "end_time": "2024-12-30T17:40:12.285957600Z",
     "start_time": "2024-12-30T17:40:12.264955200Z"
    }
   },
   "id": "9174032d882584ac",
   "execution_count": 2
  },
  {
   "cell_type": "code",
   "outputs": [],
   "source": [
    "from catboost import CatBoostRegressor\n",
    "import optuna\n",
    "import pandas as pd\n",
    "from sklearn.model_selection import StratifiedKFold\n",
    "import numpy as np\n",
    "import joblib \n",
    "from metric import score_\n",
    "from lifelines import KaplanMeierFitter"
   ],
   "metadata": {
    "collapsed": false,
    "ExecuteTime": {
     "end_time": "2024-12-30T17:40:13.345995400Z",
     "start_time": "2024-12-30T17:40:12.280958200Z"
    }
   },
   "id": "b015da9f4c673f76",
   "execution_count": 3
  },
  {
   "cell_type": "code",
   "outputs": [],
   "source": [
    "def transform_survival_probability(df, time_col='efs_time', event_col='efs'):\n",
    "    kmf = KaplanMeierFitter()\n",
    "    kmf.fit(df[time_col], df[event_col])\n",
    "    y = kmf.survival_function_at_times(df[time_col]).values\n",
    "    return y"
   ],
   "metadata": {
    "collapsed": false,
    "ExecuteTime": {
     "end_time": "2024-12-30T17:40:13.359995Z",
     "start_time": "2024-12-30T17:40:13.343995200Z"
    }
   },
   "id": "8e5da4978bd8e1b0",
   "execution_count": 4
  },
  {
   "cell_type": "code",
   "outputs": [],
   "source": [
    "train = pd.read_csv(f\"{CONFIG['data_main']}{CONFIG['train_path']}\")\n",
    "    \n",
    "train[\"y\"] = transform_survival_probability(train, time_col='efs_time', event_col='efs')\n",
    "\n",
    "num_columns = [col for col in train.columns if pd.api.types.is_numeric_dtype(train[col])]\n",
    "cat_columns = [col for col in train.columns if col not in num_columns]"
   ],
   "metadata": {
    "collapsed": false,
    "ExecuteTime": {
     "end_time": "2024-12-30T17:40:13.580993800Z",
     "start_time": "2024-12-30T17:40:13.360994500Z"
    }
   },
   "id": "214abe3370778cbd",
   "execution_count": 5
  },
  {
   "cell_type": "code",
   "outputs": [
    {
     "data": {
      "text/plain": "(26, 35)"
     },
     "execution_count": 6,
     "metadata": {},
     "output_type": "execute_result"
    }
   ],
   "source": [
    "len(num_columns), len(cat_columns)"
   ],
   "metadata": {
    "collapsed": false,
    "ExecuteTime": {
     "end_time": "2024-12-30T17:40:13.599995800Z",
     "start_time": "2024-12-30T17:40:13.582993900Z"
    }
   },
   "id": "5f9fc330146f12ae",
   "execution_count": 6
  },
  {
   "cell_type": "code",
   "outputs": [],
   "source": [
    "X = train.drop(columns=['y', 'efs', 'efs_time', 'ID'])\n",
    "\n",
    "for col in X.columns: \n",
    "    if col in cat_columns:\n",
    "        X[col] = X[col].astype(str)\n",
    "        X[col] = X[col].fillna('-1')\n",
    "    elif col in num_columns:\n",
    "        X[col] = X[col].fillna(X[col].mode()[0])\n",
    "\n",
    "y = train['y']"
   ],
   "metadata": {
    "collapsed": false,
    "ExecuteTime": {
     "end_time": "2024-12-30T17:40:13.741993600Z",
     "start_time": "2024-12-30T17:40:13.599995800Z"
    }
   },
   "id": "eb925cb7123ec6",
   "execution_count": 7
  },
  {
   "cell_type": "code",
   "outputs": [],
   "source": [
    "n_splits = 5\n",
    "skf = StratifiedKFold(n_splits=n_splits, shuffle=True, random_state=CONFIG['SEED'])"
   ],
   "metadata": {
    "collapsed": false,
    "ExecuteTime": {
     "end_time": "2024-12-30T17:40:13.754993500Z",
     "start_time": "2024-12-30T17:40:13.740993600Z"
    }
   },
   "id": "30d7e73c149b9248",
   "execution_count": 8
  },
  {
   "cell_type": "code",
   "outputs": [],
   "source": [
    "# Фиксированные параметры\n",
    "fixed_params = {\n",
    "    'model_size_reg': 0, # default=0.5, possible=[0, inf)\n",
    "    'rsm': 1, # default=1, possible=[0, inf), alias='colsample_bylevel'\n",
    "    'loss_function': 'RMSE', # default='RMSE\", possible=..., alias='objective'\n",
    "    'feature_border_type': 'GreedyLogSum', # default='GreedyLogSum  \", possible=['Median', 'Uniform', 'UniformAndQuantiles', 'MaxLogSum', 'MinEntropy', 'GreedyLogSum']\n",
    "    'nan_mode': 'Forbidden', # default='Min', possible=['Forbidden', 'Min', 'Max']\n",
    "    'leaf_estimation_method': 'Newton', # default=..., possible=['Newton', 'Gradient', 'Exact']\n",
    "    'random_seed': CONFIG['SEED'],\n",
    "    'use_best_model': False, # default=True, possible=[True, False]\n",
    "    'logging_level': 'Silent', # default=True, possible=[True, False]\n",
    "    'max_ctr_complexity': 15, # default=True, possible=[1, 16)\n",
    "    'one_hot_max_size': 50, # default=True, possible=[2, inf)\n",
    "    'random_strength' : 0, # default=1, possible=[0, inf)\n",
    "    'eval_metric': 'RMSE',\n",
    "    'allow_writing_files': False,\n",
    "    'task_type': 'GPU',\n",
    "    'bootstrap_type': 'Bayesian',\n",
    "    'early_stopping_rounds': 250,\n",
    "    'grow_policy': 'Lossguide', # default='SymmetricTree', possible=['SymmetricTree', 'Depthwise']\n",
    "    'score_function': 'NewtonL2', # default='Cosine', possible=['Cosine ', 'L2', 'NewtonCosine', 'NewtonL2']\n",
    "    'leaf_estimation_backtracking': 'AnyImprovement',\n",
    "    'boost_from_average': True\n",
    "}\n"
   ],
   "metadata": {
    "collapsed": false,
    "ExecuteTime": {
     "end_time": "2024-12-30T17:40:13.787993600Z",
     "start_time": "2024-12-30T17:40:13.760993400Z"
    }
   },
   "id": "fcfa2d6ba97ee9c5",
   "execution_count": 9
  },
  {
   "cell_type": "code",
   "outputs": [],
   "source": [
    "def optimize_cat(trial):\n",
    "    params = {\n",
    "        'iterations': trial.suggest_int('iterations', 100, 20000), # default=1000, possible=[1, inf), alias=['num_boost_round', 'n_estimators', 'num_trees']\n",
    "        'learning_rate': trial.suggest_float('learning_rate', 0.001, 0.01), # default=0.03, alias='eta'\n",
    "        'depth': trial.suggest_int('depth', 6, 16), # default=6 (16 if Lossguide), possible=[1, 16], alias='max_depth'\n",
    "        'l2_leaf_reg': trial.suggest_float('l2_leaf_reg', 1e-5, 10), # default=3.0, alias=reg_lambda\n",
    "        'border_count': trial.suggest_int('border_count', 256, 1024), # default=128, possible=[0, 65535], alias='max_bin'\n",
    "        'leaf_estimation_iterations': trial.suggest_int('leaf_estimation_iterations', 1, 6),\n",
    "        'bagging_temperature': trial.suggest_float('bagging_temperature', 0.01, 1), # default=0.66, possible=[0, inf)\n",
    "        'max_leaves': trial.suggest_int('max_leaves', 31, 42), # default=31, possible=[?, inf), alias='num_leaves'\n",
    "    }\n",
    "    # Объединение оптимизированных и фиксированных параметров\n",
    "    final_params = {**fixed_params, **params}\n",
    "    \n",
    "    scores = []\n",
    "    \n",
    "    for train_idx, valid_idx in skf.split(X, train['race_group']):\n",
    "        X_train, X_valid = X.iloc[train_idx], X.iloc[valid_idx]\n",
    "        y_train, y_valid = y.iloc[train_idx], y.iloc[valid_idx]\n",
    "        \n",
    "        model = CatBoostRegressor(cat_features=cat_columns, **final_params)\n",
    "        model.fit(X_train, y_train, eval_set=[(X_valid, y_valid)], verbose=False)\n",
    "        \n",
    "        preds = model.predict(X_valid)\n",
    "        fold_score = score_(pd.DataFrame({'efs': train.iloc[valid_idx]['efs'].to_list(), \n",
    "                                          'efs_time' : train.iloc[valid_idx]['efs_time'].to_list(),\n",
    "                                          'race_group': train.iloc[valid_idx]['race_group'].to_list()}),\n",
    "                            pd.DataFrame(preds, columns=['prediction']))\n",
    "        scores.append(fold_score)\n",
    "    \n",
    "    return np.mean(scores)"
   ],
   "metadata": {
    "collapsed": false,
    "ExecuteTime": {
     "end_time": "2024-12-30T17:40:13.789993500Z",
     "start_time": "2024-12-30T17:40:13.774994Z"
    }
   },
   "id": "cc9968ace3101cb7",
   "execution_count": 10
  },
  {
   "cell_type": "code",
   "outputs": [
    {
     "name": "stderr",
     "output_type": "stream",
     "text": [
      "[I 2024-12-30 20:40:13,787] A new study created in memory with name: no-name-ea7dd377-c010-4841-95a4-91cb19f488fe\n",
      "[I 2024-12-30 20:43:00,604] Trial 0 finished with value: 0.6665210084049815 and parameters: {'iterations': 7553, 'learning_rate': 0.009556428757689247, 'depth': 14, 'l2_leaf_reg': 5.9865888553855235, 'border_count': 375, 'leaf_estimation_iterations': 1, 'bagging_temperature': 0.06750277604651747, 'max_leaves': 41}. Best is trial 0 with value: 0.6665210084049815.\n",
      "[I 2024-12-30 20:45:55,900] Trial 1 finished with value: 0.667062216322156 and parameters: {'iterations': 12062, 'learning_rate': 0.00737265320016441, 'depth': 6, 'l2_leaf_reg': 9.699098822521421, 'border_count': 896, 'leaf_estimation_iterations': 2, 'bagging_temperature': 0.19000671753502962, 'max_leaves': 33}. Best is trial 1 with value: 0.667062216322156.\n",
      "[I 2024-12-30 20:50:06,008] Trial 2 finished with value: 0.6683507480157825 and parameters: {'iterations': 6154, 'learning_rate': 0.005722807884690141, 'depth': 10, 'l2_leaf_reg': 2.912298489689017, 'border_count': 726, 'leaf_estimation_iterations': 1, 'bagging_temperature': 0.29922320204986597, 'max_leaves': 35}. Best is trial 2 with value: 0.6683507480157825.\n",
      "[I 2024-12-30 20:53:38,568] Trial 3 finished with value: 0.6691322593398421 and parameters: {'iterations': 9176, 'learning_rate': 0.008066583652537124, 'depth': 8, 'l2_leaf_reg': 5.142349241791732, 'border_count': 711, 'leaf_estimation_iterations': 1, 'bagging_temperature': 0.611469403382424, 'max_leaves': 33}. Best is trial 3 with value: 0.6691322593398421.\n",
      "[I 2024-12-30 20:55:17,676] Trial 4 finished with value: 0.6688555510274312 and parameters: {'iterations': 1394, 'learning_rate': 0.00953996983528, 'depth': 16, 'l2_leaf_reg': 8.08397539719113, 'border_count': 490, 'leaf_estimation_iterations': 1, 'bagging_temperature': 0.6873906962470353, 'max_leaves': 36}. Best is trial 3 with value: 0.6691322593398421.\n",
      "[I 2024-12-30 20:57:54,901] Trial 5 finished with value: 0.6675744699089308 and parameters: {'iterations': 2528, 'learning_rate': 0.005456592191001432, 'depth': 6, 'l2_leaf_reg': 9.0932049275838, 'border_count': 455, 'leaf_estimation_iterations': 4, 'bagging_temperature': 0.31859396532851686, 'max_leaves': 37}. Best is trial 3 with value: 0.6691322593398421.\n",
      "[I 2024-12-30 21:10:18,147] Trial 6 finished with value: 0.6689436482716441 and parameters: {'iterations': 10980, 'learning_rate': 0.0026636900997297434, 'depth': 16, 'l2_leaf_reg': 7.751330482282912, 'border_count': 978, 'leaf_estimation_iterations': 6, 'bagging_temperature': 0.6019209790229743, 'max_leaves': 42}. Best is trial 3 with value: 0.6691322593398421.\n",
      "[I 2024-12-30 21:12:15,588] Trial 7 finished with value: 0.6634211673199047 and parameters: {'iterations': 1861, 'learning_rate': 0.0027638457617723067, 'depth': 6, 'l2_leaf_reg': 3.253310054329336, 'border_count': 554, 'leaf_estimation_iterations': 2, 'bagging_temperature': 0.83045013406041, 'max_leaves': 35}. Best is trial 3 with value: 0.6691322593398421.\n",
      "[I 2024-12-30 21:17:31,863] Trial 8 finished with value: 0.669099404707491 and parameters: {'iterations': 5690, 'learning_rate': 0.005884264748424237, 'depth': 7, 'l2_leaf_reg': 8.021971785570589, 'border_count': 313, 'leaf_estimation_iterations': 6, 'bagging_temperature': 0.7745223216036908, 'max_leaves': 33}. Best is trial 3 with value: 0.6691322593398421.\n",
      "[I 2024-12-30 21:17:50,679] Trial 9 finished with value: 0.6526775366250532 and parameters: {'iterations': 209, 'learning_rate': 0.008339152856093508, 'depth': 13, 'l2_leaf_reg': 7.290074390338193, 'border_count': 849, 'leaf_estimation_iterations': 1, 'bagging_temperature': 0.3648810712588299, 'max_leaves': 32}. Best is trial 3 with value: 0.6691322593398421.\n",
      "[I 2024-12-30 21:40:40,075] Trial 10 finished with value: 0.6700003198663289 and parameters: {'iterations': 18451, 'learning_rate': 0.001053974646602356, 'depth': 9, 'l2_leaf_reg': 0.1796285765294412, 'border_count': 690, 'leaf_estimation_iterations': 4, 'bagging_temperature': 0.960173038485966, 'max_leaves': 39}. Best is trial 10 with value: 0.6700003198663289.\n",
      "[I 2024-12-30 22:03:07,741] Trial 11 finished with value: 0.6700086477157731 and parameters: {'iterations': 18000, 'learning_rate': 0.0010610829917726127, 'depth': 9, 'l2_leaf_reg': 0.17187133082808526, 'border_count': 694, 'leaf_estimation_iterations': 4, 'bagging_temperature': 0.9868084691308514, 'max_leaves': 39}. Best is trial 11 with value: 0.6700086477157731.\n",
      "[I 2024-12-30 22:28:55,478] Trial 12 finished with value: 0.6701400380808249 and parameters: {'iterations': 19112, 'learning_rate': 0.0010704430136662826, 'depth': 10, 'l2_leaf_reg': 0.03641741667365686, 'border_count': 621, 'leaf_estimation_iterations': 4, 'bagging_temperature': 0.9971410802093444, 'max_leaves': 39}. Best is trial 12 with value: 0.6701400380808249.\n",
      "[I 2024-12-30 22:55:18,047] Trial 13 finished with value: 0.6700630603844706 and parameters: {'iterations': 19809, 'learning_rate': 0.0013022729644102523, 'depth': 11, 'l2_leaf_reg': 0.09716967545917533, 'border_count': 598, 'leaf_estimation_iterations': 5, 'bagging_temperature': 0.9993688142551358, 'max_leaves': 39}. Best is trial 12 with value: 0.6701400380808249.\n",
      "[I 2024-12-30 23:08:48,019] Trial 14 finished with value: 0.6697776551215304 and parameters: {'iterations': 15233, 'learning_rate': 0.0027750976597044675, 'depth': 12, 'l2_leaf_reg': 1.7371745371012923, 'border_count': 583, 'leaf_estimation_iterations': 5, 'bagging_temperature': 0.8661288947992285, 'max_leaves': 39}. Best is trial 12 with value: 0.6701400380808249.\n",
      "[I 2024-12-30 23:19:26,835] Trial 15 finished with value: 0.6699187409019006 and parameters: {'iterations': 19990, 'learning_rate': 0.0036321912930663888, 'depth': 11, 'l2_leaf_reg': 1.6817487663920707, 'border_count': 812, 'leaf_estimation_iterations': 5, 'bagging_temperature': 0.9972990571530933, 'max_leaves': 40}. Best is trial 12 with value: 0.6701400380808249.\n",
      "[I 2024-12-30 23:28:33,787] Trial 16 finished with value: 0.6697665194534919 and parameters: {'iterations': 15190, 'learning_rate': 0.004163694923198908, 'depth': 11, 'l2_leaf_reg': 1.6745928457097146, 'border_count': 538, 'leaf_estimation_iterations': 3, 'bagging_temperature': 0.7557056901546528, 'max_leaves': 37}. Best is trial 12 with value: 0.6701400380808249.\n",
      "[I 2024-12-30 23:44:28,152] Trial 17 finished with value: 0.669002331939353 and parameters: {'iterations': 14748, 'learning_rate': 0.0018908964944524208, 'depth': 14, 'l2_leaf_reg': 3.7989137627750416, 'border_count': 634, 'leaf_estimation_iterations': 5, 'bagging_temperature': 0.506852491724322, 'max_leaves': 38}. Best is trial 12 with value: 0.6701400380808249.\n",
      "[I 2024-12-30 23:53:14,415] Trial 18 finished with value: 0.6695066921762864 and parameters: {'iterations': 17002, 'learning_rate': 0.004089265878721199, 'depth': 10, 'l2_leaf_reg': 0.8565578746872105, 'border_count': 466, 'leaf_estimation_iterations': 5, 'bagging_temperature': 0.8932941490395485, 'max_leaves': 42}. Best is trial 12 with value: 0.6701400380808249.\n",
      "[I 2024-12-31 00:09:17,106] Trial 19 finished with value: 0.6696027401656794 and parameters: {'iterations': 19983, 'learning_rate': 0.0018919529216905677, 'depth': 12, 'l2_leaf_reg': 4.327461784348804, 'border_count': 778, 'leaf_estimation_iterations': 3, 'bagging_temperature': 0.6926077061836535, 'max_leaves': 40}. Best is trial 12 with value: 0.6701400380808249.\n",
      "[I 2024-12-31 00:15:31,943] Trial 20 finished with value: 0.6688822939039801 and parameters: {'iterations': 13036, 'learning_rate': 0.004667551828419248, 'depth': 8, 'l2_leaf_reg': 2.5570844558487087, 'border_count': 401, 'leaf_estimation_iterations': 6, 'bagging_temperature': 0.4604754961524189, 'max_leaves': 38}. Best is trial 12 with value: 0.6701400380808249.\n",
      "[I 2024-12-31 00:37:40,510] Trial 21 finished with value: 0.6700048441049435 and parameters: {'iterations': 17545, 'learning_rate': 0.001187643519984777, 'depth': 9, 'l2_leaf_reg': 0.02502314372327666, 'border_count': 640, 'leaf_estimation_iterations': 4, 'bagging_temperature': 0.9992410529019287, 'max_leaves': 40}. Best is trial 12 with value: 0.6701400380808249.\n",
      "[I 2024-12-31 00:54:29,285] Trial 22 finished with value: 0.669744382380567 and parameters: {'iterations': 17074, 'learning_rate': 0.0018830040508661541, 'depth': 10, 'l2_leaf_reg': 0.8355676755181279, 'border_count': 644, 'leaf_estimation_iterations': 4, 'bagging_temperature': 0.9331174792151848, 'max_leaves': 39}. Best is trial 12 with value: 0.6701400380808249.\n",
      "[I 2024-12-31 01:16:18,237] Trial 23 finished with value: 0.6699031514069392 and parameters: {'iterations': 18524, 'learning_rate': 0.0010644913915295092, 'depth': 9, 'l2_leaf_reg': 0.9228095723608076, 'border_count': 762, 'leaf_estimation_iterations': 3, 'bagging_temperature': 0.833882681491572, 'max_leaves': 38}. Best is trial 12 with value: 0.6701400380808249.\n",
      "[I 2024-12-31 01:27:37,995] Trial 24 finished with value: 0.6697558663234877 and parameters: {'iterations': 15958, 'learning_rate': 0.003229679957081637, 'depth': 11, 'l2_leaf_reg': 2.0844946226626018, 'border_count': 592, 'leaf_estimation_iterations': 5, 'bagging_temperature': 0.9021378097182668, 'max_leaves': 41}. Best is trial 12 with value: 0.6701400380808249.\n",
      "[I 2024-12-31 01:41:03,787] Trial 25 finished with value: 0.6695284704480968 and parameters: {'iterations': 13516, 'learning_rate': 0.0020091755381797805, 'depth': 8, 'l2_leaf_reg': 0.018493190274578186, 'border_count': 678, 'leaf_estimation_iterations': 4, 'bagging_temperature': 0.7675697399456496, 'max_leaves': 36}. Best is trial 12 with value: 0.6701400380808249.\n",
      "[I 2024-12-31 01:55:41,964] Trial 26 finished with value: 0.6696310150126967 and parameters: {'iterations': 18835, 'learning_rate': 0.0024008982372123494, 'depth': 12, 'l2_leaf_reg': 0.9442745457324123, 'border_count': 520, 'leaf_estimation_iterations': 3, 'bagging_temperature': 0.920407277303527, 'max_leaves': 41}. Best is trial 12 with value: 0.6701400380808249.\n",
      "[I 2024-12-31 02:15:58,642] Trial 27 finished with value: 0.6700755700156725 and parameters: {'iterations': 17110, 'learning_rate': 0.0014677296425739102, 'depth': 10, 'l2_leaf_reg': 2.297249461739885, 'border_count': 894, 'leaf_estimation_iterations': 5, 'bagging_temperature': 0.9773162425198056, 'max_leaves': 39}. Best is trial 12 with value: 0.6701400380808249.\n",
      "[I 2024-12-31 02:27:13,971] Trial 28 finished with value: 0.6696403617362591 and parameters: {'iterations': 16152, 'learning_rate': 0.0031831127980536285, 'depth': 13, 'l2_leaf_reg': 2.3948810794860753, 'border_count': 980, 'leaf_estimation_iterations': 5, 'bagging_temperature': 0.810215308509493, 'max_leaves': 38}. Best is trial 12 with value: 0.6701400380808249.\n",
      "[I 2024-12-31 02:45:18,349] Trial 29 finished with value: 0.6694725892340967 and parameters: {'iterations': 19667, 'learning_rate': 0.0017375325623985006, 'depth': 11, 'l2_leaf_reg': 5.676924121161111, 'border_count': 900, 'leaf_estimation_iterations': 6, 'bagging_temperature': 0.6969886736981385, 'max_leaves': 40}. Best is trial 12 with value: 0.6701400380808249.\n",
      "[I 2024-12-31 02:49:02,536] Trial 30 finished with value: 0.6670084497987743 and parameters: {'iterations': 9042, 'learning_rate': 0.006485441231867458, 'depth': 10, 'l2_leaf_reg': 3.6312319955436796, 'border_count': 269, 'leaf_estimation_iterations': 5, 'bagging_temperature': 0.05231772827884518, 'max_leaves': 37}. Best is trial 12 with value: 0.6701400380808249.\n",
      "[I 2024-12-31 03:08:41,517] Trial 31 finished with value: 0.670024450615377 and parameters: {'iterations': 17860, 'learning_rate': 0.0014956524255420555, 'depth': 9, 'l2_leaf_reg': 0.6162518293207692, 'border_count': 1011, 'leaf_estimation_iterations': 4, 'bagging_temperature': 0.9948689524130315, 'max_leaves': 39}. Best is trial 12 with value: 0.6701400380808249.\n",
      "[I 2024-12-31 03:23:16,704] Trial 32 finished with value: 0.6696453985516156 and parameters: {'iterations': 14072, 'learning_rate': 0.0023069504543625965, 'depth': 10, 'l2_leaf_reg': 1.082662789476147, 'border_count': 932, 'leaf_estimation_iterations': 4, 'bagging_temperature': 0.9292307772292978, 'max_leaves': 41}. Best is trial 12 with value: 0.6701400380808249.\n",
      "[I 2024-12-31 03:41:49,943] Trial 33 finished with value: 0.669739983473235 and parameters: {'iterations': 17090, 'learning_rate': 0.0014238496848831771, 'depth': 7, 'l2_leaf_reg': 1.4726689601461231, 'border_count': 1016, 'leaf_estimation_iterations': 5, 'bagging_temperature': 0.8635557078432705, 'max_leaves': 39}. Best is trial 12 with value: 0.6701400380808249.\n",
      "[I 2024-12-31 03:55:10,607] Trial 34 finished with value: 0.6669603028104792 and parameters: {'iterations': 11797, 'learning_rate': 0.0015816651236113136, 'depth': 9, 'l2_leaf_reg': 0.5744789068708882, 'border_count': 884, 'leaf_estimation_iterations': 4, 'bagging_temperature': 0.1614877971979704, 'max_leaves': 40}. Best is trial 12 with value: 0.6701400380808249.\n",
      "[I 2024-12-31 04:05:44,273] Trial 35 finished with value: 0.6701074761313978 and parameters: {'iterations': 19048, 'learning_rate': 0.003149160886363093, 'depth': 11, 'l2_leaf_reg': 2.355221132466153, 'border_count': 1022, 'leaf_estimation_iterations': 2, 'bagging_temperature': 0.9997074186355368, 'max_leaves': 38}. Best is trial 12 with value: 0.6701400380808249.\n",
      "[I 2024-12-31 04:15:41,165] Trial 36 finished with value: 0.6702323156865104 and parameters: {'iterations': 18839, 'learning_rate': 0.0033916870458264295, 'depth': 13, 'l2_leaf_reg': 2.8979260172285377, 'border_count': 941, 'leaf_estimation_iterations': 2, 'bagging_temperature': 0.9416356617876782, 'max_leaves': 36}. Best is trial 36 with value: 0.6702323156865104.\n",
      "[I 2024-12-31 04:22:00,822] Trial 37 finished with value: 0.6693885874709776 and parameters: {'iterations': 15894, 'learning_rate': 0.005025357796802198, 'depth': 13, 'l2_leaf_reg': 4.568041492033316, 'border_count': 952, 'leaf_estimation_iterations': 2, 'bagging_temperature': 0.5976549985299486, 'max_leaves': 35}. Best is trial 36 with value: 0.6702323156865104.\n",
      "[I 2024-12-31 04:32:13,643] Trial 38 finished with value: 0.6700041461941634 and parameters: {'iterations': 18900, 'learning_rate': 0.0034342086582482547, 'depth': 14, 'l2_leaf_reg': 3.1737886266619744, 'border_count': 864, 'leaf_estimation_iterations': 2, 'bagging_temperature': 0.8823647850766265, 'max_leaves': 34}. Best is trial 36 with value: 0.6702323156865104.\n",
      "[I 2024-12-31 04:38:30,293] Trial 39 finished with value: 0.6705866532901779 and parameters: {'iterations': 5368, 'learning_rate': 0.004493871452114015, 'depth': 15, 'l2_leaf_reg': 6.4684879150789225, 'border_count': 918, 'leaf_estimation_iterations': 1, 'bagging_temperature': 0.9333010273062495, 'max_leaves': 36}. Best is trial 39 with value: 0.6705866532901779.\n",
      "[I 2024-12-31 04:45:16,529] Trial 40 finished with value: 0.6698294849743176 and parameters: {'iterations': 5434, 'learning_rate': 0.004079179540552084, 'depth': 15, 'l2_leaf_reg': 6.426636100916017, 'border_count': 824, 'leaf_estimation_iterations': 1, 'bagging_temperature': 0.7394291714057291, 'max_leaves': 36}. Best is trial 39 with value: 0.6705866532901779.\n",
      "[I 2024-12-31 04:49:25,032] Trial 41 finished with value: 0.6699645567607148 and parameters: {'iterations': 3407, 'learning_rate': 0.004781449973984449, 'depth': 15, 'l2_leaf_reg': 6.628710571864236, 'border_count': 921, 'leaf_estimation_iterations': 1, 'bagging_temperature': 0.9240385218722181, 'max_leaves': 37}. Best is trial 39 with value: 0.6705866532901779.\n",
      "[I 2024-12-31 04:57:57,187] Trial 42 finished with value: 0.6700220510527746 and parameters: {'iterations': 8514, 'learning_rate': 0.0037877822961331197, 'depth': 15, 'l2_leaf_reg': 5.655733275783868, 'border_count': 964, 'leaf_estimation_iterations': 2, 'bagging_temperature': 0.8320661767962674, 'max_leaves': 35}. Best is trial 39 with value: 0.6705866532901779.\n",
      "[I 2024-12-31 05:06:08,911] Trial 43 finished with value: 0.6701556680009377 and parameters: {'iterations': 6755, 'learning_rate': 0.0028278269687953546, 'depth': 16, 'l2_leaf_reg': 2.819259952238045, 'border_count': 747, 'leaf_estimation_iterations': 2, 'bagging_temperature': 0.9366263795729322, 'max_leaves': 36}. Best is trial 39 with value: 0.6705866532901779.\n",
      "[I 2024-12-31 05:13:57,754] Trial 44 finished with value: 0.6699770182577348 and parameters: {'iterations': 6783, 'learning_rate': 0.002951822112993791, 'depth': 16, 'l2_leaf_reg': 5.225692677189786, 'border_count': 760, 'leaf_estimation_iterations': 2, 'bagging_temperature': 0.9416534654886458, 'max_leaves': 34}. Best is trial 39 with value: 0.6705866532901779.\n",
      "[I 2024-12-31 05:19:13,428] Trial 45 finished with value: 0.6694747382387825 and parameters: {'iterations': 4704, 'learning_rate': 0.006262458052608216, 'depth': 16, 'l2_leaf_reg': 2.753207961489883, 'border_count': 993, 'leaf_estimation_iterations': 2, 'bagging_temperature': 0.8147850199472946, 'max_leaves': 36}. Best is trial 39 with value: 0.6705866532901779.\n",
      "[I 2024-12-31 05:27:00,870] Trial 46 finished with value: 0.6698968491002676 and parameters: {'iterations': 10441, 'learning_rate': 0.0045552245165042275, 'depth': 14, 'l2_leaf_reg': 9.108275662934483, 'border_count': 734, 'leaf_estimation_iterations': 1, 'bagging_temperature': 0.8578369914436162, 'max_leaves': 34}. Best is trial 39 with value: 0.6705866532901779.\n",
      "[I 2024-12-31 05:33:56,214] Trial 47 finished with value: 0.6695881835863366 and parameters: {'iterations': 7386, 'learning_rate': 0.005490789390792667, 'depth': 15, 'l2_leaf_reg': 4.001674531203138, 'border_count': 825, 'leaf_estimation_iterations': 2, 'bagging_temperature': 0.9468074301234958, 'max_leaves': 36}. Best is trial 39 with value: 0.6705866532901779.\n",
      "[I 2024-12-31 05:38:27,671] Trial 48 finished with value: 0.6684707700169689 and parameters: {'iterations': 3929, 'learning_rate': 0.002360074260372367, 'depth': 13, 'l2_leaf_reg': 7.341335582776583, 'border_count': 941, 'leaf_estimation_iterations': 1, 'bagging_temperature': 0.6555758766396953, 'max_leaves': 35}. Best is trial 39 with value: 0.6705866532901779.\n",
      "[I 2024-12-31 05:47:02,763] Trial 49 finished with value: 0.6700136675189098 and parameters: {'iterations': 8359, 'learning_rate': 0.0035809467944051933, 'depth': 16, 'l2_leaf_reg': 2.9538130568132446, 'border_count': 865, 'leaf_estimation_iterations': 3, 'bagging_temperature': 0.7954838867087866, 'max_leaves': 31}. Best is trial 39 with value: 0.6705866532901779.\n",
      "[I 2024-12-31 05:51:02,249] Trial 50 finished with value: 0.6690344712238367 and parameters: {'iterations': 5907, 'learning_rate': 0.009889298712426189, 'depth': 12, 'l2_leaf_reg': 4.688761268813646, 'border_count': 787, 'leaf_estimation_iterations': 2, 'bagging_temperature': 0.8822031100814924, 'max_leaves': 37}. Best is trial 39 with value: 0.6705866532901779.\n",
      "[I 2024-12-31 05:54:12,942] Trial 51 finished with value: 0.6670743577874824 and parameters: {'iterations': 2374, 'learning_rate': 0.002701672931603823, 'depth': 15, 'l2_leaf_reg': 2.059695102964257, 'border_count': 911, 'leaf_estimation_iterations': 3, 'bagging_temperature': 0.9709135771583622, 'max_leaves': 38}. Best is trial 39 with value: 0.6705866532901779.\n",
      "[I 2024-12-31 06:04:11,444] Trial 52 finished with value: 0.6701471089564079 and parameters: {'iterations': 19377, 'learning_rate': 0.003034084987378217, 'depth': 10, 'l2_leaf_reg': 3.5427370391551536, 'border_count': 1018, 'leaf_estimation_iterations': 2, 'bagging_temperature': 0.9559672922093075, 'max_leaves': 37}. Best is trial 39 with value: 0.6705866532901779.\n",
      "[I 2024-12-31 06:12:06,192] Trial 53 finished with value: 0.669920072288088 and parameters: {'iterations': 19222, 'learning_rate': 0.004325505009196661, 'depth': 11, 'l2_leaf_reg': 3.438321673649794, 'border_count': 1013, 'leaf_estimation_iterations': 2, 'bagging_temperature': 0.9485311298428505, 'max_leaves': 37}. Best is trial 39 with value: 0.6705866532901779.\n",
      "[I 2024-12-31 06:19:32,740] Trial 54 finished with value: 0.6698659898404116 and parameters: {'iterations': 17979, 'learning_rate': 0.005125753753552596, 'depth': 14, 'l2_leaf_reg': 4.125168042365139, 'border_count': 974, 'leaf_estimation_iterations': 1, 'bagging_temperature': 0.9061807343579366, 'max_leaves': 36}. Best is trial 39 with value: 0.6705866532901779.\n",
      "[I 2024-12-31 06:19:54,328] Trial 55 finished with value: 0.6462564617400659 and parameters: {'iterations': 229, 'learning_rate': 0.003121239178217863, 'depth': 12, 'l2_leaf_reg': 3.1820121047306866, 'border_count': 988, 'leaf_estimation_iterations': 2, 'bagging_temperature': 0.8557333003221956, 'max_leaves': 37}. Best is trial 39 with value: 0.6705866532901779.\n",
      "[I 2024-12-31 06:25:25,867] Trial 56 finished with value: 0.6681545590765587 and parameters: {'iterations': 4912, 'learning_rate': 0.003847395407620793, 'depth': 11, 'l2_leaf_reg': 1.4768477487668163, 'border_count': 942, 'leaf_estimation_iterations': 1, 'bagging_temperature': 0.2027191539158651, 'max_leaves': 38}. Best is trial 39 with value: 0.6705866532901779.\n",
      "[I 2024-12-31 06:33:42,984] Trial 57 finished with value: 0.6695056120358451 and parameters: {'iterations': 6753, 'learning_rate': 0.0025368167322185704, 'depth': 16, 'l2_leaf_reg': 2.795689718168234, 'border_count': 664, 'leaf_estimation_iterations': 3, 'bagging_temperature': 0.9655903006825172, 'max_leaves': 36}. Best is trial 39 with value: 0.6705866532901779.\n",
      "[I 2024-12-31 06:37:19,472] Trial 58 finished with value: 0.6683018593525167 and parameters: {'iterations': 19210, 'learning_rate': 0.008326727764748904, 'depth': 10, 'l2_leaf_reg': 6.624785554036855, 'border_count': 1024, 'leaf_estimation_iterations': 2, 'bagging_temperature': 0.439356841136099, 'max_leaves': 35}. Best is trial 39 with value: 0.6705866532901779.\n",
      "[I 2024-12-31 06:49:37,527] Trial 59 finished with value: 0.6691875811212112 and parameters: {'iterations': 18223, 'learning_rate': 0.002157831834295871, 'depth': 8, 'l2_leaf_reg': 1.923348388527023, 'border_count': 572, 'leaf_estimation_iterations': 1, 'bagging_temperature': 0.5447922877372213, 'max_leaves': 37}. Best is trial 39 with value: 0.6705866532901779.\n",
      "[I 2024-12-31 06:59:53,418] Trial 60 finished with value: 0.6697592432594724 and parameters: {'iterations': 10109, 'learning_rate': 0.0034646759005330136, 'depth': 14, 'l2_leaf_reg': 3.6454285733483904, 'border_count': 713, 'leaf_estimation_iterations': 3, 'bagging_temperature': 0.8899740960304781, 'max_leaves': 38}. Best is trial 39 with value: 0.6705866532901779.\n",
      "[I 2024-12-31 07:10:19,674] Trial 61 finished with value: 0.6698711735597889 and parameters: {'iterations': 17172, 'learning_rate': 0.003216427143590734, 'depth': 10, 'l2_leaf_reg': 2.372960804640897, 'border_count': 878, 'leaf_estimation_iterations': 2, 'bagging_temperature': 0.9777307929070637, 'max_leaves': 39}. Best is trial 39 with value: 0.6705866532901779.\n",
      "[I 2024-12-31 07:22:55,044] Trial 62 finished with value: 0.6696860005402658 and parameters: {'iterations': 16608, 'learning_rate': 0.0027553282063935793, 'depth': 10, 'l2_leaf_reg': 1.280500543959597, 'border_count': 617, 'leaf_estimation_iterations': 2, 'bagging_temperature': 0.9726318242777402, 'max_leaves': 38}. Best is trial 39 with value: 0.6705866532901779.\n",
      "[I 2024-12-31 07:32:10,416] Trial 63 finished with value: 0.6700424958065037 and parameters: {'iterations': 19420, 'learning_rate': 0.003906578539675009, 'depth': 11, 'l2_leaf_reg': 2.2941625965293633, 'border_count': 844, 'leaf_estimation_iterations': 3, 'bagging_temperature': 0.912596033415099, 'max_leaves': 36}. Best is trial 39 with value: 0.6705866532901779.\n",
      "[I 2024-12-31 07:40:50,451] Trial 64 finished with value: 0.6702210915804013 and parameters: {'iterations': 18458, 'learning_rate': 0.004359001772793779, 'depth': 12, 'l2_leaf_reg': 3.0255474142907555, 'border_count': 917, 'leaf_estimation_iterations': 1, 'bagging_temperature': 0.9935000712086834, 'max_leaves': 39}. Best is trial 39 with value: 0.6705866532901779.\n",
      "[I 2024-12-31 07:48:57,728] Trial 65 finished with value: 0.6702159641163172 and parameters: {'iterations': 19989, 'learning_rate': 0.00429220337987778, 'depth': 12, 'l2_leaf_reg': 4.7753728784277625, 'border_count': 955, 'leaf_estimation_iterations': 1, 'bagging_temperature': 0.9438206345094835, 'max_leaves': 35}. Best is trial 39 with value: 0.6705866532901779.\n",
      "[I 2024-12-31 07:57:13,430] Trial 66 finished with value: 0.6699097750257497 and parameters: {'iterations': 18480, 'learning_rate': 0.0044285811635516245, 'depth': 13, 'l2_leaf_reg': 4.675973379585972, 'border_count': 801, 'leaf_estimation_iterations': 1, 'bagging_temperature': 0.7895537954656819, 'max_leaves': 35}. Best is trial 39 with value: 0.6705866532901779.\n",
      "[I 2024-12-31 08:02:53,814] Trial 67 finished with value: 0.6696967720010092 and parameters: {'iterations': 19798, 'learning_rate': 0.005744723322242728, 'depth': 12, 'l2_leaf_reg': 6.168617335804138, 'border_count': 911, 'leaf_estimation_iterations': 1, 'bagging_temperature': 0.8465915737495442, 'max_leaves': 34}. Best is trial 39 with value: 0.6705866532901779.\n",
      "[I 2024-12-31 08:10:08,189] Trial 68 finished with value: 0.6702411612282542 and parameters: {'iterations': 17709, 'learning_rate': 0.004934745625500075, 'depth': 12, 'l2_leaf_reg': 4.331655776261308, 'border_count': 961, 'leaf_estimation_iterations': 1, 'bagging_temperature': 0.9389737458916669, 'max_leaves': 33}. Best is trial 39 with value: 0.6705866532901779.\n",
      "[I 2024-12-31 08:16:35,950] Trial 69 finished with value: 0.6694721735915576 and parameters: {'iterations': 17831, 'learning_rate': 0.0051335010524363985, 'depth': 12, 'l2_leaf_reg': 4.17665629221921, 'border_count': 962, 'leaf_estimation_iterations': 1, 'bagging_temperature': 0.7482005481751594, 'max_leaves': 32}. Best is trial 39 with value: 0.6705866532901779.\n",
      "[I 2024-12-31 08:22:31,657] Trial 70 finished with value: 0.6698865903015244 and parameters: {'iterations': 15166, 'learning_rate': 0.00603706818225733, 'depth': 13, 'l2_leaf_reg': 5.228722849786909, 'border_count': 995, 'leaf_estimation_iterations': 1, 'bagging_temperature': 0.9495221930040881, 'max_leaves': 33}. Best is trial 39 with value: 0.6705866532901779.\n",
      "[I 2024-12-31 08:29:40,623] Trial 71 finished with value: 0.6699785338155351 and parameters: {'iterations': 18622, 'learning_rate': 0.004882318345260962, 'depth': 12, 'l2_leaf_reg': 4.95642897404129, 'border_count': 929, 'leaf_estimation_iterations': 1, 'bagging_temperature': 0.9066284091618652, 'max_leaves': 32}. Best is trial 39 with value: 0.6705866532901779.\n",
      "[I 2024-12-31 08:37:41,029] Trial 72 finished with value: 0.670023747489127 and parameters: {'iterations': 19974, 'learning_rate': 0.004209513494089209, 'depth': 13, 'l2_leaf_reg': 3.8096265028888743, 'border_count': 512, 'leaf_estimation_iterations': 1, 'bagging_temperature': 0.9266249930151541, 'max_leaves': 35}. Best is trial 39 with value: 0.6705866532901779.\n",
      "[I 2024-12-31 08:43:45,090] Trial 73 finished with value: 0.6694463750536642 and parameters: {'iterations': 16481, 'learning_rate': 0.006886219460987069, 'depth': 12, 'l2_leaf_reg': 4.37236527653679, 'border_count': 846, 'leaf_estimation_iterations': 1, 'bagging_temperature': 0.8792646387513298, 'max_leaves': 36}. Best is trial 39 with value: 0.6705866532901779.\n",
      "[I 2024-12-31 08:51:41,367] Trial 74 finished with value: 0.6706564123659987 and parameters: {'iterations': 17455, 'learning_rate': 0.004493946464004274, 'depth': 11, 'l2_leaf_reg': 4.995727127215648, 'border_count': 952, 'leaf_estimation_iterations': 1, 'bagging_temperature': 0.9991831740725914, 'max_leaves': 33}. Best is trial 74 with value: 0.6706564123659987.\n",
      "[I 2024-12-31 08:59:31,181] Trial 75 finished with value: 0.670170083479902 and parameters: {'iterations': 17560, 'learning_rate': 0.004599827330541849, 'depth': 11, 'l2_leaf_reg': 5.584959010494313, 'border_count': 955, 'leaf_estimation_iterations': 1, 'bagging_temperature': 0.9565327637361074, 'max_leaves': 33}. Best is trial 74 with value: 0.6706564123659987.\n",
      "[I 2024-12-31 09:07:04,238] Trial 76 finished with value: 0.6705124280952703 and parameters: {'iterations': 17632, 'learning_rate': 0.004635920845082204, 'depth': 11, 'l2_leaf_reg': 5.622154477656733, 'border_count': 953, 'leaf_estimation_iterations': 1, 'bagging_temperature': 0.9992775295957348, 'max_leaves': 32}. Best is trial 74 with value: 0.6706564123659987.\n",
      "[I 2024-12-31 09:13:32,622] Trial 77 finished with value: 0.6699872753948525 and parameters: {'iterations': 17493, 'learning_rate': 0.005354534958234194, 'depth': 11, 'l2_leaf_reg': 5.590535507312088, 'border_count': 894, 'leaf_estimation_iterations': 1, 'bagging_temperature': 0.9954482183540596, 'max_leaves': 31}. Best is trial 74 with value: 0.6706564123659987.\n",
      "[I 2024-12-31 09:22:19,950] Trial 78 finished with value: 0.6700613201803374 and parameters: {'iterations': 15546, 'learning_rate': 0.004523697983550187, 'depth': 12, 'l2_leaf_reg': 6.157715844765354, 'border_count': 952, 'leaf_estimation_iterations': 1, 'bagging_temperature': 0.9630115796314028, 'max_leaves': 33}. Best is trial 74 with value: 0.6706564123659987.\n",
      "[I 2024-12-31 09:28:15,194] Trial 79 finished with value: 0.670111125203002 and parameters: {'iterations': 14550, 'learning_rate': 0.005300356465174207, 'depth': 11, 'l2_leaf_reg': 7.006922982167963, 'border_count': 926, 'leaf_estimation_iterations': 1, 'bagging_temperature': 0.9085711194394398, 'max_leaves': 32}. Best is trial 74 with value: 0.6706564123659987.\n",
      "[I 2024-12-31 09:33:05,144] Trial 80 finished with value: 0.666966448363863 and parameters: {'iterations': 11754, 'learning_rate': 0.004784720815715848, 'depth': 12, 'l2_leaf_reg': 5.458498120218532, 'border_count': 971, 'leaf_estimation_iterations': 1, 'bagging_temperature': 0.022139940915910372, 'max_leaves': 33}. Best is trial 74 with value: 0.6706564123659987.\n",
      "[I 2024-12-31 09:41:32,027] Trial 81 finished with value: 0.670093270667428 and parameters: {'iterations': 16463, 'learning_rate': 0.0039565512372008995, 'depth': 11, 'l2_leaf_reg': 5.922424489532179, 'border_count': 912, 'leaf_estimation_iterations': 1, 'bagging_temperature': 0.942405241135686, 'max_leaves': 33}. Best is trial 74 with value: 0.6706564123659987.\n",
      "[I 2024-12-31 09:50:38,173] Trial 82 finished with value: 0.6701587540067553 and parameters: {'iterations': 17497, 'learning_rate': 0.004159767449420023, 'depth': 13, 'l2_leaf_reg': 5.959760808753009, 'border_count': 872, 'leaf_estimation_iterations': 1, 'bagging_temperature': 0.9248523833706356, 'max_leaves': 34}. Best is trial 74 with value: 0.6706564123659987.\n",
      "[I 2024-12-31 09:59:28,097] Trial 83 finished with value: 0.6703872700442741 and parameters: {'iterations': 17577, 'learning_rate': 0.00435005590395358, 'depth': 13, 'l2_leaf_reg': 5.196468257919875, 'border_count': 875, 'leaf_estimation_iterations': 1, 'bagging_temperature': 0.9815809967708441, 'max_leaves': 34}. Best is trial 74 with value: 0.6706564123659987.\n",
      "[I 2024-12-31 10:07:22,287] Trial 84 finished with value: 0.6702592057857032 and parameters: {'iterations': 18377, 'learning_rate': 0.004645578375371265, 'depth': 13, 'l2_leaf_reg': 5.0155945076065525, 'border_count': 949, 'leaf_estimation_iterations': 1, 'bagging_temperature': 0.9794346910772731, 'max_leaves': 32}. Best is trial 74 with value: 0.6706564123659987.\n",
      "[I 2024-12-31 10:14:49,294] Trial 85 finished with value: 0.6700043089177258 and parameters: {'iterations': 18031, 'learning_rate': 0.0049394762573061165, 'depth': 13, 'l2_leaf_reg': 4.94168966745729, 'border_count': 998, 'leaf_estimation_iterations': 1, 'bagging_temperature': 0.9973084914479987, 'max_leaves': 32}. Best is trial 74 with value: 0.6706564123659987.\n",
      "[I 2024-12-31 10:23:20,003] Trial 86 finished with value: 0.6703626846366569 and parameters: {'iterations': 18609, 'learning_rate': 0.00435361201973542, 'depth': 13, 'l2_leaf_reg': 5.288547813352081, 'border_count': 900, 'leaf_estimation_iterations': 1, 'bagging_temperature': 0.9740045803667564, 'max_leaves': 31}. Best is trial 74 with value: 0.6706564123659987.\n",
      "[I 2024-12-31 10:30:28,955] Trial 87 finished with value: 0.6699860629889327 and parameters: {'iterations': 17003, 'learning_rate': 0.005622233987259729, 'depth': 14, 'l2_leaf_reg': 5.273771934334931, 'border_count': 889, 'leaf_estimation_iterations': 1, 'bagging_temperature': 0.9817553676218692, 'max_leaves': 31}. Best is trial 74 with value: 0.6706564123659987.\n",
      "[I 2024-12-31 10:39:08,971] Trial 88 finished with value: 0.6700735982267647 and parameters: {'iterations': 18680, 'learning_rate': 0.0036906787269748668, 'depth': 13, 'l2_leaf_reg': 5.857778435528525, 'border_count': 854, 'leaf_estimation_iterations': 1, 'bagging_temperature': 0.8781324786190969, 'max_leaves': 32}. Best is trial 74 with value: 0.6706564123659987.\n",
      "[I 2024-12-31 10:46:31,766] Trial 89 finished with value: 0.6697399950461989 and parameters: {'iterations': 13094, 'learning_rate': 0.00517210708176704, 'depth': 14, 'l2_leaf_reg': 4.474491181735426, 'border_count': 383, 'leaf_estimation_iterations': 1, 'bagging_temperature': 0.8347045121207102, 'max_leaves': 31}. Best is trial 74 with value: 0.6706564123659987.\n",
      "[I 2024-12-31 10:49:47,907] Trial 90 finished with value: 0.66820049835341 and parameters: {'iterations': 15942, 'learning_rate': 0.00908858744176223, 'depth': 13, 'l2_leaf_reg': 6.414289393271787, 'border_count': 903, 'leaf_estimation_iterations': 1, 'bagging_temperature': 0.29922681107436394, 'max_leaves': 32}. Best is trial 74 with value: 0.6706564123659987.\n",
      "[I 2024-12-31 10:58:27,158] Trial 91 finished with value: 0.6702201700084005 and parameters: {'iterations': 18433, 'learning_rate': 0.004349032466851449, 'depth': 12, 'l2_leaf_reg': 4.8123117470258405, 'border_count': 937, 'leaf_estimation_iterations': 1, 'bagging_temperature': 0.9301978997679724, 'max_leaves': 34}. Best is trial 74 with value: 0.6706564123659987.\n",
      "[I 2024-12-31 11:06:53,540] Trial 92 finished with value: 0.6699543447284361 and parameters: {'iterations': 18278, 'learning_rate': 0.004777526656109167, 'depth': 12, 'l2_leaf_reg': 5.009751938204152, 'border_count': 936, 'leaf_estimation_iterations': 1, 'bagging_temperature': 0.9751852438152089, 'max_leaves': 34}. Best is trial 74 with value: 0.6706564123659987.\n",
      "[I 2024-12-31 11:15:35,889] Trial 93 finished with value: 0.670206402659072 and parameters: {'iterations': 18854, 'learning_rate': 0.004433205949356037, 'depth': 13, 'l2_leaf_reg': 5.352902571475392, 'border_count': 982, 'leaf_estimation_iterations': 1, 'bagging_temperature': 0.8959278010566916, 'max_leaves': 33}. Best is trial 74 with value: 0.6706564123659987.\n",
      "[I 2024-12-31 11:24:21,225] Trial 94 finished with value: 0.6700174318346257 and parameters: {'iterations': 16722, 'learning_rate': 0.0040171615094841415, 'depth': 14, 'l2_leaf_reg': 4.771039249444217, 'border_count': 919, 'leaf_estimation_iterations': 1, 'bagging_temperature': 0.9268077284746454, 'max_leaves': 32}. Best is trial 74 with value: 0.6706564123659987.\n",
      "[I 2024-12-31 11:31:47,088] Trial 95 finished with value: 0.670507013483221 and parameters: {'iterations': 17830, 'learning_rate': 0.004628010037965981, 'depth': 12, 'l2_leaf_reg': 5.081662525904738, 'border_count': 937, 'leaf_estimation_iterations': 1, 'bagging_temperature': 0.9992214775959644, 'max_leaves': 31}. Best is trial 74 with value: 0.6706564123659987.\n",
      "[I 2024-12-31 11:40:37,201] Trial 96 finished with value: 0.6702654216262026 and parameters: {'iterations': 17684, 'learning_rate': 0.004713975927433878, 'depth': 13, 'l2_leaf_reg': 7.098186838240767, 'border_count': 883, 'leaf_estimation_iterations': 1, 'bagging_temperature': 0.978051048653685, 'max_leaves': 31}. Best is trial 74 with value: 0.6706564123659987.\n",
      "[I 2024-12-31 11:47:34,345] Trial 97 finished with value: 0.6700923077642909 and parameters: {'iterations': 17575, 'learning_rate': 0.004696196019882399, 'depth': 13, 'l2_leaf_reg': 7.030697820470168, 'border_count': 823, 'leaf_estimation_iterations': 1, 'bagging_temperature': 0.9673070278332299, 'max_leaves': 31}. Best is trial 74 with value: 0.6706564123659987.\n",
      "[I 2024-12-31 11:57:12,009] Trial 98 finished with value: 0.6704103685546998 and parameters: {'iterations': 16225, 'learning_rate': 0.003430524956840693, 'depth': 14, 'l2_leaf_reg': 7.937495198351943, 'border_count': 886, 'leaf_estimation_iterations': 1, 'bagging_temperature': 0.976157374185676, 'max_leaves': 31}. Best is trial 74 with value: 0.6706564123659987.\n",
      "[I 2024-12-31 12:04:41,388] Trial 99 finished with value: 0.6701518213696231 and parameters: {'iterations': 15458, 'learning_rate': 0.004909059122685404, 'depth': 15, 'l2_leaf_reg': 8.112649324216667, 'border_count': 882, 'leaf_estimation_iterations': 1, 'bagging_temperature': 0.977884322717419, 'max_leaves': 31}. Best is trial 74 with value: 0.6706564123659987.\n"
     ]
    }
   ],
   "source": [
    "study_cat = optuna.create_study(direction='maximize', sampler=optuna.samplers.TPESampler(seed=CONFIG['SEED']))\n",
    "study_cat.optimize(optimize_cat, n_trials=100)"
   ],
   "metadata": {
    "collapsed": false,
    "ExecuteTime": {
     "end_time": "2024-12-31T09:04:41.402497900Z",
     "start_time": "2024-12-30T17:40:13.787993600Z"
    }
   },
   "id": "6671f52e7d3c2b3a",
   "execution_count": 11
  },
  {
   "cell_type": "code",
   "outputs": [],
   "source": [
    "best_params_cat = study_cat.best_params\n",
    "final_params = {**fixed_params, **best_params_cat}  "
   ],
   "metadata": {
    "collapsed": false,
    "ExecuteTime": {
     "end_time": "2024-12-31T09:04:41.413523100Z",
     "start_time": "2024-12-31T09:04:41.397496500Z"
    }
   },
   "id": "95e24aa905f98c66",
   "execution_count": 12
  },
  {
   "cell_type": "code",
   "outputs": [
    {
     "data": {
      "text/plain": "<catboost.core.CatBoostRegressor at 0x1f91a4d6680>"
     },
     "execution_count": 13,
     "metadata": {},
     "output_type": "execute_result"
    }
   ],
   "source": [
    "final_cat = CatBoostRegressor(cat_features=cat_columns, **final_params)\n",
    "final_cat.fit(X, y)"
   ],
   "metadata": {
    "collapsed": false,
    "ExecuteTime": {
     "end_time": "2024-12-31T09:08:02.900517900Z",
     "start_time": "2024-12-31T09:04:41.418034900Z"
    }
   },
   "id": "97782c5be4517c4e",
   "execution_count": 13
  },
  {
   "cell_type": "code",
   "outputs": [],
   "source": [
    "final_cat.model_number = number"
   ],
   "metadata": {
    "collapsed": false,
    "ExecuteTime": {
     "end_time": "2024-12-31T09:08:02.911056100Z",
     "start_time": "2024-12-31T09:08:02.895518Z"
    }
   },
   "id": "5077a3d58ed84201",
   "execution_count": 14
  },
  {
   "cell_type": "code",
   "outputs": [
    {
     "data": {
      "text/plain": "['2.1.6_model.pkl']"
     },
     "execution_count": 15,
     "metadata": {},
     "output_type": "execute_result"
    }
   ],
   "source": [
    "joblib.dump(final_cat, f\"{number}_model.pkl\")"
   ],
   "metadata": {
    "collapsed": false,
    "ExecuteTime": {
     "end_time": "2024-12-31T09:08:03.021130300Z",
     "start_time": "2024-12-31T09:08:02.912568400Z"
    }
   },
   "id": "2b2e3bf4e98d533d",
   "execution_count": 15
  },
  {
   "cell_type": "code",
   "outputs": [],
   "source": [
    "cat_importance = final_cat.get_feature_importance()"
   ],
   "metadata": {
    "collapsed": false,
    "ExecuteTime": {
     "end_time": "2024-12-31T09:08:03.401382Z",
     "start_time": "2024-12-31T09:08:03.022130200Z"
    }
   },
   "id": "3e50b9cbcbd85c7f",
   "execution_count": 16
  },
  {
   "cell_type": "code",
   "outputs": [
    {
     "name": "stdout",
     "output_type": "stream",
     "text": [
      "CatBoost Feature Importances:\n",
      "                    Feature  Importance\n",
      "0                dri_score   11.637965\n",
      "39              age_at_hct    8.104722\n",
      "35               donor_age    7.992235\n",
      "26  conditioning_intensity    7.107931\n",
      "46       comorbidity_score    6.230645\n",
      "28                year_hct    5.511941\n",
      "47         karnofsky_score    3.787891\n",
      "25       cyto_score_detail    3.511975\n",
      "13        prim_disease_hct    3.258603\n",
      "43               sex_match    2.857204\n",
      "2               cyto_score    2.800266\n",
      "41              gvhd_proph    2.773591\n",
      "45              race_group    2.609481\n",
      "30                 mrd_hct    2.227571\n",
      "15              cmv_status    2.177365\n",
      "12             pulm_severe    1.427871\n",
      "6               tbi_status    1.420728\n",
      "18           tce_imm_match    1.289801\n",
      "50           donor_related    1.234324\n",
      "49           tce_div_match    1.168212\n",
      "31             in_vivo_tcd    1.126880\n",
      "53                 cardiac    1.126596\n",
      "32               tce_match    1.114251\n",
      "36             prior_tumor    1.109448\n",
      "7               arrhythmia    1.059304\n",
      "3                 diabetes    1.058866\n",
      "19              hla_nmdp_6    0.968938\n",
      "51          melphalan_dose    0.888723\n",
      "55           pulm_moderate    0.786766\n",
      "1            psych_disturb    0.732181\n",
      "27               ethnicity    0.675184\n",
      "9               graft_type    0.647585\n",
      "16         hla_high_res_10    0.629111\n",
      "56          hla_low_res_10    0.603629\n",
      "34          hepatic_severe    0.585362\n",
      "29                 obesity    0.580162\n",
      "48            hepatic_mild    0.575453\n",
      "24               prod_type    0.516056\n",
      "33        hla_match_a_high    0.453872\n",
      "5           hla_high_res_8    0.445275\n",
      "40         hla_match_a_low    0.428611\n",
      "52           hla_low_res_8    0.401665\n",
      "42             rheum_issue    0.386777\n",
      "21               rituximab    0.383148\n",
      "38            peptic_ulcer    0.335168\n",
      "10               vent_hist    0.314875\n",
      "14          hla_high_res_6    0.314827\n",
      "23      hla_match_dqb1_low    0.313654\n",
      "8            hla_low_res_6    0.303280\n",
      "17     hla_match_dqb1_high    0.295696\n",
      "11             renal_issue    0.277153\n",
      "4         hla_match_c_high    0.274164\n",
      "54     hla_match_drb1_high    0.264049\n",
      "37         hla_match_b_low    0.260724\n",
      "20         hla_match_c_low    0.242636\n",
      "44        hla_match_b_high    0.212830\n",
      "22      hla_match_drb1_low    0.176778\n"
     ]
    }
   ],
   "source": [
    "cat_importance_df = pd.DataFrame({\n",
    "    'Feature': X.columns,\n",
    "    'Importance': cat_importance\n",
    "}).sort_values(by='Importance', ascending=False)\n",
    "\n",
    "print(\"CatBoost Feature Importances:\\n\", cat_importance_df)"
   ],
   "metadata": {
    "collapsed": false,
    "ExecuteTime": {
     "end_time": "2024-12-31T09:08:03.418403100Z",
     "start_time": "2024-12-31T09:08:03.402382200Z"
    }
   },
   "id": "7b65d88176d2873f",
   "execution_count": 17
  },
  {
   "cell_type": "code",
   "outputs": [],
   "source": [
    "# auto_params = ['per_float_feature_quantization', 'input_borders', 'output_borders', 'fold_permutation_block', 'counter_calc_method', 'thread_count', 'best_model_min_trees', 'verbose', 'silent', 'metric_period', 'ctr_leaf_count_limit', 'store_all_simple_ctr', 'has_time', 'allow_const_label', 'target_border', 'random_score_type', 'name', 'ignored_features', 'train_dir', 'custom_metric', 'save_snapshot', 'snapshot_file', 'snapshot_interval', 'fold_len_multiplier', 'used_ram_limit', 'gpu_ram_part', 'pinned_memory_size', 'final_ctr_computation_mode', 'simple_ctr', 'combinations_ctr', 'per_feature_ctr', 'ctr_description', 'ctr_target_border_count', 'device_config', 'devices', 'subsample', 'mvs_reg', 'sampling_frequency', 'sampling_unit', 'subsampling_factor', 'dev_score_calc_obj_block_size', 'dev_efb_max_buckets', 'sparse_features_conflict_fraction', 'max_depth', 'n_estimators', 'num_boost_round', 'num_trees', 'colsample_bylevel', 'random_state', 'reg_lambda', 'reg_lambda', 'eta', 'max_bin', 'gpu_cat_features_storage', 'data_partition', 'metadata', 'min_data_in_leaf', 'min_child_samples', 'num_leaves', 'score_function', 'ctr_history_unit', 'monotone_constraints', 'feature_weights', 'penalties_coefficient', 'first_feature_use_penalties', 'per_object_feature_penalties', 'model_shrink_rate', 'model_shrink_mode', 'langevin', 'diffusion_temperature', 'posterior_sampling', 'text_features', 'tokenizers', 'dictionaries', 'feature_calcers', 'text_processing', 'embedding_features', 'eval_fraction', 'fixed_binary_splits', 'od_type', 'od_pval', 'od_wait', 'approx_on_full_history', 'boosting_type']"
   ],
   "metadata": {
    "collapsed": false,
    "ExecuteTime": {
     "end_time": "2024-12-31T09:08:03.448403100Z",
     "start_time": "2024-12-31T09:08:03.417403400Z"
    }
   },
   "id": "e3e9fd32b0938562",
   "execution_count": 18
  },
  {
   "cell_type": "code",
   "outputs": [],
   "source": [],
   "metadata": {
    "collapsed": false,
    "ExecuteTime": {
     "end_time": "2024-12-31T09:08:03.448403100Z",
     "start_time": "2024-12-31T09:08:03.432403100Z"
    }
   },
   "id": "5b10f800f371e6d1",
   "execution_count": 18
  }
 ],
 "metadata": {
  "kernelspec": {
   "display_name": "Python 3",
   "language": "python",
   "name": "python3"
  },
  "language_info": {
   "codemirror_mode": {
    "name": "ipython",
    "version": 2
   },
   "file_extension": ".py",
   "mimetype": "text/x-python",
   "name": "python",
   "nbconvert_exporter": "python",
   "pygments_lexer": "ipython2",
   "version": "2.7.6"
  }
 },
 "nbformat": 4,
 "nbformat_minor": 5
}
