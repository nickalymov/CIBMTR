{
 "cells": [
  {
   "cell_type": "code",
   "outputs": [],
   "source": [
    "import os\n",
    "current_directory = os.getcwd()\n",
    "folder_name = os.path.basename(current_directory)\n",
    "number = folder_name"
   ],
   "metadata": {
    "collapsed": false,
    "ExecuteTime": {
     "end_time": "2024-12-31T18:31:53.629821300Z",
     "start_time": "2024-12-31T18:31:53.612820600Z"
    }
   },
   "id": "cb2065b8802f8251",
   "execution_count": 1
  },
  {
   "cell_type": "code",
   "outputs": [],
   "source": [
    "import platform\n",
    "platform_name = platform.system()"
   ],
   "metadata": {
    "collapsed": false,
    "ExecuteTime": {
     "end_time": "2024-12-31T18:31:53.651822800Z",
     "start_time": "2024-12-31T18:31:53.632820600Z"
    }
   },
   "id": "c77f23bcf20968b4",
   "execution_count": 2
  },
  {
   "cell_type": "code",
   "outputs": [],
   "source": [
    "CONFIG = {\n",
    "    'test_path': 'test.csv',\n",
    "    'train_path': 'train.csv',\n",
    "\n",
    "    'DEVICE' : 'cuda',\n",
    "    'SEED' : 42,\n",
    "}\n",
    "if platform_name == 'Windows':\n",
    "    CONFIG['data_main'] = 'C:/Users/Николай/PycharmProjects/CIBMTR/D.Data/main/'\n",
    "    CONFIG['model_path'] = f\"{number}_model.pkl\"\n",
    "else:\n",
    "    CONFIG['data_main'] = '/kaggle/input/equity-post-HCT-survival-predictions/'\n",
    "    CONFIG['model_path'] = \"/kaggle/input/2.1.6_model.pkl/other/default/1/2.1.6_model.pkl\""
   ],
   "metadata": {
    "collapsed": false,
    "ExecuteTime": {
     "end_time": "2024-12-31T18:31:53.661821900Z",
     "start_time": "2024-12-31T18:31:53.648821Z"
    }
   },
   "id": "9174032d882584ac",
   "execution_count": 3
  },
  {
   "cell_type": "code",
   "outputs": [],
   "source": [
    "\n",
    "import pandas as pd\n",
    "import joblib "
   ],
   "metadata": {
    "collapsed": false,
    "ExecuteTime": {
     "end_time": "2024-12-31T18:31:53.981819300Z",
     "start_time": "2024-12-31T18:31:53.662822300Z"
    }
   },
   "id": "b015da9f4c673f76",
   "execution_count": 4
  },
  {
   "cell_type": "code",
   "outputs": [],
   "source": [
    "train = pd.read_csv(f\"{CONFIG['data_main']}{CONFIG['train_path']}\")\n",
    "\n",
    "num_columns = [col for col in train.columns if pd.api.types.is_numeric_dtype(train[col])]\n",
    "cat_columns = [col for col in train.columns if col not in num_columns]"
   ],
   "metadata": {
    "collapsed": false,
    "ExecuteTime": {
     "end_time": "2024-12-31T18:31:54.130839400Z",
     "start_time": "2024-12-31T18:31:53.984819300Z"
    }
   },
   "id": "214abe3370778cbd",
   "execution_count": 5
  },
  {
   "cell_type": "code",
   "outputs": [],
   "source": [
    "test = pd.read_csv(f\"{CONFIG['data_main']}test.csv\")\n",
    "for col in test.columns: \n",
    "    if col in cat_columns:\n",
    "        test[col] = test[col].astype(str)\n",
    "        test[col] = test[col].fillna('-1')\n",
    "    elif col in num_columns:\n",
    "        test[col] = test[col].fillna(test[col].mode()[0])"
   ],
   "metadata": {
    "collapsed": false,
    "ExecuteTime": {
     "end_time": "2024-12-31T18:31:54.159839500Z",
     "start_time": "2024-12-31T18:31:54.131839300Z"
    }
   },
   "id": "ac0fb31bb289572f",
   "execution_count": 6
  },
  {
   "cell_type": "code",
   "outputs": [],
   "source": [
    "final_cat = joblib.load(CONFIG['model_path'])"
   ],
   "metadata": {
    "collapsed": false,
    "ExecuteTime": {
     "end_time": "2024-12-31T18:31:54.605875700Z",
     "start_time": "2024-12-31T18:31:54.161839600Z"
    }
   },
   "id": "c24795b246f48d95",
   "execution_count": 7
  },
  {
   "cell_type": "code",
   "outputs": [
    {
     "data": {
      "text/plain": "{'iterations': 17455,\n 'learning_rate': 0.004493946464004274,\n 'depth': 11,\n 'l2_leaf_reg': 4.995727127215648,\n 'model_size_reg': 0,\n 'rsm': 1,\n 'loss_function': 'RMSE',\n 'border_count': 952,\n 'feature_border_type': 'GreedyLogSum',\n 'nan_mode': 'Forbidden',\n 'leaf_estimation_iterations': 1,\n 'leaf_estimation_method': 'Newton',\n 'random_seed': 42,\n 'use_best_model': False,\n 'logging_level': 'Silent',\n 'max_ctr_complexity': 15,\n 'one_hot_max_size': 50,\n 'random_strength': 0,\n 'eval_metric': 'RMSE',\n 'bagging_temperature': 0.9991831740725914,\n 'allow_writing_files': False,\n 'task_type': 'GPU',\n 'bootstrap_type': 'Bayesian',\n 'early_stopping_rounds': 250,\n 'cat_features': ['dri_score',\n  'psych_disturb',\n  'cyto_score',\n  'diabetes',\n  'tbi_status',\n  'arrhythmia',\n  'graft_type',\n  'vent_hist',\n  'renal_issue',\n  'pulm_severe',\n  'prim_disease_hct',\n  'cmv_status',\n  'tce_imm_match',\n  'rituximab',\n  'prod_type',\n  'cyto_score_detail',\n  'conditioning_intensity',\n  'ethnicity',\n  'obesity',\n  'mrd_hct',\n  'in_vivo_tcd',\n  'tce_match',\n  'hepatic_severe',\n  'prior_tumor',\n  'peptic_ulcer',\n  'gvhd_proph',\n  'rheum_issue',\n  'sex_match',\n  'race_group',\n  'hepatic_mild',\n  'tce_div_match',\n  'donor_related',\n  'melphalan_dose',\n  'cardiac',\n  'pulm_moderate'],\n 'grow_policy': 'Lossguide',\n 'max_leaves': 33,\n 'score_function': 'NewtonL2',\n 'leaf_estimation_backtracking': 'AnyImprovement',\n 'boost_from_average': True}"
     },
     "execution_count": 8,
     "metadata": {},
     "output_type": "execute_result"
    }
   ],
   "source": [
    "final_cat.get_params()"
   ],
   "metadata": {
    "collapsed": false,
    "ExecuteTime": {
     "end_time": "2024-12-31T18:31:54.619875600Z",
     "start_time": "2024-12-31T18:31:54.606875700Z"
    }
   },
   "id": "41015602ced07ca0",
   "execution_count": 8
  },
  {
   "cell_type": "code",
   "outputs": [],
   "source": [
    "preds_test = final_cat.predict(test.drop(columns=['ID']))"
   ],
   "metadata": {
    "collapsed": false,
    "ExecuteTime": {
     "end_time": "2024-12-31T18:31:54.643875900Z",
     "start_time": "2024-12-31T18:31:54.620875800Z"
    }
   },
   "id": "887fcb1c03c25912",
   "execution_count": 9
  },
  {
   "cell_type": "code",
   "outputs": [],
   "source": [
    "y_pred = test[['ID']].copy(deep=True)\n",
    "y_pred[\"prediction\"] = preds_test\n",
    "y_pred.to_csv('submission.csv', index=False)"
   ],
   "metadata": {
    "collapsed": false,
    "ExecuteTime": {
     "end_time": "2024-12-31T18:31:54.651875800Z",
     "start_time": "2024-12-31T18:31:54.637875700Z"
    }
   },
   "id": "903cca0ce259731a",
   "execution_count": 10
  },
  {
   "cell_type": "code",
   "outputs": [
    {
     "data": {
      "text/plain": "      ID                       dri_score psych_disturb    cyto_score diabetes  \\\n0  28800  N/A - non-malignant indication            No           nan       No   \n1  28801                    Intermediate            No  Intermediate       No   \n2  28802  N/A - non-malignant indication            No           nan       No   \n\n   hla_match_c_high  hla_high_res_8          tbi_status arrhythmia  \\\n0               2.0             8.0              No TBI         No   \n1               2.0             8.0  TBI +- Other, >cGy         No   \n2               2.0             8.0              No TBI         No   \n\n   hla_low_res_6  ... karnofsky_score hepatic_mild          tce_div_match  \\\n0            6.0  ...            90.0           No                    nan   \n1            6.0  ...            90.0           No  Permissive mismatched   \n2            6.0  ...            90.0           No  Permissive mismatched   \n\n  donor_related      melphalan_dose  hla_low_res_8 cardiac  \\\n0     Unrelated  N/A, Mel not given            8.0      No   \n1       Related  N/A, Mel not given            8.0      No   \n2       Related  N/A, Mel not given            8.0      No   \n\n   hla_match_drb1_high  pulm_moderate hla_low_res_10  \n0                  2.0             No           10.0  \n1                  2.0            Yes           10.0  \n2                  2.0             No           10.0  \n\n[3 rows x 58 columns]",
      "text/html": "<div>\n<style scoped>\n    .dataframe tbody tr th:only-of-type {\n        vertical-align: middle;\n    }\n\n    .dataframe tbody tr th {\n        vertical-align: top;\n    }\n\n    .dataframe thead th {\n        text-align: right;\n    }\n</style>\n<table border=\"1\" class=\"dataframe\">\n  <thead>\n    <tr style=\"text-align: right;\">\n      <th></th>\n      <th>ID</th>\n      <th>dri_score</th>\n      <th>psych_disturb</th>\n      <th>cyto_score</th>\n      <th>diabetes</th>\n      <th>hla_match_c_high</th>\n      <th>hla_high_res_8</th>\n      <th>tbi_status</th>\n      <th>arrhythmia</th>\n      <th>hla_low_res_6</th>\n      <th>...</th>\n      <th>karnofsky_score</th>\n      <th>hepatic_mild</th>\n      <th>tce_div_match</th>\n      <th>donor_related</th>\n      <th>melphalan_dose</th>\n      <th>hla_low_res_8</th>\n      <th>cardiac</th>\n      <th>hla_match_drb1_high</th>\n      <th>pulm_moderate</th>\n      <th>hla_low_res_10</th>\n    </tr>\n  </thead>\n  <tbody>\n    <tr>\n      <th>0</th>\n      <td>28800</td>\n      <td>N/A - non-malignant indication</td>\n      <td>No</td>\n      <td>nan</td>\n      <td>No</td>\n      <td>2.0</td>\n      <td>8.0</td>\n      <td>No TBI</td>\n      <td>No</td>\n      <td>6.0</td>\n      <td>...</td>\n      <td>90.0</td>\n      <td>No</td>\n      <td>nan</td>\n      <td>Unrelated</td>\n      <td>N/A, Mel not given</td>\n      <td>8.0</td>\n      <td>No</td>\n      <td>2.0</td>\n      <td>No</td>\n      <td>10.0</td>\n    </tr>\n    <tr>\n      <th>1</th>\n      <td>28801</td>\n      <td>Intermediate</td>\n      <td>No</td>\n      <td>Intermediate</td>\n      <td>No</td>\n      <td>2.0</td>\n      <td>8.0</td>\n      <td>TBI +- Other, &gt;cGy</td>\n      <td>No</td>\n      <td>6.0</td>\n      <td>...</td>\n      <td>90.0</td>\n      <td>No</td>\n      <td>Permissive mismatched</td>\n      <td>Related</td>\n      <td>N/A, Mel not given</td>\n      <td>8.0</td>\n      <td>No</td>\n      <td>2.0</td>\n      <td>Yes</td>\n      <td>10.0</td>\n    </tr>\n    <tr>\n      <th>2</th>\n      <td>28802</td>\n      <td>N/A - non-malignant indication</td>\n      <td>No</td>\n      <td>nan</td>\n      <td>No</td>\n      <td>2.0</td>\n      <td>8.0</td>\n      <td>No TBI</td>\n      <td>No</td>\n      <td>6.0</td>\n      <td>...</td>\n      <td>90.0</td>\n      <td>No</td>\n      <td>Permissive mismatched</td>\n      <td>Related</td>\n      <td>N/A, Mel not given</td>\n      <td>8.0</td>\n      <td>No</td>\n      <td>2.0</td>\n      <td>No</td>\n      <td>10.0</td>\n    </tr>\n  </tbody>\n</table>\n<p>3 rows × 58 columns</p>\n</div>"
     },
     "execution_count": 11,
     "metadata": {},
     "output_type": "execute_result"
    }
   ],
   "source": [
    "test"
   ],
   "metadata": {
    "collapsed": false,
    "ExecuteTime": {
     "end_time": "2024-12-31T18:32:01.328992300Z",
     "start_time": "2024-12-31T18:32:01.306408100Z"
    }
   },
   "id": "5895abe99dad0114",
   "execution_count": 11
  },
  {
   "cell_type": "code",
   "outputs": [],
   "source": [],
   "metadata": {
    "collapsed": false
   },
   "id": "ef04149dc52224c5"
  }
 ],
 "metadata": {
  "kernelspec": {
   "display_name": "Python 3",
   "language": "python",
   "name": "python3"
  },
  "language_info": {
   "codemirror_mode": {
    "name": "ipython",
    "version": 2
   },
   "file_extension": ".py",
   "mimetype": "text/x-python",
   "name": "python",
   "nbconvert_exporter": "python",
   "pygments_lexer": "ipython2",
   "version": "2.7.6"
  }
 },
 "nbformat": 4,
 "nbformat_minor": 5
}
