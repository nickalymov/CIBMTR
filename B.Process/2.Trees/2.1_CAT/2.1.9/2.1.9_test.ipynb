{
 "cells": [
  {
   "cell_type": "code",
   "outputs": [],
   "source": [
    "import os\n",
    "current_directory = os.getcwd()\n",
    "folder_name = os.path.basename(current_directory)\n",
    "number = folder_name"
   ],
   "metadata": {
    "collapsed": false,
    "ExecuteTime": {
     "end_time": "2024-12-31T19:05:38.542442Z",
     "start_time": "2024-12-31T19:05:38.504442Z"
    }
   },
   "id": "cb2065b8802f8251",
   "execution_count": 17
  },
  {
   "cell_type": "code",
   "outputs": [],
   "source": [
    "import platform\n",
    "platform_name = platform.system()"
   ],
   "metadata": {
    "collapsed": false,
    "ExecuteTime": {
     "end_time": "2024-12-31T19:05:38.542442Z",
     "start_time": "2024-12-31T19:05:38.522444600Z"
    }
   },
   "id": "c77f23bcf20968b4",
   "execution_count": 18
  },
  {
   "cell_type": "code",
   "outputs": [],
   "source": [
    "CONFIG = {\n",
    "    'test_path': 'test.csv',\n",
    "    'train_path': 'train.csv',\n",
    "\n",
    "    'DEVICE' : 'cuda',\n",
    "    'SEED' : 42,\n",
    "}\n",
    "if platform_name == 'Windows':\n",
    "    CONFIG['data_main'] = 'C:/Users/Николай/PycharmProjects/CIBMTR/D.Data/main/'\n",
    "    CONFIG['model_path'] = f\"{number}_model.pkl\"\n",
    "else:\n",
    "    CONFIG['data_main'] = '/kaggle/input/equity-post-HCT-survival-predictions/'\n",
    "    CONFIG['model_path'] = \"/kaggle/input/2.1.9_model.pkl/other/default/1/2.1.9_model.pkl\""
   ],
   "metadata": {
    "collapsed": false,
    "ExecuteTime": {
     "end_time": "2024-12-31T19:05:38.566442100Z",
     "start_time": "2024-12-31T19:05:38.539442Z"
    }
   },
   "id": "9174032d882584ac",
   "execution_count": 19
  },
  {
   "cell_type": "code",
   "outputs": [],
   "source": [
    "\n",
    "import pandas as pd\n",
    "import joblib "
   ],
   "metadata": {
    "collapsed": false,
    "ExecuteTime": {
     "end_time": "2024-12-31T19:05:38.574442Z",
     "start_time": "2024-12-31T19:05:38.556442500Z"
    }
   },
   "id": "b015da9f4c673f76",
   "execution_count": 20
  },
  {
   "cell_type": "code",
   "outputs": [],
   "source": [
    "train = pd.read_csv(f\"{CONFIG['data_main']}{CONFIG['train_path']}\")\n",
    "\n",
    "num_columns = ['y', 'efs', 'efs_time', 'ID', 'age_at_hct', 'donor_age']\n",
    "cat_columns = [col for col in train.columns if col not in num_columns]"
   ],
   "metadata": {
    "collapsed": false,
    "ExecuteTime": {
     "end_time": "2024-12-31T19:05:38.745442Z",
     "start_time": "2024-12-31T19:05:38.569442300Z"
    }
   },
   "id": "214abe3370778cbd",
   "execution_count": 21
  },
  {
   "cell_type": "code",
   "outputs": [],
   "source": [
    "test = pd.read_csv(f\"{CONFIG['data_main']}test.csv\")\n",
    "for col in test.columns: \n",
    "    if col in cat_columns:\n",
    "        test[col] = test[col].astype(str)\n",
    "        test[col] = test[col].fillna('-1')\n",
    "    elif col in num_columns:\n",
    "        test[col] = test[col].fillna(test[col].mode()[0])"
   ],
   "metadata": {
    "collapsed": false,
    "ExecuteTime": {
     "end_time": "2024-12-31T19:05:38.781443Z",
     "start_time": "2024-12-31T19:05:38.748442100Z"
    }
   },
   "id": "ac0fb31bb289572f",
   "execution_count": 22
  },
  {
   "cell_type": "code",
   "outputs": [],
   "source": [
    "final_cat = joblib.load(CONFIG['model_path'])"
   ],
   "metadata": {
    "collapsed": false,
    "ExecuteTime": {
     "end_time": "2024-12-31T19:05:38.793442Z",
     "start_time": "2024-12-31T19:05:38.778442300Z"
    }
   },
   "id": "c24795b246f48d95",
   "execution_count": 23
  },
  {
   "cell_type": "code",
   "outputs": [],
   "source": [
    "preds_test = final_cat.predict(test.drop(columns=['ID']))"
   ],
   "metadata": {
    "collapsed": false,
    "ExecuteTime": {
     "end_time": "2024-12-31T19:05:38.814442Z",
     "start_time": "2024-12-31T19:05:38.794442Z"
    }
   },
   "id": "887fcb1c03c25912",
   "execution_count": 24
  },
  {
   "cell_type": "code",
   "outputs": [],
   "source": [
    "y_pred = test[['ID']].copy(deep=True)\n",
    "y_pred[\"prediction\"] = preds_test\n",
    "y_pred.to_csv('submission.csv', index=False)"
   ],
   "metadata": {
    "collapsed": false,
    "ExecuteTime": {
     "end_time": "2024-12-31T19:05:38.823444100Z",
     "start_time": "2024-12-31T19:05:38.808445600Z"
    }
   },
   "id": "903cca0ce259731a",
   "execution_count": 25
  }
 ],
 "metadata": {
  "kernelspec": {
   "display_name": "Python 3",
   "language": "python",
   "name": "python3"
  },
  "language_info": {
   "codemirror_mode": {
    "name": "ipython",
    "version": 2
   },
   "file_extension": ".py",
   "mimetype": "text/x-python",
   "name": "python",
   "nbconvert_exporter": "python",
   "pygments_lexer": "ipython2",
   "version": "2.7.6"
  }
 },
 "nbformat": 4,
 "nbformat_minor": 5
}
