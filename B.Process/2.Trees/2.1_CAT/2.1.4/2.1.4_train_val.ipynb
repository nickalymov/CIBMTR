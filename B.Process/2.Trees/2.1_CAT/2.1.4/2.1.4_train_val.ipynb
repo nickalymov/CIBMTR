{
 "cells": [
  {
   "cell_type": "code",
   "outputs": [],
   "source": [
    "import os\n",
    "current_directory = os.getcwd()\n",
    "folder_name = os.path.basename(current_directory)\n",
    "number = folder_name"
   ],
   "metadata": {
    "collapsed": false,
    "ExecuteTime": {
     "end_time": "2024-12-30T15:31:38.811984500Z",
     "start_time": "2024-12-30T15:31:38.796964700Z"
    }
   },
   "id": "cb2065b8802f8251",
   "execution_count": 1
  },
  {
   "cell_type": "code",
   "outputs": [],
   "source": [
    "CONFIG = {\n",
    "    'data_main': 'C:/Users/Николай/PycharmProjects/CIBMTR/D.Data/main/',\n",
    "    'train_path': 'train.csv',\n",
    "\n",
    "    'DEVICE' : 'cuda',\n",
    "    'SEED' : 42,\n",
    "}"
   ],
   "metadata": {
    "collapsed": false,
    "ExecuteTime": {
     "end_time": "2024-12-30T15:31:38.827984Z",
     "start_time": "2024-12-30T15:31:38.811984500Z"
    }
   },
   "id": "9174032d882584ac",
   "execution_count": 2
  },
  {
   "cell_type": "code",
   "outputs": [],
   "source": [
    "from catboost import CatBoostRegressor\n",
    "import optuna\n",
    "import pandas as pd\n",
    "from sklearn.model_selection import StratifiedKFold\n",
    "import numpy as np\n",
    "import joblib \n",
    "from metric import score_\n",
    "from lifelines import KaplanMeierFitter"
   ],
   "metadata": {
    "collapsed": false,
    "ExecuteTime": {
     "end_time": "2024-12-30T15:31:39.130986600Z",
     "start_time": "2024-12-30T15:31:38.829984400Z"
    }
   },
   "id": "b015da9f4c673f76",
   "execution_count": 3
  },
  {
   "cell_type": "code",
   "outputs": [],
   "source": [
    "def transform_survival_probability(df, time_col='efs_time', event_col='efs'):\n",
    "    kmf = KaplanMeierFitter()\n",
    "    kmf.fit(df[time_col], df[event_col])\n",
    "    y = kmf.survival_function_at_times(df[time_col]).values\n",
    "    return y"
   ],
   "metadata": {
    "collapsed": false,
    "ExecuteTime": {
     "end_time": "2024-12-30T15:31:39.150018Z",
     "start_time": "2024-12-30T15:31:39.134988Z"
    }
   },
   "id": "8e5da4978bd8e1b0",
   "execution_count": 4
  },
  {
   "cell_type": "code",
   "outputs": [],
   "source": [
    "train = pd.read_csv(f\"{CONFIG['data_main']}{CONFIG['train_path']}\")\n",
    "    \n",
    "train[\"y\"] = transform_survival_probability(train, time_col='efs_time', event_col='efs')\n",
    "\n",
    "num_columns = [col for col in train.columns if pd.api.types.is_numeric_dtype(train[col])]\n",
    "cat_columns = [col for col in train.columns if col not in num_columns]"
   ],
   "metadata": {
    "collapsed": false,
    "ExecuteTime": {
     "end_time": "2024-12-30T15:31:39.351397100Z",
     "start_time": "2024-12-30T15:31:39.147018500Z"
    }
   },
   "id": "214abe3370778cbd",
   "execution_count": 5
  },
  {
   "cell_type": "code",
   "outputs": [
    {
     "data": {
      "text/plain": "(26, 35)"
     },
     "execution_count": 6,
     "metadata": {},
     "output_type": "execute_result"
    }
   ],
   "source": [
    "len(num_columns), len(cat_columns)"
   ],
   "metadata": {
    "collapsed": false,
    "ExecuteTime": {
     "end_time": "2024-12-30T15:31:39.371397400Z",
     "start_time": "2024-12-30T15:31:39.354397Z"
    }
   },
   "id": "5f9fc330146f12ae",
   "execution_count": 6
  },
  {
   "cell_type": "code",
   "outputs": [],
   "source": [
    "X = train.drop(columns=['y', 'efs', 'efs_time', 'ID'])\n",
    "\n",
    "for col in X.columns: \n",
    "    if col in cat_columns:\n",
    "        X[col] = X[col].astype(str)\n",
    "        X[col] = X[col].fillna('-1')\n",
    "    elif col in num_columns:\n",
    "        X[col] = X[col].fillna(X[col].mode()[0])\n",
    "\n",
    "y = train['y']"
   ],
   "metadata": {
    "collapsed": false,
    "ExecuteTime": {
     "end_time": "2024-12-30T15:31:39.511396900Z",
     "start_time": "2024-12-30T15:31:39.369397Z"
    }
   },
   "id": "eb925cb7123ec6",
   "execution_count": 7
  },
  {
   "cell_type": "code",
   "outputs": [],
   "source": [
    "n_splits = 5\n",
    "skf = StratifiedKFold(n_splits=n_splits, shuffle=True, random_state=CONFIG['SEED'])"
   ],
   "metadata": {
    "collapsed": false,
    "ExecuteTime": {
     "end_time": "2024-12-30T15:31:39.528397Z",
     "start_time": "2024-12-30T15:31:39.513396800Z"
    }
   },
   "id": "30d7e73c149b9248",
   "execution_count": 8
  },
  {
   "cell_type": "code",
   "outputs": [],
   "source": [
    "# Фиксированные параметры\n",
    "fixed_params = {\n",
    "    'model_size_reg': 0, # default=0.5, possible=[0, inf)\n",
    "    'rsm': 1, # default=1, possible=[0, inf), alias='colsample_bylevel'\n",
    "    'loss_function': 'RMSE', # default='RMSE\", possible=..., alias='objective'\n",
    "    'feature_border_type': 'GreedyLogSum', # default='GreedyLogSum  \", possible=['Median', 'Uniform', 'UniformAndQuantiles', 'MaxLogSum', 'MinEntropy', 'GreedyLogSum']\n",
    "    'nan_mode': 'Forbidden', # default='Min', possible=['Forbidden', 'Min', 'Max']\n",
    "    'leaf_estimation_method': 'Newton', # default=..., possible=['Newton', 'Gradient', 'Exact']\n",
    "    'random_seed': CONFIG['SEED'],\n",
    "    'use_best_model': False, # default=True, possible=[True, False]\n",
    "    'logging_level': 'Silent', # default=True, possible=[True, False]\n",
    "    'max_ctr_complexity': 15, # default=True, possible=[1, 16)\n",
    "    'one_hot_max_size': 50, # default=True, possible=[2, inf)\n",
    "    'random_strength' : 0, # default=1, possible=[0, inf)\n",
    "    'eval_metric': 'RMSE',\n",
    "    'allow_writing_files': False,\n",
    "    'task_type': 'GPU',\n",
    "    'bootstrap_type': 'Bayesian',\n",
    "    'early_stopping_rounds': 250,\n",
    "    'grow_policy': 'Lossguide', # default='SymmetricTree', possible=['SymmetricTree', 'Depthwise']\n",
    "    'score_function': 'NewtonL2', # default='Cosine', possible=['Cosine ', 'L2', 'NewtonCosine', 'NewtonL2']\n",
    "    'leaf_estimation_backtracking': 'AnyImprovement',\n",
    "    'boost_from_average': True\n",
    "}\n"
   ],
   "metadata": {
    "collapsed": false,
    "ExecuteTime": {
     "end_time": "2024-12-30T15:31:39.542397100Z",
     "start_time": "2024-12-30T15:31:39.528397Z"
    }
   },
   "id": "fcfa2d6ba97ee9c5",
   "execution_count": 9
  },
  {
   "cell_type": "code",
   "outputs": [],
   "source": [
    "def optimize_cat(trial):\n",
    "    params = {\n",
    "        'iterations': trial.suggest_int('iterations', 100, 10000), # default=1000, possible=[1, inf), alias=['num_boost_round', 'n_estimators', 'num_trees']\n",
    "        'learning_rate': trial.suggest_float('learning_rate', 0.001, 0.01), # default=0.03, alias='eta'\n",
    "        'depth': trial.suggest_int('depth', 6, 16), # default=6 (16 if Lossguide), possible=[1, 16], alias='max_depth'\n",
    "        'l2_leaf_reg': trial.suggest_float('l2_leaf_reg', 1e-5, 10), # default=3.0, alias=reg_lambda\n",
    "        'border_count': trial.suggest_int('border_count', 256, 1024), # default=128, possible=[0, 65535], alias='max_bin'\n",
    "        'leaf_estimation_iterations': trial.suggest_int('leaf_estimation_iterations', 1, 6),\n",
    "        'bagging_temperature': trial.suggest_float('bagging_temperature', 0.01, 1), # default=0.66, possible=[0, inf)\n",
    "        'max_leaves': trial.suggest_int('max_leaves', 31, 42), # default=31, possible=[?, inf), alias='num_leaves'\n",
    "    }\n",
    "    # Объединение оптимизированных и фиксированных параметров\n",
    "    final_params = {**fixed_params, **params}\n",
    "    \n",
    "    scores = []\n",
    "    \n",
    "    for train_idx, valid_idx in skf.split(X, train['race_group']):\n",
    "        X_train, X_valid = X.iloc[train_idx], X.iloc[valid_idx]\n",
    "        y_train, y_valid = y.iloc[train_idx], y.iloc[valid_idx]\n",
    "        \n",
    "        model = CatBoostRegressor(cat_features=cat_columns, **final_params)\n",
    "        model.fit(X_train, y_train, eval_set=[(X_valid, y_valid)], verbose=False)\n",
    "        \n",
    "        preds = model.predict(X_valid)\n",
    "        fold_score = score_(pd.DataFrame({'efs': train.iloc[valid_idx]['efs'].to_list(), \n",
    "                                          'efs_time' : train.iloc[valid_idx]['efs_time'].to_list(),\n",
    "                                          'race_group': train.iloc[valid_idx]['race_group'].to_list()}),\n",
    "                            pd.DataFrame(preds, columns=['prediction']))\n",
    "        scores.append(fold_score)\n",
    "    \n",
    "    return np.mean(scores)"
   ],
   "metadata": {
    "collapsed": false,
    "ExecuteTime": {
     "end_time": "2024-12-30T15:31:39.562397300Z",
     "start_time": "2024-12-30T15:31:39.549396900Z"
    }
   },
   "id": "cc9968ace3101cb7",
   "execution_count": 10
  },
  {
   "cell_type": "code",
   "outputs": [
    {
     "name": "stderr",
     "output_type": "stream",
     "text": [
      "[I 2024-12-30 18:31:39,560] A new study created in memory with name: no-name-5d1279a4-c2f5-46b3-9b42-048df961bde3\n",
      "[I 2024-12-30 18:35:01,778] Trial 0 finished with value: 0.6665210084049815 and parameters: {'iterations': 3808, 'learning_rate': 0.009556428757689247, 'depth': 14, 'l2_leaf_reg': 5.9865888553855235, 'border_count': 375, 'leaf_estimation_iterations': 1, 'bagging_temperature': 0.06750277604651747, 'max_leaves': 41}. Best is trial 0 with value: 0.6665210084049815.\n",
      "[I 2024-12-30 18:38:05,497] Trial 1 finished with value: 0.667062216322156 and parameters: {'iterations': 6051, 'learning_rate': 0.00737265320016441, 'depth': 6, 'l2_leaf_reg': 9.699098822521421, 'border_count': 896, 'leaf_estimation_iterations': 2, 'bagging_temperature': 0.19000671753502962, 'max_leaves': 33}. Best is trial 1 with value: 0.667062216322156.\n",
      "[I 2024-12-30 18:42:09,333] Trial 2 finished with value: 0.6687517348807528 and parameters: {'iterations': 3112, 'learning_rate': 0.005722807884690141, 'depth': 10, 'l2_leaf_reg': 2.912298489689017, 'border_count': 726, 'leaf_estimation_iterations': 1, 'bagging_temperature': 0.29922320204986597, 'max_leaves': 35}. Best is trial 2 with value: 0.6687517348807528.\n",
      "[I 2024-12-30 18:46:00,680] Trial 3 finished with value: 0.6691322593398421 and parameters: {'iterations': 4615, 'learning_rate': 0.008066583652537124, 'depth': 8, 'l2_leaf_reg': 5.142349241791732, 'border_count': 711, 'leaf_estimation_iterations': 1, 'bagging_temperature': 0.611469403382424, 'max_leaves': 33}. Best is trial 3 with value: 0.6691322593398421.\n",
      "[I 2024-12-30 18:47:06,134] Trial 4 finished with value: 0.6670448056413332 and parameters: {'iterations': 744, 'learning_rate': 0.00953996983528, 'depth': 16, 'l2_leaf_reg': 8.08397539719113, 'border_count': 490, 'leaf_estimation_iterations': 1, 'bagging_temperature': 0.6873906962470353, 'max_leaves': 36}. Best is trial 3 with value: 0.6691322593398421.\n",
      "[I 2024-12-30 18:48:49,859] Trial 5 finished with value: 0.6655359161949896 and parameters: {'iterations': 1308, 'learning_rate': 0.005456592191001432, 'depth': 6, 'l2_leaf_reg': 9.0932049275838, 'border_count': 455, 'leaf_estimation_iterations': 4, 'bagging_temperature': 0.31859396532851686, 'max_leaves': 37}. Best is trial 3 with value: 0.6691322593398421.\n",
      "[I 2024-12-30 18:57:58,205] Trial 6 finished with value: 0.6690629075747458 and parameters: {'iterations': 5512, 'learning_rate': 0.0026636900997297434, 'depth': 16, 'l2_leaf_reg': 7.751330482282912, 'border_count': 978, 'leaf_estimation_iterations': 6, 'bagging_temperature': 0.6019209790229743, 'max_leaves': 42}. Best is trial 3 with value: 0.6691322593398421.\n",
      "[I 2024-12-30 18:59:09,590] Trial 7 finished with value: 0.6557727200458812 and parameters: {'iterations': 976, 'learning_rate': 0.0027638457617723067, 'depth': 6, 'l2_leaf_reg': 3.253310054329336, 'border_count': 554, 'leaf_estimation_iterations': 2, 'bagging_temperature': 0.83045013406041, 'max_leaves': 35}. Best is trial 3 with value: 0.6691322593398421.\n",
      "[I 2024-12-30 19:02:43,821] Trial 8 finished with value: 0.6690436243595949 and parameters: {'iterations': 2881, 'learning_rate': 0.005884264748424237, 'depth': 7, 'l2_leaf_reg': 8.021971785570589, 'border_count': 313, 'leaf_estimation_iterations': 6, 'bagging_temperature': 0.7745223216036908, 'max_leaves': 33}. Best is trial 3 with value: 0.6691322593398421.\n",
      "[I 2024-12-30 19:03:00,521] Trial 9 finished with value: 0.6497858522219442 and parameters: {'iterations': 154, 'learning_rate': 0.008339152856093508, 'depth': 13, 'l2_leaf_reg': 7.290074390338193, 'border_count': 849, 'leaf_estimation_iterations': 1, 'bagging_temperature': 0.3648810712588299, 'max_leaves': 32}. Best is trial 3 with value: 0.6691322593398421.\n"
     ]
    }
   ],
   "source": [
    "study_cat = optuna.create_study(direction='maximize', sampler=optuna.samplers.TPESampler(seed=CONFIG['SEED']))\n",
    "study_cat.optimize(optimize_cat, n_trials=10)"
   ],
   "metadata": {
    "collapsed": false,
    "ExecuteTime": {
     "end_time": "2024-12-30T16:03:00.526569300Z",
     "start_time": "2024-12-30T15:31:39.559397100Z"
    }
   },
   "id": "6671f52e7d3c2b3a",
   "execution_count": 11
  },
  {
   "cell_type": "code",
   "outputs": [],
   "source": [
    "best_params_cat = study_cat.best_params\n",
    "final_params = {**fixed_params, **best_params_cat}  "
   ],
   "metadata": {
    "collapsed": false,
    "ExecuteTime": {
     "end_time": "2024-12-30T16:03:00.542145100Z",
     "start_time": "2024-12-30T16:03:00.530569400Z"
    }
   },
   "id": "95e24aa905f98c66",
   "execution_count": 12
  },
  {
   "cell_type": "code",
   "outputs": [
    {
     "data": {
      "text/plain": "<catboost.core.CatBoostRegressor at 0x28b1845a4a0>"
     },
     "execution_count": 13,
     "metadata": {},
     "output_type": "execute_result"
    }
   ],
   "source": [
    "final_cat = CatBoostRegressor(cat_features=cat_columns, **final_params)\n",
    "final_cat.fit(X, y)"
   ],
   "metadata": {
    "collapsed": false,
    "ExecuteTime": {
     "end_time": "2024-12-30T16:04:01.227902500Z",
     "start_time": "2024-12-30T16:03:00.544091300Z"
    }
   },
   "id": "97782c5be4517c4e",
   "execution_count": 13
  },
  {
   "cell_type": "code",
   "outputs": [],
   "source": [
    "final_cat.model_number = number"
   ],
   "metadata": {
    "collapsed": false,
    "ExecuteTime": {
     "end_time": "2024-12-30T16:04:01.242657800Z",
     "start_time": "2024-12-30T16:04:01.228902700Z"
    }
   },
   "id": "5077a3d58ed84201",
   "execution_count": 14
  },
  {
   "cell_type": "code",
   "outputs": [
    {
     "data": {
      "text/plain": "['2.1.4_model.pkl']"
     },
     "execution_count": 15,
     "metadata": {},
     "output_type": "execute_result"
    }
   ],
   "source": [
    "joblib.dump(final_cat, f\"{number}_model.pkl\")"
   ],
   "metadata": {
    "collapsed": false,
    "ExecuteTime": {
     "end_time": "2024-12-30T16:04:01.306525300Z",
     "start_time": "2024-12-30T16:04:01.244606800Z"
    }
   },
   "id": "2b2e3bf4e98d533d",
   "execution_count": 15
  },
  {
   "cell_type": "code",
   "outputs": [],
   "source": [
    "cat_importance = final_cat.get_feature_importance()"
   ],
   "metadata": {
    "collapsed": false,
    "ExecuteTime": {
     "end_time": "2024-12-30T16:04:01.449525500Z",
     "start_time": "2024-12-30T16:04:01.307525400Z"
    }
   },
   "id": "3e50b9cbcbd85c7f",
   "execution_count": 16
  },
  {
   "cell_type": "code",
   "outputs": [
    {
     "name": "stdout",
     "output_type": "stream",
     "text": [
      "CatBoost Feature Importances:\n",
      "                    Feature  Importance\n",
      "0                dri_score   13.843560\n",
      "26  conditioning_intensity    8.300962\n",
      "46       comorbidity_score    6.931820\n",
      "35               donor_age    6.782574\n",
      "39              age_at_hct    6.704062\n",
      "28                year_hct    5.876863\n",
      "47         karnofsky_score    4.181733\n",
      "25       cyto_score_detail    3.686174\n",
      "13        prim_disease_hct    3.002046\n",
      "2               cyto_score    2.805374\n",
      "43               sex_match    2.754533\n",
      "41              gvhd_proph    2.545289\n",
      "30                 mrd_hct    2.297843\n",
      "45              race_group    2.263122\n",
      "15              cmv_status    1.967225\n",
      "12             pulm_severe    1.625251\n",
      "50           donor_related    1.305301\n",
      "6               tbi_status    1.269590\n",
      "53                 cardiac    1.177309\n",
      "36             prior_tumor    1.140318\n",
      "7               arrhythmia    1.128358\n",
      "18           tce_imm_match    1.090381\n",
      "31             in_vivo_tcd    1.086242\n",
      "49           tce_div_match    1.056999\n",
      "3                 diabetes    1.023825\n",
      "19              hla_nmdp_6    0.996048\n",
      "32               tce_match    0.935759\n",
      "51          melphalan_dose    0.705934\n",
      "55           pulm_moderate    0.687079\n",
      "1            psych_disturb    0.672138\n",
      "9               graft_type    0.666018\n",
      "27               ethnicity    0.586781\n",
      "56          hla_low_res_10    0.579463\n",
      "16         hla_high_res_10    0.553886\n",
      "34          hepatic_severe    0.552768\n",
      "29                 obesity    0.540329\n",
      "48            hepatic_mild    0.530027\n",
      "33        hla_match_a_high    0.482204\n",
      "24               prod_type    0.463161\n",
      "40         hla_match_a_low    0.455929\n",
      "52           hla_low_res_8    0.397571\n",
      "42             rheum_issue    0.395700\n",
      "5           hla_high_res_8    0.358444\n",
      "21               rituximab    0.352038\n",
      "38            peptic_ulcer    0.328460\n",
      "10               vent_hist    0.321878\n",
      "23      hla_match_dqb1_low    0.290296\n",
      "4         hla_match_c_high    0.278859\n",
      "37         hla_match_b_low    0.264308\n",
      "14          hla_high_res_6    0.261727\n",
      "8            hla_low_res_6    0.250791\n",
      "54     hla_match_drb1_high    0.247737\n",
      "17     hla_match_dqb1_high    0.247167\n",
      "11             renal_issue    0.245605\n",
      "20         hla_match_c_low    0.203802\n",
      "44        hla_match_b_high    0.169715\n",
      "22      hla_match_drb1_low    0.131627\n"
     ]
    }
   ],
   "source": [
    "cat_importance_df = pd.DataFrame({\n",
    "    'Feature': X.columns,\n",
    "    'Importance': cat_importance\n",
    "}).sort_values(by='Importance', ascending=False)\n",
    "\n",
    "print(\"CatBoost Feature Importances:\\n\", cat_importance_df)"
   ],
   "metadata": {
    "collapsed": false,
    "ExecuteTime": {
     "end_time": "2024-12-30T16:04:01.464525400Z",
     "start_time": "2024-12-30T16:04:01.452525600Z"
    }
   },
   "id": "7b65d88176d2873f",
   "execution_count": 17
  },
  {
   "cell_type": "code",
   "outputs": [],
   "source": [
    "# auto_params = ['per_float_feature_quantization', 'input_borders', 'output_borders', 'fold_permutation_block', 'counter_calc_method', 'thread_count', 'best_model_min_trees', 'verbose', 'silent', 'metric_period', 'ctr_leaf_count_limit', 'store_all_simple_ctr', 'has_time', 'allow_const_label', 'target_border', 'random_score_type', 'name', 'ignored_features', 'train_dir', 'custom_metric', 'save_snapshot', 'snapshot_file', 'snapshot_interval', 'fold_len_multiplier', 'used_ram_limit', 'gpu_ram_part', 'pinned_memory_size', 'final_ctr_computation_mode', 'simple_ctr', 'combinations_ctr', 'per_feature_ctr', 'ctr_description', 'ctr_target_border_count', 'device_config', 'devices', 'subsample', 'mvs_reg', 'sampling_frequency', 'sampling_unit', 'subsampling_factor', 'dev_score_calc_obj_block_size', 'dev_efb_max_buckets', 'sparse_features_conflict_fraction', 'max_depth', 'n_estimators', 'num_boost_round', 'num_trees', 'colsample_bylevel', 'random_state', 'reg_lambda', 'reg_lambda', 'eta', 'max_bin', 'gpu_cat_features_storage', 'data_partition', 'metadata', 'min_data_in_leaf', 'min_child_samples', 'num_leaves', 'score_function', 'ctr_history_unit', 'monotone_constraints', 'feature_weights', 'penalties_coefficient', 'first_feature_use_penalties', 'per_object_feature_penalties', 'model_shrink_rate', 'model_shrink_mode', 'langevin', 'diffusion_temperature', 'posterior_sampling', 'text_features', 'tokenizers', 'dictionaries', 'feature_calcers', 'text_processing', 'embedding_features', 'eval_fraction', 'fixed_binary_splits', 'od_type', 'od_pval', 'od_wait', 'approx_on_full_history', 'boosting_type']"
   ],
   "metadata": {
    "collapsed": false,
    "ExecuteTime": {
     "end_time": "2024-12-30T16:04:01.488525700Z",
     "start_time": "2024-12-30T16:04:01.465525600Z"
    }
   },
   "id": "e3e9fd32b0938562",
   "execution_count": 18
  },
  {
   "cell_type": "code",
   "outputs": [],
   "source": [],
   "metadata": {
    "collapsed": false,
    "ExecuteTime": {
     "end_time": "2024-12-30T16:04:01.498525400Z",
     "start_time": "2024-12-30T16:04:01.482525700Z"
    }
   },
   "id": "5b10f800f371e6d1",
   "execution_count": 18
  }
 ],
 "metadata": {
  "kernelspec": {
   "display_name": "Python 3",
   "language": "python",
   "name": "python3"
  },
  "language_info": {
   "codemirror_mode": {
    "name": "ipython",
    "version": 2
   },
   "file_extension": ".py",
   "mimetype": "text/x-python",
   "name": "python",
   "nbconvert_exporter": "python",
   "pygments_lexer": "ipython2",
   "version": "2.7.6"
  }
 },
 "nbformat": 4,
 "nbformat_minor": 5
}
