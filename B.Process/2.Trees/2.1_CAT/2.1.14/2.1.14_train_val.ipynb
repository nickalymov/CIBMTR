{
 "cells": [
  {
   "cell_type": "code",
   "outputs": [],
   "source": [
    "import os\n",
    "current_directory = os.getcwd()\n",
    "folder_name = os.path.basename(current_directory)\n",
    "number = folder_name"
   ],
   "metadata": {
    "collapsed": false,
    "ExecuteTime": {
     "end_time": "2025-01-02T07:03:21.354947200Z",
     "start_time": "2025-01-02T07:03:21.340872700Z"
    }
   },
   "id": "cb2065b8802f8251",
   "execution_count": 1
  },
  {
   "cell_type": "code",
   "outputs": [],
   "source": [
    "CONFIG = {\n",
    "    'data_main': 'C:/Users/Николай/PycharmProjects/CIBMTR/D.Data/main/',\n",
    "    'train_path': 'train.csv',\n",
    "\n",
    "    'DEVICE' : 'cuda',\n",
    "    'SEED' : 42,\n",
    "}"
   ],
   "metadata": {
    "collapsed": false,
    "ExecuteTime": {
     "end_time": "2025-01-02T07:03:21.370858500Z",
     "start_time": "2025-01-02T07:03:21.355961600Z"
    }
   },
   "id": "9174032d882584ac",
   "execution_count": 2
  },
  {
   "cell_type": "code",
   "outputs": [],
   "source": [
    "from catboost import CatBoostRegressor\n",
    "import pandas as pd\n",
    "from sklearn.model_selection import StratifiedKFold\n",
    "import numpy as np\n",
    "import joblib \n",
    "from metric import score__\n",
    "from lifelines import KaplanMeierFitter"
   ],
   "metadata": {
    "collapsed": false,
    "ExecuteTime": {
     "end_time": "2025-01-02T07:03:22.005501Z",
     "start_time": "2025-01-02T07:03:21.371953500Z"
    }
   },
   "id": "b015da9f4c673f76",
   "execution_count": 3
  },
  {
   "cell_type": "code",
   "outputs": [],
   "source": [
    "train = pd.read_csv(f\"{CONFIG['data_main']}{CONFIG['train_path']}\")\n",
    "def transform_survival_probability(df, time_col='efs_time', event_col='efs'):\n",
    "\n",
    "    kmf = KaplanMeierFitter()\n",
    "    kmf.fit(df[time_col], event_observed=df[event_col])\n",
    "    survival_probabilities = kmf.survival_function_at_times(df[time_col]).values.flatten()\n",
    "    return survival_probabilities\n",
    "\n",
    "def update_target_with_survival_probabilities(df, time_col='efs_time', event_col='efs'):\n",
    "\n",
    "    race_group = sorted(df['race_group'].unique())\n",
    "    survival_probs_dict = {}\n",
    "    for race in race_group:\n",
    "        race_df = df[df['race_group'] == race]\n",
    "        survival_probs_dict[race] = transform_survival_probability(race_df, time_col, event_col)\n",
    "    for race in race_group:\n",
    "        df.loc[df['race_group'] == race, 'target'] = survival_probs_dict[race]\n",
    "    df.loc[df[event_col] == 0, 'target'] -= 0.15\n",
    "    \n",
    "    return df\n",
    "\n",
    "train = update_target_with_survival_probabilities(train, time_col='efs_time', event_col='efs')\n",
    "train.rename(columns={'target': 'y'}, inplace=True)\n",
    "train.drop(columns=['ID'], inplace=True)\n",
    "    \n",
    "\n",
    "num_columns = ['y', 'efs', 'efs_time', 'age_at_hct', 'donor_age']\n",
    "cat_columns = [col for col in train.columns if col not in num_columns]\n",
    "for col in train[['age_at_hct', 'donor_age']].columns:\n",
    "    train[col] = train[col].fillna(train[col].mode()[0])\n",
    "for col in train[cat_columns].columns:\n",
    "    train[col] = train[col].astype(str)\n",
    "    j_ch = ',[]{}:\"\\\\<'  # набор символов для удаления\n",
    "    for ch in j_ch:\n",
    "        train[col] = train[col].apply(lambda x: str(x).replace(ch, ''))\n",
    "train_one_hot = pd.get_dummies(train[cat_columns])\n",
    "cat_columns = list(train_one_hot.columns)\n",
    "train_one_hot = pd.concat([train_one_hot, train[['age_at_hct', 'donor_age']]], axis=1)"
   ],
   "metadata": {
    "collapsed": false,
    "ExecuteTime": {
     "end_time": "2025-01-02T07:03:24.270758Z",
     "start_time": "2025-01-02T07:03:22.010418700Z"
    }
   },
   "id": "214abe3370778cbd",
   "execution_count": 4
  },
  {
   "cell_type": "code",
   "outputs": [],
   "source": [
    "X = train_one_hot\n",
    "y = train['y']"
   ],
   "metadata": {
    "collapsed": false,
    "ExecuteTime": {
     "end_time": "2025-01-02T07:03:24.286372600Z",
     "start_time": "2025-01-02T07:03:24.274183400Z"
    }
   },
   "id": "eb925cb7123ec6",
   "execution_count": 5
  },
  {
   "cell_type": "code",
   "outputs": [],
   "source": [
    "n_splits = 5\n",
    "skf = StratifiedKFold(n_splits=n_splits, shuffle=True, random_state=CONFIG['SEED'])"
   ],
   "metadata": {
    "collapsed": false,
    "ExecuteTime": {
     "end_time": "2025-01-02T07:03:24.305331900Z",
     "start_time": "2025-01-02T07:03:24.288344700Z"
    }
   },
   "id": "30d7e73c149b9248",
   "execution_count": 6
  },
  {
   "cell_type": "code",
   "outputs": [],
   "source": [
    "fixed_params = {\n",
    "    'loss_function': 'RMSE', \n",
    "    'random_seed': CONFIG['SEED'],\n",
    "    'logging_level': 'Silent',      \n",
    "    'eval_metric': 'RMSE',\n",
    "    'allow_writing_files': False,\n",
    "    'task_type': 'GPU',\n",
    "}"
   ],
   "metadata": {
    "collapsed": false,
    "ExecuteTime": {
     "end_time": "2025-01-02T07:03:24.318333500Z",
     "start_time": "2025-01-02T07:03:24.305331900Z"
    }
   },
   "id": "fcfa2d6ba97ee9c5",
   "execution_count": 7
  },
  {
   "cell_type": "code",
   "outputs": [
    {
     "name": "stdout",
     "output_type": "stream",
     "text": [
      "Средний результат модели: 0.6832094177753787\n"
     ]
    }
   ],
   "source": [
    "# Объединение фиксированных параметров модели и гиперпараметров\n",
    "final_params = {**fixed_params}\n",
    "\n",
    "scores = []\n",
    "\n",
    "for train_idx, valid_idx in skf.split(X, train['race_group']):\n",
    "    X_train, X_valid = X.iloc[train_idx], X.iloc[valid_idx]\n",
    "    y_train, y_valid = y.iloc[train_idx], y.iloc[valid_idx]\n",
    "\n",
    "    model = CatBoostRegressor(cat_features=cat_columns, **final_params)\n",
    "    model.fit(X_train, y_train, eval_set=[(X_valid, y_valid)], verbose=False)\n",
    "\n",
    "    preds = model.predict(X_valid)\n",
    "    fold_score = score__(pd.DataFrame({'efs': train.iloc[valid_idx]['efs'].to_list(),\n",
    "                                       'efs_time': train.iloc[valid_idx]['efs_time'].to_list(),\n",
    "                                       'race_group': train.iloc[valid_idx]['race_group'].to_list()}),\n",
    "                         pd.DataFrame(preds, columns=['prediction']))\n",
    "    scores.append(fold_score)\n",
    "\n",
    "# Средний результат модели\n",
    "mean_score = np.mean(scores)\n",
    "print(f\"Средний результат модели: {mean_score}\")"
   ],
   "metadata": {
    "collapsed": false,
    "ExecuteTime": {
     "end_time": "2025-01-02T07:05:41.879592100Z",
     "start_time": "2025-01-02T07:03:24.323327Z"
    }
   },
   "id": "822442d754407434",
   "execution_count": 8
  },
  {
   "cell_type": "code",
   "outputs": [
    {
     "data": {
      "text/plain": "<catboost.core.CatBoostRegressor at 0x25f11c84670>"
     },
     "execution_count": 9,
     "metadata": {},
     "output_type": "execute_result"
    }
   ],
   "source": [
    "final_cat = CatBoostRegressor(cat_features=cat_columns, **fixed_params)\n",
    "final_cat.fit(X, y)"
   ],
   "metadata": {
    "collapsed": false,
    "ExecuteTime": {
     "end_time": "2025-01-02T07:06:08.976789Z",
     "start_time": "2025-01-02T07:05:41.877591500Z"
    }
   },
   "id": "97782c5be4517c4e",
   "execution_count": 9
  },
  {
   "cell_type": "code",
   "outputs": [
    {
     "data": {
      "text/plain": "['2.1.14_model.pkl']"
     },
     "execution_count": 10,
     "metadata": {},
     "output_type": "execute_result"
    }
   ],
   "source": [
    "joblib.dump(final_cat, f\"{number}_model.pkl\")"
   ],
   "metadata": {
    "collapsed": false,
    "ExecuteTime": {
     "end_time": "2025-01-02T07:06:09.023780100Z",
     "start_time": "2025-01-02T07:06:08.975795700Z"
    }
   },
   "id": "2b2e3bf4e98d533d",
   "execution_count": 10
  },
  {
   "cell_type": "code",
   "outputs": [],
   "source": [
    "cat_importance = final_cat.get_feature_importance()"
   ],
   "metadata": {
    "collapsed": false,
    "ExecuteTime": {
     "end_time": "2025-01-02T07:06:09.024780900Z",
     "start_time": "2025-01-02T07:06:08.992782800Z"
    }
   },
   "id": "3e50b9cbcbd85c7f",
   "execution_count": 11
  },
  {
   "cell_type": "code",
   "outputs": [
    {
     "name": "stdout",
     "output_type": "stream",
     "text": [
      "CatBoost Feature Importances:\n",
      "                         Feature  Importance\n",
      "157  conditioning_intensity_nan    6.322368\n",
      "316                   donor_age    4.854169\n",
      "0                dri_score_High    4.773905\n",
      "315                  age_at_hct    4.192219\n",
      "148      cyto_score_detail_Poor    2.204659\n",
      "..                          ...         ...\n",
      "38           hla_high_res_8_8.0    0.000000\n",
      "39           hla_high_res_8_nan    0.000000\n",
      "141      hla_match_dqb1_low_2.0    0.000000\n",
      "209            peptic_ulcer_nan    0.000000\n",
      "79         prim_disease_hct_IMD    0.000000\n",
      "\n",
      "[317 rows x 2 columns]\n"
     ]
    }
   ],
   "source": [
    "cat_importance_df = pd.DataFrame({\n",
    "    'Feature': X.columns,\n",
    "    'Importance': cat_importance\n",
    "}).sort_values(by='Importance', ascending=False)\n",
    "\n",
    "print(\"CatBoost Feature Importances:\\n\", cat_importance_df)"
   ],
   "metadata": {
    "collapsed": false,
    "ExecuteTime": {
     "end_time": "2025-01-02T07:06:09.025781500Z",
     "start_time": "2025-01-02T07:06:09.009783700Z"
    }
   },
   "id": "7b65d88176d2873f",
   "execution_count": 12
  },
  {
   "cell_type": "code",
   "outputs": [],
   "source": [
    "# auto_params = ['per_float_feature_quantization', 'input_borders', 'output_borders', 'fold_permutation_block', 'counter_calc_method', 'thread_count', 'best_model_min_trees', 'verbose', 'silent', 'metric_period', 'ctr_leaf_count_limit', 'store_all_simple_ctr', 'has_time', 'allow_const_label', 'target_border', 'random_score_type', 'name', 'ignored_features', 'train_dir', 'custom_metric', 'save_snapshot', 'snapshot_file', 'snapshot_interval', 'fold_len_multiplier', 'used_ram_limit', 'gpu_ram_part', 'pinned_memory_size', 'final_ctr_computation_mode', 'simple_ctr', 'combinations_ctr', 'per_feature_ctr', 'ctr_description', 'ctr_target_border_count', 'device_config', 'devices', 'subsample', 'mvs_reg', 'sampling_frequency', 'sampling_unit', 'subsampling_factor', 'dev_score_calc_obj_block_size', 'dev_efb_max_buckets', 'sparse_features_conflict_fraction', 'max_depth', 'n_estimators', 'num_boost_round', 'num_trees', 'colsample_bylevel', 'random_state', 'reg_lambda', 'reg_lambda', 'eta', 'max_bin', 'gpu_cat_features_storage', 'data_partition', 'metadata', 'min_data_in_leaf', 'min_child_samples', 'num_leaves', 'score_function', 'ctr_history_unit', 'monotone_constraints', 'feature_weights', 'penalties_coefficient', 'first_feature_use_penalties', 'per_object_feature_penalties', 'model_shrink_rate', 'model_shrink_mode', 'langevin', 'diffusion_temperature', 'posterior_sampling', 'text_features', 'tokenizers', 'dictionaries', 'feature_calcers', 'text_processing', 'embedding_features', 'eval_fraction', 'fixed_binary_splits', 'od_type', 'od_pval', 'od_wait', 'approx_on_full_history', 'boosting_type']"
   ],
   "metadata": {
    "collapsed": false,
    "ExecuteTime": {
     "end_time": "2025-01-02T07:06:09.057879500Z",
     "start_time": "2025-01-02T07:06:09.023780100Z"
    }
   },
   "id": "e3e9fd32b0938562",
   "execution_count": 13
  }
 ],
 "metadata": {
  "kernelspec": {
   "display_name": "Python 3",
   "language": "python",
   "name": "python3"
  },
  "language_info": {
   "codemirror_mode": {
    "name": "ipython",
    "version": 2
   },
   "file_extension": ".py",
   "mimetype": "text/x-python",
   "name": "python",
   "nbconvert_exporter": "python",
   "pygments_lexer": "ipython2",
   "version": "2.7.6"
  }
 },
 "nbformat": 4,
 "nbformat_minor": 5
}
