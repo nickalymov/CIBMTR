{
 "cells": [
  {
   "cell_type": "code",
   "outputs": [],
   "source": [
    "import os\n",
    "current_directory = os.getcwd()\n",
    "folder_name = os.path.basename(current_directory)\n",
    "number = folder_name"
   ],
   "metadata": {
    "collapsed": false,
    "ExecuteTime": {
     "end_time": "2025-01-02T06:59:10.652519200Z",
     "start_time": "2025-01-02T06:59:10.644427800Z"
    }
   },
   "id": "cb2065b8802f8251",
   "execution_count": 45
  },
  {
   "cell_type": "code",
   "outputs": [],
   "source": [
    "import platform\n",
    "platform_name = platform.system()"
   ],
   "metadata": {
    "collapsed": false,
    "ExecuteTime": {
     "end_time": "2025-01-02T06:59:10.690425500Z",
     "start_time": "2025-01-02T06:59:10.654501200Z"
    }
   },
   "id": "c77f23bcf20968b4",
   "execution_count": 46
  },
  {
   "cell_type": "code",
   "outputs": [],
   "source": [
    "CONFIG = {\n",
    "    'test_path': 'test.csv',\n",
    "    'train_path': 'train.csv',\n",
    "\n",
    "    'DEVICE' : 'cuda',\n",
    "    'SEED' : 42,\n",
    "}\n",
    "if platform_name == 'Windows':\n",
    "    CONFIG['data_main'] = 'C:/Users/Николай/PycharmProjects/CIBMTR/D.Data/main/'\n",
    "    CONFIG['model_path'] = f\"{number}_model.pkl\"\n",
    "else:\n",
    "    CONFIG['data_main'] = '/kaggle/input/equity-post-HCT-survival-predictions/'\n",
    "    CONFIG['model_path'] = \"/kaggle/input/2.1.13_model.pkl/other/default/1/2.1.13_model.pkl\""
   ],
   "metadata": {
    "collapsed": false,
    "ExecuteTime": {
     "end_time": "2025-01-02T06:59:10.691425500Z",
     "start_time": "2025-01-02T06:59:10.670427300Z"
    }
   },
   "id": "9174032d882584ac",
   "execution_count": 47
  },
  {
   "cell_type": "code",
   "outputs": [],
   "source": [
    "\n",
    "import pandas as pd\n",
    "import joblib "
   ],
   "metadata": {
    "collapsed": false,
    "ExecuteTime": {
     "end_time": "2025-01-02T06:59:10.711520300Z",
     "start_time": "2025-01-02T06:59:10.683425600Z"
    }
   },
   "id": "b015da9f4c673f76",
   "execution_count": 48
  },
  {
   "cell_type": "code",
   "outputs": [],
   "source": [
    "train = pd.read_csv(f\"{CONFIG['data_main']}{CONFIG['train_path']}\")\n",
    "train.drop(columns=['ID'], inplace=True)\n",
    "\n",
    "num_columns = ['y', 'efs', 'efs_time', 'age_at_hct', 'donor_age', 'ID']\n",
    "cat_columns = [col for col in train.columns if col not in num_columns]\n",
    "\n",
    "for col in train[['age_at_hct', 'donor_age']].columns:\n",
    "    train[col] = train[col].fillna(train[col].mode()[0])\n",
    "for col in train[cat_columns].columns:\n",
    "    train[col] = train[col].astype(str)\n",
    "    j_ch = ',[]{}:\"\\\\<'  # набор символов для удаления\n",
    "    for ch in j_ch:\n",
    "        train[col] = train[col].apply(lambda x: str(x).replace(ch, ''))\n",
    "train_one_hot = pd.get_dummies(train[cat_columns])\n",
    "train_one_hot = pd.concat([train_one_hot, train[['age_at_hct', 'donor_age']]], axis=1)"
   ],
   "metadata": {
    "collapsed": false,
    "ExecuteTime": {
     "end_time": "2025-01-02T06:59:12.842517800Z",
     "start_time": "2025-01-02T06:59:10.700431200Z"
    }
   },
   "id": "214abe3370778cbd",
   "execution_count": 49
  },
  {
   "cell_type": "code",
   "outputs": [
    {
     "name": "stderr",
     "output_type": "stream",
     "text": [
      "C:\\Users\\Николай\\AppData\\Local\\Temp\\ipykernel_9700\\2181879771.py:15: PerformanceWarning: DataFrame is highly fragmented.  This is usually the result of calling `frame.insert` many times, which has poor performance.  Consider joining all columns at once using pd.concat(axis=1) instead. To get a de-fragmented frame, use `newframe = frame.copy()`\n",
      "  test_one_hot[col] = False\n",
      "C:\\Users\\Николай\\AppData\\Local\\Temp\\ipykernel_9700\\2181879771.py:15: PerformanceWarning: DataFrame is highly fragmented.  This is usually the result of calling `frame.insert` many times, which has poor performance.  Consider joining all columns at once using pd.concat(axis=1) instead. To get a de-fragmented frame, use `newframe = frame.copy()`\n",
      "  test_one_hot[col] = False\n",
      "C:\\Users\\Николай\\AppData\\Local\\Temp\\ipykernel_9700\\2181879771.py:15: PerformanceWarning: DataFrame is highly fragmented.  This is usually the result of calling `frame.insert` many times, which has poor performance.  Consider joining all columns at once using pd.concat(axis=1) instead. To get a de-fragmented frame, use `newframe = frame.copy()`\n",
      "  test_one_hot[col] = False\n",
      "C:\\Users\\Николай\\AppData\\Local\\Temp\\ipykernel_9700\\2181879771.py:15: PerformanceWarning: DataFrame is highly fragmented.  This is usually the result of calling `frame.insert` many times, which has poor performance.  Consider joining all columns at once using pd.concat(axis=1) instead. To get a de-fragmented frame, use `newframe = frame.copy()`\n",
      "  test_one_hot[col] = False\n",
      "C:\\Users\\Николай\\AppData\\Local\\Temp\\ipykernel_9700\\2181879771.py:15: PerformanceWarning: DataFrame is highly fragmented.  This is usually the result of calling `frame.insert` many times, which has poor performance.  Consider joining all columns at once using pd.concat(axis=1) instead. To get a de-fragmented frame, use `newframe = frame.copy()`\n",
      "  test_one_hot[col] = False\n",
      "C:\\Users\\Николай\\AppData\\Local\\Temp\\ipykernel_9700\\2181879771.py:15: PerformanceWarning: DataFrame is highly fragmented.  This is usually the result of calling `frame.insert` many times, which has poor performance.  Consider joining all columns at once using pd.concat(axis=1) instead. To get a de-fragmented frame, use `newframe = frame.copy()`\n",
      "  test_one_hot[col] = False\n",
      "C:\\Users\\Николай\\AppData\\Local\\Temp\\ipykernel_9700\\2181879771.py:15: PerformanceWarning: DataFrame is highly fragmented.  This is usually the result of calling `frame.insert` many times, which has poor performance.  Consider joining all columns at once using pd.concat(axis=1) instead. To get a de-fragmented frame, use `newframe = frame.copy()`\n",
      "  test_one_hot[col] = False\n",
      "C:\\Users\\Николай\\AppData\\Local\\Temp\\ipykernel_9700\\2181879771.py:15: PerformanceWarning: DataFrame is highly fragmented.  This is usually the result of calling `frame.insert` many times, which has poor performance.  Consider joining all columns at once using pd.concat(axis=1) instead. To get a de-fragmented frame, use `newframe = frame.copy()`\n",
      "  test_one_hot[col] = False\n",
      "C:\\Users\\Николай\\AppData\\Local\\Temp\\ipykernel_9700\\2181879771.py:15: PerformanceWarning: DataFrame is highly fragmented.  This is usually the result of calling `frame.insert` many times, which has poor performance.  Consider joining all columns at once using pd.concat(axis=1) instead. To get a de-fragmented frame, use `newframe = frame.copy()`\n",
      "  test_one_hot[col] = False\n",
      "C:\\Users\\Николай\\AppData\\Local\\Temp\\ipykernel_9700\\2181879771.py:15: PerformanceWarning: DataFrame is highly fragmented.  This is usually the result of calling `frame.insert` many times, which has poor performance.  Consider joining all columns at once using pd.concat(axis=1) instead. To get a de-fragmented frame, use `newframe = frame.copy()`\n",
      "  test_one_hot[col] = False\n",
      "C:\\Users\\Николай\\AppData\\Local\\Temp\\ipykernel_9700\\2181879771.py:15: PerformanceWarning: DataFrame is highly fragmented.  This is usually the result of calling `frame.insert` many times, which has poor performance.  Consider joining all columns at once using pd.concat(axis=1) instead. To get a de-fragmented frame, use `newframe = frame.copy()`\n",
      "  test_one_hot[col] = False\n",
      "C:\\Users\\Николай\\AppData\\Local\\Temp\\ipykernel_9700\\2181879771.py:15: PerformanceWarning: DataFrame is highly fragmented.  This is usually the result of calling `frame.insert` many times, which has poor performance.  Consider joining all columns at once using pd.concat(axis=1) instead. To get a de-fragmented frame, use `newframe = frame.copy()`\n",
      "  test_one_hot[col] = False\n",
      "C:\\Users\\Николай\\AppData\\Local\\Temp\\ipykernel_9700\\2181879771.py:15: PerformanceWarning: DataFrame is highly fragmented.  This is usually the result of calling `frame.insert` many times, which has poor performance.  Consider joining all columns at once using pd.concat(axis=1) instead. To get a de-fragmented frame, use `newframe = frame.copy()`\n",
      "  test_one_hot[col] = False\n",
      "C:\\Users\\Николай\\AppData\\Local\\Temp\\ipykernel_9700\\2181879771.py:15: PerformanceWarning: DataFrame is highly fragmented.  This is usually the result of calling `frame.insert` many times, which has poor performance.  Consider joining all columns at once using pd.concat(axis=1) instead. To get a de-fragmented frame, use `newframe = frame.copy()`\n",
      "  test_one_hot[col] = False\n",
      "C:\\Users\\Николай\\AppData\\Local\\Temp\\ipykernel_9700\\2181879771.py:15: PerformanceWarning: DataFrame is highly fragmented.  This is usually the result of calling `frame.insert` many times, which has poor performance.  Consider joining all columns at once using pd.concat(axis=1) instead. To get a de-fragmented frame, use `newframe = frame.copy()`\n",
      "  test_one_hot[col] = False\n",
      "C:\\Users\\Николай\\AppData\\Local\\Temp\\ipykernel_9700\\2181879771.py:15: PerformanceWarning: DataFrame is highly fragmented.  This is usually the result of calling `frame.insert` many times, which has poor performance.  Consider joining all columns at once using pd.concat(axis=1) instead. To get a de-fragmented frame, use `newframe = frame.copy()`\n",
      "  test_one_hot[col] = False\n",
      "C:\\Users\\Николай\\AppData\\Local\\Temp\\ipykernel_9700\\2181879771.py:15: PerformanceWarning: DataFrame is highly fragmented.  This is usually the result of calling `frame.insert` many times, which has poor performance.  Consider joining all columns at once using pd.concat(axis=1) instead. To get a de-fragmented frame, use `newframe = frame.copy()`\n",
      "  test_one_hot[col] = False\n",
      "C:\\Users\\Николай\\AppData\\Local\\Temp\\ipykernel_9700\\2181879771.py:15: PerformanceWarning: DataFrame is highly fragmented.  This is usually the result of calling `frame.insert` many times, which has poor performance.  Consider joining all columns at once using pd.concat(axis=1) instead. To get a de-fragmented frame, use `newframe = frame.copy()`\n",
      "  test_one_hot[col] = False\n",
      "C:\\Users\\Николай\\AppData\\Local\\Temp\\ipykernel_9700\\2181879771.py:15: PerformanceWarning: DataFrame is highly fragmented.  This is usually the result of calling `frame.insert` many times, which has poor performance.  Consider joining all columns at once using pd.concat(axis=1) instead. To get a de-fragmented frame, use `newframe = frame.copy()`\n",
      "  test_one_hot[col] = False\n",
      "C:\\Users\\Николай\\AppData\\Local\\Temp\\ipykernel_9700\\2181879771.py:15: PerformanceWarning: DataFrame is highly fragmented.  This is usually the result of calling `frame.insert` many times, which has poor performance.  Consider joining all columns at once using pd.concat(axis=1) instead. To get a de-fragmented frame, use `newframe = frame.copy()`\n",
      "  test_one_hot[col] = False\n",
      "C:\\Users\\Николай\\AppData\\Local\\Temp\\ipykernel_9700\\2181879771.py:15: PerformanceWarning: DataFrame is highly fragmented.  This is usually the result of calling `frame.insert` many times, which has poor performance.  Consider joining all columns at once using pd.concat(axis=1) instead. To get a de-fragmented frame, use `newframe = frame.copy()`\n",
      "  test_one_hot[col] = False\n",
      "C:\\Users\\Николай\\AppData\\Local\\Temp\\ipykernel_9700\\2181879771.py:15: PerformanceWarning: DataFrame is highly fragmented.  This is usually the result of calling `frame.insert` many times, which has poor performance.  Consider joining all columns at once using pd.concat(axis=1) instead. To get a de-fragmented frame, use `newframe = frame.copy()`\n",
      "  test_one_hot[col] = False\n",
      "C:\\Users\\Николай\\AppData\\Local\\Temp\\ipykernel_9700\\2181879771.py:15: PerformanceWarning: DataFrame is highly fragmented.  This is usually the result of calling `frame.insert` many times, which has poor performance.  Consider joining all columns at once using pd.concat(axis=1) instead. To get a de-fragmented frame, use `newframe = frame.copy()`\n",
      "  test_one_hot[col] = False\n",
      "C:\\Users\\Николай\\AppData\\Local\\Temp\\ipykernel_9700\\2181879771.py:15: PerformanceWarning: DataFrame is highly fragmented.  This is usually the result of calling `frame.insert` many times, which has poor performance.  Consider joining all columns at once using pd.concat(axis=1) instead. To get a de-fragmented frame, use `newframe = frame.copy()`\n",
      "  test_one_hot[col] = False\n",
      "C:\\Users\\Николай\\AppData\\Local\\Temp\\ipykernel_9700\\2181879771.py:15: PerformanceWarning: DataFrame is highly fragmented.  This is usually the result of calling `frame.insert` many times, which has poor performance.  Consider joining all columns at once using pd.concat(axis=1) instead. To get a de-fragmented frame, use `newframe = frame.copy()`\n",
      "  test_one_hot[col] = False\n",
      "C:\\Users\\Николай\\AppData\\Local\\Temp\\ipykernel_9700\\2181879771.py:15: PerformanceWarning: DataFrame is highly fragmented.  This is usually the result of calling `frame.insert` many times, which has poor performance.  Consider joining all columns at once using pd.concat(axis=1) instead. To get a de-fragmented frame, use `newframe = frame.copy()`\n",
      "  test_one_hot[col] = False\n",
      "C:\\Users\\Николай\\AppData\\Local\\Temp\\ipykernel_9700\\2181879771.py:15: PerformanceWarning: DataFrame is highly fragmented.  This is usually the result of calling `frame.insert` many times, which has poor performance.  Consider joining all columns at once using pd.concat(axis=1) instead. To get a de-fragmented frame, use `newframe = frame.copy()`\n",
      "  test_one_hot[col] = False\n",
      "C:\\Users\\Николай\\AppData\\Local\\Temp\\ipykernel_9700\\2181879771.py:15: PerformanceWarning: DataFrame is highly fragmented.  This is usually the result of calling `frame.insert` many times, which has poor performance.  Consider joining all columns at once using pd.concat(axis=1) instead. To get a de-fragmented frame, use `newframe = frame.copy()`\n",
      "  test_one_hot[col] = False\n",
      "C:\\Users\\Николай\\AppData\\Local\\Temp\\ipykernel_9700\\2181879771.py:15: PerformanceWarning: DataFrame is highly fragmented.  This is usually the result of calling `frame.insert` many times, which has poor performance.  Consider joining all columns at once using pd.concat(axis=1) instead. To get a de-fragmented frame, use `newframe = frame.copy()`\n",
      "  test_one_hot[col] = False\n",
      "C:\\Users\\Николай\\AppData\\Local\\Temp\\ipykernel_9700\\2181879771.py:15: PerformanceWarning: DataFrame is highly fragmented.  This is usually the result of calling `frame.insert` many times, which has poor performance.  Consider joining all columns at once using pd.concat(axis=1) instead. To get a de-fragmented frame, use `newframe = frame.copy()`\n",
      "  test_one_hot[col] = False\n",
      "C:\\Users\\Николай\\AppData\\Local\\Temp\\ipykernel_9700\\2181879771.py:15: PerformanceWarning: DataFrame is highly fragmented.  This is usually the result of calling `frame.insert` many times, which has poor performance.  Consider joining all columns at once using pd.concat(axis=1) instead. To get a de-fragmented frame, use `newframe = frame.copy()`\n",
      "  test_one_hot[col] = False\n",
      "C:\\Users\\Николай\\AppData\\Local\\Temp\\ipykernel_9700\\2181879771.py:15: PerformanceWarning: DataFrame is highly fragmented.  This is usually the result of calling `frame.insert` many times, which has poor performance.  Consider joining all columns at once using pd.concat(axis=1) instead. To get a de-fragmented frame, use `newframe = frame.copy()`\n",
      "  test_one_hot[col] = False\n",
      "C:\\Users\\Николай\\AppData\\Local\\Temp\\ipykernel_9700\\2181879771.py:15: PerformanceWarning: DataFrame is highly fragmented.  This is usually the result of calling `frame.insert` many times, which has poor performance.  Consider joining all columns at once using pd.concat(axis=1) instead. To get a de-fragmented frame, use `newframe = frame.copy()`\n",
      "  test_one_hot[col] = False\n",
      "C:\\Users\\Николай\\AppData\\Local\\Temp\\ipykernel_9700\\2181879771.py:15: PerformanceWarning: DataFrame is highly fragmented.  This is usually the result of calling `frame.insert` many times, which has poor performance.  Consider joining all columns at once using pd.concat(axis=1) instead. To get a de-fragmented frame, use `newframe = frame.copy()`\n",
      "  test_one_hot[col] = False\n",
      "C:\\Users\\Николай\\AppData\\Local\\Temp\\ipykernel_9700\\2181879771.py:15: PerformanceWarning: DataFrame is highly fragmented.  This is usually the result of calling `frame.insert` many times, which has poor performance.  Consider joining all columns at once using pd.concat(axis=1) instead. To get a de-fragmented frame, use `newframe = frame.copy()`\n",
      "  test_one_hot[col] = False\n",
      "C:\\Users\\Николай\\AppData\\Local\\Temp\\ipykernel_9700\\2181879771.py:15: PerformanceWarning: DataFrame is highly fragmented.  This is usually the result of calling `frame.insert` many times, which has poor performance.  Consider joining all columns at once using pd.concat(axis=1) instead. To get a de-fragmented frame, use `newframe = frame.copy()`\n",
      "  test_one_hot[col] = False\n",
      "C:\\Users\\Николай\\AppData\\Local\\Temp\\ipykernel_9700\\2181879771.py:15: PerformanceWarning: DataFrame is highly fragmented.  This is usually the result of calling `frame.insert` many times, which has poor performance.  Consider joining all columns at once using pd.concat(axis=1) instead. To get a de-fragmented frame, use `newframe = frame.copy()`\n",
      "  test_one_hot[col] = False\n",
      "C:\\Users\\Николай\\AppData\\Local\\Temp\\ipykernel_9700\\2181879771.py:15: PerformanceWarning: DataFrame is highly fragmented.  This is usually the result of calling `frame.insert` many times, which has poor performance.  Consider joining all columns at once using pd.concat(axis=1) instead. To get a de-fragmented frame, use `newframe = frame.copy()`\n",
      "  test_one_hot[col] = False\n",
      "C:\\Users\\Николай\\AppData\\Local\\Temp\\ipykernel_9700\\2181879771.py:15: PerformanceWarning: DataFrame is highly fragmented.  This is usually the result of calling `frame.insert` many times, which has poor performance.  Consider joining all columns at once using pd.concat(axis=1) instead. To get a de-fragmented frame, use `newframe = frame.copy()`\n",
      "  test_one_hot[col] = False\n",
      "C:\\Users\\Николай\\AppData\\Local\\Temp\\ipykernel_9700\\2181879771.py:15: PerformanceWarning: DataFrame is highly fragmented.  This is usually the result of calling `frame.insert` many times, which has poor performance.  Consider joining all columns at once using pd.concat(axis=1) instead. To get a de-fragmented frame, use `newframe = frame.copy()`\n",
      "  test_one_hot[col] = False\n",
      "C:\\Users\\Николай\\AppData\\Local\\Temp\\ipykernel_9700\\2181879771.py:15: PerformanceWarning: DataFrame is highly fragmented.  This is usually the result of calling `frame.insert` many times, which has poor performance.  Consider joining all columns at once using pd.concat(axis=1) instead. To get a de-fragmented frame, use `newframe = frame.copy()`\n",
      "  test_one_hot[col] = False\n",
      "C:\\Users\\Николай\\AppData\\Local\\Temp\\ipykernel_9700\\2181879771.py:15: PerformanceWarning: DataFrame is highly fragmented.  This is usually the result of calling `frame.insert` many times, which has poor performance.  Consider joining all columns at once using pd.concat(axis=1) instead. To get a de-fragmented frame, use `newframe = frame.copy()`\n",
      "  test_one_hot[col] = False\n",
      "C:\\Users\\Николай\\AppData\\Local\\Temp\\ipykernel_9700\\2181879771.py:15: PerformanceWarning: DataFrame is highly fragmented.  This is usually the result of calling `frame.insert` many times, which has poor performance.  Consider joining all columns at once using pd.concat(axis=1) instead. To get a de-fragmented frame, use `newframe = frame.copy()`\n",
      "  test_one_hot[col] = False\n",
      "C:\\Users\\Николай\\AppData\\Local\\Temp\\ipykernel_9700\\2181879771.py:15: PerformanceWarning: DataFrame is highly fragmented.  This is usually the result of calling `frame.insert` many times, which has poor performance.  Consider joining all columns at once using pd.concat(axis=1) instead. To get a de-fragmented frame, use `newframe = frame.copy()`\n",
      "  test_one_hot[col] = False\n",
      "C:\\Users\\Николай\\AppData\\Local\\Temp\\ipykernel_9700\\2181879771.py:15: PerformanceWarning: DataFrame is highly fragmented.  This is usually the result of calling `frame.insert` many times, which has poor performance.  Consider joining all columns at once using pd.concat(axis=1) instead. To get a de-fragmented frame, use `newframe = frame.copy()`\n",
      "  test_one_hot[col] = False\n",
      "C:\\Users\\Николай\\AppData\\Local\\Temp\\ipykernel_9700\\2181879771.py:15: PerformanceWarning: DataFrame is highly fragmented.  This is usually the result of calling `frame.insert` many times, which has poor performance.  Consider joining all columns at once using pd.concat(axis=1) instead. To get a de-fragmented frame, use `newframe = frame.copy()`\n",
      "  test_one_hot[col] = False\n",
      "C:\\Users\\Николай\\AppData\\Local\\Temp\\ipykernel_9700\\2181879771.py:15: PerformanceWarning: DataFrame is highly fragmented.  This is usually the result of calling `frame.insert` many times, which has poor performance.  Consider joining all columns at once using pd.concat(axis=1) instead. To get a de-fragmented frame, use `newframe = frame.copy()`\n",
      "  test_one_hot[col] = False\n",
      "C:\\Users\\Николай\\AppData\\Local\\Temp\\ipykernel_9700\\2181879771.py:15: PerformanceWarning: DataFrame is highly fragmented.  This is usually the result of calling `frame.insert` many times, which has poor performance.  Consider joining all columns at once using pd.concat(axis=1) instead. To get a de-fragmented frame, use `newframe = frame.copy()`\n",
      "  test_one_hot[col] = False\n",
      "C:\\Users\\Николай\\AppData\\Local\\Temp\\ipykernel_9700\\2181879771.py:15: PerformanceWarning: DataFrame is highly fragmented.  This is usually the result of calling `frame.insert` many times, which has poor performance.  Consider joining all columns at once using pd.concat(axis=1) instead. To get a de-fragmented frame, use `newframe = frame.copy()`\n",
      "  test_one_hot[col] = False\n",
      "C:\\Users\\Николай\\AppData\\Local\\Temp\\ipykernel_9700\\2181879771.py:15: PerformanceWarning: DataFrame is highly fragmented.  This is usually the result of calling `frame.insert` many times, which has poor performance.  Consider joining all columns at once using pd.concat(axis=1) instead. To get a de-fragmented frame, use `newframe = frame.copy()`\n",
      "  test_one_hot[col] = False\n",
      "C:\\Users\\Николай\\AppData\\Local\\Temp\\ipykernel_9700\\2181879771.py:15: PerformanceWarning: DataFrame is highly fragmented.  This is usually the result of calling `frame.insert` many times, which has poor performance.  Consider joining all columns at once using pd.concat(axis=1) instead. To get a de-fragmented frame, use `newframe = frame.copy()`\n",
      "  test_one_hot[col] = False\n",
      "C:\\Users\\Николай\\AppData\\Local\\Temp\\ipykernel_9700\\2181879771.py:15: PerformanceWarning: DataFrame is highly fragmented.  This is usually the result of calling `frame.insert` many times, which has poor performance.  Consider joining all columns at once using pd.concat(axis=1) instead. To get a de-fragmented frame, use `newframe = frame.copy()`\n",
      "  test_one_hot[col] = False\n",
      "C:\\Users\\Николай\\AppData\\Local\\Temp\\ipykernel_9700\\2181879771.py:15: PerformanceWarning: DataFrame is highly fragmented.  This is usually the result of calling `frame.insert` many times, which has poor performance.  Consider joining all columns at once using pd.concat(axis=1) instead. To get a de-fragmented frame, use `newframe = frame.copy()`\n",
      "  test_one_hot[col] = False\n",
      "C:\\Users\\Николай\\AppData\\Local\\Temp\\ipykernel_9700\\2181879771.py:15: PerformanceWarning: DataFrame is highly fragmented.  This is usually the result of calling `frame.insert` many times, which has poor performance.  Consider joining all columns at once using pd.concat(axis=1) instead. To get a de-fragmented frame, use `newframe = frame.copy()`\n",
      "  test_one_hot[col] = False\n",
      "C:\\Users\\Николай\\AppData\\Local\\Temp\\ipykernel_9700\\2181879771.py:15: PerformanceWarning: DataFrame is highly fragmented.  This is usually the result of calling `frame.insert` many times, which has poor performance.  Consider joining all columns at once using pd.concat(axis=1) instead. To get a de-fragmented frame, use `newframe = frame.copy()`\n",
      "  test_one_hot[col] = False\n",
      "C:\\Users\\Николай\\AppData\\Local\\Temp\\ipykernel_9700\\2181879771.py:15: PerformanceWarning: DataFrame is highly fragmented.  This is usually the result of calling `frame.insert` many times, which has poor performance.  Consider joining all columns at once using pd.concat(axis=1) instead. To get a de-fragmented frame, use `newframe = frame.copy()`\n",
      "  test_one_hot[col] = False\n",
      "C:\\Users\\Николай\\AppData\\Local\\Temp\\ipykernel_9700\\2181879771.py:15: PerformanceWarning: DataFrame is highly fragmented.  This is usually the result of calling `frame.insert` many times, which has poor performance.  Consider joining all columns at once using pd.concat(axis=1) instead. To get a de-fragmented frame, use `newframe = frame.copy()`\n",
      "  test_one_hot[col] = False\n",
      "C:\\Users\\Николай\\AppData\\Local\\Temp\\ipykernel_9700\\2181879771.py:15: PerformanceWarning: DataFrame is highly fragmented.  This is usually the result of calling `frame.insert` many times, which has poor performance.  Consider joining all columns at once using pd.concat(axis=1) instead. To get a de-fragmented frame, use `newframe = frame.copy()`\n",
      "  test_one_hot[col] = False\n",
      "C:\\Users\\Николай\\AppData\\Local\\Temp\\ipykernel_9700\\2181879771.py:15: PerformanceWarning: DataFrame is highly fragmented.  This is usually the result of calling `frame.insert` many times, which has poor performance.  Consider joining all columns at once using pd.concat(axis=1) instead. To get a de-fragmented frame, use `newframe = frame.copy()`\n",
      "  test_one_hot[col] = False\n",
      "C:\\Users\\Николай\\AppData\\Local\\Temp\\ipykernel_9700\\2181879771.py:15: PerformanceWarning: DataFrame is highly fragmented.  This is usually the result of calling `frame.insert` many times, which has poor performance.  Consider joining all columns at once using pd.concat(axis=1) instead. To get a de-fragmented frame, use `newframe = frame.copy()`\n",
      "  test_one_hot[col] = False\n",
      "C:\\Users\\Николай\\AppData\\Local\\Temp\\ipykernel_9700\\2181879771.py:15: PerformanceWarning: DataFrame is highly fragmented.  This is usually the result of calling `frame.insert` many times, which has poor performance.  Consider joining all columns at once using pd.concat(axis=1) instead. To get a de-fragmented frame, use `newframe = frame.copy()`\n",
      "  test_one_hot[col] = False\n",
      "C:\\Users\\Николай\\AppData\\Local\\Temp\\ipykernel_9700\\2181879771.py:15: PerformanceWarning: DataFrame is highly fragmented.  This is usually the result of calling `frame.insert` many times, which has poor performance.  Consider joining all columns at once using pd.concat(axis=1) instead. To get a de-fragmented frame, use `newframe = frame.copy()`\n",
      "  test_one_hot[col] = False\n",
      "C:\\Users\\Николай\\AppData\\Local\\Temp\\ipykernel_9700\\2181879771.py:15: PerformanceWarning: DataFrame is highly fragmented.  This is usually the result of calling `frame.insert` many times, which has poor performance.  Consider joining all columns at once using pd.concat(axis=1) instead. To get a de-fragmented frame, use `newframe = frame.copy()`\n",
      "  test_one_hot[col] = False\n",
      "C:\\Users\\Николай\\AppData\\Local\\Temp\\ipykernel_9700\\2181879771.py:15: PerformanceWarning: DataFrame is highly fragmented.  This is usually the result of calling `frame.insert` many times, which has poor performance.  Consider joining all columns at once using pd.concat(axis=1) instead. To get a de-fragmented frame, use `newframe = frame.copy()`\n",
      "  test_one_hot[col] = False\n",
      "C:\\Users\\Николай\\AppData\\Local\\Temp\\ipykernel_9700\\2181879771.py:15: PerformanceWarning: DataFrame is highly fragmented.  This is usually the result of calling `frame.insert` many times, which has poor performance.  Consider joining all columns at once using pd.concat(axis=1) instead. To get a de-fragmented frame, use `newframe = frame.copy()`\n",
      "  test_one_hot[col] = False\n",
      "C:\\Users\\Николай\\AppData\\Local\\Temp\\ipykernel_9700\\2181879771.py:15: PerformanceWarning: DataFrame is highly fragmented.  This is usually the result of calling `frame.insert` many times, which has poor performance.  Consider joining all columns at once using pd.concat(axis=1) instead. To get a de-fragmented frame, use `newframe = frame.copy()`\n",
      "  test_one_hot[col] = False\n",
      "C:\\Users\\Николай\\AppData\\Local\\Temp\\ipykernel_9700\\2181879771.py:15: PerformanceWarning: DataFrame is highly fragmented.  This is usually the result of calling `frame.insert` many times, which has poor performance.  Consider joining all columns at once using pd.concat(axis=1) instead. To get a de-fragmented frame, use `newframe = frame.copy()`\n",
      "  test_one_hot[col] = False\n",
      "C:\\Users\\Николай\\AppData\\Local\\Temp\\ipykernel_9700\\2181879771.py:15: PerformanceWarning: DataFrame is highly fragmented.  This is usually the result of calling `frame.insert` many times, which has poor performance.  Consider joining all columns at once using pd.concat(axis=1) instead. To get a de-fragmented frame, use `newframe = frame.copy()`\n",
      "  test_one_hot[col] = False\n",
      "C:\\Users\\Николай\\AppData\\Local\\Temp\\ipykernel_9700\\2181879771.py:15: PerformanceWarning: DataFrame is highly fragmented.  This is usually the result of calling `frame.insert` many times, which has poor performance.  Consider joining all columns at once using pd.concat(axis=1) instead. To get a de-fragmented frame, use `newframe = frame.copy()`\n",
      "  test_one_hot[col] = False\n",
      "C:\\Users\\Николай\\AppData\\Local\\Temp\\ipykernel_9700\\2181879771.py:15: PerformanceWarning: DataFrame is highly fragmented.  This is usually the result of calling `frame.insert` many times, which has poor performance.  Consider joining all columns at once using pd.concat(axis=1) instead. To get a de-fragmented frame, use `newframe = frame.copy()`\n",
      "  test_one_hot[col] = False\n",
      "C:\\Users\\Николай\\AppData\\Local\\Temp\\ipykernel_9700\\2181879771.py:15: PerformanceWarning: DataFrame is highly fragmented.  This is usually the result of calling `frame.insert` many times, which has poor performance.  Consider joining all columns at once using pd.concat(axis=1) instead. To get a de-fragmented frame, use `newframe = frame.copy()`\n",
      "  test_one_hot[col] = False\n",
      "C:\\Users\\Николай\\AppData\\Local\\Temp\\ipykernel_9700\\2181879771.py:15: PerformanceWarning: DataFrame is highly fragmented.  This is usually the result of calling `frame.insert` many times, which has poor performance.  Consider joining all columns at once using pd.concat(axis=1) instead. To get a de-fragmented frame, use `newframe = frame.copy()`\n",
      "  test_one_hot[col] = False\n",
      "C:\\Users\\Николай\\AppData\\Local\\Temp\\ipykernel_9700\\2181879771.py:15: PerformanceWarning: DataFrame is highly fragmented.  This is usually the result of calling `frame.insert` many times, which has poor performance.  Consider joining all columns at once using pd.concat(axis=1) instead. To get a de-fragmented frame, use `newframe = frame.copy()`\n",
      "  test_one_hot[col] = False\n",
      "C:\\Users\\Николай\\AppData\\Local\\Temp\\ipykernel_9700\\2181879771.py:15: PerformanceWarning: DataFrame is highly fragmented.  This is usually the result of calling `frame.insert` many times, which has poor performance.  Consider joining all columns at once using pd.concat(axis=1) instead. To get a de-fragmented frame, use `newframe = frame.copy()`\n",
      "  test_one_hot[col] = False\n",
      "C:\\Users\\Николай\\AppData\\Local\\Temp\\ipykernel_9700\\2181879771.py:15: PerformanceWarning: DataFrame is highly fragmented.  This is usually the result of calling `frame.insert` many times, which has poor performance.  Consider joining all columns at once using pd.concat(axis=1) instead. To get a de-fragmented frame, use `newframe = frame.copy()`\n",
      "  test_one_hot[col] = False\n",
      "C:\\Users\\Николай\\AppData\\Local\\Temp\\ipykernel_9700\\2181879771.py:15: PerformanceWarning: DataFrame is highly fragmented.  This is usually the result of calling `frame.insert` many times, which has poor performance.  Consider joining all columns at once using pd.concat(axis=1) instead. To get a de-fragmented frame, use `newframe = frame.copy()`\n",
      "  test_one_hot[col] = False\n",
      "C:\\Users\\Николай\\AppData\\Local\\Temp\\ipykernel_9700\\2181879771.py:15: PerformanceWarning: DataFrame is highly fragmented.  This is usually the result of calling `frame.insert` many times, which has poor performance.  Consider joining all columns at once using pd.concat(axis=1) instead. To get a de-fragmented frame, use `newframe = frame.copy()`\n",
      "  test_one_hot[col] = False\n",
      "C:\\Users\\Николай\\AppData\\Local\\Temp\\ipykernel_9700\\2181879771.py:15: PerformanceWarning: DataFrame is highly fragmented.  This is usually the result of calling `frame.insert` many times, which has poor performance.  Consider joining all columns at once using pd.concat(axis=1) instead. To get a de-fragmented frame, use `newframe = frame.copy()`\n",
      "  test_one_hot[col] = False\n",
      "C:\\Users\\Николай\\AppData\\Local\\Temp\\ipykernel_9700\\2181879771.py:15: PerformanceWarning: DataFrame is highly fragmented.  This is usually the result of calling `frame.insert` many times, which has poor performance.  Consider joining all columns at once using pd.concat(axis=1) instead. To get a de-fragmented frame, use `newframe = frame.copy()`\n",
      "  test_one_hot[col] = False\n",
      "C:\\Users\\Николай\\AppData\\Local\\Temp\\ipykernel_9700\\2181879771.py:15: PerformanceWarning: DataFrame is highly fragmented.  This is usually the result of calling `frame.insert` many times, which has poor performance.  Consider joining all columns at once using pd.concat(axis=1) instead. To get a de-fragmented frame, use `newframe = frame.copy()`\n",
      "  test_one_hot[col] = False\n",
      "C:\\Users\\Николай\\AppData\\Local\\Temp\\ipykernel_9700\\2181879771.py:15: PerformanceWarning: DataFrame is highly fragmented.  This is usually the result of calling `frame.insert` many times, which has poor performance.  Consider joining all columns at once using pd.concat(axis=1) instead. To get a de-fragmented frame, use `newframe = frame.copy()`\n",
      "  test_one_hot[col] = False\n",
      "C:\\Users\\Николай\\AppData\\Local\\Temp\\ipykernel_9700\\2181879771.py:15: PerformanceWarning: DataFrame is highly fragmented.  This is usually the result of calling `frame.insert` many times, which has poor performance.  Consider joining all columns at once using pd.concat(axis=1) instead. To get a de-fragmented frame, use `newframe = frame.copy()`\n",
      "  test_one_hot[col] = False\n",
      "C:\\Users\\Николай\\AppData\\Local\\Temp\\ipykernel_9700\\2181879771.py:15: PerformanceWarning: DataFrame is highly fragmented.  This is usually the result of calling `frame.insert` many times, which has poor performance.  Consider joining all columns at once using pd.concat(axis=1) instead. To get a de-fragmented frame, use `newframe = frame.copy()`\n",
      "  test_one_hot[col] = False\n",
      "C:\\Users\\Николай\\AppData\\Local\\Temp\\ipykernel_9700\\2181879771.py:15: PerformanceWarning: DataFrame is highly fragmented.  This is usually the result of calling `frame.insert` many times, which has poor performance.  Consider joining all columns at once using pd.concat(axis=1) instead. To get a de-fragmented frame, use `newframe = frame.copy()`\n",
      "  test_one_hot[col] = False\n",
      "C:\\Users\\Николай\\AppData\\Local\\Temp\\ipykernel_9700\\2181879771.py:15: PerformanceWarning: DataFrame is highly fragmented.  This is usually the result of calling `frame.insert` many times, which has poor performance.  Consider joining all columns at once using pd.concat(axis=1) instead. To get a de-fragmented frame, use `newframe = frame.copy()`\n",
      "  test_one_hot[col] = False\n",
      "C:\\Users\\Николай\\AppData\\Local\\Temp\\ipykernel_9700\\2181879771.py:15: PerformanceWarning: DataFrame is highly fragmented.  This is usually the result of calling `frame.insert` many times, which has poor performance.  Consider joining all columns at once using pd.concat(axis=1) instead. To get a de-fragmented frame, use `newframe = frame.copy()`\n",
      "  test_one_hot[col] = False\n",
      "C:\\Users\\Николай\\AppData\\Local\\Temp\\ipykernel_9700\\2181879771.py:15: PerformanceWarning: DataFrame is highly fragmented.  This is usually the result of calling `frame.insert` many times, which has poor performance.  Consider joining all columns at once using pd.concat(axis=1) instead. To get a de-fragmented frame, use `newframe = frame.copy()`\n",
      "  test_one_hot[col] = False\n",
      "C:\\Users\\Николай\\AppData\\Local\\Temp\\ipykernel_9700\\2181879771.py:15: PerformanceWarning: DataFrame is highly fragmented.  This is usually the result of calling `frame.insert` many times, which has poor performance.  Consider joining all columns at once using pd.concat(axis=1) instead. To get a de-fragmented frame, use `newframe = frame.copy()`\n",
      "  test_one_hot[col] = False\n",
      "C:\\Users\\Николай\\AppData\\Local\\Temp\\ipykernel_9700\\2181879771.py:15: PerformanceWarning: DataFrame is highly fragmented.  This is usually the result of calling `frame.insert` many times, which has poor performance.  Consider joining all columns at once using pd.concat(axis=1) instead. To get a de-fragmented frame, use `newframe = frame.copy()`\n",
      "  test_one_hot[col] = False\n",
      "C:\\Users\\Николай\\AppData\\Local\\Temp\\ipykernel_9700\\2181879771.py:15: PerformanceWarning: DataFrame is highly fragmented.  This is usually the result of calling `frame.insert` many times, which has poor performance.  Consider joining all columns at once using pd.concat(axis=1) instead. To get a de-fragmented frame, use `newframe = frame.copy()`\n",
      "  test_one_hot[col] = False\n",
      "C:\\Users\\Николай\\AppData\\Local\\Temp\\ipykernel_9700\\2181879771.py:15: PerformanceWarning: DataFrame is highly fragmented.  This is usually the result of calling `frame.insert` many times, which has poor performance.  Consider joining all columns at once using pd.concat(axis=1) instead. To get a de-fragmented frame, use `newframe = frame.copy()`\n",
      "  test_one_hot[col] = False\n",
      "C:\\Users\\Николай\\AppData\\Local\\Temp\\ipykernel_9700\\2181879771.py:15: PerformanceWarning: DataFrame is highly fragmented.  This is usually the result of calling `frame.insert` many times, which has poor performance.  Consider joining all columns at once using pd.concat(axis=1) instead. To get a de-fragmented frame, use `newframe = frame.copy()`\n",
      "  test_one_hot[col] = False\n",
      "C:\\Users\\Николай\\AppData\\Local\\Temp\\ipykernel_9700\\2181879771.py:15: PerformanceWarning: DataFrame is highly fragmented.  This is usually the result of calling `frame.insert` many times, which has poor performance.  Consider joining all columns at once using pd.concat(axis=1) instead. To get a de-fragmented frame, use `newframe = frame.copy()`\n",
      "  test_one_hot[col] = False\n",
      "C:\\Users\\Николай\\AppData\\Local\\Temp\\ipykernel_9700\\2181879771.py:15: PerformanceWarning: DataFrame is highly fragmented.  This is usually the result of calling `frame.insert` many times, which has poor performance.  Consider joining all columns at once using pd.concat(axis=1) instead. To get a de-fragmented frame, use `newframe = frame.copy()`\n",
      "  test_one_hot[col] = False\n",
      "C:\\Users\\Николай\\AppData\\Local\\Temp\\ipykernel_9700\\2181879771.py:15: PerformanceWarning: DataFrame is highly fragmented.  This is usually the result of calling `frame.insert` many times, which has poor performance.  Consider joining all columns at once using pd.concat(axis=1) instead. To get a de-fragmented frame, use `newframe = frame.copy()`\n",
      "  test_one_hot[col] = False\n",
      "C:\\Users\\Николай\\AppData\\Local\\Temp\\ipykernel_9700\\2181879771.py:15: PerformanceWarning: DataFrame is highly fragmented.  This is usually the result of calling `frame.insert` many times, which has poor performance.  Consider joining all columns at once using pd.concat(axis=1) instead. To get a de-fragmented frame, use `newframe = frame.copy()`\n",
      "  test_one_hot[col] = False\n",
      "C:\\Users\\Николай\\AppData\\Local\\Temp\\ipykernel_9700\\2181879771.py:15: PerformanceWarning: DataFrame is highly fragmented.  This is usually the result of calling `frame.insert` many times, which has poor performance.  Consider joining all columns at once using pd.concat(axis=1) instead. To get a de-fragmented frame, use `newframe = frame.copy()`\n",
      "  test_one_hot[col] = False\n",
      "C:\\Users\\Николай\\AppData\\Local\\Temp\\ipykernel_9700\\2181879771.py:15: PerformanceWarning: DataFrame is highly fragmented.  This is usually the result of calling `frame.insert` many times, which has poor performance.  Consider joining all columns at once using pd.concat(axis=1) instead. To get a de-fragmented frame, use `newframe = frame.copy()`\n",
      "  test_one_hot[col] = False\n",
      "C:\\Users\\Николай\\AppData\\Local\\Temp\\ipykernel_9700\\2181879771.py:15: PerformanceWarning: DataFrame is highly fragmented.  This is usually the result of calling `frame.insert` many times, which has poor performance.  Consider joining all columns at once using pd.concat(axis=1) instead. To get a de-fragmented frame, use `newframe = frame.copy()`\n",
      "  test_one_hot[col] = False\n",
      "C:\\Users\\Николай\\AppData\\Local\\Temp\\ipykernel_9700\\2181879771.py:15: PerformanceWarning: DataFrame is highly fragmented.  This is usually the result of calling `frame.insert` many times, which has poor performance.  Consider joining all columns at once using pd.concat(axis=1) instead. To get a de-fragmented frame, use `newframe = frame.copy()`\n",
      "  test_one_hot[col] = False\n",
      "C:\\Users\\Николай\\AppData\\Local\\Temp\\ipykernel_9700\\2181879771.py:15: PerformanceWarning: DataFrame is highly fragmented.  This is usually the result of calling `frame.insert` many times, which has poor performance.  Consider joining all columns at once using pd.concat(axis=1) instead. To get a de-fragmented frame, use `newframe = frame.copy()`\n",
      "  test_one_hot[col] = False\n",
      "C:\\Users\\Николай\\AppData\\Local\\Temp\\ipykernel_9700\\2181879771.py:15: PerformanceWarning: DataFrame is highly fragmented.  This is usually the result of calling `frame.insert` many times, which has poor performance.  Consider joining all columns at once using pd.concat(axis=1) instead. To get a de-fragmented frame, use `newframe = frame.copy()`\n",
      "  test_one_hot[col] = False\n",
      "C:\\Users\\Николай\\AppData\\Local\\Temp\\ipykernel_9700\\2181879771.py:15: PerformanceWarning: DataFrame is highly fragmented.  This is usually the result of calling `frame.insert` many times, which has poor performance.  Consider joining all columns at once using pd.concat(axis=1) instead. To get a de-fragmented frame, use `newframe = frame.copy()`\n",
      "  test_one_hot[col] = False\n",
      "C:\\Users\\Николай\\AppData\\Local\\Temp\\ipykernel_9700\\2181879771.py:15: PerformanceWarning: DataFrame is highly fragmented.  This is usually the result of calling `frame.insert` many times, which has poor performance.  Consider joining all columns at once using pd.concat(axis=1) instead. To get a de-fragmented frame, use `newframe = frame.copy()`\n",
      "  test_one_hot[col] = False\n",
      "C:\\Users\\Николай\\AppData\\Local\\Temp\\ipykernel_9700\\2181879771.py:15: PerformanceWarning: DataFrame is highly fragmented.  This is usually the result of calling `frame.insert` many times, which has poor performance.  Consider joining all columns at once using pd.concat(axis=1) instead. To get a de-fragmented frame, use `newframe = frame.copy()`\n",
      "  test_one_hot[col] = False\n",
      "C:\\Users\\Николай\\AppData\\Local\\Temp\\ipykernel_9700\\2181879771.py:15: PerformanceWarning: DataFrame is highly fragmented.  This is usually the result of calling `frame.insert` many times, which has poor performance.  Consider joining all columns at once using pd.concat(axis=1) instead. To get a de-fragmented frame, use `newframe = frame.copy()`\n",
      "  test_one_hot[col] = False\n",
      "C:\\Users\\Николай\\AppData\\Local\\Temp\\ipykernel_9700\\2181879771.py:15: PerformanceWarning: DataFrame is highly fragmented.  This is usually the result of calling `frame.insert` many times, which has poor performance.  Consider joining all columns at once using pd.concat(axis=1) instead. To get a de-fragmented frame, use `newframe = frame.copy()`\n",
      "  test_one_hot[col] = False\n",
      "C:\\Users\\Николай\\AppData\\Local\\Temp\\ipykernel_9700\\2181879771.py:15: PerformanceWarning: DataFrame is highly fragmented.  This is usually the result of calling `frame.insert` many times, which has poor performance.  Consider joining all columns at once using pd.concat(axis=1) instead. To get a de-fragmented frame, use `newframe = frame.copy()`\n",
      "  test_one_hot[col] = False\n",
      "C:\\Users\\Николай\\AppData\\Local\\Temp\\ipykernel_9700\\2181879771.py:15: PerformanceWarning: DataFrame is highly fragmented.  This is usually the result of calling `frame.insert` many times, which has poor performance.  Consider joining all columns at once using pd.concat(axis=1) instead. To get a de-fragmented frame, use `newframe = frame.copy()`\n",
      "  test_one_hot[col] = False\n",
      "C:\\Users\\Николай\\AppData\\Local\\Temp\\ipykernel_9700\\2181879771.py:15: PerformanceWarning: DataFrame is highly fragmented.  This is usually the result of calling `frame.insert` many times, which has poor performance.  Consider joining all columns at once using pd.concat(axis=1) instead. To get a de-fragmented frame, use `newframe = frame.copy()`\n",
      "  test_one_hot[col] = False\n",
      "C:\\Users\\Николай\\AppData\\Local\\Temp\\ipykernel_9700\\2181879771.py:15: PerformanceWarning: DataFrame is highly fragmented.  This is usually the result of calling `frame.insert` many times, which has poor performance.  Consider joining all columns at once using pd.concat(axis=1) instead. To get a de-fragmented frame, use `newframe = frame.copy()`\n",
      "  test_one_hot[col] = False\n",
      "C:\\Users\\Николай\\AppData\\Local\\Temp\\ipykernel_9700\\2181879771.py:15: PerformanceWarning: DataFrame is highly fragmented.  This is usually the result of calling `frame.insert` many times, which has poor performance.  Consider joining all columns at once using pd.concat(axis=1) instead. To get a de-fragmented frame, use `newframe = frame.copy()`\n",
      "  test_one_hot[col] = False\n",
      "C:\\Users\\Николай\\AppData\\Local\\Temp\\ipykernel_9700\\2181879771.py:15: PerformanceWarning: DataFrame is highly fragmented.  This is usually the result of calling `frame.insert` many times, which has poor performance.  Consider joining all columns at once using pd.concat(axis=1) instead. To get a de-fragmented frame, use `newframe = frame.copy()`\n",
      "  test_one_hot[col] = False\n",
      "C:\\Users\\Николай\\AppData\\Local\\Temp\\ipykernel_9700\\2181879771.py:15: PerformanceWarning: DataFrame is highly fragmented.  This is usually the result of calling `frame.insert` many times, which has poor performance.  Consider joining all columns at once using pd.concat(axis=1) instead. To get a de-fragmented frame, use `newframe = frame.copy()`\n",
      "  test_one_hot[col] = False\n",
      "C:\\Users\\Николай\\AppData\\Local\\Temp\\ipykernel_9700\\2181879771.py:15: PerformanceWarning: DataFrame is highly fragmented.  This is usually the result of calling `frame.insert` many times, which has poor performance.  Consider joining all columns at once using pd.concat(axis=1) instead. To get a de-fragmented frame, use `newframe = frame.copy()`\n",
      "  test_one_hot[col] = False\n",
      "C:\\Users\\Николай\\AppData\\Local\\Temp\\ipykernel_9700\\2181879771.py:15: PerformanceWarning: DataFrame is highly fragmented.  This is usually the result of calling `frame.insert` many times, which has poor performance.  Consider joining all columns at once using pd.concat(axis=1) instead. To get a de-fragmented frame, use `newframe = frame.copy()`\n",
      "  test_one_hot[col] = False\n",
      "C:\\Users\\Николай\\AppData\\Local\\Temp\\ipykernel_9700\\2181879771.py:15: PerformanceWarning: DataFrame is highly fragmented.  This is usually the result of calling `frame.insert` many times, which has poor performance.  Consider joining all columns at once using pd.concat(axis=1) instead. To get a de-fragmented frame, use `newframe = frame.copy()`\n",
      "  test_one_hot[col] = False\n",
      "C:\\Users\\Николай\\AppData\\Local\\Temp\\ipykernel_9700\\2181879771.py:15: PerformanceWarning: DataFrame is highly fragmented.  This is usually the result of calling `frame.insert` many times, which has poor performance.  Consider joining all columns at once using pd.concat(axis=1) instead. To get a de-fragmented frame, use `newframe = frame.copy()`\n",
      "  test_one_hot[col] = False\n",
      "C:\\Users\\Николай\\AppData\\Local\\Temp\\ipykernel_9700\\2181879771.py:15: PerformanceWarning: DataFrame is highly fragmented.  This is usually the result of calling `frame.insert` many times, which has poor performance.  Consider joining all columns at once using pd.concat(axis=1) instead. To get a de-fragmented frame, use `newframe = frame.copy()`\n",
      "  test_one_hot[col] = False\n",
      "C:\\Users\\Николай\\AppData\\Local\\Temp\\ipykernel_9700\\2181879771.py:15: PerformanceWarning: DataFrame is highly fragmented.  This is usually the result of calling `frame.insert` many times, which has poor performance.  Consider joining all columns at once using pd.concat(axis=1) instead. To get a de-fragmented frame, use `newframe = frame.copy()`\n",
      "  test_one_hot[col] = False\n",
      "C:\\Users\\Николай\\AppData\\Local\\Temp\\ipykernel_9700\\2181879771.py:15: PerformanceWarning: DataFrame is highly fragmented.  This is usually the result of calling `frame.insert` many times, which has poor performance.  Consider joining all columns at once using pd.concat(axis=1) instead. To get a de-fragmented frame, use `newframe = frame.copy()`\n",
      "  test_one_hot[col] = False\n",
      "C:\\Users\\Николай\\AppData\\Local\\Temp\\ipykernel_9700\\2181879771.py:15: PerformanceWarning: DataFrame is highly fragmented.  This is usually the result of calling `frame.insert` many times, which has poor performance.  Consider joining all columns at once using pd.concat(axis=1) instead. To get a de-fragmented frame, use `newframe = frame.copy()`\n",
      "  test_one_hot[col] = False\n",
      "C:\\Users\\Николай\\AppData\\Local\\Temp\\ipykernel_9700\\2181879771.py:15: PerformanceWarning: DataFrame is highly fragmented.  This is usually the result of calling `frame.insert` many times, which has poor performance.  Consider joining all columns at once using pd.concat(axis=1) instead. To get a de-fragmented frame, use `newframe = frame.copy()`\n",
      "  test_one_hot[col] = False\n",
      "C:\\Users\\Николай\\AppData\\Local\\Temp\\ipykernel_9700\\2181879771.py:15: PerformanceWarning: DataFrame is highly fragmented.  This is usually the result of calling `frame.insert` many times, which has poor performance.  Consider joining all columns at once using pd.concat(axis=1) instead. To get a de-fragmented frame, use `newframe = frame.copy()`\n",
      "  test_one_hot[col] = False\n",
      "C:\\Users\\Николай\\AppData\\Local\\Temp\\ipykernel_9700\\2181879771.py:15: PerformanceWarning: DataFrame is highly fragmented.  This is usually the result of calling `frame.insert` many times, which has poor performance.  Consider joining all columns at once using pd.concat(axis=1) instead. To get a de-fragmented frame, use `newframe = frame.copy()`\n",
      "  test_one_hot[col] = False\n",
      "C:\\Users\\Николай\\AppData\\Local\\Temp\\ipykernel_9700\\2181879771.py:15: PerformanceWarning: DataFrame is highly fragmented.  This is usually the result of calling `frame.insert` many times, which has poor performance.  Consider joining all columns at once using pd.concat(axis=1) instead. To get a de-fragmented frame, use `newframe = frame.copy()`\n",
      "  test_one_hot[col] = False\n",
      "C:\\Users\\Николай\\AppData\\Local\\Temp\\ipykernel_9700\\2181879771.py:15: PerformanceWarning: DataFrame is highly fragmented.  This is usually the result of calling `frame.insert` many times, which has poor performance.  Consider joining all columns at once using pd.concat(axis=1) instead. To get a de-fragmented frame, use `newframe = frame.copy()`\n",
      "  test_one_hot[col] = False\n",
      "C:\\Users\\Николай\\AppData\\Local\\Temp\\ipykernel_9700\\2181879771.py:15: PerformanceWarning: DataFrame is highly fragmented.  This is usually the result of calling `frame.insert` many times, which has poor performance.  Consider joining all columns at once using pd.concat(axis=1) instead. To get a de-fragmented frame, use `newframe = frame.copy()`\n",
      "  test_one_hot[col] = False\n",
      "C:\\Users\\Николай\\AppData\\Local\\Temp\\ipykernel_9700\\2181879771.py:15: PerformanceWarning: DataFrame is highly fragmented.  This is usually the result of calling `frame.insert` many times, which has poor performance.  Consider joining all columns at once using pd.concat(axis=1) instead. To get a de-fragmented frame, use `newframe = frame.copy()`\n",
      "  test_one_hot[col] = False\n",
      "C:\\Users\\Николай\\AppData\\Local\\Temp\\ipykernel_9700\\2181879771.py:15: PerformanceWarning: DataFrame is highly fragmented.  This is usually the result of calling `frame.insert` many times, which has poor performance.  Consider joining all columns at once using pd.concat(axis=1) instead. To get a de-fragmented frame, use `newframe = frame.copy()`\n",
      "  test_one_hot[col] = False\n",
      "C:\\Users\\Николай\\AppData\\Local\\Temp\\ipykernel_9700\\2181879771.py:15: PerformanceWarning: DataFrame is highly fragmented.  This is usually the result of calling `frame.insert` many times, which has poor performance.  Consider joining all columns at once using pd.concat(axis=1) instead. To get a de-fragmented frame, use `newframe = frame.copy()`\n",
      "  test_one_hot[col] = False\n",
      "C:\\Users\\Николай\\AppData\\Local\\Temp\\ipykernel_9700\\2181879771.py:15: PerformanceWarning: DataFrame is highly fragmented.  This is usually the result of calling `frame.insert` many times, which has poor performance.  Consider joining all columns at once using pd.concat(axis=1) instead. To get a de-fragmented frame, use `newframe = frame.copy()`\n",
      "  test_one_hot[col] = False\n",
      "C:\\Users\\Николай\\AppData\\Local\\Temp\\ipykernel_9700\\2181879771.py:15: PerformanceWarning: DataFrame is highly fragmented.  This is usually the result of calling `frame.insert` many times, which has poor performance.  Consider joining all columns at once using pd.concat(axis=1) instead. To get a de-fragmented frame, use `newframe = frame.copy()`\n",
      "  test_one_hot[col] = False\n",
      "C:\\Users\\Николай\\AppData\\Local\\Temp\\ipykernel_9700\\2181879771.py:15: PerformanceWarning: DataFrame is highly fragmented.  This is usually the result of calling `frame.insert` many times, which has poor performance.  Consider joining all columns at once using pd.concat(axis=1) instead. To get a de-fragmented frame, use `newframe = frame.copy()`\n",
      "  test_one_hot[col] = False\n",
      "C:\\Users\\Николай\\AppData\\Local\\Temp\\ipykernel_9700\\2181879771.py:15: PerformanceWarning: DataFrame is highly fragmented.  This is usually the result of calling `frame.insert` many times, which has poor performance.  Consider joining all columns at once using pd.concat(axis=1) instead. To get a de-fragmented frame, use `newframe = frame.copy()`\n",
      "  test_one_hot[col] = False\n"
     ]
    }
   ],
   "source": [
    "test = pd.read_csv(f\"{CONFIG['data_main']}test.csv\")\n",
    "\n",
    "for col in test[['age_at_hct', 'donor_age']].columns:\n",
    "    test[col] = test[col].fillna(test[col].mode()[0])\n",
    "for col in test[cat_columns].columns:\n",
    "    test[col] = test[col].astype(str)\n",
    "    j_ch = ',[]{}:\"\\\\<'  # набор символов для удаления\n",
    "    for ch in j_ch:\n",
    "        test[col] = test[col].apply(lambda x: str(x).replace(ch, ''))\n",
    "test_one_hot = pd.get_dummies(test[cat_columns])\n",
    "test_one_hot = pd.concat([test_one_hot, test[['age_at_hct', 'donor_age']]], axis=1)\n",
    "\n",
    "missing_columns = set(train_one_hot.columns) - set(test_one_hot.columns)\n",
    "for col in missing_columns:\n",
    "    test_one_hot[col] = False"
   ],
   "metadata": {
    "collapsed": false,
    "ExecuteTime": {
     "end_time": "2025-01-02T06:59:12.939526200Z",
     "start_time": "2025-01-02T06:59:12.845514300Z"
    }
   },
   "id": "ac0fb31bb289572f",
   "execution_count": 50
  },
  {
   "cell_type": "code",
   "outputs": [],
   "source": [
    "test_one_hot = test_one_hot[train_one_hot.columns]"
   ],
   "metadata": {
    "collapsed": false,
    "ExecuteTime": {
     "end_time": "2025-01-02T06:59:12.964519900Z",
     "start_time": "2025-01-02T06:59:12.943515100Z"
    }
   },
   "id": "c716f6fbaf1ed7dc",
   "execution_count": 51
  },
  {
   "cell_type": "code",
   "outputs": [],
   "source": [
    "final_cat = joblib.load(CONFIG['model_path'])"
   ],
   "metadata": {
    "collapsed": false,
    "ExecuteTime": {
     "end_time": "2025-01-02T06:59:12.975535300Z",
     "start_time": "2025-01-02T06:59:12.956524100Z"
    }
   },
   "id": "c24795b246f48d95",
   "execution_count": 52
  },
  {
   "cell_type": "code",
   "outputs": [],
   "source": [
    "preds_test = final_cat.predict(test_one_hot)"
   ],
   "metadata": {
    "collapsed": false,
    "ExecuteTime": {
     "end_time": "2025-01-02T06:59:12.996511400Z",
     "start_time": "2025-01-02T06:59:12.979524500Z"
    }
   },
   "id": "887fcb1c03c25912",
   "execution_count": 53
  },
  {
   "cell_type": "code",
   "outputs": [
    {
     "data": {
      "text/plain": "array([0.5297918 , 0.67516787, 0.47647097])"
     },
     "execution_count": 54,
     "metadata": {},
     "output_type": "execute_result"
    }
   ],
   "source": [
    "preds_test"
   ],
   "metadata": {
    "collapsed": false,
    "ExecuteTime": {
     "end_time": "2025-01-02T06:59:13.004519800Z",
     "start_time": "2025-01-02T06:59:12.988510400Z"
    }
   },
   "id": "d844ed8f62a6111d",
   "execution_count": 54
  },
  {
   "cell_type": "code",
   "outputs": [],
   "source": [
    "y_pred = test[['ID']].copy(deep=True)\n",
    "y_pred[\"prediction\"] = preds_test\n",
    "y_pred.to_csv('submission.csv', index=False)"
   ],
   "metadata": {
    "collapsed": false,
    "ExecuteTime": {
     "end_time": "2025-01-02T06:59:13.023527500Z",
     "start_time": "2025-01-02T06:59:13.006510Z"
    }
   },
   "id": "903cca0ce259731a",
   "execution_count": 55
  },
  {
   "cell_type": "code",
   "outputs": [],
   "source": [],
   "metadata": {
    "collapsed": false,
    "ExecuteTime": {
     "end_time": "2025-01-02T06:59:13.034509700Z",
     "start_time": "2025-01-02T06:59:13.019521800Z"
    }
   },
   "id": "982d24f7e35aabb3",
   "execution_count": 55
  }
 ],
 "metadata": {
  "kernelspec": {
   "display_name": "Python 3",
   "language": "python",
   "name": "python3"
  },
  "language_info": {
   "codemirror_mode": {
    "name": "ipython",
    "version": 2
   },
   "file_extension": ".py",
   "mimetype": "text/x-python",
   "name": "python",
   "nbconvert_exporter": "python",
   "pygments_lexer": "ipython2",
   "version": "2.7.6"
  }
 },
 "nbformat": 4,
 "nbformat_minor": 5
}
