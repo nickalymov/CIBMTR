{
 "cells": [
  {
   "cell_type": "code",
   "outputs": [],
   "source": [
    "import os\n",
    "current_directory = os.getcwd()\n",
    "folder_name = os.path.basename(current_directory)\n",
    "number = folder_name"
   ],
   "metadata": {
    "collapsed": false,
    "ExecuteTime": {
     "end_time": "2025-01-02T06:45:20.159853400Z",
     "start_time": "2025-01-02T06:45:20.139251200Z"
    }
   },
   "id": "cb2065b8802f8251",
   "execution_count": 1
  },
  {
   "cell_type": "code",
   "outputs": [],
   "source": [
    "CONFIG = {\n",
    "    'data_main': 'C:/Users/Николай/PycharmProjects/CIBMTR/D.Data/main/',\n",
    "    'train_path': 'train.csv',\n",
    "\n",
    "    'DEVICE' : 'cuda',\n",
    "    'SEED' : 42,\n",
    "}"
   ],
   "metadata": {
    "collapsed": false,
    "ExecuteTime": {
     "end_time": "2025-01-02T06:45:20.175875800Z",
     "start_time": "2025-01-02T06:45:20.161853900Z"
    }
   },
   "id": "9174032d882584ac",
   "execution_count": 2
  },
  {
   "cell_type": "code",
   "outputs": [],
   "source": [
    "from catboost import CatBoostRegressor\n",
    "import pandas as pd\n",
    "from sklearn.model_selection import StratifiedKFold\n",
    "import numpy as np\n",
    "import joblib \n",
    "from metric import score__\n",
    "from lifelines import KaplanMeierFitter"
   ],
   "metadata": {
    "collapsed": false,
    "ExecuteTime": {
     "end_time": "2025-01-02T06:45:20.778622500Z",
     "start_time": "2025-01-02T06:45:20.178855500Z"
    }
   },
   "id": "b015da9f4c673f76",
   "execution_count": 3
  },
  {
   "cell_type": "code",
   "outputs": [],
   "source": [
    "def transform_survival_probability(df, time_col='efs_time', event_col='efs'):\n",
    "    kmf = KaplanMeierFitter()\n",
    "    kmf.fit(df[time_col], df[event_col])\n",
    "    y = kmf.survival_function_at_times(df[time_col]).values\n",
    "    return y"
   ],
   "metadata": {
    "collapsed": false,
    "ExecuteTime": {
     "end_time": "2025-01-02T06:45:20.795313700Z",
     "start_time": "2025-01-02T06:45:20.780616100Z"
    }
   },
   "id": "8e5da4978bd8e1b0",
   "execution_count": 4
  },
  {
   "cell_type": "code",
   "outputs": [],
   "source": [
    "train = pd.read_csv(f\"{CONFIG['data_main']}{CONFIG['train_path']}\")\n",
    "train.drop(columns=['ID'], inplace=True)\n",
    "    \n",
    "train[\"y\"] = transform_survival_probability(train, time_col='efs_time', event_col='efs')\n",
    "\n",
    "num_columns = ['y', 'efs', 'efs_time', 'age_at_hct', 'donor_age']\n",
    "cat_columns = [col for col in train.columns if col not in num_columns]\n",
    "for col in train[['age_at_hct', 'donor_age']].columns:\n",
    "    train[col] = train[col].fillna(train[col].mode()[0])\n",
    "for col in train[cat_columns].columns:\n",
    "    train[col] = train[col].astype(str)\n",
    "    j_ch = ',[]{}:\"\\\\<'  # набор символов для удаления\n",
    "    for ch in j_ch:\n",
    "        train[col] = train[col].apply(lambda x: str(x).replace(ch, ''))\n",
    "train_one_hot = pd.get_dummies(train[cat_columns])\n",
    "cat_columns = list(train_one_hot.columns)\n",
    "train_one_hot = pd.concat([train_one_hot, train[['age_at_hct', 'donor_age']]], axis=1)"
   ],
   "metadata": {
    "collapsed": false,
    "ExecuteTime": {
     "end_time": "2025-01-02T06:45:22.812762100Z",
     "start_time": "2025-01-02T06:45:20.797212400Z"
    }
   },
   "id": "214abe3370778cbd",
   "execution_count": 5
  },
  {
   "cell_type": "code",
   "outputs": [],
   "source": [
    "X = train_one_hot\n",
    "y = train['y']"
   ],
   "metadata": {
    "collapsed": false,
    "ExecuteTime": {
     "end_time": "2025-01-02T06:45:22.829313700Z",
     "start_time": "2025-01-02T06:45:22.815834200Z"
    }
   },
   "id": "eb925cb7123ec6",
   "execution_count": 6
  },
  {
   "cell_type": "code",
   "outputs": [],
   "source": [
    "n_splits = 5\n",
    "skf = StratifiedKFold(n_splits=n_splits, shuffle=True, random_state=CONFIG['SEED'])"
   ],
   "metadata": {
    "collapsed": false,
    "ExecuteTime": {
     "end_time": "2025-01-02T06:45:22.845316800Z",
     "start_time": "2025-01-02T06:45:22.830318Z"
    }
   },
   "id": "30d7e73c149b9248",
   "execution_count": 7
  },
  {
   "cell_type": "code",
   "outputs": [],
   "source": [
    "fixed_params = {\n",
    "    'loss_function': 'RMSE', \n",
    "    'random_seed': CONFIG['SEED'],\n",
    "    'logging_level': 'Silent',      \n",
    "    'eval_metric': 'RMSE',\n",
    "    'allow_writing_files': False,\n",
    "    'task_type': 'GPU',\n",
    "}"
   ],
   "metadata": {
    "collapsed": false,
    "ExecuteTime": {
     "end_time": "2025-01-02T06:45:22.859312200Z",
     "start_time": "2025-01-02T06:45:22.846308800Z"
    }
   },
   "id": "fcfa2d6ba97ee9c5",
   "execution_count": 8
  },
  {
   "cell_type": "code",
   "outputs": [
    {
     "name": "stdout",
     "output_type": "stream",
     "text": [
      "Средний результат модели: 0.6782492257976628\n"
     ]
    }
   ],
   "source": [
    "# Объединение фиксированных параметров модели и гиперпараметров\n",
    "final_params = {**fixed_params}\n",
    "\n",
    "scores = []\n",
    "\n",
    "for train_idx, valid_idx in skf.split(X, train['race_group']):\n",
    "    X_train, X_valid = X.iloc[train_idx], X.iloc[valid_idx]\n",
    "    y_train, y_valid = y.iloc[train_idx], y.iloc[valid_idx]\n",
    "\n",
    "    model = CatBoostRegressor(cat_features=cat_columns, **final_params)\n",
    "    model.fit(X_train, y_train, eval_set=[(X_valid, y_valid)], verbose=False)\n",
    "\n",
    "    preds = model.predict(X_valid)\n",
    "    fold_score = score__(pd.DataFrame({'efs': train.iloc[valid_idx]['efs'].to_list(),\n",
    "                                       'efs_time': train.iloc[valid_idx]['efs_time'].to_list(),\n",
    "                                       'race_group': train.iloc[valid_idx]['race_group'].to_list()}),\n",
    "                         pd.DataFrame(preds, columns=['prediction']))\n",
    "    scores.append(fold_score)\n",
    "\n",
    "# Средний результат модели\n",
    "mean_score = np.mean(scores)\n",
    "print(f\"Средний результат модели: {mean_score}\")"
   ],
   "metadata": {
    "collapsed": false,
    "ExecuteTime": {
     "end_time": "2025-01-02T06:47:25.360044800Z",
     "start_time": "2025-01-02T06:45:22.864319500Z"
    }
   },
   "id": "822442d754407434",
   "execution_count": 9
  },
  {
   "cell_type": "code",
   "outputs": [
    {
     "data": {
      "text/plain": "<catboost.core.CatBoostRegressor at 0x16f86325e40>"
     },
     "execution_count": 10,
     "metadata": {},
     "output_type": "execute_result"
    }
   ],
   "source": [
    "final_cat = CatBoostRegressor(cat_features=cat_columns, **fixed_params)\n",
    "final_cat.fit(X, y)"
   ],
   "metadata": {
    "collapsed": false,
    "ExecuteTime": {
     "end_time": "2025-01-02T06:47:48.973056700Z",
     "start_time": "2025-01-02T06:47:25.365021400Z"
    }
   },
   "id": "97782c5be4517c4e",
   "execution_count": 10
  },
  {
   "cell_type": "code",
   "outputs": [
    {
     "data": {
      "text/plain": "['2.1.13_model.pkl']"
     },
     "execution_count": 11,
     "metadata": {},
     "output_type": "execute_result"
    }
   ],
   "source": [
    "joblib.dump(final_cat, f\"{number}_model.pkl\")"
   ],
   "metadata": {
    "collapsed": false,
    "ExecuteTime": {
     "end_time": "2025-01-02T06:47:48.986485800Z",
     "start_time": "2025-01-02T06:47:48.975439700Z"
    }
   },
   "id": "2b2e3bf4e98d533d",
   "execution_count": 11
  },
  {
   "cell_type": "code",
   "outputs": [],
   "source": [
    "cat_importance = final_cat.get_feature_importance()"
   ],
   "metadata": {
    "collapsed": false,
    "ExecuteTime": {
     "end_time": "2025-01-02T06:47:49.002485200Z",
     "start_time": "2025-01-02T06:47:48.988528900Z"
    }
   },
   "id": "3e50b9cbcbd85c7f",
   "execution_count": 12
  },
  {
   "cell_type": "code",
   "outputs": [
    {
     "name": "stdout",
     "output_type": "stream",
     "text": [
      "CatBoost Feature Importances:\n",
      "                         Feature  Importance\n",
      "316                   donor_age    5.490539\n",
      "157  conditioning_intensity_nan    5.096845\n",
      "0                dri_score_High    5.064703\n",
      "315                  age_at_hct    4.377858\n",
      "181                 mrd_hct_nan    2.490745\n",
      "..                          ...         ...\n",
      "37           hla_high_res_8_7.0    0.000000\n",
      "109         hla_high_res_10_nan    0.000000\n",
      "111     hla_match_dqb1_high_1.0    0.000000\n",
      "219        gvhd_proph_CSA alone    0.000000\n",
      "82         prim_disease_hct_MPN    0.000000\n",
      "\n",
      "[317 rows x 2 columns]\n"
     ]
    }
   ],
   "source": [
    "cat_importance_df = pd.DataFrame({\n",
    "    'Feature': X.columns,\n",
    "    'Importance': cat_importance\n",
    "}).sort_values(by='Importance', ascending=False)\n",
    "\n",
    "print(\"CatBoost Feature Importances:\\n\", cat_importance_df)"
   ],
   "metadata": {
    "collapsed": false,
    "ExecuteTime": {
     "end_time": "2025-01-02T06:47:49.020488500Z",
     "start_time": "2025-01-02T06:47:49.005483800Z"
    }
   },
   "id": "7b65d88176d2873f",
   "execution_count": 13
  },
  {
   "cell_type": "code",
   "outputs": [],
   "source": [
    "# auto_params = ['per_float_feature_quantization', 'input_borders', 'output_borders', 'fold_permutation_block', 'counter_calc_method', 'thread_count', 'best_model_min_trees', 'verbose', 'silent', 'metric_period', 'ctr_leaf_count_limit', 'store_all_simple_ctr', 'has_time', 'allow_const_label', 'target_border', 'random_score_type', 'name', 'ignored_features', 'train_dir', 'custom_metric', 'save_snapshot', 'snapshot_file', 'snapshot_interval', 'fold_len_multiplier', 'used_ram_limit', 'gpu_ram_part', 'pinned_memory_size', 'final_ctr_computation_mode', 'simple_ctr', 'combinations_ctr', 'per_feature_ctr', 'ctr_description', 'ctr_target_border_count', 'device_config', 'devices', 'subsample', 'mvs_reg', 'sampling_frequency', 'sampling_unit', 'subsampling_factor', 'dev_score_calc_obj_block_size', 'dev_efb_max_buckets', 'sparse_features_conflict_fraction', 'max_depth', 'n_estimators', 'num_boost_round', 'num_trees', 'colsample_bylevel', 'random_state', 'reg_lambda', 'reg_lambda', 'eta', 'max_bin', 'gpu_cat_features_storage', 'data_partition', 'metadata', 'min_data_in_leaf', 'min_child_samples', 'num_leaves', 'score_function', 'ctr_history_unit', 'monotone_constraints', 'feature_weights', 'penalties_coefficient', 'first_feature_use_penalties', 'per_object_feature_penalties', 'model_shrink_rate', 'model_shrink_mode', 'langevin', 'diffusion_temperature', 'posterior_sampling', 'text_features', 'tokenizers', 'dictionaries', 'feature_calcers', 'text_processing', 'embedding_features', 'eval_fraction', 'fixed_binary_splits', 'od_type', 'od_pval', 'od_wait', 'approx_on_full_history', 'boosting_type']"
   ],
   "metadata": {
    "collapsed": false,
    "ExecuteTime": {
     "end_time": "2025-01-02T06:47:49.039564200Z",
     "start_time": "2025-01-02T06:47:49.021485600Z"
    }
   },
   "id": "e3e9fd32b0938562",
   "execution_count": 14
  }
 ],
 "metadata": {
  "kernelspec": {
   "display_name": "Python 3",
   "language": "python",
   "name": "python3"
  },
  "language_info": {
   "codemirror_mode": {
    "name": "ipython",
    "version": 2
   },
   "file_extension": ".py",
   "mimetype": "text/x-python",
   "name": "python",
   "nbconvert_exporter": "python",
   "pygments_lexer": "ipython2",
   "version": "2.7.6"
  }
 },
 "nbformat": 4,
 "nbformat_minor": 5
}
