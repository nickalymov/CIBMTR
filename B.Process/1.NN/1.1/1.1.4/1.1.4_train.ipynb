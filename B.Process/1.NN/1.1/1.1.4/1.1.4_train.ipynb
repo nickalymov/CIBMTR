{
 "cells": [
  {
   "cell_type": "code",
   "outputs": [],
   "source": [
    "import os\n",
    "current_directory = os.getcwd()\n",
    "folder_name = os.path.basename(current_directory)\n",
    "number = folder_name"
   ],
   "metadata": {
    "collapsed": false,
    "ExecuteTime": {
     "end_time": "2024-12-26T10:14:14.633723300Z",
     "start_time": "2024-12-26T10:14:14.626724800Z"
    }
   },
   "id": "98e9eccdccd5addd",
   "execution_count": 1
  },
  {
   "cell_type": "code",
   "outputs": [],
   "source": [
    "CONFIG = {\n",
    "    'data_main': 'C:/Users/Николай/PycharmProjects/CIBMTR/D.Data/main/',\n",
    "    'train_path': 'train.csv',\n",
    "\n",
    "    'DEVICE' : 'cuda',\n",
    "    'SEED' : 42,\n",
    "    'BATCH_SIZE' : 512,\n",
    "    'LR' : 0.001,\n",
    "    'EPOCHS': 103,\n",
    "    'output_dim' : 1\n",
    "}"
   ],
   "metadata": {
    "collapsed": false,
    "ExecuteTime": {
     "end_time": "2024-12-26T10:14:14.647723600Z",
     "start_time": "2024-12-26T10:14:14.632722700Z"
    }
   },
   "id": "4a794a5c2901e728",
   "execution_count": 2
  },
  {
   "cell_type": "code",
   "execution_count": 3,
   "id": "f9ee4882",
   "metadata": {
    "collapsed": false,
    "execution": {
     "iopub.execute_input": "2024-11-25T04:46:17.459651Z",
     "iopub.status.busy": "2024-11-25T04:46:17.459331Z",
     "iopub.status.idle": "2024-11-25T04:46:22.363731Z",
     "shell.execute_reply": "2024-11-25T04:46:22.362971Z"
    },
    "papermill": {
     "duration": 4.91114,
     "end_time": "2024-11-25T04:46:22.365894",
     "exception": false,
     "start_time": "2024-11-25T04:46:17.454754",
     "status": "completed"
    },
    "tags": [],
    "ExecuteTime": {
     "end_time": "2024-12-26T10:14:16.058062100Z",
     "start_time": "2024-12-26T10:14:14.647723600Z"
    }
   },
   "outputs": [],
   "source": [
    "# Import libs\n",
    "import numpy as np\n",
    "from tqdm import tqdm\n",
    "import pandas as pd \n",
    "import torch\n",
    "import torch.nn as nn\n",
    "from torch.optim import Adam\n",
    "import torch.nn.init as init"
   ]
  },
  {
   "cell_type": "code",
   "execution_count": 4,
   "id": "6cf61865",
   "metadata": {
    "collapsed": false,
    "execution": {
     "iopub.execute_input": "2024-11-25T04:46:22.376480Z",
     "iopub.status.busy": "2024-11-25T04:46:22.375606Z",
     "iopub.status.idle": "2024-11-25T04:46:22.445552Z",
     "shell.execute_reply": "2024-11-25T04:46:22.444304Z"
    },
    "papermill": {
     "duration": 0.077688,
     "end_time": "2024-11-25T04:46:22.448120",
     "exception": false,
     "start_time": "2024-11-25T04:46:22.370432",
     "status": "completed"
    },
    "tags": [],
    "ExecuteTime": {
     "end_time": "2024-12-26T10:14:17.311279300Z",
     "start_time": "2024-12-26T10:14:17.298550400Z"
    }
   },
   "outputs": [],
   "source": [
    "# Device, torch decimal places and seed for reproducibility\n",
    "device = torch.device(CONFIG['DEVICE'] if torch.cuda.is_available() else \"cpu\")\n",
    "torch.set_printoptions(precision=40) \n",
    "\n",
    "torch.manual_seed(CONFIG['SEED'])  \n",
    "torch.cuda.manual_seed_all(CONFIG['SEED'])  \n",
    "np.random.seed(CONFIG['SEED'])  "
   ]
  },
  {
   "cell_type": "code",
   "execution_count": 5,
   "id": "ead528618a5bd413",
   "metadata": {
    "collapsed": false,
    "ExecuteTime": {
     "end_time": "2024-12-26T10:14:17.613279600Z",
     "start_time": "2024-12-26T10:14:17.311279300Z"
    }
   },
   "outputs": [],
   "source": [
    "# Load and prepare data\n",
    "train = pd.read_csv(f\"{CONFIG['data_main']}{CONFIG['train_path']}\")\n",
    "train = train.fillna('-1')\n",
    "\n",
    "for col in ['donor_age', 'age_at_hct']:\n",
    "    train[col] = train[col].astype(int)\n",
    "    \n",
    "train[\"y\"] = train.efs_time.values\n",
    "mx = train.loc[train.efs==1,\"efs_time\"].max()\n",
    "mn = train.loc[train.efs==0,\"efs_time\"].min()\n",
    "train.loc[train.efs==0,\"y\"] = train.loc[train.efs==0,\"y\"] + mx - mn\n",
    "train.y = train.y.rank()\n",
    "train.loc[train.efs==0,\"y\"] += 2*len(train)\n",
    "train.y = train.y / train.y.max()\n",
    "train.y = np.log( train.y )\n",
    "train.y -= train.y.mean()\n",
    "train.y *= -1.0\n",
    "\n",
    "cat_columns = [col for col in train.columns if col not in ['efs', 'efs_time', 'y', 'ID']]\n",
    "train[cat_columns] = train[cat_columns].astype(str)"
   ]
  },
  {
   "cell_type": "code",
   "outputs": [],
   "source": [
    "train_one_hot = pd.get_dummies(train[cat_columns], drop_first=True)"
   ],
   "metadata": {
    "collapsed": false,
    "ExecuteTime": {
     "end_time": "2024-12-26T10:14:17.769942Z",
     "start_time": "2024-12-26T10:14:17.619277700Z"
    }
   },
   "id": "a4023592ce465a05",
   "execution_count": 6
  },
  {
   "cell_type": "code",
   "outputs": [],
   "source": [
    "input_dim = train_one_hot.shape[1]"
   ],
   "metadata": {
    "collapsed": false,
    "ExecuteTime": {
     "end_time": "2024-12-26T10:14:17.785942300Z",
     "start_time": "2024-12-26T10:14:17.771943100Z"
    }
   },
   "id": "7203f96cf36f7ac0",
   "execution_count": 7
  },
  {
   "cell_type": "code",
   "outputs": [],
   "source": [
    "# Model definition\n",
    "class Model(nn.Module):\n",
    "    def __init__(self, input_dim, output_dim=CONFIG['output_dim']):\n",
    "        super(Model, self).__init__()\n",
    "    \n",
    "        self.fc1 = nn.Linear(input_dim, input_dim // 2)\n",
    "        self.fc2 = nn.Linear(input_dim // 2, input_dim // 4)\n",
    "        self.fc3 = nn.Linear(input_dim // 4, output_dim)\n",
    "        \n",
    "        self.relu = nn.ReLU()\n",
    "        self.do = nn.Dropout(p=0.5)\n",
    "        \n",
    "        self.init_weights()\n",
    "    \n",
    "    def init_weights(self):\n",
    "        init.xavier_uniform_(self.fc1.weight)\n",
    "        init.xavier_uniform_(self.fc2.weight)\n",
    "        init.xavier_uniform_(self.fc3.weight)\n",
    "    \n",
    "        self.fc1.weight.data = torch.clamp(self.fc1.weight.data, 0, 1)\n",
    "        self.fc2.weight.data = torch.clamp(self.fc2.weight.data, 0, 1)\n",
    "        self.fc3.weight.data = torch.clamp(self.fc3.weight.data, 0, 1)\n",
    "\n",
    "        if self.fc1.bias is not None:\n",
    "            init.zeros_(self.fc1.bias)\n",
    "        if self.fc2.bias is not None:\n",
    "            init.zeros_(self.fc2.bias)\n",
    "        if self.fc3.bias is not None:\n",
    "            init.zeros_(self.fc3.bias)\n",
    "        \n",
    "    def forward(self, x):\n",
    "\n",
    "        x = self.relu(self.fc1(x))\n",
    "        x = self.do(x)\n",
    "        x = self.relu(self.fc2(x))\n",
    "        x = self.do(x)\n",
    "        x = self.fc3(x)\n",
    "        \n",
    "        return x"
   ],
   "metadata": {
    "collapsed": false,
    "ExecuteTime": {
     "end_time": "2024-12-26T10:14:17.804941300Z",
     "start_time": "2024-12-26T10:14:17.789943100Z"
    }
   },
   "id": "769b210d304532d1",
   "execution_count": 8
  },
  {
   "cell_type": "code",
   "execution_count": 9,
   "id": "ae46951b",
   "metadata": {
    "collapsed": false,
    "execution": {
     "iopub.execute_input": "2024-11-25T04:46:40.465946Z",
     "iopub.status.busy": "2024-11-25T04:46:40.465691Z",
     "iopub.status.idle": "2024-11-25T04:46:41.656166Z",
     "shell.execute_reply": "2024-11-25T04:46:41.655167Z"
    },
    "papermill": {
     "duration": 1.197018,
     "end_time": "2024-11-25T04:46:41.658294",
     "exception": false,
     "start_time": "2024-11-25T04:46:40.461276",
     "status": "completed"
    },
    "tags": [],
    "ExecuteTime": {
     "end_time": "2024-12-26T10:14:19.012090800Z",
     "start_time": "2024-12-26T10:14:17.805941900Z"
    }
   },
   "outputs": [],
   "source": [
    "# Model, criterion and optimizer\n",
    "model = Model(input_dim).to(device)\n",
    "criterion = nn.MSELoss()\n",
    "optimizer = Adam(model.parameters(), lr=CONFIG['LR'])"
   ]
  },
  {
   "cell_type": "code",
   "outputs": [],
   "source": [
    "train_tensors = torch.tensor(train_one_hot.values, device=device, dtype=torch.float32)\n",
    "\n",
    "train_targets = torch.tensor(train['y'].values, device=device, dtype=torch.float32)"
   ],
   "metadata": {
    "collapsed": false,
    "ExecuteTime": {
     "end_time": "2024-12-26T10:14:19.090091800Z",
     "start_time": "2024-12-26T10:14:19.014091200Z"
    }
   },
   "id": "2bed9b1ed476d50a",
   "execution_count": 10
  },
  {
   "cell_type": "code",
   "execution_count": 11,
   "id": "9815da53f5d0594f",
   "metadata": {
    "collapsed": false,
    "ExecuteTime": {
     "end_time": "2024-12-26T10:14:34.044694200Z",
     "start_time": "2024-12-26T10:14:19.092091800Z"
    }
   },
   "outputs": [
    {
     "name": "stderr",
     "output_type": "stream",
     "text": [
      "Epoch 1/103: 100%|██████████| 57/57 [00:00<00:00, 251.10batch/s, train_mean_loss=221.352618]\n",
      "Epoch 2/103: 100%|██████████| 57/57 [00:00<00:00, 367.74batch/s, train_mean_loss=3.029513]\n",
      "Epoch 3/103: 100%|██████████| 57/57 [00:00<00:00, 360.76batch/s, train_mean_loss=2.793190]\n",
      "Epoch 4/103: 100%|██████████| 57/57 [00:00<00:00, 378.46batch/s, train_mean_loss=2.673787]\n",
      "Epoch 5/103: 100%|██████████| 57/57 [00:00<00:00, 354.90batch/s, train_mean_loss=2.593575]\n",
      "Epoch 6/103: 100%|██████████| 57/57 [00:00<00:00, 407.14batch/s, train_mean_loss=2.505458]\n",
      "Epoch 7/103: 100%|██████████| 57/57 [00:00<00:00, 398.53batch/s, train_mean_loss=2.452094]\n",
      "Epoch 8/103: 100%|██████████| 57/57 [00:00<00:00, 428.57batch/s, train_mean_loss=2.391242]\n",
      "Epoch 9/103: 100%|██████████| 57/57 [00:00<00:00, 416.06batch/s, train_mean_loss=2.352141]\n",
      "Epoch 10/103: 100%|██████████| 57/57 [00:00<00:00, 425.37batch/s, train_mean_loss=2.297865]\n",
      "Epoch 11/103: 100%|██████████| 57/57 [00:00<00:00, 423.46batch/s, train_mean_loss=2.248006]\n",
      "Epoch 12/103: 100%|██████████| 57/57 [00:00<00:00, 426.70batch/s, train_mean_loss=2.228706]\n",
      "Epoch 13/103: 100%|██████████| 57/57 [00:00<00:00, 410.07batch/s, train_mean_loss=2.189711]\n",
      "Epoch 14/103: 100%|██████████| 57/57 [00:00<00:00, 431.82batch/s, train_mean_loss=2.170028]\n",
      "Epoch 15/103: 100%|██████████| 57/57 [00:00<00:00, 428.57batch/s, train_mean_loss=2.140006]\n",
      "Epoch 16/103: 100%|██████████| 57/57 [00:00<00:00, 410.07batch/s, train_mean_loss=2.122748]\n",
      "Epoch 17/103: 100%|██████████| 57/57 [00:00<00:00, 318.40batch/s, train_mean_loss=2.087003]\n",
      "Epoch 18/103: 100%|██████████| 57/57 [00:00<00:00, 304.56batch/s, train_mean_loss=2.069970]\n",
      "Epoch 19/103: 100%|██████████| 57/57 [00:00<00:00, 363.06batch/s, train_mean_loss=2.057671]\n",
      "Epoch 20/103: 100%|██████████| 57/57 [00:00<00:00, 463.41batch/s, train_mean_loss=2.042877]\n",
      "Epoch 21/103: 100%|██████████| 57/57 [00:00<00:00, 425.31batch/s, train_mean_loss=2.019811]\n",
      "Epoch 22/103: 100%|██████████| 57/57 [00:00<00:00, 452.38batch/s, train_mean_loss=2.004795]\n",
      "Epoch 23/103: 100%|██████████| 57/57 [00:00<00:00, 413.04batch/s, train_mean_loss=1.995614]\n",
      "Epoch 24/103: 100%|██████████| 57/57 [00:00<00:00, 438.46batch/s, train_mean_loss=1.979786]\n",
      "Epoch 25/103: 100%|██████████| 57/57 [00:00<00:00, 446.29batch/s, train_mean_loss=1.972858]\n",
      "Epoch 26/103: 100%|██████████| 57/57 [00:00<00:00, 436.50batch/s, train_mean_loss=1.961882]\n",
      "Epoch 27/103: 100%|██████████| 57/57 [00:00<00:00, 415.97batch/s, train_mean_loss=1.946231]\n",
      "Epoch 28/103: 100%|██████████| 57/57 [00:00<00:00, 419.12batch/s, train_mean_loss=1.943843]\n",
      "Epoch 29/103: 100%|██████████| 57/57 [00:00<00:00, 441.86batch/s, train_mean_loss=1.930726]\n",
      "Epoch 30/103: 100%|██████████| 57/57 [00:00<00:00, 419.12batch/s, train_mean_loss=1.920755]\n",
      "Epoch 31/103: 100%|██████████| 57/57 [00:00<00:00, 431.82batch/s, train_mean_loss=1.920181]\n",
      "Epoch 32/103: 100%|██████████| 57/57 [00:00<00:00, 428.57batch/s, train_mean_loss=1.910862]\n",
      "Epoch 33/103: 100%|██████████| 57/57 [00:00<00:00, 431.48batch/s, train_mean_loss=1.901240]\n",
      "Epoch 34/103: 100%|██████████| 57/57 [00:00<00:00, 428.48batch/s, train_mean_loss=1.900642]\n",
      "Epoch 35/103: 100%|██████████| 57/57 [00:00<00:00, 428.57batch/s, train_mean_loss=1.895475]\n",
      "Epoch 36/103: 100%|██████████| 57/57 [00:00<00:00, 422.22batch/s, train_mean_loss=1.892802]\n",
      "Epoch 37/103: 100%|██████████| 57/57 [00:00<00:00, 441.77batch/s, train_mean_loss=1.882350]\n",
      "Epoch 38/103: 100%|██████████| 57/57 [00:00<00:00, 425.37batch/s, train_mean_loss=1.871696]\n",
      "Epoch 39/103: 100%|██████████| 57/57 [00:00<00:00, 435.12batch/s, train_mean_loss=1.862405]\n",
      "Epoch 40/103: 100%|██████████| 57/57 [00:00<00:00, 433.02batch/s, train_mean_loss=1.860739]\n",
      "Epoch 41/103: 100%|██████████| 57/57 [00:00<00:00, 420.48batch/s, train_mean_loss=1.856865]\n",
      "Epoch 42/103: 100%|██████████| 57/57 [00:00<00:00, 410.07batch/s, train_mean_loss=1.852866]\n",
      "Epoch 43/103: 100%|██████████| 57/57 [00:00<00:00, 431.82batch/s, train_mean_loss=1.845285]\n",
      "Epoch 44/103: 100%|██████████| 57/57 [00:00<00:00, 431.82batch/s, train_mean_loss=1.843732]\n",
      "Epoch 45/103: 100%|██████████| 57/57 [00:00<00:00, 428.57batch/s, train_mean_loss=1.841889]\n",
      "Epoch 46/103: 100%|██████████| 57/57 [00:00<00:00, 425.37batch/s, train_mean_loss=1.845215]\n",
      "Epoch 47/103: 100%|██████████| 57/57 [00:00<00:00, 421.98batch/s, train_mean_loss=1.831378]\n",
      "Epoch 48/103: 100%|██████████| 57/57 [00:00<00:00, 433.98batch/s, train_mean_loss=1.828778]\n",
      "Epoch 49/103: 100%|██████████| 57/57 [00:00<00:00, 395.83batch/s, train_mean_loss=1.824987]\n",
      "Epoch 50/103: 100%|██████████| 57/57 [00:00<00:00, 459.67batch/s, train_mean_loss=1.824012]\n",
      "Epoch 51/103: 100%|██████████| 57/57 [00:00<00:00, 419.12batch/s, train_mean_loss=1.814059]\n",
      "Epoch 52/103: 100%|██████████| 57/57 [00:00<00:00, 441.86batch/s, train_mean_loss=1.813685]\n",
      "Epoch 53/103: 100%|██████████| 57/57 [00:00<00:00, 428.58batch/s, train_mean_loss=1.810124]\n",
      "Epoch 54/103: 100%|██████████| 57/57 [00:00<00:00, 385.14batch/s, train_mean_loss=1.803569]\n",
      "Epoch 55/103: 100%|██████████| 57/57 [00:00<00:00, 306.23batch/s, train_mean_loss=1.802806]\n",
      "Epoch 56/103: 100%|██████████| 57/57 [00:00<00:00, 299.95batch/s, train_mean_loss=1.795180]\n",
      "Epoch 57/103: 100%|██████████| 57/57 [00:00<00:00, 435.12batch/s, train_mean_loss=1.785876]\n",
      "Epoch 58/103: 100%|██████████| 57/57 [00:00<00:00, 441.86batch/s, train_mean_loss=1.788173]\n",
      "Epoch 59/103: 100%|██████████| 57/57 [00:00<00:00, 431.82batch/s, train_mean_loss=1.778215]\n",
      "Epoch 60/103: 100%|██████████| 57/57 [00:00<00:00, 413.00batch/s, train_mean_loss=1.773857]\n",
      "Epoch 61/103: 100%|██████████| 57/57 [00:00<00:00, 411.40batch/s, train_mean_loss=1.766278]\n",
      "Epoch 62/103: 100%|██████████| 57/57 [00:00<00:00, 461.34batch/s, train_mean_loss=1.768096]\n",
      "Epoch 63/103: 100%|██████████| 57/57 [00:00<00:00, 401.41batch/s, train_mean_loss=1.755391]\n",
      "Epoch 64/103: 100%|██████████| 57/57 [00:00<00:00, 410.07batch/s, train_mean_loss=1.751033]\n",
      "Epoch 65/103: 100%|██████████| 57/57 [00:00<00:00, 410.07batch/s, train_mean_loss=1.748768]\n",
      "Epoch 66/103: 100%|██████████| 57/57 [00:00<00:00, 422.14batch/s, train_mean_loss=1.742510]\n",
      "Epoch 67/103: 100%|██████████| 57/57 [00:00<00:00, 435.12batch/s, train_mean_loss=1.743983]\n",
      "Epoch 68/103: 100%|██████████| 57/57 [00:00<00:00, 435.11batch/s, train_mean_loss=1.736645]\n",
      "Epoch 69/103: 100%|██████████| 57/57 [00:00<00:00, 434.45batch/s, train_mean_loss=1.723720]\n",
      "Epoch 70/103: 100%|██████████| 57/57 [00:00<00:00, 425.37batch/s, train_mean_loss=1.728301]\n",
      "Epoch 71/103: 100%|██████████| 57/57 [00:00<00:00, 422.22batch/s, train_mean_loss=1.716464]\n",
      "Epoch 72/103: 100%|██████████| 57/57 [00:00<00:00, 387.75batch/s, train_mean_loss=1.707669]\n",
      "Epoch 73/103: 100%|██████████| 57/57 [00:00<00:00, 393.11batch/s, train_mean_loss=1.711875]\n",
      "Epoch 74/103: 100%|██████████| 57/57 [00:00<00:00, 382.55batch/s, train_mean_loss=1.704063]\n",
      "Epoch 75/103: 100%|██████████| 57/57 [00:00<00:00, 401.41batch/s, train_mean_loss=1.694577]\n",
      "Epoch 76/103: 100%|██████████| 57/57 [00:00<00:00, 389.42batch/s, train_mean_loss=1.681936]\n",
      "Epoch 77/103: 100%|██████████| 57/57 [00:00<00:00, 387.75batch/s, train_mean_loss=1.678273]\n",
      "Epoch 78/103: 100%|██████████| 57/57 [00:00<00:00, 387.76batch/s, train_mean_loss=1.669628]\n",
      "Epoch 79/103: 100%|██████████| 57/57 [00:00<00:00, 385.14batch/s, train_mean_loss=1.660227]\n",
      "Epoch 80/103: 100%|██████████| 57/57 [00:00<00:00, 395.84batch/s, train_mean_loss=1.656281]\n",
      "Epoch 81/103: 100%|██████████| 57/57 [00:00<00:00, 387.76batch/s, train_mean_loss=1.644266]\n",
      "Epoch 82/103: 100%|██████████| 57/57 [00:00<00:00, 382.55batch/s, train_mean_loss=1.639860]\n",
      "Epoch 83/103: 100%|██████████| 57/57 [00:00<00:00, 402.55batch/s, train_mean_loss=1.626462]\n",
      "Epoch 84/103: 100%|██████████| 57/57 [00:00<00:00, 375.00batch/s, train_mean_loss=1.615393]\n",
      "Epoch 85/103: 100%|██████████| 57/57 [00:00<00:00, 385.06batch/s, train_mean_loss=1.603250]\n",
      "Epoch 86/103: 100%|██████████| 57/57 [00:00<00:00, 390.46batch/s, train_mean_loss=1.587396]\n",
      "Epoch 87/103: 100%|██████████| 57/57 [00:00<00:00, 380.00batch/s, train_mean_loss=1.586830]\n",
      "Epoch 88/103: 100%|██████████| 57/57 [00:00<00:00, 387.76batch/s, train_mean_loss=1.585841]\n",
      "Epoch 89/103: 100%|██████████| 57/57 [00:00<00:00, 384.74batch/s, train_mean_loss=1.565458]\n",
      "Epoch 90/103: 100%|██████████| 57/57 [00:00<00:00, 372.55batch/s, train_mean_loss=1.554698]\n",
      "Epoch 91/103: 100%|██████████| 57/57 [00:00<00:00, 382.55batch/s, train_mean_loss=1.555366]\n",
      "Epoch 92/103: 100%|██████████| 57/57 [00:00<00:00, 375.00batch/s, train_mean_loss=1.536151]\n",
      "Epoch 93/103: 100%|██████████| 57/57 [00:00<00:00, 345.46batch/s, train_mean_loss=1.520225]\n",
      "Epoch 94/103: 100%|██████████| 57/57 [00:00<00:00, 296.82batch/s, train_mean_loss=1.507939]\n",
      "Epoch 95/103: 100%|██████████| 57/57 [00:00<00:00, 311.94batch/s, train_mean_loss=1.486163]\n",
      "Epoch 96/103: 100%|██████████| 57/57 [00:00<00:00, 377.49batch/s, train_mean_loss=1.485587]\n",
      "Epoch 97/103: 100%|██████████| 57/57 [00:00<00:00, 393.10batch/s, train_mean_loss=1.463481]\n",
      "Epoch 98/103: 100%|██████████| 57/57 [00:00<00:00, 375.00batch/s, train_mean_loss=1.455094]\n",
      "Epoch 99/103: 100%|██████████| 57/57 [00:00<00:00, 390.41batch/s, train_mean_loss=1.429987]\n",
      "Epoch 100/103: 100%|██████████| 57/57 [00:00<00:00, 390.42batch/s, train_mean_loss=1.431001]\n",
      "Epoch 101/103: 100%|██████████| 57/57 [00:00<00:00, 387.75batch/s, train_mean_loss=1.410512]\n",
      "Epoch 102/103: 100%|██████████| 57/57 [00:00<00:00, 380.38batch/s, train_mean_loss=1.393183]\n",
      "Epoch 103/103: 100%|██████████| 57/57 [00:00<00:00, 377.48batch/s, train_mean_loss=1.397191]\n"
     ]
    }
   ],
   "source": [
    "# Training\n",
    "train_num_samples = len(train)\n",
    "train_num_batches = (train_num_samples + CONFIG['BATCH_SIZE'] - 1) // CONFIG['BATCH_SIZE']\n",
    "\n",
    "for epoch in range(CONFIG['EPOCHS']):\n",
    "    ##################################################################TRAIN##################################################################\n",
    "    model.train()\n",
    "    train_running_loss = 0.0\n",
    "\n",
    "    with tqdm(range(train_num_batches), desc=f\"Epoch {epoch + 1}/{CONFIG['EPOCHS']}\", unit=\"batch\") as t:\n",
    "        for batch_idx in t:\n",
    "            start_idx = batch_idx * CONFIG['BATCH_SIZE']\n",
    "            end_idx = min(start_idx + CONFIG['BATCH_SIZE'], train_num_samples)\n",
    "\n",
    "            # Извлечение батча данных\n",
    "            batch_inputs = train_tensors[start_idx:end_idx]\n",
    "            batch_targets = train_targets[start_idx:end_idx]\n",
    "            \n",
    "            # Обнуление градиентов\n",
    "            optimizer.zero_grad()\n",
    "\n",
    "            # Прямой проход\n",
    "            outputs = model(batch_inputs)\n",
    "\n",
    "            # Вычисление функции потерь\n",
    "            batch_loss = criterion(outputs, batch_targets.unsqueeze(1))\n",
    "\n",
    "            # Обратный проход\n",
    "            batch_loss.backward()\n",
    "            optimizer.step()\n",
    "\n",
    "            train_running_loss += batch_loss.item()\n",
    "            t.set_postfix(train_mean_loss=f\"{train_running_loss / (batch_idx + 1):.6f}\")"
   ]
  },
  {
   "cell_type": "code",
   "outputs": [],
   "source": [
    "torch.save(model, f'{number}.pth')"
   ],
   "metadata": {
    "collapsed": false,
    "ExecuteTime": {
     "end_time": "2024-12-26T10:14:34.059693900Z",
     "start_time": "2024-12-26T10:14:34.044694200Z"
    }
   },
   "id": "5dd66befac09e49e",
   "execution_count": 12
  }
 ],
 "metadata": {
  "kaggle": {
   "accelerator": "gpu",
   "dataSources": [
    {
     "datasetId": 6155403,
     "sourceId": 10000346,
     "sourceType": "datasetVersion"
    }
   ],
   "dockerImageVersionId": 30787,
   "isGpuEnabled": true,
   "isInternetEnabled": true,
   "language": "python",
   "sourceType": "notebook"
  },
  "kernelspec": {
   "display_name": "Python 3",
   "language": "python",
   "name": "python3"
  },
  "language_info": {
   "codemirror_mode": {
    "name": "ipython",
    "version": 3
   },
   "file_extension": ".py",
   "mimetype": "text/x-python",
   "name": "python",
   "nbconvert_exporter": "python",
   "pygments_lexer": "ipython3",
   "version": "3.10.14"
  },
  "papermill": {
   "default_parameters": {},
   "duration": 5460.653933,
   "end_time": "2024-11-25T06:17:15.604943",
   "environment_variables": {},
   "exception": null,
   "input_path": "__notebook__.ipynb",
   "output_path": "__notebook__.ipynb",
   "parameters": {},
   "start_time": "2024-11-25T04:46:14.951010",
   "version": "2.6.0"
  }
 },
 "nbformat": 4,
 "nbformat_minor": 5
}
