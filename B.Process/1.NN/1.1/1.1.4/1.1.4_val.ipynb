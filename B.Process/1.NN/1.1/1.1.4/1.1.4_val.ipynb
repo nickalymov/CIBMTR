{
 "cells": [
  {
   "cell_type": "code",
   "outputs": [],
   "source": [
    "import os\n",
    "current_directory = os.getcwd()\n",
    "folder_name = os.path.basename(current_directory)\n",
    "number = folder_name"
   ],
   "metadata": {
    "collapsed": false,
    "ExecuteTime": {
     "end_time": "2024-12-26T10:13:14.678605300Z",
     "start_time": "2024-12-26T10:13:14.566564Z"
    }
   },
   "id": "98e9eccdccd5addd",
   "execution_count": 1
  },
  {
   "cell_type": "code",
   "outputs": [],
   "source": [
    "CONFIG = {\n",
    "    'data_main': 'C:/Users/Николай/PycharmProjects/CIBMTR/D.Data/main/',\n",
    "    'data_train_process': 'C:/Users/Николай/PycharmProjects/CIBMTR/D.Data/train_process/',\n",
    "    'data_train_split': 'C:/Users/Николай/PycharmProjects/CIBMTR/D.Data/train_split/',\n",
    "    'train_path': 'train.csv',\n",
    "    'folds_path': 'v1.csv', \n",
    "\n",
    "    'DEVICE' : 'cuda',\n",
    "    'SEED' : 42,\n",
    "    'BATCH_SIZE' : 512,\n",
    "    'LR' : 0.001,\n",
    "    'EPOCHS': 103,\n",
    "    'output_dim' : 1\n",
    "}"
   ],
   "metadata": {
    "collapsed": false,
    "ExecuteTime": {
     "end_time": "2024-12-26T10:13:14.681599700Z",
     "start_time": "2024-12-26T10:13:14.576562400Z"
    }
   },
   "id": "4a794a5c2901e728",
   "execution_count": 2
  },
  {
   "cell_type": "code",
   "execution_count": 3,
   "id": "f9ee4882",
   "metadata": {
    "collapsed": false,
    "execution": {
     "iopub.execute_input": "2024-11-25T04:46:17.459651Z",
     "iopub.status.busy": "2024-11-25T04:46:17.459331Z",
     "iopub.status.idle": "2024-11-25T04:46:22.363731Z",
     "shell.execute_reply": "2024-11-25T04:46:22.362971Z"
    },
    "papermill": {
     "duration": 4.91114,
     "end_time": "2024-11-25T04:46:22.365894",
     "exception": false,
     "start_time": "2024-11-25T04:46:17.454754",
     "status": "completed"
    },
    "tags": [],
    "ExecuteTime": {
     "end_time": "2024-12-26T10:13:16.526238100Z",
     "start_time": "2024-12-26T10:13:14.618560200Z"
    }
   },
   "outputs": [],
   "source": [
    "# Import libs\n",
    "import numpy as np\n",
    "from tqdm import tqdm\n",
    "import pandas as pd \n",
    "import torch\n",
    "import torch.nn as nn\n",
    "from torch.optim import Adam\n",
    "import torch.nn.init as init\n",
    "from metric import score"
   ]
  },
  {
   "cell_type": "code",
   "execution_count": 4,
   "id": "6cf61865",
   "metadata": {
    "collapsed": false,
    "execution": {
     "iopub.execute_input": "2024-11-25T04:46:22.376480Z",
     "iopub.status.busy": "2024-11-25T04:46:22.375606Z",
     "iopub.status.idle": "2024-11-25T04:46:22.445552Z",
     "shell.execute_reply": "2024-11-25T04:46:22.444304Z"
    },
    "papermill": {
     "duration": 0.077688,
     "end_time": "2024-11-25T04:46:22.448120",
     "exception": false,
     "start_time": "2024-11-25T04:46:22.370432",
     "status": "completed"
    },
    "tags": [],
    "ExecuteTime": {
     "end_time": "2024-12-26T10:13:17.777845500Z",
     "start_time": "2024-12-26T10:13:16.528626Z"
    }
   },
   "outputs": [],
   "source": [
    "# Device, torch decimal places and seed for reproducibility\n",
    "device = torch.device(CONFIG['DEVICE'] if torch.cuda.is_available() else \"cpu\")\n",
    "torch.set_printoptions(precision=40) \n",
    "\n",
    "torch.manual_seed(CONFIG['SEED'])  \n",
    "torch.cuda.manual_seed_all(CONFIG['SEED'])  \n",
    "np.random.seed(CONFIG['SEED'])  "
   ]
  },
  {
   "cell_type": "code",
   "execution_count": 5,
   "id": "ead528618a5bd413",
   "metadata": {
    "collapsed": false,
    "ExecuteTime": {
     "end_time": "2024-12-26T10:13:18.078511300Z",
     "start_time": "2024-12-26T10:13:17.780864400Z"
    }
   },
   "outputs": [],
   "source": [
    "# Load and prepare data\n",
    "train = pd.read_csv(f\"{CONFIG['data_main']}{CONFIG['train_path']}\")\n",
    "train = train.fillna('-1')\n",
    "\n",
    "for col in ['donor_age', 'age_at_hct']:\n",
    "    train[col] = train[col].astype(int)\n",
    "    \n",
    "train[\"y\"] = train.efs_time.values\n",
    "mx = train.loc[train.efs==1,\"efs_time\"].max()\n",
    "mn = train.loc[train.efs==0,\"efs_time\"].min()\n",
    "train.loc[train.efs==0,\"y\"] = train.loc[train.efs==0,\"y\"] + mx - mn\n",
    "train.y = train.y.rank()\n",
    "train.loc[train.efs==0,\"y\"] += 2*len(train)\n",
    "train.y = train.y / train.y.max()\n",
    "train.y = np.log( train.y )\n",
    "train.y -= train.y.mean()\n",
    "train.y *= -1.0\n",
    "\n",
    "# train['efs_time'] = (train['efs_time'] - train['efs_time'].min()) / (train['efs_time'].max() - train['efs_time'].min())\n",
    "\n",
    "cat_columns = [col for col in train.columns if col not in ['efs', 'efs_time', 'y', 'ID']]\n",
    "train[cat_columns] = train[cat_columns].astype(str)"
   ]
  },
  {
   "cell_type": "code",
   "outputs": [],
   "source": [
    "folds = pd.read_csv(f\"{CONFIG['data_train_split']}{CONFIG['folds_path']}\")\n",
    "val = train[folds['fold'] == 4].copy(deep=True)\n",
    "train = train[folds['fold'].isin([0, 1, 2, 3])].copy(deep=True)\n",
    "val.reset_index(drop=True, inplace=True)\n",
    "train.reset_index(drop=True, inplace=True)"
   ],
   "metadata": {
    "collapsed": false,
    "execution": {
     "iopub.execute_input": "2024-11-25T04:46:22.463105Z",
     "iopub.status.busy": "2024-11-25T04:46:22.462120Z",
     "iopub.status.idle": "2024-11-25T04:46:36.958670Z",
     "shell.execute_reply": "2024-11-25T04:46:36.957928Z"
    },
    "papermill": {
     "duration": 14.504329,
     "end_time": "2024-11-25T04:46:36.960715",
     "exception": false,
     "start_time": "2024-11-25T04:46:22.456386",
     "status": "completed"
    },
    "tags": [],
    "ExecuteTime": {
     "end_time": "2024-12-26T10:13:18.174254700Z",
     "start_time": "2024-12-26T10:13:18.081422800Z"
    }
   },
   "id": "3dfa6723",
   "execution_count": 6
  },
  {
   "cell_type": "code",
   "outputs": [],
   "source": [
    "train_one_hot = pd.get_dummies(train[cat_columns], drop_first=True)\n",
    "val_one_hot = pd.get_dummies(val[cat_columns], drop_first=True)\n",
    "val_one_hot = val_one_hot.reindex(columns=train_one_hot.columns, fill_value=False)"
   ],
   "metadata": {
    "collapsed": false,
    "ExecuteTime": {
     "end_time": "2024-12-26T10:13:18.317259600Z",
     "start_time": "2024-12-26T10:13:18.175311300Z"
    }
   },
   "id": "a4023592ce465a05",
   "execution_count": 7
  },
  {
   "cell_type": "code",
   "outputs": [],
   "source": [
    "input_dim = train_one_hot.shape[1]"
   ],
   "metadata": {
    "collapsed": false,
    "ExecuteTime": {
     "end_time": "2024-12-26T10:13:18.333265900Z",
     "start_time": "2024-12-26T10:13:18.318308900Z"
    }
   },
   "id": "7203f96cf36f7ac0",
   "execution_count": 8
  },
  {
   "cell_type": "code",
   "outputs": [],
   "source": [
    "# Model definition\n",
    "class Model(nn.Module):\n",
    "    def __init__(self, input_dim, output_dim=CONFIG['output_dim']):\n",
    "        super(Model, self).__init__()\n",
    "    \n",
    "        self.fc1 = nn.Linear(input_dim, input_dim // 2)\n",
    "        self.fc2 = nn.Linear(input_dim // 2, input_dim // 4)\n",
    "        self.fc3 = nn.Linear(input_dim // 4, output_dim)\n",
    "        \n",
    "        self.relu = nn.ReLU()\n",
    "        self.do = nn.Dropout(p=0.5)\n",
    "        \n",
    "        self.init_weights()\n",
    "    \n",
    "    def init_weights(self):\n",
    "        init.xavier_uniform_(self.fc1.weight)\n",
    "        init.xavier_uniform_(self.fc2.weight)\n",
    "        init.xavier_uniform_(self.fc3.weight)\n",
    "    \n",
    "        self.fc1.weight.data = torch.clamp(self.fc1.weight.data, 0, 1)\n",
    "        self.fc2.weight.data = torch.clamp(self.fc2.weight.data, 0, 1)\n",
    "        self.fc3.weight.data = torch.clamp(self.fc3.weight.data, 0, 1)\n",
    "\n",
    "        if self.fc1.bias is not None:\n",
    "            init.zeros_(self.fc1.bias)\n",
    "        if self.fc2.bias is not None:\n",
    "            init.zeros_(self.fc2.bias)\n",
    "        if self.fc3.bias is not None:\n",
    "            init.zeros_(self.fc3.bias)\n",
    "        \n",
    "    def forward(self, x):\n",
    "\n",
    "        x = self.relu(self.fc1(x))\n",
    "        x = self.do(x)\n",
    "        x = self.relu(self.fc2(x))\n",
    "        x = self.do(x)\n",
    "        x = self.fc3(x)\n",
    "        \n",
    "        return x"
   ],
   "metadata": {
    "collapsed": false,
    "ExecuteTime": {
     "end_time": "2024-12-26T10:13:18.349252500Z",
     "start_time": "2024-12-26T10:13:18.336260200Z"
    }
   },
   "id": "769b210d304532d1",
   "execution_count": 9
  },
  {
   "cell_type": "code",
   "execution_count": 10,
   "id": "ae46951b",
   "metadata": {
    "collapsed": false,
    "execution": {
     "iopub.execute_input": "2024-11-25T04:46:40.465946Z",
     "iopub.status.busy": "2024-11-25T04:46:40.465691Z",
     "iopub.status.idle": "2024-11-25T04:46:41.656166Z",
     "shell.execute_reply": "2024-11-25T04:46:41.655167Z"
    },
    "papermill": {
     "duration": 1.197018,
     "end_time": "2024-11-25T04:46:41.658294",
     "exception": false,
     "start_time": "2024-11-25T04:46:40.461276",
     "status": "completed"
    },
    "tags": [],
    "ExecuteTime": {
     "end_time": "2024-12-26T10:13:19.616528300Z",
     "start_time": "2024-12-26T10:13:18.350310200Z"
    }
   },
   "outputs": [],
   "source": [
    "# Model, criterion and optimizer\n",
    "model = Model(input_dim).to(device)\n",
    "criterion = nn.MSELoss()\n",
    "optimizer = Adam(model.parameters(), lr=CONFIG['LR'])"
   ]
  },
  {
   "cell_type": "code",
   "outputs": [],
   "source": [
    "train_tensors = torch.tensor(train_one_hot.values, device=device, dtype=torch.float32)\n",
    "\n",
    "train_targets = torch.tensor(train['y'].values, device=device, dtype=torch.float32)\n",
    "\n",
    "val_tensors = torch.tensor(val_one_hot.values, device=device, dtype=torch.float32)\n",
    "\n",
    "val_targets = torch.tensor(val['y'].values, device=device, dtype=torch.float32)"
   ],
   "metadata": {
    "collapsed": false,
    "ExecuteTime": {
     "end_time": "2024-12-26T10:13:19.695999500Z",
     "start_time": "2024-12-26T10:13:19.619502500Z"
    }
   },
   "id": "2bed9b1ed476d50a",
   "execution_count": 11
  },
  {
   "cell_type": "code",
   "outputs": [
    {
     "name": "stderr",
     "output_type": "stream",
     "text": [
      "Epoch 1/103: 100%|██████████| 45/45 [00:00<00:00, 237.57batch/s, train_mean_loss=247.110837]\n",
      "Epoch 1/103: 100%|██████████| 12/12 [00:00<00:00, 665.27batch/s, val_mean_loss=2.810012]\n"
     ]
    },
    {
     "name": "stdout",
     "output_type": "stream",
     "text": [
      "New Best Score: 0.4590443264090422, Epoch: 1\n"
     ]
    },
    {
     "name": "stderr",
     "output_type": "stream",
     "text": [
      "Epoch 2/103: 100%|██████████| 45/45 [00:00<00:00, 409.31batch/s, train_mean_loss=3.335038]\n",
      "Epoch 2/103: 100%|██████████| 12/12 [00:00<00:00, 800.16batch/s, val_mean_loss=2.382656]\n"
     ]
    },
    {
     "name": "stdout",
     "output_type": "stream",
     "text": [
      "New Best Score: 0.4854272674135824, Epoch: 2\n"
     ]
    },
    {
     "name": "stderr",
     "output_type": "stream",
     "text": [
      "Epoch 3/103: 100%|██████████| 45/45 [00:00<00:00, 376.38batch/s, train_mean_loss=2.826714]\n",
      "Epoch 3/103: 100%|██████████| 12/12 [00:00<00:00, 799.27batch/s, val_mean_loss=2.276649]\n"
     ]
    },
    {
     "name": "stdout",
     "output_type": "stream",
     "text": [
      "New Best Score: 0.5272713542306848, Epoch: 3\n"
     ]
    },
    {
     "name": "stderr",
     "output_type": "stream",
     "text": [
      "Epoch 4/103: 100%|██████████| 45/45 [00:00<00:00, 384.47batch/s, train_mean_loss=2.727368]\n",
      "Epoch 4/103: 100%|██████████| 12/12 [00:00<00:00, 801.41batch/s, val_mean_loss=2.263332]\n"
     ]
    },
    {
     "name": "stdout",
     "output_type": "stream",
     "text": [
      "New Best Score: 0.5512243435746839, Epoch: 4\n"
     ]
    },
    {
     "name": "stderr",
     "output_type": "stream",
     "text": [
      "Epoch 5/103: 100%|██████████| 45/45 [00:00<00:00, 360.17batch/s, train_mean_loss=2.668291]\n",
      "Epoch 5/103: 100%|██████████| 12/12 [00:00<00:00, 600.01batch/s, val_mean_loss=2.251050]"
     ]
    },
    {
     "name": "stdout",
     "output_type": "stream",
     "text": [
      "New Best Score: 0.5705842720600296, Epoch: 5\n"
     ]
    },
    {
     "name": "stderr",
     "output_type": "stream",
     "text": [
      "\n",
      "Epoch 6/103: 100%|██████████| 45/45 [00:00<00:00, 292.94batch/s, train_mean_loss=2.584035]\n",
      "Epoch 6/103: 100%|██████████| 12/12 [00:00<00:00, 611.47batch/s, val_mean_loss=2.239342]\n"
     ]
    },
    {
     "name": "stdout",
     "output_type": "stream",
     "text": [
      "New Best Score: 0.5863838709009643, Epoch: 6\n"
     ]
    },
    {
     "name": "stderr",
     "output_type": "stream",
     "text": [
      "Epoch 7/103: 100%|██████████| 45/45 [00:00<00:00, 330.85batch/s, train_mean_loss=2.507533]\n",
      "Epoch 7/103: 100%|██████████| 12/12 [00:00<00:00, 751.44batch/s, val_mean_loss=2.227430]"
     ]
    },
    {
     "name": "stdout",
     "output_type": "stream",
     "text": [
      "New Best Score: 0.5983485949883652, Epoch: 7\n"
     ]
    },
    {
     "name": "stderr",
     "output_type": "stream",
     "text": [
      "\n",
      "Epoch 8/103: 100%|██████████| 45/45 [00:00<00:00, 371.85batch/s, train_mean_loss=2.441461]\n",
      "Epoch 8/103: 100%|██████████| 12/12 [00:00<00:00, 862.58batch/s, val_mean_loss=2.215414]\n"
     ]
    },
    {
     "name": "stdout",
     "output_type": "stream",
     "text": [
      "New Best Score: 0.6073739782266974, Epoch: 8\n"
     ]
    },
    {
     "name": "stderr",
     "output_type": "stream",
     "text": [
      "Epoch 9/103: 100%|██████████| 45/45 [00:00<00:00, 378.15batch/s, train_mean_loss=2.406352]\n",
      "Epoch 9/103: 100%|██████████| 12/12 [00:00<00:00, 799.52batch/s, val_mean_loss=2.203412]\n"
     ]
    },
    {
     "name": "stdout",
     "output_type": "stream",
     "text": [
      "New Best Score: 0.6142475467886648, Epoch: 9\n"
     ]
    },
    {
     "name": "stderr",
     "output_type": "stream",
     "text": [
      "Epoch 10/103: 100%|██████████| 45/45 [00:00<00:00, 420.86batch/s, train_mean_loss=2.350860]\n",
      "Epoch 10/103: 100%|██████████| 12/12 [00:00<00:00, 798.90batch/s, val_mean_loss=2.191290]\n"
     ]
    },
    {
     "name": "stdout",
     "output_type": "stream",
     "text": [
      "New Best Score: 0.6201977291179969, Epoch: 10\n"
     ]
    },
    {
     "name": "stderr",
     "output_type": "stream",
     "text": [
      "Epoch 11/103: 100%|██████████| 45/45 [00:00<00:00, 389.88batch/s, train_mean_loss=2.317713]\n",
      "Epoch 11/103: 100%|██████████| 12/12 [00:00<00:00, 802.48batch/s, val_mean_loss=2.178993]\n"
     ]
    },
    {
     "name": "stdout",
     "output_type": "stream",
     "text": [
      "New Best Score: 0.6250320021282963, Epoch: 11\n"
     ]
    },
    {
     "name": "stderr",
     "output_type": "stream",
     "text": [
      "Epoch 12/103: 100%|██████████| 45/45 [00:00<00:00, 385.15batch/s, train_mean_loss=2.278901]\n",
      "Epoch 12/103: 100%|██████████| 12/12 [00:00<00:00, 854.22batch/s, val_mean_loss=2.166453]\n"
     ]
    },
    {
     "name": "stdout",
     "output_type": "stream",
     "text": [
      "New Best Score: 0.628791161328713, Epoch: 12\n"
     ]
    },
    {
     "name": "stderr",
     "output_type": "stream",
     "text": [
      "Epoch 13/103: 100%|██████████| 45/45 [00:00<00:00, 378.39batch/s, train_mean_loss=2.247838]\n",
      "Epoch 13/103: 100%|██████████| 12/12 [00:00<00:00, 999.89batch/s, val_mean_loss=2.153751]\n"
     ]
    },
    {
     "name": "stdout",
     "output_type": "stream",
     "text": [
      "New Best Score: 0.6320744418146486, Epoch: 13\n"
     ]
    },
    {
     "name": "stderr",
     "output_type": "stream",
     "text": [
      "Epoch 14/103: 100%|██████████| 45/45 [00:00<00:00, 378.22batch/s, train_mean_loss=2.228383]\n",
      "Epoch 14/103: 100%|██████████| 12/12 [00:00<00:00, 799.21batch/s, val_mean_loss=2.140801]\n"
     ]
    },
    {
     "name": "stdout",
     "output_type": "stream",
     "text": [
      "New Best Score: 0.6345789559369719, Epoch: 14\n"
     ]
    },
    {
     "name": "stderr",
     "output_type": "stream",
     "text": [
      "Epoch 15/103: 100%|██████████| 45/45 [00:00<00:00, 378.06batch/s, train_mean_loss=2.195296]\n",
      "Epoch 15/103: 100%|██████████| 12/12 [00:00<00:00, 798.32batch/s, val_mean_loss=2.127567]\n"
     ]
    },
    {
     "name": "stdout",
     "output_type": "stream",
     "text": [
      "New Best Score: 0.6369941627696014, Epoch: 15\n"
     ]
    },
    {
     "name": "stderr",
     "output_type": "stream",
     "text": [
      "Epoch 16/103: 100%|██████████| 45/45 [00:00<00:00, 394.72batch/s, train_mean_loss=2.166620]\n",
      "Epoch 16/103: 100%|██████████| 12/12 [00:00<00:00, 922.15batch/s, val_mean_loss=2.114341]\n"
     ]
    },
    {
     "name": "stdout",
     "output_type": "stream",
     "text": [
      "New Best Score: 0.6391484520943039, Epoch: 16\n"
     ]
    },
    {
     "name": "stderr",
     "output_type": "stream",
     "text": [
      "Epoch 17/103: 100%|██████████| 45/45 [00:00<00:00, 395.11batch/s, train_mean_loss=2.137188]\n",
      "Epoch 17/103: 100%|██████████| 12/12 [00:00<00:00, 856.87batch/s, val_mean_loss=2.100228]\n"
     ]
    },
    {
     "name": "stdout",
     "output_type": "stream",
     "text": [
      "New Best Score: 0.6411559965488838, Epoch: 17\n"
     ]
    },
    {
     "name": "stderr",
     "output_type": "stream",
     "text": [
      "Epoch 18/103: 100%|██████████| 45/45 [00:00<00:00, 378.86batch/s, train_mean_loss=2.123839]\n",
      "Epoch 18/103: 100%|██████████| 12/12 [00:00<00:00, 852.56batch/s, val_mean_loss=2.086785]\n"
     ]
    },
    {
     "name": "stdout",
     "output_type": "stream",
     "text": [
      "New Best Score: 0.6428845128425891, Epoch: 18\n"
     ]
    },
    {
     "name": "stderr",
     "output_type": "stream",
     "text": [
      "Epoch 19/103: 100%|██████████| 45/45 [00:00<00:00, 405.63batch/s, train_mean_loss=2.106989]\n",
      "Epoch 19/103: 100%|██████████| 12/12 [00:00<00:00, 857.04batch/s, val_mean_loss=2.073101]\n"
     ]
    },
    {
     "name": "stdout",
     "output_type": "stream",
     "text": [
      "New Best Score: 0.644605443770282, Epoch: 19\n"
     ]
    },
    {
     "name": "stderr",
     "output_type": "stream",
     "text": [
      "Epoch 20/103: 100%|██████████| 45/45 [00:00<00:00, 387.98batch/s, train_mean_loss=2.085001]\n",
      "Epoch 20/103: 100%|██████████| 12/12 [00:00<00:00, 855.54batch/s, val_mean_loss=2.060073]\n"
     ]
    },
    {
     "name": "stdout",
     "output_type": "stream",
     "text": [
      "New Best Score: 0.6460378829472235, Epoch: 20\n"
     ]
    },
    {
     "name": "stderr",
     "output_type": "stream",
     "text": [
      "Epoch 21/103: 100%|██████████| 45/45 [00:00<00:00, 378.21batch/s, train_mean_loss=2.059161]\n",
      "Epoch 21/103: 100%|██████████| 12/12 [00:00<00:00, 800.68batch/s, val_mean_loss=2.046838]\n"
     ]
    },
    {
     "name": "stdout",
     "output_type": "stream",
     "text": [
      "New Best Score: 0.6474508336211321, Epoch: 21\n"
     ]
    },
    {
     "name": "stderr",
     "output_type": "stream",
     "text": [
      "Epoch 22/103: 100%|██████████| 45/45 [00:00<00:00, 388.25batch/s, train_mean_loss=2.050708]\n",
      "Epoch 22/103: 100%|██████████| 12/12 [00:00<00:00, 923.25batch/s, val_mean_loss=2.034493]\n"
     ]
    },
    {
     "name": "stdout",
     "output_type": "stream",
     "text": [
      "New Best Score: 0.6491133086135988, Epoch: 22\n"
     ]
    },
    {
     "name": "stderr",
     "output_type": "stream",
     "text": [
      "Epoch 23/103: 100%|██████████| 45/45 [00:00<00:00, 428.77batch/s, train_mean_loss=2.040076]\n",
      "Epoch 23/103: 100%|██████████| 12/12 [00:00<00:00, 849.16batch/s, val_mean_loss=2.022981]\n"
     ]
    },
    {
     "name": "stdout",
     "output_type": "stream",
     "text": [
      "New Best Score: 0.6503055541105325, Epoch: 23\n"
     ]
    },
    {
     "name": "stderr",
     "output_type": "stream",
     "text": [
      "Epoch 24/103: 100%|██████████| 45/45 [00:00<00:00, 368.54batch/s, train_mean_loss=2.023928]\n",
      "Epoch 24/103: 100%|██████████| 12/12 [00:00<00:00, 748.77batch/s, val_mean_loss=2.012476]\n"
     ]
    },
    {
     "name": "stdout",
     "output_type": "stream",
     "text": [
      "New Best Score: 0.6512631958954868, Epoch: 24\n"
     ]
    },
    {
     "name": "stderr",
     "output_type": "stream",
     "text": [
      "Epoch 25/103: 100%|██████████| 45/45 [00:00<00:00, 437.03batch/s, train_mean_loss=2.000999]\n",
      "Epoch 25/103: 100%|██████████| 12/12 [00:00<00:00, 856.16batch/s, val_mean_loss=2.002195]\n"
     ]
    },
    {
     "name": "stdout",
     "output_type": "stream",
     "text": [
      "New Best Score: 0.6523787582318382, Epoch: 25\n"
     ]
    },
    {
     "name": "stderr",
     "output_type": "stream",
     "text": [
      "Epoch 26/103: 100%|██████████| 45/45 [00:00<00:00, 405.41batch/s, train_mean_loss=1.991114]\n",
      "Epoch 26/103: 100%|██████████| 12/12 [00:00<00:00, 922.99batch/s, val_mean_loss=1.992477]\n"
     ]
    },
    {
     "name": "stdout",
     "output_type": "stream",
     "text": [
      "New Best Score: 0.653470962910038, Epoch: 26\n"
     ]
    },
    {
     "name": "stderr",
     "output_type": "stream",
     "text": [
      "Epoch 27/103: 100%|██████████| 45/45 [00:00<00:00, 403.19batch/s, train_mean_loss=1.988904]\n",
      "Epoch 27/103: 100%|██████████| 12/12 [00:00<00:00, 857.22batch/s, val_mean_loss=1.984444]\n"
     ]
    },
    {
     "name": "stdout",
     "output_type": "stream",
     "text": [
      "New Best Score: 0.6545524722108149, Epoch: 27\n"
     ]
    },
    {
     "name": "stderr",
     "output_type": "stream",
     "text": [
      "Epoch 28/103: 100%|██████████| 45/45 [00:00<00:00, 384.77batch/s, train_mean_loss=1.961799]\n",
      "Epoch 28/103: 100%|██████████| 12/12 [00:00<00:00, 1090.89batch/s, val_mean_loss=1.975512]\n"
     ]
    },
    {
     "name": "stdout",
     "output_type": "stream",
     "text": [
      "New Best Score: 0.6555554654435816, Epoch: 28\n"
     ]
    },
    {
     "name": "stderr",
     "output_type": "stream",
     "text": [
      "Epoch 29/103: 100%|██████████| 45/45 [00:00<00:00, 284.39batch/s, train_mean_loss=1.961981]\n",
      "Epoch 29/103: 100%|██████████| 12/12 [00:00<00:00, 631.66batch/s, val_mean_loss=1.968449]\n"
     ]
    },
    {
     "name": "stdout",
     "output_type": "stream",
     "text": [
      "New Best Score: 0.6563095574109074, Epoch: 29\n"
     ]
    },
    {
     "name": "stderr",
     "output_type": "stream",
     "text": [
      "Epoch 30/103: 100%|██████████| 45/45 [00:00<00:00, 295.87batch/s, train_mean_loss=1.949468]\n",
      "Epoch 30/103: 100%|██████████| 12/12 [00:00<00:00, 854.28batch/s, val_mean_loss=1.961609]\n"
     ]
    },
    {
     "name": "stdout",
     "output_type": "stream",
     "text": [
      "New Best Score: 0.6571478934169462, Epoch: 30\n"
     ]
    },
    {
     "name": "stderr",
     "output_type": "stream",
     "text": [
      "Epoch 31/103: 100%|██████████| 45/45 [00:00<00:00, 384.92batch/s, train_mean_loss=1.949911]\n",
      "Epoch 31/103: 100%|██████████| 12/12 [00:00<00:00, 923.16batch/s, val_mean_loss=1.955902]\n"
     ]
    },
    {
     "name": "stdout",
     "output_type": "stream",
     "text": [
      "New Best Score: 0.6580887196764575, Epoch: 31\n"
     ]
    },
    {
     "name": "stderr",
     "output_type": "stream",
     "text": [
      "Epoch 32/103: 100%|██████████| 45/45 [00:00<00:00, 391.39batch/s, train_mean_loss=1.934448]\n",
      "Epoch 32/103: 100%|██████████| 12/12 [00:00<00:00, 924.01batch/s, val_mean_loss=1.951116]\n"
     ]
    },
    {
     "name": "stdout",
     "output_type": "stream",
     "text": [
      "New Best Score: 0.6588745096628695, Epoch: 32\n"
     ]
    },
    {
     "name": "stderr",
     "output_type": "stream",
     "text": [
      "Epoch 33/103: 100%|██████████| 45/45 [00:00<00:00, 379.14batch/s, train_mean_loss=1.926932]\n",
      "Epoch 33/103: 100%|██████████| 12/12 [00:00<00:00, 667.32batch/s, val_mean_loss=1.945184]\n"
     ]
    },
    {
     "name": "stdout",
     "output_type": "stream",
     "text": [
      "New Best Score: 0.6595369087684463, Epoch: 33\n"
     ]
    },
    {
     "name": "stderr",
     "output_type": "stream",
     "text": [
      "Epoch 34/103: 100%|██████████| 45/45 [00:00<00:00, 424.19batch/s, train_mean_loss=1.919772]\n",
      "Epoch 34/103: 100%|██████████| 12/12 [00:00<00:00, 920.91batch/s, val_mean_loss=1.940050]\n"
     ]
    },
    {
     "name": "stdout",
     "output_type": "stream",
     "text": [
      "New Best Score: 0.6602217005001815, Epoch: 34\n"
     ]
    },
    {
     "name": "stderr",
     "output_type": "stream",
     "text": [
      "Epoch 35/103: 100%|██████████| 45/45 [00:00<00:00, 434.09batch/s, train_mean_loss=1.911923]\n",
      "Epoch 35/103: 100%|██████████| 12/12 [00:00<00:00, 856.59batch/s, val_mean_loss=1.935314]\n"
     ]
    },
    {
     "name": "stdout",
     "output_type": "stream",
     "text": [
      "New Best Score: 0.660921240812549, Epoch: 35\n"
     ]
    },
    {
     "name": "stderr",
     "output_type": "stream",
     "text": [
      "Epoch 36/103: 100%|██████████| 45/45 [00:00<00:00, 428.55batch/s, train_mean_loss=1.905603]\n",
      "Epoch 36/103: 100%|██████████| 12/12 [00:00<00:00, 854.82batch/s, val_mean_loss=1.931403]\n"
     ]
    },
    {
     "name": "stdout",
     "output_type": "stream",
     "text": [
      "New Best Score: 0.6614832033390211, Epoch: 36\n"
     ]
    },
    {
     "name": "stderr",
     "output_type": "stream",
     "text": [
      "Epoch 37/103: 100%|██████████| 45/45 [00:00<00:00, 441.02batch/s, train_mean_loss=1.892573]\n",
      "Epoch 37/103: 100%|██████████| 12/12 [00:00<00:00, 799.33batch/s, val_mean_loss=1.928514]\n"
     ]
    },
    {
     "name": "stdout",
     "output_type": "stream",
     "text": [
      "New Best Score: 0.6618379279519885, Epoch: 37\n"
     ]
    },
    {
     "name": "stderr",
     "output_type": "stream",
     "text": [
      "Epoch 38/103: 100%|██████████| 45/45 [00:00<00:00, 424.49batch/s, train_mean_loss=1.899633]\n",
      "Epoch 38/103: 100%|██████████| 12/12 [00:00<00:00, 857.22batch/s, val_mean_loss=1.925490]\n"
     ]
    },
    {
     "name": "stdout",
     "output_type": "stream",
     "text": [
      "New Best Score: 0.6625449439728438, Epoch: 38\n"
     ]
    },
    {
     "name": "stderr",
     "output_type": "stream",
     "text": [
      "Epoch 39/103: 100%|██████████| 45/45 [00:00<00:00, 454.64batch/s, train_mean_loss=1.880130]\n",
      "Epoch 39/103: 100%|██████████| 12/12 [00:00<00:00, 857.35batch/s, val_mean_loss=1.922288]\n"
     ]
    },
    {
     "name": "stdout",
     "output_type": "stream",
     "text": [
      "New Best Score: 0.6630206991111016, Epoch: 39\n"
     ]
    },
    {
     "name": "stderr",
     "output_type": "stream",
     "text": [
      "Epoch 40/103: 100%|██████████| 45/45 [00:00<00:00, 450.10batch/s, train_mean_loss=1.885348]\n",
      "Epoch 40/103: 100%|██████████| 12/12 [00:00<00:00, 996.17batch/s, val_mean_loss=1.920297]\n"
     ]
    },
    {
     "name": "stdout",
     "output_type": "stream",
     "text": [
      "New Best Score: 0.6632621890939076, Epoch: 40\n"
     ]
    },
    {
     "name": "stderr",
     "output_type": "stream",
     "text": [
      "Epoch 41/103: 100%|██████████| 45/45 [00:00<00:00, 417.99batch/s, train_mean_loss=1.872039]\n",
      "Epoch 41/103: 100%|██████████| 12/12 [00:00<00:00, 923.74batch/s, val_mean_loss=1.917426]\n"
     ]
    },
    {
     "name": "stdout",
     "output_type": "stream",
     "text": [
      "New Best Score: 0.6637358550443858, Epoch: 41\n"
     ]
    },
    {
     "name": "stderr",
     "output_type": "stream",
     "text": [
      "Epoch 42/103: 100%|██████████| 45/45 [00:00<00:00, 420.59batch/s, train_mean_loss=1.873395]\n",
      "Epoch 42/103: 100%|██████████| 12/12 [00:00<00:00, 919.69batch/s, val_mean_loss=1.916291]\n"
     ]
    },
    {
     "name": "stdout",
     "output_type": "stream",
     "text": [
      "New Best Score: 0.6638789206683263, Epoch: 42\n"
     ]
    },
    {
     "name": "stderr",
     "output_type": "stream",
     "text": [
      "Epoch 43/103: 100%|██████████| 45/45 [00:00<00:00, 428.62batch/s, train_mean_loss=1.867281]\n",
      "Epoch 43/103: 100%|██████████| 12/12 [00:00<00:00, 922.28batch/s, val_mean_loss=1.913774]\n"
     ]
    },
    {
     "name": "stdout",
     "output_type": "stream",
     "text": [
      "New Best Score: 0.6644288912843171, Epoch: 43\n"
     ]
    },
    {
     "name": "stderr",
     "output_type": "stream",
     "text": [
      "Epoch 44/103: 100%|██████████| 45/45 [00:00<00:00, 424.58batch/s, train_mean_loss=1.856010]\n",
      "Epoch 44/103: 100%|██████████| 12/12 [00:00<00:00, 917.74batch/s, val_mean_loss=1.911534]\n"
     ]
    },
    {
     "name": "stdout",
     "output_type": "stream",
     "text": [
      "New Best Score: 0.6647287573348362, Epoch: 44\n"
     ]
    },
    {
     "name": "stderr",
     "output_type": "stream",
     "text": [
      "Epoch 45/103: 100%|██████████| 45/45 [00:00<00:00, 420.70batch/s, train_mean_loss=1.858346]\n",
      "Epoch 45/103: 100%|██████████| 12/12 [00:00<00:00, 920.39batch/s, val_mean_loss=1.910103]\n"
     ]
    },
    {
     "name": "stdout",
     "output_type": "stream",
     "text": [
      "New Best Score: 0.6649702627822417, Epoch: 45\n"
     ]
    },
    {
     "name": "stderr",
     "output_type": "stream",
     "text": [
      "Epoch 46/103: 100%|██████████| 45/45 [00:00<00:00, 436.89batch/s, train_mean_loss=1.847925]\n",
      "Epoch 46/103: 100%|██████████| 12/12 [00:00<00:00, 801.61batch/s, val_mean_loss=1.908651]\n"
     ]
    },
    {
     "name": "stdout",
     "output_type": "stream",
     "text": [
      "New Best Score: 0.6651831248295992, Epoch: 46\n"
     ]
    },
    {
     "name": "stderr",
     "output_type": "stream",
     "text": [
      "Epoch 47/103: 100%|██████████| 45/45 [00:00<00:00, 434.45batch/s, train_mean_loss=1.842742]\n",
      "Epoch 47/103: 100%|██████████| 12/12 [00:00<00:00, 857.09batch/s, val_mean_loss=1.906560]\n"
     ]
    },
    {
     "name": "stdout",
     "output_type": "stream",
     "text": [
      "New Best Score: 0.665488860649959, Epoch: 47\n"
     ]
    },
    {
     "name": "stderr",
     "output_type": "stream",
     "text": [
      "Epoch 48/103: 100%|██████████| 45/45 [00:00<00:00, 428.55batch/s, train_mean_loss=1.840377]\n",
      "Epoch 48/103: 100%|██████████| 12/12 [00:00<00:00, 923.31batch/s, val_mean_loss=1.905059]\n"
     ]
    },
    {
     "name": "stdout",
     "output_type": "stream",
     "text": [
      "New Best Score: 0.6655832419387866, Epoch: 48\n"
     ]
    },
    {
     "name": "stderr",
     "output_type": "stream",
     "text": [
      "Epoch 49/103: 100%|██████████| 45/45 [00:00<00:00, 432.50batch/s, train_mean_loss=1.837297]\n",
      "Epoch 49/103: 100%|██████████| 12/12 [00:00<00:00, 919.84batch/s, val_mean_loss=1.905388]\n",
      "Epoch 50/103: 100%|██████████| 45/45 [00:00<00:00, 420.37batch/s, train_mean_loss=1.834470]\n",
      "Epoch 50/103: 100%|██████████| 12/12 [00:00<00:00, 854.37batch/s, val_mean_loss=1.904439]\n",
      "Epoch 51/103: 100%|██████████| 45/45 [00:00<00:00, 435.43batch/s, train_mean_loss=1.830223]\n",
      "Epoch 51/103: 100%|██████████| 12/12 [00:00<00:00, 800.16batch/s, val_mean_loss=1.903168]\n"
     ]
    },
    {
     "name": "stdout",
     "output_type": "stream",
     "text": [
      "New Best Score: 0.6656876990929657, Epoch: 51\n"
     ]
    },
    {
     "name": "stderr",
     "output_type": "stream",
     "text": [
      "Epoch 52/103: 100%|██████████| 45/45 [00:00<00:00, 428.43batch/s, train_mean_loss=1.832180]\n",
      "Epoch 52/103: 100%|██████████| 12/12 [00:00<00:00, 797.33batch/s, val_mean_loss=1.901931]\n"
     ]
    },
    {
     "name": "stdout",
     "output_type": "stream",
     "text": [
      "New Best Score: 0.665882384804332, Epoch: 52\n"
     ]
    },
    {
     "name": "stderr",
     "output_type": "stream",
     "text": [
      "Epoch 53/103: 100%|██████████| 45/45 [00:00<00:00, 429.36batch/s, train_mean_loss=1.817798]\n",
      "Epoch 53/103: 100%|██████████| 12/12 [00:00<00:00, 923.30batch/s, val_mean_loss=1.900632]\n"
     ]
    },
    {
     "name": "stdout",
     "output_type": "stream",
     "text": [
      "New Best Score: 0.6660518042953674, Epoch: 53\n"
     ]
    },
    {
     "name": "stderr",
     "output_type": "stream",
     "text": [
      "Epoch 54/103: 100%|██████████| 45/45 [00:00<00:00, 441.23batch/s, train_mean_loss=1.820570]\n",
      "Epoch 54/103: 100%|██████████| 12/12 [00:00<00:00, 920.11batch/s, val_mean_loss=1.899216]\n"
     ]
    },
    {
     "name": "stdout",
     "output_type": "stream",
     "text": [
      "New Best Score: 0.6662782779697582, Epoch: 54\n"
     ]
    },
    {
     "name": "stderr",
     "output_type": "stream",
     "text": [
      "Epoch 55/103: 100%|██████████| 45/45 [00:00<00:00, 351.91batch/s, train_mean_loss=1.811468]\n",
      "Epoch 55/103: 100%|██████████| 12/12 [00:00<00:00, 705.90batch/s, val_mean_loss=1.897792]\n"
     ]
    },
    {
     "name": "stdout",
     "output_type": "stream",
     "text": [
      "New Best Score: 0.6665056310689772, Epoch: 55\n"
     ]
    },
    {
     "name": "stderr",
     "output_type": "stream",
     "text": [
      "Epoch 56/103: 100%|██████████| 45/45 [00:00<00:00, 310.56batch/s, train_mean_loss=1.802110]\n",
      "Epoch 56/103: 100%|██████████| 12/12 [00:00<00:00, 599.94batch/s, val_mean_loss=1.897547]\n"
     ]
    },
    {
     "name": "stdout",
     "output_type": "stream",
     "text": [
      "New Best Score: 0.6665317096295195, Epoch: 56\n"
     ]
    },
    {
     "name": "stderr",
     "output_type": "stream",
     "text": [
      "Epoch 57/103: 100%|██████████| 45/45 [00:00<00:00, 394.44batch/s, train_mean_loss=1.806714]\n",
      "Epoch 57/103: 100%|██████████| 12/12 [00:00<00:00, 1001.47batch/s, val_mean_loss=1.895980]\n"
     ]
    },
    {
     "name": "stdout",
     "output_type": "stream",
     "text": [
      "New Best Score: 0.6667586574815707, Epoch: 57\n"
     ]
    },
    {
     "name": "stderr",
     "output_type": "stream",
     "text": [
      "Epoch 58/103: 100%|██████████| 45/45 [00:00<00:00, 391.35batch/s, train_mean_loss=1.802359]\n",
      "Epoch 58/103: 100%|██████████| 12/12 [00:00<00:00, 856.30batch/s, val_mean_loss=1.894520]\n"
     ]
    },
    {
     "name": "stdout",
     "output_type": "stream",
     "text": [
      "New Best Score: 0.6671307943513616, Epoch: 58\n"
     ]
    },
    {
     "name": "stderr",
     "output_type": "stream",
     "text": [
      "Epoch 59/103: 100%|██████████| 45/45 [00:00<00:00, 366.09batch/s, train_mean_loss=1.797675]\n",
      "Epoch 59/103: 100%|██████████| 12/12 [00:00<00:00, 857.23batch/s, val_mean_loss=1.894527]\n",
      "Epoch 60/103: 100%|██████████| 45/45 [00:00<00:00, 360.13batch/s, train_mean_loss=1.799012]\n",
      "Epoch 60/103: 100%|██████████| 12/12 [00:00<00:00, 799.40batch/s, val_mean_loss=1.893939]\n"
     ]
    },
    {
     "name": "stdout",
     "output_type": "stream",
     "text": [
      "New Best Score: 0.6672013716619993, Epoch: 60\n"
     ]
    },
    {
     "name": "stderr",
     "output_type": "stream",
     "text": [
      "Epoch 61/103: 100%|██████████| 45/45 [00:00<00:00, 351.59batch/s, train_mean_loss=1.789987]\n",
      "Epoch 61/103: 100%|██████████| 12/12 [00:00<00:00, 858.81batch/s, val_mean_loss=1.892266]"
     ]
    },
    {
     "name": "stdout",
     "output_type": "stream",
     "text": [
      "New Best Score: 0.6675772965253313, Epoch: 61"
     ]
    },
    {
     "name": "stderr",
     "output_type": "stream",
     "text": [
      "\n"
     ]
    },
    {
     "name": "stdout",
     "output_type": "stream",
     "text": []
    },
    {
     "name": "stderr",
     "output_type": "stream",
     "text": [
      "Epoch 62/103: 100%|██████████| 45/45 [00:00<00:00, 359.69batch/s, train_mean_loss=1.784064]\n",
      "Epoch 62/103: 100%|██████████| 12/12 [00:00<00:00, 859.39batch/s, val_mean_loss=1.892761]\n"
     ]
    },
    {
     "name": "stdout",
     "output_type": "stream",
     "text": [
      "New Best Score: 0.6677082974605619, Epoch: 62\n"
     ]
    },
    {
     "name": "stderr",
     "output_type": "stream",
     "text": [
      "Epoch 63/103: 100%|██████████| 45/45 [00:00<00:00, 419.82batch/s, train_mean_loss=1.782864]\n",
      "Epoch 63/103: 100%|██████████| 12/12 [00:00<00:00, 999.99batch/s, val_mean_loss=1.892214]\n"
     ]
    },
    {
     "name": "stdout",
     "output_type": "stream",
     "text": [
      "New Best Score: 0.6679293572248893, Epoch: 63\n"
     ]
    },
    {
     "name": "stderr",
     "output_type": "stream",
     "text": [
      "Epoch 64/103: 100%|██████████| 45/45 [00:00<00:00, 382.36batch/s, train_mean_loss=1.779317]\n",
      "Epoch 64/103: 100%|██████████| 12/12 [00:00<00:00, 799.37batch/s, val_mean_loss=1.890153]\n"
     ]
    },
    {
     "name": "stdout",
     "output_type": "stream",
     "text": [
      "New Best Score: 0.6681597365264029, Epoch: 64\n"
     ]
    },
    {
     "name": "stderr",
     "output_type": "stream",
     "text": [
      "Epoch 65/103: 100%|██████████| 45/45 [00:00<00:00, 364.16batch/s, train_mean_loss=1.766207]\n",
      "Epoch 65/103: 100%|██████████| 12/12 [00:00<00:00, 857.77batch/s, val_mean_loss=1.888901]"
     ]
    },
    {
     "name": "stdout",
     "output_type": "stream",
     "text": [
      "New Best Score: 0.6685269385290945, Epoch: 65"
     ]
    },
    {
     "name": "stderr",
     "output_type": "stream",
     "text": [
      "\n"
     ]
    },
    {
     "name": "stdout",
     "output_type": "stream",
     "text": [
      "\n"
     ]
    },
    {
     "name": "stderr",
     "output_type": "stream",
     "text": [
      "Epoch 66/103: 100%|██████████| 45/45 [00:00<00:00, 346.36batch/s, train_mean_loss=1.772637]\n",
      "Epoch 66/103: 100%|██████████| 12/12 [00:00<00:00, 704.08batch/s, val_mean_loss=1.889127]"
     ]
    },
    {
     "name": "stdout",
     "output_type": "stream",
     "text": [
      "New Best Score: 0.6686661162502496, Epoch: 66"
     ]
    },
    {
     "name": "stderr",
     "output_type": "stream",
     "text": [
      "\n"
     ]
    },
    {
     "name": "stdout",
     "output_type": "stream",
     "text": [
      "\n"
     ]
    },
    {
     "name": "stderr",
     "output_type": "stream",
     "text": [
      "Epoch 67/103: 100%|██████████| 45/45 [00:00<00:00, 343.76batch/s, train_mean_loss=1.769766]\n",
      "Epoch 67/103: 100%|██████████| 12/12 [00:00<00:00, 857.12batch/s, val_mean_loss=1.887193]\n"
     ]
    },
    {
     "name": "stdout",
     "output_type": "stream",
     "text": [
      "New Best Score: 0.6688202829889852, Epoch: 67\n"
     ]
    },
    {
     "name": "stderr",
     "output_type": "stream",
     "text": [
      "Epoch 68/103: 100%|██████████| 45/45 [00:00<00:00, 335.96batch/s, train_mean_loss=1.765096]\n",
      "Epoch 68/103: 100%|██████████| 12/12 [00:00<00:00, 857.96batch/s, val_mean_loss=1.887655]\n"
     ]
    },
    {
     "name": "stdout",
     "output_type": "stream",
     "text": [
      "New Best Score: 0.6690755950719591, Epoch: 68\n"
     ]
    },
    {
     "name": "stderr",
     "output_type": "stream",
     "text": [
      "Epoch 69/103: 100%|██████████| 45/45 [00:00<00:00, 330.97batch/s, train_mean_loss=1.758969]\n",
      "Epoch 69/103: 100%|██████████| 12/12 [00:00<00:00, 800.17batch/s, val_mean_loss=1.886681]\n"
     ]
    },
    {
     "name": "stdout",
     "output_type": "stream",
     "text": [
      "New Best Score: 0.6692391232938186, Epoch: 69\n"
     ]
    },
    {
     "name": "stderr",
     "output_type": "stream",
     "text": [
      "Epoch 70/103: 100%|██████████| 45/45 [00:00<00:00, 331.05batch/s, train_mean_loss=1.757357]\n",
      "Epoch 70/103: 100%|██████████| 12/12 [00:00<00:00, 857.31batch/s, val_mean_loss=1.886201]\n"
     ]
    },
    {
     "name": "stdout",
     "output_type": "stream",
     "text": [
      "New Best Score: 0.6693351427017339, Epoch: 70\n"
     ]
    },
    {
     "name": "stderr",
     "output_type": "stream",
     "text": [
      "Epoch 71/103: 100%|██████████| 45/45 [00:00<00:00, 312.49batch/s, train_mean_loss=1.747354]\n",
      "Epoch 71/103: 100%|██████████| 12/12 [00:00<00:00, 799.42batch/s, val_mean_loss=1.885303]\n"
     ]
    },
    {
     "name": "stdout",
     "output_type": "stream",
     "text": [
      "New Best Score: 0.669616336161626, Epoch: 71\n"
     ]
    },
    {
     "name": "stderr",
     "output_type": "stream",
     "text": [
      "Epoch 72/103: 100%|██████████| 45/45 [00:00<00:00, 316.98batch/s, train_mean_loss=1.748394]\n",
      "Epoch 72/103: 100%|██████████| 12/12 [00:00<00:00, 799.97batch/s, val_mean_loss=1.882987]\n"
     ]
    },
    {
     "name": "stdout",
     "output_type": "stream",
     "text": [
      "New Best Score: 0.6697067149507914, Epoch: 72\n"
     ]
    },
    {
     "name": "stderr",
     "output_type": "stream",
     "text": [
      "Epoch 73/103: 100%|██████████| 45/45 [00:00<00:00, 301.15batch/s, train_mean_loss=1.744675]\n",
      "Epoch 73/103: 100%|██████████| 12/12 [00:00<00:00, 799.47batch/s, val_mean_loss=1.881514]\n"
     ]
    },
    {
     "name": "stdout",
     "output_type": "stream",
     "text": [
      "New Best Score: 0.6700473946040704, Epoch: 73\n"
     ]
    },
    {
     "name": "stderr",
     "output_type": "stream",
     "text": [
      "Epoch 74/103: 100%|██████████| 45/45 [00:00<00:00, 300.15batch/s, train_mean_loss=1.735887]\n",
      "Epoch 74/103: 100%|██████████| 12/12 [00:00<00:00, 749.85batch/s, val_mean_loss=1.882815]\n"
     ]
    },
    {
     "name": "stdout",
     "output_type": "stream",
     "text": [
      "New Best Score: 0.6702294882036725, Epoch: 74\n"
     ]
    },
    {
     "name": "stderr",
     "output_type": "stream",
     "text": [
      "Epoch 75/103: 100%|██████████| 45/45 [00:00<00:00, 304.09batch/s, train_mean_loss=1.733544]\n",
      "Epoch 75/103: 100%|██████████| 12/12 [00:00<00:00, 747.94batch/s, val_mean_loss=1.882386]"
     ]
    },
    {
     "name": "stdout",
     "output_type": "stream",
     "text": [
      "New Best Score: 0.6707038146107083, Epoch: 75\n"
     ]
    },
    {
     "name": "stderr",
     "output_type": "stream",
     "text": [
      "\n",
      "Epoch 76/103: 100%|██████████| 45/45 [00:00<00:00, 292.30batch/s, train_mean_loss=1.723036]\n",
      "Epoch 76/103: 100%|██████████| 12/12 [00:00<00:00, 799.33batch/s, val_mean_loss=1.881584]\n",
      "Epoch 77/103: 100%|██████████| 45/45 [00:00<00:00, 302.16batch/s, train_mean_loss=1.723851]\n",
      "Epoch 77/103: 100%|██████████| 12/12 [00:00<00:00, 800.02batch/s, val_mean_loss=1.881766]\n"
     ]
    },
    {
     "name": "stdout",
     "output_type": "stream",
     "text": [
      "New Best Score: 0.6709027802502637, Epoch: 77\n"
     ]
    },
    {
     "name": "stderr",
     "output_type": "stream",
     "text": [
      "Epoch 78/103: 100%|██████████| 45/45 [00:00<00:00, 308.37batch/s, train_mean_loss=1.719745]\n",
      "Epoch 78/103: 100%|██████████| 12/12 [00:00<00:00, 749.95batch/s, val_mean_loss=1.879114]\n"
     ]
    },
    {
     "name": "stdout",
     "output_type": "stream",
     "text": [
      "New Best Score: 0.6710099807041205, Epoch: 78\n"
     ]
    },
    {
     "name": "stderr",
     "output_type": "stream",
     "text": [
      "Epoch 79/103: 100%|██████████| 45/45 [00:00<00:00, 259.03batch/s, train_mean_loss=1.708622]\n",
      "Epoch 79/103: 100%|██████████| 12/12 [00:00<00:00, 599.84batch/s, val_mean_loss=1.879448]\n"
     ]
    },
    {
     "name": "stdout",
     "output_type": "stream",
     "text": [
      "New Best Score: 0.6712488004721173, Epoch: 79\n"
     ]
    },
    {
     "name": "stderr",
     "output_type": "stream",
     "text": [
      "Epoch 80/103: 100%|██████████| 45/45 [00:00<00:00, 259.28batch/s, train_mean_loss=1.715023]\n",
      "Epoch 80/103: 100%|██████████| 12/12 [00:00<00:00, 599.35batch/s, val_mean_loss=1.879303]\n"
     ]
    },
    {
     "name": "stdout",
     "output_type": "stream",
     "text": [
      "New Best Score: 0.6714376196097287, Epoch: 80\n"
     ]
    },
    {
     "name": "stderr",
     "output_type": "stream",
     "text": [
      "Epoch 81/103: 100%|██████████| 45/45 [00:00<00:00, 321.45batch/s, train_mean_loss=1.704528]\n",
      "Epoch 81/103: 100%|██████████| 12/12 [00:00<00:00, 858.73batch/s, val_mean_loss=1.878543]\n"
     ]
    },
    {
     "name": "stdout",
     "output_type": "stream",
     "text": [
      "New Best Score: 0.6716950900872439, Epoch: 81\n"
     ]
    },
    {
     "name": "stderr",
     "output_type": "stream",
     "text": [
      "Epoch 82/103: 100%|██████████| 45/45 [00:00<00:00, 323.86batch/s, train_mean_loss=1.699682]\n",
      "Epoch 82/103: 100%|██████████| 12/12 [00:00<00:00, 748.59batch/s, val_mean_loss=1.877306]"
     ]
    },
    {
     "name": "stdout",
     "output_type": "stream",
     "text": [
      "New Best Score: 0.6718011373893603, Epoch: 82"
     ]
    },
    {
     "name": "stderr",
     "output_type": "stream",
     "text": [
      "\n"
     ]
    },
    {
     "name": "stdout",
     "output_type": "stream",
     "text": [
      "\n"
     ]
    },
    {
     "name": "stderr",
     "output_type": "stream",
     "text": [
      "Epoch 83/103: 100%|██████████| 45/45 [00:00<00:00, 335.83batch/s, train_mean_loss=1.690184]\n",
      "Epoch 83/103: 100%|██████████| 12/12 [00:00<00:00, 748.44batch/s, val_mean_loss=1.878040]"
     ]
    },
    {
     "name": "stdout",
     "output_type": "stream",
     "text": [
      "New Best Score: 0.6721834525847803, Epoch: 83\n"
     ]
    },
    {
     "name": "stderr",
     "output_type": "stream",
     "text": [
      "\n",
      "Epoch 84/103: 100%|██████████| 45/45 [00:00<00:00, 326.63batch/s, train_mean_loss=1.691034]\n",
      "Epoch 84/103: 100%|██████████| 12/12 [00:00<00:00, 711.53batch/s, val_mean_loss=1.875906]\n"
     ]
    },
    {
     "name": "stdout",
     "output_type": "stream",
     "text": [
      "New Best Score: 0.6723879721239464, Epoch: 84\n"
     ]
    },
    {
     "name": "stderr",
     "output_type": "stream",
     "text": [
      "Epoch 85/103: 100%|██████████| 45/45 [00:00<00:00, 319.17batch/s, train_mean_loss=1.680934]\n",
      "Epoch 85/103: 100%|██████████| 12/12 [00:00<00:00, 920.63batch/s, val_mean_loss=1.876926]\n"
     ]
    },
    {
     "name": "stdout",
     "output_type": "stream",
     "text": [
      "New Best Score: 0.6723977612068052, Epoch: 85\n"
     ]
    },
    {
     "name": "stderr",
     "output_type": "stream",
     "text": [
      "Epoch 86/103: 100%|██████████| 45/45 [00:00<00:00, 323.76batch/s, train_mean_loss=1.674674]\n",
      "Epoch 86/103: 100%|██████████| 12/12 [00:00<00:00, 877.53batch/s, val_mean_loss=1.876182]"
     ]
    },
    {
     "name": "stdout",
     "output_type": "stream",
     "text": [
      "New Best Score: 0.6725321903960434, Epoch: 86"
     ]
    },
    {
     "name": "stderr",
     "output_type": "stream",
     "text": [
      "\n"
     ]
    },
    {
     "name": "stdout",
     "output_type": "stream",
     "text": [
      "\n"
     ]
    },
    {
     "name": "stderr",
     "output_type": "stream",
     "text": [
      "Epoch 87/103: 100%|██████████| 45/45 [00:00<00:00, 330.80batch/s, train_mean_loss=1.666701]\n",
      "Epoch 87/103: 100%|██████████| 12/12 [00:00<00:00, 706.44batch/s, val_mean_loss=1.873093]\n"
     ]
    },
    {
     "name": "stdout",
     "output_type": "stream",
     "text": [
      "New Best Score: 0.6726389481932769, Epoch: 87\n"
     ]
    },
    {
     "name": "stderr",
     "output_type": "stream",
     "text": [
      "Epoch 88/103: 100%|██████████| 45/45 [00:00<00:00, 335.53batch/s, train_mean_loss=1.661910]\n",
      "Epoch 88/103: 100%|██████████| 12/12 [00:00<00:00, 854.57batch/s, val_mean_loss=1.873736]\n",
      "Epoch 89/103: 100%|██████████| 45/45 [00:00<00:00, 298.35batch/s, train_mean_loss=1.663173]\n",
      "Epoch 89/103: 100%|██████████| 12/12 [00:00<00:00, 752.06batch/s, val_mean_loss=1.872652]\n"
     ]
    },
    {
     "name": "stdout",
     "output_type": "stream",
     "text": [
      "New Best Score: 0.6736106836075914, Epoch: 89\n"
     ]
    },
    {
     "name": "stderr",
     "output_type": "stream",
     "text": [
      "Epoch 90/103: 100%|██████████| 45/45 [00:00<00:00, 323.95batch/s, train_mean_loss=1.646809]\n",
      "Epoch 90/103: 100%|██████████| 12/12 [00:00<00:00, 857.19batch/s, val_mean_loss=1.871675]\n",
      "Epoch 91/103: 100%|██████████| 45/45 [00:00<00:00, 323.71batch/s, train_mean_loss=1.640207]\n",
      "Epoch 91/103: 100%|██████████| 12/12 [00:00<00:00, 796.58batch/s, val_mean_loss=1.871123]\n",
      "Epoch 92/103: 100%|██████████| 45/45 [00:00<00:00, 326.06batch/s, train_mean_loss=1.636348]\n",
      "Epoch 92/103: 100%|██████████| 12/12 [00:00<00:00, 800.44batch/s, val_mean_loss=1.872412]\n",
      "Epoch 93/103: 100%|██████████| 45/45 [00:00<00:00, 328.49batch/s, train_mean_loss=1.633765]\n",
      "Epoch 93/103: 100%|██████████| 12/12 [00:00<00:00, 785.88batch/s, val_mean_loss=1.871376]\n"
     ]
    },
    {
     "name": "stdout",
     "output_type": "stream",
     "text": [
      "New Best Score: 0.6737364951013621, Epoch: 93\n"
     ]
    },
    {
     "name": "stderr",
     "output_type": "stream",
     "text": [
      "Epoch 94/103: 100%|██████████| 45/45 [00:00<00:00, 332.80batch/s, train_mean_loss=1.623714]\n",
      "Epoch 94/103: 100%|██████████| 12/12 [00:00<00:00, 749.08batch/s, val_mean_loss=1.869459]\n"
     ]
    },
    {
     "name": "stdout",
     "output_type": "stream",
     "text": [
      "New Best Score: 0.6740221143159819, Epoch: 94\n"
     ]
    },
    {
     "name": "stderr",
     "output_type": "stream",
     "text": [
      "Epoch 95/103: 100%|██████████| 45/45 [00:00<00:00, 343.50batch/s, train_mean_loss=1.620648]\n",
      "Epoch 95/103: 100%|██████████| 12/12 [00:00<00:00, 631.15batch/s, val_mean_loss=1.871573]"
     ]
    },
    {
     "name": "stdout",
     "output_type": "stream",
     "text": [
      "New Best Score: 0.674246701529087, Epoch: 95\n"
     ]
    },
    {
     "name": "stderr",
     "output_type": "stream",
     "text": [
      "\n",
      "Epoch 96/103: 100%|██████████| 45/45 [00:00<00:00, 323.75batch/s, train_mean_loss=1.608218]\n",
      "Epoch 96/103: 100%|██████████| 12/12 [00:00<00:00, 854.99batch/s, val_mean_loss=1.871297]\n",
      "Epoch 97/103: 100%|██████████| 45/45 [00:00<00:00, 321.36batch/s, train_mean_loss=1.597164]\n",
      "Epoch 97/103: 100%|██████████| 12/12 [00:00<00:00, 746.32batch/s, val_mean_loss=1.867022]\n",
      "Epoch 98/103: 100%|██████████| 45/45 [00:00<00:00, 321.43batch/s, train_mean_loss=1.591656]\n",
      "Epoch 98/103: 100%|██████████| 12/12 [00:00<00:00, 798.27batch/s, val_mean_loss=1.867226]\n"
     ]
    },
    {
     "name": "stdout",
     "output_type": "stream",
     "text": [
      "New Best Score: 0.6747092806519571, Epoch: 98\n"
     ]
    },
    {
     "name": "stderr",
     "output_type": "stream",
     "text": [
      "Epoch 99/103: 100%|██████████| 45/45 [00:00<00:00, 326.01batch/s, train_mean_loss=1.579489]\n",
      "Epoch 99/103: 100%|██████████| 12/12 [00:00<00:00, 813.78batch/s, val_mean_loss=1.866147]\n",
      "Epoch 100/103: 100%|██████████| 45/45 [00:00<00:00, 321.67batch/s, train_mean_loss=1.570173]\n",
      "Epoch 100/103: 100%|██████████| 12/12 [00:00<00:00, 901.53batch/s, val_mean_loss=1.866113]\n",
      "Epoch 101/103: 100%|██████████| 45/45 [00:00<00:00, 321.51batch/s, train_mean_loss=1.572619]\n",
      "Epoch 101/103: 100%|██████████| 12/12 [00:00<00:00, 704.08batch/s, val_mean_loss=1.866164]\n",
      "Epoch 102/103: 100%|██████████| 45/45 [00:00<00:00, 283.13batch/s, train_mean_loss=1.544532]\n",
      "Epoch 102/103: 100%|██████████| 12/12 [00:00<00:00, 746.58batch/s, val_mean_loss=1.864716]\n",
      "Epoch 103/103: 100%|██████████| 45/45 [00:00<00:00, 250.00batch/s, train_mean_loss=1.547664]\n",
      "Epoch 103/103: 100%|██████████| 12/12 [00:00<00:00, 705.86batch/s, val_mean_loss=1.863144]\n"
     ]
    },
    {
     "name": "stdout",
     "output_type": "stream",
     "text": [
      "New Best Score: 0.6751509147356868, Epoch: 103\n"
     ]
    }
   ],
   "source": [
    "# Training\n",
    "train_num_samples = len(train)\n",
    "train_num_batches = (train_num_samples + CONFIG['BATCH_SIZE'] - 1) // CONFIG['BATCH_SIZE']\n",
    "\n",
    "val_num_samples = len(val)\n",
    "val_num_batches = (val_num_samples + CONFIG['BATCH_SIZE'] - 1) // CONFIG['BATCH_SIZE']\n",
    "best_score = float('-inf')\n",
    "for epoch in range(CONFIG['EPOCHS']):\n",
    "    ##################################################################TRAIN##################################################################\n",
    "    model.train()\n",
    "    train_running_loss = 0.0\n",
    "\n",
    "    with tqdm(range(train_num_batches), desc=f\"Epoch {epoch + 1}/{CONFIG['EPOCHS']}\", unit=\"batch\") as t:\n",
    "        for batch_idx in t:\n",
    "            start_idx = batch_idx * CONFIG['BATCH_SIZE']\n",
    "            end_idx = min(start_idx + CONFIG['BATCH_SIZE'], train_num_samples)\n",
    "\n",
    "            # Извлечение батча данных\n",
    "            batch_inputs = train_tensors[start_idx:end_idx]\n",
    "            batch_targets = train_targets[start_idx:end_idx]\n",
    "            \n",
    "            # Обнуление градиентов\n",
    "            optimizer.zero_grad()\n",
    "\n",
    "            # Прямой проход\n",
    "            outputs = model(batch_inputs)\n",
    "\n",
    "            # Вычисление функции потерь\n",
    "            batch_loss = criterion(outputs, batch_targets.unsqueeze(1))\n",
    "\n",
    "            # Обратный проход\n",
    "            batch_loss.backward()\n",
    "            optimizer.step()\n",
    "\n",
    "            train_running_loss += batch_loss.item()\n",
    "            t.set_postfix(train_mean_loss=f\"{train_running_loss / (batch_idx + 1):.6f}\")\n",
    "    \n",
    "    ###EVAL\n",
    "    model.eval()\n",
    "    val_running_loss = 0.0\n",
    "    \n",
    "    outputs_list = []\n",
    "    \n",
    "    with torch.no_grad():\n",
    "        with tqdm(range(val_num_batches), desc=f\"Epoch {epoch + 1}/{CONFIG['EPOCHS']}\", unit=\"batch\") as v:\n",
    "            for batch_idx in v:\n",
    "                start_idx = batch_idx * CONFIG['BATCH_SIZE']\n",
    "                end_idx = min(start_idx + CONFIG['BATCH_SIZE'], val_num_samples)\n",
    "                \n",
    "                batch_inputs = val_tensors[start_idx:end_idx]\n",
    "                batch_targets = val_targets[start_idx:end_idx]\n",
    "    \n",
    "                # Прямой проход\n",
    "                outputs = model(batch_inputs)\n",
    "                \n",
    "                batch_loss = criterion(outputs, batch_targets.unsqueeze(1))\n",
    "                val_running_loss += batch_loss.item()\n",
    "                v.set_postfix(val_mean_loss=f\"{val_running_loss / (batch_idx + 1):.6f}\")\n",
    "        \n",
    "                outputs_list.extend(outputs.cpu().numpy().flatten())\n",
    "    \n",
    "    ###SAVE\n",
    "    row_id_column_name = \"ID\"\n",
    "    y_pred = val[['ID']].copy(deep=True)\n",
    "    y_pred[\"prediction\"] = outputs_list\n",
    "    y_true = val[['ID', 'efs', 'efs_time', 'race_group']].copy(deep=True)\n",
    "    current_score = score(y_true.copy(), y_pred.copy(), row_id_column_name)\n",
    "    if current_score > best_score:  # Для минимизации score (если это метрика типа ошибки)\n",
    "        best_score = current_score\n",
    "        best_epoch = epoch + 1\n",
    "        print(f\"New Best Score: {best_score}, Epoch: {epoch + 1}\")"
   ],
   "metadata": {
    "collapsed": false,
    "ExecuteTime": {
     "end_time": "2024-12-26T10:13:38.687635800Z",
     "start_time": "2024-12-26T10:13:19.701009100Z"
    }
   },
   "id": "9815da53f5d0594f",
   "execution_count": 12
  },
  {
   "cell_type": "code",
   "outputs": [],
   "source": [
    "# New Best Score: 0.6751509147356868, Epoch: 103 1024"
   ],
   "metadata": {
    "collapsed": false,
    "ExecuteTime": {
     "end_time": "2024-12-26T10:13:38.704808500Z",
     "start_time": "2024-12-26T10:13:38.688656100Z"
    }
   },
   "id": "631afa6f7d9c12eb",
   "execution_count": 13
  },
  {
   "cell_type": "code",
   "outputs": [
    {
     "data": {
      "text/plain": "0.6751509147356868"
     },
     "execution_count": 14,
     "metadata": {},
     "output_type": "execute_result"
    }
   ],
   "source": [
    "best_score"
   ],
   "metadata": {
    "collapsed": false,
    "ExecuteTime": {
     "end_time": "2024-12-26T10:13:38.716836200Z",
     "start_time": "2024-12-26T10:13:38.705797Z"
    }
   },
   "id": "5269f3a2bcbe6cad",
   "execution_count": 14
  },
  {
   "cell_type": "code",
   "outputs": [
    {
     "data": {
      "text/plain": "103"
     },
     "execution_count": 15,
     "metadata": {},
     "output_type": "execute_result"
    }
   ],
   "source": [
    "best_epoch"
   ],
   "metadata": {
    "collapsed": false,
    "ExecuteTime": {
     "end_time": "2024-12-26T10:13:38.742797100Z",
     "start_time": "2024-12-26T10:13:38.717755500Z"
    }
   },
   "id": "b8eccff5b0952d27",
   "execution_count": 15
  },
  {
   "cell_type": "code",
   "outputs": [],
   "source": [],
   "metadata": {
    "collapsed": false,
    "ExecuteTime": {
     "end_time": "2024-12-26T10:13:38.748755200Z",
     "start_time": "2024-12-26T10:13:38.732826100Z"
    }
   },
   "id": "c155471a1a96e336",
   "execution_count": 15
  }
 ],
 "metadata": {
  "kaggle": {
   "accelerator": "gpu",
   "dataSources": [
    {
     "datasetId": 6155403,
     "sourceId": 10000346,
     "sourceType": "datasetVersion"
    }
   ],
   "dockerImageVersionId": 30787,
   "isGpuEnabled": true,
   "isInternetEnabled": true,
   "language": "python",
   "sourceType": "notebook"
  },
  "kernelspec": {
   "display_name": "Python 3",
   "language": "python",
   "name": "python3"
  },
  "language_info": {
   "codemirror_mode": {
    "name": "ipython",
    "version": 3
   },
   "file_extension": ".py",
   "mimetype": "text/x-python",
   "name": "python",
   "nbconvert_exporter": "python",
   "pygments_lexer": "ipython3",
   "version": "3.10.14"
  },
  "papermill": {
   "default_parameters": {},
   "duration": 5460.653933,
   "end_time": "2024-11-25T06:17:15.604943",
   "environment_variables": {},
   "exception": null,
   "input_path": "__notebook__.ipynb",
   "output_path": "__notebook__.ipynb",
   "parameters": {},
   "start_time": "2024-11-25T04:46:14.951010",
   "version": "2.6.0"
  }
 },
 "nbformat": 4,
 "nbformat_minor": 5
}
