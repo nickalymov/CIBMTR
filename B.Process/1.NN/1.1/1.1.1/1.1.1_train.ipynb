{
 "cells": [
  {
   "cell_type": "code",
   "outputs": [],
   "source": [
    "import os\n",
    "current_directory = os.getcwd()\n",
    "folder_name = os.path.basename(current_directory)\n",
    "number = folder_name"
   ],
   "metadata": {
    "collapsed": false,
    "ExecuteTime": {
     "end_time": "2024-12-26T07:25:43.167774800Z",
     "start_time": "2024-12-26T07:25:43.150694200Z"
    }
   },
   "id": "98e9eccdccd5addd",
   "execution_count": 1
  },
  {
   "cell_type": "code",
   "outputs": [],
   "source": [
    "CONFIG = {\n",
    "    'data_main': 'C:/Users/Николай/PycharmProjects/CIBMTR/D.Data/main/',\n",
    "    'train_path': 'train.csv',\n",
    "\n",
    "    'DEVICE' : 'cuda',\n",
    "    'SEED' : 42,\n",
    "    'BATCH_SIZE' : 32,\n",
    "    'LR' : 0.001,\n",
    "    'EPOCHS' : 200,\n",
    "    'output_dim' : 1\n",
    "}"
   ],
   "metadata": {
    "collapsed": false,
    "ExecuteTime": {
     "end_time": "2024-12-26T07:25:43.182780700Z",
     "start_time": "2024-12-26T07:25:43.169780500Z"
    }
   },
   "id": "4a794a5c2901e728",
   "execution_count": 2
  },
  {
   "cell_type": "code",
   "execution_count": 3,
   "id": "f9ee4882",
   "metadata": {
    "collapsed": false,
    "execution": {
     "iopub.execute_input": "2024-11-25T04:46:17.459651Z",
     "iopub.status.busy": "2024-11-25T04:46:17.459331Z",
     "iopub.status.idle": "2024-11-25T04:46:22.363731Z",
     "shell.execute_reply": "2024-11-25T04:46:22.362971Z"
    },
    "papermill": {
     "duration": 4.91114,
     "end_time": "2024-11-25T04:46:22.365894",
     "exception": false,
     "start_time": "2024-11-25T04:46:17.454754",
     "status": "completed"
    },
    "tags": [],
    "ExecuteTime": {
     "end_time": "2024-12-26T07:25:44.467270700Z",
     "start_time": "2024-12-26T07:25:43.185783600Z"
    }
   },
   "outputs": [],
   "source": [
    "# Import libs\n",
    "import numpy as np\n",
    "from tqdm import tqdm\n",
    "import pandas as pd \n",
    "import torch\n",
    "import torch.nn as nn\n",
    "from torch.optim import Adam\n",
    "import torch.nn.init as init"
   ]
  },
  {
   "cell_type": "code",
   "execution_count": 4,
   "id": "6cf61865",
   "metadata": {
    "collapsed": false,
    "execution": {
     "iopub.execute_input": "2024-11-25T04:46:22.376480Z",
     "iopub.status.busy": "2024-11-25T04:46:22.375606Z",
     "iopub.status.idle": "2024-11-25T04:46:22.445552Z",
     "shell.execute_reply": "2024-11-25T04:46:22.444304Z"
    },
    "papermill": {
     "duration": 0.077688,
     "end_time": "2024-11-25T04:46:22.448120",
     "exception": false,
     "start_time": "2024-11-25T04:46:22.370432",
     "status": "completed"
    },
    "tags": [],
    "ExecuteTime": {
     "end_time": "2024-12-26T07:25:45.733087400Z",
     "start_time": "2024-12-26T07:25:45.715301900Z"
    }
   },
   "outputs": [],
   "source": [
    "# Device, torch decimal places and seed for reproducibility\n",
    "device = torch.device(CONFIG['DEVICE'] if torch.cuda.is_available() else \"cpu\")\n",
    "torch.set_printoptions(precision=40) \n",
    "\n",
    "torch.manual_seed(CONFIG['SEED'])  \n",
    "torch.cuda.manual_seed_all(CONFIG['SEED'])  \n",
    "np.random.seed(CONFIG['SEED'])  "
   ]
  },
  {
   "cell_type": "code",
   "execution_count": 5,
   "id": "ead528618a5bd413",
   "metadata": {
    "collapsed": false,
    "ExecuteTime": {
     "end_time": "2024-12-26T07:25:46.032471600Z",
     "start_time": "2024-12-26T07:25:45.737070900Z"
    }
   },
   "outputs": [],
   "source": [
    "# Load and prepare data\n",
    "train = pd.read_csv(f\"{CONFIG['data_main']}{CONFIG['train_path']}\")\n",
    "train = train.fillna('-1')\n",
    "\n",
    "for col in ['donor_age', 'age_at_hct']:\n",
    "    train[col] = train[col].astype(int)\n",
    "    \n",
    "train[\"y\"] = train.efs_time.values\n",
    "mx = train.loc[train.efs==1,\"efs_time\"].max()\n",
    "mn = train.loc[train.efs==0,\"efs_time\"].min()\n",
    "train.loc[train.efs==0,\"y\"] = train.loc[train.efs==0,\"y\"] + mx - mn\n",
    "train.y = train.y.rank()\n",
    "train.loc[train.efs==0,\"y\"] += 2*len(train)\n",
    "train.y = train.y / train.y.max()\n",
    "train.y = np.log( train.y )\n",
    "train.y -= train.y.mean()\n",
    "train.y *= -1.0\n",
    "\n",
    "cat_columns = [col for col in train.columns if col not in ['efs', 'efs_time', 'y', 'ID']]\n",
    "train[cat_columns] = train[cat_columns].astype(str)"
   ]
  },
  {
   "cell_type": "code",
   "outputs": [],
   "source": [
    "train_one_hot = pd.get_dummies(train[cat_columns], drop_first=True)"
   ],
   "metadata": {
    "collapsed": false,
    "ExecuteTime": {
     "end_time": "2024-12-26T07:25:46.190879400Z",
     "start_time": "2024-12-26T07:25:46.032471600Z"
    }
   },
   "id": "a4023592ce465a05",
   "execution_count": 6
  },
  {
   "cell_type": "code",
   "outputs": [],
   "source": [
    "input_dim = train_one_hot.shape[1]"
   ],
   "metadata": {
    "collapsed": false,
    "ExecuteTime": {
     "end_time": "2024-12-26T07:25:46.208788700Z",
     "start_time": "2024-12-26T07:25:46.199868800Z"
    }
   },
   "id": "7203f96cf36f7ac0",
   "execution_count": 7
  },
  {
   "cell_type": "code",
   "outputs": [],
   "source": [
    "# Model definition\n",
    "class Model(nn.Module):\n",
    "    def __init__(self, input_dim, output_dim=CONFIG['output_dim']):\n",
    "        super(Model, self).__init__()\n",
    "    \n",
    "        self.fc1 = nn.Linear(input_dim, input_dim)\n",
    "        self.fc2 = nn.Linear(input_dim, output_dim)\n",
    "        self.relu = nn.ReLU()\n",
    "\n",
    "        \n",
    "        # self.init_weights()\n",
    "    \n",
    "    def init_weights(self):\n",
    "        init.xavier_uniform_(self.fc1.weight)\n",
    "        init.xavier_uniform_(self.fc2.weight)\n",
    "    \n",
    "        self.fc1.weight.data = torch.clamp(self.fc1.weight.data, 0, 1)\n",
    "        self.fc2.weight.data = torch.clamp(self.fc2.weight.data, 0, 1)\n",
    "\n",
    "        if self.fc1.bias is not None:\n",
    "            init.zeros_(self.fc1.bias)\n",
    "        if self.fc2.bias is not None:\n",
    "            init.zeros_(self.fc2.bias)\n",
    "        \n",
    "    def forward(self, x):\n",
    "\n",
    "        x = self.relu(self.fc1(x))\n",
    "        x = self.fc2(x)\n",
    "        \n",
    "        return x"
   ],
   "metadata": {
    "collapsed": false,
    "ExecuteTime": {
     "end_time": "2024-12-26T07:25:46.223843600Z",
     "start_time": "2024-12-26T07:25:46.212828400Z"
    }
   },
   "id": "769b210d304532d1",
   "execution_count": 8
  },
  {
   "cell_type": "code",
   "execution_count": 9,
   "id": "ae46951b",
   "metadata": {
    "collapsed": false,
    "execution": {
     "iopub.execute_input": "2024-11-25T04:46:40.465946Z",
     "iopub.status.busy": "2024-11-25T04:46:40.465691Z",
     "iopub.status.idle": "2024-11-25T04:46:41.656166Z",
     "shell.execute_reply": "2024-11-25T04:46:41.655167Z"
    },
    "papermill": {
     "duration": 1.197018,
     "end_time": "2024-11-25T04:46:41.658294",
     "exception": false,
     "start_time": "2024-11-25T04:46:40.461276",
     "status": "completed"
    },
    "tags": [],
    "ExecuteTime": {
     "end_time": "2024-12-26T07:25:47.386810Z",
     "start_time": "2024-12-26T07:25:46.228780900Z"
    }
   },
   "outputs": [],
   "source": [
    "# Model, criterion and optimizer\n",
    "model = Model(input_dim).to(device)\n",
    "criterion = nn.MSELoss()\n",
    "optimizer = Adam(model.parameters(), lr=CONFIG['LR'])"
   ]
  },
  {
   "cell_type": "code",
   "outputs": [],
   "source": [
    "train_tensors = torch.tensor(train_one_hot.values, device=device, dtype=torch.float32)\n",
    "\n",
    "train_targets = torch.tensor(train['y'].values, device=device, dtype=torch.float32)"
   ],
   "metadata": {
    "collapsed": false,
    "ExecuteTime": {
     "end_time": "2024-12-26T07:25:47.464811700Z",
     "start_time": "2024-12-26T07:25:47.387815Z"
    }
   },
   "id": "2bed9b1ed476d50a",
   "execution_count": 10
  },
  {
   "cell_type": "code",
   "execution_count": 11,
   "id": "9815da53f5d0594f",
   "metadata": {
    "collapsed": false,
    "ExecuteTime": {
     "end_time": "2024-12-26T07:34:33.500151600Z",
     "start_time": "2024-12-26T07:25:47.466879300Z"
    }
   },
   "outputs": [
    {
     "name": "stderr",
     "output_type": "stream",
     "text": [
      "Epoch 1/200: 100%|██████████| 900/900 [00:02<00:00, 447.58batch/s, train_mean_loss=1.923683]\n",
      "Epoch 2/200: 100%|██████████| 900/900 [00:01<00:00, 461.73batch/s, train_mean_loss=1.822943]\n",
      "Epoch 3/200: 100%|██████████| 900/900 [00:01<00:00, 460.50batch/s, train_mean_loss=1.744570]\n",
      "Epoch 4/200: 100%|██████████| 900/900 [00:02<00:00, 410.47batch/s, train_mean_loss=1.627944]\n",
      "Epoch 5/200: 100%|██████████| 900/900 [00:02<00:00, 421.76batch/s, train_mean_loss=1.483722]\n",
      "Epoch 6/200: 100%|██████████| 900/900 [00:02<00:00, 345.29batch/s, train_mean_loss=1.325114]\n",
      "Epoch 7/200: 100%|██████████| 900/900 [00:03<00:00, 279.10batch/s, train_mean_loss=1.167982]\n",
      "Epoch 8/200: 100%|██████████| 900/900 [00:03<00:00, 281.57batch/s, train_mean_loss=1.018927]\n",
      "Epoch 9/200: 100%|██████████| 900/900 [00:03<00:00, 290.11batch/s, train_mean_loss=0.881201]\n",
      "Epoch 10/200: 100%|██████████| 900/900 [00:02<00:00, 316.22batch/s, train_mean_loss=0.761665]\n",
      "Epoch 11/200: 100%|██████████| 900/900 [00:02<00:00, 327.68batch/s, train_mean_loss=0.658452]\n",
      "Epoch 12/200: 100%|██████████| 900/900 [00:02<00:00, 327.58batch/s, train_mean_loss=0.567139]\n",
      "Epoch 13/200: 100%|██████████| 900/900 [00:02<00:00, 414.24batch/s, train_mean_loss=0.499857]\n",
      "Epoch 14/200: 100%|██████████| 900/900 [00:01<00:00, 475.36batch/s, train_mean_loss=0.475334]\n",
      "Epoch 15/200: 100%|██████████| 900/900 [00:01<00:00, 475.33batch/s, train_mean_loss=0.522201]\n",
      "Epoch 16/200: 100%|██████████| 900/900 [00:01<00:00, 476.43batch/s, train_mean_loss=0.543523]\n",
      "Epoch 17/200: 100%|██████████| 900/900 [00:01<00:00, 456.56batch/s, train_mean_loss=0.481325]\n",
      "Epoch 18/200: 100%|██████████| 900/900 [00:02<00:00, 409.05batch/s, train_mean_loss=0.417595]\n",
      "Epoch 19/200: 100%|██████████| 900/900 [00:02<00:00, 436.24batch/s, train_mean_loss=0.432566]\n",
      "Epoch 20/200: 100%|██████████| 900/900 [00:02<00:00, 418.36batch/s, train_mean_loss=0.462500]\n",
      "Epoch 21/200: 100%|██████████| 900/900 [00:02<00:00, 416.11batch/s, train_mean_loss=0.450632]\n",
      "Epoch 22/200: 100%|██████████| 900/900 [00:02<00:00, 370.85batch/s, train_mean_loss=0.399799]\n",
      "Epoch 23/200: 100%|██████████| 900/900 [00:02<00:00, 337.46batch/s, train_mean_loss=0.340150]\n",
      "Epoch 24/200: 100%|██████████| 900/900 [00:02<00:00, 336.35batch/s, train_mean_loss=0.310647]\n",
      "Epoch 25/200: 100%|██████████| 900/900 [00:02<00:00, 333.14batch/s, train_mean_loss=0.332797]\n",
      "Epoch 26/200: 100%|██████████| 900/900 [00:02<00:00, 340.70batch/s, train_mean_loss=0.417740]\n",
      "Epoch 27/200: 100%|██████████| 900/900 [00:02<00:00, 339.62batch/s, train_mean_loss=0.425850]\n",
      "Epoch 28/200: 100%|██████████| 900/900 [00:02<00:00, 328.38batch/s, train_mean_loss=0.296595]\n",
      "Epoch 29/200: 100%|██████████| 900/900 [00:02<00:00, 337.64batch/s, train_mean_loss=0.208722]\n",
      "Epoch 30/200: 100%|██████████| 900/900 [00:02<00:00, 336.46batch/s, train_mean_loss=0.167630]\n",
      "Epoch 31/200: 100%|██████████| 900/900 [00:02<00:00, 332.02batch/s, train_mean_loss=0.157345]\n",
      "Epoch 32/200: 100%|██████████| 900/900 [00:02<00:00, 340.38batch/s, train_mean_loss=0.177403]\n",
      "Epoch 33/200: 100%|██████████| 900/900 [00:02<00:00, 342.58batch/s, train_mean_loss=0.212625]\n",
      "Epoch 34/200: 100%|██████████| 900/900 [00:02<00:00, 342.71batch/s, train_mean_loss=0.263363]\n",
      "Epoch 35/200: 100%|██████████| 900/900 [00:02<00:00, 321.23batch/s, train_mean_loss=0.401260]\n",
      "Epoch 36/200: 100%|██████████| 900/900 [00:02<00:00, 329.76batch/s, train_mean_loss=0.355159]\n",
      "Epoch 37/200: 100%|██████████| 900/900 [00:03<00:00, 299.97batch/s, train_mean_loss=0.219388]\n",
      "Epoch 38/200: 100%|██████████| 900/900 [00:03<00:00, 298.97batch/s, train_mean_loss=0.137589]\n",
      "Epoch 39/200: 100%|██████████| 900/900 [00:03<00:00, 294.54batch/s, train_mean_loss=0.101938]\n",
      "Epoch 40/200: 100%|██████████| 900/900 [00:03<00:00, 298.89batch/s, train_mean_loss=0.093998]\n",
      "Epoch 41/200: 100%|██████████| 900/900 [00:03<00:00, 291.19batch/s, train_mean_loss=0.120315]\n",
      "Epoch 42/200: 100%|██████████| 900/900 [00:03<00:00, 292.49batch/s, train_mean_loss=0.144863]\n",
      "Epoch 43/200: 100%|██████████| 900/900 [00:03<00:00, 289.05batch/s, train_mean_loss=0.133009]\n",
      "Epoch 44/200: 100%|██████████| 900/900 [00:03<00:00, 287.84batch/s, train_mean_loss=0.129087]\n",
      "Epoch 45/200: 100%|██████████| 900/900 [00:03<00:00, 270.30batch/s, train_mean_loss=0.145931]\n",
      "Epoch 46/200: 100%|██████████| 900/900 [00:03<00:00, 278.83batch/s, train_mean_loss=0.199416]\n",
      "Epoch 47/200: 100%|██████████| 900/900 [00:03<00:00, 282.50batch/s, train_mean_loss=0.277976]\n",
      "Epoch 48/200: 100%|██████████| 900/900 [00:03<00:00, 275.45batch/s, train_mean_loss=0.252898]\n",
      "Epoch 49/200: 100%|██████████| 900/900 [00:03<00:00, 283.77batch/s, train_mean_loss=0.184524]\n",
      "Epoch 50/200: 100%|██████████| 900/900 [00:03<00:00, 293.77batch/s, train_mean_loss=0.135290]\n",
      "Epoch 51/200: 100%|██████████| 900/900 [00:02<00:00, 305.54batch/s, train_mean_loss=0.105968]\n",
      "Epoch 52/200: 100%|██████████| 900/900 [00:03<00:00, 296.97batch/s, train_mean_loss=0.096984]\n",
      "Epoch 53/200: 100%|██████████| 900/900 [00:02<00:00, 326.67batch/s, train_mean_loss=0.107231]\n",
      "Epoch 54/200: 100%|██████████| 900/900 [00:02<00:00, 332.00batch/s, train_mean_loss=0.140928]\n",
      "Epoch 55/200: 100%|██████████| 900/900 [00:02<00:00, 312.03batch/s, train_mean_loss=0.187434]\n",
      "Epoch 56/200: 100%|██████████| 900/900 [00:02<00:00, 367.88batch/s, train_mean_loss=0.223711]\n",
      "Epoch 57/200: 100%|██████████| 900/900 [00:02<00:00, 407.53batch/s, train_mean_loss=0.196718]\n",
      "Epoch 58/200: 100%|██████████| 900/900 [00:01<00:00, 455.69batch/s, train_mean_loss=0.141889]\n",
      "Epoch 59/200: 100%|██████████| 900/900 [00:02<00:00, 394.80batch/s, train_mean_loss=0.098266]\n",
      "Epoch 60/200: 100%|██████████| 900/900 [00:02<00:00, 348.39batch/s, train_mean_loss=0.073620]\n",
      "Epoch 61/200: 100%|██████████| 900/900 [00:02<00:00, 339.16batch/s, train_mean_loss=0.066951]\n",
      "Epoch 62/200: 100%|██████████| 900/900 [00:02<00:00, 337.45batch/s, train_mean_loss=0.077675]\n",
      "Epoch 63/200: 100%|██████████| 900/900 [00:02<00:00, 335.32batch/s, train_mean_loss=0.095359]\n",
      "Epoch 64/200: 100%|██████████| 900/900 [00:02<00:00, 322.14batch/s, train_mean_loss=0.102046]\n",
      "Epoch 65/200: 100%|██████████| 900/900 [00:02<00:00, 304.21batch/s, train_mean_loss=0.111892]\n",
      "Epoch 66/200: 100%|██████████| 900/900 [00:03<00:00, 284.27batch/s, train_mean_loss=0.146267]\n",
      "Epoch 67/200: 100%|██████████| 900/900 [00:03<00:00, 291.22batch/s, train_mean_loss=0.170391]\n",
      "Epoch 68/200: 100%|██████████| 900/900 [00:03<00:00, 265.47batch/s, train_mean_loss=0.164157]\n",
      "Epoch 69/200: 100%|██████████| 900/900 [00:03<00:00, 266.30batch/s, train_mean_loss=0.133779]\n",
      "Epoch 70/200: 100%|██████████| 900/900 [00:03<00:00, 271.31batch/s, train_mean_loss=0.100359]\n",
      "Epoch 71/200: 100%|██████████| 900/900 [00:03<00:00, 273.37batch/s, train_mean_loss=0.078807]\n",
      "Epoch 72/200: 100%|██████████| 900/900 [00:03<00:00, 271.69batch/s, train_mean_loss=0.066620]\n",
      "Epoch 73/200: 100%|██████████| 900/900 [00:03<00:00, 234.03batch/s, train_mean_loss=0.067164]\n",
      "Epoch 74/200: 100%|██████████| 900/900 [00:03<00:00, 285.68batch/s, train_mean_loss=0.076089]\n",
      "Epoch 75/200: 100%|██████████| 900/900 [00:03<00:00, 288.64batch/s, train_mean_loss=0.088370]\n",
      "Epoch 76/200: 100%|██████████| 900/900 [00:03<00:00, 289.59batch/s, train_mean_loss=0.098762]\n",
      "Epoch 77/200: 100%|██████████| 900/900 [00:03<00:00, 290.74batch/s, train_mean_loss=0.116005]\n",
      "Epoch 78/200: 100%|██████████| 900/900 [00:03<00:00, 280.82batch/s, train_mean_loss=0.141631]\n",
      "Epoch 79/200: 100%|██████████| 900/900 [00:03<00:00, 296.75batch/s, train_mean_loss=0.160958]\n",
      "Epoch 80/200: 100%|██████████| 900/900 [00:03<00:00, 282.57batch/s, train_mean_loss=0.137524]\n",
      "Epoch 81/200: 100%|██████████| 900/900 [00:03<00:00, 283.31batch/s, train_mean_loss=0.097127]\n",
      "Epoch 82/200: 100%|██████████| 900/900 [00:03<00:00, 289.21batch/s, train_mean_loss=0.067684]\n",
      "Epoch 83/200: 100%|██████████| 900/900 [00:03<00:00, 282.01batch/s, train_mean_loss=0.051381]\n",
      "Epoch 84/200: 100%|██████████| 900/900 [00:03<00:00, 278.81batch/s, train_mean_loss=0.047730]\n",
      "Epoch 85/200: 100%|██████████| 900/900 [00:03<00:00, 294.05batch/s, train_mean_loss=0.056519]\n",
      "Epoch 86/200: 100%|██████████| 900/900 [00:03<00:00, 285.91batch/s, train_mean_loss=0.066137]\n",
      "Epoch 87/200: 100%|██████████| 900/900 [00:03<00:00, 286.49batch/s, train_mean_loss=0.065615]\n",
      "Epoch 88/200: 100%|██████████| 900/900 [00:03<00:00, 285.19batch/s, train_mean_loss=0.064093]\n",
      "Epoch 89/200: 100%|██████████| 900/900 [00:03<00:00, 276.29batch/s, train_mean_loss=0.067467]\n",
      "Epoch 90/200: 100%|██████████| 900/900 [00:03<00:00, 291.90batch/s, train_mean_loss=0.080698]\n",
      "Epoch 91/200: 100%|██████████| 900/900 [00:02<00:00, 303.80batch/s, train_mean_loss=0.109193]\n",
      "Epoch 92/200: 100%|██████████| 900/900 [00:02<00:00, 307.76batch/s, train_mean_loss=0.148561]\n",
      "Epoch 93/200: 100%|██████████| 900/900 [00:02<00:00, 303.17batch/s, train_mean_loss=0.151488]\n",
      "Epoch 94/200: 100%|██████████| 900/900 [00:02<00:00, 302.60batch/s, train_mean_loss=0.105636]\n",
      "Epoch 95/200: 100%|██████████| 900/900 [00:02<00:00, 307.06batch/s, train_mean_loss=0.065890]\n",
      "Epoch 96/200: 100%|██████████| 900/900 [00:02<00:00, 302.34batch/s, train_mean_loss=0.043445]\n",
      "Epoch 97/200: 100%|██████████| 900/900 [00:02<00:00, 313.89batch/s, train_mean_loss=0.033735]\n",
      "Epoch 98/200: 100%|██████████| 900/900 [00:02<00:00, 318.66batch/s, train_mean_loss=0.037689]\n",
      "Epoch 99/200: 100%|██████████| 900/900 [00:02<00:00, 305.74batch/s, train_mean_loss=0.053651]\n",
      "Epoch 100/200: 100%|██████████| 900/900 [00:03<00:00, 296.63batch/s, train_mean_loss=0.056102]\n",
      "Epoch 101/200: 100%|██████████| 900/900 [00:03<00:00, 276.32batch/s, train_mean_loss=0.045913]\n",
      "Epoch 102/200: 100%|██████████| 900/900 [00:03<00:00, 297.93batch/s, train_mean_loss=0.044813]\n",
      "Epoch 103/200: 100%|██████████| 900/900 [00:03<00:00, 291.94batch/s, train_mean_loss=0.047877]\n",
      "Epoch 104/200: 100%|██████████| 900/900 [00:03<00:00, 295.35batch/s, train_mean_loss=0.058302]\n",
      "Epoch 105/200: 100%|██████████| 900/900 [00:03<00:00, 288.56batch/s, train_mean_loss=0.072282]\n",
      "Epoch 106/200: 100%|██████████| 900/900 [00:03<00:00, 295.96batch/s, train_mean_loss=0.091523]\n",
      "Epoch 107/200: 100%|██████████| 900/900 [00:03<00:00, 294.74batch/s, train_mean_loss=0.106952]\n",
      "Epoch 108/200: 100%|██████████| 900/900 [00:03<00:00, 291.40batch/s, train_mean_loss=0.111251]\n",
      "Epoch 109/200: 100%|██████████| 900/900 [00:03<00:00, 280.58batch/s, train_mean_loss=0.093851]\n",
      "Epoch 110/200: 100%|██████████| 900/900 [00:03<00:00, 272.54batch/s, train_mean_loss=0.070036]\n",
      "Epoch 111/200: 100%|██████████| 900/900 [00:03<00:00, 290.37batch/s, train_mean_loss=0.050866]\n",
      "Epoch 112/200: 100%|██████████| 900/900 [00:03<00:00, 282.14batch/s, train_mean_loss=0.039864]\n",
      "Epoch 113/200: 100%|██████████| 900/900 [00:03<00:00, 287.85batch/s, train_mean_loss=0.036715]\n",
      "Epoch 114/200: 100%|██████████| 900/900 [00:03<00:00, 280.41batch/s, train_mean_loss=0.042758]\n",
      "Epoch 115/200: 100%|██████████| 900/900 [00:03<00:00, 294.38batch/s, train_mean_loss=0.049790]\n",
      "Epoch 116/200: 100%|██████████| 900/900 [00:03<00:00, 292.58batch/s, train_mean_loss=0.049700]\n",
      "Epoch 117/200: 100%|██████████| 900/900 [00:02<00:00, 305.98batch/s, train_mean_loss=0.049886]\n",
      "Epoch 118/200: 100%|██████████| 900/900 [00:02<00:00, 307.75batch/s, train_mean_loss=0.052651]\n",
      "Epoch 119/200: 100%|██████████| 900/900 [00:02<00:00, 310.45batch/s, train_mean_loss=0.058835]\n",
      "Epoch 120/200: 100%|██████████| 900/900 [00:02<00:00, 311.22batch/s, train_mean_loss=0.070642]\n",
      "Epoch 121/200: 100%|██████████| 900/900 [00:02<00:00, 312.54batch/s, train_mean_loss=0.085841]\n",
      "Epoch 122/200: 100%|██████████| 900/900 [00:02<00:00, 313.42batch/s, train_mean_loss=0.093942]\n",
      "Epoch 123/200: 100%|██████████| 900/900 [00:03<00:00, 299.88batch/s, train_mean_loss=0.088592]\n",
      "Epoch 124/200: 100%|██████████| 900/900 [00:02<00:00, 304.22batch/s, train_mean_loss=0.073383]\n",
      "Epoch 125/200: 100%|██████████| 900/900 [00:02<00:00, 304.04batch/s, train_mean_loss=0.055624]\n",
      "Epoch 126/200: 100%|██████████| 900/900 [00:02<00:00, 306.77batch/s, train_mean_loss=0.043721]\n",
      "Epoch 127/200: 100%|██████████| 900/900 [00:02<00:00, 308.64batch/s, train_mean_loss=0.037841]\n",
      "Epoch 128/200: 100%|██████████| 900/900 [00:02<00:00, 305.41batch/s, train_mean_loss=0.037705]\n",
      "Epoch 129/200: 100%|██████████| 900/900 [00:02<00:00, 305.04batch/s, train_mean_loss=0.041892]\n",
      "Epoch 130/200: 100%|██████████| 900/900 [00:03<00:00, 298.96batch/s, train_mean_loss=0.045376]\n",
      "Epoch 131/200: 100%|██████████| 900/900 [00:02<00:00, 300.08batch/s, train_mean_loss=0.045496]\n",
      "Epoch 132/200: 100%|██████████| 900/900 [00:02<00:00, 303.26batch/s, train_mean_loss=0.047391]\n",
      "Epoch 133/200: 100%|██████████| 900/900 [00:02<00:00, 305.58batch/s, train_mean_loss=0.052065]\n",
      "Epoch 134/200: 100%|██████████| 900/900 [00:02<00:00, 303.53batch/s, train_mean_loss=0.058153]\n",
      "Epoch 135/200: 100%|██████████| 900/900 [00:02<00:00, 308.84batch/s, train_mean_loss=0.067764]\n",
      "Epoch 136/200: 100%|██████████| 900/900 [00:02<00:00, 300.11batch/s, train_mean_loss=0.080931]\n",
      "Epoch 137/200: 100%|██████████| 900/900 [00:03<00:00, 294.45batch/s, train_mean_loss=0.087278]\n",
      "Epoch 138/200: 100%|██████████| 900/900 [00:02<00:00, 316.80batch/s, train_mean_loss=0.081415]\n",
      "Epoch 139/200: 100%|██████████| 900/900 [00:02<00:00, 323.54batch/s, train_mean_loss=0.066820]\n",
      "Epoch 140/200: 100%|██████████| 900/900 [00:02<00:00, 327.16batch/s, train_mean_loss=0.051068]\n",
      "Epoch 141/200: 100%|██████████| 900/900 [00:02<00:00, 306.73batch/s, train_mean_loss=0.040345]\n",
      "Epoch 142/200: 100%|██████████| 900/900 [00:02<00:00, 302.83batch/s, train_mean_loss=0.034786]\n",
      "Epoch 143/200: 100%|██████████| 900/900 [00:02<00:00, 307.90batch/s, train_mean_loss=0.034115]\n",
      "Epoch 144/200: 100%|██████████| 900/900 [00:02<00:00, 306.12batch/s, train_mean_loss=0.038086]\n",
      "Epoch 145/200: 100%|██████████| 900/900 [00:02<00:00, 307.40batch/s, train_mean_loss=0.039126]\n",
      "Epoch 146/200: 100%|██████████| 900/900 [00:02<00:00, 343.91batch/s, train_mean_loss=0.038116]\n",
      "Epoch 147/200: 100%|██████████| 900/900 [00:02<00:00, 362.97batch/s, train_mean_loss=0.037767]\n",
      "Epoch 148/200: 100%|██████████| 900/900 [00:02<00:00, 373.29batch/s, train_mean_loss=0.038685]\n",
      "Epoch 149/200: 100%|██████████| 900/900 [00:02<00:00, 370.60batch/s, train_mean_loss=0.042798]\n",
      "Epoch 150/200: 100%|██████████| 900/900 [00:02<00:00, 343.69batch/s, train_mean_loss=0.049642]\n",
      "Epoch 151/200: 100%|██████████| 900/900 [00:02<00:00, 325.50batch/s, train_mean_loss=0.059274]\n",
      "Epoch 152/200: 100%|██████████| 900/900 [00:02<00:00, 341.42batch/s, train_mean_loss=0.070577]\n",
      "Epoch 153/200: 100%|██████████| 900/900 [00:02<00:00, 356.21batch/s, train_mean_loss=0.080697]\n",
      "Epoch 154/200: 100%|██████████| 900/900 [00:02<00:00, 330.21batch/s, train_mean_loss=0.083064]\n",
      "Epoch 155/200: 100%|██████████| 900/900 [00:02<00:00, 355.04batch/s, train_mean_loss=0.071377]\n",
      "Epoch 156/200: 100%|██████████| 900/900 [00:02<00:00, 335.37batch/s, train_mean_loss=0.054328]\n",
      "Epoch 157/200: 100%|██████████| 900/900 [00:02<00:00, 390.13batch/s, train_mean_loss=0.040772]\n",
      "Epoch 158/200: 100%|██████████| 900/900 [00:02<00:00, 378.00batch/s, train_mean_loss=0.030803]\n",
      "Epoch 159/200: 100%|██████████| 900/900 [00:02<00:00, 377.76batch/s, train_mean_loss=0.026368]\n",
      "Epoch 160/200: 100%|██████████| 900/900 [00:02<00:00, 387.41batch/s, train_mean_loss=0.027822]\n",
      "Epoch 161/200: 100%|██████████| 900/900 [00:02<00:00, 394.51batch/s, train_mean_loss=0.034025]\n",
      "Epoch 162/200: 100%|██████████| 900/900 [00:02<00:00, 376.22batch/s, train_mean_loss=0.033685]\n",
      "Epoch 163/200: 100%|██████████| 900/900 [00:02<00:00, 360.08batch/s, train_mean_loss=0.029989]\n",
      "Epoch 164/200: 100%|██████████| 900/900 [00:02<00:00, 388.58batch/s, train_mean_loss=0.028455]\n",
      "Epoch 165/200: 100%|██████████| 900/900 [00:01<00:00, 474.82batch/s, train_mean_loss=0.029514]\n",
      "Epoch 166/200: 100%|██████████| 900/900 [00:01<00:00, 498.06batch/s, train_mean_loss=0.032511]\n",
      "Epoch 167/200: 100%|██████████| 900/900 [00:01<00:00, 528.09batch/s, train_mean_loss=0.035453]\n",
      "Epoch 168/200: 100%|██████████| 900/900 [00:01<00:00, 505.59batch/s, train_mean_loss=0.039287]\n",
      "Epoch 169/200: 100%|██████████| 900/900 [00:01<00:00, 478.44batch/s, train_mean_loss=0.044985]\n",
      "Epoch 170/200: 100%|██████████| 900/900 [00:01<00:00, 488.95batch/s, train_mean_loss=0.053323]\n",
      "Epoch 171/200: 100%|██████████| 900/900 [00:01<00:00, 526.14batch/s, train_mean_loss=0.064876]\n",
      "Epoch 172/200: 100%|██████████| 900/900 [00:01<00:00, 516.28batch/s, train_mean_loss=0.074423]\n",
      "Epoch 173/200: 100%|██████████| 900/900 [00:01<00:00, 513.28batch/s, train_mean_loss=0.070564]\n",
      "Epoch 174/200: 100%|██████████| 900/900 [00:01<00:00, 533.61batch/s, train_mean_loss=0.057152]\n",
      "Epoch 175/200: 100%|██████████| 900/900 [00:01<00:00, 529.08batch/s, train_mean_loss=0.042567]\n",
      "Epoch 176/200: 100%|██████████| 900/900 [00:01<00:00, 533.84batch/s, train_mean_loss=0.031463]\n",
      "Epoch 177/200: 100%|██████████| 900/900 [00:01<00:00, 534.93batch/s, train_mean_loss=0.025061]\n",
      "Epoch 178/200: 100%|██████████| 900/900 [00:01<00:00, 536.11batch/s, train_mean_loss=0.023542]\n",
      "Epoch 179/200: 100%|██████████| 900/900 [00:01<00:00, 541.01batch/s, train_mean_loss=0.027484]\n",
      "Epoch 180/200: 100%|██████████| 900/900 [00:01<00:00, 497.31batch/s, train_mean_loss=0.029998]\n",
      "Epoch 181/200: 100%|██████████| 900/900 [00:01<00:00, 531.44batch/s, train_mean_loss=0.027895]\n",
      "Epoch 182/200: 100%|██████████| 900/900 [00:01<00:00, 540.30batch/s, train_mean_loss=0.027566]\n",
      "Epoch 183/200: 100%|██████████| 900/900 [00:01<00:00, 540.98batch/s, train_mean_loss=0.027366]\n",
      "Epoch 184/200: 100%|██████████| 900/900 [00:01<00:00, 539.53batch/s, train_mean_loss=0.029093]\n",
      "Epoch 185/200: 100%|██████████| 900/900 [00:01<00:00, 544.98batch/s, train_mean_loss=0.032209]\n",
      "Epoch 186/200: 100%|██████████| 900/900 [00:01<00:00, 543.55batch/s, train_mean_loss=0.035198]\n",
      "Epoch 187/200: 100%|██████████| 900/900 [00:01<00:00, 542.21batch/s, train_mean_loss=0.040764]\n",
      "Epoch 188/200: 100%|██████████| 900/900 [00:01<00:00, 546.38batch/s, train_mean_loss=0.046459]\n",
      "Epoch 189/200: 100%|██████████| 900/900 [00:01<00:00, 546.94batch/s, train_mean_loss=0.050967]\n",
      "Epoch 190/200: 100%|██████████| 900/900 [00:01<00:00, 544.48batch/s, train_mean_loss=0.054374]\n",
      "Epoch 191/200: 100%|██████████| 900/900 [00:01<00:00, 543.92batch/s, train_mean_loss=0.051427]\n",
      "Epoch 192/200: 100%|██████████| 900/900 [00:01<00:00, 538.44batch/s, train_mean_loss=0.044277]\n",
      "Epoch 193/200: 100%|██████████| 900/900 [00:01<00:00, 541.44batch/s, train_mean_loss=0.035977]\n",
      "Epoch 194/200: 100%|██████████| 900/900 [00:01<00:00, 546.59batch/s, train_mean_loss=0.029436]\n",
      "Epoch 195/200: 100%|██████████| 900/900 [00:01<00:00, 548.49batch/s, train_mean_loss=0.026008]\n",
      "Epoch 196/200: 100%|██████████| 900/900 [00:01<00:00, 521.36batch/s, train_mean_loss=0.026329]\n",
      "Epoch 197/200: 100%|██████████| 900/900 [00:01<00:00, 541.32batch/s, train_mean_loss=0.028687]\n",
      "Epoch 198/200: 100%|██████████| 900/900 [00:01<00:00, 534.00batch/s, train_mean_loss=0.029693]\n",
      "Epoch 199/200: 100%|██████████| 900/900 [00:01<00:00, 539.25batch/s, train_mean_loss=0.029902]\n",
      "Epoch 200/200: 100%|██████████| 900/900 [00:01<00:00, 542.44batch/s, train_mean_loss=0.029270]\n"
     ]
    }
   ],
   "source": [
    "# Training\n",
    "train_num_samples = len(train)\n",
    "train_num_batches = (train_num_samples + CONFIG['BATCH_SIZE'] - 1) // CONFIG['BATCH_SIZE']\n",
    "\n",
    "for epoch in range(CONFIG['EPOCHS']):\n",
    "    ##################################################################TRAIN##################################################################\n",
    "    model.train()\n",
    "    train_running_loss = 0.0\n",
    "\n",
    "    with tqdm(range(train_num_batches), desc=f\"Epoch {epoch + 1}/{CONFIG['EPOCHS']}\", unit=\"batch\") as t:\n",
    "        for batch_idx in t:\n",
    "            start_idx = batch_idx * CONFIG['BATCH_SIZE']\n",
    "            end_idx = min(start_idx + CONFIG['BATCH_SIZE'], train_num_samples)\n",
    "\n",
    "            # Извлечение батча данных\n",
    "            batch_inputs = train_tensors[start_idx:end_idx]\n",
    "            batch_targets = train_targets[start_idx:end_idx]\n",
    "            \n",
    "            # Обнуление градиентов\n",
    "            optimizer.zero_grad()\n",
    "\n",
    "            # Прямой проход\n",
    "            outputs = model(batch_inputs)\n",
    "\n",
    "            # Вычисление функции потерь\n",
    "            batch_loss = criterion(outputs, batch_targets.unsqueeze(1))\n",
    "\n",
    "            # Обратный проход\n",
    "            batch_loss.backward()\n",
    "            optimizer.step()\n",
    "\n",
    "            train_running_loss += batch_loss.item()\n",
    "            t.set_postfix(train_mean_loss=f\"{train_running_loss / (batch_idx + 1):.6f}\")"
   ]
  },
  {
   "cell_type": "code",
   "outputs": [],
   "source": [
    "torch.save(model, f'{number}.pth')"
   ],
   "metadata": {
    "collapsed": false,
    "ExecuteTime": {
     "end_time": "2024-12-26T07:37:09.741828700Z",
     "start_time": "2024-12-26T07:37:09.724792600Z"
    }
   },
   "id": "5dd66befac09e49e",
   "execution_count": 13
  },
  {
   "cell_type": "code",
   "outputs": [],
   "source": [],
   "metadata": {
    "collapsed": false
   },
   "id": "b79df202a0c5f517"
  }
 ],
 "metadata": {
  "kaggle": {
   "accelerator": "gpu",
   "dataSources": [
    {
     "datasetId": 6155403,
     "sourceId": 10000346,
     "sourceType": "datasetVersion"
    }
   ],
   "dockerImageVersionId": 30787,
   "isGpuEnabled": true,
   "isInternetEnabled": true,
   "language": "python",
   "sourceType": "notebook"
  },
  "kernelspec": {
   "display_name": "Python 3",
   "language": "python",
   "name": "python3"
  },
  "language_info": {
   "codemirror_mode": {
    "name": "ipython",
    "version": 3
   },
   "file_extension": ".py",
   "mimetype": "text/x-python",
   "name": "python",
   "nbconvert_exporter": "python",
   "pygments_lexer": "ipython3",
   "version": "3.10.14"
  },
  "papermill": {
   "default_parameters": {},
   "duration": 5460.653933,
   "end_time": "2024-11-25T06:17:15.604943",
   "environment_variables": {},
   "exception": null,
   "input_path": "__notebook__.ipynb",
   "output_path": "__notebook__.ipynb",
   "parameters": {},
   "start_time": "2024-11-25T04:46:14.951010",
   "version": "2.6.0"
  }
 },
 "nbformat": 4,
 "nbformat_minor": 5
}
