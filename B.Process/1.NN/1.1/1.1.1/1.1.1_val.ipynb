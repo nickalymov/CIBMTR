{
 "cells": [
  {
   "cell_type": "code",
   "outputs": [],
   "source": [
    "import os\n",
    "current_directory = os.getcwd()\n",
    "folder_name = os.path.basename(current_directory)\n",
    "number = folder_name"
   ],
   "metadata": {
    "collapsed": false,
    "ExecuteTime": {
     "end_time": "2024-12-26T06:40:33.332385500Z",
     "start_time": "2024-12-26T06:40:33.319385700Z"
    }
   },
   "id": "98e9eccdccd5addd",
   "execution_count": 1
  },
  {
   "cell_type": "code",
   "outputs": [],
   "source": [
    "CONFIG = {\n",
    "    'data_main': 'C:/Users/Николай/PycharmProjects/CIBMTR/D.Data/main/',\n",
    "    'data_train_process': 'C:/Users/Николай/PycharmProjects/CIBMTR/D.Data/train_process/',\n",
    "    'data_train_split': 'C:/Users/Николай/PycharmProjects/CIBMTR/D.Data/train_split/',\n",
    "    'train_path': 'train.csv',\n",
    "    'folds_path': 'v1.csv', \n",
    "\n",
    "    'DEVICE' : 'cuda',\n",
    "    'SEED' : 42,\n",
    "    'BATCH_SIZE' : 32,\n",
    "    'LR' : 0.001,\n",
    "    'EPOCHS' : 200,\n",
    "    'output_dim' : 1\n",
    "}"
   ],
   "metadata": {
    "collapsed": false,
    "ExecuteTime": {
     "end_time": "2024-12-26T06:40:33.344387200Z",
     "start_time": "2024-12-26T06:40:33.328384400Z"
    }
   },
   "id": "4a794a5c2901e728",
   "execution_count": 2
  },
  {
   "cell_type": "code",
   "execution_count": 3,
   "id": "f9ee4882",
   "metadata": {
    "collapsed": false,
    "execution": {
     "iopub.execute_input": "2024-11-25T04:46:17.459651Z",
     "iopub.status.busy": "2024-11-25T04:46:17.459331Z",
     "iopub.status.idle": "2024-11-25T04:46:22.363731Z",
     "shell.execute_reply": "2024-11-25T04:46:22.362971Z"
    },
    "papermill": {
     "duration": 4.91114,
     "end_time": "2024-11-25T04:46:22.365894",
     "exception": false,
     "start_time": "2024-11-25T04:46:17.454754",
     "status": "completed"
    },
    "tags": [],
    "ExecuteTime": {
     "end_time": "2024-12-26T06:40:35.414864200Z",
     "start_time": "2024-12-26T06:40:33.345385300Z"
    }
   },
   "outputs": [],
   "source": [
    "# Import libs\n",
    "import numpy as np\n",
    "from tqdm import tqdm\n",
    "import pandas as pd \n",
    "import torch\n",
    "import torch.nn as nn\n",
    "from torch.optim import Adam\n",
    "import torch.nn.init as init\n",
    "from metric import score"
   ]
  },
  {
   "cell_type": "code",
   "execution_count": 4,
   "id": "6cf61865",
   "metadata": {
    "collapsed": false,
    "execution": {
     "iopub.execute_input": "2024-11-25T04:46:22.376480Z",
     "iopub.status.busy": "2024-11-25T04:46:22.375606Z",
     "iopub.status.idle": "2024-11-25T04:46:22.445552Z",
     "shell.execute_reply": "2024-11-25T04:46:22.444304Z"
    },
    "papermill": {
     "duration": 0.077688,
     "end_time": "2024-11-25T04:46:22.448120",
     "exception": false,
     "start_time": "2024-11-25T04:46:22.370432",
     "status": "completed"
    },
    "tags": [],
    "ExecuteTime": {
     "end_time": "2024-12-26T06:40:36.051966300Z",
     "start_time": "2024-12-26T06:40:35.419764200Z"
    }
   },
   "outputs": [],
   "source": [
    "# Device, torch decimal places and seed for reproducibility\n",
    "device = torch.device(CONFIG['DEVICE'] if torch.cuda.is_available() else \"cpu\")\n",
    "torch.set_printoptions(precision=40) \n",
    "\n",
    "torch.manual_seed(CONFIG['SEED'])  \n",
    "torch.cuda.manual_seed_all(CONFIG['SEED'])  \n",
    "np.random.seed(CONFIG['SEED'])  "
   ]
  },
  {
   "cell_type": "code",
   "execution_count": 5,
   "id": "ead528618a5bd413",
   "metadata": {
    "collapsed": false,
    "ExecuteTime": {
     "end_time": "2024-12-26T06:40:36.384941700Z",
     "start_time": "2024-12-26T06:40:36.052968100Z"
    }
   },
   "outputs": [],
   "source": [
    "# Load and prepare data\n",
    "train = pd.read_csv(f\"{CONFIG['data_main']}{CONFIG['train_path']}\")\n",
    "train = train.fillna('-1')\n",
    "\n",
    "for col in ['donor_age', 'age_at_hct']:\n",
    "    train[col] = train[col].astype(int)\n",
    "    \n",
    "train[\"y\"] = train.efs_time.values\n",
    "mx = train.loc[train.efs==1,\"efs_time\"].max()\n",
    "mn = train.loc[train.efs==0,\"efs_time\"].min()\n",
    "train.loc[train.efs==0,\"y\"] = train.loc[train.efs==0,\"y\"] + mx - mn\n",
    "train.y = train.y.rank()\n",
    "train.loc[train.efs==0,\"y\"] += 2*len(train)\n",
    "train.y = train.y / train.y.max()\n",
    "train.y = np.log( train.y )\n",
    "train.y -= train.y.mean()\n",
    "train.y *= -1.0\n",
    "\n",
    "# train['efs_time'] = (train['efs_time'] - train['efs_time'].min()) / (train['efs_time'].max() - train['efs_time'].min())\n",
    "\n",
    "cat_columns = [col for col in train.columns if col not in ['efs', 'efs_time', 'y', 'ID']]\n",
    "train[cat_columns] = train[cat_columns].astype(str)"
   ]
  },
  {
   "cell_type": "code",
   "outputs": [],
   "source": [
    "folds = pd.read_csv(f\"{CONFIG['data_train_split']}{CONFIG['folds_path']}\")\n",
    "val = train[folds['fold'] == 1].copy(deep=True)\n",
    "train = train[folds['fold'].isin([0, 1, 2, 3])].copy(deep=True)\n",
    "val.reset_index(drop=True, inplace=True)\n",
    "train.reset_index(drop=True, inplace=True)"
   ],
   "metadata": {
    "collapsed": false,
    "execution": {
     "iopub.execute_input": "2024-11-25T04:46:22.463105Z",
     "iopub.status.busy": "2024-11-25T04:46:22.462120Z",
     "iopub.status.idle": "2024-11-25T04:46:36.958670Z",
     "shell.execute_reply": "2024-11-25T04:46:36.957928Z"
    },
    "papermill": {
     "duration": 14.504329,
     "end_time": "2024-11-25T04:46:36.960715",
     "exception": false,
     "start_time": "2024-11-25T04:46:22.456386",
     "status": "completed"
    },
    "tags": [],
    "ExecuteTime": {
     "end_time": "2024-12-26T06:40:36.479934800Z",
     "start_time": "2024-12-26T06:40:36.390929Z"
    }
   },
   "id": "3dfa6723",
   "execution_count": 6
  },
  {
   "cell_type": "code",
   "outputs": [],
   "source": [
    "train_one_hot = pd.get_dummies(train[cat_columns], drop_first=True)\n",
    "val_one_hot = pd.get_dummies(val[cat_columns], drop_first=True)\n",
    "val_one_hot = val_one_hot.reindex(columns=train_one_hot.columns, fill_value=False)"
   ],
   "metadata": {
    "collapsed": false,
    "ExecuteTime": {
     "end_time": "2024-12-26T06:40:36.637012300Z",
     "start_time": "2024-12-26T06:40:36.481991900Z"
    }
   },
   "id": "a4023592ce465a05",
   "execution_count": 7
  },
  {
   "cell_type": "code",
   "outputs": [],
   "source": [
    "input_dim = train_one_hot.shape[1]"
   ],
   "metadata": {
    "collapsed": false,
    "ExecuteTime": {
     "end_time": "2024-12-26T06:40:36.658981200Z",
     "start_time": "2024-12-26T06:40:36.638055800Z"
    }
   },
   "id": "7203f96cf36f7ac0",
   "execution_count": 8
  },
  {
   "cell_type": "code",
   "outputs": [],
   "source": [
    "# Model definition\n",
    "class Model(nn.Module):\n",
    "    def __init__(self, input_dim, output_dim=CONFIG['output_dim']):\n",
    "        super(Model, self).__init__()\n",
    "    \n",
    "        self.fc1 = nn.Linear(input_dim, input_dim)\n",
    "        self.fc2 = nn.Linear(input_dim, output_dim)\n",
    "        self.relu = nn.ReLU()\n",
    "\n",
    "        \n",
    "        # self.init_weights()\n",
    "    \n",
    "    def init_weights(self):\n",
    "        init.xavier_uniform_(self.fc1.weight)\n",
    "        init.xavier_uniform_(self.fc2.weight)\n",
    "    \n",
    "        self.fc1.weight.data = torch.clamp(self.fc1.weight.data, 0, 1)\n",
    "        self.fc2.weight.data = torch.clamp(self.fc2.weight.data, 0, 1)\n",
    "\n",
    "        if self.fc1.bias is not None:\n",
    "            init.zeros_(self.fc1.bias)\n",
    "        if self.fc2.bias is not None:\n",
    "            init.zeros_(self.fc2.bias)\n",
    "        \n",
    "    def forward(self, x):\n",
    "\n",
    "        x = self.relu(self.fc1(x))\n",
    "        x = self.fc2(x)\n",
    "        \n",
    "        return x"
   ],
   "metadata": {
    "collapsed": false,
    "ExecuteTime": {
     "end_time": "2024-12-26T06:40:36.669973200Z",
     "start_time": "2024-12-26T06:40:36.654898900Z"
    }
   },
   "id": "769b210d304532d1",
   "execution_count": 9
  },
  {
   "cell_type": "code",
   "execution_count": 10,
   "id": "ae46951b",
   "metadata": {
    "collapsed": false,
    "execution": {
     "iopub.execute_input": "2024-11-25T04:46:40.465946Z",
     "iopub.status.busy": "2024-11-25T04:46:40.465691Z",
     "iopub.status.idle": "2024-11-25T04:46:41.656166Z",
     "shell.execute_reply": "2024-11-25T04:46:41.655167Z"
    },
    "papermill": {
     "duration": 1.197018,
     "end_time": "2024-11-25T04:46:41.658294",
     "exception": false,
     "start_time": "2024-11-25T04:46:40.461276",
     "status": "completed"
    },
    "tags": [],
    "ExecuteTime": {
     "end_time": "2024-12-26T06:40:38.040763700Z",
     "start_time": "2024-12-26T06:40:36.670933700Z"
    }
   },
   "outputs": [],
   "source": [
    "# Model, criterion and optimizer\n",
    "model = Model(input_dim).to(device)\n",
    "criterion = nn.MSELoss()\n",
    "optimizer = Adam(model.parameters(), lr=CONFIG['LR'])"
   ]
  },
  {
   "cell_type": "code",
   "outputs": [],
   "source": [
    "train_tensors = torch.tensor(train_one_hot.values, device=device, dtype=torch.float32)\n",
    "\n",
    "train_targets = torch.tensor(train['y'].values, device=device, dtype=torch.float32)\n",
    "\n",
    "val_tensors = torch.tensor(val_one_hot.values, device=device, dtype=torch.float32)\n",
    "\n",
    "val_targets = torch.tensor(val['y'].values, device=device, dtype=torch.float32)"
   ],
   "metadata": {
    "collapsed": false,
    "ExecuteTime": {
     "end_time": "2024-12-26T06:40:38.117772400Z",
     "start_time": "2024-12-26T06:40:38.046673300Z"
    }
   },
   "id": "2bed9b1ed476d50a",
   "execution_count": 11
  },
  {
   "cell_type": "code",
   "execution_count": 12,
   "id": "9815da53f5d0594f",
   "metadata": {
    "collapsed": false,
    "ExecuteTime": {
     "end_time": "2024-12-26T06:49:28.606554500Z",
     "start_time": "2024-12-26T06:40:38.124821400Z"
    }
   },
   "outputs": [
    {
     "name": "stderr",
     "output_type": "stream",
     "text": [
      "Epoch 1/200: 100%|██████████| 720/720 [00:01<00:00, 396.82batch/s, train_mean_loss=1.924023]\n",
      "Epoch 1/200: 100%|██████████| 180/180 [00:00<00:00, 822.14batch/s, val_mean_loss=1.776960]\n"
     ]
    },
    {
     "name": "stdout",
     "output_type": "stream",
     "text": [
      "0.6700288226687802\n"
     ]
    },
    {
     "name": "stderr",
     "output_type": "stream",
     "text": [
      "Epoch 2/200: 100%|██████████| 720/720 [00:01<00:00, 367.42batch/s, train_mean_loss=1.821630]\n",
      "Epoch 2/200: 100%|██████████| 180/180 [00:00<00:00, 904.76batch/s, val_mean_loss=1.713716]\n"
     ]
    },
    {
     "name": "stdout",
     "output_type": "stream",
     "text": [
      "0.6822692859618554\n"
     ]
    },
    {
     "name": "stderr",
     "output_type": "stream",
     "text": [
      "Epoch 3/200: 100%|██████████| 720/720 [00:01<00:00, 399.59batch/s, train_mean_loss=1.743030]\n",
      "Epoch 3/200: 100%|██████████| 180/180 [00:00<00:00, 798.81batch/s, val_mean_loss=1.642817]\n"
     ]
    },
    {
     "name": "stdout",
     "output_type": "stream",
     "text": [
      "0.6955812917005673\n"
     ]
    },
    {
     "name": "stderr",
     "output_type": "stream",
     "text": [
      "Epoch 4/200: 100%|██████████| 720/720 [00:01<00:00, 397.77batch/s, train_mean_loss=1.626151]\n",
      "Epoch 4/200: 100%|██████████| 180/180 [00:00<00:00, 786.08batch/s, val_mean_loss=1.549627]\n"
     ]
    },
    {
     "name": "stdout",
     "output_type": "stream",
     "text": [
      "0.7113953991940778\n"
     ]
    },
    {
     "name": "stderr",
     "output_type": "stream",
     "text": [
      "Epoch 5/200: 100%|██████████| 720/720 [00:02<00:00, 358.94batch/s, train_mean_loss=1.478350]\n",
      "Epoch 5/200: 100%|██████████| 180/180 [00:00<00:00, 758.70batch/s, val_mean_loss=1.448923]\n"
     ]
    },
    {
     "name": "stdout",
     "output_type": "stream",
     "text": [
      "0.726200159414456\n"
     ]
    },
    {
     "name": "stderr",
     "output_type": "stream",
     "text": [
      "Epoch 6/200: 100%|██████████| 720/720 [00:02<00:00, 309.75batch/s, train_mean_loss=1.311783]\n",
      "Epoch 6/200: 100%|██████████| 180/180 [00:00<00:00, 827.04batch/s, val_mean_loss=1.360982]\n"
     ]
    },
    {
     "name": "stdout",
     "output_type": "stream",
     "text": [
      "0.7436616571917276\n"
     ]
    },
    {
     "name": "stderr",
     "output_type": "stream",
     "text": [
      "Epoch 7/200: 100%|██████████| 720/720 [00:02<00:00, 294.69batch/s, train_mean_loss=1.143413]\n",
      "Epoch 7/200: 100%|██████████| 180/180 [00:00<00:00, 754.79batch/s, val_mean_loss=1.323054]\n"
     ]
    },
    {
     "name": "stdout",
     "output_type": "stream",
     "text": [
      "0.7522696319661711\n"
     ]
    },
    {
     "name": "stderr",
     "output_type": "stream",
     "text": [
      "Epoch 8/200: 100%|██████████| 720/720 [00:02<00:00, 277.86batch/s, train_mean_loss=0.985815]\n",
      "Epoch 8/200: 100%|██████████| 180/180 [00:00<00:00, 831.12batch/s, val_mean_loss=1.252220]\n"
     ]
    },
    {
     "name": "stdout",
     "output_type": "stream",
     "text": [
      "0.7662734089711337\n"
     ]
    },
    {
     "name": "stderr",
     "output_type": "stream",
     "text": [
      "Epoch 9/200: 100%|██████████| 720/720 [00:02<00:00, 276.18batch/s, train_mean_loss=0.845008]\n",
      "Epoch 9/200: 100%|██████████| 180/180 [00:00<00:00, 777.34batch/s, val_mean_loss=1.204706]\n"
     ]
    },
    {
     "name": "stdout",
     "output_type": "stream",
     "text": [
      "0.7790784398023698\n"
     ]
    },
    {
     "name": "stderr",
     "output_type": "stream",
     "text": [
      "Epoch 10/200: 100%|██████████| 720/720 [00:02<00:00, 267.05batch/s, train_mean_loss=0.717951]\n",
      "Epoch 10/200: 100%|██████████| 180/180 [00:00<00:00, 816.98batch/s, val_mean_loss=1.198494]\n"
     ]
    },
    {
     "name": "stdout",
     "output_type": "stream",
     "text": [
      "0.7897421417013788\n"
     ]
    },
    {
     "name": "stderr",
     "output_type": "stream",
     "text": [
      "Epoch 11/200: 100%|██████████| 720/720 [00:02<00:00, 251.20batch/s, train_mean_loss=0.612051]\n",
      "Epoch 11/200: 100%|██████████| 180/180 [00:00<00:00, 709.75batch/s, val_mean_loss=1.174749]\n"
     ]
    },
    {
     "name": "stdout",
     "output_type": "stream",
     "text": [
      "0.797723265814647\n"
     ]
    },
    {
     "name": "stderr",
     "output_type": "stream",
     "text": [
      "Epoch 12/200: 100%|██████████| 720/720 [00:02<00:00, 296.84batch/s, train_mean_loss=0.523696]\n",
      "Epoch 12/200: 100%|██████████| 180/180 [00:00<00:00, 849.06batch/s, val_mean_loss=1.311220]\n"
     ]
    },
    {
     "name": "stdout",
     "output_type": "stream",
     "text": [
      "0.8025446616877142\n"
     ]
    },
    {
     "name": "stderr",
     "output_type": "stream",
     "text": [
      "Epoch 13/200: 100%|██████████| 720/720 [00:02<00:00, 273.71batch/s, train_mean_loss=0.451933]\n",
      "Epoch 13/200: 100%|██████████| 180/180 [00:00<00:00, 814.48batch/s, val_mean_loss=1.359915]\n"
     ]
    },
    {
     "name": "stdout",
     "output_type": "stream",
     "text": [
      "0.8084103348903049\n"
     ]
    },
    {
     "name": "stderr",
     "output_type": "stream",
     "text": [
      "Epoch 14/200: 100%|██████████| 720/720 [00:02<00:00, 258.54batch/s, train_mean_loss=0.422241]\n",
      "Epoch 14/200: 100%|██████████| 180/180 [00:00<00:00, 657.72batch/s, val_mean_loss=1.307661]\n"
     ]
    },
    {
     "name": "stdout",
     "output_type": "stream",
     "text": [
      "0.8123891163835766\n"
     ]
    },
    {
     "name": "stderr",
     "output_type": "stream",
     "text": [
      "Epoch 15/200: 100%|██████████| 720/720 [00:02<00:00, 261.16batch/s, train_mean_loss=0.502407]\n",
      "Epoch 15/200: 100%|██████████| 180/180 [00:00<00:00, 859.94batch/s, val_mean_loss=0.890998]\n"
     ]
    },
    {
     "name": "stdout",
     "output_type": "stream",
     "text": [
      "0.8308665287277437\n"
     ]
    },
    {
     "name": "stderr",
     "output_type": "stream",
     "text": [
      "Epoch 16/200: 100%|██████████| 720/720 [00:02<00:00, 279.46batch/s, train_mean_loss=0.562422]\n",
      "Epoch 16/200: 100%|██████████| 180/180 [00:00<00:00, 810.83batch/s, val_mean_loss=0.658348]\n"
     ]
    },
    {
     "name": "stdout",
     "output_type": "stream",
     "text": [
      "0.8441042041348611\n"
     ]
    },
    {
     "name": "stderr",
     "output_type": "stream",
     "text": [
      "Epoch 17/200: 100%|██████████| 720/720 [00:02<00:00, 264.50batch/s, train_mean_loss=0.472957]\n",
      "Epoch 17/200: 100%|██████████| 180/180 [00:00<00:00, 833.34batch/s, val_mean_loss=0.769946]\n"
     ]
    },
    {
     "name": "stdout",
     "output_type": "stream",
     "text": [
      "0.8482694987854983\n"
     ]
    },
    {
     "name": "stderr",
     "output_type": "stream",
     "text": [
      "Epoch 18/200: 100%|██████████| 720/720 [00:02<00:00, 255.30batch/s, train_mean_loss=0.428819]\n",
      "Epoch 18/200: 100%|██████████| 180/180 [00:00<00:00, 806.54batch/s, val_mean_loss=0.653677]\n"
     ]
    },
    {
     "name": "stdout",
     "output_type": "stream",
     "text": [
      "0.8481524538545844\n"
     ]
    },
    {
     "name": "stderr",
     "output_type": "stream",
     "text": [
      "Epoch 19/200: 100%|██████████| 720/720 [00:02<00:00, 265.34batch/s, train_mean_loss=0.433320]\n",
      "Epoch 19/200: 100%|██████████| 180/180 [00:00<00:00, 806.24batch/s, val_mean_loss=0.748547]\n"
     ]
    },
    {
     "name": "stdout",
     "output_type": "stream",
     "text": [
      "0.8478254424557956\n"
     ]
    },
    {
     "name": "stderr",
     "output_type": "stream",
     "text": [
      "Epoch 20/200: 100%|██████████| 720/720 [00:02<00:00, 279.45batch/s, train_mean_loss=0.445689]\n",
      "Epoch 20/200: 100%|██████████| 180/180 [00:00<00:00, 676.69batch/s, val_mean_loss=0.768508]\n"
     ]
    },
    {
     "name": "stdout",
     "output_type": "stream",
     "text": [
      "0.8520629804058951\n"
     ]
    },
    {
     "name": "stderr",
     "output_type": "stream",
     "text": [
      "Epoch 21/200: 100%|██████████| 720/720 [00:02<00:00, 259.59batch/s, train_mean_loss=0.461395]\n",
      "Epoch 21/200: 100%|██████████| 180/180 [00:00<00:00, 778.69batch/s, val_mean_loss=0.618670]\n"
     ]
    },
    {
     "name": "stdout",
     "output_type": "stream",
     "text": [
      "0.8595373958277246\n"
     ]
    },
    {
     "name": "stderr",
     "output_type": "stream",
     "text": [
      "Epoch 22/200: 100%|██████████| 720/720 [00:02<00:00, 263.28batch/s, train_mean_loss=0.451366]\n",
      "Epoch 22/200: 100%|██████████| 180/180 [00:00<00:00, 824.14batch/s, val_mean_loss=0.552691]\n"
     ]
    },
    {
     "name": "stdout",
     "output_type": "stream",
     "text": [
      "0.862236327318283\n"
     ]
    },
    {
     "name": "stderr",
     "output_type": "stream",
     "text": [
      "Epoch 23/200: 100%|██████████| 720/720 [00:02<00:00, 285.52batch/s, train_mean_loss=0.363095]\n",
      "Epoch 23/200: 100%|██████████| 180/180 [00:00<00:00, 782.46batch/s, val_mean_loss=0.515833]\n"
     ]
    },
    {
     "name": "stdout",
     "output_type": "stream",
     "text": [
      "0.8668221559826629\n"
     ]
    },
    {
     "name": "stderr",
     "output_type": "stream",
     "text": [
      "Epoch 24/200: 100%|██████████| 720/720 [00:02<00:00, 265.51batch/s, train_mean_loss=0.289891]\n",
      "Epoch 24/200: 100%|██████████| 180/180 [00:00<00:00, 779.22batch/s, val_mean_loss=0.489938]\n"
     ]
    },
    {
     "name": "stdout",
     "output_type": "stream",
     "text": [
      "0.8712377805785854\n"
     ]
    },
    {
     "name": "stderr",
     "output_type": "stream",
     "text": [
      "Epoch 25/200: 100%|██████████| 720/720 [00:02<00:00, 269.00batch/s, train_mean_loss=0.253173]\n",
      "Epoch 25/200: 100%|██████████| 180/180 [00:00<00:00, 772.53batch/s, val_mean_loss=0.501987]\n"
     ]
    },
    {
     "name": "stdout",
     "output_type": "stream",
     "text": [
      "0.8739718453950123\n"
     ]
    },
    {
     "name": "stderr",
     "output_type": "stream",
     "text": [
      "Epoch 26/200: 100%|██████████| 720/720 [00:02<00:00, 246.53batch/s, train_mean_loss=0.265565]\n",
      "Epoch 26/200: 100%|██████████| 180/180 [00:00<00:00, 632.47batch/s, val_mean_loss=0.608297]\n"
     ]
    },
    {
     "name": "stdout",
     "output_type": "stream",
     "text": [
      "0.8734417879859593\n"
     ]
    },
    {
     "name": "stderr",
     "output_type": "stream",
     "text": [
      "Epoch 27/200: 100%|██████████| 720/720 [00:02<00:00, 273.40batch/s, train_mean_loss=0.414358]\n",
      "Epoch 27/200: 100%|██████████| 180/180 [00:00<00:00, 778.42batch/s, val_mean_loss=0.798577]\n"
     ]
    },
    {
     "name": "stdout",
     "output_type": "stream",
     "text": [
      "0.8654591857234741\n"
     ]
    },
    {
     "name": "stderr",
     "output_type": "stream",
     "text": [
      "Epoch 28/200: 100%|██████████| 720/720 [00:02<00:00, 274.13batch/s, train_mean_loss=0.474159]\n",
      "Epoch 28/200: 100%|██████████| 180/180 [00:00<00:00, 819.48batch/s, val_mean_loss=0.467848]\n"
     ]
    },
    {
     "name": "stdout",
     "output_type": "stream",
     "text": [
      "0.88194613173822\n"
     ]
    },
    {
     "name": "stderr",
     "output_type": "stream",
     "text": [
      "Epoch 29/200: 100%|██████████| 720/720 [00:02<00:00, 271.51batch/s, train_mean_loss=0.293502]\n",
      "Epoch 29/200: 100%|██████████| 180/180 [00:00<00:00, 821.92batch/s, val_mean_loss=0.406861]\n"
     ]
    },
    {
     "name": "stdout",
     "output_type": "stream",
     "text": [
      "0.8880107984410172\n"
     ]
    },
    {
     "name": "stderr",
     "output_type": "stream",
     "text": [
      "Epoch 30/200: 100%|██████████| 720/720 [00:02<00:00, 277.66batch/s, train_mean_loss=0.175639]\n",
      "Epoch 30/200: 100%|██████████| 180/180 [00:00<00:00, 792.96batch/s, val_mean_loss=0.382365]\n"
     ]
    },
    {
     "name": "stdout",
     "output_type": "stream",
     "text": [
      "0.8906168331798474\n"
     ]
    },
    {
     "name": "stderr",
     "output_type": "stream",
     "text": [
      "Epoch 31/200: 100%|██████████| 720/720 [00:02<00:00, 271.12batch/s, train_mean_loss=0.120506]\n",
      "Epoch 31/200: 100%|██████████| 180/180 [00:00<00:00, 861.24batch/s, val_mean_loss=0.398051]\n"
     ]
    },
    {
     "name": "stdout",
     "output_type": "stream",
     "text": [
      "0.8911182174126492\n"
     ]
    },
    {
     "name": "stderr",
     "output_type": "stream",
     "text": [
      "Epoch 32/200: 100%|██████████| 720/720 [00:02<00:00, 284.04batch/s, train_mean_loss=0.100561]\n",
      "Epoch 32/200: 100%|██████████| 180/180 [00:00<00:00, 833.33batch/s, val_mean_loss=0.386844]\n"
     ]
    },
    {
     "name": "stdout",
     "output_type": "stream",
     "text": [
      "0.8911219596000856\n"
     ]
    },
    {
     "name": "stderr",
     "output_type": "stream",
     "text": [
      "Epoch 33/200: 100%|██████████| 720/720 [00:02<00:00, 278.15batch/s, train_mean_loss=0.106040]\n",
      "Epoch 33/200: 100%|██████████| 180/180 [00:00<00:00, 886.69batch/s, val_mean_loss=0.417458]\n"
     ]
    },
    {
     "name": "stdout",
     "output_type": "stream",
     "text": [
      "0.8900263384485598\n"
     ]
    },
    {
     "name": "stderr",
     "output_type": "stream",
     "text": [
      "Epoch 34/200: 100%|██████████| 720/720 [00:02<00:00, 290.17batch/s, train_mean_loss=0.141165]\n",
      "Epoch 34/200: 100%|██████████| 180/180 [00:00<00:00, 888.34batch/s, val_mean_loss=0.447656]\n"
     ]
    },
    {
     "name": "stdout",
     "output_type": "stream",
     "text": [
      "0.8891596015802272\n"
     ]
    },
    {
     "name": "stderr",
     "output_type": "stream",
     "text": [
      "Epoch 35/200: 100%|██████████| 720/720 [00:02<00:00, 289.31batch/s, train_mean_loss=0.177588]\n",
      "Epoch 35/200: 100%|██████████| 180/180 [00:00<00:00, 849.06batch/s, val_mean_loss=0.377800]\n"
     ]
    },
    {
     "name": "stdout",
     "output_type": "stream",
     "text": [
      "0.8940786724535904\n"
     ]
    },
    {
     "name": "stderr",
     "output_type": "stream",
     "text": [
      "Epoch 36/200: 100%|██████████| 720/720 [00:02<00:00, 295.77batch/s, train_mean_loss=0.229489]\n",
      "Epoch 36/200: 100%|██████████| 180/180 [00:00<00:00, 865.39batch/s, val_mean_loss=0.388522]\n"
     ]
    },
    {
     "name": "stdout",
     "output_type": "stream",
     "text": [
      "0.8920748107239016\n"
     ]
    },
    {
     "name": "stderr",
     "output_type": "stream",
     "text": [
      "Epoch 37/200: 100%|██████████| 720/720 [00:02<00:00, 283.74batch/s, train_mean_loss=0.255164]\n",
      "Epoch 37/200: 100%|██████████| 180/180 [00:00<00:00, 853.08batch/s, val_mean_loss=0.359477]\n"
     ]
    },
    {
     "name": "stdout",
     "output_type": "stream",
     "text": [
      "0.8958914015565229\n"
     ]
    },
    {
     "name": "stderr",
     "output_type": "stream",
     "text": [
      "Epoch 38/200: 100%|██████████| 720/720 [00:02<00:00, 293.56batch/s, train_mean_loss=0.237014]\n",
      "Epoch 38/200: 100%|██████████| 180/180 [00:00<00:00, 866.83batch/s, val_mean_loss=0.384648]\n"
     ]
    },
    {
     "name": "stdout",
     "output_type": "stream",
     "text": [
      "0.899381331600134\n"
     ]
    },
    {
     "name": "stderr",
     "output_type": "stream",
     "text": [
      "Epoch 39/200: 100%|██████████| 720/720 [00:02<00:00, 295.29batch/s, train_mean_loss=0.205144]\n",
      "Epoch 39/200: 100%|██████████| 180/180 [00:00<00:00, 865.38batch/s, val_mean_loss=0.387395]\n"
     ]
    },
    {
     "name": "stdout",
     "output_type": "stream",
     "text": [
      "0.9025562207536882\n"
     ]
    },
    {
     "name": "stderr",
     "output_type": "stream",
     "text": [
      "Epoch 40/200: 100%|██████████| 720/720 [00:02<00:00, 292.44batch/s, train_mean_loss=0.166861]\n",
      "Epoch 40/200: 100%|██████████| 180/180 [00:00<00:00, 796.46batch/s, val_mean_loss=0.341109]\n"
     ]
    },
    {
     "name": "stdout",
     "output_type": "stream",
     "text": [
      "0.9046358364379851\n"
     ]
    },
    {
     "name": "stderr",
     "output_type": "stream",
     "text": [
      "Epoch 41/200: 100%|██████████| 720/720 [00:02<00:00, 260.99batch/s, train_mean_loss=0.131163]\n",
      "Epoch 41/200: 100%|██████████| 180/180 [00:00<00:00, 852.92batch/s, val_mean_loss=0.319078]\n"
     ]
    },
    {
     "name": "stdout",
     "output_type": "stream",
     "text": [
      "0.9060867231236239\n"
     ]
    },
    {
     "name": "stderr",
     "output_type": "stream",
     "text": [
      "Epoch 42/200: 100%|██████████| 720/720 [00:02<00:00, 306.93batch/s, train_mean_loss=0.114652]\n",
      "Epoch 42/200: 100%|██████████| 180/180 [00:00<00:00, 746.75batch/s, val_mean_loss=0.331853]\n"
     ]
    },
    {
     "name": "stdout",
     "output_type": "stream",
     "text": [
      "0.90382961302803\n"
     ]
    },
    {
     "name": "stderr",
     "output_type": "stream",
     "text": [
      "Epoch 43/200: 100%|██████████| 720/720 [00:02<00:00, 264.03batch/s, train_mean_loss=0.124452]\n",
      "Epoch 43/200: 100%|██████████| 180/180 [00:00<00:00, 807.17batch/s, val_mean_loss=0.383834]\n"
     ]
    },
    {
     "name": "stdout",
     "output_type": "stream",
     "text": [
      "0.9021012834383707\n"
     ]
    },
    {
     "name": "stderr",
     "output_type": "stream",
     "text": [
      "Epoch 44/200: 100%|██████████| 720/720 [00:02<00:00, 272.78batch/s, train_mean_loss=0.179959]\n",
      "Epoch 44/200: 100%|██████████| 180/180 [00:00<00:00, 810.81batch/s, val_mean_loss=0.487089]\n"
     ]
    },
    {
     "name": "stdout",
     "output_type": "stream",
     "text": [
      "0.9002305493951284\n"
     ]
    },
    {
     "name": "stderr",
     "output_type": "stream",
     "text": [
      "Epoch 45/200: 100%|██████████| 720/720 [00:02<00:00, 271.16batch/s, train_mean_loss=0.292394]\n",
      "Epoch 45/200: 100%|██████████| 180/180 [00:00<00:00, 831.34batch/s, val_mean_loss=0.624538]\n"
     ]
    },
    {
     "name": "stdout",
     "output_type": "stream",
     "text": [
      "0.9010723445176443\n"
     ]
    },
    {
     "name": "stderr",
     "output_type": "stream",
     "text": [
      "Epoch 46/200: 100%|██████████| 720/720 [00:02<00:00, 287.96batch/s, train_mean_loss=0.303221]\n",
      "Epoch 46/200: 100%|██████████| 180/180 [00:00<00:00, 830.75batch/s, val_mean_loss=0.850601]\n"
     ]
    },
    {
     "name": "stdout",
     "output_type": "stream",
     "text": [
      "0.903810795156187\n"
     ]
    },
    {
     "name": "stderr",
     "output_type": "stream",
     "text": [
      "Epoch 47/200: 100%|██████████| 720/720 [00:02<00:00, 286.62batch/s, train_mean_loss=0.226709]\n",
      "Epoch 47/200: 100%|██████████| 180/180 [00:00<00:00, 841.12batch/s, val_mean_loss=0.658491]\n"
     ]
    },
    {
     "name": "stdout",
     "output_type": "stream",
     "text": [
      "0.9076016386891449\n"
     ]
    },
    {
     "name": "stderr",
     "output_type": "stream",
     "text": [
      "Epoch 48/200: 100%|██████████| 720/720 [00:02<00:00, 287.44batch/s, train_mean_loss=0.158284]\n",
      "Epoch 48/200: 100%|██████████| 180/180 [00:00<00:00, 845.06batch/s, val_mean_loss=0.502817]\n"
     ]
    },
    {
     "name": "stdout",
     "output_type": "stream",
     "text": [
      "0.9102837878788067\n"
     ]
    },
    {
     "name": "stderr",
     "output_type": "stream",
     "text": [
      "Epoch 49/200: 100%|██████████| 720/720 [00:02<00:00, 275.64batch/s, train_mean_loss=0.117681]\n",
      "Epoch 49/200: 100%|██████████| 180/180 [00:00<00:00, 853.09batch/s, val_mean_loss=0.444377]\n"
     ]
    },
    {
     "name": "stdout",
     "output_type": "stream",
     "text": [
      "0.9116849551811339\n"
     ]
    },
    {
     "name": "stderr",
     "output_type": "stream",
     "text": [
      "Epoch 50/200: 100%|██████████| 720/720 [00:02<00:00, 283.50batch/s, train_mean_loss=0.094107]\n",
      "Epoch 50/200: 100%|██████████| 180/180 [00:00<00:00, 789.34batch/s, val_mean_loss=0.464131]\n"
     ]
    },
    {
     "name": "stdout",
     "output_type": "stream",
     "text": [
      "0.911195306916444\n"
     ]
    },
    {
     "name": "stderr",
     "output_type": "stream",
     "text": [
      "Epoch 51/200: 100%|██████████| 720/720 [00:02<00:00, 274.00batch/s, train_mean_loss=0.084324]\n",
      "Epoch 51/200: 100%|██████████| 180/180 [00:00<00:00, 803.57batch/s, val_mean_loss=0.557215]\n"
     ]
    },
    {
     "name": "stdout",
     "output_type": "stream",
     "text": [
      "0.9074991232157159\n"
     ]
    },
    {
     "name": "stderr",
     "output_type": "stream",
     "text": [
      "Epoch 52/200: 100%|██████████| 720/720 [00:02<00:00, 269.95batch/s, train_mean_loss=0.092005]\n",
      "Epoch 52/200: 100%|██████████| 180/180 [00:00<00:00, 808.55batch/s, val_mean_loss=0.534701]\n"
     ]
    },
    {
     "name": "stdout",
     "output_type": "stream",
     "text": [
      "0.9073650949599913\n"
     ]
    },
    {
     "name": "stderr",
     "output_type": "stream",
     "text": [
      "Epoch 53/200: 100%|██████████| 720/720 [00:02<00:00, 256.33batch/s, train_mean_loss=0.116848]\n",
      "Epoch 53/200: 100%|██████████| 180/180 [00:00<00:00, 818.19batch/s, val_mean_loss=0.651275]\n"
     ]
    },
    {
     "name": "stdout",
     "output_type": "stream",
     "text": [
      "0.9056944980263968\n"
     ]
    },
    {
     "name": "stderr",
     "output_type": "stream",
     "text": [
      "Epoch 54/200: 100%|██████████| 720/720 [00:02<00:00, 275.31batch/s, train_mean_loss=0.141538]\n",
      "Epoch 54/200: 100%|██████████| 180/180 [00:00<00:00, 858.92batch/s, val_mean_loss=0.408769]\n"
     ]
    },
    {
     "name": "stdout",
     "output_type": "stream",
     "text": [
      "0.9098617745227388\n"
     ]
    },
    {
     "name": "stderr",
     "output_type": "stream",
     "text": [
      "Epoch 55/200: 100%|██████████| 720/720 [00:02<00:00, 287.13batch/s, train_mean_loss=0.174537]\n",
      "Epoch 55/200: 100%|██████████| 180/180 [00:00<00:00, 854.65batch/s, val_mean_loss=0.264643]\n"
     ]
    },
    {
     "name": "stdout",
     "output_type": "stream",
     "text": [
      "0.9130172888860805\n"
     ]
    },
    {
     "name": "stderr",
     "output_type": "stream",
     "text": [
      "Epoch 56/200: 100%|██████████| 720/720 [00:02<00:00, 290.24batch/s, train_mean_loss=0.215087]\n",
      "Epoch 56/200: 100%|██████████| 180/180 [00:00<00:00, 848.92batch/s, val_mean_loss=0.330727]\n"
     ]
    },
    {
     "name": "stdout",
     "output_type": "stream",
     "text": [
      "0.9099826835472731\n"
     ]
    },
    {
     "name": "stderr",
     "output_type": "stream",
     "text": [
      "Epoch 57/200: 100%|██████████| 720/720 [00:02<00:00, 283.15batch/s, train_mean_loss=0.244998]\n",
      "Epoch 57/200: 100%|██████████| 180/180 [00:00<00:00, 848.92batch/s, val_mean_loss=0.476820]\n"
     ]
    },
    {
     "name": "stdout",
     "output_type": "stream",
     "text": [
      "0.9107482230619475\n"
     ]
    },
    {
     "name": "stderr",
     "output_type": "stream",
     "text": [
      "Epoch 58/200: 100%|██████████| 720/720 [00:02<00:00, 292.00batch/s, train_mean_loss=0.211069]\n",
      "Epoch 58/200: 100%|██████████| 180/180 [00:00<00:00, 841.12batch/s, val_mean_loss=0.452407]\n"
     ]
    },
    {
     "name": "stdout",
     "output_type": "stream",
     "text": [
      "0.9123744132581902\n"
     ]
    },
    {
     "name": "stderr",
     "output_type": "stream",
     "text": [
      "Epoch 59/200: 100%|██████████| 720/720 [00:02<00:00, 294.05batch/s, train_mean_loss=0.156814]\n",
      "Epoch 59/200: 100%|██████████| 180/180 [00:00<00:00, 840.34batch/s, val_mean_loss=0.367712]\n"
     ]
    },
    {
     "name": "stdout",
     "output_type": "stream",
     "text": [
      "0.9160750016552581\n"
     ]
    },
    {
     "name": "stderr",
     "output_type": "stream",
     "text": [
      "Epoch 60/200: 100%|██████████| 720/720 [00:02<00:00, 294.69batch/s, train_mean_loss=0.110191]\n",
      "Epoch 60/200: 100%|██████████| 180/180 [00:00<00:00, 837.21batch/s, val_mean_loss=0.287271]\n"
     ]
    },
    {
     "name": "stdout",
     "output_type": "stream",
     "text": [
      "0.9175599369592565\n"
     ]
    },
    {
     "name": "stderr",
     "output_type": "stream",
     "text": [
      "Epoch 61/200: 100%|██████████| 720/720 [00:02<00:00, 279.72batch/s, train_mean_loss=0.080952]\n",
      "Epoch 61/200: 100%|██████████| 180/180 [00:00<00:00, 861.24batch/s, val_mean_loss=0.250389]\n"
     ]
    },
    {
     "name": "stdout",
     "output_type": "stream",
     "text": [
      "0.917099188904106\n"
     ]
    },
    {
     "name": "stderr",
     "output_type": "stream",
     "text": [
      "Epoch 62/200: 100%|██████████| 720/720 [00:02<00:00, 286.41batch/s, train_mean_loss=0.065245]\n",
      "Epoch 62/200: 100%|██████████| 180/180 [00:00<00:00, 821.92batch/s, val_mean_loss=0.226040]\n"
     ]
    },
    {
     "name": "stdout",
     "output_type": "stream",
     "text": [
      "0.9171946354020994\n"
     ]
    },
    {
     "name": "stderr",
     "output_type": "stream",
     "text": [
      "Epoch 63/200: 100%|██████████| 720/720 [00:02<00:00, 283.80batch/s, train_mean_loss=0.063800]\n",
      "Epoch 63/200: 100%|██████████| 180/180 [00:00<00:00, 784.12batch/s, val_mean_loss=0.218712]\n"
     ]
    },
    {
     "name": "stdout",
     "output_type": "stream",
     "text": [
      "0.9173102040147274\n"
     ]
    },
    {
     "name": "stderr",
     "output_type": "stream",
     "text": [
      "Epoch 64/200: 100%|██████████| 720/720 [00:02<00:00, 261.88batch/s, train_mean_loss=0.079079]\n",
      "Epoch 64/200: 100%|██████████| 180/180 [00:00<00:00, 757.26batch/s, val_mean_loss=0.235498]\n"
     ]
    },
    {
     "name": "stdout",
     "output_type": "stream",
     "text": [
      "0.9145361077160812\n"
     ]
    },
    {
     "name": "stderr",
     "output_type": "stream",
     "text": [
      "Epoch 65/200: 100%|██████████| 720/720 [00:02<00:00, 271.54batch/s, train_mean_loss=0.092215]\n",
      "Epoch 65/200: 100%|██████████| 180/180 [00:00<00:00, 835.19batch/s, val_mean_loss=0.285664]\n"
     ]
    },
    {
     "name": "stdout",
     "output_type": "stream",
     "text": [
      "0.912908159132338\n"
     ]
    },
    {
     "name": "stderr",
     "output_type": "stream",
     "text": [
      "Epoch 66/200: 100%|██████████| 720/720 [00:02<00:00, 284.53batch/s, train_mean_loss=0.094991]\n",
      "Epoch 66/200: 100%|██████████| 180/180 [00:00<00:00, 791.96batch/s, val_mean_loss=0.437622]\n"
     ]
    },
    {
     "name": "stdout",
     "output_type": "stream",
     "text": [
      "0.9110704936415802\n"
     ]
    },
    {
     "name": "stderr",
     "output_type": "stream",
     "text": [
      "Epoch 67/200: 100%|██████████| 720/720 [00:02<00:00, 273.22batch/s, train_mean_loss=0.109956]\n",
      "Epoch 67/200: 100%|██████████| 180/180 [00:00<00:00, 842.63batch/s, val_mean_loss=0.728509]\n"
     ]
    },
    {
     "name": "stdout",
     "output_type": "stream",
     "text": [
      "0.9055534944906845\n"
     ]
    },
    {
     "name": "stderr",
     "output_type": "stream",
     "text": [
      "Epoch 68/200: 100%|██████████| 720/720 [00:02<00:00, 282.62batch/s, train_mean_loss=0.148369]\n",
      "Epoch 68/200: 100%|██████████| 180/180 [00:00<00:00, 837.21batch/s, val_mean_loss=0.811520]\n"
     ]
    },
    {
     "name": "stdout",
     "output_type": "stream",
     "text": [
      "0.9034109544579227\n"
     ]
    },
    {
     "name": "stderr",
     "output_type": "stream",
     "text": [
      "Epoch 69/200: 100%|██████████| 720/720 [00:02<00:00, 277.58batch/s, train_mean_loss=0.196860]\n",
      "Epoch 69/200: 100%|██████████| 180/180 [00:00<00:00, 810.81batch/s, val_mean_loss=0.342803]\n"
     ]
    },
    {
     "name": "stdout",
     "output_type": "stream",
     "text": [
      "0.9140913462764654\n"
     ]
    },
    {
     "name": "stderr",
     "output_type": "stream",
     "text": [
      "Epoch 70/200: 100%|██████████| 720/720 [00:02<00:00, 276.10batch/s, train_mean_loss=0.199606]\n",
      "Epoch 70/200: 100%|██████████| 180/180 [00:00<00:00, 765.81batch/s, val_mean_loss=0.190162]\n"
     ]
    },
    {
     "name": "stdout",
     "output_type": "stream",
     "text": [
      "0.9220941558012996\n"
     ]
    },
    {
     "name": "stderr",
     "output_type": "stream",
     "text": [
      "Epoch 71/200: 100%|██████████| 720/720 [00:02<00:00, 280.94batch/s, train_mean_loss=0.151384]\n",
      "Epoch 71/200: 100%|██████████| 180/180 [00:00<00:00, 803.57batch/s, val_mean_loss=0.161333]\n"
     ]
    },
    {
     "name": "stdout",
     "output_type": "stream",
     "text": [
      "0.927532302583574\n"
     ]
    },
    {
     "name": "stderr",
     "output_type": "stream",
     "text": [
      "Epoch 72/200: 100%|██████████| 720/720 [00:02<00:00, 268.17batch/s, train_mean_loss=0.104844]\n",
      "Epoch 72/200: 100%|██████████| 180/180 [00:00<00:00, 772.53batch/s, val_mean_loss=0.146896]\n"
     ]
    },
    {
     "name": "stdout",
     "output_type": "stream",
     "text": [
      "0.9297736071811334\n"
     ]
    },
    {
     "name": "stderr",
     "output_type": "stream",
     "text": [
      "Epoch 73/200: 100%|██████████| 720/720 [00:02<00:00, 264.96batch/s, train_mean_loss=0.072620]\n",
      "Epoch 73/200: 100%|██████████| 180/180 [00:00<00:00, 789.47batch/s, val_mean_loss=0.140411]\n"
     ]
    },
    {
     "name": "stdout",
     "output_type": "stream",
     "text": [
      "0.9315121747307791\n"
     ]
    },
    {
     "name": "stderr",
     "output_type": "stream",
     "text": [
      "Epoch 74/200: 100%|██████████| 720/720 [00:02<00:00, 248.85batch/s, train_mean_loss=0.053832]\n",
      "Epoch 74/200: 100%|██████████| 180/180 [00:00<00:00, 708.66batch/s, val_mean_loss=0.134254]\n"
     ]
    },
    {
     "name": "stdout",
     "output_type": "stream",
     "text": [
      "0.9324076792698301\n"
     ]
    },
    {
     "name": "stderr",
     "output_type": "stream",
     "text": [
      "Epoch 75/200: 100%|██████████| 720/720 [00:02<00:00, 310.93batch/s, train_mean_loss=0.045673]\n",
      "Epoch 75/200: 100%|██████████| 180/180 [00:00<00:00, 886.70batch/s, val_mean_loss=0.152932]\n"
     ]
    },
    {
     "name": "stdout",
     "output_type": "stream",
     "text": [
      "0.9300175830852799\n"
     ]
    },
    {
     "name": "stderr",
     "output_type": "stream",
     "text": [
      "Epoch 76/200: 100%|██████████| 720/720 [00:02<00:00, 331.34batch/s, train_mean_loss=0.048352]\n",
      "Epoch 76/200: 100%|██████████| 180/180 [00:00<00:00, 853.30batch/s, val_mean_loss=0.148966]\n"
     ]
    },
    {
     "name": "stdout",
     "output_type": "stream",
     "text": [
      "0.9293956480455642\n"
     ]
    },
    {
     "name": "stderr",
     "output_type": "stream",
     "text": [
      "Epoch 77/200: 100%|██████████| 720/720 [00:02<00:00, 299.05batch/s, train_mean_loss=0.061213]\n",
      "Epoch 77/200: 100%|██████████| 180/180 [00:00<00:00, 856.82batch/s, val_mean_loss=0.156703]\n"
     ]
    },
    {
     "name": "stdout",
     "output_type": "stream",
     "text": [
      "0.927725122468748\n"
     ]
    },
    {
     "name": "stderr",
     "output_type": "stream",
     "text": [
      "Epoch 78/200: 100%|██████████| 720/720 [00:02<00:00, 315.42batch/s, train_mean_loss=0.072640]\n",
      "Epoch 78/200: 100%|██████████| 180/180 [00:00<00:00, 853.31batch/s, val_mean_loss=0.163029]\n"
     ]
    },
    {
     "name": "stdout",
     "output_type": "stream",
     "text": [
      "0.9278480926181051\n"
     ]
    },
    {
     "name": "stderr",
     "output_type": "stream",
     "text": [
      "Epoch 79/200: 100%|██████████| 720/720 [00:02<00:00, 328.70batch/s, train_mean_loss=0.078116]\n",
      "Epoch 79/200: 100%|██████████| 180/180 [00:00<00:00, 822.28batch/s, val_mean_loss=0.158635]\n"
     ]
    },
    {
     "name": "stdout",
     "output_type": "stream",
     "text": [
      "0.9251719201455116\n"
     ]
    },
    {
     "name": "stderr",
     "output_type": "stream",
     "text": [
      "Epoch 80/200: 100%|██████████| 720/720 [00:02<00:00, 292.15batch/s, train_mean_loss=0.090839]\n",
      "Epoch 80/200: 100%|██████████| 180/180 [00:00<00:00, 831.58batch/s, val_mean_loss=0.178348]\n"
     ]
    },
    {
     "name": "stdout",
     "output_type": "stream",
     "text": [
      "0.9239204849727441\n"
     ]
    },
    {
     "name": "stderr",
     "output_type": "stream",
     "text": [
      "Epoch 81/200: 100%|██████████| 720/720 [00:02<00:00, 284.07batch/s, train_mean_loss=0.126258]\n",
      "Epoch 81/200: 100%|██████████| 180/180 [00:00<00:00, 852.92batch/s, val_mean_loss=0.309924]\n"
     ]
    },
    {
     "name": "stdout",
     "output_type": "stream",
     "text": [
      "0.9172633111159078\n"
     ]
    },
    {
     "name": "stderr",
     "output_type": "stream",
     "text": [
      "Epoch 82/200: 100%|██████████| 720/720 [00:02<00:00, 286.02batch/s, train_mean_loss=0.162156]\n",
      "Epoch 82/200: 100%|██████████| 180/180 [00:00<00:00, 838.13batch/s, val_mean_loss=0.233348]\n"
     ]
    },
    {
     "name": "stdout",
     "output_type": "stream",
     "text": [
      "0.9224100133775738\n"
     ]
    },
    {
     "name": "stderr",
     "output_type": "stream",
     "text": [
      "Epoch 83/200: 100%|██████████| 720/720 [00:02<00:00, 318.92batch/s, train_mean_loss=0.138341]\n",
      "Epoch 83/200: 100%|██████████| 180/180 [00:00<00:00, 861.90batch/s, val_mean_loss=0.143524]\n"
     ]
    },
    {
     "name": "stdout",
     "output_type": "stream",
     "text": [
      "0.9287141209405427\n"
     ]
    },
    {
     "name": "stderr",
     "output_type": "stream",
     "text": [
      "Epoch 84/200: 100%|██████████| 720/720 [00:02<00:00, 304.86batch/s, train_mean_loss=0.097090]\n",
      "Epoch 84/200: 100%|██████████| 180/180 [00:00<00:00, 861.26batch/s, val_mean_loss=0.141452]\n"
     ]
    },
    {
     "name": "stdout",
     "output_type": "stream",
     "text": [
      "0.9321346539906447\n"
     ]
    },
    {
     "name": "stderr",
     "output_type": "stream",
     "text": [
      "Epoch 85/200: 100%|██████████| 720/720 [00:02<00:00, 289.95batch/s, train_mean_loss=0.066975]\n",
      "Epoch 85/200: 100%|██████████| 180/180 [00:00<00:00, 878.06batch/s, val_mean_loss=0.146071]\n"
     ]
    },
    {
     "name": "stdout",
     "output_type": "stream",
     "text": [
      "0.9339824885574111\n"
     ]
    },
    {
     "name": "stderr",
     "output_type": "stream",
     "text": [
      "Epoch 86/200: 100%|██████████| 720/720 [00:02<00:00, 288.70batch/s, train_mean_loss=0.047564]\n",
      "Epoch 86/200: 100%|██████████| 180/180 [00:00<00:00, 877.95batch/s, val_mean_loss=0.144420]\n"
     ]
    },
    {
     "name": "stdout",
     "output_type": "stream",
     "text": [
      "0.9342097716678466\n"
     ]
    },
    {
     "name": "stderr",
     "output_type": "stream",
     "text": [
      "Epoch 87/200: 100%|██████████| 720/720 [00:02<00:00, 312.68batch/s, train_mean_loss=0.038198]\n",
      "Epoch 87/200: 100%|██████████| 180/180 [00:00<00:00, 833.21batch/s, val_mean_loss=0.141855]\n"
     ]
    },
    {
     "name": "stdout",
     "output_type": "stream",
     "text": [
      "0.9345343603413298\n"
     ]
    },
    {
     "name": "stderr",
     "output_type": "stream",
     "text": [
      "Epoch 88/200: 100%|██████████| 720/720 [00:02<00:00, 315.11batch/s, train_mean_loss=0.037572]\n",
      "Epoch 88/200: 100%|██████████| 180/180 [00:00<00:00, 838.21batch/s, val_mean_loss=0.137781]\n"
     ]
    },
    {
     "name": "stdout",
     "output_type": "stream",
     "text": [
      "0.9333513172275534\n"
     ]
    },
    {
     "name": "stderr",
     "output_type": "stream",
     "text": [
      "Epoch 89/200: 100%|██████████| 720/720 [00:02<00:00, 321.17batch/s, train_mean_loss=0.049477]\n",
      "Epoch 89/200: 100%|██████████| 180/180 [00:00<00:00, 849.04batch/s, val_mean_loss=0.163673]\n"
     ]
    },
    {
     "name": "stdout",
     "output_type": "stream",
     "text": [
      "0.9303371675494427\n"
     ]
    },
    {
     "name": "stderr",
     "output_type": "stream",
     "text": [
      "Epoch 90/200: 100%|██████████| 720/720 [00:02<00:00, 293.36batch/s, train_mean_loss=0.060882]\n",
      "Epoch 90/200: 100%|██████████| 180/180 [00:00<00:00, 837.19batch/s, val_mean_loss=0.136335]\n"
     ]
    },
    {
     "name": "stdout",
     "output_type": "stream",
     "text": [
      "0.932008688732649\n"
     ]
    },
    {
     "name": "stderr",
     "output_type": "stream",
     "text": [
      "Epoch 91/200: 100%|██████████| 720/720 [00:02<00:00, 284.73batch/s, train_mean_loss=0.060783]\n",
      "Epoch 91/200: 100%|██████████| 180/180 [00:00<00:00, 845.09batch/s, val_mean_loss=0.135133]\n"
     ]
    },
    {
     "name": "stdout",
     "output_type": "stream",
     "text": [
      "0.9292197457488071\n"
     ]
    },
    {
     "name": "stderr",
     "output_type": "stream",
     "text": [
      "Epoch 92/200: 100%|██████████| 720/720 [00:02<00:00, 281.27batch/s, train_mean_loss=0.060982]\n",
      "Epoch 92/200: 100%|██████████| 180/180 [00:00<00:00, 869.27batch/s, val_mean_loss=0.125488]\n"
     ]
    },
    {
     "name": "stdout",
     "output_type": "stream",
     "text": [
      "0.9300959690325729\n"
     ]
    },
    {
     "name": "stderr",
     "output_type": "stream",
     "text": [
      "Epoch 93/200: 100%|██████████| 720/720 [00:02<00:00, 315.85batch/s, train_mean_loss=0.071390]\n",
      "Epoch 93/200: 100%|██████████| 180/180 [00:00<00:00, 837.43batch/s, val_mean_loss=0.137205]\n"
     ]
    },
    {
     "name": "stdout",
     "output_type": "stream",
     "text": [
      "0.9299949442476735\n"
     ]
    },
    {
     "name": "stderr",
     "output_type": "stream",
     "text": [
      "Epoch 94/200: 100%|██████████| 720/720 [00:02<00:00, 319.46batch/s, train_mean_loss=0.095133]\n",
      "Epoch 94/200: 100%|██████████| 180/180 [00:00<00:00, 857.37batch/s, val_mean_loss=0.159057]\n"
     ]
    },
    {
     "name": "stdout",
     "output_type": "stream",
     "text": [
      "0.930170606878887\n"
     ]
    },
    {
     "name": "stderr",
     "output_type": "stream",
     "text": [
      "Epoch 95/200: 100%|██████████| 720/720 [00:02<00:00, 289.25batch/s, train_mean_loss=0.127016]\n",
      "Epoch 95/200: 100%|██████████| 180/180 [00:00<00:00, 819.45batch/s, val_mean_loss=0.146713]\n"
     ]
    },
    {
     "name": "stdout",
     "output_type": "stream",
     "text": [
      "0.9304253604773739\n"
     ]
    },
    {
     "name": "stderr",
     "output_type": "stream",
     "text": [
      "Epoch 96/200: 100%|██████████| 720/720 [00:02<00:00, 320.39batch/s, train_mean_loss=0.139155]\n",
      "Epoch 96/200: 100%|██████████| 180/180 [00:00<00:00, 857.14batch/s, val_mean_loss=0.138389]\n"
     ]
    },
    {
     "name": "stdout",
     "output_type": "stream",
     "text": [
      "0.9318175355752878\n"
     ]
    },
    {
     "name": "stderr",
     "output_type": "stream",
     "text": [
      "Epoch 97/200: 100%|██████████| 720/720 [00:02<00:00, 323.75batch/s, train_mean_loss=0.119400]\n",
      "Epoch 97/200: 100%|██████████| 180/180 [00:00<00:00, 827.66batch/s, val_mean_loss=0.114055]\n"
     ]
    },
    {
     "name": "stdout",
     "output_type": "stream",
     "text": [
      "0.9349370771140075\n"
     ]
    },
    {
     "name": "stderr",
     "output_type": "stream",
     "text": [
      "Epoch 98/200: 100%|██████████| 720/720 [00:02<00:00, 312.40batch/s, train_mean_loss=0.084279]\n",
      "Epoch 98/200: 100%|██████████| 180/180 [00:00<00:00, 853.24batch/s, val_mean_loss=0.096015]\n"
     ]
    },
    {
     "name": "stdout",
     "output_type": "stream",
     "text": [
      "0.9378057554822916\n"
     ]
    },
    {
     "name": "stderr",
     "output_type": "stream",
     "text": [
      "Epoch 99/200: 100%|██████████| 720/720 [00:02<00:00, 298.74batch/s, train_mean_loss=0.055122]\n",
      "Epoch 99/200: 100%|██████████| 180/180 [00:00<00:00, 886.73batch/s, val_mean_loss=0.097894]\n"
     ]
    },
    {
     "name": "stdout",
     "output_type": "stream",
     "text": [
      "0.9402893299422493\n"
     ]
    },
    {
     "name": "stderr",
     "output_type": "stream",
     "text": [
      "Epoch 100/200: 100%|██████████| 720/720 [00:02<00:00, 291.61batch/s, train_mean_loss=0.038259]\n",
      "Epoch 100/200: 100%|██████████| 180/180 [00:00<00:00, 885.87batch/s, val_mean_loss=0.106642]\n"
     ]
    },
    {
     "name": "stdout",
     "output_type": "stream",
     "text": [
      "0.9421615945315407\n"
     ]
    },
    {
     "name": "stderr",
     "output_type": "stream",
     "text": [
      "Epoch 101/200: 100%|██████████| 720/720 [00:02<00:00, 301.33batch/s, train_mean_loss=0.030435]\n",
      "Epoch 101/200: 100%|██████████| 180/180 [00:00<00:00, 882.35batch/s, val_mean_loss=0.127679]\n"
     ]
    },
    {
     "name": "stdout",
     "output_type": "stream",
     "text": [
      "0.9418847414492704\n"
     ]
    },
    {
     "name": "stderr",
     "output_type": "stream",
     "text": [
      "Epoch 102/200: 100%|██████████| 720/720 [00:02<00:00, 305.98batch/s, train_mean_loss=0.032117]\n",
      "Epoch 102/200: 100%|██████████| 180/180 [00:00<00:00, 909.10batch/s, val_mean_loss=0.169629]\n"
     ]
    },
    {
     "name": "stdout",
     "output_type": "stream",
     "text": [
      "0.9383138270691235\n"
     ]
    },
    {
     "name": "stderr",
     "output_type": "stream",
     "text": [
      "Epoch 103/200: 100%|██████████| 720/720 [00:02<00:00, 293.30batch/s, train_mean_loss=0.040309]\n",
      "Epoch 103/200: 100%|██████████| 180/180 [00:00<00:00, 863.12batch/s, val_mean_loss=0.198046]\n"
     ]
    },
    {
     "name": "stdout",
     "output_type": "stream",
     "text": [
      "0.9392909925284788\n"
     ]
    },
    {
     "name": "stderr",
     "output_type": "stream",
     "text": [
      "Epoch 104/200: 100%|██████████| 720/720 [00:02<00:00, 295.48batch/s, train_mean_loss=0.045443]\n",
      "Epoch 104/200: 100%|██████████| 180/180 [00:00<00:00, 866.37batch/s, val_mean_loss=0.222633]\n"
     ]
    },
    {
     "name": "stdout",
     "output_type": "stream",
     "text": [
      "0.9366447148681531\n"
     ]
    },
    {
     "name": "stderr",
     "output_type": "stream",
     "text": [
      "Epoch 105/200: 100%|██████████| 720/720 [00:02<00:00, 296.59batch/s, train_mean_loss=0.044785]\n",
      "Epoch 105/200: 100%|██████████| 180/180 [00:00<00:00, 810.99batch/s, val_mean_loss=0.204368]\n"
     ]
    },
    {
     "name": "stdout",
     "output_type": "stream",
     "text": [
      "0.9362170617256255\n"
     ]
    },
    {
     "name": "stderr",
     "output_type": "stream",
     "text": [
      "Epoch 106/200: 100%|██████████| 720/720 [00:02<00:00, 292.94batch/s, train_mean_loss=0.043725]\n",
      "Epoch 106/200: 100%|██████████| 180/180 [00:00<00:00, 868.21batch/s, val_mean_loss=0.225154]\n"
     ]
    },
    {
     "name": "stdout",
     "output_type": "stream",
     "text": [
      "0.9369256031859698\n"
     ]
    },
    {
     "name": "stderr",
     "output_type": "stream",
     "text": [
      "Epoch 107/200: 100%|██████████| 720/720 [00:02<00:00, 302.83batch/s, train_mean_loss=0.047045]\n",
      "Epoch 107/200: 100%|██████████| 180/180 [00:00<00:00, 861.45batch/s, val_mean_loss=0.308010]\n"
     ]
    },
    {
     "name": "stdout",
     "output_type": "stream",
     "text": [
      "0.933814092370944\n"
     ]
    },
    {
     "name": "stderr",
     "output_type": "stream",
     "text": [
      "Epoch 108/200: 100%|██████████| 720/720 [00:02<00:00, 300.95batch/s, train_mean_loss=0.054272]\n",
      "Epoch 108/200: 100%|██████████| 180/180 [00:00<00:00, 861.45batch/s, val_mean_loss=0.275761]\n"
     ]
    },
    {
     "name": "stdout",
     "output_type": "stream",
     "text": [
      "0.9314867406218467\n"
     ]
    },
    {
     "name": "stderr",
     "output_type": "stream",
     "text": [
      "Epoch 109/200: 100%|██████████| 720/720 [00:02<00:00, 302.76batch/s, train_mean_loss=0.065759]\n",
      "Epoch 109/200: 100%|██████████| 180/180 [00:00<00:00, 845.40batch/s, val_mean_loss=0.229798]\n"
     ]
    },
    {
     "name": "stdout",
     "output_type": "stream",
     "text": [
      "0.931178031944997\n"
     ]
    },
    {
     "name": "stderr",
     "output_type": "stream",
     "text": [
      "Epoch 110/200: 100%|██████████| 720/720 [00:02<00:00, 304.19batch/s, train_mean_loss=0.087525]\n",
      "Epoch 110/200: 100%|██████████| 180/180 [00:00<00:00, 869.77batch/s, val_mean_loss=0.158935]\n"
     ]
    },
    {
     "name": "stdout",
     "output_type": "stream",
     "text": [
      "0.9303145792639121\n"
     ]
    },
    {
     "name": "stderr",
     "output_type": "stream",
     "text": [
      "Epoch 111/200: 100%|██████████| 720/720 [00:02<00:00, 299.72batch/s, train_mean_loss=0.107507]\n",
      "Epoch 111/200: 100%|██████████| 180/180 [00:00<00:00, 878.78batch/s, val_mean_loss=0.134096]\n"
     ]
    },
    {
     "name": "stdout",
     "output_type": "stream",
     "text": [
      "0.9311367207780634\n"
     ]
    },
    {
     "name": "stderr",
     "output_type": "stream",
     "text": [
      "Epoch 112/200: 100%|██████████| 720/720 [00:02<00:00, 299.28batch/s, train_mean_loss=0.106573]\n",
      "Epoch 112/200: 100%|██████████| 180/180 [00:00<00:00, 880.84batch/s, val_mean_loss=0.207911]\n"
     ]
    },
    {
     "name": "stdout",
     "output_type": "stream",
     "text": [
      "0.9321598126700156\n"
     ]
    },
    {
     "name": "stderr",
     "output_type": "stream",
     "text": [
      "Epoch 113/200: 100%|██████████| 720/720 [00:02<00:00, 303.10batch/s, train_mean_loss=0.087317]\n",
      "Epoch 113/200: 100%|██████████| 180/180 [00:00<00:00, 882.76batch/s, val_mean_loss=0.227109]\n"
     ]
    },
    {
     "name": "stdout",
     "output_type": "stream",
     "text": [
      "0.9335276333546634\n"
     ]
    },
    {
     "name": "stderr",
     "output_type": "stream",
     "text": [
      "Epoch 114/200: 100%|██████████| 720/720 [00:02<00:00, 318.92batch/s, train_mean_loss=0.062926]\n",
      "Epoch 114/200: 100%|██████████| 180/180 [00:00<00:00, 874.96batch/s, val_mean_loss=0.188446]\n"
     ]
    },
    {
     "name": "stdout",
     "output_type": "stream",
     "text": [
      "0.9370914234326574\n"
     ]
    },
    {
     "name": "stderr",
     "output_type": "stream",
     "text": [
      "Epoch 115/200: 100%|██████████| 720/720 [00:02<00:00, 305.18batch/s, train_mean_loss=0.046307]\n",
      "Epoch 115/200: 100%|██████████| 180/180 [00:00<00:00, 849.40batch/s, val_mean_loss=0.151809]\n"
     ]
    },
    {
     "name": "stdout",
     "output_type": "stream",
     "text": [
      "0.9392295910829568\n"
     ]
    },
    {
     "name": "stderr",
     "output_type": "stream",
     "text": [
      "Epoch 116/200: 100%|██████████| 720/720 [00:02<00:00, 299.53batch/s, train_mean_loss=0.035371]\n",
      "Epoch 116/200: 100%|██████████| 180/180 [00:00<00:00, 899.49batch/s, val_mean_loss=0.133965]\n"
     ]
    },
    {
     "name": "stdout",
     "output_type": "stream",
     "text": [
      "0.9391951229701792\n"
     ]
    },
    {
     "name": "stderr",
     "output_type": "stream",
     "text": [
      "Epoch 117/200: 100%|██████████| 720/720 [00:02<00:00, 295.22batch/s, train_mean_loss=0.030503]\n",
      "Epoch 117/200: 100%|██████████| 180/180 [00:00<00:00, 878.87batch/s, val_mean_loss=0.110894]\n"
     ]
    },
    {
     "name": "stdout",
     "output_type": "stream",
     "text": [
      "0.9384627961661125\n"
     ]
    },
    {
     "name": "stderr",
     "output_type": "stream",
     "text": [
      "Epoch 118/200: 100%|██████████| 720/720 [00:02<00:00, 302.26batch/s, train_mean_loss=0.030764]\n",
      "Epoch 118/200: 100%|██████████| 180/180 [00:00<00:00, 878.25batch/s, val_mean_loss=0.104765]\n"
     ]
    },
    {
     "name": "stdout",
     "output_type": "stream",
     "text": [
      "0.9365560237935808\n"
     ]
    },
    {
     "name": "stderr",
     "output_type": "stream",
     "text": [
      "Epoch 119/200: 100%|██████████| 720/720 [00:02<00:00, 302.40batch/s, train_mean_loss=0.038704]\n",
      "Epoch 119/200: 100%|██████████| 180/180 [00:00<00:00, 865.37batch/s, val_mean_loss=0.113873]\n"
     ]
    },
    {
     "name": "stdout",
     "output_type": "stream",
     "text": [
      "0.9367594497355743\n"
     ]
    },
    {
     "name": "stderr",
     "output_type": "stream",
     "text": [
      "Epoch 120/200: 100%|██████████| 720/720 [00:02<00:00, 301.17batch/s, train_mean_loss=0.046216]\n",
      "Epoch 120/200: 100%|██████████| 180/180 [00:00<00:00, 901.27batch/s, val_mean_loss=0.138080]\n"
     ]
    },
    {
     "name": "stdout",
     "output_type": "stream",
     "text": [
      "0.9351636689795103\n"
     ]
    },
    {
     "name": "stderr",
     "output_type": "stream",
     "text": [
      "Epoch 121/200: 100%|██████████| 720/720 [00:02<00:00, 305.43batch/s, train_mean_loss=0.046699]\n",
      "Epoch 121/200: 100%|██████████| 180/180 [00:00<00:00, 878.33batch/s, val_mean_loss=0.170001]\n"
     ]
    },
    {
     "name": "stdout",
     "output_type": "stream",
     "text": [
      "0.9374873407759954\n"
     ]
    },
    {
     "name": "stderr",
     "output_type": "stream",
     "text": [
      "Epoch 122/200: 100%|██████████| 720/720 [00:02<00:00, 300.69batch/s, train_mean_loss=0.046399]\n",
      "Epoch 122/200: 100%|██████████| 180/180 [00:00<00:00, 886.88batch/s, val_mean_loss=0.169029]\n"
     ]
    },
    {
     "name": "stdout",
     "output_type": "stream",
     "text": [
      "0.938133621211377\n"
     ]
    },
    {
     "name": "stderr",
     "output_type": "stream",
     "text": [
      "Epoch 123/200: 100%|██████████| 720/720 [00:02<00:00, 307.39batch/s, train_mean_loss=0.052176]\n",
      "Epoch 123/200: 100%|██████████| 180/180 [00:00<00:00, 937.65batch/s, val_mean_loss=0.177878]\n"
     ]
    },
    {
     "name": "stdout",
     "output_type": "stream",
     "text": [
      "0.9368447442554284\n"
     ]
    },
    {
     "name": "stderr",
     "output_type": "stream",
     "text": [
      "Epoch 124/200: 100%|██████████| 720/720 [00:02<00:00, 303.08batch/s, train_mean_loss=0.063289]\n",
      "Epoch 124/200: 100%|██████████| 180/180 [00:00<00:00, 886.78batch/s, val_mean_loss=0.171655]\n"
     ]
    },
    {
     "name": "stdout",
     "output_type": "stream",
     "text": [
      "0.9329796387151341\n"
     ]
    },
    {
     "name": "stderr",
     "output_type": "stream",
     "text": [
      "Epoch 125/200: 100%|██████████| 720/720 [00:02<00:00, 319.25batch/s, train_mean_loss=0.078335]\n",
      "Epoch 125/200: 100%|██████████| 180/180 [00:00<00:00, 912.21batch/s, val_mean_loss=0.146520]\n"
     ]
    },
    {
     "name": "stdout",
     "output_type": "stream",
     "text": [
      "0.9319336227696169\n"
     ]
    },
    {
     "name": "stderr",
     "output_type": "stream",
     "text": [
      "Epoch 126/200: 100%|██████████| 720/720 [00:02<00:00, 300.42batch/s, train_mean_loss=0.092411]\n",
      "Epoch 126/200: 100%|██████████| 180/180 [00:00<00:00, 779.41batch/s, val_mean_loss=0.121284]\n"
     ]
    },
    {
     "name": "stdout",
     "output_type": "stream",
     "text": [
      "0.9326044186167014\n"
     ]
    },
    {
     "name": "stderr",
     "output_type": "stream",
     "text": [
      "Epoch 127/200: 100%|██████████| 720/720 [00:02<00:00, 330.41batch/s, train_mean_loss=0.095431]\n",
      "Epoch 127/200: 100%|██████████| 180/180 [00:00<00:00, 885.28batch/s, val_mean_loss=0.185522]\n"
     ]
    },
    {
     "name": "stdout",
     "output_type": "stream",
     "text": [
      "0.9291889215072933\n"
     ]
    },
    {
     "name": "stderr",
     "output_type": "stream",
     "text": [
      "Epoch 128/200: 100%|██████████| 720/720 [00:02<00:00, 307.19batch/s, train_mean_loss=0.081260]\n",
      "Epoch 128/200: 100%|██████████| 180/180 [00:00<00:00, 877.80batch/s, val_mean_loss=0.237718]\n"
     ]
    },
    {
     "name": "stdout",
     "output_type": "stream",
     "text": [
      "0.930967717909762\n"
     ]
    },
    {
     "name": "stderr",
     "output_type": "stream",
     "text": [
      "Epoch 129/200: 100%|██████████| 720/720 [00:02<00:00, 293.36batch/s, train_mean_loss=0.060717]\n",
      "Epoch 129/200: 100%|██████████| 180/180 [00:00<00:00, 882.65batch/s, val_mean_loss=0.228227]\n"
     ]
    },
    {
     "name": "stdout",
     "output_type": "stream",
     "text": [
      "0.9348714348208084\n"
     ]
    },
    {
     "name": "stderr",
     "output_type": "stream",
     "text": [
      "Epoch 130/200: 100%|██████████| 720/720 [00:02<00:00, 297.92batch/s, train_mean_loss=0.042695]\n",
      "Epoch 130/200: 100%|██████████| 180/180 [00:00<00:00, 912.36batch/s, val_mean_loss=0.184127]\n"
     ]
    },
    {
     "name": "stdout",
     "output_type": "stream",
     "text": [
      "0.9397164118187507\n"
     ]
    },
    {
     "name": "stderr",
     "output_type": "stream",
     "text": [
      "Epoch 131/200: 100%|██████████| 720/720 [00:02<00:00, 302.33batch/s, train_mean_loss=0.030424]\n",
      "Epoch 131/200: 100%|██████████| 180/180 [00:00<00:00, 918.44batch/s, val_mean_loss=0.152756]\n"
     ]
    },
    {
     "name": "stdout",
     "output_type": "stream",
     "text": [
      "0.941566808532868\n"
     ]
    },
    {
     "name": "stderr",
     "output_type": "stream",
     "text": [
      "Epoch 132/200: 100%|██████████| 720/720 [00:02<00:00, 314.00batch/s, train_mean_loss=0.024296]\n",
      "Epoch 132/200: 100%|██████████| 180/180 [00:00<00:00, 865.62batch/s, val_mean_loss=0.118681]\n"
     ]
    },
    {
     "name": "stdout",
     "output_type": "stream",
     "text": [
      "0.9445458766986863\n"
     ]
    },
    {
     "name": "stderr",
     "output_type": "stream",
     "text": [
      "Epoch 133/200: 100%|██████████| 720/720 [00:02<00:00, 341.68batch/s, train_mean_loss=0.024571]\n",
      "Epoch 133/200: 100%|██████████| 180/180 [00:00<00:00, 714.03batch/s, val_mean_loss=0.088777]\n"
     ]
    },
    {
     "name": "stdout",
     "output_type": "stream",
     "text": [
      "0.9422452262482361\n"
     ]
    },
    {
     "name": "stderr",
     "output_type": "stream",
     "text": [
      "Epoch 134/200: 100%|██████████| 720/720 [00:02<00:00, 306.11batch/s, train_mean_loss=0.033148]\n",
      "Epoch 134/200: 100%|██████████| 180/180 [00:00<00:00, 908.89batch/s, val_mean_loss=0.089789]\n"
     ]
    },
    {
     "name": "stdout",
     "output_type": "stream",
     "text": [
      "0.9434477950724189\n"
     ]
    },
    {
     "name": "stderr",
     "output_type": "stream",
     "text": [
      "Epoch 135/200: 100%|██████████| 720/720 [00:02<00:00, 303.69batch/s, train_mean_loss=0.038207]\n",
      "Epoch 135/200: 100%|██████████| 180/180 [00:00<00:00, 895.52batch/s, val_mean_loss=0.073436]\n"
     ]
    },
    {
     "name": "stdout",
     "output_type": "stream",
     "text": [
      "0.9435418485890461\n"
     ]
    },
    {
     "name": "stderr",
     "output_type": "stream",
     "text": [
      "Epoch 136/200: 100%|██████████| 720/720 [00:02<00:00, 315.26batch/s, train_mean_loss=0.036042]\n",
      "Epoch 136/200: 100%|██████████| 180/180 [00:00<00:00, 893.30batch/s, val_mean_loss=0.074407]\n"
     ]
    },
    {
     "name": "stdout",
     "output_type": "stream",
     "text": [
      "0.9431046175198711\n"
     ]
    },
    {
     "name": "stderr",
     "output_type": "stream",
     "text": [
      "Epoch 137/200: 100%|██████████| 720/720 [00:02<00:00, 338.28batch/s, train_mean_loss=0.032921]\n",
      "Epoch 137/200: 100%|██████████| 180/180 [00:00<00:00, 922.85batch/s, val_mean_loss=0.086887]\n"
     ]
    },
    {
     "name": "stdout",
     "output_type": "stream",
     "text": [
      "0.941867729005225\n"
     ]
    },
    {
     "name": "stderr",
     "output_type": "stream",
     "text": [
      "Epoch 138/200: 100%|██████████| 720/720 [00:02<00:00, 335.52batch/s, train_mean_loss=0.033535]\n",
      "Epoch 138/200: 100%|██████████| 180/180 [00:00<00:00, 890.59batch/s, val_mean_loss=0.115190]\n"
     ]
    },
    {
     "name": "stdout",
     "output_type": "stream",
     "text": [
      "0.9405806059234049\n"
     ]
    },
    {
     "name": "stderr",
     "output_type": "stream",
     "text": [
      "Epoch 139/200: 100%|██████████| 720/720 [00:02<00:00, 331.31batch/s, train_mean_loss=0.038403]\n",
      "Epoch 139/200: 100%|██████████| 180/180 [00:00<00:00, 869.59batch/s, val_mean_loss=0.101642]\n"
     ]
    },
    {
     "name": "stdout",
     "output_type": "stream",
     "text": [
      "0.9407983512494309\n"
     ]
    },
    {
     "name": "stderr",
     "output_type": "stream",
     "text": [
      "Epoch 140/200: 100%|██████████| 720/720 [00:02<00:00, 328.92batch/s, train_mean_loss=0.046187]\n",
      "Epoch 140/200: 100%|██████████| 180/180 [00:00<00:00, 887.11batch/s, val_mean_loss=0.105775]\n"
     ]
    },
    {
     "name": "stdout",
     "output_type": "stream",
     "text": [
      "0.9358728049496271\n"
     ]
    },
    {
     "name": "stderr",
     "output_type": "stream",
     "text": [
      "Epoch 141/200: 100%|██████████| 720/720 [00:02<00:00, 317.88batch/s, train_mean_loss=0.060088]\n",
      "Epoch 141/200: 100%|██████████| 180/180 [00:00<00:00, 884.91batch/s, val_mean_loss=0.110932]\n"
     ]
    },
    {
     "name": "stdout",
     "output_type": "stream",
     "text": [
      "0.9326539499259967\n"
     ]
    },
    {
     "name": "stderr",
     "output_type": "stream",
     "text": [
      "Epoch 142/200: 100%|██████████| 720/720 [00:02<00:00, 305.89batch/s, train_mean_loss=0.077459]\n",
      "Epoch 142/200: 100%|██████████| 180/180 [00:00<00:00, 878.94batch/s, val_mean_loss=0.163943]\n"
     ]
    },
    {
     "name": "stdout",
     "output_type": "stream",
     "text": [
      "0.9296462692047057\n"
     ]
    },
    {
     "name": "stderr",
     "output_type": "stream",
     "text": [
      "Epoch 143/200: 100%|██████████| 720/720 [00:02<00:00, 316.89batch/s, train_mean_loss=0.089950]\n",
      "Epoch 143/200: 100%|██████████| 180/180 [00:00<00:00, 891.41batch/s, val_mean_loss=0.240016]\n"
     ]
    },
    {
     "name": "stdout",
     "output_type": "stream",
     "text": [
      "0.9279162513186188\n"
     ]
    },
    {
     "name": "stderr",
     "output_type": "stream",
     "text": [
      "Epoch 144/200: 100%|██████████| 720/720 [00:02<00:00, 335.14batch/s, train_mean_loss=0.087979]\n",
      "Epoch 144/200: 100%|██████████| 180/180 [00:00<00:00, 888.96batch/s, val_mean_loss=0.211361]\n"
     ]
    },
    {
     "name": "stdout",
     "output_type": "stream",
     "text": [
      "0.9343006618844396\n"
     ]
    },
    {
     "name": "stderr",
     "output_type": "stream",
     "text": [
      "Epoch 145/200: 100%|██████████| 720/720 [00:02<00:00, 344.36batch/s, train_mean_loss=0.070611]\n",
      "Epoch 145/200: 100%|██████████| 180/180 [00:00<00:00, 841.94batch/s, val_mean_loss=0.145464]\n"
     ]
    },
    {
     "name": "stdout",
     "output_type": "stream",
     "text": [
      "0.9410659484911448\n"
     ]
    },
    {
     "name": "stderr",
     "output_type": "stream",
     "text": [
      "Epoch 146/200: 100%|██████████| 720/720 [00:02<00:00, 335.37batch/s, train_mean_loss=0.049297]\n",
      "Epoch 146/200: 100%|██████████| 180/180 [00:00<00:00, 882.31batch/s, val_mean_loss=0.102166]\n"
     ]
    },
    {
     "name": "stdout",
     "output_type": "stream",
     "text": [
      "0.9453845465496143\n"
     ]
    },
    {
     "name": "stderr",
     "output_type": "stream",
     "text": [
      "Epoch 147/200: 100%|██████████| 720/720 [00:02<00:00, 332.08batch/s, train_mean_loss=0.034326]\n",
      "Epoch 147/200: 100%|██████████| 180/180 [00:00<00:00, 878.03batch/s, val_mean_loss=0.079683]\n"
     ]
    },
    {
     "name": "stdout",
     "output_type": "stream",
     "text": [
      "0.9474978378290791\n"
     ]
    },
    {
     "name": "stderr",
     "output_type": "stream",
     "text": [
      "Epoch 148/200: 100%|██████████| 720/720 [00:02<00:00, 335.36batch/s, train_mean_loss=0.024953]\n",
      "Epoch 148/200: 100%|██████████| 180/180 [00:00<00:00, 874.04batch/s, val_mean_loss=0.066558]\n"
     ]
    },
    {
     "name": "stdout",
     "output_type": "stream",
     "text": [
      "0.9484558081462402\n"
     ]
    },
    {
     "name": "stderr",
     "output_type": "stream",
     "text": [
      "Epoch 149/200: 100%|██████████| 720/720 [00:02<00:00, 323.62batch/s, train_mean_loss=0.021566]\n",
      "Epoch 149/200: 100%|██████████| 180/180 [00:00<00:00, 854.25batch/s, val_mean_loss=0.063718]\n"
     ]
    },
    {
     "name": "stdout",
     "output_type": "stream",
     "text": [
      "0.9476131460869529\n"
     ]
    },
    {
     "name": "stderr",
     "output_type": "stream",
     "text": [
      "Epoch 150/200: 100%|██████████| 720/720 [00:02<00:00, 340.35batch/s, train_mean_loss=0.023339]\n",
      "Epoch 150/200: 100%|██████████| 180/180 [00:00<00:00, 873.82batch/s, val_mean_loss=0.073825]\n"
     ]
    },
    {
     "name": "stdout",
     "output_type": "stream",
     "text": [
      "0.9450275131239118\n"
     ]
    },
    {
     "name": "stderr",
     "output_type": "stream",
     "text": [
      "Epoch 151/200: 100%|██████████| 720/720 [00:02<00:00, 328.24batch/s, train_mean_loss=0.030736]\n",
      "Epoch 151/200: 100%|██████████| 180/180 [00:00<00:00, 841.73batch/s, val_mean_loss=0.067224]\n"
     ]
    },
    {
     "name": "stdout",
     "output_type": "stream",
     "text": [
      "0.946949331359143\n"
     ]
    },
    {
     "name": "stderr",
     "output_type": "stream",
     "text": [
      "Epoch 152/200: 100%|██████████| 720/720 [00:02<00:00, 336.85batch/s, train_mean_loss=0.032869]\n",
      "Epoch 152/200: 100%|██████████| 180/180 [00:00<00:00, 904.38batch/s, val_mean_loss=0.074509]\n"
     ]
    },
    {
     "name": "stdout",
     "output_type": "stream",
     "text": [
      "0.9450738345169439\n"
     ]
    },
    {
     "name": "stderr",
     "output_type": "stream",
     "text": [
      "Epoch 153/200: 100%|██████████| 720/720 [00:02<00:00, 331.71batch/s, train_mean_loss=0.029156]\n",
      "Epoch 153/200: 100%|██████████| 180/180 [00:00<00:00, 861.42batch/s, val_mean_loss=0.077967]\n"
     ]
    },
    {
     "name": "stdout",
     "output_type": "stream",
     "text": [
      "0.9456694426606066\n"
     ]
    },
    {
     "name": "stderr",
     "output_type": "stream",
     "text": [
      "Epoch 154/200: 100%|██████████| 720/720 [00:01<00:00, 362.27batch/s, train_mean_loss=0.027577]\n",
      "Epoch 154/200: 100%|██████████| 180/180 [00:00<00:00, 833.43batch/s, val_mean_loss=0.116452]\n"
     ]
    },
    {
     "name": "stdout",
     "output_type": "stream",
     "text": [
      "0.94602341814576\n"
     ]
    },
    {
     "name": "stderr",
     "output_type": "stream",
     "text": [
      "Epoch 155/200: 100%|██████████| 720/720 [00:02<00:00, 329.24batch/s, train_mean_loss=0.030158]\n",
      "Epoch 155/200: 100%|██████████| 180/180 [00:00<00:00, 909.32batch/s, val_mean_loss=0.143354]\n"
     ]
    },
    {
     "name": "stdout",
     "output_type": "stream",
     "text": [
      "0.9458954458464043\n"
     ]
    },
    {
     "name": "stderr",
     "output_type": "stream",
     "text": [
      "Epoch 156/200: 100%|██████████| 720/720 [00:02<00:00, 316.79batch/s, train_mean_loss=0.034258]\n",
      "Epoch 156/200: 100%|██████████| 180/180 [00:00<00:00, 911.62batch/s, val_mean_loss=0.195270]\n"
     ]
    },
    {
     "name": "stdout",
     "output_type": "stream",
     "text": [
      "0.9440111598462516\n"
     ]
    },
    {
     "name": "stderr",
     "output_type": "stream",
     "text": [
      "Epoch 157/200: 100%|██████████| 720/720 [00:02<00:00, 340.10batch/s, train_mean_loss=0.038692]\n",
      "Epoch 157/200: 100%|██████████| 180/180 [00:00<00:00, 891.33batch/s, val_mean_loss=0.192258]\n"
     ]
    },
    {
     "name": "stdout",
     "output_type": "stream",
     "text": [
      "0.9423165655689201\n"
     ]
    },
    {
     "name": "stderr",
     "output_type": "stream",
     "text": [
      "Epoch 158/200: 100%|██████████| 720/720 [00:02<00:00, 345.88batch/s, train_mean_loss=0.046356]\n",
      "Epoch 158/200: 100%|██████████| 180/180 [00:00<00:00, 725.96batch/s, val_mean_loss=0.241672]\n"
     ]
    },
    {
     "name": "stdout",
     "output_type": "stream",
     "text": [
      "0.9396607598076925\n"
     ]
    },
    {
     "name": "stderr",
     "output_type": "stream",
     "text": [
      "Epoch 159/200: 100%|██████████| 720/720 [00:02<00:00, 312.60batch/s, train_mean_loss=0.054315]\n",
      "Epoch 159/200: 100%|██████████| 180/180 [00:00<00:00, 904.98batch/s, val_mean_loss=0.306502]\n"
     ]
    },
    {
     "name": "stdout",
     "output_type": "stream",
     "text": [
      "0.9375124022536453\n"
     ]
    },
    {
     "name": "stderr",
     "output_type": "stream",
     "text": [
      "Epoch 160/200: 100%|██████████| 720/720 [00:02<00:00, 316.97batch/s, train_mean_loss=0.062456]\n",
      "Epoch 160/200: 100%|██████████| 180/180 [00:00<00:00, 947.37batch/s, val_mean_loss=0.239498]\n"
     ]
    },
    {
     "name": "stdout",
     "output_type": "stream",
     "text": [
      "0.9368580875607169\n"
     ]
    },
    {
     "name": "stderr",
     "output_type": "stream",
     "text": [
      "Epoch 161/200: 100%|██████████| 720/720 [00:02<00:00, 318.39batch/s, train_mean_loss=0.071340]\n",
      "Epoch 161/200: 100%|██████████| 180/180 [00:00<00:00, 895.69batch/s, val_mean_loss=0.117597]\n"
     ]
    },
    {
     "name": "stdout",
     "output_type": "stream",
     "text": [
      "0.9382421817464752\n"
     ]
    },
    {
     "name": "stderr",
     "output_type": "stream",
     "text": [
      "Epoch 162/200: 100%|██████████| 720/720 [00:02<00:00, 351.09batch/s, train_mean_loss=0.072260]\n",
      "Epoch 162/200: 100%|██████████| 180/180 [00:00<00:00, 932.67batch/s, val_mean_loss=0.095818]\n"
     ]
    },
    {
     "name": "stdout",
     "output_type": "stream",
     "text": [
      "0.9392865857858901\n"
     ]
    },
    {
     "name": "stderr",
     "output_type": "stream",
     "text": [
      "Epoch 163/200: 100%|██████████| 720/720 [00:02<00:00, 329.91batch/s, train_mean_loss=0.063392]\n",
      "Epoch 163/200: 100%|██████████| 180/180 [00:00<00:00, 904.04batch/s, val_mean_loss=0.114190]\n"
     ]
    },
    {
     "name": "stdout",
     "output_type": "stream",
     "text": [
      "0.9406742747674738\n"
     ]
    },
    {
     "name": "stderr",
     "output_type": "stream",
     "text": [
      "Epoch 164/200: 100%|██████████| 720/720 [00:02<00:00, 317.79batch/s, train_mean_loss=0.050535]\n",
      "Epoch 164/200: 100%|██████████| 180/180 [00:00<00:00, 913.87batch/s, val_mean_loss=0.115178]\n"
     ]
    },
    {
     "name": "stdout",
     "output_type": "stream",
     "text": [
      "0.9434320029605333\n"
     ]
    },
    {
     "name": "stderr",
     "output_type": "stream",
     "text": [
      "Epoch 165/200: 100%|██████████| 720/720 [00:02<00:00, 319.67batch/s, train_mean_loss=0.038375]\n",
      "Epoch 165/200: 100%|██████████| 180/180 [00:00<00:00, 921.86batch/s, val_mean_loss=0.098658]\n"
     ]
    },
    {
     "name": "stdout",
     "output_type": "stream",
     "text": [
      "0.9471203104299546\n"
     ]
    },
    {
     "name": "stderr",
     "output_type": "stream",
     "text": [
      "Epoch 166/200: 100%|██████████| 720/720 [00:02<00:00, 320.08batch/s, train_mean_loss=0.029327]\n",
      "Epoch 166/200: 100%|██████████| 180/180 [00:00<00:00, 897.39batch/s, val_mean_loss=0.084106]\n"
     ]
    },
    {
     "name": "stdout",
     "output_type": "stream",
     "text": [
      "0.9491995260195988\n"
     ]
    },
    {
     "name": "stderr",
     "output_type": "stream",
     "text": [
      "Epoch 167/200: 100%|██████████| 720/720 [00:02<00:00, 329.13batch/s, train_mean_loss=0.023707]\n",
      "Epoch 167/200: 100%|██████████| 180/180 [00:00<00:00, 898.75batch/s, val_mean_loss=0.072464]\n"
     ]
    },
    {
     "name": "stdout",
     "output_type": "stream",
     "text": [
      "0.9502896657613171\n"
     ]
    },
    {
     "name": "stderr",
     "output_type": "stream",
     "text": [
      "Epoch 168/200: 100%|██████████| 720/720 [00:02<00:00, 317.16batch/s, train_mean_loss=0.021885]\n",
      "Epoch 168/200: 100%|██████████| 180/180 [00:00<00:00, 913.90batch/s, val_mean_loss=0.066291]\n"
     ]
    },
    {
     "name": "stdout",
     "output_type": "stream",
     "text": [
      "0.9499685249465444\n"
     ]
    },
    {
     "name": "stderr",
     "output_type": "stream",
     "text": [
      "Epoch 169/200: 100%|██████████| 720/720 [00:02<00:00, 305.67batch/s, train_mean_loss=0.024442]\n",
      "Epoch 169/200: 100%|██████████| 180/180 [00:00<00:00, 915.69batch/s, val_mean_loss=0.063566]\n"
     ]
    },
    {
     "name": "stdout",
     "output_type": "stream",
     "text": [
      "0.9499001443020435\n"
     ]
    },
    {
     "name": "stderr",
     "output_type": "stream",
     "text": [
      "Epoch 170/200: 100%|██████████| 720/720 [00:02<00:00, 309.85batch/s, train_mean_loss=0.028676]\n",
      "Epoch 170/200: 100%|██████████| 180/180 [00:00<00:00, 900.32batch/s, val_mean_loss=0.067819]\n"
     ]
    },
    {
     "name": "stdout",
     "output_type": "stream",
     "text": [
      "0.9489167634584015\n"
     ]
    },
    {
     "name": "stderr",
     "output_type": "stream",
     "text": [
      "Epoch 171/200: 100%|██████████| 720/720 [00:02<00:00, 316.01batch/s, train_mean_loss=0.030607]\n",
      "Epoch 171/200: 100%|██████████| 180/180 [00:00<00:00, 932.69batch/s, val_mean_loss=0.090649]\n"
     ]
    },
    {
     "name": "stdout",
     "output_type": "stream",
     "text": [
      "0.9472179166105066\n"
     ]
    },
    {
     "name": "stderr",
     "output_type": "stream",
     "text": [
      "Epoch 172/200: 100%|██████████| 720/720 [00:02<00:00, 320.30batch/s, train_mean_loss=0.030486]\n",
      "Epoch 172/200: 100%|██████████| 180/180 [00:00<00:00, 882.38batch/s, val_mean_loss=0.145214]\n"
     ]
    },
    {
     "name": "stdout",
     "output_type": "stream",
     "text": [
      "0.9457198467447147\n"
     ]
    },
    {
     "name": "stderr",
     "output_type": "stream",
     "text": [
      "Epoch 173/200: 100%|██████████| 720/720 [00:02<00:00, 319.34batch/s, train_mean_loss=0.031649]\n",
      "Epoch 173/200: 100%|██████████| 180/180 [00:00<00:00, 904.54batch/s, val_mean_loss=0.133965]\n"
     ]
    },
    {
     "name": "stdout",
     "output_type": "stream",
     "text": [
      "0.9465425950969594\n"
     ]
    },
    {
     "name": "stderr",
     "output_type": "stream",
     "text": [
      "Epoch 174/200: 100%|██████████| 720/720 [00:02<00:00, 316.66batch/s, train_mean_loss=0.034646]\n",
      "Epoch 174/200: 100%|██████████| 180/180 [00:00<00:00, 874.02batch/s, val_mean_loss=0.119938]\n"
     ]
    },
    {
     "name": "stdout",
     "output_type": "stream",
     "text": [
      "0.9472610418138692\n"
     ]
    },
    {
     "name": "stderr",
     "output_type": "stream",
     "text": [
      "Epoch 175/200: 100%|██████████| 720/720 [00:02<00:00, 319.19batch/s, train_mean_loss=0.039489]\n",
      "Epoch 175/200: 100%|██████████| 180/180 [00:00<00:00, 886.70batch/s, val_mean_loss=0.106359]\n"
     ]
    },
    {
     "name": "stdout",
     "output_type": "stream",
     "text": [
      "0.9455238697913081\n"
     ]
    },
    {
     "name": "stderr",
     "output_type": "stream",
     "text": [
      "Epoch 176/200: 100%|██████████| 720/720 [00:02<00:00, 317.90batch/s, train_mean_loss=0.046950]\n",
      "Epoch 176/200: 100%|██████████| 180/180 [00:00<00:00, 865.41batch/s, val_mean_loss=0.089633]\n"
     ]
    },
    {
     "name": "stdout",
     "output_type": "stream",
     "text": [
      "0.9440528367258006\n"
     ]
    },
    {
     "name": "stderr",
     "output_type": "stream",
     "text": [
      "Epoch 177/200: 100%|██████████| 720/720 [00:02<00:00, 351.34batch/s, train_mean_loss=0.054246]\n",
      "Epoch 177/200: 100%|██████████| 180/180 [00:00<00:00, 882.47batch/s, val_mean_loss=0.085283]\n"
     ]
    },
    {
     "name": "stdout",
     "output_type": "stream",
     "text": [
      "0.9419345873941067\n"
     ]
    },
    {
     "name": "stderr",
     "output_type": "stream",
     "text": [
      "Epoch 178/200: 100%|██████████| 720/720 [00:02<00:00, 333.46batch/s, train_mean_loss=0.058734]\n",
      "Epoch 178/200: 100%|██████████| 180/180 [00:00<00:00, 869.59batch/s, val_mean_loss=0.112908]\n"
     ]
    },
    {
     "name": "stdout",
     "output_type": "stream",
     "text": [
      "0.9433559599549775\n"
     ]
    },
    {
     "name": "stderr",
     "output_type": "stream",
     "text": [
      "Epoch 179/200: 100%|██████████| 720/720 [00:02<00:00, 331.44batch/s, train_mean_loss=0.057302]\n",
      "Epoch 179/200: 100%|██████████| 180/180 [00:00<00:00, 899.92batch/s, val_mean_loss=0.134843]\n"
     ]
    },
    {
     "name": "stdout",
     "output_type": "stream",
     "text": [
      "0.9445743665332719\n"
     ]
    },
    {
     "name": "stderr",
     "output_type": "stream",
     "text": [
      "Epoch 180/200: 100%|██████████| 720/720 [00:01<00:00, 364.46batch/s, train_mean_loss=0.051445]\n",
      "Epoch 180/200: 100%|██████████| 180/180 [00:00<00:00, 930.14batch/s, val_mean_loss=0.112903]\n"
     ]
    },
    {
     "name": "stdout",
     "output_type": "stream",
     "text": [
      "0.948344593592796\n"
     ]
    },
    {
     "name": "stderr",
     "output_type": "stream",
     "text": [
      "Epoch 181/200: 100%|██████████| 720/720 [00:02<00:00, 284.09batch/s, train_mean_loss=0.042376]\n",
      "Epoch 181/200: 100%|██████████| 180/180 [00:00<00:00, 895.21batch/s, val_mean_loss=0.083992]\n"
     ]
    },
    {
     "name": "stdout",
     "output_type": "stream",
     "text": [
      "0.9507333068709161\n"
     ]
    },
    {
     "name": "stderr",
     "output_type": "stream",
     "text": [
      "Epoch 182/200: 100%|██████████| 720/720 [00:02<00:00, 313.66batch/s, train_mean_loss=0.034280]\n",
      "Epoch 182/200: 100%|██████████| 180/180 [00:00<00:00, 807.05batch/s, val_mean_loss=0.063472]\n"
     ]
    },
    {
     "name": "stdout",
     "output_type": "stream",
     "text": [
      "0.952378899500938\n"
     ]
    },
    {
     "name": "stderr",
     "output_type": "stream",
     "text": [
      "Epoch 183/200: 100%|██████████| 720/720 [00:02<00:00, 276.17batch/s, train_mean_loss=0.028240]\n",
      "Epoch 183/200: 100%|██████████| 180/180 [00:00<00:00, 775.72batch/s, val_mean_loss=0.059928]\n"
     ]
    },
    {
     "name": "stdout",
     "output_type": "stream",
     "text": [
      "0.9527133631517243\n"
     ]
    },
    {
     "name": "stderr",
     "output_type": "stream",
     "text": [
      "Epoch 184/200: 100%|██████████| 720/720 [00:02<00:00, 284.95batch/s, train_mean_loss=0.024577]\n",
      "Epoch 184/200: 100%|██████████| 180/180 [00:00<00:00, 614.34batch/s, val_mean_loss=0.062446]\n"
     ]
    },
    {
     "name": "stdout",
     "output_type": "stream",
     "text": [
      "0.9514289467051574\n"
     ]
    },
    {
     "name": "stderr",
     "output_type": "stream",
     "text": [
      "Epoch 185/200: 100%|██████████| 720/720 [00:02<00:00, 266.20batch/s, train_mean_loss=0.024047]\n",
      "Epoch 185/200: 100%|██████████| 180/180 [00:00<00:00, 845.06batch/s, val_mean_loss=0.068538]\n"
     ]
    },
    {
     "name": "stdout",
     "output_type": "stream",
     "text": [
      "0.9506993809896332\n"
     ]
    },
    {
     "name": "stderr",
     "output_type": "stream",
     "text": [
      "Epoch 186/200: 100%|██████████| 720/720 [00:02<00:00, 264.91batch/s, train_mean_loss=0.026720]\n",
      "Epoch 186/200: 100%|██████████| 180/180 [00:00<00:00, 786.02batch/s, val_mean_loss=0.067043]\n"
     ]
    },
    {
     "name": "stdout",
     "output_type": "stream",
     "text": [
      "0.9489520082652187\n"
     ]
    },
    {
     "name": "stderr",
     "output_type": "stream",
     "text": [
      "Epoch 187/200: 100%|██████████| 720/720 [00:02<00:00, 275.43batch/s, train_mean_loss=0.028365]\n",
      "Epoch 187/200: 100%|██████████| 180/180 [00:00<00:00, 805.14batch/s, val_mean_loss=0.071110]\n"
     ]
    },
    {
     "name": "stdout",
     "output_type": "stream",
     "text": [
      "0.9491927600188549\n"
     ]
    },
    {
     "name": "stderr",
     "output_type": "stream",
     "text": [
      "Epoch 188/200: 100%|██████████| 720/720 [00:02<00:00, 252.26batch/s, train_mean_loss=0.028160]\n",
      "Epoch 188/200: 100%|██████████| 180/180 [00:00<00:00, 821.78batch/s, val_mean_loss=0.071362]\n"
     ]
    },
    {
     "name": "stdout",
     "output_type": "stream",
     "text": [
      "0.9470113092815317\n"
     ]
    },
    {
     "name": "stderr",
     "output_type": "stream",
     "text": [
      "Epoch 189/200: 100%|██████████| 720/720 [00:02<00:00, 328.87batch/s, train_mean_loss=0.027525]\n",
      "Epoch 189/200: 100%|██████████| 180/180 [00:00<00:00, 857.11batch/s, val_mean_loss=0.083739]\n"
     ]
    },
    {
     "name": "stdout",
     "output_type": "stream",
     "text": [
      "0.9455613868833839\n"
     ]
    },
    {
     "name": "stderr",
     "output_type": "stream",
     "text": [
      "Epoch 190/200: 100%|██████████| 720/720 [00:02<00:00, 320.77batch/s, train_mean_loss=0.029425]\n",
      "Epoch 190/200: 100%|██████████| 180/180 [00:00<00:00, 852.91batch/s, val_mean_loss=0.123687]\n"
     ]
    },
    {
     "name": "stdout",
     "output_type": "stream",
     "text": [
      "0.9409423941652032\n"
     ]
    },
    {
     "name": "stderr",
     "output_type": "stream",
     "text": [
      "Epoch 191/200: 100%|██████████| 720/720 [00:02<00:00, 343.09batch/s, train_mean_loss=0.031691]\n",
      "Epoch 191/200: 100%|██████████| 180/180 [00:00<00:00, 829.69batch/s, val_mean_loss=0.176592]\n"
     ]
    },
    {
     "name": "stdout",
     "output_type": "stream",
     "text": [
      "0.9387153160455171\n"
     ]
    },
    {
     "name": "stderr",
     "output_type": "stream",
     "text": [
      "Epoch 192/200: 100%|██████████| 720/720 [00:02<00:00, 334.93batch/s, train_mean_loss=0.035345]\n",
      "Epoch 192/200: 100%|██████████| 180/180 [00:00<00:00, 882.09batch/s, val_mean_loss=0.214403]\n"
     ]
    },
    {
     "name": "stdout",
     "output_type": "stream",
     "text": [
      "0.9359335828646602\n"
     ]
    },
    {
     "name": "stderr",
     "output_type": "stream",
     "text": [
      "Epoch 193/200: 100%|██████████| 720/720 [00:02<00:00, 315.41batch/s, train_mean_loss=0.039247]\n",
      "Epoch 193/200: 100%|██████████| 180/180 [00:00<00:00, 895.52batch/s, val_mean_loss=0.231569]\n"
     ]
    },
    {
     "name": "stdout",
     "output_type": "stream",
     "text": [
      "0.9351684010954434\n"
     ]
    },
    {
     "name": "stderr",
     "output_type": "stream",
     "text": [
      "Epoch 194/200: 100%|██████████| 720/720 [00:02<00:00, 311.70batch/s, train_mean_loss=0.043209]\n",
      "Epoch 194/200: 100%|██████████| 180/180 [00:00<00:00, 867.42batch/s, val_mean_loss=0.228520]\n"
     ]
    },
    {
     "name": "stdout",
     "output_type": "stream",
     "text": [
      "0.9354658778011649\n"
     ]
    },
    {
     "name": "stderr",
     "output_type": "stream",
     "text": [
      "Epoch 197/200: 100%|██████████| 720/720 [00:01<00:00, 479.38batch/s, train_mean_loss=0.048289]\n",
      "Epoch 197/200: 100%|██████████| 180/180 [00:00<00:00, 1078.36batch/s, val_mean_loss=0.070800]\n"
     ]
    },
    {
     "name": "stdout",
     "output_type": "stream",
     "text": [
      "0.9448138383215006\n"
     ]
    },
    {
     "name": "stderr",
     "output_type": "stream",
     "text": [
      "Epoch 198/200: 100%|██████████| 720/720 [00:01<00:00, 392.13batch/s, train_mean_loss=0.043505]\n",
      "Epoch 198/200: 100%|██████████| 180/180 [00:00<00:00, 1011.60batch/s, val_mean_loss=0.081699]\n"
     ]
    },
    {
     "name": "stdout",
     "output_type": "stream",
     "text": [
      "0.9470507885860363\n"
     ]
    },
    {
     "name": "stderr",
     "output_type": "stream",
     "text": [
      "Epoch 195/200: 100%|██████████| 720/720 [00:01<00:00, 443.36batch/s, train_mean_loss=0.047671]\n",
      "Epoch 195/200: 100%|██████████| 180/180 [00:00<00:00, 1073.96batch/s, val_mean_loss=0.170379]\n"
     ]
    },
    {
     "name": "stdout",
     "output_type": "stream",
     "text": [
      "0.937833759931772\n"
     ]
    },
    {
     "name": "stderr",
     "output_type": "stream",
     "text": [
      "Epoch 196/200: 100%|██████████| 720/720 [00:01<00:00, 494.87batch/s, train_mean_loss=0.049405]\n",
      "Epoch 196/200: 100%|██████████| 180/180 [00:00<00:00, 1118.58batch/s, val_mean_loss=0.094578]\n"
     ]
    },
    {
     "name": "stdout",
     "output_type": "stream",
     "text": [
      "0.9415020399966978\n"
     ]
    },
    {
     "name": "stderr",
     "output_type": "stream",
     "text": [
      "Epoch 199/200: 100%|██████████| 720/720 [00:01<00:00, 375.70batch/s, train_mean_loss=0.038585]\n",
      "Epoch 199/200: 100%|██████████| 180/180 [00:00<00:00, 725.54batch/s, val_mean_loss=0.101156]\n"
     ]
    },
    {
     "name": "stdout",
     "output_type": "stream",
     "text": [
      "0.9493359152722279\n"
     ]
    },
    {
     "name": "stderr",
     "output_type": "stream",
     "text": [
      "Epoch 200/200: 100%|██████████| 720/720 [00:01<00:00, 402.78batch/s, train_mean_loss=0.033325]\n",
      "Epoch 200/200: 100%|██████████| 180/180 [00:00<00:00, 932.90batch/s, val_mean_loss=0.116974]\n"
     ]
    },
    {
     "name": "stdout",
     "output_type": "stream",
     "text": [
      "0.9500433182309813\n"
     ]
    }
   ],
   "source": [
    "# Training\n",
    "train_num_samples = len(train)\n",
    "train_num_batches = (train_num_samples + CONFIG['BATCH_SIZE'] - 1) // CONFIG['BATCH_SIZE']\n",
    "\n",
    "val_num_samples = len(val)\n",
    "val_num_batches = (val_num_samples + CONFIG['BATCH_SIZE'] - 1) // CONFIG['BATCH_SIZE']\n",
    "\n",
    "for epoch in range(CONFIG['EPOCHS']):\n",
    "    ##################################################################TRAIN##################################################################\n",
    "    model.train()\n",
    "    train_running_loss = 0.0\n",
    "\n",
    "    with tqdm(range(train_num_batches), desc=f\"Epoch {epoch + 1}/{CONFIG['EPOCHS']}\", unit=\"batch\") as t:\n",
    "        for batch_idx in t:\n",
    "            start_idx = batch_idx * CONFIG['BATCH_SIZE']\n",
    "            end_idx = min(start_idx + CONFIG['BATCH_SIZE'], train_num_samples)\n",
    "\n",
    "            # Извлечение батча данных\n",
    "            batch_inputs = train_tensors[start_idx:end_idx]\n",
    "            batch_targets = train_targets[start_idx:end_idx]\n",
    "            \n",
    "            # Обнуление градиентов\n",
    "            optimizer.zero_grad()\n",
    "\n",
    "            # Прямой проход\n",
    "            outputs = model(batch_inputs)\n",
    "\n",
    "            # Вычисление функции потерь\n",
    "            batch_loss = criterion(outputs, batch_targets.unsqueeze(1))\n",
    "\n",
    "            # Обратный проход\n",
    "            batch_loss.backward()\n",
    "            optimizer.step()\n",
    "\n",
    "            train_running_loss += batch_loss.item()\n",
    "            t.set_postfix(train_mean_loss=f\"{train_running_loss / (batch_idx + 1):.6f}\")\n",
    "    \n",
    "    ###EVAL\n",
    "    model.eval()\n",
    "    val_running_loss = 0.0\n",
    "    \n",
    "    outputs_list = []\n",
    "    \n",
    "    with torch.no_grad():\n",
    "        with tqdm(range(val_num_batches), desc=f\"Epoch {epoch + 1}/{CONFIG['EPOCHS']}\", unit=\"batch\") as v:\n",
    "            for batch_idx in v:\n",
    "                start_idx = batch_idx * CONFIG['BATCH_SIZE']\n",
    "                end_idx = min(start_idx + CONFIG['BATCH_SIZE'], val_num_samples)\n",
    "                \n",
    "                batch_inputs = val_tensors[start_idx:end_idx]\n",
    "                batch_targets = val_targets[start_idx:end_idx]\n",
    "    \n",
    "                # Прямой проход\n",
    "                outputs = model(batch_inputs)\n",
    "                \n",
    "                batch_loss = criterion(outputs, batch_targets.unsqueeze(1))\n",
    "                val_running_loss += batch_loss.item()\n",
    "                v.set_postfix(val_mean_loss=f\"{val_running_loss / (batch_idx + 1):.6f}\")\n",
    "        \n",
    "                outputs_list.extend(outputs.cpu().numpy().flatten())\n",
    "    \n",
    "    ###SAVE\n",
    "    row_id_column_name = \"ID\"\n",
    "    y_pred = val[['ID']].copy(deep=True)\n",
    "    y_pred[\"prediction\"] = outputs_list\n",
    "    \n",
    "    y_true = val[['ID', 'efs', 'efs_time', 'race_group']].copy(deep=True)\n",
    "    print(score(y_true.copy(), y_pred.copy(), row_id_column_name))"
   ]
  },
  {
   "cell_type": "code",
   "outputs": [],
   "source": [],
   "metadata": {
    "collapsed": false,
    "ExecuteTime": {
     "end_time": "2024-12-26T06:49:28.621653400Z",
     "start_time": "2024-12-26T06:49:28.606554500Z"
    }
   },
   "id": "5dd66befac09e49e",
   "execution_count": 12
  }
 ],
 "metadata": {
  "kaggle": {
   "accelerator": "gpu",
   "dataSources": [
    {
     "datasetId": 6155403,
     "sourceId": 10000346,
     "sourceType": "datasetVersion"
    }
   ],
   "dockerImageVersionId": 30787,
   "isGpuEnabled": true,
   "isInternetEnabled": true,
   "language": "python",
   "sourceType": "notebook"
  },
  "kernelspec": {
   "display_name": "Python 3",
   "language": "python",
   "name": "python3"
  },
  "language_info": {
   "codemirror_mode": {
    "name": "ipython",
    "version": 3
   },
   "file_extension": ".py",
   "mimetype": "text/x-python",
   "name": "python",
   "nbconvert_exporter": "python",
   "pygments_lexer": "ipython3",
   "version": "3.10.14"
  },
  "papermill": {
   "default_parameters": {},
   "duration": 5460.653933,
   "end_time": "2024-11-25T06:17:15.604943",
   "environment_variables": {},
   "exception": null,
   "input_path": "__notebook__.ipynb",
   "output_path": "__notebook__.ipynb",
   "parameters": {},
   "start_time": "2024-11-25T04:46:14.951010",
   "version": "2.6.0"
  }
 },
 "nbformat": 4,
 "nbformat_minor": 5
}
