{
 "cells": [
  {
   "cell_type": "code",
   "outputs": [],
   "source": [
    "import os\n",
    "current_directory = os.getcwd()\n",
    "folder_name = os.path.basename(current_directory)\n",
    "number = folder_name"
   ],
   "metadata": {
    "collapsed": false,
    "ExecuteTime": {
     "end_time": "2024-12-26T18:22:28.898273300Z",
     "start_time": "2024-12-26T18:22:28.853273300Z"
    }
   },
   "id": "98e9eccdccd5addd",
   "execution_count": 11
  },
  {
   "cell_type": "code",
   "outputs": [],
   "source": [
    "CONFIG = {\n",
    "    'data_main': 'C:/Users/Николай/PycharmProjects/CIBMTR/D.Data/main/',\n",
    "    'data_train_process': 'C:/Users/Николай/PycharmProjects/CIBMTR/D.Data/train_process/',\n",
    "    'data_train_split': 'C:/Users/Николай/PycharmProjects/CIBMTR/D.Data/train_split/',\n",
    "    'train_path': 'train.csv',\n",
    "    'folds_path': 'v1.csv', \n",
    "\n",
    "    'DEVICE' : 'cuda',\n",
    "    'SEED' : 42,\n",
    "    'BATCH_SIZE' : 256,\n",
    "    'LR' : 0.0001,\n",
    "    'EPOCHS': 500,\n",
    "    'output_dim' : 1\n",
    "}"
   ],
   "metadata": {
    "collapsed": false,
    "ExecuteTime": {
     "end_time": "2024-12-26T18:22:28.899872700Z",
     "start_time": "2024-12-26T18:22:28.872273500Z"
    }
   },
   "id": "4a794a5c2901e728",
   "execution_count": 12
  },
  {
   "cell_type": "code",
   "execution_count": 13,
   "id": "f9ee4882",
   "metadata": {
    "collapsed": false,
    "execution": {
     "iopub.execute_input": "2024-11-25T04:46:17.459651Z",
     "iopub.status.busy": "2024-11-25T04:46:17.459331Z",
     "iopub.status.idle": "2024-11-25T04:46:22.363731Z",
     "shell.execute_reply": "2024-11-25T04:46:22.362971Z"
    },
    "papermill": {
     "duration": 4.91114,
     "end_time": "2024-11-25T04:46:22.365894",
     "exception": false,
     "start_time": "2024-11-25T04:46:17.454754",
     "status": "completed"
    },
    "tags": [],
    "ExecuteTime": {
     "end_time": "2024-12-26T18:22:28.916901700Z",
     "start_time": "2024-12-26T18:22:28.902885400Z"
    }
   },
   "outputs": [],
   "source": [
    "# Import libs\n",
    "import numpy as np\n",
    "from tqdm import tqdm\n",
    "import pandas as pd \n",
    "import torch\n",
    "import torch.nn as nn\n",
    "from torch.optim import Adam\n",
    "import torch.nn.init as init\n",
    "from metric import score"
   ]
  },
  {
   "cell_type": "code",
   "execution_count": 14,
   "id": "6cf61865",
   "metadata": {
    "collapsed": false,
    "execution": {
     "iopub.execute_input": "2024-11-25T04:46:22.376480Z",
     "iopub.status.busy": "2024-11-25T04:46:22.375606Z",
     "iopub.status.idle": "2024-11-25T04:46:22.445552Z",
     "shell.execute_reply": "2024-11-25T04:46:22.444304Z"
    },
    "papermill": {
     "duration": 0.077688,
     "end_time": "2024-11-25T04:46:22.448120",
     "exception": false,
     "start_time": "2024-11-25T04:46:22.370432",
     "status": "completed"
    },
    "tags": [],
    "ExecuteTime": {
     "end_time": "2024-12-26T18:22:28.935976600Z",
     "start_time": "2024-12-26T18:22:28.918934900Z"
    }
   },
   "outputs": [],
   "source": [
    "# Device, torch decimal places and seed for reproducibility\n",
    "device = torch.device(CONFIG['DEVICE'] if torch.cuda.is_available() else \"cpu\")\n",
    "torch.set_printoptions(precision=40) \n",
    "\n",
    "torch.manual_seed(CONFIG['SEED'])  \n",
    "torch.cuda.manual_seed_all(CONFIG['SEED'])  \n",
    "np.random.seed(CONFIG['SEED'])  "
   ]
  },
  {
   "cell_type": "code",
   "execution_count": 15,
   "id": "ead528618a5bd413",
   "metadata": {
    "collapsed": false,
    "ExecuteTime": {
     "end_time": "2024-12-26T18:22:29.232955900Z",
     "start_time": "2024-12-26T18:22:28.935976600Z"
    }
   },
   "outputs": [],
   "source": [
    "# Load and prepare data\n",
    "train = pd.read_csv(f\"{CONFIG['data_main']}{CONFIG['train_path']}\")\n",
    "train = train.fillna('-1')\n",
    "\n",
    "for col in ['donor_age', 'age_at_hct']:\n",
    "    train[col] = train[col].astype(int)\n",
    "    \n",
    "train[\"y\"] = train.efs_time.values\n",
    "mx = train.loc[train.efs==1,\"efs_time\"].max()\n",
    "mn = train.loc[train.efs==0,\"efs_time\"].min()\n",
    "train.loc[train.efs==0,\"y\"] = train.loc[train.efs==0,\"y\"] + mx - mn\n",
    "train.y = train.y.rank()\n",
    "train.loc[train.efs==0,\"y\"] += 2*len(train)\n",
    "train.y = train.y / train.y.max()\n",
    "train.y = np.log( train.y )\n",
    "train.y -= train.y.mean()\n",
    "train.y *= -1.0\n",
    "\n",
    "# train['efs_time'] = (train['efs_time'] - train['efs_time'].min()) / (train['efs_time'].max() - train['efs_time'].min())\n",
    "\n",
    "cat_columns = [col for col in train.columns if col not in ['efs', 'efs_time', 'y', 'ID']]\n",
    "train[cat_columns] = train[cat_columns].astype(str)"
   ]
  },
  {
   "cell_type": "code",
   "outputs": [],
   "source": [
    "folds = pd.read_csv(f\"{CONFIG['data_train_split']}{CONFIG['folds_path']}\")\n",
    "val = train[folds['fold'] == 4].copy(deep=True)\n",
    "train = train[folds['fold'].isin([0, 1, 2, 3])].copy(deep=True)\n",
    "val.reset_index(drop=True, inplace=True)\n",
    "train.reset_index(drop=True, inplace=True)"
   ],
   "metadata": {
    "collapsed": false,
    "execution": {
     "iopub.execute_input": "2024-11-25T04:46:22.463105Z",
     "iopub.status.busy": "2024-11-25T04:46:22.462120Z",
     "iopub.status.idle": "2024-11-25T04:46:36.958670Z",
     "shell.execute_reply": "2024-11-25T04:46:36.957928Z"
    },
    "papermill": {
     "duration": 14.504329,
     "end_time": "2024-11-25T04:46:36.960715",
     "exception": false,
     "start_time": "2024-11-25T04:46:22.456386",
     "status": "completed"
    },
    "tags": [],
    "ExecuteTime": {
     "end_time": "2024-12-26T18:22:29.329960900Z",
     "start_time": "2024-12-26T18:22:29.234888800Z"
    }
   },
   "id": "3dfa6723",
   "execution_count": 16
  },
  {
   "cell_type": "code",
   "outputs": [],
   "source": [
    "train_one_hot = pd.get_dummies(train[cat_columns], drop_first=True)\n",
    "val_one_hot = pd.get_dummies(val[cat_columns], drop_first=True)\n",
    "val_one_hot = val_one_hot.reindex(columns=train_one_hot.columns, fill_value=False)"
   ],
   "metadata": {
    "collapsed": false,
    "ExecuteTime": {
     "end_time": "2024-12-26T18:22:29.487942900Z",
     "start_time": "2024-12-26T18:22:29.332954700Z"
    }
   },
   "id": "a4023592ce465a05",
   "execution_count": 17
  },
  {
   "cell_type": "code",
   "outputs": [],
   "source": [
    "input_dim = train_one_hot.shape[1]"
   ],
   "metadata": {
    "collapsed": false,
    "ExecuteTime": {
     "end_time": "2024-12-26T18:22:29.512966500Z",
     "start_time": "2024-12-26T18:22:29.490903300Z"
    }
   },
   "id": "7203f96cf36f7ac0",
   "execution_count": 18
  },
  {
   "cell_type": "code",
   "outputs": [],
   "source": [
    "# Model definition\n",
    "class Model(nn.Module):\n",
    "    def __init__(self, input_dim, output_dim=CONFIG['output_dim']):\n",
    "        super(Model, self).__init__()\n",
    "    \n",
    "        self.fc1 = nn.Linear(input_dim, input_dim)\n",
    "        self.fc2 = nn.Linear(input_dim, input_dim)\n",
    "        self.fc3 = nn.Linear(input_dim, input_dim)\n",
    "        self.fc4 = nn.Linear(input_dim, output_dim)\n",
    "        \n",
    "        self.relu = nn.ReLU()\n",
    "        self.do = nn.Dropout(p=0.5)\n",
    "        \n",
    "        self.init_weights()\n",
    "    \n",
    "    def init_weights(self):\n",
    "        init.xavier_uniform_(self.fc1.weight)\n",
    "        init.xavier_uniform_(self.fc2.weight)\n",
    "        init.xavier_uniform_(self.fc3.weight)\n",
    "        init.xavier_uniform_(self.fc4.weight)\n",
    "    \n",
    "        self.fc1.weight.data = torch.clamp(self.fc1.weight.data, 0, 1)\n",
    "        self.fc2.weight.data = torch.clamp(self.fc2.weight.data, 0, 1)\n",
    "        self.fc3.weight.data = torch.clamp(self.fc3.weight.data, 0, 1)\n",
    "        self.fc4.weight.data = torch.clamp(self.fc4.weight.data, 0, 1)\n",
    "        \n",
    "        if self.fc1.bias is not None:\n",
    "            init.zeros_(self.fc1.bias)\n",
    "        if self.fc2.bias is not None:\n",
    "            init.zeros_(self.fc2.bias)\n",
    "        if self.fc3.bias is not None:\n",
    "            init.zeros_(self.fc3.bias)\n",
    "        if self.fc4.bias is not None:\n",
    "            init.zeros_(self.fc4.bias)\n",
    "        \n",
    "    def forward(self, x):\n",
    "\n",
    "        x = self.relu(self.fc1(x))\n",
    "        x = self.do(x)\n",
    "        x = self.relu(self.fc2(x))\n",
    "        x = self.do(x)\n",
    "        x = self.relu(self.fc3(x))\n",
    "        x = self.do(x)\n",
    "        x = self.fc4(x)\n",
    "        \n",
    "        return x"
   ],
   "metadata": {
    "collapsed": false,
    "ExecuteTime": {
     "end_time": "2024-12-26T18:22:29.522966Z",
     "start_time": "2024-12-26T18:22:29.510966200Z"
    }
   },
   "id": "769b210d304532d1",
   "execution_count": 19
  },
  {
   "cell_type": "code",
   "execution_count": 20,
   "id": "ae46951b",
   "metadata": {
    "collapsed": false,
    "execution": {
     "iopub.execute_input": "2024-11-25T04:46:40.465946Z",
     "iopub.status.busy": "2024-11-25T04:46:40.465691Z",
     "iopub.status.idle": "2024-11-25T04:46:41.656166Z",
     "shell.execute_reply": "2024-11-25T04:46:41.655167Z"
    },
    "papermill": {
     "duration": 1.197018,
     "end_time": "2024-11-25T04:46:41.658294",
     "exception": false,
     "start_time": "2024-11-25T04:46:40.461276",
     "status": "completed"
    },
    "tags": [],
    "ExecuteTime": {
     "end_time": "2024-12-26T18:22:31.402327200Z",
     "start_time": "2024-12-26T18:22:29.521966500Z"
    }
   },
   "outputs": [],
   "source": [
    "# Model, criterion and optimizer\n",
    "model = Model(input_dim).to(device)\n",
    "criterion = nn.MSELoss()\n",
    "optimizer = Adam(model.parameters(), lr=CONFIG['LR'])"
   ]
  },
  {
   "cell_type": "code",
   "outputs": [],
   "source": [
    "train_tensors = torch.tensor(train_one_hot.values, device=device, dtype=torch.float32)\n",
    "\n",
    "train_targets = torch.tensor(train['y'].values, device=device, dtype=torch.float32)\n",
    "\n",
    "val_tensors = torch.tensor(val_one_hot.values, device=device, dtype=torch.float32)\n",
    "\n",
    "val_targets = torch.tensor(val['y'].values, device=device, dtype=torch.float32)"
   ],
   "metadata": {
    "collapsed": false,
    "ExecuteTime": {
     "end_time": "2024-12-26T18:22:31.479721300Z",
     "start_time": "2024-12-26T18:22:31.403402400Z"
    }
   },
   "id": "2bed9b1ed476d50a",
   "execution_count": 21
  },
  {
   "cell_type": "code",
   "outputs": [
    {
     "name": "stderr",
     "output_type": "stream",
     "text": [
      "Epoch 1/500: 100%|██████████| 90/90 [00:00<00:00, 270.33batch/s, train_mean_loss=351413.403733]\n",
      "Epoch 1/500: 100%|██████████| 23/23 [00:00<00:00, 850.98batch/s, val_mean_loss=83008.120584]\n"
     ]
    },
    {
     "name": "stdout",
     "output_type": "stream",
     "text": [
      "New Best Score: 0.529476797191262, Epoch: 1\n"
     ]
    },
    {
     "name": "stderr",
     "output_type": "stream",
     "text": [
      "Epoch 2/500: 100%|██████████| 90/90 [00:00<00:00, 354.83batch/s, train_mean_loss=41744.649523]\n",
      "Epoch 2/500: 100%|██████████| 23/23 [00:00<00:00, 920.72batch/s, val_mean_loss=17225.091712]\n",
      "Epoch 3/500: 100%|██████████| 90/90 [00:00<00:00, 383.07batch/s, train_mean_loss=9557.008295] \n",
      "Epoch 3/500: 100%|██████████| 23/23 [00:00<00:00, 851.86batch/s, val_mean_loss=3814.755169]\n",
      "Epoch 4/500: 100%|██████████| 90/90 [00:00<00:00, 403.66batch/s, train_mean_loss=2262.401264]\n",
      "Epoch 4/500: 100%|██████████| 23/23 [00:00<00:00, 851.87batch/s, val_mean_loss=663.158954]\n",
      "Epoch 5/500: 100%|██████████| 90/90 [00:00<00:00, 355.74batch/s, train_mean_loss=679.026161]\n",
      "Epoch 5/500: 100%|██████████| 23/23 [00:00<00:00, 884.74batch/s, val_mean_loss=82.929848]\n",
      "Epoch 6/500: 100%|██████████| 90/90 [00:00<00:00, 364.49batch/s, train_mean_loss=421.851588]\n",
      "Epoch 6/500: 100%|██████████| 23/23 [00:00<00:00, 1000.66batch/s, val_mean_loss=9.783973]\n",
      "Epoch 7/500: 100%|██████████| 90/90 [00:00<00:00, 388.06batch/s, train_mean_loss=384.784720]\n",
      "Epoch 7/500: 100%|██████████| 23/23 [00:00<00:00, 958.43batch/s, val_mean_loss=3.293320]\n",
      "Epoch 8/500: 100%|██████████| 90/90 [00:00<00:00, 391.59batch/s, train_mean_loss=376.236497]\n",
      "Epoch 8/500: 100%|██████████| 23/23 [00:00<00:00, 884.38batch/s, val_mean_loss=2.596593]\n",
      "Epoch 9/500: 100%|██████████| 90/90 [00:00<00:00, 393.90batch/s, train_mean_loss=364.848453]\n",
      "Epoch 9/500: 100%|██████████| 23/23 [00:00<00:00, 920.33batch/s, val_mean_loss=2.302075]\n",
      "Epoch 10/500: 100%|██████████| 90/90 [00:00<00:00, 395.63batch/s, train_mean_loss=366.402189]\n",
      "Epoch 10/500: 100%|██████████| 23/23 [00:00<00:00, 883.92batch/s, val_mean_loss=2.342659]\n",
      "Epoch 11/500: 100%|██████████| 90/90 [00:00<00:00, 374.06batch/s, train_mean_loss=359.712513]\n",
      "Epoch 11/500: 100%|██████████| 23/23 [00:00<00:00, 999.85batch/s, val_mean_loss=2.360666]\n",
      "Epoch 12/500: 100%|██████████| 90/90 [00:00<00:00, 386.19batch/s, train_mean_loss=354.168334]\n",
      "Epoch 12/500: 100%|██████████| 23/23 [00:00<00:00, 822.20batch/s, val_mean_loss=2.344699]\n",
      "Epoch 13/500: 100%|██████████| 90/90 [00:00<00:00, 381.49batch/s, train_mean_loss=338.133211]\n",
      "Epoch 13/500: 100%|██████████| 23/23 [00:00<00:00, 958.35batch/s, val_mean_loss=2.307240]\n",
      "Epoch 14/500: 100%|██████████| 90/90 [00:00<00:00, 388.10batch/s, train_mean_loss=332.456798]\n",
      "Epoch 14/500: 100%|██████████| 23/23 [00:00<00:00, 920.77batch/s, val_mean_loss=2.347092]\n",
      "Epoch 15/500: 100%|██████████| 90/90 [00:00<00:00, 378.80batch/s, train_mean_loss=316.796604]\n",
      "Epoch 15/500: 100%|██████████| 23/23 [00:00<00:00, 920.04batch/s, val_mean_loss=2.414762]\n",
      "Epoch 16/500: 100%|██████████| 90/90 [00:00<00:00, 368.94batch/s, train_mean_loss=314.361138]\n",
      "Epoch 16/500: 100%|██████████| 23/23 [00:00<00:00, 884.60batch/s, val_mean_loss=2.534099]\n",
      "Epoch 17/500: 100%|██████████| 90/90 [00:00<00:00, 386.41batch/s, train_mean_loss=306.728494]\n",
      "Epoch 17/500: 100%|██████████| 23/23 [00:00<00:00, 919.64batch/s, val_mean_loss=2.388292]\n",
      "Epoch 18/500: 100%|██████████| 90/90 [00:00<00:00, 401.14batch/s, train_mean_loss=292.764565]\n",
      "Epoch 18/500: 100%|██████████| 23/23 [00:00<00:00, 957.81batch/s, val_mean_loss=2.356898]\n",
      "Epoch 19/500: 100%|██████████| 90/90 [00:00<00:00, 384.76batch/s, train_mean_loss=282.324018]\n",
      "Epoch 19/500: 100%|██████████| 23/23 [00:00<00:00, 885.13batch/s, val_mean_loss=2.346353]\n",
      "Epoch 20/500: 100%|██████████| 90/90 [00:00<00:00, 386.42batch/s, train_mean_loss=280.673119]\n",
      "Epoch 20/500: 100%|██████████| 23/23 [00:00<00:00, 884.00batch/s, val_mean_loss=2.314813]\n",
      "Epoch 21/500: 100%|██████████| 90/90 [00:00<00:00, 385.11batch/s, train_mean_loss=272.249105]\n",
      "Epoch 21/500: 100%|██████████| 23/23 [00:00<00:00, 851.44batch/s, val_mean_loss=2.305049]\n",
      "Epoch 22/500: 100%|██████████| 90/90 [00:00<00:00, 272.70batch/s, train_mean_loss=257.311889]\n",
      "Epoch 22/500: 100%|██████████| 23/23 [00:00<00:00, 883.48batch/s, val_mean_loss=2.416598]\n",
      "Epoch 23/500: 100%|██████████| 90/90 [00:00<00:00, 367.44batch/s, train_mean_loss=253.573885]\n",
      "Epoch 23/500: 100%|██████████| 23/23 [00:00<00:00, 741.94batch/s, val_mean_loss=2.296202]\n",
      "Epoch 24/500: 100%|██████████| 90/90 [00:00<00:00, 354.93batch/s, train_mean_loss=239.796672]\n",
      "Epoch 24/500: 100%|██████████| 23/23 [00:00<00:00, 891.88batch/s, val_mean_loss=2.312034]\n",
      "Epoch 25/500: 100%|██████████| 90/90 [00:00<00:00, 385.24batch/s, train_mean_loss=235.150366]\n",
      "Epoch 25/500: 100%|██████████| 23/23 [00:00<00:00, 924.99batch/s, val_mean_loss=2.499983]\n",
      "Epoch 26/500: 100%|██████████| 90/90 [00:00<00:00, 379.88batch/s, train_mean_loss=226.829509]\n",
      "Epoch 26/500: 100%|██████████| 23/23 [00:00<00:00, 919.26batch/s, val_mean_loss=2.305821]\n",
      "Epoch 27/500: 100%|██████████| 90/90 [00:00<00:00, 383.11batch/s, train_mean_loss=215.951557]\n",
      "Epoch 27/500: 100%|██████████| 23/23 [00:00<00:00, 919.98batch/s, val_mean_loss=2.340871]\n",
      "Epoch 28/500: 100%|██████████| 90/90 [00:00<00:00, 388.57batch/s, train_mean_loss=210.748363]\n",
      "Epoch 28/500: 100%|██████████| 23/23 [00:00<00:00, 792.73batch/s, val_mean_loss=2.468509]\n",
      "Epoch 29/500: 100%|██████████| 90/90 [00:00<00:00, 384.75batch/s, train_mean_loss=202.855498]\n",
      "Epoch 29/500: 100%|██████████| 23/23 [00:00<00:00, 922.92batch/s, val_mean_loss=2.298922]\n",
      "Epoch 30/500: 100%|██████████| 90/90 [00:00<00:00, 379.80batch/s, train_mean_loss=194.056038]\n",
      "Epoch 30/500: 100%|██████████| 23/23 [00:00<00:00, 698.40batch/s, val_mean_loss=2.522539]\n",
      "Epoch 31/500: 100%|██████████| 90/90 [00:00<00:00, 387.59batch/s, train_mean_loss=187.477434]\n",
      "Epoch 31/500: 100%|██████████| 23/23 [00:00<00:00, 884.03batch/s, val_mean_loss=2.315166]\n",
      "Epoch 32/500: 100%|██████████| 90/90 [00:00<00:00, 379.88batch/s, train_mean_loss=178.383598]\n",
      "Epoch 32/500: 100%|██████████| 23/23 [00:00<00:00, 820.53batch/s, val_mean_loss=2.399614]\n",
      "Epoch 33/500: 100%|██████████| 90/90 [00:00<00:00, 376.70batch/s, train_mean_loss=172.102259]\n",
      "Epoch 33/500: 100%|██████████| 23/23 [00:00<00:00, 883.80batch/s, val_mean_loss=2.378663]\n",
      "Epoch 34/500: 100%|██████████| 90/90 [00:00<00:00, 378.57batch/s, train_mean_loss=161.622859]\n",
      "Epoch 34/500: 100%|██████████| 23/23 [00:00<00:00, 851.73batch/s, val_mean_loss=2.351490]\n",
      "Epoch 35/500: 100%|██████████| 90/90 [00:00<00:00, 363.25batch/s, train_mean_loss=156.749372]\n",
      "Epoch 35/500: 100%|██████████| 23/23 [00:00<00:00, 921.30batch/s, val_mean_loss=2.330856]\n",
      "Epoch 36/500: 100%|██████████| 90/90 [00:00<00:00, 376.74batch/s, train_mean_loss=147.720168]\n",
      "Epoch 36/500: 100%|██████████| 23/23 [00:00<00:00, 920.59batch/s, val_mean_loss=2.298085]\n",
      "Epoch 37/500: 100%|██████████| 90/90 [00:00<00:00, 375.61batch/s, train_mean_loss=143.289369]\n",
      "Epoch 37/500: 100%|██████████| 23/23 [00:00<00:00, 851.76batch/s, val_mean_loss=2.294255]\n",
      "Epoch 38/500: 100%|██████████| 90/90 [00:00<00:00, 362.98batch/s, train_mean_loss=138.988165]\n",
      "Epoch 38/500: 100%|██████████| 23/23 [00:00<00:00, 851.46batch/s, val_mean_loss=2.314487]\n",
      "Epoch 39/500: 100%|██████████| 90/90 [00:00<00:00, 365.85batch/s, train_mean_loss=128.846965]\n",
      "Epoch 39/500: 100%|██████████| 23/23 [00:00<00:00, 822.90batch/s, val_mean_loss=2.353015]\n",
      "Epoch 40/500: 100%|██████████| 90/90 [00:00<00:00, 357.43batch/s, train_mean_loss=124.791872]\n",
      "Epoch 40/500: 100%|██████████| 23/23 [00:00<00:00, 741.72batch/s, val_mean_loss=2.311313]\n",
      "Epoch 41/500: 100%|██████████| 90/90 [00:00<00:00, 360.39batch/s, train_mean_loss=119.498502]\n",
      "Epoch 41/500: 100%|██████████| 23/23 [00:00<00:00, 852.02batch/s, val_mean_loss=2.309024]\n",
      "Epoch 42/500: 100%|██████████| 90/90 [00:00<00:00, 383.50batch/s, train_mean_loss=114.762875]\n",
      "Epoch 42/500: 100%|██████████| 23/23 [00:00<00:00, 919.78batch/s, val_mean_loss=2.421052]\n",
      "Epoch 43/500: 100%|██████████| 90/90 [00:00<00:00, 368.84batch/s, train_mean_loss=108.114757]\n",
      "Epoch 43/500: 100%|██████████| 23/23 [00:00<00:00, 886.16batch/s, val_mean_loss=2.305687]\n",
      "Epoch 44/500: 100%|██████████| 90/90 [00:00<00:00, 366.17batch/s, train_mean_loss=101.933060]\n",
      "Epoch 44/500: 100%|██████████| 23/23 [00:00<00:00, 852.56batch/s, val_mean_loss=2.340408]\n",
      "Epoch 45/500: 100%|██████████| 90/90 [00:00<00:00, 372.00batch/s, train_mean_loss=98.356497] \n",
      "Epoch 45/500: 100%|██████████| 23/23 [00:00<00:00, 821.41batch/s, val_mean_loss=2.291315]\n",
      "Epoch 46/500: 100%|██████████| 90/90 [00:00<00:00, 360.13batch/s, train_mean_loss=92.477242]\n",
      "Epoch 46/500: 100%|██████████| 23/23 [00:00<00:00, 884.64batch/s, val_mean_loss=2.330073]\n",
      "Epoch 47/500: 100%|██████████| 90/90 [00:00<00:00, 366.26batch/s, train_mean_loss=87.328803]\n",
      "Epoch 47/500: 100%|██████████| 23/23 [00:00<00:00, 793.21batch/s, val_mean_loss=2.407815]\n",
      "Epoch 48/500: 100%|██████████| 90/90 [00:00<00:00, 366.46batch/s, train_mean_loss=83.848835]\n",
      "Epoch 48/500: 100%|██████████| 23/23 [00:00<00:00, 767.26batch/s, val_mean_loss=2.293858]\n",
      "Epoch 49/500: 100%|██████████| 90/90 [00:00<00:00, 379.87batch/s, train_mean_loss=79.302457]\n",
      "Epoch 49/500: 100%|██████████| 23/23 [00:00<00:00, 884.51batch/s, val_mean_loss=2.295945]\n",
      "Epoch 50/500: 100%|██████████| 90/90 [00:00<00:00, 361.78batch/s, train_mean_loss=75.321806]\n",
      "Epoch 50/500: 100%|██████████| 23/23 [00:00<00:00, 820.91batch/s, val_mean_loss=2.339515]\n",
      "Epoch 51/500: 100%|██████████| 90/90 [00:00<00:00, 370.36batch/s, train_mean_loss=72.190245]\n",
      "Epoch 51/500: 100%|██████████| 23/23 [00:00<00:00, 821.31batch/s, val_mean_loss=2.291893]\n",
      "Epoch 52/500: 100%|██████████| 90/90 [00:00<00:00, 365.82batch/s, train_mean_loss=67.768344]\n",
      "Epoch 52/500: 100%|██████████| 23/23 [00:00<00:00, 853.44batch/s, val_mean_loss=2.290167]\n",
      "Epoch 53/500: 100%|██████████| 90/90 [00:00<00:00, 343.02batch/s, train_mean_loss=66.026009]\n",
      "Epoch 53/500: 100%|██████████| 23/23 [00:00<00:00, 864.60batch/s, val_mean_loss=2.310817]\n",
      "Epoch 54/500: 100%|██████████| 90/90 [00:00<00:00, 295.10batch/s, train_mean_loss=62.032375]\n",
      "Epoch 54/500: 100%|██████████| 23/23 [00:00<00:00, 853.46batch/s, val_mean_loss=2.308724]\n",
      "Epoch 55/500: 100%|██████████| 90/90 [00:00<00:00, 290.37batch/s, train_mean_loss=58.198106]\n",
      "Epoch 55/500: 100%|██████████| 23/23 [00:00<00:00, 921.40batch/s, val_mean_loss=2.309194]\n",
      "Epoch 56/500: 100%|██████████| 90/90 [00:00<00:00, 288.12batch/s, train_mean_loss=54.995749]\n",
      "Epoch 56/500: 100%|██████████| 23/23 [00:00<00:00, 793.08batch/s, val_mean_loss=2.294085]\n",
      "Epoch 57/500: 100%|██████████| 90/90 [00:00<00:00, 380.56batch/s, train_mean_loss=51.213409]\n",
      "Epoch 57/500: 100%|██████████| 23/23 [00:00<00:00, 920.33batch/s, val_mean_loss=2.303965]\n",
      "Epoch 58/500: 100%|██████████| 90/90 [00:00<00:00, 376.45batch/s, train_mean_loss=49.334375]\n",
      "Epoch 58/500: 100%|██████████| 23/23 [00:00<00:00, 885.91batch/s, val_mean_loss=2.288501]\n",
      "Epoch 59/500: 100%|██████████| 90/90 [00:00<00:00, 376.63batch/s, train_mean_loss=46.887671]\n",
      "Epoch 59/500: 100%|██████████| 23/23 [00:00<00:00, 886.16batch/s, val_mean_loss=2.297991]\n",
      "Epoch 60/500: 100%|██████████| 90/90 [00:00<00:00, 384.83batch/s, train_mean_loss=43.543707]\n",
      "Epoch 60/500: 100%|██████████| 23/23 [00:00<00:00, 884.61batch/s, val_mean_loss=2.287425]\n",
      "Epoch 61/500: 100%|██████████| 90/90 [00:00<00:00, 380.93batch/s, train_mean_loss=41.580859]\n",
      "Epoch 61/500: 100%|██████████| 23/23 [00:00<00:00, 957.94batch/s, val_mean_loss=2.297076]\n",
      "Epoch 62/500: 100%|██████████| 90/90 [00:00<00:00, 372.70batch/s, train_mean_loss=39.448820]\n",
      "Epoch 62/500: 100%|██████████| 23/23 [00:00<00:00, 822.72batch/s, val_mean_loss=2.287275]\n",
      "Epoch 63/500: 100%|██████████| 90/90 [00:00<00:00, 381.50batch/s, train_mean_loss=37.352356]\n",
      "Epoch 63/500: 100%|██████████| 23/23 [00:00<00:00, 851.55batch/s, val_mean_loss=2.286572]\n",
      "Epoch 64/500: 100%|██████████| 90/90 [00:00<00:00, 362.90batch/s, train_mean_loss=35.004566]\n",
      "Epoch 64/500: 100%|██████████| 23/23 [00:00<00:00, 768.04batch/s, val_mean_loss=2.286889]\n",
      "Epoch 65/500: 100%|██████████| 90/90 [00:00<00:00, 299.57batch/s, train_mean_loss=32.916269]\n",
      "Epoch 65/500: 100%|██████████| 23/23 [00:00<00:00, 824.79batch/s, val_mean_loss=2.286056]\n",
      "Epoch 66/500: 100%|██████████| 90/90 [00:00<00:00, 368.86batch/s, train_mean_loss=31.694184]\n",
      "Epoch 66/500: 100%|██████████| 23/23 [00:00<00:00, 920.02batch/s, val_mean_loss=2.297255]\n",
      "Epoch 67/500: 100%|██████████| 90/90 [00:00<00:00, 361.54batch/s, train_mean_loss=30.230353]\n",
      "Epoch 67/500: 100%|██████████| 23/23 [00:00<00:00, 822.67batch/s, val_mean_loss=2.285489]\n",
      "Epoch 68/500: 100%|██████████| 90/90 [00:00<00:00, 350.20batch/s, train_mean_loss=28.496891]\n",
      "Epoch 68/500: 100%|██████████| 23/23 [00:00<00:00, 883.63batch/s, val_mean_loss=2.287164]\n",
      "Epoch 69/500: 100%|██████████| 90/90 [00:00<00:00, 289.92batch/s, train_mean_loss=26.653196]\n",
      "Epoch 69/500: 100%|██████████| 23/23 [00:00<00:00, 851.88batch/s, val_mean_loss=2.289378]\n",
      "Epoch 70/500: 100%|██████████| 90/90 [00:00<00:00, 361.46batch/s, train_mean_loss=25.259615]\n",
      "Epoch 70/500: 100%|██████████| 23/23 [00:00<00:00, 823.05batch/s, val_mean_loss=2.292685]\n",
      "Epoch 71/500: 100%|██████████| 90/90 [00:00<00:00, 366.94batch/s, train_mean_loss=24.016237]\n",
      "Epoch 71/500: 100%|██████████| 23/23 [00:00<00:00, 821.54batch/s, val_mean_loss=2.284109]\n",
      "Epoch 72/500: 100%|██████████| 90/90 [00:00<00:00, 312.48batch/s, train_mean_loss=22.769603]\n",
      "Epoch 72/500: 100%|██████████| 23/23 [00:00<00:00, 794.48batch/s, val_mean_loss=2.283652]\n",
      "Epoch 73/500: 100%|██████████| 90/90 [00:00<00:00, 276.07batch/s, train_mean_loss=21.571670]\n",
      "Epoch 73/500: 100%|██████████| 23/23 [00:00<00:00, 823.80batch/s, val_mean_loss=2.284690]\n",
      "Epoch 74/500: 100%|██████████| 90/90 [00:00<00:00, 276.28batch/s, train_mean_loss=19.875758]\n",
      "Epoch 74/500: 100%|██████████| 23/23 [00:00<00:00, 821.89batch/s, val_mean_loss=2.283772]\n",
      "Epoch 75/500: 100%|██████████| 90/90 [00:00<00:00, 266.27batch/s, train_mean_loss=18.784557]\n",
      "Epoch 75/500: 100%|██████████| 23/23 [00:00<00:00, 658.52batch/s, val_mean_loss=2.282543]\n",
      "Epoch 76/500: 100%|██████████| 90/90 [00:00<00:00, 272.17batch/s, train_mean_loss=17.551243]\n",
      "Epoch 76/500: 100%|██████████| 23/23 [00:00<00:00, 800.46batch/s, val_mean_loss=2.282164]\n",
      "Epoch 77/500: 100%|██████████| 90/90 [00:00<00:00, 364.65batch/s, train_mean_loss=17.103547]\n",
      "Epoch 77/500: 100%|██████████| 23/23 [00:00<00:00, 793.01batch/s, val_mean_loss=2.282024]\n",
      "Epoch 78/500: 100%|██████████| 90/90 [00:00<00:00, 367.38batch/s, train_mean_loss=16.254809]\n",
      "Epoch 78/500: 100%|██████████| 23/23 [00:00<00:00, 851.95batch/s, val_mean_loss=2.281358]\n",
      "Epoch 79/500: 100%|██████████| 90/90 [00:00<00:00, 372.04batch/s, train_mean_loss=15.552030]\n",
      "Epoch 79/500: 100%|██████████| 23/23 [00:00<00:00, 851.39batch/s, val_mean_loss=2.280897]\n",
      "Epoch 80/500: 100%|██████████| 90/90 [00:00<00:00, 369.82batch/s, train_mean_loss=14.361570]\n",
      "Epoch 80/500: 100%|██████████| 23/23 [00:00<00:00, 853.01batch/s, val_mean_loss=2.281608]\n",
      "Epoch 81/500: 100%|██████████| 90/90 [00:00<00:00, 379.79batch/s, train_mean_loss=13.599025]\n",
      "Epoch 81/500: 100%|██████████| 23/23 [00:00<00:00, 791.94batch/s, val_mean_loss=2.280125]\n"
     ]
    },
    {
     "name": "stdout",
     "output_type": "stream",
     "text": [
      "New Best Score: 0.5305479096293244, Epoch: 81\n"
     ]
    },
    {
     "name": "stderr",
     "output_type": "stream",
     "text": [
      "Epoch 82/500: 100%|██████████| 90/90 [00:00<00:00, 328.45batch/s, train_mean_loss=13.015431]\n",
      "Epoch 82/500: 100%|██████████| 23/23 [00:00<00:00, 766.74batch/s, val_mean_loss=2.280746]\n"
     ]
    },
    {
     "name": "stdout",
     "output_type": "stream",
     "text": [
      "New Best Score: 0.5311547076530525, Epoch: 82\n"
     ]
    },
    {
     "name": "stderr",
     "output_type": "stream",
     "text": [
      "Epoch 83/500: 100%|██████████| 90/90 [00:00<00:00, 278.12batch/s, train_mean_loss=12.163112]\n",
      "Epoch 83/500: 100%|██████████| 23/23 [00:00<00:00, 740.86batch/s, val_mean_loss=2.280601]\n"
     ]
    },
    {
     "name": "stdout",
     "output_type": "stream",
     "text": [
      "New Best Score: 0.5319295178053032, Epoch: 83\n"
     ]
    },
    {
     "name": "stderr",
     "output_type": "stream",
     "text": [
      "Epoch 84/500: 100%|██████████| 90/90 [00:00<00:00, 303.00batch/s, train_mean_loss=11.818887]\n",
      "Epoch 84/500: 100%|██████████| 23/23 [00:00<00:00, 850.82batch/s, val_mean_loss=2.279069]\n"
     ]
    },
    {
     "name": "stdout",
     "output_type": "stream",
     "text": [
      "New Best Score: 0.5331154713143044, Epoch: 84\n"
     ]
    },
    {
     "name": "stderr",
     "output_type": "stream",
     "text": [
      "Epoch 85/500: 100%|██████████| 90/90 [00:00<00:00, 374.22batch/s, train_mean_loss=11.152017]\n",
      "Epoch 85/500: 100%|██████████| 23/23 [00:00<00:00, 802.13batch/s, val_mean_loss=2.278922]\n"
     ]
    },
    {
     "name": "stdout",
     "output_type": "stream",
     "text": [
      "New Best Score: 0.5342201172646862, Epoch: 85\n"
     ]
    },
    {
     "name": "stderr",
     "output_type": "stream",
     "text": [
      "Epoch 86/500: 100%|██████████| 90/90 [00:00<00:00, 357.17batch/s, train_mean_loss=10.591402]\n",
      "Epoch 86/500: 100%|██████████| 23/23 [00:00<00:00, 821.17batch/s, val_mean_loss=2.278717]\n"
     ]
    },
    {
     "name": "stdout",
     "output_type": "stream",
     "text": [
      "New Best Score: 0.5353132452106482, Epoch: 86\n"
     ]
    },
    {
     "name": "stderr",
     "output_type": "stream",
     "text": [
      "Epoch 87/500: 100%|██████████| 90/90 [00:00<00:00, 361.58batch/s, train_mean_loss=10.036789]\n",
      "Epoch 87/500: 100%|██████████| 23/23 [00:00<00:00, 851.85batch/s, val_mean_loss=2.278811]\n"
     ]
    },
    {
     "name": "stdout",
     "output_type": "stream",
     "text": [
      "New Best Score: 0.5360787243719344, Epoch: 87\n"
     ]
    },
    {
     "name": "stderr",
     "output_type": "stream",
     "text": [
      "Epoch 88/500: 100%|██████████| 90/90 [00:00<00:00, 365.99batch/s, train_mean_loss=9.376031]\n",
      "Epoch 88/500: 100%|██████████| 23/23 [00:00<00:00, 820.99batch/s, val_mean_loss=2.276497]\n"
     ]
    },
    {
     "name": "stdout",
     "output_type": "stream",
     "text": [
      "New Best Score: 0.5370179153086486, Epoch: 88\n"
     ]
    },
    {
     "name": "stderr",
     "output_type": "stream",
     "text": [
      "Epoch 89/500: 100%|██████████| 90/90 [00:00<00:00, 354.69batch/s, train_mean_loss=9.103715]\n",
      "Epoch 89/500: 100%|██████████| 23/23 [00:00<00:00, 919.80batch/s, val_mean_loss=2.275841]\n"
     ]
    },
    {
     "name": "stdout",
     "output_type": "stream",
     "text": [
      "New Best Score: 0.5379222741142428, Epoch: 89\n"
     ]
    },
    {
     "name": "stderr",
     "output_type": "stream",
     "text": [
      "Epoch 90/500: 100%|██████████| 90/90 [00:00<00:00, 370.46batch/s, train_mean_loss=8.580797]\n",
      "Epoch 90/500: 100%|██████████| 23/23 [00:00<00:00, 853.71batch/s, val_mean_loss=2.275644]\n"
     ]
    },
    {
     "name": "stdout",
     "output_type": "stream",
     "text": [
      "New Best Score: 0.5391067039864026, Epoch: 90\n"
     ]
    },
    {
     "name": "stderr",
     "output_type": "stream",
     "text": [
      "Epoch 91/500: 100%|██████████| 90/90 [00:00<00:00, 368.38batch/s, train_mean_loss=8.226022]\n",
      "Epoch 91/500: 100%|██████████| 23/23 [00:00<00:00, 821.45batch/s, val_mean_loss=2.275562]\n"
     ]
    },
    {
     "name": "stdout",
     "output_type": "stream",
     "text": [
      "New Best Score: 0.5401814559177691, Epoch: 91\n"
     ]
    },
    {
     "name": "stderr",
     "output_type": "stream",
     "text": [
      "Epoch 92/500: 100%|██████████| 90/90 [00:00<00:00, 329.53batch/s, train_mean_loss=7.882461]\n",
      "Epoch 92/500: 100%|██████████| 23/23 [00:00<00:00, 767.85batch/s, val_mean_loss=2.276509]\n"
     ]
    },
    {
     "name": "stdout",
     "output_type": "stream",
     "text": [
      "New Best Score: 0.5415357482020414, Epoch: 92\n"
     ]
    },
    {
     "name": "stderr",
     "output_type": "stream",
     "text": [
      "Epoch 93/500: 100%|██████████| 90/90 [00:00<00:00, 359.36batch/s, train_mean_loss=7.535202]\n",
      "Epoch 93/500: 100%|██████████| 23/23 [00:00<00:00, 821.30batch/s, val_mean_loss=2.272846]\n"
     ]
    },
    {
     "name": "stdout",
     "output_type": "stream",
     "text": [
      "New Best Score: 0.5419030991851008, Epoch: 93\n"
     ]
    },
    {
     "name": "stderr",
     "output_type": "stream",
     "text": [
      "Epoch 94/500: 100%|██████████| 90/90 [00:00<00:00, 348.82batch/s, train_mean_loss=7.233530]\n",
      "Epoch 94/500: 100%|██████████| 23/23 [00:00<00:00, 793.21batch/s, val_mean_loss=2.274034]\n"
     ]
    },
    {
     "name": "stdout",
     "output_type": "stream",
     "text": [
      "New Best Score: 0.5436134653642192, Epoch: 94\n"
     ]
    },
    {
     "name": "stderr",
     "output_type": "stream",
     "text": [
      "Epoch 95/500: 100%|██████████| 90/90 [00:00<00:00, 340.85batch/s, train_mean_loss=6.789200]\n",
      "Epoch 95/500: 100%|██████████| 23/23 [00:00<00:00, 743.82batch/s, val_mean_loss=2.271780]\n"
     ]
    },
    {
     "name": "stdout",
     "output_type": "stream",
     "text": [
      "New Best Score: 0.5442241514991238, Epoch: 95\n"
     ]
    },
    {
     "name": "stderr",
     "output_type": "stream",
     "text": [
      "Epoch 96/500: 100%|██████████| 90/90 [00:00<00:00, 352.82batch/s, train_mean_loss=6.467590]\n",
      "Epoch 96/500: 100%|██████████| 23/23 [00:00<00:00, 791.93batch/s, val_mean_loss=2.272602]\n"
     ]
    },
    {
     "name": "stdout",
     "output_type": "stream",
     "text": [
      "New Best Score: 0.5457423283742459, Epoch: 96\n"
     ]
    },
    {
     "name": "stderr",
     "output_type": "stream",
     "text": [
      "Epoch 97/500: 100%|██████████| 90/90 [00:00<00:00, 336.99batch/s, train_mean_loss=6.164378]\n",
      "Epoch 97/500: 100%|██████████| 23/23 [00:00<00:00, 766.67batch/s, val_mean_loss=2.273840]\n"
     ]
    },
    {
     "name": "stdout",
     "output_type": "stream",
     "text": [
      "New Best Score: 0.5472539043592721, Epoch: 97\n"
     ]
    },
    {
     "name": "stderr",
     "output_type": "stream",
     "text": [
      "Epoch 98/500: 100%|██████████| 90/90 [00:00<00:00, 362.75batch/s, train_mean_loss=5.922527]\n",
      "Epoch 98/500: 100%|██████████| 23/23 [00:00<00:00, 853.16batch/s, val_mean_loss=2.271958]\n"
     ]
    },
    {
     "name": "stdout",
     "output_type": "stream",
     "text": [
      "New Best Score: 0.5483568878474286, Epoch: 98\n"
     ]
    },
    {
     "name": "stderr",
     "output_type": "stream",
     "text": [
      "Epoch 99/500: 100%|██████████| 90/90 [00:00<00:00, 344.91batch/s, train_mean_loss=5.809482]\n",
      "Epoch 99/500: 100%|██████████| 23/23 [00:00<00:00, 766.48batch/s, val_mean_loss=2.274528]\n"
     ]
    },
    {
     "name": "stdout",
     "output_type": "stream",
     "text": [
      "New Best Score: 0.5502767700871867, Epoch: 99\n"
     ]
    },
    {
     "name": "stderr",
     "output_type": "stream",
     "text": [
      "Epoch 100/500: 100%|██████████| 90/90 [00:00<00:00, 332.58batch/s, train_mean_loss=5.553316]\n",
      "Epoch 100/500: 100%|██████████| 23/23 [00:00<00:00, 740.75batch/s, val_mean_loss=2.268374]\n"
     ]
    },
    {
     "name": "stdout",
     "output_type": "stream",
     "text": [
      "New Best Score: 0.5506859357043371, Epoch: 100\n"
     ]
    },
    {
     "name": "stderr",
     "output_type": "stream",
     "text": [
      "Epoch 101/500: 100%|██████████| 90/90 [00:00<00:00, 343.36batch/s, train_mean_loss=5.195648]\n",
      "Epoch 101/500: 100%|██████████| 23/23 [00:00<00:00, 741.74batch/s, val_mean_loss=2.270800]\n"
     ]
    },
    {
     "name": "stdout",
     "output_type": "stream",
     "text": [
      "New Best Score: 0.5527556192530705, Epoch: 101\n"
     ]
    },
    {
     "name": "stderr",
     "output_type": "stream",
     "text": [
      "Epoch 102/500: 100%|██████████| 90/90 [00:00<00:00, 359.93batch/s, train_mean_loss=5.124877]\n",
      "Epoch 102/500: 100%|██████████| 23/23 [00:00<00:00, 920.15batch/s, val_mean_loss=2.271765]\n"
     ]
    },
    {
     "name": "stdout",
     "output_type": "stream",
     "text": [
      "New Best Score: 0.5543023155282025, Epoch: 102\n"
     ]
    },
    {
     "name": "stderr",
     "output_type": "stream",
     "text": [
      "Epoch 103/500: 100%|██████████| 90/90 [00:00<00:00, 357.13batch/s, train_mean_loss=4.925712]\n",
      "Epoch 103/500: 100%|██████████| 23/23 [00:00<00:00, 793.96batch/s, val_mean_loss=2.273717]\n"
     ]
    },
    {
     "name": "stdout",
     "output_type": "stream",
     "text": [
      "New Best Score: 0.5556950629112544, Epoch: 103\n"
     ]
    },
    {
     "name": "stderr",
     "output_type": "stream",
     "text": [
      "Epoch 104/500: 100%|██████████| 90/90 [00:00<00:00, 281.54batch/s, train_mean_loss=4.681155]\n",
      "Epoch 104/500: 100%|██████████| 23/23 [00:00<00:00, 742.26batch/s, val_mean_loss=2.274665]\n"
     ]
    },
    {
     "name": "stdout",
     "output_type": "stream",
     "text": [
      "New Best Score: 0.5571018367631901, Epoch: 104\n"
     ]
    },
    {
     "name": "stderr",
     "output_type": "stream",
     "text": [
      "Epoch 105/500: 100%|██████████| 90/90 [00:00<00:00, 273.56batch/s, train_mean_loss=4.524290]\n",
      "Epoch 105/500: 100%|██████████| 23/23 [00:00<00:00, 793.81batch/s, val_mean_loss=2.274711]\n"
     ]
    },
    {
     "name": "stdout",
     "output_type": "stream",
     "text": [
      "New Best Score: 0.5584494997574414, Epoch: 105\n"
     ]
    },
    {
     "name": "stderr",
     "output_type": "stream",
     "text": [
      "Epoch 106/500: 100%|██████████| 90/90 [00:00<00:00, 293.72batch/s, train_mean_loss=4.414281]\n",
      "Epoch 106/500: 100%|██████████| 23/23 [00:00<00:00, 767.38batch/s, val_mean_loss=2.275932]\n"
     ]
    },
    {
     "name": "stdout",
     "output_type": "stream",
     "text": [
      "New Best Score: 0.5598447174466963, Epoch: 106\n"
     ]
    },
    {
     "name": "stderr",
     "output_type": "stream",
     "text": [
      "Epoch 107/500: 100%|██████████| 90/90 [00:00<00:00, 365.89batch/s, train_mean_loss=4.258481]\n",
      "Epoch 107/500: 100%|██████████| 23/23 [00:00<00:00, 821.23batch/s, val_mean_loss=2.273707]\n"
     ]
    },
    {
     "name": "stdout",
     "output_type": "stream",
     "text": [
      "New Best Score: 0.5608356665283143, Epoch: 107\n"
     ]
    },
    {
     "name": "stderr",
     "output_type": "stream",
     "text": [
      "Epoch 108/500: 100%|██████████| 90/90 [00:00<00:00, 363.86batch/s, train_mean_loss=4.118826]\n",
      "Epoch 108/500: 100%|██████████| 23/23 [00:00<00:00, 744.12batch/s, val_mean_loss=2.275197]\n"
     ]
    },
    {
     "name": "stdout",
     "output_type": "stream",
     "text": [
      "New Best Score: 0.562357727605125, Epoch: 108\n"
     ]
    },
    {
     "name": "stderr",
     "output_type": "stream",
     "text": [
      "Epoch 109/500: 100%|██████████| 90/90 [00:00<00:00, 370.25batch/s, train_mean_loss=4.066800]\n",
      "Epoch 109/500: 100%|██████████| 23/23 [00:00<00:00, 766.75batch/s, val_mean_loss=2.282548]\n"
     ]
    },
    {
     "name": "stdout",
     "output_type": "stream",
     "text": [
      "New Best Score: 0.5646084815520978, Epoch: 109\n"
     ]
    },
    {
     "name": "stderr",
     "output_type": "stream",
     "text": [
      "Epoch 110/500: 100%|██████████| 90/90 [00:00<00:00, 269.49batch/s, train_mean_loss=3.944426]\n",
      "Epoch 110/500: 100%|██████████| 23/23 [00:00<00:00, 793.27batch/s, val_mean_loss=2.276248]\n"
     ]
    },
    {
     "name": "stdout",
     "output_type": "stream",
     "text": [
      "New Best Score: 0.5652807218291489, Epoch: 110\n"
     ]
    },
    {
     "name": "stderr",
     "output_type": "stream",
     "text": [
      "Epoch 111/500: 100%|██████████| 90/90 [00:00<00:00, 357.14batch/s, train_mean_loss=3.776370]\n",
      "Epoch 111/500: 100%|██████████| 23/23 [00:00<00:00, 790.50batch/s, val_mean_loss=2.287837]\n"
     ]
    },
    {
     "name": "stdout",
     "output_type": "stream",
     "text": [
      "New Best Score: 0.5676462632889148, Epoch: 111\n"
     ]
    },
    {
     "name": "stderr",
     "output_type": "stream",
     "text": [
      "Epoch 112/500: 100%|██████████| 90/90 [00:00<00:00, 352.87batch/s, train_mean_loss=3.683869]\n",
      "Epoch 112/500: 100%|██████████| 23/23 [00:00<00:00, 851.20batch/s, val_mean_loss=2.283980]\n"
     ]
    },
    {
     "name": "stdout",
     "output_type": "stream",
     "text": [
      "New Best Score: 0.5684780076373432, Epoch: 112\n"
     ]
    },
    {
     "name": "stderr",
     "output_type": "stream",
     "text": [
      "Epoch 113/500: 100%|██████████| 90/90 [00:00<00:00, 324.95batch/s, train_mean_loss=3.564706]\n",
      "Epoch 113/500: 100%|██████████| 23/23 [00:00<00:00, 742.00batch/s, val_mean_loss=2.284361]\n"
     ]
    },
    {
     "name": "stdout",
     "output_type": "stream",
     "text": [
      "New Best Score: 0.5696676804539668, Epoch: 113\n"
     ]
    },
    {
     "name": "stderr",
     "output_type": "stream",
     "text": [
      "Epoch 114/500: 100%|██████████| 90/90 [00:00<00:00, 326.21batch/s, train_mean_loss=3.545477]\n",
      "Epoch 114/500: 100%|██████████| 23/23 [00:00<00:00, 793.53batch/s, val_mean_loss=2.298313]\n"
     ]
    },
    {
     "name": "stdout",
     "output_type": "stream",
     "text": [
      "New Best Score: 0.5725565092714072, Epoch: 114\n"
     ]
    },
    {
     "name": "stderr",
     "output_type": "stream",
     "text": [
      "Epoch 115/500: 100%|██████████| 90/90 [00:00<00:00, 351.11batch/s, train_mean_loss=3.374090]\n",
      "Epoch 115/500: 100%|██████████| 23/23 [00:00<00:00, 821.31batch/s, val_mean_loss=2.294222]\n"
     ]
    },
    {
     "name": "stdout",
     "output_type": "stream",
     "text": [
      "New Best Score: 0.5734208597783453, Epoch: 115\n"
     ]
    },
    {
     "name": "stderr",
     "output_type": "stream",
     "text": [
      "Epoch 116/500: 100%|██████████| 90/90 [00:00<00:00, 347.50batch/s, train_mean_loss=3.321014]\n",
      "Epoch 116/500: 100%|██████████| 23/23 [00:00<00:00, 792.87batch/s, val_mean_loss=2.296470]\n"
     ]
    },
    {
     "name": "stdout",
     "output_type": "stream",
     "text": [
      "New Best Score: 0.5748605286025142, Epoch: 116\n"
     ]
    },
    {
     "name": "stderr",
     "output_type": "stream",
     "text": [
      "Epoch 117/500: 100%|██████████| 90/90 [00:00<00:00, 343.42batch/s, train_mean_loss=3.221559]\n",
      "Epoch 117/500: 100%|██████████| 23/23 [00:00<00:00, 768.10batch/s, val_mean_loss=2.299288]\n"
     ]
    },
    {
     "name": "stdout",
     "output_type": "stream",
     "text": [
      "New Best Score: 0.5762685180537147, Epoch: 117\n"
     ]
    },
    {
     "name": "stderr",
     "output_type": "stream",
     "text": [
      "Epoch 118/500: 100%|██████████| 90/90 [00:00<00:00, 344.80batch/s, train_mean_loss=3.175593]\n",
      "Epoch 118/500: 100%|██████████| 23/23 [00:00<00:00, 739.90batch/s, val_mean_loss=2.306924]\n"
     ]
    },
    {
     "name": "stdout",
     "output_type": "stream",
     "text": [
      "New Best Score: 0.5778373568787983, Epoch: 118\n"
     ]
    },
    {
     "name": "stderr",
     "output_type": "stream",
     "text": [
      "Epoch 119/500: 100%|██████████| 90/90 [00:00<00:00, 329.75batch/s, train_mean_loss=3.113419]\n",
      "Epoch 119/500: 100%|██████████| 23/23 [00:00<00:00, 792.63batch/s, val_mean_loss=2.305667]\n"
     ]
    },
    {
     "name": "stdout",
     "output_type": "stream",
     "text": [
      "New Best Score: 0.5785847254054283, Epoch: 119\n"
     ]
    },
    {
     "name": "stderr",
     "output_type": "stream",
     "text": [
      "Epoch 120/500: 100%|██████████| 90/90 [00:00<00:00, 346.09batch/s, train_mean_loss=3.046344]\n",
      "Epoch 120/500: 100%|██████████| 23/23 [00:00<00:00, 823.04batch/s, val_mean_loss=2.306386]\n"
     ]
    },
    {
     "name": "stdout",
     "output_type": "stream",
     "text": [
      "New Best Score: 0.5796689918130763, Epoch: 120\n"
     ]
    },
    {
     "name": "stderr",
     "output_type": "stream",
     "text": [
      "Epoch 121/500: 100%|██████████| 90/90 [00:00<00:00, 260.12batch/s, train_mean_loss=2.994155]\n",
      "Epoch 121/500: 100%|██████████| 23/23 [00:00<00:00, 852.98batch/s, val_mean_loss=2.311418]\n"
     ]
    },
    {
     "name": "stdout",
     "output_type": "stream",
     "text": [
      "New Best Score: 0.5810601042743774, Epoch: 121\n"
     ]
    },
    {
     "name": "stderr",
     "output_type": "stream",
     "text": [
      "Epoch 122/500: 100%|██████████| 90/90 [00:00<00:00, 258.69batch/s, train_mean_loss=2.925680]\n",
      "Epoch 122/500: 100%|██████████| 23/23 [00:00<00:00, 719.09batch/s, val_mean_loss=2.319509]\n"
     ]
    },
    {
     "name": "stdout",
     "output_type": "stream",
     "text": [
      "New Best Score: 0.5827215354084153, Epoch: 122\n"
     ]
    },
    {
     "name": "stderr",
     "output_type": "stream",
     "text": [
      "Epoch 123/500: 100%|██████████| 90/90 [00:00<00:00, 269.67batch/s, train_mean_loss=2.873646]\n",
      "Epoch 123/500: 100%|██████████| 23/23 [00:00<00:00, 751.14batch/s, val_mean_loss=2.324453]\n"
     ]
    },
    {
     "name": "stdout",
     "output_type": "stream",
     "text": [
      "New Best Score: 0.5840801826014559, Epoch: 123\n"
     ]
    },
    {
     "name": "stderr",
     "output_type": "stream",
     "text": [
      "Epoch 124/500: 100%|██████████| 90/90 [00:00<00:00, 283.03batch/s, train_mean_loss=2.866469]\n",
      "Epoch 124/500: 100%|██████████| 23/23 [00:00<00:00, 743.68batch/s, val_mean_loss=2.335286]\n"
     ]
    },
    {
     "name": "stdout",
     "output_type": "stream",
     "text": [
      "New Best Score: 0.5856368885469282, Epoch: 124\n"
     ]
    },
    {
     "name": "stderr",
     "output_type": "stream",
     "text": [
      "Epoch 125/500: 100%|██████████| 90/90 [00:00<00:00, 359.94batch/s, train_mean_loss=2.791789]\n",
      "Epoch 125/500: 100%|██████████| 23/23 [00:00<00:00, 765.13batch/s, val_mean_loss=2.327364]\n"
     ]
    },
    {
     "name": "stdout",
     "output_type": "stream",
     "text": [
      "New Best Score: 0.5861816750278747, Epoch: 125\n"
     ]
    },
    {
     "name": "stderr",
     "output_type": "stream",
     "text": [
      "Epoch 126/500: 100%|██████████| 90/90 [00:00<00:00, 360.25batch/s, train_mean_loss=2.759136]\n",
      "Epoch 126/500: 100%|██████████| 23/23 [00:00<00:00, 741.82batch/s, val_mean_loss=2.338703]\n"
     ]
    },
    {
     "name": "stdout",
     "output_type": "stream",
     "text": [
      "New Best Score: 0.5875400340998779, Epoch: 126\n"
     ]
    },
    {
     "name": "stderr",
     "output_type": "stream",
     "text": [
      "Epoch 127/500: 100%|██████████| 90/90 [00:00<00:00, 346.13batch/s, train_mean_loss=2.735636]\n",
      "Epoch 127/500: 100%|██████████| 23/23 [00:00<00:00, 740.86batch/s, val_mean_loss=2.346555]\n"
     ]
    },
    {
     "name": "stdout",
     "output_type": "stream",
     "text": [
      "New Best Score: 0.589006404887703, Epoch: 127\n"
     ]
    },
    {
     "name": "stderr",
     "output_type": "stream",
     "text": [
      "Epoch 128/500: 100%|██████████| 90/90 [00:00<00:00, 379.86batch/s, train_mean_loss=2.703337]\n",
      "Epoch 128/500: 100%|██████████| 23/23 [00:00<00:00, 793.16batch/s, val_mean_loss=2.355648]\n"
     ]
    },
    {
     "name": "stdout",
     "output_type": "stream",
     "text": [
      "New Best Score: 0.5904552832264782, Epoch: 128\n"
     ]
    },
    {
     "name": "stderr",
     "output_type": "stream",
     "text": [
      "Epoch 129/500: 100%|██████████| 90/90 [00:00<00:00, 363.16batch/s, train_mean_loss=2.690929]\n",
      "Epoch 129/500: 100%|██████████| 23/23 [00:00<00:00, 962.13batch/s, val_mean_loss=2.353649]\n"
     ]
    },
    {
     "name": "stdout",
     "output_type": "stream",
     "text": [
      "New Best Score: 0.5918207205944265, Epoch: 129\n"
     ]
    },
    {
     "name": "stderr",
     "output_type": "stream",
     "text": [
      "Epoch 130/500: 100%|██████████| 90/90 [00:00<00:00, 344.80batch/s, train_mean_loss=2.629289]\n",
      "Epoch 130/500: 100%|██████████| 23/23 [00:00<00:00, 884.78batch/s, val_mean_loss=2.367813]\n"
     ]
    },
    {
     "name": "stdout",
     "output_type": "stream",
     "text": [
      "New Best Score: 0.5935333144967913, Epoch: 130\n"
     ]
    },
    {
     "name": "stderr",
     "output_type": "stream",
     "text": [
      "Epoch 131/500: 100%|██████████| 90/90 [00:00<00:00, 341.36batch/s, train_mean_loss=2.616844]\n",
      "Epoch 131/500: 100%|██████████| 23/23 [00:00<00:00, 820.31batch/s, val_mean_loss=2.369394]\n"
     ]
    },
    {
     "name": "stdout",
     "output_type": "stream",
     "text": [
      "New Best Score: 0.5950310629612098, Epoch: 131\n"
     ]
    },
    {
     "name": "stderr",
     "output_type": "stream",
     "text": [
      "Epoch 132/500: 100%|██████████| 90/90 [00:00<00:00, 346.90batch/s, train_mean_loss=2.568647]\n",
      "Epoch 132/500: 100%|██████████| 23/23 [00:00<00:00, 777.51batch/s, val_mean_loss=2.371561]\n"
     ]
    },
    {
     "name": "stdout",
     "output_type": "stream",
     "text": [
      "New Best Score: 0.5962948151862105, Epoch: 132\n"
     ]
    },
    {
     "name": "stderr",
     "output_type": "stream",
     "text": [
      "Epoch 133/500: 100%|██████████| 90/90 [00:00<00:00, 337.12batch/s, train_mean_loss=2.555082]\n",
      "Epoch 133/500: 100%|██████████| 23/23 [00:00<00:00, 675.71batch/s, val_mean_loss=2.377915]\n"
     ]
    },
    {
     "name": "stdout",
     "output_type": "stream",
     "text": [
      "New Best Score: 0.5977541353859335, Epoch: 133\n"
     ]
    },
    {
     "name": "stderr",
     "output_type": "stream",
     "text": [
      "Epoch 134/500: 100%|██████████| 90/90 [00:00<00:00, 353.05batch/s, train_mean_loss=2.537677]\n",
      "Epoch 134/500: 100%|██████████| 23/23 [00:00<00:00, 718.55batch/s, val_mean_loss=2.384565]\n"
     ]
    },
    {
     "name": "stdout",
     "output_type": "stream",
     "text": [
      "New Best Score: 0.5990047080618811, Epoch: 134\n"
     ]
    },
    {
     "name": "stderr",
     "output_type": "stream",
     "text": [
      "Epoch 135/500: 100%|██████████| 90/90 [00:00<00:00, 336.26batch/s, train_mean_loss=2.502542]\n",
      "Epoch 135/500: 100%|██████████| 23/23 [00:00<00:00, 694.78batch/s, val_mean_loss=2.386989]\n"
     ]
    },
    {
     "name": "stdout",
     "output_type": "stream",
     "text": [
      "New Best Score: 0.6004173284396701, Epoch: 135\n"
     ]
    },
    {
     "name": "stderr",
     "output_type": "stream",
     "text": [
      "Epoch 136/500: 100%|██████████| 90/90 [00:00<00:00, 348.72batch/s, train_mean_loss=2.505585]\n",
      "Epoch 136/500: 100%|██████████| 23/23 [00:00<00:00, 742.97batch/s, val_mean_loss=2.391670]\n"
     ]
    },
    {
     "name": "stdout",
     "output_type": "stream",
     "text": [
      "New Best Score: 0.6018565394347605, Epoch: 136\n"
     ]
    },
    {
     "name": "stderr",
     "output_type": "stream",
     "text": [
      "Epoch 137/500: 100%|██████████| 90/90 [00:00<00:00, 343.46batch/s, train_mean_loss=2.468055]\n",
      "Epoch 137/500: 100%|██████████| 23/23 [00:00<00:00, 822.03batch/s, val_mean_loss=2.394451]\n"
     ]
    },
    {
     "name": "stdout",
     "output_type": "stream",
     "text": [
      "New Best Score: 0.6035291027267216, Epoch: 137\n"
     ]
    },
    {
     "name": "stderr",
     "output_type": "stream",
     "text": [
      "Epoch 138/500: 100%|██████████| 90/90 [00:00<00:00, 342.18batch/s, train_mean_loss=2.458129]\n",
      "Epoch 138/500: 100%|██████████| 23/23 [00:00<00:00, 765.72batch/s, val_mean_loss=2.395330]\n"
     ]
    },
    {
     "name": "stdout",
     "output_type": "stream",
     "text": [
      "New Best Score: 0.6051501166110269, Epoch: 138\n"
     ]
    },
    {
     "name": "stderr",
     "output_type": "stream",
     "text": [
      "Epoch 139/500: 100%|██████████| 90/90 [00:00<00:00, 345.60batch/s, train_mean_loss=2.444825]\n",
      "Epoch 139/500: 100%|██████████| 23/23 [00:00<00:00, 696.93batch/s, val_mean_loss=2.396160]\n"
     ]
    },
    {
     "name": "stdout",
     "output_type": "stream",
     "text": [
      "New Best Score: 0.6065222480871877, Epoch: 139\n"
     ]
    },
    {
     "name": "stderr",
     "output_type": "stream",
     "text": [
      "Epoch 140/500: 100%|██████████| 90/90 [00:00<00:00, 346.05batch/s, train_mean_loss=2.412375]\n",
      "Epoch 140/500: 100%|██████████| 23/23 [00:00<00:00, 740.79batch/s, val_mean_loss=2.399093]\n"
     ]
    },
    {
     "name": "stdout",
     "output_type": "stream",
     "text": [
      "New Best Score: 0.6082484380013508, Epoch: 140\n"
     ]
    },
    {
     "name": "stderr",
     "output_type": "stream",
     "text": [
      "Epoch 141/500: 100%|██████████| 90/90 [00:00<00:00, 336.28batch/s, train_mean_loss=2.407717]\n",
      "Epoch 141/500: 100%|██████████| 23/23 [00:00<00:00, 742.77batch/s, val_mean_loss=2.406261]\n"
     ]
    },
    {
     "name": "stdout",
     "output_type": "stream",
     "text": [
      "New Best Score: 0.6097067984415184, Epoch: 141\n"
     ]
    },
    {
     "name": "stderr",
     "output_type": "stream",
     "text": [
      "Epoch 142/500: 100%|██████████| 90/90 [00:00<00:00, 265.51batch/s, train_mean_loss=2.399695]\n",
      "Epoch 142/500: 100%|██████████| 23/23 [00:00<00:00, 821.51batch/s, val_mean_loss=2.402141]\n"
     ]
    },
    {
     "name": "stdout",
     "output_type": "stream",
     "text": [
      "New Best Score: 0.6117520088989873, Epoch: 142\n"
     ]
    },
    {
     "name": "stderr",
     "output_type": "stream",
     "text": [
      "Epoch 143/500: 100%|██████████| 90/90 [00:00<00:00, 270.92batch/s, train_mean_loss=2.370368]\n",
      "Epoch 143/500: 100%|██████████| 23/23 [00:00<00:00, 766.71batch/s, val_mean_loss=2.408270]\n"
     ]
    },
    {
     "name": "stdout",
     "output_type": "stream",
     "text": [
      "New Best Score: 0.6131857368024124, Epoch: 143\n"
     ]
    },
    {
     "name": "stderr",
     "output_type": "stream",
     "text": [
      "Epoch 144/500: 100%|██████████| 90/90 [00:00<00:00, 298.60batch/s, train_mean_loss=2.370828]\n",
      "Epoch 144/500: 100%|██████████| 23/23 [00:00<00:00, 851.58batch/s, val_mean_loss=2.406259]\n"
     ]
    },
    {
     "name": "stdout",
     "output_type": "stream",
     "text": [
      "New Best Score: 0.6148389168832873, Epoch: 144\n"
     ]
    },
    {
     "name": "stderr",
     "output_type": "stream",
     "text": [
      "Epoch 145/500: 100%|██████████| 90/90 [00:00<00:00, 361.97batch/s, train_mean_loss=2.357670]\n",
      "Epoch 145/500: 100%|██████████| 23/23 [00:00<00:00, 919.01batch/s, val_mean_loss=2.411010]\n"
     ]
    },
    {
     "name": "stdout",
     "output_type": "stream",
     "text": [
      "New Best Score: 0.6161537806117572, Epoch: 145\n"
     ]
    },
    {
     "name": "stderr",
     "output_type": "stream",
     "text": [
      "Epoch 146/500: 100%|██████████| 90/90 [00:00<00:00, 367.31batch/s, train_mean_loss=2.346545]\n",
      "Epoch 146/500: 100%|██████████| 23/23 [00:00<00:00, 767.07batch/s, val_mean_loss=2.414097]\n"
     ]
    },
    {
     "name": "stdout",
     "output_type": "stream",
     "text": [
      "New Best Score: 0.6172470745784651, Epoch: 146\n"
     ]
    },
    {
     "name": "stderr",
     "output_type": "stream",
     "text": [
      "Epoch 147/500: 100%|██████████| 90/90 [00:00<00:00, 352.16batch/s, train_mean_loss=2.321196]\n",
      "Epoch 147/500: 100%|██████████| 23/23 [00:00<00:00, 854.00batch/s, val_mean_loss=2.411519]\n"
     ]
    },
    {
     "name": "stdout",
     "output_type": "stream",
     "text": [
      "New Best Score: 0.6183284025436969, Epoch: 147\n"
     ]
    },
    {
     "name": "stderr",
     "output_type": "stream",
     "text": [
      "Epoch 148/500: 100%|██████████| 90/90 [00:00<00:00, 347.55batch/s, train_mean_loss=2.328519]\n",
      "Epoch 148/500: 100%|██████████| 23/23 [00:00<00:00, 793.91batch/s, val_mean_loss=2.409663]\n"
     ]
    },
    {
     "name": "stdout",
     "output_type": "stream",
     "text": [
      "New Best Score: 0.620073438807971, Epoch: 148\n"
     ]
    },
    {
     "name": "stderr",
     "output_type": "stream",
     "text": [
      "Epoch 149/500: 100%|██████████| 90/90 [00:00<00:00, 357.26batch/s, train_mean_loss=2.314041]\n",
      "Epoch 149/500: 100%|██████████| 23/23 [00:00<00:00, 821.16batch/s, val_mean_loss=2.401010]\n"
     ]
    },
    {
     "name": "stdout",
     "output_type": "stream",
     "text": [
      "New Best Score: 0.6216214351953603, Epoch: 149\n"
     ]
    },
    {
     "name": "stderr",
     "output_type": "stream",
     "text": [
      "Epoch 150/500: 100%|██████████| 90/90 [00:00<00:00, 347.79batch/s, train_mean_loss=2.301822]\n",
      "Epoch 150/500: 100%|██████████| 23/23 [00:00<00:00, 768.97batch/s, val_mean_loss=2.402721]\n"
     ]
    },
    {
     "name": "stdout",
     "output_type": "stream",
     "text": [
      "New Best Score: 0.622610090962164, Epoch: 150\n"
     ]
    },
    {
     "name": "stderr",
     "output_type": "stream",
     "text": [
      "Epoch 151/500: 100%|██████████| 90/90 [00:00<00:00, 344.84batch/s, train_mean_loss=2.298482]\n",
      "Epoch 151/500: 100%|██████████| 23/23 [00:00<00:00, 743.14batch/s, val_mean_loss=2.397113]\n"
     ]
    },
    {
     "name": "stdout",
     "output_type": "stream",
     "text": [
      "New Best Score: 0.6239664120219163, Epoch: 151\n"
     ]
    },
    {
     "name": "stderr",
     "output_type": "stream",
     "text": [
      "Epoch 152/500: 100%|██████████| 90/90 [00:00<00:00, 271.70batch/s, train_mean_loss=2.293847]\n",
      "Epoch 152/500: 100%|██████████| 23/23 [00:00<00:00, 589.75batch/s, val_mean_loss=2.399711]\n"
     ]
    },
    {
     "name": "stdout",
     "output_type": "stream",
     "text": [
      "New Best Score: 0.6249603277720647, Epoch: 152\n"
     ]
    },
    {
     "name": "stderr",
     "output_type": "stream",
     "text": [
      "Epoch 153/500: 100%|██████████| 90/90 [00:00<00:00, 332.20batch/s, train_mean_loss=2.276582]\n",
      "Epoch 153/500: 100%|██████████| 23/23 [00:00<00:00, 821.01batch/s, val_mean_loss=2.397228]\n"
     ]
    },
    {
     "name": "stdout",
     "output_type": "stream",
     "text": [
      "New Best Score: 0.6257411765864533, Epoch: 153\n"
     ]
    },
    {
     "name": "stderr",
     "output_type": "stream",
     "text": [
      "Epoch 154/500: 100%|██████████| 90/90 [00:00<00:00, 270.20batch/s, train_mean_loss=2.276365]\n",
      "Epoch 154/500: 100%|██████████| 23/23 [00:00<00:00, 741.46batch/s, val_mean_loss=2.392360]\n"
     ]
    },
    {
     "name": "stdout",
     "output_type": "stream",
     "text": [
      "New Best Score: 0.6268186998284508, Epoch: 154\n"
     ]
    },
    {
     "name": "stderr",
     "output_type": "stream",
     "text": [
      "Epoch 155/500: 100%|██████████| 90/90 [00:00<00:00, 235.16batch/s, train_mean_loss=2.257562]\n",
      "Epoch 155/500: 100%|██████████| 23/23 [00:00<00:00, 794.36batch/s, val_mean_loss=2.386924]\n"
     ]
    },
    {
     "name": "stdout",
     "output_type": "stream",
     "text": [
      "New Best Score: 0.6275824601071677, Epoch: 155\n"
     ]
    },
    {
     "name": "stderr",
     "output_type": "stream",
     "text": [
      "Epoch 156/500: 100%|██████████| 90/90 [00:00<00:00, 271.88batch/s, train_mean_loss=2.249123]\n",
      "Epoch 156/500: 100%|██████████| 23/23 [00:00<00:00, 792.06batch/s, val_mean_loss=2.380486]\n"
     ]
    },
    {
     "name": "stdout",
     "output_type": "stream",
     "text": [
      "New Best Score: 0.6284890638001386, Epoch: 156\n"
     ]
    },
    {
     "name": "stderr",
     "output_type": "stream",
     "text": [
      "Epoch 157/500: 100%|██████████| 90/90 [00:00<00:00, 279.22batch/s, train_mean_loss=2.244674]\n",
      "Epoch 157/500: 100%|██████████| 23/23 [00:00<00:00, 753.73batch/s, val_mean_loss=2.380214]\n"
     ]
    },
    {
     "name": "stdout",
     "output_type": "stream",
     "text": [
      "New Best Score: 0.6290403955189999, Epoch: 157\n"
     ]
    },
    {
     "name": "stderr",
     "output_type": "stream",
     "text": [
      "Epoch 158/500: 100%|██████████| 90/90 [00:00<00:00, 344.84batch/s, train_mean_loss=2.232035]\n",
      "Epoch 158/500: 100%|██████████| 23/23 [00:00<00:00, 766.87batch/s, val_mean_loss=2.369652]\n"
     ]
    },
    {
     "name": "stdout",
     "output_type": "stream",
     "text": [
      "New Best Score: 0.6301644607775279, Epoch: 158\n"
     ]
    },
    {
     "name": "stderr",
     "output_type": "stream",
     "text": [
      "Epoch 159/500: 100%|██████████| 90/90 [00:00<00:00, 348.28batch/s, train_mean_loss=2.230409]\n",
      "Epoch 159/500: 100%|██████████| 23/23 [00:00<00:00, 796.01batch/s, val_mean_loss=2.364712]\n"
     ]
    },
    {
     "name": "stdout",
     "output_type": "stream",
     "text": [
      "New Best Score: 0.6308598071099957, Epoch: 159\n"
     ]
    },
    {
     "name": "stderr",
     "output_type": "stream",
     "text": [
      "Epoch 160/500: 100%|██████████| 90/90 [00:00<00:00, 343.98batch/s, train_mean_loss=2.225100]\n",
      "Epoch 160/500: 100%|██████████| 23/23 [00:00<00:00, 726.02batch/s, val_mean_loss=2.361569]\n"
     ]
    },
    {
     "name": "stdout",
     "output_type": "stream",
     "text": [
      "New Best Score: 0.6315810578687518, Epoch: 160\n"
     ]
    },
    {
     "name": "stderr",
     "output_type": "stream",
     "text": [
      "Epoch 161/500: 100%|██████████| 90/90 [00:00<00:00, 347.66batch/s, train_mean_loss=2.202823]\n",
      "Epoch 161/500: 100%|██████████| 23/23 [00:00<00:00, 851.75batch/s, val_mean_loss=2.351217]\n"
     ]
    },
    {
     "name": "stdout",
     "output_type": "stream",
     "text": [
      "New Best Score: 0.6324986833269185, Epoch: 161\n"
     ]
    },
    {
     "name": "stderr",
     "output_type": "stream",
     "text": [
      "Epoch 162/500: 100%|██████████| 90/90 [00:00<00:00, 355.81batch/s, train_mean_loss=2.207975]\n",
      "Epoch 162/500: 100%|██████████| 23/23 [00:00<00:00, 793.21batch/s, val_mean_loss=2.343057]\n"
     ]
    },
    {
     "name": "stdout",
     "output_type": "stream",
     "text": [
      "New Best Score: 0.6333068327529568, Epoch: 162\n"
     ]
    },
    {
     "name": "stderr",
     "output_type": "stream",
     "text": [
      "Epoch 163/500: 100%|██████████| 90/90 [00:00<00:00, 357.78batch/s, train_mean_loss=2.186552]\n",
      "Epoch 163/500: 100%|██████████| 23/23 [00:00<00:00, 775.28batch/s, val_mean_loss=2.333146]\n"
     ]
    },
    {
     "name": "stdout",
     "output_type": "stream",
     "text": [
      "New Best Score: 0.6343484389449717, Epoch: 163\n"
     ]
    },
    {
     "name": "stderr",
     "output_type": "stream",
     "text": [
      "Epoch 164/500: 100%|██████████| 90/90 [00:00<00:00, 343.54batch/s, train_mean_loss=2.186022]\n",
      "Epoch 164/500: 100%|██████████| 23/23 [00:00<00:00, 794.70batch/s, val_mean_loss=2.324662]\n"
     ]
    },
    {
     "name": "stdout",
     "output_type": "stream",
     "text": [
      "New Best Score: 0.6351671220806753, Epoch: 164\n"
     ]
    },
    {
     "name": "stderr",
     "output_type": "stream",
     "text": [
      "Epoch 165/500: 100%|██████████| 90/90 [00:00<00:00, 350.05batch/s, train_mean_loss=2.184001]\n",
      "Epoch 165/500: 100%|██████████| 23/23 [00:00<00:00, 768.77batch/s, val_mean_loss=2.318325]\n"
     ]
    },
    {
     "name": "stdout",
     "output_type": "stream",
     "text": [
      "New Best Score: 0.6359685462441493, Epoch: 165\n"
     ]
    },
    {
     "name": "stderr",
     "output_type": "stream",
     "text": [
      "Epoch 166/500: 100%|██████████| 90/90 [00:00<00:00, 350.49batch/s, train_mean_loss=2.176169]\n",
      "Epoch 166/500: 100%|██████████| 23/23 [00:00<00:00, 774.37batch/s, val_mean_loss=2.302707]\n"
     ]
    },
    {
     "name": "stdout",
     "output_type": "stream",
     "text": [
      "New Best Score: 0.6369376722015061, Epoch: 166\n"
     ]
    },
    {
     "name": "stderr",
     "output_type": "stream",
     "text": [
      "Epoch 167/500: 100%|██████████| 90/90 [00:00<00:00, 288.38batch/s, train_mean_loss=2.164929]\n",
      "Epoch 167/500: 100%|██████████| 23/23 [00:00<00:00, 794.87batch/s, val_mean_loss=2.291851]\n"
     ]
    },
    {
     "name": "stdout",
     "output_type": "stream",
     "text": [
      "New Best Score: 0.637741575400724, Epoch: 167\n"
     ]
    },
    {
     "name": "stderr",
     "output_type": "stream",
     "text": [
      "Epoch 168/500: 100%|██████████| 90/90 [00:00<00:00, 271.90batch/s, train_mean_loss=2.149231]\n",
      "Epoch 168/500: 100%|██████████| 23/23 [00:00<00:00, 850.87batch/s, val_mean_loss=2.276880]\n"
     ]
    },
    {
     "name": "stdout",
     "output_type": "stream",
     "text": [
      "New Best Score: 0.6388470285129333, Epoch: 168\n"
     ]
    },
    {
     "name": "stderr",
     "output_type": "stream",
     "text": [
      "Epoch 169/500: 100%|██████████| 90/90 [00:00<00:00, 278.24batch/s, train_mean_loss=2.138877]\n",
      "Epoch 169/500: 100%|██████████| 23/23 [00:00<00:00, 821.00batch/s, val_mean_loss=2.264813]\n"
     ]
    },
    {
     "name": "stdout",
     "output_type": "stream",
     "text": [
      "New Best Score: 0.6396658853711737, Epoch: 169\n"
     ]
    },
    {
     "name": "stderr",
     "output_type": "stream",
     "text": [
      "Epoch 170/500: 100%|██████████| 90/90 [00:00<00:00, 362.89batch/s, train_mean_loss=2.127543]\n",
      "Epoch 170/500: 100%|██████████| 23/23 [00:00<00:00, 851.94batch/s, val_mean_loss=2.255981]\n"
     ]
    },
    {
     "name": "stdout",
     "output_type": "stream",
     "text": [
      "New Best Score: 0.6403663947822354, Epoch: 170\n"
     ]
    },
    {
     "name": "stderr",
     "output_type": "stream",
     "text": [
      "Epoch 171/500: 100%|██████████| 90/90 [00:00<00:00, 367.35batch/s, train_mean_loss=2.113728]\n",
      "Epoch 171/500: 100%|██████████| 23/23 [00:00<00:00, 741.88batch/s, val_mean_loss=2.239179]\n"
     ]
    },
    {
     "name": "stdout",
     "output_type": "stream",
     "text": [
      "New Best Score: 0.6411024612455121, Epoch: 171\n"
     ]
    },
    {
     "name": "stderr",
     "output_type": "stream",
     "text": [
      "Epoch 172/500: 100%|██████████| 90/90 [00:00<00:00, 342.44batch/s, train_mean_loss=2.105502]\n",
      "Epoch 172/500: 100%|██████████| 23/23 [00:00<00:00, 766.37batch/s, val_mean_loss=2.233671]\n"
     ]
    },
    {
     "name": "stdout",
     "output_type": "stream",
     "text": [
      "New Best Score: 0.6414534633935235, Epoch: 172\n"
     ]
    },
    {
     "name": "stderr",
     "output_type": "stream",
     "text": [
      "Epoch 173/500: 100%|██████████| 90/90 [00:00<00:00, 341.00batch/s, train_mean_loss=2.093742]\n",
      "Epoch 173/500: 100%|██████████| 23/23 [00:00<00:00, 793.06batch/s, val_mean_loss=2.217720]\n"
     ]
    },
    {
     "name": "stdout",
     "output_type": "stream",
     "text": [
      "New Best Score: 0.6418606174593313, Epoch: 173\n"
     ]
    },
    {
     "name": "stderr",
     "output_type": "stream",
     "text": [
      "Epoch 174/500: 100%|██████████| 90/90 [00:00<00:00, 351.68batch/s, train_mean_loss=2.081795]\n",
      "Epoch 174/500: 100%|██████████| 23/23 [00:00<00:00, 793.42batch/s, val_mean_loss=2.210481]\n"
     ]
    },
    {
     "name": "stdout",
     "output_type": "stream",
     "text": [
      "New Best Score: 0.6419039371737045, Epoch: 174\n"
     ]
    },
    {
     "name": "stderr",
     "output_type": "stream",
     "text": [
      "Epoch 175/500: 100%|██████████| 90/90 [00:00<00:00, 345.42batch/s, train_mean_loss=2.065527]\n",
      "Epoch 175/500: 100%|██████████| 23/23 [00:00<00:00, 821.46batch/s, val_mean_loss=2.193559]\n"
     ]
    },
    {
     "name": "stdout",
     "output_type": "stream",
     "text": [
      "New Best Score: 0.6423303625653195, Epoch: 175\n"
     ]
    },
    {
     "name": "stderr",
     "output_type": "stream",
     "text": [
      "Epoch 176/500: 100%|██████████| 90/90 [00:00<00:00, 346.22batch/s, train_mean_loss=2.062653]\n",
      "Epoch 176/500: 100%|██████████| 23/23 [00:00<00:00, 766.76batch/s, val_mean_loss=2.183041]\n"
     ]
    },
    {
     "name": "stdout",
     "output_type": "stream",
     "text": [
      "New Best Score: 0.6423483875391551, Epoch: 176\n"
     ]
    },
    {
     "name": "stderr",
     "output_type": "stream",
     "text": [
      "Epoch 177/500: 100%|██████████| 90/90 [00:00<00:00, 353.04batch/s, train_mean_loss=2.045950]\n",
      "Epoch 177/500: 100%|██████████| 23/23 [00:00<00:00, 821.45batch/s, val_mean_loss=2.172751]\n",
      "Epoch 178/500: 100%|██████████| 90/90 [00:00<00:00, 333.29batch/s, train_mean_loss=2.039299]\n",
      "Epoch 178/500: 100%|██████████| 23/23 [00:00<00:00, 719.59batch/s, val_mean_loss=2.164324]\n",
      "Epoch 179/500: 100%|██████████| 90/90 [00:00<00:00, 277.13batch/s, train_mean_loss=2.022090]\n",
      "Epoch 179/500: 100%|██████████| 23/23 [00:00<00:00, 823.07batch/s, val_mean_loss=2.148853]\n",
      "Epoch 180/500: 100%|██████████| 90/90 [00:00<00:00, 268.02batch/s, train_mean_loss=2.022797]\n",
      "Epoch 180/500: 100%|██████████| 23/23 [00:00<00:00, 729.09batch/s, val_mean_loss=2.150196]\n",
      "Epoch 181/500: 100%|██████████| 90/90 [00:00<00:00, 278.67batch/s, train_mean_loss=2.008284]\n",
      "Epoch 181/500: 100%|██████████| 23/23 [00:00<00:00, 793.30batch/s, val_mean_loss=2.142816]\n",
      "Epoch 182/500: 100%|██████████| 90/90 [00:00<00:00, 343.33batch/s, train_mean_loss=2.003833]\n",
      "Epoch 182/500: 100%|██████████| 23/23 [00:00<00:00, 773.63batch/s, val_mean_loss=2.132361]\n",
      "Epoch 183/500: 100%|██████████| 90/90 [00:00<00:00, 342.28batch/s, train_mean_loss=1.984720]\n",
      "Epoch 183/500: 100%|██████████| 23/23 [00:00<00:00, 742.86batch/s, val_mean_loss=2.126675]\n",
      "Epoch 184/500: 100%|██████████| 90/90 [00:00<00:00, 335.90batch/s, train_mean_loss=1.989590]\n",
      "Epoch 184/500: 100%|██████████| 23/23 [00:00<00:00, 821.15batch/s, val_mean_loss=2.119756]\n",
      "Epoch 185/500: 100%|██████████| 90/90 [00:00<00:00, 357.10batch/s, train_mean_loss=1.975719]\n",
      "Epoch 185/500: 100%|██████████| 23/23 [00:00<00:00, 851.61batch/s, val_mean_loss=2.110074]\n",
      "Epoch 186/500: 100%|██████████| 90/90 [00:00<00:00, 351.36batch/s, train_mean_loss=1.981070]\n",
      "Epoch 186/500: 100%|██████████| 23/23 [00:00<00:00, 851.94batch/s, val_mean_loss=2.109208]\n",
      "Epoch 187/500: 100%|██████████| 90/90 [00:00<00:00, 346.29batch/s, train_mean_loss=1.966061]\n",
      "Epoch 187/500: 100%|██████████| 23/23 [00:00<00:00, 851.75batch/s, val_mean_loss=2.104716]\n",
      "Epoch 188/500: 100%|██████████| 90/90 [00:00<00:00, 353.58batch/s, train_mean_loss=1.964301]\n",
      "Epoch 188/500: 100%|██████████| 23/23 [00:00<00:00, 855.07batch/s, val_mean_loss=2.087990]\n",
      "Epoch 189/500: 100%|██████████| 90/90 [00:00<00:00, 355.11batch/s, train_mean_loss=1.948060]\n",
      "Epoch 189/500: 100%|██████████| 23/23 [00:00<00:00, 793.29batch/s, val_mean_loss=2.081541]\n",
      "Epoch 190/500: 100%|██████████| 90/90 [00:00<00:00, 335.98batch/s, train_mean_loss=1.940922]\n",
      "Epoch 190/500: 100%|██████████| 23/23 [00:00<00:00, 793.45batch/s, val_mean_loss=2.080713]\n",
      "Epoch 191/500: 100%|██████████| 90/90 [00:00<00:00, 273.61batch/s, train_mean_loss=1.931711]\n",
      "Epoch 191/500: 100%|██████████| 23/23 [00:00<00:00, 638.61batch/s, val_mean_loss=2.069838]\n",
      "Epoch 192/500: 100%|██████████| 90/90 [00:00<00:00, 333.10batch/s, train_mean_loss=1.939547]\n",
      "Epoch 192/500: 100%|██████████| 23/23 [00:00<00:00, 696.91batch/s, val_mean_loss=2.070146]\n",
      "Epoch 193/500: 100%|██████████| 90/90 [00:00<00:00, 264.71batch/s, train_mean_loss=1.920946]\n",
      "Epoch 193/500: 100%|██████████| 23/23 [00:00<00:00, 720.62batch/s, val_mean_loss=2.049792]\n"
     ]
    },
    {
     "name": "stdout",
     "output_type": "stream",
     "text": [
      "New Best Score: 0.6450140290716481, Epoch: 193\n"
     ]
    },
    {
     "name": "stderr",
     "output_type": "stream",
     "text": [
      "Epoch 194/500: 100%|██████████| 90/90 [00:00<00:00, 270.27batch/s, train_mean_loss=1.927711]\n",
      "Epoch 194/500: 100%|██████████| 23/23 [00:00<00:00, 766.56batch/s, val_mean_loss=2.054644]\n",
      "Epoch 195/500: 100%|██████████| 90/90 [00:00<00:00, 276.13batch/s, train_mean_loss=1.928130]\n",
      "Epoch 195/500: 100%|██████████| 23/23 [00:00<00:00, 717.66batch/s, val_mean_loss=2.049932]\n"
     ]
    },
    {
     "name": "stdout",
     "output_type": "stream",
     "text": [
      "New Best Score: 0.6463658216454007, Epoch: 195\n"
     ]
    },
    {
     "name": "stderr",
     "output_type": "stream",
     "text": [
      "Epoch 196/500: 100%|██████████| 90/90 [00:00<00:00, 347.36batch/s, train_mean_loss=1.912368]\n",
      "Epoch 196/500: 100%|██████████| 23/23 [00:00<00:00, 766.85batch/s, val_mean_loss=2.043319]\n"
     ]
    },
    {
     "name": "stdout",
     "output_type": "stream",
     "text": [
      "New Best Score: 0.647076125728247, Epoch: 196\n"
     ]
    },
    {
     "name": "stderr",
     "output_type": "stream",
     "text": [
      "Epoch 197/500: 100%|██████████| 90/90 [00:00<00:00, 336.29batch/s, train_mean_loss=1.917295]\n",
      "Epoch 197/500: 100%|██████████| 23/23 [00:00<00:00, 741.74batch/s, val_mean_loss=2.046196]\n"
     ]
    },
    {
     "name": "stdout",
     "output_type": "stream",
     "text": [
      "New Best Score: 0.6477440678379095, Epoch: 197\n"
     ]
    },
    {
     "name": "stderr",
     "output_type": "stream",
     "text": [
      "Epoch 198/500: 100%|██████████| 90/90 [00:00<00:00, 339.65batch/s, train_mean_loss=1.903623]\n",
      "Epoch 198/500: 100%|██████████| 23/23 [00:00<00:00, 851.91batch/s, val_mean_loss=2.035805]\n"
     ]
    },
    {
     "name": "stdout",
     "output_type": "stream",
     "text": [
      "New Best Score: 0.6493626353185364, Epoch: 198\n"
     ]
    },
    {
     "name": "stderr",
     "output_type": "stream",
     "text": [
      "Epoch 199/500: 100%|██████████| 90/90 [00:00<00:00, 350.13batch/s, train_mean_loss=1.891501]\n",
      "Epoch 199/500: 100%|██████████| 23/23 [00:00<00:00, 717.59batch/s, val_mean_loss=2.022798]\n"
     ]
    },
    {
     "name": "stdout",
     "output_type": "stream",
     "text": [
      "New Best Score: 0.651102206260469, Epoch: 199\n"
     ]
    },
    {
     "name": "stderr",
     "output_type": "stream",
     "text": [
      "Epoch 200/500: 100%|██████████| 90/90 [00:00<00:00, 344.62batch/s, train_mean_loss=1.895436]\n",
      "Epoch 200/500: 100%|██████████| 23/23 [00:00<00:00, 694.70batch/s, val_mean_loss=2.023739]\n",
      "Epoch 201/500: 100%|██████████| 90/90 [00:00<00:00, 259.34batch/s, train_mean_loss=1.891023]\n",
      "Epoch 201/500: 100%|██████████| 23/23 [00:00<00:00, 819.99batch/s, val_mean_loss=2.016087]\n"
     ]
    },
    {
     "name": "stdout",
     "output_type": "stream",
     "text": [
      "New Best Score: 0.6519650435255159, Epoch: 201\n"
     ]
    },
    {
     "name": "stderr",
     "output_type": "stream",
     "text": [
      "Epoch 202/500: 100%|██████████| 90/90 [00:00<00:00, 259.29batch/s, train_mean_loss=1.883449]\n",
      "Epoch 202/500: 100%|██████████| 23/23 [00:00<00:00, 746.48batch/s, val_mean_loss=2.007609]\n"
     ]
    },
    {
     "name": "stdout",
     "output_type": "stream",
     "text": [
      "New Best Score: 0.6533775236815581, Epoch: 202\n"
     ]
    },
    {
     "name": "stderr",
     "output_type": "stream",
     "text": [
      "Epoch 203/500: 100%|██████████| 90/90 [00:00<00:00, 350.46batch/s, train_mean_loss=1.883575]\n",
      "Epoch 203/500: 100%|██████████| 23/23 [00:00<00:00, 792.78batch/s, val_mean_loss=2.009898]\n",
      "Epoch 204/500: 100%|██████████| 90/90 [00:00<00:00, 346.22batch/s, train_mean_loss=1.872640]\n",
      "Epoch 204/500: 100%|██████████| 23/23 [00:00<00:00, 793.04batch/s, val_mean_loss=2.000346]\n"
     ]
    },
    {
     "name": "stdout",
     "output_type": "stream",
     "text": [
      "New Best Score: 0.6543631535873028, Epoch: 204\n"
     ]
    },
    {
     "name": "stderr",
     "output_type": "stream",
     "text": [
      "Epoch 205/500: 100%|██████████| 90/90 [00:00<00:00, 358.56batch/s, train_mean_loss=1.869114]\n",
      "Epoch 205/500: 100%|██████████| 23/23 [00:00<00:00, 744.97batch/s, val_mean_loss=1.992656]\n"
     ]
    },
    {
     "name": "stdout",
     "output_type": "stream",
     "text": [
      "New Best Score: 0.6553591025976836, Epoch: 205\n"
     ]
    },
    {
     "name": "stderr",
     "output_type": "stream",
     "text": [
      "Epoch 206/500: 100%|██████████| 90/90 [00:00<00:00, 332.03batch/s, train_mean_loss=1.861067]\n",
      "Epoch 206/500: 100%|██████████| 23/23 [00:00<00:00, 792.39batch/s, val_mean_loss=1.991558]\n"
     ]
    },
    {
     "name": "stdout",
     "output_type": "stream",
     "text": [
      "New Best Score: 0.6554997324385902, Epoch: 206\n"
     ]
    },
    {
     "name": "stderr",
     "output_type": "stream",
     "text": [
      "Epoch 207/500: 100%|██████████| 90/90 [00:00<00:00, 334.58batch/s, train_mean_loss=1.858504]\n",
      "Epoch 207/500: 100%|██████████| 23/23 [00:00<00:00, 718.81batch/s, val_mean_loss=1.987543]\n"
     ]
    },
    {
     "name": "stdout",
     "output_type": "stream",
     "text": [
      "New Best Score: 0.6561835375331871, Epoch: 207\n"
     ]
    },
    {
     "name": "stderr",
     "output_type": "stream",
     "text": [
      "Epoch 208/500: 100%|██████████| 90/90 [00:00<00:00, 332.94batch/s, train_mean_loss=1.859066]\n",
      "Epoch 208/500: 100%|██████████| 23/23 [00:00<00:00, 794.12batch/s, val_mean_loss=1.989900]\n",
      "Epoch 209/500: 100%|██████████| 90/90 [00:00<00:00, 343.44batch/s, train_mean_loss=1.843070]\n",
      "Epoch 209/500: 100%|██████████| 23/23 [00:00<00:00, 793.79batch/s, val_mean_loss=1.987117]\n"
     ]
    },
    {
     "name": "stdout",
     "output_type": "stream",
     "text": [
      "New Best Score: 0.6566771823224649, Epoch: 209\n"
     ]
    },
    {
     "name": "stderr",
     "output_type": "stream",
     "text": [
      "Epoch 210/500: 100%|██████████| 90/90 [00:00<00:00, 327.27batch/s, train_mean_loss=1.843444]\n",
      "Epoch 210/500: 100%|██████████| 23/23 [00:00<00:00, 697.64batch/s, val_mean_loss=1.983536]\n"
     ]
    },
    {
     "name": "stdout",
     "output_type": "stream",
     "text": [
      "New Best Score: 0.6575764641079929, Epoch: 210\n"
     ]
    },
    {
     "name": "stderr",
     "output_type": "stream",
     "text": [
      "Epoch 211/500: 100%|██████████| 90/90 [00:00<00:00, 316.55batch/s, train_mean_loss=1.831850]\n",
      "Epoch 211/500: 100%|██████████| 23/23 [00:00<00:00, 743.83batch/s, val_mean_loss=1.978707]\n"
     ]
    },
    {
     "name": "stdout",
     "output_type": "stream",
     "text": [
      "New Best Score: 0.6582883813090932, Epoch: 211\n"
     ]
    },
    {
     "name": "stderr",
     "output_type": "stream",
     "text": [
      "Epoch 212/500: 100%|██████████| 90/90 [00:00<00:00, 303.92batch/s, train_mean_loss=1.830850]\n",
      "Epoch 212/500: 100%|██████████| 23/23 [00:00<00:00, 698.11batch/s, val_mean_loss=1.969547]\n"
     ]
    },
    {
     "name": "stdout",
     "output_type": "stream",
     "text": [
      "New Best Score: 0.6593491731458541, Epoch: 212\n"
     ]
    },
    {
     "name": "stderr",
     "output_type": "stream",
     "text": [
      "Epoch 213/500: 100%|██████████| 90/90 [00:00<00:00, 314.79batch/s, train_mean_loss=1.818932]\n",
      "Epoch 213/500: 100%|██████████| 23/23 [00:00<00:00, 718.49batch/s, val_mean_loss=1.974162]\n",
      "Epoch 214/500: 100%|██████████| 90/90 [00:00<00:00, 304.37batch/s, train_mean_loss=1.817434]\n",
      "Epoch 214/500: 100%|██████████| 23/23 [00:00<00:00, 742.24batch/s, val_mean_loss=1.976197]\n"
     ]
    },
    {
     "name": "stdout",
     "output_type": "stream",
     "text": [
      "New Best Score: 0.659626112658517, Epoch: 214\n"
     ]
    },
    {
     "name": "stderr",
     "output_type": "stream",
     "text": [
      "Epoch 215/500: 100%|██████████| 90/90 [00:00<00:00, 316.90batch/s, train_mean_loss=1.822767]\n",
      "Epoch 215/500: 100%|██████████| 23/23 [00:00<00:00, 823.52batch/s, val_mean_loss=1.971774]\n",
      "Epoch 216/500: 100%|██████████| 90/90 [00:00<00:00, 254.95batch/s, train_mean_loss=1.802399]\n",
      "Epoch 216/500: 100%|██████████| 23/23 [00:00<00:00, 770.40batch/s, val_mean_loss=1.967378]\n"
     ]
    },
    {
     "name": "stdout",
     "output_type": "stream",
     "text": [
      "New Best Score: 0.6602088273938903, Epoch: 216\n"
     ]
    },
    {
     "name": "stderr",
     "output_type": "stream",
     "text": [
      "Epoch 217/500: 100%|██████████| 90/90 [00:00<00:00, 269.59batch/s, train_mean_loss=1.797886]\n",
      "Epoch 217/500: 100%|██████████| 23/23 [00:00<00:00, 766.65batch/s, val_mean_loss=1.958699]\n"
     ]
    },
    {
     "name": "stdout",
     "output_type": "stream",
     "text": [
      "New Best Score: 0.6608044877304737, Epoch: 217\n"
     ]
    },
    {
     "name": "stderr",
     "output_type": "stream",
     "text": [
      "Epoch 218/500: 100%|██████████| 90/90 [00:00<00:00, 258.65batch/s, train_mean_loss=1.789181]\n",
      "Epoch 218/500: 100%|██████████| 23/23 [00:00<00:00, 821.43batch/s, val_mean_loss=1.963293]\n"
     ]
    },
    {
     "name": "stdout",
     "output_type": "stream",
     "text": [
      "New Best Score: 0.6609069468393998, Epoch: 218\n"
     ]
    },
    {
     "name": "stderr",
     "output_type": "stream",
     "text": [
      "Epoch 219/500: 100%|██████████| 90/90 [00:00<00:00, 258.45batch/s, train_mean_loss=1.792815]\n",
      "Epoch 219/500: 100%|██████████| 23/23 [00:00<00:00, 852.17batch/s, val_mean_loss=1.963583]\n"
     ]
    },
    {
     "name": "stdout",
     "output_type": "stream",
     "text": [
      "New Best Score: 0.6609296145822477, Epoch: 219\n"
     ]
    },
    {
     "name": "stderr",
     "output_type": "stream",
     "text": [
      "Epoch 220/500: 100%|██████████| 90/90 [00:00<00:00, 327.27batch/s, train_mean_loss=1.777975]\n",
      "Epoch 220/500: 100%|██████████| 23/23 [00:00<00:00, 794.02batch/s, val_mean_loss=1.954420]\n"
     ]
    },
    {
     "name": "stdout",
     "output_type": "stream",
     "text": [
      "New Best Score: 0.6618516871690563, Epoch: 220\n"
     ]
    },
    {
     "name": "stderr",
     "output_type": "stream",
     "text": [
      "Epoch 221/500: 100%|██████████| 90/90 [00:00<00:00, 328.47batch/s, train_mean_loss=1.773642]\n",
      "Epoch 221/500: 100%|██████████| 23/23 [00:00<00:00, 767.71batch/s, val_mean_loss=1.961525]\n"
     ]
    },
    {
     "name": "stdout",
     "output_type": "stream",
     "text": [
      "New Best Score: 0.6619883917998721, Epoch: 221\n"
     ]
    },
    {
     "name": "stderr",
     "output_type": "stream",
     "text": [
      "Epoch 222/500: 100%|██████████| 90/90 [00:00<00:00, 327.64batch/s, train_mean_loss=1.772859]\n",
      "Epoch 222/500: 100%|██████████| 23/23 [00:00<00:00, 821.43batch/s, val_mean_loss=1.956603]\n"
     ]
    },
    {
     "name": "stdout",
     "output_type": "stream",
     "text": [
      "New Best Score: 0.6622644413674019, Epoch: 222\n"
     ]
    },
    {
     "name": "stderr",
     "output_type": "stream",
     "text": [
      "Epoch 223/500: 100%|██████████| 90/90 [00:00<00:00, 329.67batch/s, train_mean_loss=1.762090]\n",
      "Epoch 223/500: 100%|██████████| 23/23 [00:00<00:00, 793.10batch/s, val_mean_loss=1.952468]\n"
     ]
    },
    {
     "name": "stdout",
     "output_type": "stream",
     "text": [
      "New Best Score: 0.6633817652189369, Epoch: 223\n"
     ]
    },
    {
     "name": "stderr",
     "output_type": "stream",
     "text": [
      "Epoch 224/500: 100%|██████████| 90/90 [00:00<00:00, 335.76batch/s, train_mean_loss=1.750130]\n",
      "Epoch 224/500: 100%|██████████| 23/23 [00:00<00:00, 831.08batch/s, val_mean_loss=1.950678]\n",
      "Epoch 225/500: 100%|██████████| 90/90 [00:00<00:00, 285.55batch/s, train_mean_loss=1.745879]\n",
      "Epoch 225/500: 100%|██████████| 23/23 [00:00<00:00, 819.83batch/s, val_mean_loss=1.962409]\n",
      "Epoch 226/500: 100%|██████████| 90/90 [00:00<00:00, 260.70batch/s, train_mean_loss=1.737794]\n",
      "Epoch 226/500: 100%|██████████| 23/23 [00:00<00:00, 821.62batch/s, val_mean_loss=1.954689]\n",
      "Epoch 227/500: 100%|██████████| 90/90 [00:00<00:00, 260.96batch/s, train_mean_loss=1.729551]\n",
      "Epoch 227/500: 100%|██████████| 23/23 [00:00<00:00, 769.04batch/s, val_mean_loss=1.945301]\n"
     ]
    },
    {
     "name": "stdout",
     "output_type": "stream",
     "text": [
      "New Best Score: 0.6634725391527422, Epoch: 227\n"
     ]
    },
    {
     "name": "stderr",
     "output_type": "stream",
     "text": [
      "Epoch 228/500: 100%|██████████| 90/90 [00:00<00:00, 311.54batch/s, train_mean_loss=1.725416]\n",
      "Epoch 228/500: 100%|██████████| 23/23 [00:00<00:00, 469.38batch/s, val_mean_loss=1.952388]\n"
     ]
    },
    {
     "name": "stdout",
     "output_type": "stream",
     "text": [
      "New Best Score: 0.6637751722282542, Epoch: 228\n"
     ]
    },
    {
     "name": "stderr",
     "output_type": "stream",
     "text": [
      "Epoch 229/500: 100%|██████████| 90/90 [00:00<00:00, 306.24batch/s, train_mean_loss=1.706022]\n",
      "Epoch 229/500: 100%|██████████| 23/23 [00:00<00:00, 742.11batch/s, val_mean_loss=1.946588]\n"
     ]
    },
    {
     "name": "stdout",
     "output_type": "stream",
     "text": [
      "New Best Score: 0.6643722571287883, Epoch: 229\n"
     ]
    },
    {
     "name": "stderr",
     "output_type": "stream",
     "text": [
      "Epoch 230/500: 100%|██████████| 90/90 [00:00<00:00, 338.24batch/s, train_mean_loss=1.698786]\n",
      "Epoch 230/500: 100%|██████████| 23/23 [00:00<00:00, 718.09batch/s, val_mean_loss=1.955289]\n",
      "Epoch 231/500: 100%|██████████| 90/90 [00:00<00:00, 327.38batch/s, train_mean_loss=1.694459]\n",
      "Epoch 231/500: 100%|██████████| 23/23 [00:00<00:00, 767.08batch/s, val_mean_loss=1.959272]\n"
     ]
    },
    {
     "name": "stdout",
     "output_type": "stream",
     "text": [
      "New Best Score: 0.6643955931736527, Epoch: 231\n"
     ]
    },
    {
     "name": "stderr",
     "output_type": "stream",
     "text": [
      "Epoch 232/500: 100%|██████████| 90/90 [00:00<00:00, 328.63batch/s, train_mean_loss=1.683723]\n",
      "Epoch 232/500: 100%|██████████| 23/23 [00:00<00:00, 700.20batch/s, val_mean_loss=1.939778]\n"
     ]
    },
    {
     "name": "stdout",
     "output_type": "stream",
     "text": [
      "New Best Score: 0.6649493758068363, Epoch: 232\n"
     ]
    },
    {
     "name": "stderr",
     "output_type": "stream",
     "text": [
      "Epoch 233/500: 100%|██████████| 90/90 [00:00<00:00, 266.24batch/s, train_mean_loss=1.667454]\n",
      "Epoch 233/500: 100%|██████████| 23/23 [00:00<00:00, 695.48batch/s, val_mean_loss=1.932805]\n"
     ]
    },
    {
     "name": "stdout",
     "output_type": "stream",
     "text": [
      "New Best Score: 0.6653983110984543, Epoch: 233\n"
     ]
    },
    {
     "name": "stderr",
     "output_type": "stream",
     "text": [
      "Epoch 234/500: 100%|██████████| 90/90 [00:00<00:00, 258.62batch/s, train_mean_loss=1.656460]\n",
      "Epoch 234/500: 100%|██████████| 23/23 [00:00<00:00, 622.69batch/s, val_mean_loss=1.950509]\n"
     ]
    },
    {
     "name": "stdout",
     "output_type": "stream",
     "text": [
      "New Best Score: 0.665518224546508, Epoch: 234\n"
     ]
    },
    {
     "name": "stderr",
     "output_type": "stream",
     "text": [
      "Epoch 235/500: 100%|██████████| 90/90 [00:00<00:00, 285.80batch/s, train_mean_loss=1.655506]\n",
      "Epoch 235/500: 100%|██████████| 23/23 [00:00<00:00, 820.97batch/s, val_mean_loss=1.931440]\n"
     ]
    },
    {
     "name": "stdout",
     "output_type": "stream",
     "text": [
      "New Best Score: 0.6663215897687138, Epoch: 235\n"
     ]
    },
    {
     "name": "stderr",
     "output_type": "stream",
     "text": [
      "Epoch 236/500: 100%|██████████| 90/90 [00:00<00:00, 338.31batch/s, train_mean_loss=1.645583]\n",
      "Epoch 236/500: 100%|██████████| 23/23 [00:00<00:00, 718.70batch/s, val_mean_loss=1.941648]\n"
     ]
    },
    {
     "name": "stdout",
     "output_type": "stream",
     "text": [
      "New Best Score: 0.6666359783348044, Epoch: 236\n"
     ]
    },
    {
     "name": "stderr",
     "output_type": "stream",
     "text": [
      "Epoch 237/500: 100%|██████████| 90/90 [00:00<00:00, 322.69batch/s, train_mean_loss=1.629133]\n",
      "Epoch 237/500: 100%|██████████| 23/23 [00:00<00:00, 781.97batch/s, val_mean_loss=1.939610]\n"
     ]
    },
    {
     "name": "stdout",
     "output_type": "stream",
     "text": [
      "New Best Score: 0.6670941381164205, Epoch: 237\n"
     ]
    },
    {
     "name": "stderr",
     "output_type": "stream",
     "text": [
      "Epoch 238/500: 100%|██████████| 90/90 [00:00<00:00, 328.51batch/s, train_mean_loss=1.626423]\n",
      "Epoch 238/500: 100%|██████████| 23/23 [00:00<00:00, 696.53batch/s, val_mean_loss=1.921388]\n"
     ]
    },
    {
     "name": "stdout",
     "output_type": "stream",
     "text": [
      "New Best Score: 0.6674324372192146, Epoch: 238\n"
     ]
    },
    {
     "name": "stderr",
     "output_type": "stream",
     "text": [
      "Epoch 239/500: 100%|██████████| 90/90 [00:00<00:00, 348.93batch/s, train_mean_loss=1.598257]\n",
      "Epoch 239/500: 100%|██████████| 23/23 [00:00<00:00, 719.87batch/s, val_mean_loss=1.928910]\n"
     ]
    },
    {
     "name": "stdout",
     "output_type": "stream",
     "text": [
      "New Best Score: 0.6685193122029441, Epoch: 239\n"
     ]
    },
    {
     "name": "stderr",
     "output_type": "stream",
     "text": [
      "Epoch 240/500: 100%|██████████| 90/90 [00:00<00:00, 332.20batch/s, train_mean_loss=1.595179]\n",
      "Epoch 240/500: 100%|██████████| 23/23 [00:00<00:00, 695.73batch/s, val_mean_loss=1.935887]\n",
      "Epoch 241/500: 100%|██████████| 90/90 [00:00<00:00, 262.44batch/s, train_mean_loss=1.573693]\n",
      "Epoch 241/500: 100%|██████████| 23/23 [00:00<00:00, 741.51batch/s, val_mean_loss=1.934419]\n",
      "Epoch 242/500: 100%|██████████| 90/90 [00:00<00:00, 254.29batch/s, train_mean_loss=1.557406]\n",
      "Epoch 242/500: 100%|██████████| 23/23 [00:00<00:00, 766.34batch/s, val_mean_loss=1.932320]\n",
      "Epoch 243/500: 100%|██████████| 90/90 [00:00<00:00, 266.89batch/s, train_mean_loss=1.547467]\n",
      "Epoch 243/500: 100%|██████████| 23/23 [00:00<00:00, 741.50batch/s, val_mean_loss=1.924845]\n"
     ]
    },
    {
     "name": "stdout",
     "output_type": "stream",
     "text": [
      "New Best Score: 0.668747815583013, Epoch: 243\n"
     ]
    },
    {
     "name": "stderr",
     "output_type": "stream",
     "text": [
      "Epoch 244/500: 100%|██████████| 90/90 [00:00<00:00, 311.37batch/s, train_mean_loss=1.542219]\n",
      "Epoch 244/500: 100%|██████████| 23/23 [00:00<00:00, 743.22batch/s, val_mean_loss=1.925950]\n",
      "Epoch 245/500: 100%|██████████| 90/90 [00:00<00:00, 324.91batch/s, train_mean_loss=1.518827]\n",
      "Epoch 245/500: 100%|██████████| 23/23 [00:00<00:00, 718.18batch/s, val_mean_loss=1.938015]\n",
      "Epoch 246/500: 100%|██████████| 90/90 [00:00<00:00, 304.18batch/s, train_mean_loss=1.522834]\n",
      "Epoch 246/500: 100%|██████████| 23/23 [00:00<00:00, 769.53batch/s, val_mean_loss=1.944780]\n",
      "Epoch 247/500: 100%|██████████| 90/90 [00:00<00:00, 315.72batch/s, train_mean_loss=1.509079]\n",
      "Epoch 247/500: 100%|██████████| 23/23 [00:00<00:00, 742.07batch/s, val_mean_loss=1.937936]\n",
      "Epoch 248/500: 100%|██████████| 90/90 [00:00<00:00, 321.66batch/s, train_mean_loss=1.492676]\n",
      "Epoch 248/500: 100%|██████████| 23/23 [00:00<00:00, 676.59batch/s, val_mean_loss=1.950651]\n",
      "Epoch 249/500: 100%|██████████| 90/90 [00:00<00:00, 247.29batch/s, train_mean_loss=1.493797]\n",
      "Epoch 249/500: 100%|██████████| 23/23 [00:00<00:00, 793.14batch/s, val_mean_loss=1.950043]\n",
      "Epoch 250/500: 100%|██████████| 90/90 [00:00<00:00, 250.57batch/s, train_mean_loss=1.474561]\n",
      "Epoch 250/500: 100%|██████████| 23/23 [00:00<00:00, 658.18batch/s, val_mean_loss=1.952806]\n",
      "Epoch 251/500: 100%|██████████| 90/90 [00:00<00:00, 254.97batch/s, train_mean_loss=1.450132]\n",
      "Epoch 251/500: 100%|██████████| 23/23 [00:00<00:00, 743.87batch/s, val_mean_loss=1.933502]\n",
      "Epoch 252/500: 100%|██████████| 90/90 [00:00<00:00, 316.98batch/s, train_mean_loss=1.444361]\n",
      "Epoch 252/500: 100%|██████████| 23/23 [00:00<00:00, 851.85batch/s, val_mean_loss=1.945825]\n",
      "Epoch 253/500: 100%|██████████| 90/90 [00:00<00:00, 308.68batch/s, train_mean_loss=1.427745]\n",
      "Epoch 253/500: 100%|██████████| 23/23 [00:00<00:00, 767.53batch/s, val_mean_loss=1.962652]\n",
      "Epoch 254/500: 100%|██████████| 90/90 [00:00<00:00, 307.16batch/s, train_mean_loss=1.418149]\n",
      "Epoch 254/500: 100%|██████████| 23/23 [00:00<00:00, 698.35batch/s, val_mean_loss=1.960362]\n",
      "Epoch 255/500: 100%|██████████| 90/90 [00:00<00:00, 316.81batch/s, train_mean_loss=1.390926]\n",
      "Epoch 255/500: 100%|██████████| 23/23 [00:00<00:00, 740.19batch/s, val_mean_loss=1.965228]\n",
      "Epoch 256/500: 100%|██████████| 90/90 [00:00<00:00, 313.42batch/s, train_mean_loss=1.380085]\n",
      "Epoch 256/500: 100%|██████████| 23/23 [00:00<00:00, 717.44batch/s, val_mean_loss=1.950124]\n",
      "Epoch 257/500: 100%|██████████| 90/90 [00:00<00:00, 260.13batch/s, train_mean_loss=1.389010]\n",
      "Epoch 257/500: 100%|██████████| 23/23 [00:00<00:00, 676.50batch/s, val_mean_loss=1.970127]\n",
      "Epoch 258/500: 100%|██████████| 90/90 [00:00<00:00, 287.28batch/s, train_mean_loss=1.363484]\n",
      "Epoch 258/500: 100%|██████████| 23/23 [00:00<00:00, 742.07batch/s, val_mean_loss=1.966972]\n",
      "Epoch 259/500: 100%|██████████| 90/90 [00:00<00:00, 333.29batch/s, train_mean_loss=1.349549]\n",
      "Epoch 259/500: 100%|██████████| 23/23 [00:00<00:00, 717.98batch/s, val_mean_loss=1.971092]\n",
      "Epoch 260/500: 100%|██████████| 90/90 [00:00<00:00, 303.03batch/s, train_mean_loss=1.348994]\n",
      "Epoch 260/500: 100%|██████████| 23/23 [00:00<00:00, 741.82batch/s, val_mean_loss=1.977324]\n",
      "Epoch 261/500: 100%|██████████| 90/90 [00:00<00:00, 316.31batch/s, train_mean_loss=1.334535]\n",
      "Epoch 261/500: 100%|██████████| 23/23 [00:00<00:00, 766.97batch/s, val_mean_loss=1.990696]\n",
      "Epoch 262/500: 100%|██████████| 90/90 [00:00<00:00, 354.32batch/s, train_mean_loss=1.307674]\n",
      "Epoch 262/500: 100%|██████████| 23/23 [00:00<00:00, 742.68batch/s, val_mean_loss=1.995061]\n",
      "Epoch 263/500: 100%|██████████| 90/90 [00:00<00:00, 334.67batch/s, train_mean_loss=1.307477]\n",
      "Epoch 263/500: 100%|██████████| 23/23 [00:00<00:00, 547.64batch/s, val_mean_loss=1.988002]\n",
      "Epoch 264/500: 100%|██████████| 90/90 [00:00<00:00, 284.48batch/s, train_mean_loss=1.299043]\n",
      "Epoch 264/500: 100%|██████████| 23/23 [00:00<00:00, 741.57batch/s, val_mean_loss=1.987035]\n",
      "Epoch 265/500: 100%|██████████| 90/90 [00:00<00:00, 316.89batch/s, train_mean_loss=1.272448]\n",
      "Epoch 265/500: 100%|██████████| 23/23 [00:00<00:00, 767.00batch/s, val_mean_loss=1.999288]\n",
      "Epoch 266/500: 100%|██████████| 90/90 [00:00<00:00, 297.58batch/s, train_mean_loss=1.272017]\n",
      "Epoch 266/500: 100%|██████████| 23/23 [00:00<00:00, 719.70batch/s, val_mean_loss=1.995267]\n",
      "Epoch 267/500: 100%|██████████| 90/90 [00:00<00:00, 301.00batch/s, train_mean_loss=1.261952]\n",
      "Epoch 267/500: 100%|██████████| 23/23 [00:00<00:00, 697.26batch/s, val_mean_loss=2.002177]\n",
      "Epoch 268/500: 100%|██████████| 90/90 [00:00<00:00, 304.14batch/s, train_mean_loss=1.252654]\n",
      "Epoch 268/500: 100%|██████████| 23/23 [00:00<00:00, 767.99batch/s, val_mean_loss=1.994570]\n",
      "Epoch 269/500: 100%|██████████| 90/90 [00:00<00:00, 266.82batch/s, train_mean_loss=1.239297]\n",
      "Epoch 269/500: 100%|██████████| 23/23 [00:00<00:00, 719.99batch/s, val_mean_loss=2.013522]\n",
      "Epoch 270/500: 100%|██████████| 90/90 [00:00<00:00, 247.24batch/s, train_mean_loss=1.231310]\n",
      "Epoch 270/500: 100%|██████████| 23/23 [00:00<00:00, 766.71batch/s, val_mean_loss=2.000195]\n",
      "Epoch 271/500: 100%|██████████| 90/90 [00:00<00:00, 248.37batch/s, train_mean_loss=1.215766]\n",
      "Epoch 271/500: 100%|██████████| 23/23 [00:00<00:00, 719.87batch/s, val_mean_loss=2.016932]\n",
      "Epoch 272/500: 100%|██████████| 90/90 [00:00<00:00, 254.96batch/s, train_mean_loss=1.214405]\n",
      "Epoch 272/500: 100%|██████████| 23/23 [00:00<00:00, 793.58batch/s, val_mean_loss=2.012120]\n",
      "Epoch 273/500: 100%|██████████| 90/90 [00:00<00:00, 309.71batch/s, train_mean_loss=1.194701]\n",
      "Epoch 273/500: 100%|██████████| 23/23 [00:00<00:00, 741.96batch/s, val_mean_loss=2.023360]\n",
      "Epoch 274/500: 100%|██████████| 90/90 [00:00<00:00, 313.23batch/s, train_mean_loss=1.187614]\n",
      "Epoch 274/500: 100%|██████████| 23/23 [00:00<00:00, 677.59batch/s, val_mean_loss=2.013191]\n",
      "Epoch 275/500: 100%|██████████| 90/90 [00:00<00:00, 310.43batch/s, train_mean_loss=1.172570]\n",
      "Epoch 275/500: 100%|██████████| 23/23 [00:00<00:00, 766.07batch/s, val_mean_loss=2.018615]\n",
      "Epoch 276/500: 100%|██████████| 90/90 [00:00<00:00, 307.08batch/s, train_mean_loss=1.172377]\n",
      "Epoch 276/500: 100%|██████████| 23/23 [00:00<00:00, 775.56batch/s, val_mean_loss=2.013903]\n",
      "Epoch 277/500: 100%|██████████| 90/90 [00:00<00:00, 304.40batch/s, train_mean_loss=1.157624]\n",
      "Epoch 277/500: 100%|██████████| 23/23 [00:00<00:00, 696.96batch/s, val_mean_loss=2.019533]\n",
      "Epoch 278/500: 100%|██████████| 90/90 [00:00<00:00, 309.35batch/s, train_mean_loss=1.154594]\n",
      "Epoch 278/500: 100%|██████████| 23/23 [00:00<00:00, 696.94batch/s, val_mean_loss=2.032730]\n",
      "Epoch 279/500: 100%|██████████| 90/90 [00:00<00:00, 314.88batch/s, train_mean_loss=1.143648]\n",
      "Epoch 279/500: 100%|██████████| 23/23 [00:00<00:00, 741.65batch/s, val_mean_loss=2.035900]\n",
      "Epoch 280/500: 100%|██████████| 90/90 [00:00<00:00, 279.50batch/s, train_mean_loss=1.132346]\n",
      "Epoch 280/500: 100%|██████████| 23/23 [00:00<00:00, 741.93batch/s, val_mean_loss=2.035375]\n",
      "Epoch 281/500: 100%|██████████| 90/90 [00:00<00:00, 297.03batch/s, train_mean_loss=1.120375]\n",
      "Epoch 281/500: 100%|██████████| 23/23 [00:00<00:00, 718.75batch/s, val_mean_loss=2.031273]\n",
      "Epoch 282/500: 100%|██████████| 90/90 [00:00<00:00, 298.97batch/s, train_mean_loss=1.107334]\n",
      "Epoch 282/500: 100%|██████████| 23/23 [00:00<00:00, 766.66batch/s, val_mean_loss=2.030816]\n",
      "Epoch 283/500: 100%|██████████| 90/90 [00:00<00:00, 250.01batch/s, train_mean_loss=1.102136]\n",
      "Epoch 283/500: 100%|██████████| 23/23 [00:00<00:00, 657.31batch/s, val_mean_loss=2.033358]\n",
      "Epoch 284/500: 100%|██████████| 90/90 [00:00<00:00, 246.23batch/s, train_mean_loss=1.086232]\n",
      "Epoch 284/500: 100%|██████████| 23/23 [00:00<00:00, 766.78batch/s, val_mean_loss=2.029865]\n",
      "Epoch 285/500: 100%|██████████| 90/90 [00:00<00:00, 247.95batch/s, train_mean_loss=1.083294]\n",
      "Epoch 285/500: 100%|██████████| 23/23 [00:00<00:00, 794.33batch/s, val_mean_loss=2.049772]\n",
      "Epoch 286/500: 100%|██████████| 90/90 [00:00<00:00, 250.61batch/s, train_mean_loss=1.069750]\n",
      "Epoch 286/500: 100%|██████████| 23/23 [00:00<00:00, 590.04batch/s, val_mean_loss=2.042886]\n",
      "Epoch 287/500: 100%|██████████| 90/90 [00:00<00:00, 271.64batch/s, train_mean_loss=1.065798]\n",
      "Epoch 287/500: 100%|██████████| 23/23 [00:00<00:00, 793.79batch/s, val_mean_loss=2.055743]\n",
      "Epoch 288/500: 100%|██████████| 90/90 [00:00<00:00, 308.22batch/s, train_mean_loss=1.059307]\n",
      "Epoch 288/500: 100%|██████████| 23/23 [00:00<00:00, 719.97batch/s, val_mean_loss=2.050850]\n",
      "Epoch 289/500: 100%|██████████| 90/90 [00:00<00:00, 316.37batch/s, train_mean_loss=1.044701]\n",
      "Epoch 289/500: 100%|██████████| 23/23 [00:00<00:00, 792.59batch/s, val_mean_loss=2.039633]\n",
      "Epoch 290/500: 100%|██████████| 90/90 [00:00<00:00, 307.24batch/s, train_mean_loss=1.034228]\n",
      "Epoch 290/500: 100%|██████████| 23/23 [00:00<00:00, 742.90batch/s, val_mean_loss=2.070077]\n",
      "Epoch 291/500: 100%|██████████| 90/90 [00:00<00:00, 324.89batch/s, train_mean_loss=1.037234]\n",
      "Epoch 291/500: 100%|██████████| 23/23 [00:00<00:00, 792.74batch/s, val_mean_loss=2.047403]\n",
      "Epoch 292/500: 100%|██████████| 90/90 [00:00<00:00, 319.95batch/s, train_mean_loss=1.037556]\n",
      "Epoch 292/500: 100%|██████████| 23/23 [00:00<00:00, 719.00batch/s, val_mean_loss=2.049400]\n",
      "Epoch 293/500: 100%|██████████| 90/90 [00:00<00:00, 315.55batch/s, train_mean_loss=1.000682]\n",
      "Epoch 293/500: 100%|██████████| 23/23 [00:00<00:00, 676.29batch/s, val_mean_loss=2.049739]\n",
      "Epoch 294/500: 100%|██████████| 90/90 [00:00<00:00, 311.49batch/s, train_mean_loss=1.003294]\n",
      "Epoch 294/500: 100%|██████████| 23/23 [00:00<00:00, 704.44batch/s, val_mean_loss=2.045572]\n",
      "Epoch 295/500: 100%|██████████| 90/90 [00:00<00:00, 308.46batch/s, train_mean_loss=0.998412]\n",
      "Epoch 295/500: 100%|██████████| 23/23 [00:00<00:00, 718.55batch/s, val_mean_loss=2.047963]\n",
      "Epoch 296/500: 100%|██████████| 90/90 [00:00<00:00, 303.08batch/s, train_mean_loss=0.990706]\n",
      "Epoch 296/500: 100%|██████████| 23/23 [00:00<00:00, 741.49batch/s, val_mean_loss=2.071211]\n",
      "Epoch 297/500: 100%|██████████| 90/90 [00:00<00:00, 304.16batch/s, train_mean_loss=0.982031]\n",
      "Epoch 297/500: 100%|██████████| 23/23 [00:00<00:00, 489.36batch/s, val_mean_loss=2.054714]\n",
      "Epoch 298/500: 100%|██████████| 90/90 [00:00<00:00, 245.28batch/s, train_mean_loss=0.980490]\n",
      "Epoch 298/500: 100%|██████████| 23/23 [00:00<00:00, 696.40batch/s, val_mean_loss=2.062000]\n",
      "Epoch 299/500: 100%|██████████| 90/90 [00:00<00:00, 247.42batch/s, train_mean_loss=0.964686]\n",
      "Epoch 299/500: 100%|██████████| 23/23 [00:00<00:00, 767.87batch/s, val_mean_loss=2.055532]\n",
      "Epoch 300/500: 100%|██████████| 90/90 [00:00<00:00, 244.16batch/s, train_mean_loss=0.966869]\n",
      "Epoch 300/500: 100%|██████████| 23/23 [00:00<00:00, 742.39batch/s, val_mean_loss=2.061202]\n",
      "Epoch 301/500: 100%|██████████| 90/90 [00:00<00:00, 252.77batch/s, train_mean_loss=0.961707]\n",
      "Epoch 301/500: 100%|██████████| 23/23 [00:00<00:00, 696.95batch/s, val_mean_loss=2.051733]\n",
      "Epoch 302/500: 100%|██████████| 90/90 [00:00<00:00, 286.11batch/s, train_mean_loss=0.946432]\n",
      "Epoch 302/500: 100%|██████████| 23/23 [00:00<00:00, 793.19batch/s, val_mean_loss=2.071770]\n",
      "Epoch 303/500: 100%|██████████| 90/90 [00:00<00:00, 318.02batch/s, train_mean_loss=0.932195]\n",
      "Epoch 303/500: 100%|██████████| 23/23 [00:00<00:00, 696.55batch/s, val_mean_loss=2.062686]\n",
      "Epoch 304/500: 100%|██████████| 90/90 [00:00<00:00, 320.29batch/s, train_mean_loss=0.941338]\n",
      "Epoch 304/500: 100%|██████████| 23/23 [00:00<00:00, 676.68batch/s, val_mean_loss=2.075302]\n",
      "Epoch 305/500: 100%|██████████| 90/90 [00:00<00:00, 321.30batch/s, train_mean_loss=0.934226]\n",
      "Epoch 305/500: 100%|██████████| 23/23 [00:00<00:00, 640.64batch/s, val_mean_loss=2.085959]\n",
      "Epoch 306/500: 100%|██████████| 90/90 [00:00<00:00, 305.09batch/s, train_mean_loss=0.921881]\n",
      "Epoch 306/500: 100%|██████████| 23/23 [00:00<00:00, 793.09batch/s, val_mean_loss=2.069583]\n",
      "Epoch 307/500: 100%|██████████| 90/90 [00:00<00:00, 277.23batch/s, train_mean_loss=0.916123]\n",
      "Epoch 307/500: 100%|██████████| 23/23 [00:00<00:00, 742.50batch/s, val_mean_loss=2.077193]\n",
      "Epoch 308/500: 100%|██████████| 90/90 [00:00<00:00, 248.48batch/s, train_mean_loss=0.901327]\n",
      "Epoch 308/500: 100%|██████████| 23/23 [00:00<00:00, 742.01batch/s, val_mean_loss=2.092706]\n",
      "Epoch 309/500: 100%|██████████| 90/90 [00:00<00:00, 244.68batch/s, train_mean_loss=0.901115]\n",
      "Epoch 309/500: 100%|██████████| 23/23 [00:00<00:00, 722.55batch/s, val_mean_loss=2.079493]\n",
      "Epoch 310/500: 100%|██████████| 90/90 [00:00<00:00, 266.28batch/s, train_mean_loss=0.903307]\n",
      "Epoch 310/500: 100%|██████████| 23/23 [00:00<00:00, 695.30batch/s, val_mean_loss=2.073460]\n",
      "Epoch 311/500: 100%|██████████| 90/90 [00:00<00:00, 325.58batch/s, train_mean_loss=0.889810]\n",
      "Epoch 311/500: 100%|██████████| 23/23 [00:00<00:00, 720.03batch/s, val_mean_loss=2.081616]\n",
      "Epoch 312/500: 100%|██████████| 90/90 [00:00<00:00, 315.43batch/s, train_mean_loss=0.885689]\n",
      "Epoch 312/500: 100%|██████████| 23/23 [00:00<00:00, 740.71batch/s, val_mean_loss=2.100939]\n",
      "Epoch 313/500: 100%|██████████| 90/90 [00:00<00:00, 330.22batch/s, train_mean_loss=0.873636]\n",
      "Epoch 313/500: 100%|██████████| 23/23 [00:00<00:00, 674.86batch/s, val_mean_loss=2.101586]\n",
      "Epoch 314/500: 100%|██████████| 90/90 [00:00<00:00, 306.21batch/s, train_mean_loss=0.870588]\n",
      "Epoch 314/500: 100%|██████████| 23/23 [00:00<00:00, 718.75batch/s, val_mean_loss=2.079166]\n",
      "Epoch 315/500: 100%|██████████| 90/90 [00:00<00:00, 312.39batch/s, train_mean_loss=0.852818]\n",
      "Epoch 315/500: 100%|██████████| 23/23 [00:00<00:00, 719.12batch/s, val_mean_loss=2.108334]\n",
      "Epoch 316/500: 100%|██████████| 90/90 [00:00<00:00, 298.05batch/s, train_mean_loss=0.845329]\n",
      "Epoch 316/500: 100%|██████████| 23/23 [00:00<00:00, 718.48batch/s, val_mean_loss=2.095653]\n",
      "Epoch 317/500: 100%|██████████| 90/90 [00:00<00:00, 313.47batch/s, train_mean_loss=0.852693]\n",
      "Epoch 317/500: 100%|██████████| 23/23 [00:00<00:00, 718.46batch/s, val_mean_loss=2.075595]\n",
      "Epoch 318/500: 100%|██████████| 90/90 [00:00<00:00, 303.97batch/s, train_mean_loss=0.845988]\n",
      "Epoch 318/500: 100%|██████████| 23/23 [00:00<00:00, 719.47batch/s, val_mean_loss=2.106478]\n",
      "Epoch 319/500: 100%|██████████| 90/90 [00:00<00:00, 300.92batch/s, train_mean_loss=0.834455]\n",
      "Epoch 319/500: 100%|██████████| 23/23 [00:00<00:00, 743.43batch/s, val_mean_loss=2.103763]\n",
      "Epoch 320/500: 100%|██████████| 90/90 [00:00<00:00, 308.98batch/s, train_mean_loss=0.833304]\n",
      "Epoch 320/500: 100%|██████████| 23/23 [00:00<00:00, 697.73batch/s, val_mean_loss=2.084583]\n",
      "Epoch 321/500: 100%|██████████| 90/90 [00:00<00:00, 269.50batch/s, train_mean_loss=0.821365]\n",
      "Epoch 321/500: 100%|██████████| 23/23 [00:00<00:00, 657.62batch/s, val_mean_loss=2.082375]\n",
      "Epoch 322/500: 100%|██████████| 90/90 [00:00<00:00, 247.72batch/s, train_mean_loss=0.811996]\n",
      "Epoch 322/500: 100%|██████████| 23/23 [00:00<00:00, 620.74batch/s, val_mean_loss=2.092071]\n",
      "Epoch 323/500: 100%|██████████| 90/90 [00:00<00:00, 250.78batch/s, train_mean_loss=0.808565]\n",
      "Epoch 323/500: 100%|██████████| 23/23 [00:00<00:00, 766.69batch/s, val_mean_loss=2.080425]\n",
      "Epoch 324/500: 100%|██████████| 90/90 [00:00<00:00, 271.08batch/s, train_mean_loss=0.815624]\n",
      "Epoch 324/500: 100%|██████████| 23/23 [00:00<00:00, 741.57batch/s, val_mean_loss=2.092821]\n",
      "Epoch 325/500: 100%|██████████| 90/90 [00:00<00:00, 308.85batch/s, train_mean_loss=0.795496]\n",
      "Epoch 325/500: 100%|██████████| 23/23 [00:00<00:00, 718.79batch/s, val_mean_loss=2.093414]\n",
      "Epoch 326/500: 100%|██████████| 90/90 [00:00<00:00, 312.21batch/s, train_mean_loss=0.793047]\n",
      "Epoch 326/500: 100%|██████████| 23/23 [00:00<00:00, 698.05batch/s, val_mean_loss=2.120474]\n",
      "Epoch 327/500: 100%|██████████| 90/90 [00:00<00:00, 311.89batch/s, train_mean_loss=0.786253]\n",
      "Epoch 327/500: 100%|██████████| 23/23 [00:00<00:00, 723.70batch/s, val_mean_loss=2.101798]\n",
      "Epoch 328/500: 100%|██████████| 90/90 [00:00<00:00, 310.56batch/s, train_mean_loss=0.782650]\n",
      "Epoch 328/500: 100%|██████████| 23/23 [00:00<00:00, 852.00batch/s, val_mean_loss=2.096876]\n",
      "Epoch 329/500: 100%|██████████| 90/90 [00:00<00:00, 308.69batch/s, train_mean_loss=0.770492]\n",
      "Epoch 329/500: 100%|██████████| 23/23 [00:00<00:00, 766.69batch/s, val_mean_loss=2.096913]\n",
      "Epoch 330/500: 100%|██████████| 90/90 [00:00<00:00, 309.72batch/s, train_mean_loss=0.763887]\n",
      "Epoch 330/500: 100%|██████████| 23/23 [00:00<00:00, 697.01batch/s, val_mean_loss=2.106191]\n",
      "Epoch 331/500: 100%|██████████| 90/90 [00:00<00:00, 255.65batch/s, train_mean_loss=0.767722]\n",
      "Epoch 331/500: 100%|██████████| 23/23 [00:00<00:00, 795.44batch/s, val_mean_loss=2.107541]\n",
      "Epoch 332/500: 100%|██████████| 90/90 [00:00<00:00, 304.09batch/s, train_mean_loss=0.755730]\n",
      "Epoch 332/500: 100%|██████████| 23/23 [00:00<00:00, 718.75batch/s, val_mean_loss=2.116414]\n",
      "Epoch 333/500: 100%|██████████| 90/90 [00:00<00:00, 305.50batch/s, train_mean_loss=0.744990]\n",
      "Epoch 333/500: 100%|██████████| 23/23 [00:00<00:00, 718.25batch/s, val_mean_loss=2.116225]\n",
      "Epoch 334/500: 100%|██████████| 90/90 [00:00<00:00, 313.66batch/s, train_mean_loss=0.750228]\n",
      "Epoch 334/500: 100%|██████████| 23/23 [00:00<00:00, 678.25batch/s, val_mean_loss=2.116973]\n",
      "Epoch 335/500: 100%|██████████| 90/90 [00:00<00:00, 253.12batch/s, train_mean_loss=0.743570]\n",
      "Epoch 335/500: 100%|██████████| 23/23 [00:00<00:00, 742.24batch/s, val_mean_loss=2.133631]\n",
      "Epoch 336/500: 100%|██████████| 90/90 [00:00<00:00, 252.87batch/s, train_mean_loss=0.737869]\n",
      "Epoch 336/500: 100%|██████████| 23/23 [00:00<00:00, 720.95batch/s, val_mean_loss=2.124820]\n",
      "Epoch 337/500: 100%|██████████| 90/90 [00:00<00:00, 245.26batch/s, train_mean_loss=0.745785]\n",
      "Epoch 337/500: 100%|██████████| 23/23 [00:00<00:00, 764.28batch/s, val_mean_loss=2.110522]\n",
      "Epoch 338/500: 100%|██████████| 90/90 [00:00<00:00, 253.03batch/s, train_mean_loss=0.726999]\n",
      "Epoch 338/500: 100%|██████████| 23/23 [00:00<00:00, 718.89batch/s, val_mean_loss=2.126820]\n",
      "Epoch 339/500: 100%|██████████| 90/90 [00:00<00:00, 256.34batch/s, train_mean_loss=0.724615]\n",
      "Epoch 339/500: 100%|██████████| 23/23 [00:00<00:00, 792.98batch/s, val_mean_loss=2.152420]\n",
      "Epoch 340/500: 100%|██████████| 90/90 [00:00<00:00, 307.70batch/s, train_mean_loss=0.720255]\n",
      "Epoch 340/500: 100%|██████████| 23/23 [00:00<00:00, 676.65batch/s, val_mean_loss=2.131172]\n",
      "Epoch 341/500: 100%|██████████| 90/90 [00:00<00:00, 313.64batch/s, train_mean_loss=0.714593]\n",
      "Epoch 341/500: 100%|██████████| 23/23 [00:00<00:00, 741.96batch/s, val_mean_loss=2.145205]\n",
      "Epoch 342/500: 100%|██████████| 90/90 [00:00<00:00, 314.58batch/s, train_mean_loss=0.710586]\n",
      "Epoch 342/500: 100%|██████████| 23/23 [00:00<00:00, 718.82batch/s, val_mean_loss=2.123854]\n",
      "Epoch 343/500: 100%|██████████| 90/90 [00:00<00:00, 308.63batch/s, train_mean_loss=0.703731]\n",
      "Epoch 343/500: 100%|██████████| 23/23 [00:00<00:00, 720.89batch/s, val_mean_loss=2.167612]\n",
      "Epoch 344/500: 100%|██████████| 90/90 [00:00<00:00, 316.96batch/s, train_mean_loss=0.698241]\n",
      "Epoch 344/500: 100%|██████████| 23/23 [00:00<00:00, 744.16batch/s, val_mean_loss=2.149433]\n",
      "Epoch 345/500: 100%|██████████| 90/90 [00:00<00:00, 309.04batch/s, train_mean_loss=0.701733]\n",
      "Epoch 345/500: 100%|██████████| 23/23 [00:00<00:00, 683.30batch/s, val_mean_loss=2.160810]\n",
      "Epoch 346/500: 100%|██████████| 90/90 [00:00<00:00, 305.12batch/s, train_mean_loss=0.684846]\n",
      "Epoch 346/500: 100%|██████████| 23/23 [00:00<00:00, 718.64batch/s, val_mean_loss=2.145908]\n",
      "Epoch 347/500: 100%|██████████| 90/90 [00:00<00:00, 309.27batch/s, train_mean_loss=0.692755]\n",
      "Epoch 347/500: 100%|██████████| 23/23 [00:00<00:00, 696.95batch/s, val_mean_loss=2.137558]\n",
      "Epoch 348/500: 100%|██████████| 90/90 [00:00<00:00, 306.80batch/s, train_mean_loss=0.674811]\n",
      "Epoch 348/500: 100%|██████████| 23/23 [00:00<00:00, 622.22batch/s, val_mean_loss=2.155777]\n",
      "Epoch 349/500: 100%|██████████| 90/90 [00:00<00:00, 295.08batch/s, train_mean_loss=0.676130]\n",
      "Epoch 349/500: 100%|██████████| 23/23 [00:00<00:00, 657.14batch/s, val_mean_loss=2.163750]\n",
      "Epoch 350/500: 100%|██████████| 90/90 [00:00<00:00, 268.66batch/s, train_mean_loss=0.670001]\n",
      "Epoch 350/500: 100%|██████████| 23/23 [00:00<00:00, 682.79batch/s, val_mean_loss=2.166015]\n",
      "Epoch 351/500: 100%|██████████| 90/90 [00:00<00:00, 247.48batch/s, train_mean_loss=0.664231]\n",
      "Epoch 351/500: 100%|██████████| 23/23 [00:00<00:00, 794.19batch/s, val_mean_loss=2.155219]\n",
      "Epoch 352/500: 100%|██████████| 90/90 [00:00<00:00, 250.03batch/s, train_mean_loss=0.672093]\n",
      "Epoch 352/500: 100%|██████████| 23/23 [00:00<00:00, 741.80batch/s, val_mean_loss=2.163122]\n",
      "Epoch 353/500: 100%|██████████| 90/90 [00:00<00:00, 251.85batch/s, train_mean_loss=0.661025]\n",
      "Epoch 353/500: 100%|██████████| 23/23 [00:00<00:00, 743.34batch/s, val_mean_loss=2.149003]\n",
      "Epoch 354/500: 100%|██████████| 90/90 [00:00<00:00, 271.10batch/s, train_mean_loss=0.646787]\n",
      "Epoch 354/500: 100%|██████████| 23/23 [00:00<00:00, 794.96batch/s, val_mean_loss=2.187851]\n",
      "Epoch 355/500: 100%|██████████| 90/90 [00:00<00:00, 308.47batch/s, train_mean_loss=0.644151]\n",
      "Epoch 355/500: 100%|██████████| 23/23 [00:00<00:00, 667.41batch/s, val_mean_loss=2.176985]\n",
      "Epoch 356/500: 100%|██████████| 90/90 [00:00<00:00, 321.44batch/s, train_mean_loss=0.640232]\n",
      "Epoch 356/500: 100%|██████████| 23/23 [00:00<00:00, 742.28batch/s, val_mean_loss=2.189590]\n",
      "Epoch 357/500: 100%|██████████| 90/90 [00:00<00:00, 309.31batch/s, train_mean_loss=0.638364]\n",
      "Epoch 357/500: 100%|██████████| 23/23 [00:00<00:00, 677.97batch/s, val_mean_loss=2.163191]\n",
      "Epoch 358/500: 100%|██████████| 90/90 [00:00<00:00, 311.49batch/s, train_mean_loss=0.631284]\n",
      "Epoch 358/500: 100%|██████████| 23/23 [00:00<00:00, 676.46batch/s, val_mean_loss=2.159198]\n",
      "Epoch 359/500: 100%|██████████| 90/90 [00:00<00:00, 278.04batch/s, train_mean_loss=0.628720]\n",
      "Epoch 359/500: 100%|██████████| 23/23 [00:00<00:00, 697.79batch/s, val_mean_loss=2.178100]\n",
      "Epoch 360/500: 100%|██████████| 90/90 [00:00<00:00, 248.90batch/s, train_mean_loss=0.625743]\n",
      "Epoch 360/500: 100%|██████████| 23/23 [00:00<00:00, 638.87batch/s, val_mean_loss=2.172487]\n",
      "Epoch 361/500: 100%|██████████| 90/90 [00:00<00:00, 259.40batch/s, train_mean_loss=0.626595]\n",
      "Epoch 361/500: 100%|██████████| 23/23 [00:00<00:00, 741.47batch/s, val_mean_loss=2.178535]\n",
      "Epoch 362/500: 100%|██████████| 90/90 [00:00<00:00, 322.58batch/s, train_mean_loss=0.618271]\n",
      "Epoch 362/500: 100%|██████████| 23/23 [00:00<00:00, 696.95batch/s, val_mean_loss=2.182860]\n",
      "Epoch 363/500: 100%|██████████| 90/90 [00:00<00:00, 268.41batch/s, train_mean_loss=0.610118]\n",
      "Epoch 363/500: 100%|██████████| 23/23 [00:00<00:00, 489.37batch/s, val_mean_loss=2.173906]\n",
      "Epoch 364/500: 100%|██████████| 90/90 [00:00<00:00, 306.96batch/s, train_mean_loss=0.600072]\n",
      "Epoch 364/500: 100%|██████████| 23/23 [00:00<00:00, 676.45batch/s, val_mean_loss=2.187465]\n",
      "Epoch 365/500: 100%|██████████| 90/90 [00:00<00:00, 315.16batch/s, train_mean_loss=0.605953]\n",
      "Epoch 365/500: 100%|██████████| 23/23 [00:00<00:00, 697.35batch/s, val_mean_loss=2.194112]\n",
      "Epoch 366/500: 100%|██████████| 90/90 [00:00<00:00, 270.29batch/s, train_mean_loss=0.586958]\n",
      "Epoch 366/500: 100%|██████████| 23/23 [00:00<00:00, 718.75batch/s, val_mean_loss=2.204746]\n",
      "Epoch 367/500: 100%|██████████| 90/90 [00:00<00:00, 320.38batch/s, train_mean_loss=0.609138]\n",
      "Epoch 367/500: 100%|██████████| 23/23 [00:00<00:00, 656.77batch/s, val_mean_loss=2.188639]\n",
      "Epoch 368/500: 100%|██████████| 90/90 [00:00<00:00, 311.50batch/s, train_mean_loss=0.589387]\n",
      "Epoch 368/500: 100%|██████████| 23/23 [00:00<00:00, 718.43batch/s, val_mean_loss=2.171237]\n",
      "Epoch 369/500: 100%|██████████| 90/90 [00:00<00:00, 308.19batch/s, train_mean_loss=0.580181]\n",
      "Epoch 369/500: 100%|██████████| 23/23 [00:00<00:00, 718.78batch/s, val_mean_loss=2.190217]\n",
      "Epoch 370/500: 100%|██████████| 90/90 [00:00<00:00, 309.78batch/s, train_mean_loss=0.588018]\n",
      "Epoch 370/500: 100%|██████████| 23/23 [00:00<00:00, 718.72batch/s, val_mean_loss=2.196105]\n",
      "Epoch 371/500: 100%|██████████| 90/90 [00:00<00:00, 306.61batch/s, train_mean_loss=0.575828]\n",
      "Epoch 371/500: 100%|██████████| 23/23 [00:00<00:00, 676.53batch/s, val_mean_loss=2.190075]\n",
      "Epoch 372/500: 100%|██████████| 90/90 [00:00<00:00, 296.12batch/s, train_mean_loss=0.582309]\n",
      "Epoch 372/500: 100%|██████████| 23/23 [00:00<00:00, 718.43batch/s, val_mean_loss=2.201291]\n",
      "Epoch 373/500: 100%|██████████| 90/90 [00:00<00:00, 300.31batch/s, train_mean_loss=0.574647]\n",
      "Epoch 373/500: 100%|██████████| 23/23 [00:00<00:00, 718.51batch/s, val_mean_loss=2.198140]\n",
      "Epoch 374/500: 100%|██████████| 90/90 [00:00<00:00, 294.83batch/s, train_mean_loss=0.563082]\n",
      "Epoch 374/500: 100%|██████████| 23/23 [00:00<00:00, 696.81batch/s, val_mean_loss=2.209102]\n",
      "Epoch 375/500: 100%|██████████| 90/90 [00:00<00:00, 298.07batch/s, train_mean_loss=0.570997]\n",
      "Epoch 375/500: 100%|██████████| 23/23 [00:00<00:00, 793.41batch/s, val_mean_loss=2.210592]\n",
      "Epoch 376/500: 100%|██████████| 90/90 [00:00<00:00, 260.46batch/s, train_mean_loss=0.565326]\n",
      "Epoch 376/500: 100%|██████████| 23/23 [00:00<00:00, 718.71batch/s, val_mean_loss=2.195078]\n",
      "Epoch 377/500: 100%|██████████| 90/90 [00:00<00:00, 245.89batch/s, train_mean_loss=0.569105]\n",
      "Epoch 377/500: 100%|██████████| 23/23 [00:00<00:00, 678.14batch/s, val_mean_loss=2.193546]\n",
      "Epoch 378/500: 100%|██████████| 90/90 [00:00<00:00, 247.54batch/s, train_mean_loss=0.549772]\n",
      "Epoch 378/500: 100%|██████████| 23/23 [00:00<00:00, 718.35batch/s, val_mean_loss=2.223070]\n",
      "Epoch 379/500: 100%|██████████| 90/90 [00:00<00:00, 257.18batch/s, train_mean_loss=0.545097]\n",
      "Epoch 379/500: 100%|██████████| 23/23 [00:00<00:00, 638.87batch/s, val_mean_loss=2.213418]\n",
      "Epoch 380/500: 100%|██████████| 90/90 [00:00<00:00, 247.32batch/s, train_mean_loss=0.560399]\n",
      "Epoch 380/500: 100%|██████████| 23/23 [00:00<00:00, 675.82batch/s, val_mean_loss=2.214493]\n",
      "Epoch 381/500: 100%|██████████| 90/90 [00:00<00:00, 309.25batch/s, train_mean_loss=0.558215]\n",
      "Epoch 381/500: 100%|██████████| 23/23 [00:00<00:00, 718.88batch/s, val_mean_loss=2.213526]\n",
      "Epoch 382/500: 100%|██████████| 90/90 [00:00<00:00, 313.57batch/s, train_mean_loss=0.543420]\n",
      "Epoch 382/500: 100%|██████████| 23/23 [00:00<00:00, 676.44batch/s, val_mean_loss=2.220024]\n",
      "Epoch 383/500: 100%|██████████| 90/90 [00:00<00:00, 307.66batch/s, train_mean_loss=0.538185]\n",
      "Epoch 383/500: 100%|██████████| 23/23 [00:00<00:00, 656.89batch/s, val_mean_loss=2.219194]\n",
      "Epoch 384/500: 100%|██████████| 90/90 [00:00<00:00, 308.32batch/s, train_mean_loss=0.539746]\n",
      "Epoch 384/500: 100%|██████████| 23/23 [00:00<00:00, 766.59batch/s, val_mean_loss=2.228465]\n",
      "Epoch 385/500: 100%|██████████| 90/90 [00:00<00:00, 307.69batch/s, train_mean_loss=0.536968]\n",
      "Epoch 385/500: 100%|██████████| 23/23 [00:00<00:00, 677.49batch/s, val_mean_loss=2.207934]\n",
      "Epoch 386/500: 100%|██████████| 90/90 [00:00<00:00, 306.90batch/s, train_mean_loss=0.532234]\n",
      "Epoch 386/500: 100%|██████████| 23/23 [00:00<00:00, 676.41batch/s, val_mean_loss=2.233171]\n",
      "Epoch 387/500: 100%|██████████| 90/90 [00:00<00:00, 307.25batch/s, train_mean_loss=0.522509]\n",
      "Epoch 387/500: 100%|██████████| 23/23 [00:00<00:00, 718.72batch/s, val_mean_loss=2.232765]\n",
      "Epoch 388/500: 100%|██████████| 90/90 [00:00<00:00, 296.59batch/s, train_mean_loss=0.527917]\n",
      "Epoch 388/500: 100%|██████████| 23/23 [00:00<00:00, 683.90batch/s, val_mean_loss=2.227900]\n",
      "Epoch 389/500: 100%|██████████| 90/90 [00:00<00:00, 287.72batch/s, train_mean_loss=0.525851]\n",
      "Epoch 389/500: 100%|██████████| 23/23 [00:00<00:00, 696.59batch/s, val_mean_loss=2.223277]\n",
      "Epoch 390/500: 100%|██████████| 90/90 [00:00<00:00, 296.10batch/s, train_mean_loss=0.516590]\n",
      "Epoch 390/500: 100%|██████████| 23/23 [00:00<00:00, 718.74batch/s, val_mean_loss=2.215929]\n",
      "Epoch 391/500: 100%|██████████| 90/90 [00:00<00:00, 260.61batch/s, train_mean_loss=0.515362]\n",
      "Epoch 391/500: 100%|██████████| 23/23 [00:00<00:00, 696.53batch/s, val_mean_loss=2.227933]\n",
      "Epoch 392/500: 100%|██████████| 90/90 [00:00<00:00, 247.91batch/s, train_mean_loss=0.524082]\n",
      "Epoch 392/500: 100%|██████████| 23/23 [00:00<00:00, 639.69batch/s, val_mean_loss=2.224579]\n",
      "Epoch 393/500: 100%|██████████| 90/90 [00:00<00:00, 245.65batch/s, train_mean_loss=0.513276]\n",
      "Epoch 393/500: 100%|██████████| 23/23 [00:00<00:00, 677.34batch/s, val_mean_loss=2.238178]\n",
      "Epoch 394/500: 100%|██████████| 90/90 [00:00<00:00, 249.62batch/s, train_mean_loss=0.517322]\n",
      "Epoch 394/500: 100%|██████████| 23/23 [00:00<00:00, 697.31batch/s, val_mean_loss=2.230383]\n",
      "Epoch 395/500: 100%|██████████| 90/90 [00:00<00:00, 230.13batch/s, train_mean_loss=0.497887]\n",
      "Epoch 395/500: 100%|██████████| 23/23 [00:00<00:00, 589.76batch/s, val_mean_loss=2.248197]\n",
      "Epoch 396/500: 100%|██████████| 90/90 [00:00<00:00, 264.67batch/s, train_mean_loss=0.498424]\n",
      "Epoch 396/500: 100%|██████████| 23/23 [00:00<00:00, 743.12batch/s, val_mean_loss=2.230334]\n",
      "Epoch 397/500: 100%|██████████| 90/90 [00:00<00:00, 295.14batch/s, train_mean_loss=0.500918]\n",
      "Epoch 397/500: 100%|██████████| 23/23 [00:00<00:00, 696.61batch/s, val_mean_loss=2.240588]\n",
      "Epoch 398/500: 100%|██████████| 90/90 [00:00<00:00, 303.75batch/s, train_mean_loss=0.493371]\n",
      "Epoch 398/500: 100%|██████████| 23/23 [00:00<00:00, 741.93batch/s, val_mean_loss=2.238937]\n",
      "Epoch 399/500: 100%|██████████| 90/90 [00:00<00:00, 307.17batch/s, train_mean_loss=0.499144]\n",
      "Epoch 399/500: 100%|██████████| 23/23 [00:00<00:00, 719.68batch/s, val_mean_loss=2.222272]\n",
      "Epoch 400/500: 100%|██████████| 90/90 [00:00<00:00, 303.01batch/s, train_mean_loss=0.495034]\n",
      "Epoch 400/500: 100%|██████████| 23/23 [00:00<00:00, 696.42batch/s, val_mean_loss=2.236743]\n",
      "Epoch 401/500: 100%|██████████| 90/90 [00:00<00:00, 263.50batch/s, train_mean_loss=0.483492]\n",
      "Epoch 401/500: 100%|██████████| 23/23 [00:00<00:00, 675.91batch/s, val_mean_loss=2.247153]\n",
      "Epoch 402/500: 100%|██████████| 90/90 [00:00<00:00, 246.55batch/s, train_mean_loss=0.488477]\n",
      "Epoch 402/500: 100%|██████████| 23/23 [00:00<00:00, 677.04batch/s, val_mean_loss=2.241650]\n",
      "Epoch 403/500: 100%|██████████| 90/90 [00:00<00:00, 242.34batch/s, train_mean_loss=0.478730]\n",
      "Epoch 403/500: 100%|██████████| 23/23 [00:00<00:00, 606.31batch/s, val_mean_loss=2.251560]\n",
      "Epoch 404/500: 100%|██████████| 90/90 [00:00<00:00, 270.21batch/s, train_mean_loss=0.477749]\n",
      "Epoch 404/500: 100%|██████████| 23/23 [00:00<00:00, 676.57batch/s, val_mean_loss=2.256455]\n",
      "Epoch 405/500: 100%|██████████| 90/90 [00:00<00:00, 300.59batch/s, train_mean_loss=0.483577]\n",
      "Epoch 405/500: 100%|██████████| 23/23 [00:00<00:00, 675.99batch/s, val_mean_loss=2.240129]\n",
      "Epoch 406/500: 100%|██████████| 90/90 [00:00<00:00, 307.02batch/s, train_mean_loss=0.474842]\n",
      "Epoch 406/500: 100%|██████████| 23/23 [00:00<00:00, 697.07batch/s, val_mean_loss=2.241068]\n",
      "Epoch 407/500: 100%|██████████| 90/90 [00:00<00:00, 308.22batch/s, train_mean_loss=0.471933]\n",
      "Epoch 407/500: 100%|██████████| 23/23 [00:00<00:00, 741.94batch/s, val_mean_loss=2.257508]\n",
      "Epoch 408/500: 100%|██████████| 90/90 [00:00<00:00, 307.67batch/s, train_mean_loss=0.472354]\n",
      "Epoch 408/500: 100%|██████████| 23/23 [00:00<00:00, 718.80batch/s, val_mean_loss=2.261576]\n",
      "Epoch 409/500: 100%|██████████| 90/90 [00:00<00:00, 293.25batch/s, train_mean_loss=0.460436]\n",
      "Epoch 409/500: 100%|██████████| 23/23 [00:00<00:00, 741.59batch/s, val_mean_loss=2.249130]\n",
      "Epoch 410/500: 100%|██████████| 90/90 [00:00<00:00, 300.01batch/s, train_mean_loss=0.466779]\n",
      "Epoch 410/500: 100%|██████████| 23/23 [00:00<00:00, 674.43batch/s, val_mean_loss=2.229810]\n",
      "Epoch 411/500: 100%|██████████| 90/90 [00:00<00:00, 302.33batch/s, train_mean_loss=0.455888]\n",
      "Epoch 411/500: 100%|██████████| 23/23 [00:00<00:00, 696.95batch/s, val_mean_loss=2.265506]\n",
      "Epoch 412/500: 100%|██████████| 90/90 [00:00<00:00, 293.15batch/s, train_mean_loss=0.459355]\n",
      "Epoch 412/500: 100%|██████████| 23/23 [00:00<00:00, 697.60batch/s, val_mean_loss=2.233457]\n",
      "Epoch 413/500: 100%|██████████| 90/90 [00:00<00:00, 262.61batch/s, train_mean_loss=0.457071]\n",
      "Epoch 413/500: 100%|██████████| 23/23 [00:00<00:00, 718.12batch/s, val_mean_loss=2.234229]\n",
      "Epoch 414/500: 100%|██████████| 90/90 [00:00<00:00, 243.90batch/s, train_mean_loss=0.457452]\n",
      "Epoch 414/500: 100%|██████████| 23/23 [00:00<00:00, 657.02batch/s, val_mean_loss=2.263286]\n",
      "Epoch 415/500: 100%|██████████| 90/90 [00:00<00:00, 246.68batch/s, train_mean_loss=0.451295]\n",
      "Epoch 415/500: 100%|██████████| 23/23 [00:00<00:00, 719.02batch/s, val_mean_loss=2.249704]\n",
      "Epoch 416/500: 100%|██████████| 90/90 [00:00<00:00, 245.24batch/s, train_mean_loss=0.443861]\n",
      "Epoch 416/500: 100%|██████████| 23/23 [00:00<00:00, 766.50batch/s, val_mean_loss=2.275352]\n",
      "Epoch 417/500: 100%|██████████| 90/90 [00:00<00:00, 247.29batch/s, train_mean_loss=0.449127]\n",
      "Epoch 417/500: 100%|██████████| 23/23 [00:00<00:00, 719.05batch/s, val_mean_loss=2.271498]\n",
      "Epoch 418/500: 100%|██████████| 90/90 [00:00<00:00, 308.20batch/s, train_mean_loss=0.453771]\n",
      "Epoch 418/500: 100%|██████████| 23/23 [00:00<00:00, 741.55batch/s, val_mean_loss=2.259528]\n",
      "Epoch 419/500: 100%|██████████| 90/90 [00:00<00:00, 305.09batch/s, train_mean_loss=0.446701]\n",
      "Epoch 419/500: 100%|██████████| 23/23 [00:00<00:00, 658.02batch/s, val_mean_loss=2.249608]\n",
      "Epoch 420/500: 100%|██████████| 90/90 [00:00<00:00, 306.11batch/s, train_mean_loss=0.443543]\n",
      "Epoch 420/500: 100%|██████████| 23/23 [00:00<00:00, 718.97batch/s, val_mean_loss=2.244031]\n",
      "Epoch 421/500: 100%|██████████| 90/90 [00:00<00:00, 308.23batch/s, train_mean_loss=0.443077]\n",
      "Epoch 421/500: 100%|██████████| 23/23 [00:00<00:00, 718.77batch/s, val_mean_loss=2.246371]\n",
      "Epoch 422/500: 100%|██████████| 90/90 [00:00<00:00, 310.32batch/s, train_mean_loss=0.440328]\n",
      "Epoch 422/500: 100%|██████████| 23/23 [00:00<00:00, 696.99batch/s, val_mean_loss=2.250770]\n",
      "Epoch 423/500: 100%|██████████| 90/90 [00:00<00:00, 300.74batch/s, train_mean_loss=0.438764]\n",
      "Epoch 423/500: 100%|██████████| 23/23 [00:00<00:00, 658.37batch/s, val_mean_loss=2.268752]\n",
      "Epoch 424/500: 100%|██████████| 90/90 [00:00<00:00, 295.01batch/s, train_mean_loss=0.433484]\n",
      "Epoch 424/500: 100%|██████████| 23/23 [00:00<00:00, 697.02batch/s, val_mean_loss=2.267133]\n",
      "Epoch 425/500: 100%|██████████| 90/90 [00:00<00:00, 299.10batch/s, train_mean_loss=0.422662]\n",
      "Epoch 425/500: 100%|██████████| 23/23 [00:00<00:00, 726.29batch/s, val_mean_loss=2.255010]\n",
      "Epoch 426/500: 100%|██████████| 90/90 [00:00<00:00, 299.20batch/s, train_mean_loss=0.425556]\n",
      "Epoch 426/500: 100%|██████████| 23/23 [00:00<00:00, 697.41batch/s, val_mean_loss=2.258275]\n",
      "Epoch 427/500: 100%|██████████| 90/90 [00:00<00:00, 217.39batch/s, train_mean_loss=0.427920]\n",
      "Epoch 427/500: 100%|██████████| 23/23 [00:00<00:00, 697.05batch/s, val_mean_loss=2.262740]\n",
      "Epoch 428/500: 100%|██████████| 90/90 [00:00<00:00, 234.02batch/s, train_mean_loss=0.431401]\n",
      "Epoch 428/500: 100%|██████████| 23/23 [00:00<00:00, 675.68batch/s, val_mean_loss=2.259688]\n",
      "Epoch 429/500: 100%|██████████| 90/90 [00:00<00:00, 249.35batch/s, train_mean_loss=0.417540]\n",
      "Epoch 429/500: 100%|██████████| 23/23 [00:00<00:00, 677.43batch/s, val_mean_loss=2.248367]\n",
      "Epoch 430/500: 100%|██████████| 90/90 [00:00<00:00, 251.43batch/s, train_mean_loss=0.417467]\n",
      "Epoch 430/500: 100%|██████████| 23/23 [00:00<00:00, 718.77batch/s, val_mean_loss=2.256232]\n",
      "Epoch 431/500: 100%|██████████| 90/90 [00:00<00:00, 253.57batch/s, train_mean_loss=0.428325]\n",
      "Epoch 431/500: 100%|██████████| 23/23 [00:00<00:00, 676.39batch/s, val_mean_loss=2.251490]\n",
      "Epoch 432/500: 100%|██████████| 90/90 [00:00<00:00, 298.69batch/s, train_mean_loss=0.414990]\n",
      "Epoch 432/500: 100%|██████████| 23/23 [00:00<00:00, 741.91batch/s, val_mean_loss=2.274427]\n",
      "Epoch 433/500: 100%|██████████| 90/90 [00:00<00:00, 307.14batch/s, train_mean_loss=0.406346]\n",
      "Epoch 433/500: 100%|██████████| 23/23 [00:00<00:00, 683.99batch/s, val_mean_loss=2.284953]\n",
      "Epoch 434/500: 100%|██████████| 90/90 [00:00<00:00, 301.09batch/s, train_mean_loss=0.424889]\n",
      "Epoch 434/500: 100%|██████████| 23/23 [00:00<00:00, 741.68batch/s, val_mean_loss=2.265228]\n",
      "Epoch 435/500: 100%|██████████| 90/90 [00:00<00:00, 309.94batch/s, train_mean_loss=0.418027]\n",
      "Epoch 435/500: 100%|██████████| 23/23 [00:00<00:00, 699.36batch/s, val_mean_loss=2.266337]\n",
      "Epoch 436/500: 100%|██████████| 90/90 [00:00<00:00, 264.76batch/s, train_mean_loss=0.403341]\n",
      "Epoch 436/500: 100%|██████████| 23/23 [00:00<00:00, 719.37batch/s, val_mean_loss=2.260385]\n",
      "Epoch 437/500: 100%|██████████| 90/90 [00:00<00:00, 307.22batch/s, train_mean_loss=0.406736]\n",
      "Epoch 437/500: 100%|██████████| 23/23 [00:00<00:00, 676.47batch/s, val_mean_loss=2.271105]\n",
      "Epoch 438/500: 100%|██████████| 90/90 [00:00<00:00, 306.44batch/s, train_mean_loss=0.405354]\n",
      "Epoch 438/500: 100%|██████████| 23/23 [00:00<00:00, 766.67batch/s, val_mean_loss=2.236703]\n",
      "Epoch 439/500: 100%|██████████| 90/90 [00:00<00:00, 299.03batch/s, train_mean_loss=0.398070]\n",
      "Epoch 439/500: 100%|██████████| 23/23 [00:00<00:00, 675.95batch/s, val_mean_loss=2.263147]\n",
      "Epoch 440/500: 100%|██████████| 90/90 [00:00<00:00, 314.03batch/s, train_mean_loss=0.406692]\n",
      "Epoch 440/500: 100%|██████████| 23/23 [00:00<00:00, 742.02batch/s, val_mean_loss=2.266888]\n",
      "Epoch 441/500: 100%|██████████| 90/90 [00:00<00:00, 323.80batch/s, train_mean_loss=0.405434]\n",
      "Epoch 441/500: 100%|██████████| 23/23 [00:00<00:00, 718.17batch/s, val_mean_loss=2.262155]\n",
      "Epoch 442/500: 100%|██████████| 90/90 [00:00<00:00, 321.43batch/s, train_mean_loss=0.402118]\n",
      "Epoch 442/500: 100%|██████████| 23/23 [00:00<00:00, 698.51batch/s, val_mean_loss=2.296593]\n",
      "Epoch 443/500: 100%|██████████| 90/90 [00:00<00:00, 300.40batch/s, train_mean_loss=0.407127]\n",
      "Epoch 443/500: 100%|██████████| 23/23 [00:00<00:00, 696.83batch/s, val_mean_loss=2.272470]\n",
      "Epoch 444/500: 100%|██████████| 90/90 [00:00<00:00, 290.33batch/s, train_mean_loss=0.399875]\n",
      "Epoch 444/500: 100%|██████████| 23/23 [00:00<00:00, 677.05batch/s, val_mean_loss=2.275825]\n",
      "Epoch 445/500: 100%|██████████| 90/90 [00:00<00:00, 291.34batch/s, train_mean_loss=0.402193]\n",
      "Epoch 445/500: 100%|██████████| 23/23 [00:00<00:00, 776.17batch/s, val_mean_loss=2.255453]\n",
      "Epoch 446/500: 100%|██████████| 90/90 [00:00<00:00, 261.83batch/s, train_mean_loss=0.394554]\n",
      "Epoch 446/500: 100%|██████████| 23/23 [00:00<00:00, 638.49batch/s, val_mean_loss=2.260384]\n",
      "Epoch 447/500: 100%|██████████| 90/90 [00:00<00:00, 249.27batch/s, train_mean_loss=0.396417]\n",
      "Epoch 447/500: 100%|██████████| 23/23 [00:00<00:00, 657.49batch/s, val_mean_loss=2.251583]\n",
      "Epoch 448/500: 100%|██████████| 90/90 [00:00<00:00, 244.84batch/s, train_mean_loss=0.399732]\n",
      "Epoch 448/500: 100%|██████████| 23/23 [00:00<00:00, 638.96batch/s, val_mean_loss=2.254409]\n",
      "Epoch 449/500: 100%|██████████| 90/90 [00:00<00:00, 246.53batch/s, train_mean_loss=0.393060]\n",
      "Epoch 449/500: 100%|██████████| 23/23 [00:00<00:00, 639.07batch/s, val_mean_loss=2.261707]\n",
      "Epoch 450/500: 100%|██████████| 90/90 [00:00<00:00, 249.45batch/s, train_mean_loss=0.385422]\n",
      "Epoch 450/500: 100%|██████████| 23/23 [00:00<00:00, 743.52batch/s, val_mean_loss=2.265590]\n",
      "Epoch 451/500: 100%|██████████| 90/90 [00:00<00:00, 305.17batch/s, train_mean_loss=0.382690]\n",
      "Epoch 451/500: 100%|██████████| 23/23 [00:00<00:00, 676.41batch/s, val_mean_loss=2.255571]\n",
      "Epoch 452/500: 100%|██████████| 90/90 [00:00<00:00, 300.98batch/s, train_mean_loss=0.392560]\n",
      "Epoch 452/500: 100%|██████████| 23/23 [00:00<00:00, 678.23batch/s, val_mean_loss=2.273734]\n",
      "Epoch 453/500: 100%|██████████| 90/90 [00:00<00:00, 308.58batch/s, train_mean_loss=0.377294]\n",
      "Epoch 453/500: 100%|██████████| 23/23 [00:00<00:00, 657.32batch/s, val_mean_loss=2.281967]\n",
      "Epoch 454/500: 100%|██████████| 90/90 [00:00<00:00, 315.38batch/s, train_mean_loss=0.385429]\n",
      "Epoch 454/500: 100%|██████████| 23/23 [00:00<00:00, 638.64batch/s, val_mean_loss=2.264736]\n",
      "Epoch 455/500: 100%|██████████| 90/90 [00:00<00:00, 308.37batch/s, train_mean_loss=0.383451]\n",
      "Epoch 455/500: 100%|██████████| 23/23 [00:00<00:00, 704.19batch/s, val_mean_loss=2.258392]\n",
      "Epoch 456/500: 100%|██████████| 90/90 [00:00<00:00, 300.00batch/s, train_mean_loss=0.379920]\n",
      "Epoch 456/500: 100%|██████████| 23/23 [00:00<00:00, 696.96batch/s, val_mean_loss=2.264112]\n",
      "Epoch 457/500: 100%|██████████| 90/90 [00:00<00:00, 265.56batch/s, train_mean_loss=0.377519]\n",
      "Epoch 457/500: 100%|██████████| 23/23 [00:00<00:00, 560.95batch/s, val_mean_loss=2.271119]\n",
      "Epoch 458/500: 100%|██████████| 90/90 [00:00<00:00, 309.39batch/s, train_mean_loss=0.375046]\n",
      "Epoch 458/500: 100%|██████████| 23/23 [00:00<00:00, 657.63batch/s, val_mean_loss=2.282047]\n",
      "Epoch 459/500: 100%|██████████| 90/90 [00:00<00:00, 290.36batch/s, train_mean_loss=0.374494]\n",
      "Epoch 459/500: 100%|██████████| 23/23 [00:00<00:00, 638.91batch/s, val_mean_loss=2.252751]\n",
      "Epoch 460/500: 100%|██████████| 90/90 [00:00<00:00, 239.09batch/s, train_mean_loss=0.375945]\n",
      "Epoch 460/500: 100%|██████████| 23/23 [00:00<00:00, 718.82batch/s, val_mean_loss=2.278884]\n",
      "Epoch 461/500: 100%|██████████| 90/90 [00:00<00:00, 250.72batch/s, train_mean_loss=0.372388]\n",
      "Epoch 461/500: 100%|██████████| 23/23 [00:00<00:00, 696.85batch/s, val_mean_loss=2.280412]\n",
      "Epoch 462/500: 100%|██████████| 90/90 [00:00<00:00, 248.62batch/s, train_mean_loss=0.364376]\n",
      "Epoch 462/500: 100%|██████████| 23/23 [00:00<00:00, 684.25batch/s, val_mean_loss=2.279678]\n",
      "Epoch 463/500: 100%|██████████| 90/90 [00:00<00:00, 244.79batch/s, train_mean_loss=0.364061]\n",
      "Epoch 463/500: 100%|██████████| 23/23 [00:00<00:00, 676.22batch/s, val_mean_loss=2.268534]\n",
      "Epoch 464/500: 100%|██████████| 90/90 [00:00<00:00, 263.16batch/s, train_mean_loss=0.366818]\n",
      "Epoch 464/500: 100%|██████████| 23/23 [00:00<00:00, 766.31batch/s, val_mean_loss=2.275778]\n",
      "Epoch 465/500: 100%|██████████| 90/90 [00:00<00:00, 301.55batch/s, train_mean_loss=0.364059]\n",
      "Epoch 465/500: 100%|██████████| 23/23 [00:00<00:00, 698.45batch/s, val_mean_loss=2.287747]\n",
      "Epoch 466/500: 100%|██████████| 90/90 [00:00<00:00, 308.22batch/s, train_mean_loss=0.371943]\n",
      "Epoch 466/500: 100%|██████████| 23/23 [00:00<00:00, 676.81batch/s, val_mean_loss=2.306792]\n",
      "Epoch 467/500: 100%|██████████| 90/90 [00:00<00:00, 300.00batch/s, train_mean_loss=0.360204]\n",
      "Epoch 467/500: 100%|██████████| 23/23 [00:00<00:00, 721.28batch/s, val_mean_loss=2.286762]\n",
      "Epoch 468/500: 100%|██████████| 90/90 [00:00<00:00, 307.86batch/s, train_mean_loss=0.365193]\n",
      "Epoch 468/500: 100%|██████████| 23/23 [00:00<00:00, 638.92batch/s, val_mean_loss=2.294988]\n",
      "Epoch 469/500: 100%|██████████| 90/90 [00:00<00:00, 273.55batch/s, train_mean_loss=0.360908]\n",
      "Epoch 469/500: 100%|██████████| 23/23 [00:00<00:00, 696.72batch/s, val_mean_loss=2.283172]\n",
      "Epoch 470/500: 100%|██████████| 90/90 [00:00<00:00, 300.67batch/s, train_mean_loss=0.355785]\n",
      "Epoch 470/500: 100%|██████████| 23/23 [00:00<00:00, 697.37batch/s, val_mean_loss=2.284872]\n",
      "Epoch 471/500: 100%|██████████| 90/90 [00:00<00:00, 301.02batch/s, train_mean_loss=0.358412]\n",
      "Epoch 471/500: 100%|██████████| 23/23 [00:00<00:00, 697.27batch/s, val_mean_loss=2.288733]\n",
      "Epoch 472/500: 100%|██████████| 90/90 [00:00<00:00, 312.58batch/s, train_mean_loss=0.357409]\n",
      "Epoch 472/500: 100%|██████████| 23/23 [00:00<00:00, 697.00batch/s, val_mean_loss=2.284197]\n",
      "Epoch 473/500: 100%|██████████| 90/90 [00:00<00:00, 309.29batch/s, train_mean_loss=0.358419]\n",
      "Epoch 473/500: 100%|██████████| 23/23 [00:00<00:00, 742.45batch/s, val_mean_loss=2.291518]\n",
      "Epoch 474/500: 100%|██████████| 90/90 [00:00<00:00, 307.16batch/s, train_mean_loss=0.364135]\n",
      "Epoch 474/500: 100%|██████████| 23/23 [00:00<00:00, 676.11batch/s, val_mean_loss=2.264981]\n",
      "Epoch 475/500: 100%|██████████| 90/90 [00:00<00:00, 293.23batch/s, train_mean_loss=0.350743]\n",
      "Epoch 475/500: 100%|██████████| 23/23 [00:00<00:00, 718.38batch/s, val_mean_loss=2.282740]\n",
      "Epoch 476/500: 100%|██████████| 90/90 [00:00<00:00, 284.11batch/s, train_mean_loss=0.363636]\n",
      "Epoch 476/500: 100%|██████████| 23/23 [00:00<00:00, 697.09batch/s, val_mean_loss=2.292746]\n",
      "Epoch 477/500: 100%|██████████| 90/90 [00:00<00:00, 303.12batch/s, train_mean_loss=0.350430]\n",
      "Epoch 477/500: 100%|██████████| 23/23 [00:00<00:00, 696.49batch/s, val_mean_loss=2.311315]\n",
      "Epoch 478/500: 100%|██████████| 90/90 [00:00<00:00, 291.30batch/s, train_mean_loss=0.348155]\n",
      "Epoch 478/500: 100%|██████████| 23/23 [00:00<00:00, 697.73batch/s, val_mean_loss=2.272003]\n",
      "Epoch 479/500: 100%|██████████| 90/90 [00:00<00:00, 249.98batch/s, train_mean_loss=0.354961]\n",
      "Epoch 479/500: 100%|██████████| 23/23 [00:00<00:00, 718.77batch/s, val_mean_loss=2.303837]\n",
      "Epoch 480/500: 100%|██████████| 90/90 [00:00<00:00, 245.24batch/s, train_mean_loss=0.346088]\n",
      "Epoch 480/500: 100%|██████████| 23/23 [00:00<00:00, 697.02batch/s, val_mean_loss=2.281892]\n",
      "Epoch 481/500: 100%|██████████| 90/90 [00:00<00:00, 243.44batch/s, train_mean_loss=0.346731]\n",
      "Epoch 481/500: 100%|██████████| 23/23 [00:00<00:00, 657.22batch/s, val_mean_loss=2.282773]\n",
      "Epoch 482/500: 100%|██████████| 90/90 [00:00<00:00, 249.99batch/s, train_mean_loss=0.342940]\n",
      "Epoch 482/500: 100%|██████████| 23/23 [00:00<00:00, 656.94batch/s, val_mean_loss=2.291226]\n",
      "Epoch 483/500: 100%|██████████| 90/90 [00:00<00:00, 258.63batch/s, train_mean_loss=0.343368]\n",
      "Epoch 483/500: 100%|██████████| 23/23 [00:00<00:00, 677.26batch/s, val_mean_loss=2.265964]\n",
      "Epoch 484/500: 100%|██████████| 90/90 [00:00<00:00, 312.61batch/s, train_mean_loss=0.338103]\n",
      "Epoch 484/500: 100%|██████████| 23/23 [00:00<00:00, 696.59batch/s, val_mean_loss=2.279998]\n",
      "Epoch 485/500: 100%|██████████| 90/90 [00:00<00:00, 293.18batch/s, train_mean_loss=0.337044]\n",
      "Epoch 485/500: 100%|██████████| 23/23 [00:00<00:00, 677.37batch/s, val_mean_loss=2.290379]\n",
      "Epoch 486/500: 100%|██████████| 90/90 [00:00<00:00, 307.17batch/s, train_mean_loss=0.346297]\n",
      "Epoch 486/500: 100%|██████████| 23/23 [00:00<00:00, 676.51batch/s, val_mean_loss=2.284324]\n",
      "Epoch 487/500: 100%|██████████| 90/90 [00:00<00:00, 267.91batch/s, train_mean_loss=0.341511]\n",
      "Epoch 487/500: 100%|██████████| 23/23 [00:00<00:00, 547.56batch/s, val_mean_loss=2.286099]\n",
      "Epoch 488/500: 100%|██████████| 90/90 [00:00<00:00, 314.12batch/s, train_mean_loss=0.341933]\n",
      "Epoch 488/500: 100%|██████████| 23/23 [00:00<00:00, 695.95batch/s, val_mean_loss=2.282880]\n",
      "Epoch 489/500: 100%|██████████| 90/90 [00:00<00:00, 302.94batch/s, train_mean_loss=0.338677]\n",
      "Epoch 489/500: 100%|██████████| 23/23 [00:00<00:00, 697.98batch/s, val_mean_loss=2.281392]\n",
      "Epoch 490/500: 100%|██████████| 90/90 [00:00<00:00, 310.33batch/s, train_mean_loss=0.336757]\n",
      "Epoch 490/500: 100%|██████████| 23/23 [00:00<00:00, 676.47batch/s, val_mean_loss=2.278163]\n",
      "Epoch 491/500: 100%|██████████| 90/90 [00:00<00:00, 294.15batch/s, train_mean_loss=0.338603]\n",
      "Epoch 491/500: 100%|██████████| 23/23 [00:00<00:00, 657.24batch/s, val_mean_loss=2.302214]\n",
      "Epoch 492/500: 100%|██████████| 90/90 [00:00<00:00, 264.62batch/s, train_mean_loss=0.332129]\n",
      "Epoch 492/500: 100%|██████████| 23/23 [00:00<00:00, 715.23batch/s, val_mean_loss=2.287607]\n",
      "Epoch 493/500: 100%|██████████| 90/90 [00:00<00:00, 248.93batch/s, train_mean_loss=0.330097]\n",
      "Epoch 493/500: 100%|██████████| 23/23 [00:00<00:00, 676.46batch/s, val_mean_loss=2.295452]\n",
      "Epoch 494/500: 100%|██████████| 90/90 [00:00<00:00, 248.61batch/s, train_mean_loss=0.327668]\n",
      "Epoch 494/500: 100%|██████████| 23/23 [00:00<00:00, 638.73batch/s, val_mean_loss=2.288240]\n",
      "Epoch 495/500: 100%|██████████| 90/90 [00:00<00:00, 246.35batch/s, train_mean_loss=0.320714]\n",
      "Epoch 495/500: 100%|██████████| 23/23 [00:00<00:00, 696.98batch/s, val_mean_loss=2.286733]\n",
      "Epoch 496/500: 100%|██████████| 90/90 [00:00<00:00, 249.31batch/s, train_mean_loss=0.326614]\n",
      "Epoch 496/500: 100%|██████████| 23/23 [00:00<00:00, 697.15batch/s, val_mean_loss=2.264867]\n",
      "Epoch 497/500: 100%|██████████| 90/90 [00:00<00:00, 250.97batch/s, train_mean_loss=0.331446]\n",
      "Epoch 497/500: 100%|██████████| 23/23 [00:00<00:00, 696.99batch/s, val_mean_loss=2.300896]\n",
      "Epoch 498/500: 100%|██████████| 90/90 [00:00<00:00, 301.09batch/s, train_mean_loss=0.320427]\n",
      "Epoch 498/500: 100%|██████████| 23/23 [00:00<00:00, 696.95batch/s, val_mean_loss=2.302353]\n",
      "Epoch 499/500: 100%|██████████| 90/90 [00:00<00:00, 301.05batch/s, train_mean_loss=0.326309]\n",
      "Epoch 499/500: 100%|██████████| 23/23 [00:00<00:00, 656.89batch/s, val_mean_loss=2.279597]\n",
      "Epoch 500/500: 100%|██████████| 90/90 [00:00<00:00, 311.24batch/s, train_mean_loss=0.323224]\n",
      "Epoch 500/500: 100%|██████████| 23/23 [00:00<00:00, 656.87batch/s, val_mean_loss=2.265436]\n"
     ]
    }
   ],
   "source": [
    "# Training\n",
    "train_num_samples = len(train)\n",
    "train_num_batches = (train_num_samples + CONFIG['BATCH_SIZE'] - 1) // CONFIG['BATCH_SIZE']\n",
    "\n",
    "val_num_samples = len(val)\n",
    "val_num_batches = (val_num_samples + CONFIG['BATCH_SIZE'] - 1) // CONFIG['BATCH_SIZE']\n",
    "best_score = float('-inf')\n",
    "for epoch in range(CONFIG['EPOCHS']):\n",
    "    ##################################################################TRAIN##################################################################\n",
    "    model.train()\n",
    "    train_running_loss = 0.0\n",
    "\n",
    "    with tqdm(range(train_num_batches), desc=f\"Epoch {epoch + 1}/{CONFIG['EPOCHS']}\", unit=\"batch\") as t:\n",
    "        for batch_idx in t:\n",
    "            start_idx = batch_idx * CONFIG['BATCH_SIZE']\n",
    "            end_idx = min(start_idx + CONFIG['BATCH_SIZE'], train_num_samples)\n",
    "\n",
    "            # Извлечение батча данных\n",
    "            batch_inputs = train_tensors[start_idx:end_idx]\n",
    "            batch_targets = train_targets[start_idx:end_idx]\n",
    "            \n",
    "            # Обнуление градиентов\n",
    "            optimizer.zero_grad()\n",
    "\n",
    "            # Прямой проход\n",
    "            outputs = model(batch_inputs)\n",
    "\n",
    "            # Вычисление функции потерь\n",
    "            batch_loss = criterion(outputs, batch_targets.unsqueeze(1))\n",
    "\n",
    "            # Обратный проход\n",
    "            batch_loss.backward()\n",
    "            optimizer.step()\n",
    "\n",
    "            train_running_loss += batch_loss.item()\n",
    "            t.set_postfix(train_mean_loss=f\"{train_running_loss / (batch_idx + 1):.6f}\")\n",
    "    \n",
    "    ###EVAL\n",
    "    model.eval()\n",
    "    val_running_loss = 0.0\n",
    "    \n",
    "    outputs_list = []\n",
    "    \n",
    "    with torch.no_grad():\n",
    "        with tqdm(range(val_num_batches), desc=f\"Epoch {epoch + 1}/{CONFIG['EPOCHS']}\", unit=\"batch\") as v:\n",
    "            for batch_idx in v:\n",
    "                start_idx = batch_idx * CONFIG['BATCH_SIZE']\n",
    "                end_idx = min(start_idx + CONFIG['BATCH_SIZE'], val_num_samples)\n",
    "                \n",
    "                batch_inputs = val_tensors[start_idx:end_idx]\n",
    "                batch_targets = val_targets[start_idx:end_idx]\n",
    "    \n",
    "                # Прямой проход\n",
    "                outputs = model(batch_inputs)\n",
    "                \n",
    "                batch_loss = criterion(outputs, batch_targets.unsqueeze(1))\n",
    "                val_running_loss += batch_loss.item()\n",
    "                v.set_postfix(val_mean_loss=f\"{val_running_loss / (batch_idx + 1):.6f}\")\n",
    "        \n",
    "                outputs_list.extend(outputs.cpu().numpy().flatten())\n",
    "    \n",
    "    ###SAVE\n",
    "    row_id_column_name = \"ID\"\n",
    "    y_pred = val[['ID']].copy(deep=True)\n",
    "    y_pred[\"prediction\"] = outputs_list\n",
    "    y_true = val[['ID', 'efs', 'efs_time', 'race_group']].copy(deep=True)\n",
    "    current_score = score(y_true.copy(), y_pred.copy(), row_id_column_name)\n",
    "    if current_score > best_score:  # Для минимизации score (если это метрика типа ошибки)\n",
    "        best_score = current_score\n",
    "        best_epoch = epoch + 1\n",
    "        print(f\"New Best Score: {best_score}, Epoch: {epoch + 1}\")"
   ],
   "metadata": {
    "collapsed": false,
    "ExecuteTime": {
     "end_time": "2024-12-26T18:25:37.241740100Z",
     "start_time": "2024-12-26T18:22:31.479721300Z"
    }
   },
   "id": "9815da53f5d0594f",
   "execution_count": 22
  },
  {
   "cell_type": "code",
   "outputs": [],
   "source": [
    "# New Best Score: 0.6751509147356868, Epoch: 103 1024"
   ],
   "metadata": {
    "collapsed": false,
    "ExecuteTime": {
     "end_time": "2024-12-26T18:25:37.264699200Z",
     "start_time": "2024-12-26T18:25:37.244708Z"
    }
   },
   "id": "631afa6f7d9c12eb",
   "execution_count": 23
  },
  {
   "cell_type": "code",
   "outputs": [
    {
     "data": {
      "text/plain": "0.668747815583013"
     },
     "execution_count": 24,
     "metadata": {},
     "output_type": "execute_result"
    }
   ],
   "source": [
    "best_score"
   ],
   "metadata": {
    "collapsed": false,
    "ExecuteTime": {
     "end_time": "2024-12-26T18:25:37.274655300Z",
     "start_time": "2024-12-26T18:25:37.260703300Z"
    }
   },
   "id": "5269f3a2bcbe6cad",
   "execution_count": 24
  },
  {
   "cell_type": "code",
   "outputs": [
    {
     "data": {
      "text/plain": "243"
     },
     "execution_count": 25,
     "metadata": {},
     "output_type": "execute_result"
    }
   ],
   "source": [
    "best_epoch"
   ],
   "metadata": {
    "collapsed": false,
    "ExecuteTime": {
     "end_time": "2024-12-26T18:25:37.318716600Z",
     "start_time": "2024-12-26T18:25:37.274655300Z"
    }
   },
   "id": "92ceee080d2b8b0b",
   "execution_count": 25
  },
  {
   "cell_type": "code",
   "outputs": [],
   "source": [],
   "metadata": {
    "collapsed": false,
    "ExecuteTime": {
     "end_time": "2024-12-26T18:25:37.318716600Z",
     "start_time": "2024-12-26T18:25:37.289696900Z"
    }
   },
   "id": "ed3db5c6d03d6b30",
   "execution_count": 25
  }
 ],
 "metadata": {
  "kaggle": {
   "accelerator": "gpu",
   "dataSources": [
    {
     "datasetId": 6155403,
     "sourceId": 10000346,
     "sourceType": "datasetVersion"
    }
   ],
   "dockerImageVersionId": 30787,
   "isGpuEnabled": true,
   "isInternetEnabled": true,
   "language": "python",
   "sourceType": "notebook"
  },
  "kernelspec": {
   "display_name": "Python 3",
   "language": "python",
   "name": "python3"
  },
  "language_info": {
   "codemirror_mode": {
    "name": "ipython",
    "version": 3
   },
   "file_extension": ".py",
   "mimetype": "text/x-python",
   "name": "python",
   "nbconvert_exporter": "python",
   "pygments_lexer": "ipython3",
   "version": "3.10.14"
  },
  "papermill": {
   "default_parameters": {},
   "duration": 5460.653933,
   "end_time": "2024-11-25T06:17:15.604943",
   "environment_variables": {},
   "exception": null,
   "input_path": "__notebook__.ipynb",
   "output_path": "__notebook__.ipynb",
   "parameters": {},
   "start_time": "2024-11-25T04:46:14.951010",
   "version": "2.6.0"
  }
 },
 "nbformat": 4,
 "nbformat_minor": 5
}
