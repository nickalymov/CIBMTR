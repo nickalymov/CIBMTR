{
 "cells": [
  {
   "cell_type": "code",
   "outputs": [],
   "source": [
    "import os\n",
    "current_directory = os.getcwd()\n",
    "folder_name = os.path.basename(current_directory)\n",
    "number = folder_name"
   ],
   "metadata": {
    "collapsed": false,
    "ExecuteTime": {
     "end_time": "2024-12-29T05:17:23.605424900Z",
     "start_time": "2024-12-29T05:17:23.572424600Z"
    }
   },
   "id": "98e9eccdccd5addd",
   "execution_count": 1
  },
  {
   "cell_type": "code",
   "outputs": [],
   "source": [
    "CONFIG = {\n",
    "    'data_main': 'C:/Users/Николай/PycharmProjects/CIBMTR/D.Data/main/',\n",
    "    'data_train_process': 'C:/Users/Николай/PycharmProjects/CIBMTR/D.Data/train_process/',\n",
    "    'data_train_split': 'C:/Users/Николай/PycharmProjects/CIBMTR/D.Data/train_split/',\n",
    "    'data_host_process': 'C:/Users/Николай/PycharmProjects/CIBMTR/D.Data/host_process/',\n",
    "    'train_path': 'train.csv',\n",
    "    'folds_path': 'v1.csv', \n",
    "\n",
    "    'DEVICE' : 'cuda',\n",
    "    'SEED' : 42,\n",
    "    'BATCH_SIZE' : 32,\n",
    "    'LR' : 0.001,\n",
    "    'EPOCHS': 500,\n",
    "    'output_dim' : 1\n",
    "}"
   ],
   "metadata": {
    "collapsed": false,
    "ExecuteTime": {
     "end_time": "2024-12-29T05:17:23.618425500Z",
     "start_time": "2024-12-29T05:17:23.592427100Z"
    }
   },
   "id": "4a794a5c2901e728",
   "execution_count": 2
  },
  {
   "cell_type": "code",
   "execution_count": 3,
   "id": "f9ee4882",
   "metadata": {
    "collapsed": false,
    "execution": {
     "iopub.execute_input": "2024-11-25T04:46:17.459651Z",
     "iopub.status.busy": "2024-11-25T04:46:17.459331Z",
     "iopub.status.idle": "2024-11-25T04:46:22.363731Z",
     "shell.execute_reply": "2024-11-25T04:46:22.362971Z"
    },
    "papermill": {
     "duration": 4.91114,
     "end_time": "2024-11-25T04:46:22.365894",
     "exception": false,
     "start_time": "2024-11-25T04:46:17.454754",
     "status": "completed"
    },
    "tags": [],
    "ExecuteTime": {
     "end_time": "2024-12-29T05:17:25.618014700Z",
     "start_time": "2024-12-29T05:17:23.606425200Z"
    }
   },
   "outputs": [],
   "source": [
    "# Import libs\n",
    "import numpy as np\n",
    "from tqdm import tqdm\n",
    "import pandas as pd \n",
    "import torch\n",
    "import torch.nn as nn\n",
    "from torch.optim import Adam\n",
    "import torch.nn.init as init\n",
    "from metric import score"
   ]
  },
  {
   "cell_type": "code",
   "execution_count": 4,
   "id": "6cf61865",
   "metadata": {
    "collapsed": false,
    "execution": {
     "iopub.execute_input": "2024-11-25T04:46:22.376480Z",
     "iopub.status.busy": "2024-11-25T04:46:22.375606Z",
     "iopub.status.idle": "2024-11-25T04:46:22.445552Z",
     "shell.execute_reply": "2024-11-25T04:46:22.444304Z"
    },
    "papermill": {
     "duration": 0.077688,
     "end_time": "2024-11-25T04:46:22.448120",
     "exception": false,
     "start_time": "2024-11-25T04:46:22.370432",
     "status": "completed"
    },
    "tags": [],
    "ExecuteTime": {
     "end_time": "2024-12-29T05:17:26.254810100Z",
     "start_time": "2024-12-29T05:17:25.619906100Z"
    }
   },
   "outputs": [],
   "source": [
    "# Device, torch decimal places and seed for reproducibility\n",
    "device = torch.device(CONFIG['DEVICE'] if torch.cuda.is_available() else \"cpu\")\n",
    "torch.set_printoptions(precision=40) \n",
    "\n",
    "torch.manual_seed(CONFIG['SEED'])  \n",
    "torch.cuda.manual_seed_all(CONFIG['SEED'])  \n",
    "np.random.seed(CONFIG['SEED'])  "
   ]
  },
  {
   "cell_type": "code",
   "outputs": [],
   "source": [
    "train = pd.read_csv(f\"{CONFIG['data_main']}{CONFIG['train_path']}\")\n",
    "host_3 = pd.read_csv(f\"{CONFIG['data_host_process']}3/v1\")\n",
    "train = train.fillna('-1')\n",
    "\n",
    "def map_dri_score(dri_score):\n",
    "    if dri_score in ['Low', 'Intermediate']:\n",
    "        return 'Low/intermediate'\n",
    "    elif dri_score in ['High', 'Very high']:\n",
    "        return 'High/very high'\n",
    "    else:\n",
    "        return '-1'\n",
    "train['dri_gp_score'] = train['dri_score'].apply(map_dri_score)\n",
    "\n",
    "def map_comorbidity_score(comorbidity_score):\n",
    "    if comorbidity_score >= 3:\n",
    "        return '3+'\n",
    "    elif comorbidity_score == 2 or comorbidity_score == 1:\n",
    "        return '1-2'\n",
    "    elif comorbidity_score == 0:\n",
    "        return '0'\n",
    "    else:\n",
    "        return '-1'\n",
    "train['comorbidity_gp_score'] = train['comorbidity_score'].apply(map_dri_score)\n",
    "\n",
    "train['year_hct'] = train['year_hct'].astype(int)\n",
    "def map_year_hct(year_hct):\n",
    "    if year_hct == 2008:\n",
    "        return '2006-2008'\n",
    "    elif year_hct > 2008 and year_hct <= 2011:\n",
    "        return '2009-2011'\n",
    "    elif year_hct > 2011 and year_hct <= 2014:\n",
    "        return '2011-2014'\n",
    "    else:\n",
    "        return '-1'\n",
    "train['year_gp_hct'] = train['year_hct'].apply(map_year_hct)\n",
    "\n",
    "def map_sex_match(sex_match):\n",
    "    if sex_match == 'F/M':\n",
    "        return 'F/M'\n",
    "    else:\n",
    "        return '-1'\n",
    "train['sex_gp_match'] = train['sex_match'].apply(map_sex_match)\n",
    "\n",
    "def map_sex(sex_match):\n",
    "    if '-M' in sex_match:\n",
    "        return 'M'\n",
    "    elif '-F' in sex_match:\n",
    "        return 'F'\n",
    "    else:\n",
    "        return '-1'\n",
    "train['sex'] = train['sex_match'].apply(map_sex)\n",
    "\n",
    "def map_karnofsky_score(karnofsky_score):\n",
    "    if karnofsky_score == '90.0' or karnofsky_score == '100.0':\n",
    "        return '>=90'\n",
    "    elif karnofsky_score == '-1':\n",
    "        return '-1'\n",
    "    else:\n",
    "        return '<90'\n",
    "train['karnofsky_gp_score'] = train['karnofsky_score'].apply(map_karnofsky_score)\n",
    "host_3.drop(columns=['hla_gp_match'], inplace=True)"
   ],
   "metadata": {
    "collapsed": false,
    "ExecuteTime": {
     "end_time": "2024-12-29T05:17:26.474637600Z",
     "start_time": "2024-12-29T05:17:26.256865600Z"
    }
   },
   "id": "685f72646ddcb358",
   "execution_count": 5
  },
  {
   "cell_type": "code",
   "outputs": [],
   "source": [
    "train = pd.concat([train, host_3], ignore_index=True)"
   ],
   "metadata": {
    "collapsed": false,
    "ExecuteTime": {
     "end_time": "2024-12-29T05:17:26.506687600Z",
     "start_time": "2024-12-29T05:17:26.475631600Z"
    }
   },
   "id": "966d7d70af185155",
   "execution_count": 6
  },
  {
   "cell_type": "code",
   "outputs": [],
   "source": [
    "# Load and prepare data\n",
    "\n",
    "for col in ['donor_age', 'age_at_hct']:\n",
    "    train[col] = train[col].astype(int)\n",
    "    \n",
    "train[\"y\"] = train.efs_time.values\n",
    "mx = train.loc[train.efs==1,\"efs_time\"].max()\n",
    "mn = train.loc[train.efs==0,\"efs_time\"].min()\n",
    "train.loc[train.efs==0,\"y\"] = train.loc[train.efs==0,\"y\"] + mx - mn\n",
    "train.y = train.y.rank()\n",
    "train.loc[train.efs==0,\"y\"] += 2*len(train)\n",
    "train.y = train.y / train.y.max()\n",
    "train.y = np.log( train.y )\n",
    "train.y -= train.y.mean()\n",
    "train.y *= -1.0\n",
    "\n",
    "# train['efs_time'] = (train['efs_time'] - train['efs_time'].min()) / (train['efs_time'].max() - train['efs_time'].min())\n",
    "\n",
    "cat_columns = [col for col in train.columns if col not in ['efs', 'efs_time', 'y', 'ID']]\n",
    "train[cat_columns] = train[cat_columns].astype(str)"
   ],
   "metadata": {
    "collapsed": false,
    "ExecuteTime": {
     "end_time": "2024-12-29T05:17:26.694691900Z",
     "start_time": "2024-12-29T05:17:26.513631100Z"
    }
   },
   "id": "ead528618a5bd413",
   "execution_count": 7
  },
  {
   "cell_type": "code",
   "outputs": [
    {
     "data": {
      "text/plain": "               ID                       dri_score psych_disturb    cyto_score  \\\n0             0.0  N/A - non-malignant indication            No            -1   \n1             1.0                    Intermediate            No  Intermediate   \n2             2.0  N/A - non-malignant indication            No            -1   \n3             3.0                            High            No  Intermediate   \n4             4.0                            High            No            -1   \n...           ...                             ...           ...           ...   \n30911  24630461.0                              -1            -1            -1   \n30912  24633158.0                              -1            -1            -1   \n30913  24633924.0                              -1            -1            -1   \n30914  24635360.0                              -1            -1            -1   \n30915  24637850.0                              -1            -1            -1   \n\n      diabetes hla_match_c_high hla_high_res_8          tbi_status arrhythmia  \\\n0           No               -1             -1              No TBI         No   \n1           No              2.0            8.0  TBI +- Other, >cGy         No   \n2           No              2.0            8.0              No TBI         No   \n3           No              2.0            8.0              No TBI         No   \n4           No              2.0            8.0              No TBI         No   \n...        ...              ...            ...                 ...        ...   \n30911       -1               -1             -1                  -1         -1   \n30912       -1               -1             -1                  -1         -1   \n30913       -1               -1             -1                  -1         -1   \n30914       -1               -1             -1                  -1         -1   \n30915       -1               -1             -1                  -1         -1   \n\n      hla_low_res_6  ... hla_low_res_10  efs efs_time      dri_gp_score  \\\n0               6.0  ...           10.0  0.0   42.356                -1   \n1               6.0  ...           10.0  1.0    4.672  Low/intermediate   \n2               6.0  ...           10.0  0.0   19.793                -1   \n3               6.0  ...           10.0  0.0  102.349    High/very high   \n4               6.0  ...           10.0  0.0   16.223    High/very high   \n...             ...  ...            ...  ...      ...               ...   \n30911            -1  ...             -1  1.0    4.380  Low/intermediate   \n30912            -1  ...             -1  1.0    2.960  Low/intermediate   \n30913            -1  ...             -1  1.0    0.790  Low/intermediate   \n30914            -1  ...             -1  0.0    0.230                -1   \n30915            -1  ...             -1  0.0   22.630  Low/intermediate   \n\n      comorbidity_gp_score year_gp_hct sex_gp_match sex karnofsky_gp_score  \\\n0                       -1          -1           -1   F                <90   \n1                       -1   2006-2008           -1   F                <90   \n2                       -1          -1           -1   M                <90   \n3                       -1   2009-2011           -1   M                <90   \n4                       -1          -1           -1   F                <90   \n...                    ...         ...          ...  ..                ...   \n30911                  1-2   2012-2014           -1   M                <90   \n30912                   3+   2012-2014           -1   F                <90   \n30913                  1-2   2012-2014           -1   F                 -1   \n30914                   3+   2012-2014           -1   F                <90   \n30915                   3+   2012-2014           -1   F                <90   \n\n              y  \n0     -1.461133  \n1      1.329045  \n2     -1.383611  \n3     -1.517746  \n4     -1.375527  \n...         ...  \n30911  1.491224  \n30912  2.508494  \n30913  4.260963  \n30914 -1.361068  \n30915 -1.393620  \n\n[30916 rows x 67 columns]",
      "text/html": "<div>\n<style scoped>\n    .dataframe tbody tr th:only-of-type {\n        vertical-align: middle;\n    }\n\n    .dataframe tbody tr th {\n        vertical-align: top;\n    }\n\n    .dataframe thead th {\n        text-align: right;\n    }\n</style>\n<table border=\"1\" class=\"dataframe\">\n  <thead>\n    <tr style=\"text-align: right;\">\n      <th></th>\n      <th>ID</th>\n      <th>dri_score</th>\n      <th>psych_disturb</th>\n      <th>cyto_score</th>\n      <th>diabetes</th>\n      <th>hla_match_c_high</th>\n      <th>hla_high_res_8</th>\n      <th>tbi_status</th>\n      <th>arrhythmia</th>\n      <th>hla_low_res_6</th>\n      <th>...</th>\n      <th>hla_low_res_10</th>\n      <th>efs</th>\n      <th>efs_time</th>\n      <th>dri_gp_score</th>\n      <th>comorbidity_gp_score</th>\n      <th>year_gp_hct</th>\n      <th>sex_gp_match</th>\n      <th>sex</th>\n      <th>karnofsky_gp_score</th>\n      <th>y</th>\n    </tr>\n  </thead>\n  <tbody>\n    <tr>\n      <th>0</th>\n      <td>0.0</td>\n      <td>N/A - non-malignant indication</td>\n      <td>No</td>\n      <td>-1</td>\n      <td>No</td>\n      <td>-1</td>\n      <td>-1</td>\n      <td>No TBI</td>\n      <td>No</td>\n      <td>6.0</td>\n      <td>...</td>\n      <td>10.0</td>\n      <td>0.0</td>\n      <td>42.356</td>\n      <td>-1</td>\n      <td>-1</td>\n      <td>-1</td>\n      <td>-1</td>\n      <td>F</td>\n      <td>&lt;90</td>\n      <td>-1.461133</td>\n    </tr>\n    <tr>\n      <th>1</th>\n      <td>1.0</td>\n      <td>Intermediate</td>\n      <td>No</td>\n      <td>Intermediate</td>\n      <td>No</td>\n      <td>2.0</td>\n      <td>8.0</td>\n      <td>TBI +- Other, &gt;cGy</td>\n      <td>No</td>\n      <td>6.0</td>\n      <td>...</td>\n      <td>10.0</td>\n      <td>1.0</td>\n      <td>4.672</td>\n      <td>Low/intermediate</td>\n      <td>-1</td>\n      <td>2006-2008</td>\n      <td>-1</td>\n      <td>F</td>\n      <td>&lt;90</td>\n      <td>1.329045</td>\n    </tr>\n    <tr>\n      <th>2</th>\n      <td>2.0</td>\n      <td>N/A - non-malignant indication</td>\n      <td>No</td>\n      <td>-1</td>\n      <td>No</td>\n      <td>2.0</td>\n      <td>8.0</td>\n      <td>No TBI</td>\n      <td>No</td>\n      <td>6.0</td>\n      <td>...</td>\n      <td>10.0</td>\n      <td>0.0</td>\n      <td>19.793</td>\n      <td>-1</td>\n      <td>-1</td>\n      <td>-1</td>\n      <td>-1</td>\n      <td>M</td>\n      <td>&lt;90</td>\n      <td>-1.383611</td>\n    </tr>\n    <tr>\n      <th>3</th>\n      <td>3.0</td>\n      <td>High</td>\n      <td>No</td>\n      <td>Intermediate</td>\n      <td>No</td>\n      <td>2.0</td>\n      <td>8.0</td>\n      <td>No TBI</td>\n      <td>No</td>\n      <td>6.0</td>\n      <td>...</td>\n      <td>10.0</td>\n      <td>0.0</td>\n      <td>102.349</td>\n      <td>High/very high</td>\n      <td>-1</td>\n      <td>2009-2011</td>\n      <td>-1</td>\n      <td>M</td>\n      <td>&lt;90</td>\n      <td>-1.517746</td>\n    </tr>\n    <tr>\n      <th>4</th>\n      <td>4.0</td>\n      <td>High</td>\n      <td>No</td>\n      <td>-1</td>\n      <td>No</td>\n      <td>2.0</td>\n      <td>8.0</td>\n      <td>No TBI</td>\n      <td>No</td>\n      <td>6.0</td>\n      <td>...</td>\n      <td>10.0</td>\n      <td>0.0</td>\n      <td>16.223</td>\n      <td>High/very high</td>\n      <td>-1</td>\n      <td>-1</td>\n      <td>-1</td>\n      <td>F</td>\n      <td>&lt;90</td>\n      <td>-1.375527</td>\n    </tr>\n    <tr>\n      <th>...</th>\n      <td>...</td>\n      <td>...</td>\n      <td>...</td>\n      <td>...</td>\n      <td>...</td>\n      <td>...</td>\n      <td>...</td>\n      <td>...</td>\n      <td>...</td>\n      <td>...</td>\n      <td>...</td>\n      <td>...</td>\n      <td>...</td>\n      <td>...</td>\n      <td>...</td>\n      <td>...</td>\n      <td>...</td>\n      <td>...</td>\n      <td>...</td>\n      <td>...</td>\n      <td>...</td>\n    </tr>\n    <tr>\n      <th>30911</th>\n      <td>24630461.0</td>\n      <td>-1</td>\n      <td>-1</td>\n      <td>-1</td>\n      <td>-1</td>\n      <td>-1</td>\n      <td>-1</td>\n      <td>-1</td>\n      <td>-1</td>\n      <td>-1</td>\n      <td>...</td>\n      <td>-1</td>\n      <td>1.0</td>\n      <td>4.380</td>\n      <td>Low/intermediate</td>\n      <td>1-2</td>\n      <td>2012-2014</td>\n      <td>-1</td>\n      <td>M</td>\n      <td>&lt;90</td>\n      <td>1.491224</td>\n    </tr>\n    <tr>\n      <th>30912</th>\n      <td>24633158.0</td>\n      <td>-1</td>\n      <td>-1</td>\n      <td>-1</td>\n      <td>-1</td>\n      <td>-1</td>\n      <td>-1</td>\n      <td>-1</td>\n      <td>-1</td>\n      <td>-1</td>\n      <td>...</td>\n      <td>-1</td>\n      <td>1.0</td>\n      <td>2.960</td>\n      <td>Low/intermediate</td>\n      <td>3+</td>\n      <td>2012-2014</td>\n      <td>-1</td>\n      <td>F</td>\n      <td>&lt;90</td>\n      <td>2.508494</td>\n    </tr>\n    <tr>\n      <th>30913</th>\n      <td>24633924.0</td>\n      <td>-1</td>\n      <td>-1</td>\n      <td>-1</td>\n      <td>-1</td>\n      <td>-1</td>\n      <td>-1</td>\n      <td>-1</td>\n      <td>-1</td>\n      <td>-1</td>\n      <td>...</td>\n      <td>-1</td>\n      <td>1.0</td>\n      <td>0.790</td>\n      <td>Low/intermediate</td>\n      <td>1-2</td>\n      <td>2012-2014</td>\n      <td>-1</td>\n      <td>F</td>\n      <td>-1</td>\n      <td>4.260963</td>\n    </tr>\n    <tr>\n      <th>30914</th>\n      <td>24635360.0</td>\n      <td>-1</td>\n      <td>-1</td>\n      <td>-1</td>\n      <td>-1</td>\n      <td>-1</td>\n      <td>-1</td>\n      <td>-1</td>\n      <td>-1</td>\n      <td>-1</td>\n      <td>...</td>\n      <td>-1</td>\n      <td>0.0</td>\n      <td>0.230</td>\n      <td>-1</td>\n      <td>3+</td>\n      <td>2012-2014</td>\n      <td>-1</td>\n      <td>F</td>\n      <td>&lt;90</td>\n      <td>-1.361068</td>\n    </tr>\n    <tr>\n      <th>30915</th>\n      <td>24637850.0</td>\n      <td>-1</td>\n      <td>-1</td>\n      <td>-1</td>\n      <td>-1</td>\n      <td>-1</td>\n      <td>-1</td>\n      <td>-1</td>\n      <td>-1</td>\n      <td>-1</td>\n      <td>...</td>\n      <td>-1</td>\n      <td>0.0</td>\n      <td>22.630</td>\n      <td>Low/intermediate</td>\n      <td>3+</td>\n      <td>2012-2014</td>\n      <td>-1</td>\n      <td>F</td>\n      <td>&lt;90</td>\n      <td>-1.393620</td>\n    </tr>\n  </tbody>\n</table>\n<p>30916 rows × 67 columns</p>\n</div>"
     },
     "execution_count": 8,
     "metadata": {},
     "output_type": "execute_result"
    }
   ],
   "source": [
    "train"
   ],
   "metadata": {
    "collapsed": false,
    "ExecuteTime": {
     "end_time": "2024-12-29T05:17:26.756675500Z",
     "start_time": "2024-12-29T05:17:26.697639700Z"
    }
   },
   "id": "e093c788770cea4a",
   "execution_count": 8
  },
  {
   "cell_type": "code",
   "outputs": [],
   "source": [
    "folds = pd.read_csv(f\"{CONFIG['data_train_split']}{CONFIG['folds_path']}\")\n",
    "len_host_3 = len(host_3)\n",
    "\n",
    "# Создаем DataFrame с длиной host_3 и значением 1 для 'fold'\n",
    "new_folds = pd.DataFrame({\n",
    "    'fold': [1] * len_host_3\n",
    "})\n",
    "\n",
    "# Расширяем folds, добавляя new_folds\n",
    "folds = pd.concat([folds, new_folds], ignore_index=True)\n",
    "val = train[folds['fold'] == 0].copy(deep=True)\n",
    "train = train[folds['fold'].isin([1, 2, 3, 4])].copy(deep=True)\n",
    "val.reset_index(drop=True, inplace=True)\n",
    "train.reset_index(drop=True, inplace=True)"
   ],
   "metadata": {
    "collapsed": false,
    "execution": {
     "iopub.execute_input": "2024-11-25T04:46:22.463105Z",
     "iopub.status.busy": "2024-11-25T04:46:22.462120Z",
     "iopub.status.idle": "2024-11-25T04:46:36.958670Z",
     "shell.execute_reply": "2024-11-25T04:46:36.957928Z"
    },
    "papermill": {
     "duration": 14.504329,
     "end_time": "2024-11-25T04:46:36.960715",
     "exception": false,
     "start_time": "2024-11-25T04:46:22.456386",
     "status": "completed"
    },
    "tags": [],
    "ExecuteTime": {
     "end_time": "2024-12-29T05:17:26.882652600Z",
     "start_time": "2024-12-29T05:17:26.759632800Z"
    }
   },
   "id": "3dfa6723",
   "execution_count": 9
  },
  {
   "cell_type": "code",
   "outputs": [],
   "source": [
    "train_one_hot = pd.get_dummies(train[cat_columns], drop_first=True)\n",
    "val_one_hot = pd.get_dummies(val[cat_columns], drop_first=True)\n",
    "val_one_hot = val_one_hot.reindex(columns=train_one_hot.columns, fill_value=False)"
   ],
   "metadata": {
    "collapsed": false,
    "ExecuteTime": {
     "end_time": "2024-12-29T05:17:27.059631800Z",
     "start_time": "2024-12-29T05:17:26.886672300Z"
    }
   },
   "id": "a4023592ce465a05",
   "execution_count": 10
  },
  {
   "cell_type": "code",
   "outputs": [],
   "source": [
    "input_dim = train_one_hot.shape[1]"
   ],
   "metadata": {
    "collapsed": false,
    "ExecuteTime": {
     "end_time": "2024-12-29T05:17:27.075641700Z",
     "start_time": "2024-12-29T05:17:27.060680100Z"
    }
   },
   "id": "7203f96cf36f7ac0",
   "execution_count": 11
  },
  {
   "cell_type": "code",
   "outputs": [],
   "source": [
    "# Model definition\n",
    "class Model(nn.Module):\n",
    "    def __init__(self, input_dim, output_dim=CONFIG['output_dim']):\n",
    "        super(Model, self).__init__()\n",
    "    \n",
    "        self.fc1 = nn.Linear(input_dim, input_dim)\n",
    "        self.fc2 = nn.Linear(input_dim, input_dim)\n",
    "        self.fc3 = nn.Linear(input_dim, input_dim)\n",
    "        self.fc4 = nn.Linear(input_dim, output_dim)\n",
    "        \n",
    "        self.relu = nn.ReLU()\n",
    "        self.do = nn.Dropout(p=0.5)\n",
    "        \n",
    "        self.init_weights()\n",
    "    \n",
    "    def init_weights(self):\n",
    "        init.xavier_uniform_(self.fc1.weight)\n",
    "        init.xavier_uniform_(self.fc2.weight)\n",
    "        init.xavier_uniform_(self.fc3.weight)\n",
    "        init.xavier_uniform_(self.fc4.weight)\n",
    "    \n",
    "        self.fc1.weight.data = torch.clamp(self.fc1.weight.data, 0, 1)\n",
    "        self.fc2.weight.data = torch.clamp(self.fc2.weight.data, 0, 1)\n",
    "        self.fc3.weight.data = torch.clamp(self.fc3.weight.data, 0, 1)\n",
    "        self.fc4.weight.data = torch.clamp(self.fc4.weight.data, 0, 1)\n",
    "        \n",
    "        if self.fc1.bias is not None:\n",
    "            init.zeros_(self.fc1.bias)\n",
    "        if self.fc2.bias is not None:\n",
    "            init.zeros_(self.fc2.bias)\n",
    "        if self.fc3.bias is not None:\n",
    "            init.zeros_(self.fc3.bias)\n",
    "        if self.fc4.bias is not None:\n",
    "            init.zeros_(self.fc4.bias)\n",
    "        \n",
    "    def forward(self, x):\n",
    "\n",
    "        x = self.relu(self.fc1(x))\n",
    "        x = self.do(x)\n",
    "        x = self.relu(self.fc2(x))\n",
    "        x = self.do(x)\n",
    "        x = self.relu(self.fc3(x))\n",
    "        x = self.do(x)\n",
    "        x = self.fc4(x)\n",
    "        \n",
    "        return x"
   ],
   "metadata": {
    "collapsed": false,
    "ExecuteTime": {
     "end_time": "2024-12-29T05:17:27.096623100Z",
     "start_time": "2024-12-29T05:17:27.078631Z"
    }
   },
   "id": "769b210d304532d1",
   "execution_count": 12
  },
  {
   "cell_type": "code",
   "execution_count": 13,
   "id": "ae46951b",
   "metadata": {
    "collapsed": false,
    "execution": {
     "iopub.execute_input": "2024-11-25T04:46:40.465946Z",
     "iopub.status.busy": "2024-11-25T04:46:40.465691Z",
     "iopub.status.idle": "2024-11-25T04:46:41.656166Z",
     "shell.execute_reply": "2024-11-25T04:46:41.655167Z"
    },
    "papermill": {
     "duration": 1.197018,
     "end_time": "2024-11-25T04:46:41.658294",
     "exception": false,
     "start_time": "2024-11-25T04:46:40.461276",
     "status": "completed"
    },
    "tags": [],
    "ExecuteTime": {
     "end_time": "2024-12-29T05:17:28.614434700Z",
     "start_time": "2024-12-29T05:17:27.092625600Z"
    }
   },
   "outputs": [],
   "source": [
    "# Model, criterion and optimizer\n",
    "model = Model(input_dim).to(device)\n",
    "criterion = nn.MSELoss()\n",
    "optimizer = Adam(model.parameters(), lr=CONFIG['LR'])"
   ]
  },
  {
   "cell_type": "code",
   "outputs": [],
   "source": [
    "train_tensors = torch.tensor(train_one_hot.values, device=device, dtype=torch.float32)\n",
    "\n",
    "train_targets = torch.tensor(train['y'].values, device=device, dtype=torch.float32)\n",
    "\n",
    "val_tensors = torch.tensor(val_one_hot.values, device=device, dtype=torch.float32)\n",
    "\n",
    "val_targets = torch.tensor(val['y'].values, device=device, dtype=torch.float32)"
   ],
   "metadata": {
    "collapsed": false,
    "ExecuteTime": {
     "end_time": "2024-12-29T05:17:28.691360900Z",
     "start_time": "2024-12-29T05:17:28.617369200Z"
    }
   },
   "id": "2bed9b1ed476d50a",
   "execution_count": 14
  },
  {
   "cell_type": "code",
   "outputs": [
    {
     "name": "stderr",
     "output_type": "stream",
     "text": [
      "Epoch 1/500: 100%|██████████| 787/787 [00:02<00:00, 312.76batch/s, train_mean_loss=6423.696341] \n",
      "Epoch 1/500: 100%|██████████| 180/180 [00:00<00:00, 730.91batch/s, val_mean_loss=2.026062]\n"
     ]
    },
    {
     "name": "stdout",
     "output_type": "stream",
     "text": [
      "New Best Score: 0.5145202288736127, Epoch: 1\n"
     ]
    },
    {
     "name": "stderr",
     "output_type": "stream",
     "text": [
      "Epoch 2/500: 100%|██████████| 787/787 [00:02<00:00, 317.24batch/s, train_mean_loss=11.304232]\n",
      "Epoch 2/500: 100%|██████████| 180/180 [00:00<00:00, 737.73batch/s, val_mean_loss=2.084354]\n"
     ]
    },
    {
     "name": "stdout",
     "output_type": "stream",
     "text": [
      "New Best Score: 0.52784445541362, Epoch: 2\n"
     ]
    },
    {
     "name": "stderr",
     "output_type": "stream",
     "text": [
      "Epoch 3/500: 100%|██████████| 787/787 [00:02<00:00, 317.73batch/s, train_mean_loss=7.659294]\n",
      "Epoch 3/500: 100%|██████████| 180/180 [00:00<00:00, 765.93batch/s, val_mean_loss=2.093512]\n"
     ]
    },
    {
     "name": "stdout",
     "output_type": "stream",
     "text": [
      "New Best Score: 0.5400412631412076, Epoch: 3\n"
     ]
    },
    {
     "name": "stderr",
     "output_type": "stream",
     "text": [
      "Epoch 4/500: 100%|██████████| 787/787 [00:02<00:00, 279.70batch/s, train_mean_loss=5.194554]\n",
      "Epoch 4/500: 100%|██████████| 180/180 [00:00<00:00, 801.58batch/s, val_mean_loss=2.109370]\n"
     ]
    },
    {
     "name": "stdout",
     "output_type": "stream",
     "text": [
      "New Best Score: 0.552962207833304, Epoch: 4\n"
     ]
    },
    {
     "name": "stderr",
     "output_type": "stream",
     "text": [
      "Epoch 5/500: 100%|██████████| 787/787 [00:03<00:00, 231.35batch/s, train_mean_loss=3.835294]\n",
      "Epoch 5/500: 100%|██████████| 180/180 [00:00<00:00, 578.82batch/s, val_mean_loss=2.085985]\n"
     ]
    },
    {
     "name": "stdout",
     "output_type": "stream",
     "text": [
      "New Best Score: 0.5672983271283342, Epoch: 5\n"
     ]
    },
    {
     "name": "stderr",
     "output_type": "stream",
     "text": [
      "Epoch 6/500: 100%|██████████| 787/787 [00:03<00:00, 225.07batch/s, train_mean_loss=3.039939]\n",
      "Epoch 6/500: 100%|██████████| 180/180 [00:00<00:00, 725.72batch/s, val_mean_loss=2.030792]\n"
     ]
    },
    {
     "name": "stdout",
     "output_type": "stream",
     "text": [
      "New Best Score: 0.5842906711820415, Epoch: 6\n"
     ]
    },
    {
     "name": "stderr",
     "output_type": "stream",
     "text": [
      "Epoch 7/500: 100%|██████████| 787/787 [00:03<00:00, 226.81batch/s, train_mean_loss=2.599604]\n",
      "Epoch 7/500: 100%|██████████| 180/180 [00:00<00:00, 760.23batch/s, val_mean_loss=1.963716]\n"
     ]
    },
    {
     "name": "stdout",
     "output_type": "stream",
     "text": [
      "New Best Score: 0.6014880970898935, Epoch: 7\n"
     ]
    },
    {
     "name": "stderr",
     "output_type": "stream",
     "text": [
      "Epoch 8/500:  43%|████▎     | 335/787 [00:01<00:01, 226.51batch/s, train_mean_loss=2.088144]"
     ]
    }
   ],
   "source": [
    "# Training\n",
    "train_num_samples = len(train)\n",
    "train_num_batches = (train_num_samples + CONFIG['BATCH_SIZE'] - 1) // CONFIG['BATCH_SIZE']\n",
    "\n",
    "val_num_samples = len(val)\n",
    "val_num_batches = (val_num_samples + CONFIG['BATCH_SIZE'] - 1) // CONFIG['BATCH_SIZE']\n",
    "best_score = float('-inf')\n",
    "for epoch in range(CONFIG['EPOCHS']):\n",
    "    ##################################################################TRAIN##################################################################\n",
    "    model.train()\n",
    "    train_running_loss = 0.0\n",
    "\n",
    "    with tqdm(range(train_num_batches), desc=f\"Epoch {epoch + 1}/{CONFIG['EPOCHS']}\", unit=\"batch\") as t:\n",
    "        for batch_idx in t:\n",
    "            start_idx = batch_idx * CONFIG['BATCH_SIZE']\n",
    "            end_idx = min(start_idx + CONFIG['BATCH_SIZE'], train_num_samples)\n",
    "\n",
    "            # Извлечение батча данных\n",
    "            batch_inputs = train_tensors[start_idx:end_idx]\n",
    "            batch_targets = train_targets[start_idx:end_idx]\n",
    "            \n",
    "            # Обнуление градиентов\n",
    "            optimizer.zero_grad()\n",
    "\n",
    "            # Прямой проход\n",
    "            outputs = model(batch_inputs)\n",
    "\n",
    "            # Вычисление функции потерь\n",
    "            batch_loss = criterion(outputs, batch_targets.unsqueeze(1))\n",
    "\n",
    "            # Обратный проход\n",
    "            batch_loss.backward()\n",
    "            optimizer.step()\n",
    "\n",
    "            train_running_loss += batch_loss.item()\n",
    "            t.set_postfix(train_mean_loss=f\"{train_running_loss / (batch_idx + 1):.6f}\")\n",
    "    \n",
    "    ###EVAL\n",
    "    model.eval()\n",
    "    val_running_loss = 0.0\n",
    "    \n",
    "    outputs_list = []\n",
    "    \n",
    "    with torch.no_grad():\n",
    "        with tqdm(range(val_num_batches), desc=f\"Epoch {epoch + 1}/{CONFIG['EPOCHS']}\", unit=\"batch\") as v:\n",
    "            for batch_idx in v:\n",
    "                start_idx = batch_idx * CONFIG['BATCH_SIZE']\n",
    "                end_idx = min(start_idx + CONFIG['BATCH_SIZE'], val_num_samples)\n",
    "                \n",
    "                batch_inputs = val_tensors[start_idx:end_idx]\n",
    "                batch_targets = val_targets[start_idx:end_idx]\n",
    "    \n",
    "                # Прямой проход\n",
    "                outputs = model(batch_inputs)\n",
    "                \n",
    "                batch_loss = criterion(outputs, batch_targets.unsqueeze(1))\n",
    "                val_running_loss += batch_loss.item()\n",
    "                v.set_postfix(val_mean_loss=f\"{val_running_loss / (batch_idx + 1):.6f}\")\n",
    "        \n",
    "                outputs_list.extend(outputs.cpu().numpy().flatten())\n",
    "    \n",
    "    ###SAVE\n",
    "    row_id_column_name = \"ID\"\n",
    "    y_pred = val[['ID']].copy(deep=True)\n",
    "    y_pred[\"prediction\"] = outputs_list\n",
    "    y_true = val[['ID', 'efs', 'efs_time', 'race_group']].copy(deep=True)\n",
    "    current_score = score(y_true.copy(), y_pred.copy(), row_id_column_name)\n",
    "    if current_score > best_score:  # Для минимизации score (если это метрика типа ошибки)\n",
    "        best_score = current_score\n",
    "        best_epoch = epoch + 1\n",
    "        print(f\"New Best Score: {best_score}, Epoch: {epoch + 1}\")"
   ],
   "metadata": {
    "collapsed": false,
    "is_executing": true,
    "ExecuteTime": {
     "start_time": "2024-12-29T05:17:28.699357100Z"
    }
   },
   "id": "9815da53f5d0594f",
   "execution_count": null
  },
  {
   "cell_type": "code",
   "outputs": [],
   "source": [
    "# 5_folds\n",
    "# fold_0, epoch_151 , score_0.6634\n",
    "# fold_1, epoch_150 , score_0.6627\n",
    "# fold_2, epoch_138 , score_0.6600\n",
    "# fold_3, epoch_143 , score_0.665\n",
    "# fold_4, epoch_147 , score_0.6692\n",
    "\n",
    "# 4_folds\n",
    "# fold_0, epoch_192 , score_0.6623\n",
    "# fold_1, epoch_191 , score_0.6586\n",
    "# fold_2, epoch_183 , score_0.6615\n",
    "# fold_3, epoch_196 , score_0.6584"
   ],
   "metadata": {
    "collapsed": false,
    "is_executing": true
   },
   "id": "631afa6f7d9c12eb",
   "execution_count": null
  },
  {
   "cell_type": "code",
   "outputs": [],
   "source": [
    "best_score"
   ],
   "metadata": {
    "collapsed": false,
    "is_executing": true
   },
   "id": "5269f3a2bcbe6cad",
   "execution_count": null
  },
  {
   "cell_type": "code",
   "outputs": [],
   "source": [
    "best_epoch"
   ],
   "metadata": {
    "collapsed": false,
    "is_executing": true
   },
   "id": "92ceee080d2b8b0b",
   "execution_count": null
  },
  {
   "cell_type": "code",
   "outputs": [],
   "source": [
    "train"
   ],
   "metadata": {
    "collapsed": false,
    "is_executing": true
   },
   "id": "ed3db5c6d03d6b30",
   "execution_count": null
  },
  {
   "cell_type": "code",
   "outputs": [],
   "source": [
    "train['cyto_score']"
   ],
   "metadata": {
    "collapsed": false,
    "is_executing": true
   },
   "id": "12ec26ccba408205",
   "execution_count": null
  },
  {
   "cell_type": "code",
   "outputs": [],
   "source": [
    "len_host_3"
   ],
   "metadata": {
    "collapsed": false,
    "is_executing": true
   },
   "id": "45e00d0c2f32418e",
   "execution_count": null
  },
  {
   "cell_type": "code",
   "outputs": [],
   "source": [
    "train.tail(len_host_3)"
   ],
   "metadata": {
    "collapsed": false,
    "is_executing": true
   },
   "id": "f2d27fd31ce08755",
   "execution_count": null
  },
  {
   "cell_type": "code",
   "outputs": [],
   "source": [],
   "metadata": {
    "collapsed": false,
    "is_executing": true
   },
   "id": "ff34c01e2c54e51"
  }
 ],
 "metadata": {
  "kaggle": {
   "accelerator": "gpu",
   "dataSources": [
    {
     "datasetId": 6155403,
     "sourceId": 10000346,
     "sourceType": "datasetVersion"
    }
   ],
   "dockerImageVersionId": 30787,
   "isGpuEnabled": true,
   "isInternetEnabled": true,
   "language": "python",
   "sourceType": "notebook"
  },
  "kernelspec": {
   "display_name": "Python 3",
   "language": "python",
   "name": "python3"
  },
  "language_info": {
   "codemirror_mode": {
    "name": "ipython",
    "version": 3
   },
   "file_extension": ".py",
   "mimetype": "text/x-python",
   "name": "python",
   "nbconvert_exporter": "python",
   "pygments_lexer": "ipython3",
   "version": "3.10.14"
  },
  "papermill": {
   "default_parameters": {},
   "duration": 5460.653933,
   "end_time": "2024-11-25T06:17:15.604943",
   "environment_variables": {},
   "exception": null,
   "input_path": "__notebook__.ipynb",
   "output_path": "__notebook__.ipynb",
   "parameters": {},
   "start_time": "2024-11-25T04:46:14.951010",
   "version": "2.6.0"
  }
 },
 "nbformat": 4,
 "nbformat_minor": 5
}
